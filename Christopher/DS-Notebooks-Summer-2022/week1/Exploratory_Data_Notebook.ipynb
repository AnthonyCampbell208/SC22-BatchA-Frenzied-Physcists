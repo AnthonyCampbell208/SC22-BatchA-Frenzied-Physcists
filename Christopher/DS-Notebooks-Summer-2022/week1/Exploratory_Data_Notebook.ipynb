{
 "cells": [
  {
   "cell_type": "markdown",
   "metadata": {
    "collapsed": false
   },
   "source": [
    "# Are There Associations With University Tuition & Professional Pay on a State-by-State Basis?\n",
    "\n",
    "### Also, How to Conduct Basic Exploratory Data Analysis\n",
    "\n",
    "Feel free to keep this notebook open, download your own dataset, and follow along with what may be applicable to YOU. <br> Keep in mind, you will almost certainly want to find other ways to manipulate your data. <br> Python has a TON of user created documentation on sites like Stack Overflow.<br> I would recommend searching \"[WhatINeedToDoWithMyDataframe], pandas\" on Google.\n",
    "\n"
   ]
  },
  {
   "cell_type": "markdown",
   "metadata": {
    "collapsed": false
   },
   "source": [
    "## Table Of Contents:\n",
    "\n",
    "* [Import Packages and Define Functions](#Import)\n",
    "* [Loading Data](#Load)\n",
    "* [Exploring Data](#Explore)\n",
    "* [Cleaning Data](#Clean)\n",
    "* [Analyzing Data](#Analyze)\n",
    "* [Visualizing Data](#Visual)\n",
    "\n"
   ]
  },
  {
   "cell_type": "markdown",
   "metadata": {
    "collapsed": false
   },
   "source": [
    "### Import Packages and Define Functions <a class=\"anchor\" id=\"Import\"></a>\n",
    "##### You should have a section that imports necessary packages and defines any functions at the top of every notebook, anyone know why?"
   ]
  },
  {
   "cell_type": "markdown",
   "metadata": {
    "collapsed": false
   },
   "source": [
    "<details> If packages are not imported before they are used, you will receive errors. \n",
    "    <br> It is easiest to 'run all' cells which will go from top to bottom when coming back to your notebook after a break. </details>"
   ]
  },
  {
   "cell_type": "markdown",
   "metadata": {
    "collapsed": false
   },
   "source": [
    "##### This section will start almost empty, you will add to it as you import new packages and define function.\n",
    "- I always recommend starting with 'import pandas as pd' for dataframe management\n",
    "* Here is the pandas docs - https://pandas.pydata.org/docs/reference/index.html#api\n",
    "- Otherwise you can ignore these for now"
   ]
  },
  {
   "cell_type": "code",
   "execution_count": 17,
   "metadata": {
    "collapsed": false
   },
   "outputs": [
   ],
   "source": [
    "import pandas as pd\n",
    "import plotly.express as px"
   ]
  },
  {
   "cell_type": "code",
   "execution_count": 0,
   "metadata": {
    "collapsed": false
   },
   "outputs": [
   ],
   "source": [
    "fig = "
   ]
  },
  {
   "cell_type": "code",
   "execution_count": 2,
   "metadata": {
    "collapsed": false
   },
   "outputs": [
   ],
   "source": [
    "abc"
   ]
  },
  {
   "cell_type": "markdown",
   "metadata": {
    "collapsed": false
   },
   "source": [
    "## Loading Data <a class=\"anchor\" id=\"Load\"></a>\n",
    "\n",
    "- It is best practice keeping this section clean so you know every piece of data you are importing\n",
    "- You will run into errors if you try and reference data before you have loaded it\n",
    "- Keeping data in a 'Data' folder is best for organization too\n",
    "\n"
   ]
  },
  {
   "cell_type": "code",
   "execution_count": 8,
   "metadata": {
    "collapsed": false
   },
   "outputs": [
   ],
   "source": [
    "# make sure you have these files\n",
    "minerals_database = pd.read_csv(\"./Data/Minerals_Database.csv\")\n",
    "tuition = pd.read_csv(\"./Data/tuition_cost.csv\")"
   ]
  },
  {
   "cell_type": "markdown",
   "metadata": {
    "collapsed": false
   },
   "source": [
    "What does the './' ahead of our folder name do?\n",
    "\n",
    "<details> Pathing is more complex than you might think. The program does not know where to look for your file. \n",
    "    <br> Adding ./ tells the program to start looking from the location where this Notebook is located </details>\n",
    "\n"
   ]
  },
  {
   "cell_type": "markdown",
   "metadata": {
    "collapsed": false
   },
   "source": [
    "## Exploring Our Data <a class=\"anchor\" id=\"Explore\"></a>\n",
    "\n",
    "- Here is where we want to inform ourselves on the nitty gritty of what information our data actually holds\n",
    "- How much, what type, is there anything missing, what columns do I need & not need, etc. \n",
    "\n"
   ]
  },
  {
   "cell_type": "markdown",
   "metadata": {
    "collapsed": false
   },
   "source": [
    "##### Using .head() [first 5 rows] and .tail() [last 5 rows] is a great way to get a first look at our data"
   ]
  },
  {
   "cell_type": "code",
   "execution_count": 13,
   "metadata": {
    "collapsed": false
   },
   "outputs": [
    {
     "data": {
      "text/html": [
       "<div>\n",
       "<style scoped>\n",
       "    .dataframe tbody tr th:only-of-type {\n",
       "        vertical-align: middle;\n",
       "    }\n",
       "\n",
       "    .dataframe tbody tr th {\n",
       "        vertical-align: top;\n",
       "    }\n",
       "\n",
       "    .dataframe thead th {\n",
       "        text-align: right;\n",
       "    }\n",
       "</style>\n",
       "<table border=\"1\" class=\"dataframe\">\n",
       "  <thead>\n",
       "    <tr style=\"text-align: right;\">\n",
       "      <th></th>\n",
       "      <th>Unnamed: 0</th>\n",
       "      <th>Name</th>\n",
       "      <th>Crystal Structure</th>\n",
       "      <th>Mohs Hardness</th>\n",
       "      <th>Diaphaneity</th>\n",
       "      <th>Specific Gravity</th>\n",
       "      <th>Optical</th>\n",
       "      <th>Refractive Index</th>\n",
       "      <th>Dispersion</th>\n",
       "      <th>Hydrogen</th>\n",
       "      <th>...</th>\n",
       "      <th>Acetate</th>\n",
       "      <th>Phosphate</th>\n",
       "      <th>Sulphate</th>\n",
       "      <th>Carbonate</th>\n",
       "      <th>Ammonium</th>\n",
       "      <th>Hydrated Water</th>\n",
       "      <th>count</th>\n",
       "      <th>Molar Mass</th>\n",
       "      <th>Molar Volume</th>\n",
       "      <th>Calculated Density</th>\n",
       "    </tr>\n",
       "  </thead>\n",
       "  <tbody>\n",
       "    <tr>\n",
       "      <th>0</th>\n",
       "      <td>0</td>\n",
       "      <td>Abenakiite-(Ce)</td>\n",
       "      <td>5.0</td>\n",
       "      <td>4.50</td>\n",
       "      <td>0.0</td>\n",
       "      <td>3.240</td>\n",
       "      <td>3.0</td>\n",
       "      <td>1.580</td>\n",
       "      <td>0.0</td>\n",
       "      <td>0.0</td>\n",
       "      <td>...</td>\n",
       "      <td>0.0</td>\n",
       "      <td>0.0</td>\n",
       "      <td>0.0</td>\n",
       "      <td>0.0</td>\n",
       "      <td>0.0</td>\n",
       "      <td>0.0</td>\n",
       "      <td>23.0</td>\n",
       "      <td>817.339002</td>\n",
       "      <td>0.123390</td>\n",
       "      <td>5.498</td>\n",
       "    </tr>\n",
       "    <tr>\n",
       "      <th>1</th>\n",
       "      <td>1</td>\n",
       "      <td>Abernathyite</td>\n",
       "      <td>4.0</td>\n",
       "      <td>2.75</td>\n",
       "      <td>3.0</td>\n",
       "      <td>3.446</td>\n",
       "      <td>3.0</td>\n",
       "      <td>1.592</td>\n",
       "      <td>0.0</td>\n",
       "      <td>1.0</td>\n",
       "      <td>...</td>\n",
       "      <td>0.0</td>\n",
       "      <td>0.0</td>\n",
       "      <td>0.0</td>\n",
       "      <td>0.0</td>\n",
       "      <td>0.0</td>\n",
       "      <td>1.0</td>\n",
       "      <td>9.0</td>\n",
       "      <td>435.069330</td>\n",
       "      <td>0.056083</td>\n",
       "      <td>6.439</td>\n",
       "    </tr>\n",
       "    <tr>\n",
       "      <th>2</th>\n",
       "      <td>2</td>\n",
       "      <td>Abhurite</td>\n",
       "      <td>5.0</td>\n",
       "      <td>2.00</td>\n",
       "      <td>3.0</td>\n",
       "      <td>4.420</td>\n",
       "      <td>3.0</td>\n",
       "      <td>2.085</td>\n",
       "      <td>0.0</td>\n",
       "      <td>3.0</td>\n",
       "      <td>...</td>\n",
       "      <td>0.0</td>\n",
       "      <td>0.0</td>\n",
       "      <td>0.0</td>\n",
       "      <td>0.0</td>\n",
       "      <td>0.0</td>\n",
       "      <td>0.0</td>\n",
       "      <td>17.0</td>\n",
       "      <td>921.092220</td>\n",
       "      <td>0.122631</td>\n",
       "      <td>6.234</td>\n",
       "    </tr>\n",
       "    <tr>\n",
       "      <th>3</th>\n",
       "      <td>3</td>\n",
       "      <td>Abswurmbachite</td>\n",
       "      <td>0.0</td>\n",
       "      <td>0.00</td>\n",
       "      <td>0.0</td>\n",
       "      <td>0.000</td>\n",
       "      <td>0.0</td>\n",
       "      <td>0.000</td>\n",
       "      <td>0.0</td>\n",
       "      <td>0.0</td>\n",
       "      <td>...</td>\n",
       "      <td>0.0</td>\n",
       "      <td>0.0</td>\n",
       "      <td>0.0</td>\n",
       "      <td>0.0</td>\n",
       "      <td>0.0</td>\n",
       "      <td>0.0</td>\n",
       "      <td>12.0</td>\n",
       "      <td>550.019900</td>\n",
       "      <td>0.033658</td>\n",
       "      <td>13.563</td>\n",
       "    </tr>\n",
       "    <tr>\n",
       "      <th>4</th>\n",
       "      <td>4</td>\n",
       "      <td>Actinolite</td>\n",
       "      <td>2.0</td>\n",
       "      <td>5.50</td>\n",
       "      <td>2.0</td>\n",
       "      <td>1.050</td>\n",
       "      <td>4.0</td>\n",
       "      <td>1.634</td>\n",
       "      <td>0.0</td>\n",
       "      <td>1.0</td>\n",
       "      <td>...</td>\n",
       "      <td>0.0</td>\n",
       "      <td>0.0</td>\n",
       "      <td>0.0</td>\n",
       "      <td>0.0</td>\n",
       "      <td>0.0</td>\n",
       "      <td>0.0</td>\n",
       "      <td>28.0</td>\n",
       "      <td>861.185368</td>\n",
       "      <td>0.112074</td>\n",
       "      <td>6.378</td>\n",
       "    </tr>\n",
       "    <tr>\n",
       "      <th>...</th>\n",
       "      <td>...</td>\n",
       "      <td>...</td>\n",
       "      <td>...</td>\n",
       "      <td>...</td>\n",
       "      <td>...</td>\n",
       "      <td>...</td>\n",
       "      <td>...</td>\n",
       "      <td>...</td>\n",
       "      <td>...</td>\n",
       "      <td>...</td>\n",
       "      <td>...</td>\n",
       "      <td>...</td>\n",
       "      <td>...</td>\n",
       "      <td>...</td>\n",
       "      <td>...</td>\n",
       "      <td>...</td>\n",
       "      <td>...</td>\n",
       "      <td>...</td>\n",
       "      <td>...</td>\n",
       "      <td>...</td>\n",
       "      <td>...</td>\n",
       "    </tr>\n",
       "    <tr>\n",
       "      <th>3107</th>\n",
       "      <td>3107</td>\n",
       "      <td>Zoltaiite</td>\n",
       "      <td>0.0</td>\n",
       "      <td>0.00</td>\n",
       "      <td>0.0</td>\n",
       "      <td>0.000</td>\n",
       "      <td>0.0</td>\n",
       "      <td>0.000</td>\n",
       "      <td>0.0</td>\n",
       "      <td>0.0</td>\n",
       "      <td>...</td>\n",
       "      <td>0.0</td>\n",
       "      <td>0.0</td>\n",
       "      <td>0.0</td>\n",
       "      <td>0.0</td>\n",
       "      <td>0.0</td>\n",
       "      <td>0.0</td>\n",
       "      <td>17.0</td>\n",
       "      <td>677.090039</td>\n",
       "      <td>0.067308</td>\n",
       "      <td>8.349</td>\n",
       "    </tr>\n",
       "    <tr>\n",
       "      <th>3108</th>\n",
       "      <td>3108</td>\n",
       "      <td>Zugshunstite-(Ce)</td>\n",
       "      <td>0.0</td>\n",
       "      <td>0.00</td>\n",
       "      <td>0.0</td>\n",
       "      <td>0.000</td>\n",
       "      <td>0.0</td>\n",
       "      <td>0.000</td>\n",
       "      <td>0.0</td>\n",
       "      <td>12.0</td>\n",
       "      <td>...</td>\n",
       "      <td>0.0</td>\n",
       "      <td>0.0</td>\n",
       "      <td>0.0</td>\n",
       "      <td>0.0</td>\n",
       "      <td>0.0</td>\n",
       "      <td>0.0</td>\n",
       "      <td>33.0</td>\n",
       "      <td>1005.674169</td>\n",
       "      <td>0.280205</td>\n",
       "      <td>2.979</td>\n",
       "    </tr>\n",
       "    <tr>\n",
       "      <th>3109</th>\n",
       "      <td>3109</td>\n",
       "      <td>Zvyaginite</td>\n",
       "      <td>0.0</td>\n",
       "      <td>0.00</td>\n",
       "      <td>0.0</td>\n",
       "      <td>0.000</td>\n",
       "      <td>0.0</td>\n",
       "      <td>0.000</td>\n",
       "      <td>0.0</td>\n",
       "      <td>0.0</td>\n",
       "      <td>...</td>\n",
       "      <td>0.0</td>\n",
       "      <td>0.0</td>\n",
       "      <td>0.0</td>\n",
       "      <td>0.0</td>\n",
       "      <td>0.0</td>\n",
       "      <td>4.0</td>\n",
       "      <td>38.0</td>\n",
       "      <td>1037.626464</td>\n",
       "      <td>0.179472</td>\n",
       "      <td>4.799</td>\n",
       "    </tr>\n",
       "    <tr>\n",
       "      <th>3110</th>\n",
       "      <td>3110</td>\n",
       "      <td>Zwieselite</td>\n",
       "      <td>0.0</td>\n",
       "      <td>0.00</td>\n",
       "      <td>0.0</td>\n",
       "      <td>0.000</td>\n",
       "      <td>0.0</td>\n",
       "      <td>0.000</td>\n",
       "      <td>0.0</td>\n",
       "      <td>0.0</td>\n",
       "      <td>...</td>\n",
       "      <td>0.0</td>\n",
       "      <td>0.0</td>\n",
       "      <td>0.0</td>\n",
       "      <td>0.0</td>\n",
       "      <td>0.0</td>\n",
       "      <td>0.0</td>\n",
       "      <td>8.0</td>\n",
       "      <td>225.663765</td>\n",
       "      <td>0.056017</td>\n",
       "      <td>3.344</td>\n",
       "    </tr>\n",
       "    <tr>\n",
       "      <th>3111</th>\n",
       "      <td>3111</td>\n",
       "      <td>h-Magnetite</td>\n",
       "      <td>0.0</td>\n",
       "      <td>0.00</td>\n",
       "      <td>0.0</td>\n",
       "      <td>0.000</td>\n",
       "      <td>0.0</td>\n",
       "      <td>0.000</td>\n",
       "      <td>0.0</td>\n",
       "      <td>0.0</td>\n",
       "      <td>...</td>\n",
       "      <td>0.0</td>\n",
       "      <td>0.0</td>\n",
       "      <td>0.0</td>\n",
       "      <td>0.0</td>\n",
       "      <td>0.0</td>\n",
       "      <td>0.0</td>\n",
       "      <td>9.0</td>\n",
       "      <td>291.060339</td>\n",
       "      <td>0.033646</td>\n",
       "      <td>7.180</td>\n",
       "    </tr>\n",
       "  </tbody>\n",
       "</table>\n",
       "<p>3112 rows × 140 columns</p>\n",
       "</div>"
      ],
      "text/plain": [
       "      Unnamed: 0               Name  Crystal Structure  Mohs Hardness  \\\n",
       "0              0    Abenakiite-(Ce)                5.0           4.50   \n",
       "1              1       Abernathyite                4.0           2.75   \n",
       "2              2           Abhurite                5.0           2.00   \n",
       "3              3     Abswurmbachite                0.0           0.00   \n",
       "4              4         Actinolite                2.0           5.50   \n",
       "...          ...                ...                ...            ...   \n",
       "3107        3107          Zoltaiite                0.0           0.00   \n",
       "3108        3108  Zugshunstite-(Ce)                0.0           0.00   \n",
       "3109        3109         Zvyaginite                0.0           0.00   \n",
       "3110        3110         Zwieselite                0.0           0.00   \n",
       "3111        3111        h-Magnetite                0.0           0.00   \n",
       "\n",
       "      Diaphaneity  Specific Gravity  Optical  Refractive Index  Dispersion  \\\n",
       "0             0.0             3.240      3.0             1.580         0.0   \n",
       "1             3.0             3.446      3.0             1.592         0.0   \n",
       "2             3.0             4.420      3.0             2.085         0.0   \n",
       "3             0.0             0.000      0.0             0.000         0.0   \n",
       "4             2.0             1.050      4.0             1.634         0.0   \n",
       "...           ...               ...      ...               ...         ...   \n",
       "3107          0.0             0.000      0.0             0.000         0.0   \n",
       "3108          0.0             0.000      0.0             0.000         0.0   \n",
       "3109          0.0             0.000      0.0             0.000         0.0   \n",
       "3110          0.0             0.000      0.0             0.000         0.0   \n",
       "3111          0.0             0.000      0.0             0.000         0.0   \n",
       "\n",
       "      Hydrogen  ...  Acetate  Phosphate  Sulphate  Carbonate  Ammonium  \\\n",
       "0          0.0  ...      0.0        0.0       0.0        0.0       0.0   \n",
       "1          1.0  ...      0.0        0.0       0.0        0.0       0.0   \n",
       "2          3.0  ...      0.0        0.0       0.0        0.0       0.0   \n",
       "3          0.0  ...      0.0        0.0       0.0        0.0       0.0   \n",
       "4          1.0  ...      0.0        0.0       0.0        0.0       0.0   \n",
       "...        ...  ...      ...        ...       ...        ...       ...   \n",
       "3107       0.0  ...      0.0        0.0       0.0        0.0       0.0   \n",
       "3108      12.0  ...      0.0        0.0       0.0        0.0       0.0   \n",
       "3109       0.0  ...      0.0        0.0       0.0        0.0       0.0   \n",
       "3110       0.0  ...      0.0        0.0       0.0        0.0       0.0   \n",
       "3111       0.0  ...      0.0        0.0       0.0        0.0       0.0   \n",
       "\n",
       "      Hydrated Water  count   Molar Mass  Molar Volume  Calculated Density  \n",
       "0                0.0   23.0   817.339002      0.123390               5.498  \n",
       "1                1.0    9.0   435.069330      0.056083               6.439  \n",
       "2                0.0   17.0   921.092220      0.122631               6.234  \n",
       "3                0.0   12.0   550.019900      0.033658              13.563  \n",
       "4                0.0   28.0   861.185368      0.112074               6.378  \n",
       "...              ...    ...          ...           ...                 ...  \n",
       "3107             0.0   17.0   677.090039      0.067308               8.349  \n",
       "3108             0.0   33.0  1005.674169      0.280205               2.979  \n",
       "3109             4.0   38.0  1037.626464      0.179472               4.799  \n",
       "3110             0.0    8.0   225.663765      0.056017               3.344  \n",
       "3111             0.0    9.0   291.060339      0.033646               7.180  \n",
       "\n",
       "[3112 rows x 140 columns]"
      ]
     },
     "execution_count": 13,
     "metadata": {
     },
     "output_type": "execute_result"
    }
   ],
   "source": [
    "minerals_database.head(3112)"
   ]
  },
  {
   "cell_type": "code",
   "execution_count": 9,
   "metadata": {
    "collapsed": false,
    "scrolled": true
   },
   "outputs": [
    {
     "data": {
      "text/html": [
       "<div>\n",
       "<style scoped>\n",
       "    .dataframe tbody tr th:only-of-type {\n",
       "        vertical-align: middle;\n",
       "    }\n",
       "\n",
       "    .dataframe tbody tr th {\n",
       "        vertical-align: top;\n",
       "    }\n",
       "\n",
       "    .dataframe thead th {\n",
       "        text-align: right;\n",
       "    }\n",
       "</style>\n",
       "<table border=\"1\" class=\"dataframe\">\n",
       "  <thead>\n",
       "    <tr style=\"text-align: right;\">\n",
       "      <th></th>\n",
       "      <th>Unnamed: 0</th>\n",
       "      <th>Name</th>\n",
       "      <th>Crystal Structure</th>\n",
       "      <th>Mohs Hardness</th>\n",
       "      <th>Diaphaneity</th>\n",
       "      <th>Specific Gravity</th>\n",
       "      <th>Optical</th>\n",
       "      <th>Refractive Index</th>\n",
       "      <th>Dispersion</th>\n",
       "      <th>Hydrogen</th>\n",
       "      <th>...</th>\n",
       "      <th>Acetate</th>\n",
       "      <th>Phosphate</th>\n",
       "      <th>Sulphate</th>\n",
       "      <th>Carbonate</th>\n",
       "      <th>Ammonium</th>\n",
       "      <th>Hydrated Water</th>\n",
       "      <th>count</th>\n",
       "      <th>Molar Mass</th>\n",
       "      <th>Molar Volume</th>\n",
       "      <th>Calculated Density</th>\n",
       "    </tr>\n",
       "  </thead>\n",
       "  <tbody>\n",
       "    <tr>\n",
       "      <th>0</th>\n",
       "      <td>0</td>\n",
       "      <td>Abenakiite-(Ce)</td>\n",
       "      <td>5.0</td>\n",
       "      <td>4.50</td>\n",
       "      <td>0.0</td>\n",
       "      <td>3.240</td>\n",
       "      <td>3.0</td>\n",
       "      <td>1.580</td>\n",
       "      <td>0.0</td>\n",
       "      <td>0.0</td>\n",
       "      <td>...</td>\n",
       "      <td>0.0</td>\n",
       "      <td>0.0</td>\n",
       "      <td>0.0</td>\n",
       "      <td>0.0</td>\n",
       "      <td>0.0</td>\n",
       "      <td>0.0</td>\n",
       "      <td>23.0</td>\n",
       "      <td>817.339002</td>\n",
       "      <td>0.123390</td>\n",
       "      <td>5.498</td>\n",
       "    </tr>\n",
       "    <tr>\n",
       "      <th>1</th>\n",
       "      <td>1</td>\n",
       "      <td>Abernathyite</td>\n",
       "      <td>4.0</td>\n",
       "      <td>2.75</td>\n",
       "      <td>3.0</td>\n",
       "      <td>3.446</td>\n",
       "      <td>3.0</td>\n",
       "      <td>1.592</td>\n",
       "      <td>0.0</td>\n",
       "      <td>1.0</td>\n",
       "      <td>...</td>\n",
       "      <td>0.0</td>\n",
       "      <td>0.0</td>\n",
       "      <td>0.0</td>\n",
       "      <td>0.0</td>\n",
       "      <td>0.0</td>\n",
       "      <td>1.0</td>\n",
       "      <td>9.0</td>\n",
       "      <td>435.069330</td>\n",
       "      <td>0.056083</td>\n",
       "      <td>6.439</td>\n",
       "    </tr>\n",
       "    <tr>\n",
       "      <th>2</th>\n",
       "      <td>2</td>\n",
       "      <td>Abhurite</td>\n",
       "      <td>5.0</td>\n",
       "      <td>2.00</td>\n",
       "      <td>3.0</td>\n",
       "      <td>4.420</td>\n",
       "      <td>3.0</td>\n",
       "      <td>2.085</td>\n",
       "      <td>0.0</td>\n",
       "      <td>3.0</td>\n",
       "      <td>...</td>\n",
       "      <td>0.0</td>\n",
       "      <td>0.0</td>\n",
       "      <td>0.0</td>\n",
       "      <td>0.0</td>\n",
       "      <td>0.0</td>\n",
       "      <td>0.0</td>\n",
       "      <td>17.0</td>\n",
       "      <td>921.092220</td>\n",
       "      <td>0.122631</td>\n",
       "      <td>6.234</td>\n",
       "    </tr>\n",
       "    <tr>\n",
       "      <th>3</th>\n",
       "      <td>3</td>\n",
       "      <td>Abswurmbachite</td>\n",
       "      <td>0.0</td>\n",
       "      <td>0.00</td>\n",
       "      <td>0.0</td>\n",
       "      <td>0.000</td>\n",
       "      <td>0.0</td>\n",
       "      <td>0.000</td>\n",
       "      <td>0.0</td>\n",
       "      <td>0.0</td>\n",
       "      <td>...</td>\n",
       "      <td>0.0</td>\n",
       "      <td>0.0</td>\n",
       "      <td>0.0</td>\n",
       "      <td>0.0</td>\n",
       "      <td>0.0</td>\n",
       "      <td>0.0</td>\n",
       "      <td>12.0</td>\n",
       "      <td>550.019900</td>\n",
       "      <td>0.033658</td>\n",
       "      <td>13.563</td>\n",
       "    </tr>\n",
       "    <tr>\n",
       "      <th>4</th>\n",
       "      <td>4</td>\n",
       "      <td>Actinolite</td>\n",
       "      <td>2.0</td>\n",
       "      <td>5.50</td>\n",
       "      <td>2.0</td>\n",
       "      <td>1.050</td>\n",
       "      <td>4.0</td>\n",
       "      <td>1.634</td>\n",
       "      <td>0.0</td>\n",
       "      <td>1.0</td>\n",
       "      <td>...</td>\n",
       "      <td>0.0</td>\n",
       "      <td>0.0</td>\n",
       "      <td>0.0</td>\n",
       "      <td>0.0</td>\n",
       "      <td>0.0</td>\n",
       "      <td>0.0</td>\n",
       "      <td>28.0</td>\n",
       "      <td>861.185368</td>\n",
       "      <td>0.112074</td>\n",
       "      <td>6.378</td>\n",
       "    </tr>\n",
       "  </tbody>\n",
       "</table>\n",
       "<p>5 rows × 140 columns</p>\n",
       "</div>"
      ],
      "text/plain": [
       "   Unnamed: 0             Name  Crystal Structure  Mohs Hardness  Diaphaneity  \\\n",
       "0           0  Abenakiite-(Ce)                5.0           4.50          0.0   \n",
       "1           1     Abernathyite                4.0           2.75          3.0   \n",
       "2           2         Abhurite                5.0           2.00          3.0   \n",
       "3           3   Abswurmbachite                0.0           0.00          0.0   \n",
       "4           4       Actinolite                2.0           5.50          2.0   \n",
       "\n",
       "   Specific Gravity  Optical  Refractive Index  Dispersion  Hydrogen  ...  \\\n",
       "0             3.240      3.0             1.580         0.0       0.0  ...   \n",
       "1             3.446      3.0             1.592         0.0       1.0  ...   \n",
       "2             4.420      3.0             2.085         0.0       3.0  ...   \n",
       "3             0.000      0.0             0.000         0.0       0.0  ...   \n",
       "4             1.050      4.0             1.634         0.0       1.0  ...   \n",
       "\n",
       "   Acetate  Phosphate  Sulphate  Carbonate  Ammonium  Hydrated Water  count  \\\n",
       "0      0.0        0.0       0.0        0.0       0.0             0.0   23.0   \n",
       "1      0.0        0.0       0.0        0.0       0.0             1.0    9.0   \n",
       "2      0.0        0.0       0.0        0.0       0.0             0.0   17.0   \n",
       "3      0.0        0.0       0.0        0.0       0.0             0.0   12.0   \n",
       "4      0.0        0.0       0.0        0.0       0.0             0.0   28.0   \n",
       "\n",
       "   Molar Mass  Molar Volume  Calculated Density  \n",
       "0  817.339002      0.123390               5.498  \n",
       "1  435.069330      0.056083               6.439  \n",
       "2  921.092220      0.122631               6.234  \n",
       "3  550.019900      0.033658              13.563  \n",
       "4  861.185368      0.112074               6.378  \n",
       "\n",
       "[5 rows x 140 columns]"
      ]
     },
     "execution_count": 9,
     "metadata": {
     },
     "output_type": "execute_result"
    }
   ],
   "source": [
    "minerals_database.head(5)"
   ]
  },
  {
   "cell_type": "code",
   "execution_count": 11,
   "metadata": {
    "collapsed": false,
    "scrolled": true
   },
   "outputs": [
    {
     "name": "stdout",
     "output_type": "stream",
     "text": [
      "Index(['Unnamed: 0', 'Name', 'Crystal Structure', 'Mohs Hardness',\n",
      "       'Diaphaneity', 'Specific Gravity', 'Optical', 'Refractive Index',\n",
      "       'Dispersion', 'Hydrogen',\n",
      "       ...\n",
      "       'Acetate', 'Phosphate', 'Sulphate', 'Carbonate', 'Ammonium',\n",
      "       'Hydrated Water', 'count', 'Molar Mass', 'Molar Volume',\n",
      "       'Calculated Density'],\n",
      "      dtype='object', length=140)\n"
     ]
    }
   ],
   "source": [
    "print(minerals_database.columns)"
   ]
  },
  {
   "cell_type": "code",
   "execution_count": 15,
   "metadata": {
    "collapsed": false
   },
   "outputs": [
    {
     "name": "stdout",
     "output_type": "stream",
     "text": [
      "(3112, 140)\n"
     ]
    }
   ],
   "source": [
    "print(minerals_database.shape)"
   ]
  },
  {
   "cell_type": "markdown",
   "metadata": {
    "collapsed": false
   },
   "source": [
    "Sometimes column names have extra spaces or we can't see all of them at first, lets print them and get the shape of each to see how much data we are dealing with. <br>(#Rows, #Columns)\n",
    "\n"
   ]
  },
  {
   "cell_type": "code",
   "execution_count": 6,
   "metadata": {
    "collapsed": false,
    "scrolled": true
   },
   "outputs": [
    {
     "name": "stdout",
     "output_type": "stream",
     "text": [
      "Index(['rank', 'name', 'state_name', 'early_career_pay', 'mid_career_pay',\n",
      "       'make_world_better_percent', 'stem_percent'],\n",
      "      dtype='object')\n",
      "\n",
      "(935, 7)\n"
     ]
    }
   ],
   "source": [
    "print(salary_potential.columns)\n",
    "print(\"\")\n",
    "print(salary_potential.shape)"
   ]
  },
  {
   "cell_type": "code",
   "execution_count": 7,
   "metadata": {
    "collapsed": false
   },
   "outputs": [
    {
     "name": "stdout",
     "output_type": "stream",
     "text": [
      "Index(['name', 'state', 'state_code', 'type', 'degree_length',\n",
      "       'room_and_board', 'in_state_tuition', 'in_state_total',\n",
      "       'out_of_state_tuition', 'out_of_state_total'],\n",
      "      dtype='object')\n",
      "\n",
      "(2973, 10)\n"
     ]
    }
   ],
   "source": [
    "print(tuition.columns)\n",
    "print(\"\")\n",
    "print(tuition.shape)"
   ]
  },
  {
   "cell_type": "markdown",
   "metadata": {
    "collapsed": false
   },
   "source": [
    "We also want information on what data TYPE each of the columns are"
   ]
  },
  {
   "cell_type": "code",
   "execution_count": 0,
   "metadata": {
    "collapsed": false,
    "vscode": {
     "languageId": "plaintext"
    }
   },
   "outputs": [
   ],
   "source": [
    "tuition.info()"
   ]
  },
  {
   "cell_type": "markdown",
   "metadata": {
    "collapsed": false
   },
   "source": [
    "We notice that 'state' and 'room_and_board' are missing some data. State_code is not though."
   ]
  },
  {
   "cell_type": "code",
   "execution_count": 14,
   "metadata": {
    "collapsed": false
   },
   "outputs": [
    {
     "name": "stdout",
     "output_type": "stream",
     "text": [
      "<class 'pandas.core.frame.DataFrame'>\n",
      "RangeIndex: 3112 entries, 0 to 3111\n",
      "Columns: 140 entries, Unnamed: 0 to Calculated Density\n",
      "dtypes: float64(138), int64(1), object(1)\n",
      "memory usage: 3.3+ MB\n"
     ]
    }
   ],
   "source": [
    "minerals_database.info()"
   ]
  },
  {
   "cell_type": "code",
   "execution_count": 8,
   "metadata": {
    "collapsed": false
   },
   "outputs": [
    {
     "name": "stdout",
     "output_type": "stream",
     "text": [
      "<class 'pandas.core.frame.DataFrame'>\n",
      "RangeIndex: 935 entries, 0 to 934\n",
      "Data columns (total 7 columns):\n",
      " #   Column                     Non-Null Count  Dtype  \n",
      "---  ------                     --------------  -----  \n",
      " 0   rank                       935 non-null    int64  \n",
      " 1   name                       935 non-null    object \n",
      " 2   state_name                 935 non-null    object \n",
      " 3   early_career_pay           935 non-null    int64  \n",
      " 4   mid_career_pay             935 non-null    int64  \n",
      " 5   make_world_better_percent  902 non-null    float64\n",
      " 6   stem_percent               935 non-null    int64  \n",
      "dtypes: float64(1), int64(4), object(2)\n",
      "memory usage: 51.3+ KB\n"
     ]
    }
   ],
   "source": [
    "salary_potential.info()"
   ]
  },
  {
   "cell_type": "markdown",
   "metadata": {
    "collapsed": false
   },
   "source": [
    "We notice that 'make_world_better_percent' is missing some data, missing data can mess with functions down the road."
   ]
  },
  {
   "cell_type": "markdown",
   "metadata": {
    "collapsed": false
   },
   "source": [
    "## Cleaning and Merging Our Data <a class=\"anchor\" id=\"Clean\"></a>\n",
    "\n",
    "- Lets get rid of redundant columns, either replace or drop missing values, and do any other cleaning we might want\n",
    "- Here we will also merge our different data sources into one cohesive one\n",
    "\n"
   ]
  },
  {
   "cell_type": "markdown",
   "metadata": {
    "collapsed": false
   },
   "source": [
    "First up, lets find the entries with no 'state' from tuition\n",
    "\n"
   ]
  },
  {
   "cell_type": "code",
   "execution_count": 9,
   "metadata": {
    "collapsed": false,
    "scrolled": true
   },
   "outputs": [
    {
     "data": {
      "text/plain": [
       "0              Montana\n",
       "1                Texas\n",
       "2              Georgia\n",
       "3            Minnesota\n",
       "4           California\n",
       "             ...      \n",
       "2968    South Carolina\n",
       "2969           Georgia\n",
       "2970              Ohio\n",
       "2971        California\n",
       "2972              Ohio\n",
       "Name: state, Length: 2973, dtype: object"
      ]
     },
     "execution_count": 9,
     "metadata": {
     },
     "output_type": "execute_result"
    }
   ],
   "source": [
    "tuition['state']"
   ]
  },
  {
   "cell_type": "code",
   "execution_count": 22,
   "metadata": {
    "collapsed": false
   },
   "outputs": [
    {
     "data": {
      "text/plain": [
       "False    3112\n",
       "Name: Molar Mass, dtype: int64"
      ]
     },
     "execution_count": 22,
     "metadata": {
     },
     "output_type": "execute_result"
    }
   ],
   "source": [
    "minerals_database['Molar Mass'].isnull().value_counts()"
   ]
  },
  {
   "cell_type": "code",
   "execution_count": 28,
   "metadata": {
    "collapsed": false
   },
   "outputs": [
    {
     "data": {
      "text/plain": [
       "False    3112\n",
       "Name: Molar Volume, dtype: int64"
      ]
     },
     "execution_count": 28,
     "metadata": {
     },
     "output_type": "execute_result"
    }
   ],
   "source": [
    "minerals_database['Molar Volume'].isnull().value_counts()"
   ]
  },
  {
   "cell_type": "code",
   "execution_count": 29,
   "metadata": {
    "collapsed": false
   },
   "outputs": [
    {
     "data": {
      "text/plain": [
       "False    3112\n",
       "Name: Calculated Density, dtype: int64"
      ]
     },
     "execution_count": 29,
     "metadata": {
     },
     "output_type": "execute_result"
    }
   ],
   "source": [
    "minerals_database['Calculated Density'].isnull().value_counts()"
   ]
  },
  {
   "cell_type": "code",
   "execution_count": 20,
   "metadata": {
    "collapsed": false,
    "scrolled": true
   },
   "outputs": [
    {
     "data": {
      "text/html": [
       "<div>\n",
       "<style scoped>\n",
       "    .dataframe tbody tr th:only-of-type {\n",
       "        vertical-align: middle;\n",
       "    }\n",
       "\n",
       "    .dataframe tbody tr th {\n",
       "        vertical-align: top;\n",
       "    }\n",
       "\n",
       "    .dataframe thead th {\n",
       "        text-align: right;\n",
       "    }\n",
       "</style>\n",
       "<table border=\"1\" class=\"dataframe\">\n",
       "  <thead>\n",
       "    <tr style=\"text-align: right;\">\n",
       "      <th></th>\n",
       "      <th>Unnamed: 0</th>\n",
       "      <th>Name</th>\n",
       "      <th>Crystal Structure</th>\n",
       "      <th>Mohs Hardness</th>\n",
       "      <th>Diaphaneity</th>\n",
       "      <th>Specific Gravity</th>\n",
       "      <th>Optical</th>\n",
       "      <th>Refractive Index</th>\n",
       "      <th>Dispersion</th>\n",
       "      <th>Hydrogen</th>\n",
       "      <th>...</th>\n",
       "      <th>Acetate</th>\n",
       "      <th>Phosphate</th>\n",
       "      <th>Sulphate</th>\n",
       "      <th>Carbonate</th>\n",
       "      <th>Ammonium</th>\n",
       "      <th>Hydrated Water</th>\n",
       "      <th>count</th>\n",
       "      <th>Molar Mass</th>\n",
       "      <th>Molar Volume</th>\n",
       "      <th>Calculated Density</th>\n",
       "    </tr>\n",
       "  </thead>\n",
       "  <tbody>\n",
       "  </tbody>\n",
       "</table>\n",
       "<p>0 rows × 140 columns</p>\n",
       "</div>"
      ],
      "text/plain": [
       "Empty DataFrame\n",
       "Columns: [Unnamed: 0, Name, Crystal Structure, Mohs Hardness, Diaphaneity, Specific Gravity, Optical, Refractive Index, Dispersion, Hydrogen, Helium, Lithium, Beryllium, Boron, Carbon, Nitrogen, Oxygen, Fluorine, Neon, Sodium, Magnesium, Aluminium, Silicon, Phosphorus, Sulfur, Chlorine, Argon, Potassium, Calcium, Scandium, Titanium, Vanadium, Chromium, Manganese, Iron, Cobalt, Nickel, Copper, Zinc, Gallium, Germanium, Arsenic, Selenium, Bromine, Krypton, Rubidium, Strontium, Yttrium, Zirconium, Niobium, Molybdenum, Technetium, Ruthenium, Rhodium, Palladium, Silver, Cadmium, Indium, Tin, Antimony, Tellurium, Iodine, Xenon, Cesium, Barium, Lanthanum, Cerium, Praseodymium, Neodymium, Promethium, Samarium, Europium, Gadolinium, Terbium, Dysprosium, Holmium, Erbium, Thulium, Ytterbium, Lutetium, Hafnium, Tantalum, Tungsten, Rhenium, Osmium, Iridium, Platinum, Gold, Mercury, Thallium, Lead, Bismuth, Polonium, Astatine, Radon, Francium, Radium, Actinium, Thorium, Protactinium, ...]\n",
       "Index: []\n",
       "\n",
       "[0 rows x 140 columns]"
      ]
     },
     "execution_count": 20,
     "metadata": {
     },
     "output_type": "execute_result"
    }
   ],
   "source": [
    "minerals_database[minerals_database['Molar Mass'].isnull()]"
   ]
  },
  {
   "cell_type": "code",
   "execution_count": 27,
   "metadata": {
    "collapsed": false
   },
   "outputs": [
    {
     "data": {
      "text/html": "<html>\n<head><meta charset=\"utf-8\" /></head>\n<body>\n    <div>            <script src=\"https://cdnjs.cloudflare.com/ajax/libs/mathjax/2.7.5/MathJax.js?config=TeX-AMS-MML_SVG\"></script><script type=\"text/javascript\">if (window.MathJax) {MathJax.Hub.Config({SVG: {font: \"STIX-Web\"}});}</script>                <script type=\"text/javascript\">window.PlotlyConfig = {MathJaxConfig: 'local'};</script>\n        <script src=\"https://cdn.plot.ly/plotly-2.9.0.min.js\"></script>                <div id=\"bc8578da-9a9f-4e36-9b46-36e5341048f7\" class=\"plotly-graph-div\" style=\"height:525px; width:100%;\"></div>            <script type=\"text/javascript\">                                    window.PLOTLYENV=window.PLOTLYENV || {};                                    if (document.getElementById(\"bc8578da-9a9f-4e36-9b46-36e5341048f7\")) {                    Plotly.newPlot(                        \"bc8578da-9a9f-4e36-9b46-36e5341048f7\",                        [{\"alignmentgroup\":\"True\",\"bingroup\":\"x\",\"hovertemplate\":\"Molar Mass=%{x}<br>count=%{y}<extra></extra>\",\"legendgroup\":\"\",\"marker\":{\"color\":\"#636efa\",\"pattern\":{\"shape\":\"\"}},\"name\":\"\",\"offsetgroup\":\"\",\"orientation\":\"v\",\"showlegend\":false,\"x\":[817.3390019999999,435.06933,921.09222,550.0199,861.1853679999999,225.618151,270.70713,251.283292,407.63936,154.920468,1110.587536,706.631179,331.22758,1839.871467,2712.51136,922.559878,1497.1929000000002,221.68216,2011.923656,214.16812,674.0359490000001,145.95015700000002,196.3137,70.93745,68.3899,373.7793400000001,338.2378,865.8504999999999,133.901929,411.33112399999993,3628.925846,389.078662,426.70339,597.542341,431.208653,1415.739624,447.574378,309.255537,1302.289926,282.864067,3154.3916870000003,484.089411,198.173999,344.162998,162.143439,648.413358,445.92756,172.88343999999998,171.45032799999996,824.0401099999999,372.277346,869.4685959999998,226.926362,63.8794,146.046178,532.1642360000002,474.398892,173.06875000000005,1088.33134,104.1428,660.62835,363.664069,822.6622479999999,450.4294239999999,155.0715,796.702696,2870.5589,258.17822,165.251168,190.257803,84.0878,158.26080000000005,103.078802,467.38726,642.9583640000002,88.6094,192.3682,620.5606300000002,90.92099,311.35019,104.34536,325.191428,426.2922,1131.4144359999998,196.55938,348.150799,166.95103999999995,196.3137,640.2484000000002,261.39453000000003,528.1602019999999,106.904509,204.10854,520.61789,703.8060289999999,79.8788,171.79838,350.447846,557.37438,47.083903,874.6739670000002,824.4279399999998,297.4234,192.219,553.7645300000001,3101.23174,377.732127,1970.4098,245.2913,349.7388,78.84944,2206.059386,89.95410100000002,144.12346000000002,380.91993,380.91993,445.014329,128.151779,340.61979,1520.42316,465.325046,102.93625,91.7565,465.95894,493.9693400000001,448.154844,196.81295,179.388928,178.4851,1412.442983,445.238068,548.9696,113.3785,221.675736,196.55938,647.41425,192.45294,236.29279,295.8359,361.906469,300.30526000000003,314.08911800000004,452.29164,25.01158,79.8788,253.733278,41.31234,167.04816200000002,204.137818,2126.33581,486.537006,208.079,418.2832,818.4253279999998,343.084659,892.228126,686.36667,803.38176,125.6976,68.08840000000001,154.86995,956.3076,675.3544099999998,364.235811,487.350546,555.9561739999998,66.00283999999999,734.10318,484.2201,424.0651,58.09670300000001,150.17963999999998,219.000828,134.7094,297.23312000000004,352.57764,485.590356,251.2098,307.5176,304.290504,303.1526,279.558016,413.11924900000014,630.7618,483.93605,526.609217,794.5033799999999,302.6975,2024.358739,1518.2382,143.3209,408.619308,142.039278,256.850843,123.8425,110.973458,277.11499999999995,293.017468,197.84138,380.5811900000001,215.56638,389.576943,509.34331700000007,211.437778,240.3372,373.3865,177.369642,202.219236,283.8555300000001,706.4850400000001,282.542978,375.092902,363.57319000000007,394.54563200000007,42.980939,278.1054,282.218571,120.1686,379.0407,205.79298,91.959478,126.03515,724.001139,79.5454,479.7018,1324.5123,366.475606,2086.481424,281.68613,141.01008000000004,158.9715,159.98010000000005,127.995787,106.52693899999998,1117.7793000000004,750.6153,388.5377,1284.9644,358.65874,58.980339,258.160438,252.1607,157.64498,316.077356,867.775382,426.67319,384.9175560000001,408.248139,391.562026,525.675757,656.5035999999999,312.4714,250.753231,996.341364,748.231767,246.47556000000003,785.11105,727.03835,67.99549999999999,759.7753,556.480358,337.06419000000005,145.08481899999998,181.072678,2037.957984,277.69043,169.51600000000005,1727.045179,440.337261,271.6858,128.70134000000002,232.5472,884.7603680000002,527.7060349999999,261.47101999999995,440.88379,132.007484,70.11380299999999,763.10881,719.486197,680.7379000000002,209.281023,207.304103,59.076403000000006,780.840652,1752.6437999999996,783.5387999999998,1465.8050820000003,156.325403,240.1528,303.97238500000003,86.7038,738.676514,176.114868,818.584214,143.143239,533.7368700000001,88.18440000000002,585.8527429999998,156.007118,628.4745559999999,159.13136799999998,315.7328,159.171539,442.238707,87.8458,257.230046,323.332508,591.1003410000001,287.56056,475.895824,311.988917,290.263203,439.151973,158.038678,87.94479,508.781803,125.17388,872.3693999999998,146.46213999999995,85.00283999999998,188.10036,289.9986800000001,354.78651,896.5823,197.01219000000003,843.5253999999999,173.903303,58.442468000000005,1081.3315280000004,92.83296,416.627808,181.5517,631.742756,125.8755,182.199607,427.755692,237.3987,71.8464,1560.4526030000004,175.48838,181.39604000000003,138.5044,163.059945,858.6656949999999,331.6733,311.81715,111.09556299999998,461.99300000000005,899.201611,286.76455,279.796362,391.3278,233.130086,1159.199489,270.77685,2652.418084000001,524.781203,136.4032,389.781474,324.1212,582.53944,94.473028,245.9713,114.319279,175.127362,290.19520000000006,490.59537,605.9582999999999,138.13364,217.143278,119.7264,320.9474,277.6092,1556.6182,219.452408,221.980007,436.67976,176.01744,551.7251000000001,115.600142,896.79085,859.2794,518.7053,1392.388592,280.9561,230.128879,568.73117,925.116139,639.1052,359.17573,126.164139,235.408388,271.6316,951.168156,274.6478,258.160438,644.5671990000001,231.8344,273.280456,568.7475800000002,105.37714,337.35268,1706.7152800000006,893.2426019999999,175.957272,608.078538,151.069568,289.7303500000001,214.634362,232.70364,164.59773900000005,200.614368,474.116034,565.7968030000001,279.8493,324.091156,474.398892,510.4636,222.8702,488.3256,198.6956,172.2391,307.286339,258.6521,1062.0022279999998,221.147178,219.112241,1336.4837750000004,2157.7960000000007,609.44438,606.101688,320.3469,87.8458,394.550588,131.13266000000002,110.16473899999998,3582.210776,519.7078799999998,239.070702,768.4543000000001,384.8262,304.03694,279.52036200000003,267.493929,140.851012,421.10696,588.3692000000002,178.952268,493.5479,242.695922,357.336589,815.7292209999998,396.8178,613.9084,272.336,360.2406,128.1502,516.2035199999998,52.3154,127.6934,419.49675,221.11588,234.8717,87.94479,70.93745,1676.1221,517.87223,454.435484,520.311107,277.12978,1303.6643,132.1406,1360.5423,577.3092,261.651103,1529.3362860000002,474.89208500000007,186.28284,1508.7487600000004,166.13300700000002,211.084259,254.124907,320.6670000000001,840.685166,596.492005,233.216642,398.561862,551.4456799999999,391.40178,410.351424,256.02370299999995,150.026678,572.7724900000001,551.761364,377.249716,487.55516000000006,104.1692,223.99494,143.9382,235.086362,354.30660000000006,215.1729,698.699924,651.75147,248.343466,217.552217,329.065257,564.367691,1070.7512359999998,258.160438,84.006908,630.101468,178.952268,204.154307,334.136936,212.74678,965.342664,252.110014,580.817868,126.6889,226.84134,502.16458000000006,85.10383999999998,52.99590799999999,336.99911999999995,198.910007,159.69150299999995,571.222189,110.757868,181.110775,181.176636,1095.4187,266.01119000000006,441.283475,2911.404376,219.1488,229.229378,434.646679,367.3028959999999,140.4214,364.0013,660.2510460000002,287.5164,254.687439,656.5837349999998,259.66004,159.0908,413.083664,2035.342218,874.3704240000001,331.245278,564.98326,332.404808,451.509593,297.2319,535.8816019999999,96.1514,186.089939,645.987754,216.03569,110.10746,628.5902990000001,530.3937,322.1152,252.238362,1143.2990619999996,913.790528,940.47596,780.1911069999999,328.2444,701.1442,179.96983999999998,625.175072,594.5504,313.6235,57.08534,470.30758,148.982768,720.563647,152.0174,215.218278,151.7252,319.62536200000005,428.6411000000001,189.757012,1146.16018,70.93745,95.371439,118.81745,180.157539,1123.9049,1118.82925,308.2888000000001,2585.905438,455.0376,410.390193,344.62078,82.94845,1095.94675,219.93996,391.798468,137.7884,69.85374,1847.784108,444.51198,399.14615,193.8368,286.5072,280.25039000000004,100.000965,223.97172,302.580417,298.20547,697.79714,298.0381,285.0235,337.100736,534.659224,886.2109160000001,893.252935,213.4107,845.1208260000002,167.52769999999995,1060.682546,825.0730000000002,1063.21316,123.66604,399.235766,318.106136,783.895,2612.4964,436.4246,888.4933110000002,1437.5316,392.33741800000007,566.47795,194.807901,284.695762,203.983448,2692.58291,399.240724,44.0849,390.324146,43.303403,137.7594,398.5397,362.125568,1077.3128869999996,1032.9782,399.85918000000015,359.81274000000013,618.689476,174.07713600000002,83.8574,954.902716,562.7676,146.046178,85.16922,331.915978,435.963644,1433.002352,58.091640000000005,93.4004,203.950775,315.12054,957.87336,187.9288,86.9436,118.572478,110.006239,444.5654,808.532975,516.461956,191.02973,143.32224,259.0085,4079.3412,44.0849,186.848922,131.6298,901.719502,528.4962879999999,306.05826,693.6556,150.22899999999996,227.941307,566.994357,1223.0728,278.12037999999995,226.64810100000005,473.812874,74.551,578.410406,256.31204,135.86626,201.78534,280.25039000000004,1357.233787,517.6920299999998,805.70663,333.040621,178.1909,242.759362,329.394068,159.59879999999995,79.5454,297.6538,648.39499,336.5009,71.05516800000002,124.004016,222.055005,121.03960999999998,719.2395889999999,336.042102,746.8168079999998,208.634744,196.0405,349.4937,394.0986,119.064639,751.2506820000001,281.1598,360.5058,221.003012,483.304268,1334.197848,125.011956,773.5456,175.098319,542.2267899999998,717.536162,170.51988699999995,233.85408,447.749668,502.039261,881.8127800000002,164.372651,1244.442608,699.2004240000001,175.5734,463.5667,1213.101302,2102.4866,44.03302,168.11192,245.446129,302.220115,136.159,153.7588,548.7923999999998,384.285808,493.664661,84.0878,769.465062,524.6873410000002,653.2063999999998,772.785117,1274.93134,41.988171,178.6052,340.2840750000001,226.696522,1321.50103,289.370936,261.05432,693.1637000000002,650.3190599999998,498.391339,223.955208,1020.07676,219.1786,274.00808299999994,489.81368,516.399868,393.01898000000006,934.397736,994.57902,903.657728,222.8631,1971.434102,181.3368,348.4851,782.2653999999999,453.91858,155.8413,271.952932,295.4533,365.4931,50.9508,155.40427899999997,366.198643,349.405868,524.07069,681.9416000000001,784.9301059999999,81.3894,647.41425,133.38549999999998,334.2537900000001,699.777801,519.37238,526.0418,526.0418,379.378178,492.887716,263.580584,576.8019069999998,59.06784,102.08984,521.103965,137.15582,137.15582,440.21222,311.478747,311.478747,343.68948,411.987941,986.7682,494.204337,378.61179,436.2439,144.0168,468.395806,336.4097,753.652196,647.07038,1065.202016,1339.7554,283.056939,2135.0045,658.168717,1456.335618,717.2311070000001,766.1272670000002,1019.6559,1348.5186680000004,1122.31325,1383.691457,397.8706,212.544139,611.0706170000002,755.2048900000001,297.523257,793.3147190000001,611.0706170000002,216.063378,996.697411,246.285007,763.2844,239.928239,338.352098,228.94536800000003,242.34352,150.47402,396.57248,152.94176000000002,300.295817,301.69205800000003,806.500784,981.35888,441.4928,2211.971038,1091.960512,282.61199,397.049458,363.664069,757.6100799999998,189.90831,155.0715,1045.358356,2305.079,4473.458799999999,658.6568619999998,178.126365,349.788242,753.740862,737.286565,271.219962,3678.5481,1035.033688,218.9944,209.281023,647.43619,1856.032359,279.093104,1005.423046,406.290724,788.3469769999999,477.64225,271.768879,1393.1103899999996,39.948,680.905028,671.46002,1519.286336,1571.640556,591.8353999999998,1503.359842,1991.900645,1450.933574,2754.630123,4643.869759,816.49958,428.51653,866.4522159999998,376.636191,960.341,906.67093,804.9255800000002,232.389322,263.97487,1352.201172,589.88733,1144.981795,451.036112,337.85759000000013,586.5147999999998,747.929118,751.3891179999998,815.0842279999998,1337.2351999999996,459.5036,489.174078,1087.3756,2313.472024,1878.26202,334.625521,586.598975,382.7436,407.721,126.8177,303.80946800000004,3622.575456,736.672903,67.806209,143.32224,223.672702,300.953525,610.9877220000002,726.772728,496.559,350.2737,217.2058,1081.401475,486.04116,262.23218,533.211524,217.3912,278.454443,361.902468,307.83470699999987,674.11988,323.51816,601.49915,626.8670860000001,307.5456,222.121606,333.016706,814.942068,673.442416,1793.3562000000004,393.503707,156.007118,159.4425,426.626,336.5153,246.01155000000003,282.089463,344.1198,344.1198,469.73786,878.5028729999998,119.71678,41.01098,386.1224600000001,1007.332444,367.82194,338.31588,487.08037800000005,669.8150099999998,116.00604,400.147233,1897.06915,361.606391,717.808556,301.043839,205.01737000000003,460.832874,325.870047,534.2619,265.02018,213.81103,216.5504,280.25067,945.7481,1437.19669,969.981158,541.285824,309.06757000000005,9306.050516,334.9336,341.9252,267.4557,408.210438,360.9588,62.995782,2156.321916,405.037562,861.7859119999999,260.43247,389.91787,594.977913,2274.723978,373.47793,925.682904,153.96099999999996,475.41659,217.05034,295.12772,916.912639,666.2163360000002,568.121142,688.7320000000002,59.988939,213.65544,240.807698,528.276773,196.0296,1277.307418,329.88489500000003,169.982539,1667.4452,3377.5634200000004,233.51472,85.00349999999997,955.30497,459.4673480000001,1793.642198,251.95024,333.9071,240.833,1009.0745,103.086203,876.5742069999999,642.2454389999999,604.3668,1212.445943,1213.2207030000004,1212.445943,1120.723443,1361.841953,4969.650406000001,160.749168,496.5699,856.9378999999999,407.89862,144.4564,474.11739000000006,418.761409,252.90655000000004,257.108104,460.4655,800.757328,383.445142,782.817063,1346.735876,2189.737516,169.9272,107.1867,476.5952400000001,1290.8121210000004,270.65278,178.0638,893.730745,156.2397,753.1420700000001,485.323166,325.56328,1069.00092,940.431102,248.39046800000003,303.0262,156.2397,565.868148,390.481,325.56328,221.6265,524.7975799999999,685.1344,200.8998,888.0264,3301.219872,89.37774,328.03286,292.095743,564.0397399999998,550.802588,182.14344,530.838206,793.4696220000002,1472.049672,239.26312,451.24205,516.149368,178.126365,178.126365,251.135962,359.2756,287.138779,802.6390190000002,110.055607,110.055607,258.80904,893.18614,315.30155,489.195278,561.67794,190.297468,341.7494420000001,205.9586,545.1291,1087.583806,1085.164806,433.93275,399.006204,445.245539,363.88575,798.0191,387.466639,457.491911,391.797239,337.128711,559.619639,561.699396,143.61020000000005,226.53476,186.34125,606.034261,220.473368,128.151779,321.465536,365.492483,1104.35414,625.03162,335.015862,179.82684,628.2788,156.143128,973.562773,958.79863,900.0172,351.30293,156.937823,916.09353,366.320032,78.433639,194.580662,197.1099,223.7584,35.4527,465.900077,263.440078,168.58735,59.7577,662.0051,292.7122,143.58136199999996,440.98818,108.0735,576.931754,720.9364890000003,579.776028,1194.8677,638.0077200000002,205.7192,290.05179300000003,260.042595,740.68919,224.63005,2397.1463119999994,232.01274000000004,197.84138,683.6548,960.343404,258.16116,275.5188,226.5342,460.632695,200.7774,187.7777,124.6937,630.0197000000002,443.698,131.45322,1361.18909,717.2502360000002,1153.9013450000002,555.7270390000001,781.9525629999999,504.462343,687.1881470000002,232.30220000000003,248.3228,374.418317,691.903508,643.4270900000001,318.4837300000001,140.00534,867.50396,353.4787300000001,1674.3874899999996,351.953578,221.92196,944.1552,276.9567,92.998942,165.20958000000005,196.75158,165.20958000000005,683.2140999999998,228.0347,672.051571,399.95199,5276.4488,371.612678,548.7285300000002,375.450971,336.6333620000001,381.0737,351.564082,1323.77558,338.504742,122.7879,146.031501,124.3998,311.569866,134.48345,1051.95535,120.1686,88.1698,44.0849,75.91071,61.09064300000001,480.6856,511.071318,107.22339999999998,526.5798,179.7077,376.7736,369.139243,628.1967999999998,246.7061,144.17913900000005,880.8933699999999,365.563768,1380.1188799999998,288.398604,288.398604,287.48965400000003,334.71736200000004,564.820968,206.063676,414.68105,172.65959999999995,299.23,1176.07465,369.27575,2001.613806,188.099149,517.2144059999998,363.191275,1076.164,735.3375800000001,481.0373780000001,1037.8456,1996.634428,605.63798,1668.3998340000005,559.0745,144.278906,545.0203,311.019899,561.9448000000001,194.10385,481.7910600000001,362.2194,1200.5467620000004,1225.420162,210.91292400000003,4391.231631000001,736.88712,478.943984,899.9374779999999,563.9700399999998,1343.66196,359.68963999999994,252.1607,252.1607,1375.534258,1414.136867,1225.72969,127.143839,180.2529,223.1556,165.8806,1113.7076640000002,409.4225,177.98939799999997,320.5491,110.9588,81.02737900000001,518.0757,869.3606,402.007241,521.440724,523.1097900000001,2267.84576,922.223762,175.89010000000005,83.9489,139.76554,532.00649,449.043259,2704.5170000000003,184.20745,759.8807039999998,616.5880000000002,477.2637,419.554003,566.8988780000001,924.74236,276.9567,252.0421,576.931754,543.5146279999999,186.781768,358.286536,75.30516800000001,439.04276,383.077619,281.00056800000004,513.013301,223.7584,207.304103,290.73856499999994,785.9047039999998,108.06801,805.8338679999998,805.8338679999998,2546.5714,337.018636,359.54478,359.54478,867.8117669999998,748.231767,452.280707,794.780314,385.76704899999993,548.02178,584.2655800000001,173.06875000000005,116.00604,479.842778,206.130478,423.603314,121.4199,625.2224259999998,253.76344,408.908693,281.81877799999995,572.9156680000001,430.109528,1997.5155,269.413,297.067036,497.151189,151.1965,208.002412,1683.001407,985.2064979999996,4521.524604,143.58136199999996,242.309778,347.3406,239.298639,211.023711,187.7777,994.271743,589.0242000000002,365.827278,390.271068,847.1603,265.02018,213.81103,1008.479059,262.036,502.13202,651.573268,503.66474000000005,867.7558319999997,773.354767,928.887396,1077.027143,722.574396,890.3346359999997,630.7209929999998,960.343404,714.2465679999998,1501.339268,956.948107,953.062068,1557.1862680000004,393.53747,631.7252000000002,519.7566559999999,1014.105619,734.0953999999998,301.24279,634.5931039999998,714.2465679999998,141.759962,835.5760209999999,890.3346359999997,747.929118,841.7819529999998,935.325754,718.8653360000002,650.258696,848.6049109999999,399.784168,996.697411,292.627692,556.1041,244.213458,1049.1594,521.2582,579.616724,554.1314169999999,312.134446,704.4268099999999,1017.253524,1343.9818360000004,779.8041929999998,742.019518,1187.3763,1187.3763,268.7937,860.7893109999999,154.912568,644.7372109999999,71.797574,1170.8350019999998,368.97758,801.303287,493.25938,434.70649,258.9936,817.4322030000001,580.840526,1412.839,1484.082694,742.0927,556.7730899999998,190.28288,394.8972,266.81057000000004,720.659941,1389.13778,197.110209,214.899112,197.110209,195.900709,201.235209,197.902859,207.355209,635.089785,688.7049,660.38975,1138.729139,842.4944889999998,756.4619890000001,209.281023,294.342731,1650.81148,212.835203,1149.2488130000004,18.998403,304.071781,185.116281,829.141343,1027.003185,407.078107,1188.13151,1127.735053,734.287107,883.94557,859.718095,717.7161249999998,950.551403,1165.141742,775.8909349999999,781.8318,346.24687099999994,686.482306,869.074974,375.34505,375.34505,717.7161249999998,637.487421,592.5263649999998,369.365765,630.530321,317.1514400000001,976.894779,1110.2683,259.61458,738.8315959999996,301.85255,236.3877,126.3227,365.9437,498.48327,315.025341,1272.261024,605.824786,787.8582389999999,651.830604,2588.540962,357.336589,1360.82269,277.2901,294.441368,695.3801,250.731998,197.75872,480.836254,509.062174,686.72362,478.67368,478.67368,469.98653,474.5794,401.484636,225.187678,286.70747000000006,873.2484919999998,798.63108,1485.484426,481.92419,568.3149020000002,634.8195,925.40897,757.73885,570.5731,154.06483899999998,530.984468,495.210597,482.52019,279.03419,1287.470336,221.91365,946.247664,641.2421589999999,342.892551,2345.99596,739.7587900000001,885.9551600000003,532.5810809999999,150.55308000000005,1990.015074,369.0483,1231.8090140000004,417.593728,1231.8090140000004,1110.5379300000002,464.1558,240.11896,279.03775,576.3815,183.04452,353.02564,504.2064,380.5811900000001,629.077254,223.3851,2304.257876,1123.0886779999996,687.7819599999999,773.3495039999998,279.8106,253.265639,269.321239,219.089175,556.3946920000002,359.1325,651.024147,1680.239493,598.541478,418.273282,262.3079,465.5381,3305.874045,271.25169,391.269368,355.0162,212.597101,690.3075900000001,1136.2576,879.446509,134.818962,346.871929,155.03341,801.342539,770.421825,25.939403,842.750664,85.00283999999998,394.140568,609.8436609999999,758.5797680000002,276.957682,86.93684999999998,178.180988,408.97143000000005,170.15102,1195.3699500000002,384.9692500000001,850.0646199999999,1207.9714680000004,1918.649296,357.5943,1017.79503,1539.595141,98.9397,473.947548,980.28108,172.105839,154.089239,867.8117669999998,1055.9679010000002,330.6682239999999,137.14954,367.9716,618.4880390000002,518.094878,243.286862,556.55813,269.3873,597.221475,700.7657730000002,340.4713000000001,648.0205000000002,140.31104,640.8288299999999,290.479533,405.65049,348.100008,636.3488900000001,1332.6904499999996,166.16718,4.002602,1028.607429,493.90719,140.10113,72.85434000000002,924.253687,1111.7907,1720.510409,523.533626,216.47904,252.65643,231.37236200000004,4153.261079999999,290.5249520000001,136.32745,75.94054,134.818962,850.068995,956.269263,791.3691950000001,850.068995,764.6044989999998,1768.321951,384.8953,376.357839,252.76528,938.3142,112.152379,363.482439,86.182203,338.525636,833.4967999999999,265.4787,546.555768,909.3228,306.4174,242.759642,258.21762,475.97413,475.97413,346.228101,1053.896795,649.6705800000002,199.65052,610.256852,1433.203693,463.9406,745.9615799999998,683.18569,1503.8286,288.550366,925.212636,251.08219,1050.963993,324.94659,190.903221,1101.34794,566.036836,1002.901746,489.788203,500.033203,240.1438,3888.87356,749.828255,537.363,251.451976,117.87208,2156.202611,1516.56652,248.045084,429.624146,1132.372683,126.06604,92.09472,44.05316,235.590219,468.00864,487.346756,84.066879,1.00794,17.00734,87.8458,127.29005,151.91060000000004,271.081587,270.90243,75.5307,190.28328,190.28328,1980.589865,161.06954199999998,1980.589865,781.8188,68.12274000000001,264.883903,684.812003,420.561943,676.454203,238.083553,642.3548079999998,1509.98645,539.404143,180.2529,298.7163500000001,348.126802,1918.362,20.03116,20.03116,38.04644,35.02262,15.9994,17.00734,329.904,2034.827886,223.06277000000003,317.061704,787.41854,279.8493,190.459878,404.878339,1198.8242799999996,892.61595,1474.6057039999998,2348.22118,978.279738,150.62704000000005,465.99529999999993,381.5077,163.361965,512.575116,268.689178,280.2991,301.960568,285.094212,181.7225,158.38576,1109.0158,276.287901,534.330774,1204.505812,124.054748,91.7008,1196.8363800000004,1038.5546599999998,187.53062,620.072177,301.2987,201.3034,374.283278,450.2644,294.7341,144.02937799999995,152.6859,1215.565771,854.352136,1292.7322800000004,136.67973899999998,171.09975,511.765348,220.08379,1072.987058,2185.8608699999995,497.058324,296.0161,332.540862,688.123241,740.5308480000001,293.16725,1375.5618800000002,146.54496799999995,481.367696,286.11276000000004,304.617179,714.0209,99.1075,1935.065854,473.3156,284.02525,135.103468,105.91122,255.922278,216.84940000000003,1973.9126530000003,491.604492,851.8885219999999,66.9409,212.74678,150.17963999999998,685.8497,569.3108,503.962311,1596.006274,483.79378,84.066879,804.8702900000002,579.512489,224.881286,1292.14053,282.38056800000004,2895.7692950000005,1209.7791499999996,328.065973,259.101481,205.544781,337.5874,2867.409258,1891.71501,1140.6196240000004,1061.53268,482.4398000000001,403.57942,439.87835,888.288724,2197.344965,575.97009,219.80013,196.3137,147.13323999999997,852.7401500000002,681.1158800000002,249.6206,337.3365859999999,846.1129390000001,362.143763,437.30018,609.89714,938.2802,447.22424,1695.8817600000002,1150.579878,1732.2408999999998,429.8731,352.488136,1802.49867,881.2343599999999,544.0047999999998,351.852864,193.294862,415.6867,91.4198,203.2813,205.2578,211.3778,452.47698000000014,2556.078589,351.6865390000001,272.08104,327.54084,847.4889599999998,465.70575,1011.076836,1612.24513,349.27033900000004,83.8,297.633412,524.39346,751.9981359999998,788.133104,564.587303,363.446896,554.0835519999999,563.203593,695.779154,248.322843,922.446319,1776.7865350000002,498.006,170.124778,184.161679,1201.491178,342.96309,354.255226,295.70194,482.030568,976.005366,482.030568,3359.357877000001,131.942272,4109.7328,351.7072,1304.7949230000002,813.909075,468.47638000000006,468.47638000000006,812.6611889999998,701.0989179999998,241.786412,2202.83215,513.4232400000001,363.458999,1237.64264,453.89,390.94658,218.08076,1574.250508,729.3462,706.1466679999999,662.5644950000002,291.699948,343.616012,768.4990119999999,487.185328,341.8668,389.88334,843.4715689999998,646.8783800000001,1204.419029,91.2997,173.122428,207.935378,1847.04979,247.4498,279.23078,783.0414179999998,619.9633279999998,1025.832216,452.685,782.7171800000001,106.290685,719.61087,316.1351,394.550588,306.09932000000003,305.09072000000003,110.16473899999998,393.773024,470.248636,701.37,376.42169,1566.295019,710.93335,538.96145,114.97728,619.2137,242.0805,339.6969400000001,872.786569,56.0774,596.59726,114.94725,958.6978,502.8389,1765.1808999999996,286.982616,1492.618359,780.9698599999998,202.0767,1572.5544619999998,397.970068,578.39954,121.86732899999998,92.853962,1034.426858,432.8344,983.184356,397.970068,994.83561,898.332408,118.40398,118.40398,299.280497,1013.20232,505.845802,227.70834900000003,482.922,301.3411200000001,739.743832,398.462036,404.826536,165.47198999999998,235.9932,383.171362,1531.7907000000002,131.895548,638.619458,261.113739,259.46022200000004,303.0782,1155.51082,480.051742,248.4532,1078.898,787.033385,306.255728,740.8474239999998,794.7990789999999,751.3891179999998,722.574396,859.718095,858.292382,1013.20232,321.308564,287.024578,144.2966,621.3478,91.2459,559.2627190000002,927.5048390000004,877.550034,744.549635,776.5490950000002,605.417296,1072.425603,657.0754559999998,613.6425360000002,317.848536,438.62873600000006,703.3496610000002,874.8987999999998,1013.20232,159.6922,566.432,437.164268,165.20958000000005,360.1888,586.53174,537.6059580000001,1345.3945130000002,415.382504,256.2205,423.63114,159.145745,389.362118,763.10011,599.65234,908.142436,815.0842279999998,679.5010289999999,292.94095,453.537,668.701325,630.7209929999998,1361.4213389999998,1482.0048680000002,575.4245900000001,277.26384,632.977972,568.834854,351.953578,122.93355,860.664857,1622.5106319999993,781.15494,476.2635,908.142436,1203.0741859999998,496.43079000000006,376.79053,638.7080000000002,5678.131706,3335.5745,260.86448900000005,1296.50034,681.4419800000002,1827.18335,508.317914,515.6071,1590.926499,1737.4755120000002,343.969438,1879.612526,388.62402,1619.74834,143.01425,791.417408,898.3976470000001,257.27824,691.9739880000002,1054.425848,443.066409,503.0462,138.07658800000002,575.0104,3953.296164,402.97413,361.0081,498.784546,365.256704,242.0311,269.72720000000004,929.00093,1243.59629,1258.123584,710.848356,190.7868,811.2439280000001,316.596932,634.1765,114.9981,533.991,298.31278999999995,928.3492,326.7232640000001,4006.504713,367.063125,367.063125,273.34762,715.6392000000002,1064.4486820000004,202.8903,328.7052,375.093862,977.430724,977.430724,43.81774,361.902468,391.8806,1017.86078,1020.94698,121.929468,355.99003,395.268382,609.6691599999998,1306.2482,273.98816800000003,855.4516480000001,975.415124,975.415124,493.664661,266.867901,312.74136200000004,990.975872,56.06172,81.09165999999998,726.590686,346.1004999999999,826.923721,585.15913,207.7576,269.45031900000004,314.281655,253.0809,1017.489561,558.054519,491.2457,2091.116143,1855.964658,455.046164,189.5491,556.3946460000002,828.4241,374.17346,318.1588,1545.1145,91.2997,235.086362,233.876862,239.211362,245.331362,273.122544,198.822183,128.4104,1867.784354,160.178539,408.7802,405.436002,360.1122079999999,83.9489,696.4631899999998,322.02168,125.022742,433.02649,280.86396,321.012657,1134.8565220000005,2179.708922,378.9947,504.57483600000006,378.11805,230.080089,964.132264,259.68600000000004,892.3651000000001,217.552217,773.09876,157.96068799999998,2332.092414,329.065257,657.4926849999998,2414.191156,304.338559,624.828067,325.33253,509.00918,338.485503,552.9174,566.268138,1847.967795,578.656204,790.2392,125.95943799999998,108.90273,1900.184035,154.011518,708.99864,264.8908,570.9271249999998,597.68355,98.9987,2795.027196,183.937966,281.067636,490.4225,469.03077,320.357146,130.954068,112.979104,170.14174699999995,294.342731,184.615248,159.909568,625.4785159999999,668.581156,696.500348,232.020277,268.774634,229.977163,182.147536,432.883768,66.99956800000001,3006.62584,391.031082,532.412838,889.2871899999999,2220.499754,200.027301,85.291574,654.8430000000002,335.9139,20.1797,138.36004,185.0512,889.5743560000001,174.330142,759.8036890000002,163.916152,692.995576,466.87213,130.17666,226.84134,321.54208,532.7573480000001,1006.9994,56.098980000000005,280.64652,283.918646,727.8001300000002,1136.7021160000004,1404.894917,776.782583,197.33928,228.08548,14.00674,140.35494,167.11148799999998,1031.871581,1004.952005,185.5984,639.5185969999999,566.1461360000001,193.06045,189.6424,155.20916799999995,523.32689,523.32689,523.32689,120.54844,773.563125,1302.971093,424.922288,630.7209929999998,907.48223,473.317516,439.764778,435.900529,531.9448,313.19419000000005,1540.716589,126.9727,472.51105,411.33112399999993,242.5601,301.03943,576.757304,333.68442000000005,623.665128,287.683917,2133.852416,536.09132,618.4891,4355.05792,1134.98855,1384.4628,188.2382,704.5727400000001,1247.557,264.3234,892.92083,61.88674,62.987942,367.3028959999999,382.7982,466.3881,370.375263,76.03153999999998,734.549303,695.7753890000001,509.901437,774.703535,805.3535889999999,355.041758,31.9988,893.6641000000002,331.6567,249.7573,368.881094,200.71506,262.133005,422.59236,292.09161,297.50306300000005,122.4194,310.3631000000001,169.17738,969.839606,286.0214,327.458078,573.4102,286.7065300000001,667.542706,651.830604,369.0483,261.781362,305.37033599999995,655.4504000000002,261.4362,82.9403,257.821004,592.468151,435.74364,670.8669259999999,218.454362,236.62939,83.89574,83.8964,412.75873,668.9916599999999,668.9916599999999,143.5994,575.9034,1356.936836,293.8499,1349.673555,1750.3913260000002,2768.138380000001,3158.965302,1001.369211,743.6963400000001,1050.70429,538.751362,147.0051,1617.87838,360.807332,644.24018,131.895548,428.6411000000001,992.265496,206.5135,557.033989,537.7661,407.885108,575.0005940000001,1323.22306,234.75,215.774,456.734339,1383.692117,896.7936,446.68302,561.6304,918.478578,713.8913610000001,2537.6523260000004,932.333369,786.6024789999999,564.479612,441.0183,580.518278,550.020504,181.5517,1344.470144,4870.55365,392.6234,69.39784,227.09828,252.386403,709.1631,252.386403,250.39534,109.7029,329.7306,124.49554,596.23738,424.240025,424.240025,579.253564,463.030269,635.680124,533.514056,635.680124,591.444992,837.3662499999998,628.5902990000001,375.34505,1480.3183359999996,132.056302,367.789816,577.369182,643.824252,186.848922,479.547201,1309.979302,1224.176424,1564.4400300000002,213.51274,241.308762,780.1911069999999,1759.2464220000004,522.4363999999998,141.09224799999996,732.513957,111.144439,452.881063,439.5687,717.785,671.4895799999998,1465.2661999999998,361.383,541.3582,240.413203,241.17060000000004,142.6352,190.25438,738.629768,1854.31357,434.00420000000014,624.73409,1623.862916,3716.496019,741.0817969999998,831.2569530000002,438.881808,896.9739959999997,1152.127184,903.13284,639.936881,1014.815014,910.420802,612.9989999999998,936.77829,245.635425,310.5085,1266.8431,517.09938,359.445868,6147.91918,351.19376800000003,104.10572,91.08678,2368.9152350000004,166.053884,466.71138,1075.4053,124.6937,471.80645,786.990038,520.41645,252.67431,920.3078000000004,294.82441200000005,242.0311,1167.7131,221.370557,737.0482000000002,291.92067000000003,629.385539,913.055999,260.0264,4343.61495,705.5201460000002,320.05854,160.19207999999998,378.08509,164.98318,184.20745,436.96882,398.312,124.6937,110.006239,112.4894,512.775006,204.862336,723.0713109999998,24.81774,941.022496,2556.266702,44.0849,1315.8935,598.0498,131.326619,260.220722,384.25618,426.956036,398.74300000000005,217.92896,2896.143060000001,86.93684999999998,143.01425,1274.564115,288.4008,365.56520000000006,730.1673900000001,612.994052,578.2223799999999,354.5328,246.052468,317.608162,279.296605,957.446939,316.00799,176.80404,1128.897512,620.665423,720.2668,221.102562,387.5666,227.70834900000003,123.02645,1179.6702340000004,318.99743,895.7714700000001,14241.839599999998,782.8574480000001,1362.1033160000004,411.55059,153.387768,340.06697,360.509524,118.819562,610.55565,321.465536,1369.6476040000002,283.292059,108.30704,320.05619000000013,134.7094,1604.81236,298.825939,681.622718,291.91574999999995,731.495827,347.89956,94.529103,807.4861349999999,915.369668,932.47061,366.50038000000006,4047.255959000001,310.0174,315.65203,776.2771389999999,240.11896,716.6485,1583.001968,710.342207,386.36275,260.55847000000006,1969.9654,274.6515,323.8535,481.1018,1617.6366389999996,546.9341200000001,773.000346,479.1909,1756.2209899999998,1285.742514,435.11088,137.2188,50.46738,239.45661,152.478818,1220.85574,312.7972,209.0024,292.297146,314.7123,318.278378,229.229378,424.14104,344.7748,370.298368,963.44091,212.7116,555.802037,206.665362,400.91677,453.75979,1009.9678,1102.3199,511.468536,1375.8979539999998,835.842446,90.39075,837.860596,379.972159,515.821446,484.60286,209.6058,1211.3981700000004,967.86848,210.76748000000003,288.324924,1518.327318,1174.9376,1971.492208,1533.467984,429.6265,861.8351500000001,161.03028,218.454362,604.9253739999998,811.456197,188.80138,513.243,1457.649008,315.12833,406.6059,271.2648,292.9561,453.28249,2138.075619,3570.07875,1151.569595,629.46785,217.97344,519.5658,1083.413668,134.917952,1201.955004,490.4086,871.3147960000001,98.9397,504.077377,513.7598389999998,337.67611800000003,181.775,596.071346,735.39946,406.5659,391.948594,796.22375,373.690078,99.8958,196.698012,69.85374,365.006736,239.898748,719.87504,346.88772,124.029748,285.06407,313.27524599999987,221.003012,113.907516,218.26238,110.095739,93.54598,386.094836,143.18473999999995,335.549182,444.215168,1393.6451500000005,731.654556,850.53751,2258.2270869999998,2623.2485,490.191518,845.565753,182.199867,328.6436,213.347,280.06866,532.9364,328.6436,721.225632,591.1003410000001,355.6363990000001,344.179362,153.13564,272.97797,372.7131240000001,568.47,374.13565,165.07327800000002,3322.6523999999995,361.109465,199.7702,155.1034,332.540862,916.048172,192.42972,717.645,4958.623750000002,519.653848,931.297878,185.991639,479.5239800000001,357.222754,432.00169000000005,184.1999,1557.0033,590.5577740000001,244.67979000000005,459.61188,366.7055,220.6997,534.0167240000002,614.4325769999999,225.8002,231.1347,579.607,312.971,254.332467,1838.467944,262.036,749.8766710000001,267.85519,277.26838,313.288365,348.739046,1726.284368,418.1334,106.618403,791.16044,472.992084,803.1691569999998,271.219962,498.680774,213.428442,387.717695,243.520303,125.506271,150.17638,485.16894,1462.4054,2322.7555959999995,636.145973,1706.0994069999997,322.9560800000001,367.131598,318.285278,1739.4208600000004,192.747968,74.551,2437.8696,623.5848299999999,168.24428,385.59822,136.01019,136.91914,1085.3738,636.764739,502.9899,196.672403,66.8884,1436.7293,130.692679,200.7774,1229.73396,360.821154,873.8175800000004,432.9405,396.9105,431.731,437.0655,433.73315,451.75084,432.63753,441.75642,451.7931,445.76031,449.8661,268.7937,715.8735999999999,1586.8068789999998,1985.5564300000003,2544.249004,830.1407340000002,293.401702,86.260808,275.17420000000004,588.086688,209.93285,292.3813,1653.520528,662.6750400000002,79.05564,419.511069,419.511069,239.215046,226.68595,366.390462,529.966453,204.48239,74.69279999999998,872.563276,168.14144499999998,442.73979,1257.368525,672.2773850000002,576.6022,742.5822360000001,942.67484,327.9163,918.107663,225.618151,190.301793,488.5752,336.042102,601.3219859999998,624.147178,281.12261,707.03543,898.041966,63.8794,778.1367,196.8351,288.23359700000003,1117.159911,98.9987,821.5907900000002,203.85704,317.7021900000001,209.251639,508.385739,665.646428,519.74112,1451.5148,275.486,228.0347,166.11787800000005,1046.30602,598.6649530000001,527.832138,453.2399400000001,780.1718,1704.652884,170.46639000000005,245.921682,209.275979,1214.551819,919.573878,1607.0622280000002,1173.883996,395.682647,127.9388,362.934868,143.12856200000002,470.379068,570.947048,641.179604,384.5416,203.526487,339.59178,410.287868,238.52849,1549.9883100000004,706.724495,836.700288,361.1270740000001,361.1270740000001,648.4896180000002,123.370568,784.7227670000002,175.5734,895.5838270000003,2026.1162,285.009856,323.45632,542.217806,951.998882,347.007002,457.2424,1685.5168,856.3918,567.9740009999999,528.01487,1100.30235,361.68036,432.6058100000001,539.76278,651.9090970000002,1368.049229,1436.2567779999997,214.9832,3595.9264,1644.146424,285.401504,1456.207054,1277.103442,231.776592,3074.94405,270.406559,462.7058,630.81925,860.1171800000001,312.245817,380.36604,356.492362,1623.1098580000007,565.92488,1727.658278,259.965062,100.9044,239.036568,78.007439,440.57064,1075.865056,3074.60445,1214.939725,186.583382,306.23292999999995,294.8116,1244.9687199999996,383.72971899999993,1886.5768,314.196,176.149979,573.86195,121.87895,967.359864,873.8344599999999,992.769078,401.542578,190.4066,693.1637000000002,126.902656,155.84675,998.2562,860.9220300000002,445.7341,1095.915836,382.755562,471.725311,154.26128400000002,359.0173999999999,381.148264,2712.4997860000008,280.25067,691.016717,1036.880008,387.24331899999993,2342.1960280000003,227.2497,192.570648,355.9537,1144.5575,799.3187800000002,763.5599520000002,763.5599520000002,314.64141199999995,719.6094780000001,664.0677229999999,804.2841400000001,351.418,504.6608319999999,277.16353000000004,925.409536,583.5585169999999,690.0923789999998,523.9379,207.4788,565.5879,492.24855599999984,793.7521189999999,991.910808,348.4851,348.4851,4572.5386,482.485624,239.600079,534.5880000000001,390.632092,748.0167089999999,488.3256,1727.4015579999998,97.3888,399.167391,131.29,135.87901200000002,1165.7674679999998,662.6063,175.0095,421.934398,928.62985,328.6632,171.202339,526.432592,374.770009,206.2652,626.8094169999998,715.140429,899.4922120000001,482.476034,298.7163500000001,313.9797,388.951778,643.643498,2388.2732180000007,1837.289374,479.0075800000001,254.36641200000005,243.978173,1229.124228,490.535146,375.497389,1481.4138440000004,191.778103,401.837844,512.3583,1366.332546,631.3151900000001,1366.332546,365.226892,192.3482,661.635917,241.540339,241.540339,286.70747000000006,957.0688,145.4542,699.777801,173.30379999999997,269.364636,677.0900389999999,1005.674169,1037.6264640000002,225.663765,291.060339],\"xaxis\":\"x\",\"yaxis\":\"y\",\"type\":\"histogram\"}],                        {\"template\":{\"data\":{\"bar\":[{\"error_x\":{\"color\":\"#2a3f5f\"},\"error_y\":{\"color\":\"#2a3f5f\"},\"marker\":{\"line\":{\"color\":\"#E5ECF6\",\"width\":0.5},\"pattern\":{\"fillmode\":\"overlay\",\"size\":10,\"solidity\":0.2}},\"type\":\"bar\"}],\"barpolar\":[{\"marker\":{\"line\":{\"color\":\"#E5ECF6\",\"width\":0.5},\"pattern\":{\"fillmode\":\"overlay\",\"size\":10,\"solidity\":0.2}},\"type\":\"barpolar\"}],\"carpet\":[{\"aaxis\":{\"endlinecolor\":\"#2a3f5f\",\"gridcolor\":\"white\",\"linecolor\":\"white\",\"minorgridcolor\":\"white\",\"startlinecolor\":\"#2a3f5f\"},\"baxis\":{\"endlinecolor\":\"#2a3f5f\",\"gridcolor\":\"white\",\"linecolor\":\"white\",\"minorgridcolor\":\"white\",\"startlinecolor\":\"#2a3f5f\"},\"type\":\"carpet\"}],\"choropleth\":[{\"colorbar\":{\"outlinewidth\":0,\"ticks\":\"\"},\"type\":\"choropleth\"}],\"contour\":[{\"colorbar\":{\"outlinewidth\":0,\"ticks\":\"\"},\"colorscale\":[[0.0,\"#0d0887\"],[0.1111111111111111,\"#46039f\"],[0.2222222222222222,\"#7201a8\"],[0.3333333333333333,\"#9c179e\"],[0.4444444444444444,\"#bd3786\"],[0.5555555555555556,\"#d8576b\"],[0.6666666666666666,\"#ed7953\"],[0.7777777777777778,\"#fb9f3a\"],[0.8888888888888888,\"#fdca26\"],[1.0,\"#f0f921\"]],\"type\":\"contour\"}],\"contourcarpet\":[{\"colorbar\":{\"outlinewidth\":0,\"ticks\":\"\"},\"type\":\"contourcarpet\"}],\"heatmap\":[{\"colorbar\":{\"outlinewidth\":0,\"ticks\":\"\"},\"colorscale\":[[0.0,\"#0d0887\"],[0.1111111111111111,\"#46039f\"],[0.2222222222222222,\"#7201a8\"],[0.3333333333333333,\"#9c179e\"],[0.4444444444444444,\"#bd3786\"],[0.5555555555555556,\"#d8576b\"],[0.6666666666666666,\"#ed7953\"],[0.7777777777777778,\"#fb9f3a\"],[0.8888888888888888,\"#fdca26\"],[1.0,\"#f0f921\"]],\"type\":\"heatmap\"}],\"heatmapgl\":[{\"colorbar\":{\"outlinewidth\":0,\"ticks\":\"\"},\"colorscale\":[[0.0,\"#0d0887\"],[0.1111111111111111,\"#46039f\"],[0.2222222222222222,\"#7201a8\"],[0.3333333333333333,\"#9c179e\"],[0.4444444444444444,\"#bd3786\"],[0.5555555555555556,\"#d8576b\"],[0.6666666666666666,\"#ed7953\"],[0.7777777777777778,\"#fb9f3a\"],[0.8888888888888888,\"#fdca26\"],[1.0,\"#f0f921\"]],\"type\":\"heatmapgl\"}],\"histogram\":[{\"marker\":{\"pattern\":{\"fillmode\":\"overlay\",\"size\":10,\"solidity\":0.2}},\"type\":\"histogram\"}],\"histogram2d\":[{\"colorbar\":{\"outlinewidth\":0,\"ticks\":\"\"},\"colorscale\":[[0.0,\"#0d0887\"],[0.1111111111111111,\"#46039f\"],[0.2222222222222222,\"#7201a8\"],[0.3333333333333333,\"#9c179e\"],[0.4444444444444444,\"#bd3786\"],[0.5555555555555556,\"#d8576b\"],[0.6666666666666666,\"#ed7953\"],[0.7777777777777778,\"#fb9f3a\"],[0.8888888888888888,\"#fdca26\"],[1.0,\"#f0f921\"]],\"type\":\"histogram2d\"}],\"histogram2dcontour\":[{\"colorbar\":{\"outlinewidth\":0,\"ticks\":\"\"},\"colorscale\":[[0.0,\"#0d0887\"],[0.1111111111111111,\"#46039f\"],[0.2222222222222222,\"#7201a8\"],[0.3333333333333333,\"#9c179e\"],[0.4444444444444444,\"#bd3786\"],[0.5555555555555556,\"#d8576b\"],[0.6666666666666666,\"#ed7953\"],[0.7777777777777778,\"#fb9f3a\"],[0.8888888888888888,\"#fdca26\"],[1.0,\"#f0f921\"]],\"type\":\"histogram2dcontour\"}],\"mesh3d\":[{\"colorbar\":{\"outlinewidth\":0,\"ticks\":\"\"},\"type\":\"mesh3d\"}],\"parcoords\":[{\"line\":{\"colorbar\":{\"outlinewidth\":0,\"ticks\":\"\"}},\"type\":\"parcoords\"}],\"pie\":[{\"automargin\":true,\"type\":\"pie\"}],\"scatter\":[{\"marker\":{\"colorbar\":{\"outlinewidth\":0,\"ticks\":\"\"}},\"type\":\"scatter\"}],\"scatter3d\":[{\"line\":{\"colorbar\":{\"outlinewidth\":0,\"ticks\":\"\"}},\"marker\":{\"colorbar\":{\"outlinewidth\":0,\"ticks\":\"\"}},\"type\":\"scatter3d\"}],\"scattercarpet\":[{\"marker\":{\"colorbar\":{\"outlinewidth\":0,\"ticks\":\"\"}},\"type\":\"scattercarpet\"}],\"scattergeo\":[{\"marker\":{\"colorbar\":{\"outlinewidth\":0,\"ticks\":\"\"}},\"type\":\"scattergeo\"}],\"scattergl\":[{\"marker\":{\"colorbar\":{\"outlinewidth\":0,\"ticks\":\"\"}},\"type\":\"scattergl\"}],\"scattermapbox\":[{\"marker\":{\"colorbar\":{\"outlinewidth\":0,\"ticks\":\"\"}},\"type\":\"scattermapbox\"}],\"scatterpolar\":[{\"marker\":{\"colorbar\":{\"outlinewidth\":0,\"ticks\":\"\"}},\"type\":\"scatterpolar\"}],\"scatterpolargl\":[{\"marker\":{\"colorbar\":{\"outlinewidth\":0,\"ticks\":\"\"}},\"type\":\"scatterpolargl\"}],\"scatterternary\":[{\"marker\":{\"colorbar\":{\"outlinewidth\":0,\"ticks\":\"\"}},\"type\":\"scatterternary\"}],\"surface\":[{\"colorbar\":{\"outlinewidth\":0,\"ticks\":\"\"},\"colorscale\":[[0.0,\"#0d0887\"],[0.1111111111111111,\"#46039f\"],[0.2222222222222222,\"#7201a8\"],[0.3333333333333333,\"#9c179e\"],[0.4444444444444444,\"#bd3786\"],[0.5555555555555556,\"#d8576b\"],[0.6666666666666666,\"#ed7953\"],[0.7777777777777778,\"#fb9f3a\"],[0.8888888888888888,\"#fdca26\"],[1.0,\"#f0f921\"]],\"type\":\"surface\"}],\"table\":[{\"cells\":{\"fill\":{\"color\":\"#EBF0F8\"},\"line\":{\"color\":\"white\"}},\"header\":{\"fill\":{\"color\":\"#C8D4E3\"},\"line\":{\"color\":\"white\"}},\"type\":\"table\"}]},\"layout\":{\"annotationdefaults\":{\"arrowcolor\":\"#2a3f5f\",\"arrowhead\":0,\"arrowwidth\":1},\"autotypenumbers\":\"strict\",\"coloraxis\":{\"colorbar\":{\"outlinewidth\":0,\"ticks\":\"\"}},\"colorscale\":{\"diverging\":[[0,\"#8e0152\"],[0.1,\"#c51b7d\"],[0.2,\"#de77ae\"],[0.3,\"#f1b6da\"],[0.4,\"#fde0ef\"],[0.5,\"#f7f7f7\"],[0.6,\"#e6f5d0\"],[0.7,\"#b8e186\"],[0.8,\"#7fbc41\"],[0.9,\"#4d9221\"],[1,\"#276419\"]],\"sequential\":[[0.0,\"#0d0887\"],[0.1111111111111111,\"#46039f\"],[0.2222222222222222,\"#7201a8\"],[0.3333333333333333,\"#9c179e\"],[0.4444444444444444,\"#bd3786\"],[0.5555555555555556,\"#d8576b\"],[0.6666666666666666,\"#ed7953\"],[0.7777777777777778,\"#fb9f3a\"],[0.8888888888888888,\"#fdca26\"],[1.0,\"#f0f921\"]],\"sequentialminus\":[[0.0,\"#0d0887\"],[0.1111111111111111,\"#46039f\"],[0.2222222222222222,\"#7201a8\"],[0.3333333333333333,\"#9c179e\"],[0.4444444444444444,\"#bd3786\"],[0.5555555555555556,\"#d8576b\"],[0.6666666666666666,\"#ed7953\"],[0.7777777777777778,\"#fb9f3a\"],[0.8888888888888888,\"#fdca26\"],[1.0,\"#f0f921\"]]},\"colorway\":[\"#636efa\",\"#EF553B\",\"#00cc96\",\"#ab63fa\",\"#FFA15A\",\"#19d3f3\",\"#FF6692\",\"#B6E880\",\"#FF97FF\",\"#FECB52\"],\"font\":{\"color\":\"#2a3f5f\"},\"geo\":{\"bgcolor\":\"white\",\"lakecolor\":\"white\",\"landcolor\":\"#E5ECF6\",\"showlakes\":true,\"showland\":true,\"subunitcolor\":\"white\"},\"hoverlabel\":{\"align\":\"left\"},\"hovermode\":\"closest\",\"mapbox\":{\"style\":\"light\"},\"paper_bgcolor\":\"white\",\"plot_bgcolor\":\"#E5ECF6\",\"polar\":{\"angularaxis\":{\"gridcolor\":\"white\",\"linecolor\":\"white\",\"ticks\":\"\"},\"bgcolor\":\"#E5ECF6\",\"radialaxis\":{\"gridcolor\":\"white\",\"linecolor\":\"white\",\"ticks\":\"\"}},\"scene\":{\"xaxis\":{\"backgroundcolor\":\"#E5ECF6\",\"gridcolor\":\"white\",\"gridwidth\":2,\"linecolor\":\"white\",\"showbackground\":true,\"ticks\":\"\",\"zerolinecolor\":\"white\"},\"yaxis\":{\"backgroundcolor\":\"#E5ECF6\",\"gridcolor\":\"white\",\"gridwidth\":2,\"linecolor\":\"white\",\"showbackground\":true,\"ticks\":\"\",\"zerolinecolor\":\"white\"},\"zaxis\":{\"backgroundcolor\":\"#E5ECF6\",\"gridcolor\":\"white\",\"gridwidth\":2,\"linecolor\":\"white\",\"showbackground\":true,\"ticks\":\"\",\"zerolinecolor\":\"white\"}},\"shapedefaults\":{\"line\":{\"color\":\"#2a3f5f\"}},\"ternary\":{\"aaxis\":{\"gridcolor\":\"white\",\"linecolor\":\"white\",\"ticks\":\"\"},\"baxis\":{\"gridcolor\":\"white\",\"linecolor\":\"white\",\"ticks\":\"\"},\"bgcolor\":\"#E5ECF6\",\"caxis\":{\"gridcolor\":\"white\",\"linecolor\":\"white\",\"ticks\":\"\"}},\"title\":{\"x\":0.05},\"xaxis\":{\"automargin\":true,\"gridcolor\":\"white\",\"linecolor\":\"white\",\"ticks\":\"\",\"title\":{\"standoff\":15},\"zerolinecolor\":\"white\",\"zerolinewidth\":2},\"yaxis\":{\"automargin\":true,\"gridcolor\":\"white\",\"linecolor\":\"white\",\"ticks\":\"\",\"title\":{\"standoff\":15},\"zerolinecolor\":\"white\",\"zerolinewidth\":2}}},\"xaxis\":{\"anchor\":\"y\",\"domain\":[0.0,1.0],\"title\":{\"text\":\"Molar Mass\"}},\"yaxis\":{\"anchor\":\"x\",\"domain\":[0.0,1.0],\"title\":{\"text\":\"count\"}},\"legend\":{\"tracegroupgap\":0},\"margin\":{\"t\":60},\"barmode\":\"relative\"},                        {\"responsive\": true}                    ).then(function(){\n                            \nvar gd = document.getElementById('bc8578da-9a9f-4e36-9b46-36e5341048f7');\nvar x = new MutationObserver(function (mutations, observer) {{\n        var display = window.getComputedStyle(gd).display;\n        if (!display || display === 'none') {{\n            console.log([gd, 'removed!']);\n            Plotly.purge(gd);\n            observer.disconnect();\n        }}\n}});\n\n// Listen for the removal of the full notebook cells\nvar notebookContainer = gd.closest('#notebook-container');\nif (notebookContainer) {{\n    x.observe(notebookContainer, {childList: true});\n}}\n\n// Listen for the clearing of the current output cell\nvar outputEl = gd.closest('.output');\nif (outputEl) {{\n    x.observe(outputEl, {childList: true});\n}}\n\n                        })                };                            </script>        </div>\n</body>\n</html>"
     },
     "execution_count": 27,
     "metadata": {
     },
     "output_type": "execute_result"
    }
   ],
   "source": [
    "fig = px.histogram(minerals_database, x=\"Molar Mass\")\n",
    "fig.show()"
   ]
  },
  {
   "cell_type": "code",
   "execution_count": 30,
   "metadata": {
    "collapsed": false
   },
   "outputs": [
    {
     "data": {
      "text/html": "<html>\n<head><meta charset=\"utf-8\" /></head>\n<body>\n    <div>            <script src=\"https://cdnjs.cloudflare.com/ajax/libs/mathjax/2.7.5/MathJax.js?config=TeX-AMS-MML_SVG\"></script><script type=\"text/javascript\">if (window.MathJax) {MathJax.Hub.Config({SVG: {font: \"STIX-Web\"}});}</script>                <script type=\"text/javascript\">window.PlotlyConfig = {MathJaxConfig: 'local'};</script>\n        <script src=\"https://cdn.plot.ly/plotly-2.9.0.min.js\"></script>                <div id=\"0e15dbb2-3633-4f30-8287-d836a2fc83af\" class=\"plotly-graph-div\" style=\"height:525px; width:100%;\"></div>            <script type=\"text/javascript\">                                    window.PLOTLYENV=window.PLOTLYENV || {};                                    if (document.getElementById(\"0e15dbb2-3633-4f30-8287-d836a2fc83af\")) {                    Plotly.newPlot(                        \"0e15dbb2-3633-4f30-8287-d836a2fc83af\",                        [{\"alignmentgroup\":\"True\",\"bingroup\":\"x\",\"hovertemplate\":\"Molar Volume=%{x}<br>count=%{y}<extra></extra>\",\"legendgroup\":\"\",\"marker\":{\"color\":\"#636efa\",\"pattern\":{\"shape\":\"\"}},\"name\":\"\",\"offsetgroup\":\"\",\"orientation\":\"v\",\"showlegend\":false,\"x\":[0.1233899099999999,0.0560833,0.1226312,0.03365786,0.1120738,0.04488729,0.05602542,0.06726,0.30261434,0.03363099,0.22418233,0.1232415799999999,0.04482338,0.22444096,0.627796,0.2466529,0.1235282999999999,0.10084299,0.42597816,0.08945818,0.22407114,0.0560239699999999,0.03364709,0.01120335,0.0112221,0.04489115,0.07855634,0.1120512,0.02241509,0.08970606,0.5605646099999999,0.0447131999999999,0.0448985,0.08981524,0.05608931,0.235479,0.06731054,0.03371291,0.2019884,0.1120559999999999,0.35882979,0.10066339,0.11208809,0.36975638,0.04485609,0.6722951799999999,0.33612298,0.04485198,0.12324897,0.2914402999999999,0.08975368,0.06745038,0.04486999,0.0112066,0.04481608,0.0785406199999999,0.08975576,0.0112539,0.1569551599999999,0.0224343,0.07850138,0.04489097,0.17941212,0.08975176,0.0334553,0.13459948,0.5724956999999999,0.10083658,0.0225236,0.0560697,0.02242321,0.0336958,0.0336647,0.0897457,0.0674106,0.0112096,0.0336372,0.08970295,0.0112091,0.04486528,0.0896433099999999,0.0784462899999999,0.0670528,0.17938126,0.05585618,0.29115948,0.03366098,0.03364709,0.06731653,0.0672381599999999,0.2689134,0.03365609,0.05601349,0.11209396,0.1793218199999999,0.0224026,0.07844678,0.05608708,0.08949229,0.0112141,0.12368525,0.08897821,0.06725162,0.0560481999999999,0.06724267,0.41497258,0.02256666,0.1794888999999999,0.0224538,0.0784669299999999,0.05602215,0.2691174,0.02241899,0.04484186,0.13448904,0.13448904,0.03365288,0.03364999,0.03362863,0.1009023,0.06734836,0.03359535,0.033436,0.0336308,0.04483211,0.17932862,0.02241405,0.1120702,0.04479943,0.2690581200000001,0.0449321,0.05603911,0.03344478,0.03375238,0.05585618,0.08979658,0.2016994,0.0337051,0.0336295,0.1792797699999999,0.0896894999999999,0.02248933,0.17926476,0.01120088,0.0224026,0.03364806,0.02242,0.0672189,0.06722118,0.31379963,0.1122077999999999,0.02241177,0.1008668,0.10107386,0.06728143,0.16826143,0.07850258,0.1569132999999999,0.04481868,0.01122721,0.0112225399999999,0.1009180999999999,0.35853651,0.06739351,0.12340381,0.0786369,0.01120423,0.0560858899999999,0.0554494,0.0672425399999999,0.0112477,0.06732372,0.03366343,0.0112122,0.11209644,0.07849808,0.08969546,0.02241561,0.0448204,0.0337894999999999,0.10079458,0.12324931,0.19049767,0.0552323,0.15663078,0.04499144,0.0560456999999999,0.05603539,0.5717905,0.31387081,0.0110403,0.10086839,0.03363388,0.07845319,0.01121032,0.03361286,0.0561182,0.0224283,0.0336142,0.04487237,0.0784471599999999,0.1232808,0.11209253,0.03367798,0.0896164,0.13447062,0.0784569,0.0336995,0.06725009,0.07800131,0.0672569,0.04485679,0.04485437,0.08964737,0.01120599,0.0220783,0.12330019,0.0448082,0.04481662,0.06723028,0.01125959,0.02244505,0.15691265,0.01120309,0.06726169,0.1008920999999999,0.1009038,0.35892584,0.04489298,0.0112364699999999,0.05602239,0.04484439,0.0672431,0.01121308,0.12332927,0.06731457,0.0336418,0.1796341199999999,0.04449139,0.02240199,0.14564818,0.03365418,0.06722319,0.08965976,0.1345611599999999,0.04484049,0.12326055,0.04491291,0.07855278,0.06734788,0.10085738,0.06724238,0.07844143,0.31383428,0.1009882,0.2801264,0.06732151,0.07848712,0.01120323,0.1344858799999999,0.45946498,0.04488328,0.04482897,0.04484118,0.1457659199999999,0.0336293,0.05603707,0.26950956,0.24649713,0.02240864,0.02242018,0.0336272699999999,0.1120704,0.07847549,0.37003089,0.1792514499999999,0.12328699,0.02241639,0.10096586,0.10097168,0.11216908,0.1008957,0.0448703,0.0112278999999999,0.08966702,0.1458146,0.0673082399999999,0.3589682,0.0112411,0.02243749,0.0560313999999999,0.0112079,0.17931315,0.12328101,0.15697902,0.03363599,0.26890625,0.0112206,0.0782698299999999,0.13445598,0.1793481599999999,0.0448501,0.03366386,0.03367379,0.06731426,0.02239909,0.03371788,0.14552452,0.08978924,0.28012156,0.08967078,0.07843955,0.0336287,0.10094921,0.04482988,0.03360935,0.07850456,0.03363088,0.1008804999999999,0.04482356,0.03360923,0.224038,0.04486385,0.06729794,0.05622325,0.044841,0.1009353,0.0224206,0.0110538,0.1796601999999999,0.04479815,0.1008246099999999,0.03363516,0.10100736,0.0112107,0.02248019,0.3362214999999999,0.03364225,0.01120309,0.19047245,0.0784212599999999,0.03345225,0.01121457,0.05603378,0.05617774,0.11188575,0.04485777,0.06726986,0.04489768,0.17943186,0.05605483,0.04487332,0.2128798499999999,0.06728278,0.2017911799999999,0.0224089,0.4036321499999999,0.08970056,0.03363852,0.07848205,0.0448159,0.1457041699999999,0.0782858,0.1568666199999999,0.0336493,0.0448528,0.03365679,0.04491362,0.08966046,0.12327121,0.06725378,0.0112136899999999,0.06725828,0.03378907,0.1792863799999999,0.10084007,0.03366688,0.156952,0.04486719,0.1010558,0.04480877,0.17928655,0.1793500499999999,0.06730199,0.28044686,0.04485832,0.23529639,0.06742039,0.12348386,0.1230099,0.1344553099999999,0.02245979,0.08965229,0.04480751,0.1790202799999999,0.0336686999999999,0.14564818,0.20156043,0.0672231,0.21290116,0.06725654,0.0448284,0.10085628,0.2244684399999999,0.2691478,0.0448521,0.1345284299999999,0.0336311299999999,0.10085142,0.044901,0.12257009,0.03362959,0.0448492899999999,0.13448964,0.07849303,0.31372517,0.11202416,0.08975576,0.044837,0.0449198,0.04497276,0.20170131,0.0448479,0.07850409,0.0222443,0.19039355,0.04487798,0.06723808,0.30270835,0.22419244,0.0897028399999999,0.0674801299999999,0.04490418,0.02239909,0.04502727,0.1456644,0.0112637899999999,0.3591322199999999,0.1008946599999999,0.06722118,0.12346013,0.03366579,0.06721351,0.04484027,0.02249418,0.03362535,0.2464342,0.15695572,0.0560264999999999,0.0784808999999999,0.11204718,0.05605791,0.1681492299999999,0.07840995,0.1234033,0.1120083999999999,0.04483745,0.03360909,0.25769326,0.01121531,0.01121018,0.0336999,0.07841949,0.0336422,0.03360935,0.01120335,0.2132128999999999,0.06726754,0.1793328599999999,0.0895936899999999,0.03368314,0.1569653899999999,0.1568744,0.1009280999999999,0.08973104,0.0222502999999999,0.20199756,0.10078138,0.05602792,0.20182143,0.03365979,0.1792792299999999,0.0449421899999999,0.1679843999999999,0.11213489,0.3025441700000001,0.07846399,0.03364259,0.04486579,0.16808662,0.08972586,0.0224347999999999,0.04482038,0.0446677,0.10091779,0.493066,0.03370949,0.0336121999999999,0.20169249,0.03359733,0.0448219,0.10091163,0.03365852,0.11217252,0.04488303,0.11207618,0.04482757,0.07849296,0.1569166,0.20177908,0.14564818,0.04482711,0.1680667,0.0560264999999999,0.0560559899999999,0.0674089099999999,0.03364324,0.1795714,0.06726778,0.13451828,0.01120982,0.20169199,0.19048067,0.0336347,0.0224168,0.24647624,0.03365898,0.0560261,0.10093615,0.02226911,0.03367409,0.0225218199999999,0.2580063,0.04481128,0.06733777,0.3690893799999999,0.02241936,0.05606988,0.04485687,0.03374392,0.01121431,0.02247,0.04492224,0.0672184,0.06723108,0.05622571,0.0334543,0.02240618,0.08973786,0.36981759,0.1120431,0.08969208,0.2913071599999999,0.1120858999999999,0.12328844,0.0672884399999999,0.11215928,0.01121709,0.06722319,0.10106316,0.123265,0.04480586,0.04500881,0.0448278299999999,0.04447561,0.04485325,0.1010603999999999,0.1796389299999999,0.157148,0.1233279,0.06725428,0.0444981499999999,0.15685078,0.12298036,0.12328676,0.0897043999999999,0.0224319,0.19049276,0.03367399,0.10099706,0.01123123,0.03367608,0.03360569,0.04485827,0.1009298,0.03361944,0.49325297,0.01120335,0.0112320899999999,0.01121395,0.05603219,0.23537983,0.23534324,0.07851751,0.3698940699999999,0.0448118499999999,0.08957392,0.04482852,0.01120866,0.1681685999999999,0.13443149,0.067363,0.0112662,0.01120409,0.47076855,0.10067389,0.05605915,0.0224361,0.03365265,0.04486162,0.07843599,0.1792714899999999,0.05608997,0.1344514499999999,0.0672283499999999,0.03360581,0.0448208,0.0896508199999999,0.2353305,0.19040915,0.1682577299999999,0.0336392,0.22409929,0.06723487,0.22424446,0.0561461,0.1793191999999999,0.13444478,0.12327718,0.25771755,0.05612849,0.20206,0.0560405399999999,0.44825233,0.38077744,0.21289018,0.0896632899999999,0.04483608,0.14565409,0.10084439,0.1890797999999999,0.08973899,0.0112081,0.07850948,0.011216,0.0112142,0.0897503,0.0896608,0.22430079,0.0898699499999999,0.0561010899999999,0.08962747,0.1345366299999999,0.04486812,0.0112084,0.07869577,0.04494901,0.04481608,0.14576186,0.05602888,0.24650058,0.2690326299999999,0.0224050999999999,0.0112104699999999,0.04452169,0.0448226,0.13461556,0.0112353499999999,0.01120793,0.01124398,0.03362309,0.12331501,0.10096558,0.07863026,0.0337188,0.0448372299999999,0.0560173899999999,1.20977376,0.0112081,0.11204009,0.02243061,0.1569151999999999,0.31371511,0.0896365,0.26882796,0.05601678,0.03369968,0.19051167,0.13454226,0.08964748,0.02248669,0.08975005,0.0110757,0.12327753,0.0896863999999999,0.0783019,0.0784382,0.04486162,0.22421189,0.0672627299999999,0.0896459999999999,0.17934367,0.0336866299999999,0.04483732,0.0224822999999999,0.0224124,0.01120309,0.03362898,0.12349524,0.0673013099999999,0.0112361999999999,0.0672569099999999,0.10088769,0.0336152,0.1457815399999999,0.08972168,0.2353922999999999,0.14571218,0.0560286,0.0897,0.0672734,0.04480609,0.06727369,0.0784641,0.1344246,0.03364644,0.06731368,0.17939152,0.0784669099999999,0.08986675,0.14565939,0.03367874,0.06727818,0.04466877,0.05601755,0.07848488,0.24650215,0.10108555,0.0784602,0.3138314,0.11211858,0.01122078,0.1009343,0.1681754799999999,0.2019794,0.04481831,0.12324255,0.05601018,0.11206789,0.01124123,0.0224102,0.04466294,0.07851581,0.08967009,0.02242321,0.08966101,0.08979015,0.17935889,0.11213852,0.14579388,0.0112258,0.02242208,0.0897256899999999,0.10085118,0.2354231,0.0672618,0.08963252,0.0897308399999999,0.224124,0.1345284799999999,0.04489878,0.1793153599999999,0.04483759,0.16810298,0.04489831,0.0673303,0.0785039999999999,0.2018530599999999,0.12330924,0.1345438899999999,0.04481442,0.19083995,0.02243641,0.100878,0.1009181099999999,0.08961397,0.03360232,0.0224304,0.05594549,0.100896,0.02241031,0.03364446,0.06732586,0.1008511,0.03366378,0.15680572,0.0673329999999999,0.01120516,0.08979658,0.01121239,0.03364451,0.13459132,0.0786103,0.0784682999999999,0.0784682999999999,0.10089008,0.0785658,0.08945818,0.07860506,0.07845362,0.10086924,0.11213694,0.19054055,0.19054055,0.1232726,0.13435998,0.13435998,0.0448279999999999,0.07859797,0.0896916999999999,0.03377457,0.03368309,0.06729052,0.02242329,0.044747,0.0338218,0.08982976,0.12339754,0.2915251799999999,0.18008384,0.04473179,0.5046799999999999,0.10093515,0.12343835,0.1233301999999999,0.11212811,0.1224196399999999,0.28038907,0.07857984,0.1906629399999999,0.04496858,0.02251019,0.0561149199999999,0.08983533,0.07849987,0.12332322,0.0561149199999999,0.13444538,0.10114924,0.03368088,0.20179767,0.02241289,0.20167748,0.04488529,0.07846688,0.05568409,0.13451512,0.07843849,0.06728797,0.10071408,0.17942592,0.3130629,0.07846348,0.23557224,0.1569717199999999,0.06720328,0.0673560699999999,0.04489097,0.1345393899999999,0.10083569,0.0334553,0.24653016,0.8962133999999999,1.6468953999999998,0.0447264,0.0448588,0.0560624,0.0447411999999999,0.0449131999999999,0.0336895999999999,0.4934374999999999,0.9188111799999998,0.08959102,0.1008957,0.04488033,0.12382218,0.2353053899999999,0.12331244,0.0897586,0.1681684099999999,0.13445884,0.04484178,0.2339901,0.022392,0.23532524,0.11204136,0.2694682,0.34738181,0.1792845,0.28039489,0.29168451,0.30272328,0.56060395,0.5494816800000001,0.06729105,0.06723056,0.06736889,0.02247978,0.08971251,0.1569502999999999,0.06729669,0.10085018,0.04485058,0.1684665099999999,0.0560539,0.1794394599999999,0.1904873299999999,0.05601437,0.08928813,0.19051746,0.19051484,0.1681327999999999,0.20186895,0.1008905,0.05605056,0.10090588,0.35879345,0.3025188,0.06729418,0.08953461,0.04483189,0.11198575,0.01105948,0.08961682,0.42651686,0.2129885,0.03361039,0.0448372299999999,0.06722118,0.10092961,0.07850628,0.0450876,0.05605455,0.022442,0.0224417,0.10114454,0.03379088,0.0224419,0.11212178,0.0336435,0.04467778,0.08966072,0.06730589,0.07846214,0.07844506,0.04486595,0.05617974,0.04488798,0.04482221,0.0336434999999999,0.05622055,0.06740869,0.1794477599999999,0.11210395,0.13445598,0.03368901,0.2130142,0.0224678,0.04489686,0.06728979,0.02245179,0.02245179,0.1456691399999999,0.1681853299999999,0.01121119,0.02239688,0.1232409,0.2354909,0.0560674,0.056042,0.05624498,0.10087328,0.03344309,0.067111,0.5152714499999999,0.1344762699999999,0.31381242,0.0336465,0.04484588,0.08973205,0.10095929,0.2241153,0.0224237,0.0224227,0.0672401,0.07845962,0.2578533999999999,0.13466162,0.1346869699999999,0.08967994,0.03364061,1.9622087,0.04492672,0.13438164,0.0336931999999999,0.20167838,0.0224285,0.04483,0.22435935,0.07847949,0.2689462,0.0222474,0.0560385899999999,0.07855283,0.3586231999999999,0.11188988,0.2912545,0.0112227999999999,0.11215369,0.15685274,0.07828727,0.07844888,0.1345496899999999,0.14576317,0.2800503,0.01122399,0.1456554899999999,0.067253,0.1680516899999999,0.04487399,0.2466795,0.08964654,0.03367818,0.40321478,0.47136435,0.17927356,0.01122123,0.08968508,0.06724727,0.24662526,0.04484835,0.0336111,0.033675,0.1794873999999999,0.03362521,0.10110489,0.10102219,0.08960565,0.1570047999999999,0.1458422999999999,0.1570047999999999,0.1570182999999999,0.1458129999999999,0.3476106899999999,0.0112379999999999,0.0668602,0.1452315,0.1008692999999999,0.01121669,0.1345521,0.19049686,0.10087572,0.0784815099999999,0.04454128,0.08989461,0.1008877,0.06729725,0.1459923299999999,0.1908928699999999,0.03364749,0.01127291,0.05560136,0.1683137999999999,0.0448267599999999,0.0224242,0.1794894299999999,0.0336519,0.11213526,0.10089809,0.089686,0.1569700799999999,0.13464436,0.0336818,0.0449716,0.0336519,0.0336703,0.0560703999999999,0.089686,0.03354852,0.05610051,0.06725437,0.0224904,0.1792789999999999,0.8963744,0.0336324,0.0785515,0.0673214199999999,0.0560752,0.07849241,0.14566852,0.11207178,0.20182552,0.2238548,0.1904936,0.10100839,0.04493762,0.0448588,0.0448588,0.08964211,0.0448506999999999,0.10092378,0.1232841699999999,0.02243789,0.02243789,0.1344972099999999,0.07859528,0.1008733,0.04493421,0.1009832999999999,0.0336379,0.4146049999999999,0.04482658,0.12332852,0.13458875,0.13459215,0.03364708,0.05606921,0.06696038,0.06708065,0.1009929,0.04501769,0.0451740899999999,0.04505329,0.04502729,0.04502929,0.38100545,0.03361149,0.10084349,0.03362251,0.2465163299999999,0.04486936,0.03364999,0.03373558,0.1233178,0.1232803999999999,0.11206209,0.0336355,0.011229,0.07842528,0.1681018999999999,0.1122079799999999,0.08971213,0.12327968,0.08967843,0.03367358,0.07876745,0.10091736,0.02223599,0.0446868,0.04470531,0.0446983,0.01103,0.1457144899999999,0.03350507,0.01112875,0.011044,0.08913825,0.05576289,0.044829,0.1792829,0.01122913,0.0898122999999999,0.11220633,0.08978034,0.1009929299999999,0.26895368,0.03364349,0.06732508,0.03369019,0.0448415,0.05601051,0.1683633899999999,0.04449818,0.0336142,0.0560253999999999,0.10119513,0.26890128,0.0224284,0.03364749,0.05619615,0.0672281999999999,0.03361428,0.0336281,0.08972775,0.11207154,0.10081917,0.1454963,0.1906821,0.11247795,0.11221619,0.11232265,0.11220989,0.08994019,0.03361578,0.078448,0.03371615,0.12341359,0.10089791,0.06724271,0.04482102,0.1345748799999999,0.0560533,0.1122473,0.11209076,0.10084302,0.11215704,0.03364629,0.01125089,0.0336128,0.03360589,0.0336128,0.0561407,0.06704426,0.29138531,0.04466071,0.6949426,0.04489565,0.0897242499999999,0.03368842,0.04487627,0.044817,0.10085188,0.19062621,0.2465327899999999,0.01121143,0.03364089,0.0224584,0.07849901,0.01121044,0.07852752,0.0448082,0.0224162,0.0112081,0.01124879,0.0224111,0.1122156999999999,0.16808747,0.01121,0.07842833,0.03363309,0.0448098,0.06726868,0.0672511399999999,0.07844119,0.02247779,0.16835164,0.0896878,0.0893737999999999,0.05592529,0.05592529,0.05592555,0.04486051,0.0337998,0.078455,0.11207008,0.04485862,0.0896606,0.0785760099999999,0.11205451,0.31351764,0.03365109,0.14567971,0.0781976899999999,0.22414641,0.28007572,0.10086089,0.1346020499999999,0.20217175,0.1902197,0.1124653,0.04485601,0.0225075,0.03372122,0.07851169,0.07846127,0.02247765,0.31373756,0.06730283,0.22417946,0.2128026,0.0560437599999999,0.53834761,0.6162473599999999,0.1569247899999999,0.17962674,0.11208843,0.0898196699999999,0.03366074,0.03365418,0.03365418,0.2581817,0.10105385,0.12337892,0.02243999,0.0672123,0.04481458,0.04480068,0.13464565,0.06728379,0.1232906,0.0449058,0.0224084,0.10085799,0.2016483,0.11221327,0.06724238,0.08972826,0.03364896,0.23537012,0.1456082999999999,0.03364089,0.01122234,0.04482099,0.04490219,0.1568743899999999,0.26910002,0.0112231099999999,0.10114701,0.0560907799999999,0.0336297,0.1121196999999999,0.03366658,0.24678432,0.03364629,0.0222408,0.0898122999999999,0.12337984,0.0336976,0.0673464499999999,0.0112391099999999,0.05610564,0.03373993,0.0784796,0.05615888,0.0446983,0.0448703,0.0559352999999999,0.2353979,0.0112814899999999,0.1011531,0.1011531,0.3362324799999999,0.10086799,0.11210468,0.11210468,0.1009732,0.1009882,0.10098739,0.0898249399999999,0.07851648,0.10081856,0.06729053,0.0112539,0.03344309,0.06744758,0.06722018,0.0674354799999999,0.08967371,0.22421644,0.06657879,0.08970189,0.03366016,0.1568839699999999,0.11206253,0.25780822,0.05605031,0.19047155,0.1681014699999999,0.03367022,0.04485225,0.3924535999999999,0.17947291,0.8082281399999999,0.044829,0.03367058,0.04484041,0.04488379,0.04490129,0.03361428,0.2244364999999999,0.1569058699999999,0.08967138,0.11208499,0.11196586,0.0224237,0.0224227,0.1123111,0.0560484799999999,0.2129299,0.10098347,0.08971656,0.10119085,0.07866069,0.07870623,0.1012336,0.08985041,0.10113243,0.07862332,0.10119513,0.10102577,0.12345219,0.12336909,0.1233748,0.12345928,0.0560980699999999,0.25757847,0.08982406,0.20195431,0.08968978,0.03366125,0.13455496,0.10102577,0.03362509,0.06752544,0.10113243,0.19051746,0.07876212,0.10115321,0.10107931,0.07860527,0.1794544,0.06728917,0.10114924,0.06724798,0.10092517,0.07845317,0.2354056399999999,0.06710756,0.07854913,0.07850093,0.02252176,0.04501677,0.1009625399999999,0.101095,0.10116025,0.1345371799999999,0.30246471,0.30246471,0.02240999,0.08992718,0.0224446,0.1345291099999999,0.02243219,0.15706968,0.0336562,0.11219046,0.08962607,0.07845248,0.04491549,0.0554128999999999,0.0897261999999999,0.11224465,0.26909222,0.1456155599999999,0.0334717,0.2802611,0.0336722999999999,0.0784278,0.04493539,0.35887742,0.0336268999999999,0.0448306,0.0336268999999999,0.0336285999999999,0.0336266,0.0336272,0.0336263999999999,0.07867592,0.11216557,0.11215817,0.11230381,0.11221872,0.12326757,0.1008957,0.1345137999999999,0.28037722,0.0336381,0.2580492999999999,0.011202,0.03372097,0.03366578,0.10104468,0.07886675,0.0785414,0.1122688999999999,0.0788309,0.10102276,0.07868825,0.07874333,0.10109075,0.0899853,0.1122451,0.0787208,0.10101106,0.0785396,0.07863108,0.07871182,0.06735577,0.06735577,0.10109075,0.10095351,0.0448954,0.0561214,0.1457560599999999,0.04496278,0.12341273,0.1569260199999999,0.033615,0.13459189,0.0224228,0.03364228,0.01107309,0.04487558,0.04466998,0.14572767,0.2464041,0.17937068,0.05620596,0.1457277799999999,0.22587094,0.05605791,0.08918169,0.0448458,0.04484318,0.1119823999999999,0.03370983,0.17928268,0.10088178,0.0786369,0.13378288,0.15692931,0.15692931,0.05607416,0.0337776,0.1008978999999999,0.03367148,0.0784621599999999,0.2575527999999999,0.16812964,0.2914893299999999,0.0448796,0.04491248,0.1681809099999999,0.08978412,0.07851785,0.1457110999999999,0.01123868,0.08973566,0.06733162,0.04484758,0.044818,0.26903385,0.04485285,0.14576161,0.08976348,0.05604944,0.1895348,0.13445272,0.13457676,0.1793689399999999,0.0112385399999999,0.23526618,0.0558516699999999,0.1458527299999999,0.1681157999999999,0.1458527299999999,0.1002003,0.100884,0.11201718,0.03368061,0.1121327,0.1565499,0.03347048,0.06728678,0.04487237,0.1458659099999999,0.044836,0.51583722,0.08995042,0.0785893999999999,0.201864,0.03365008,0.04491189,0.04496949,0.04490769,0.11221186,0.08972559,0.11220796,0.23558524,0.23523448,0.10093908,0.20170498,0.1345425999999999,0.24816178,0.04486334,0.1009003,0.0897462399999999,0.02248829,0.0560824699999999,0.07851963,0.08979491,0.03361209,0.02246108,0.08964775,0.0561453199999999,0.10100185,0.011215,0.1345268599999999,0.03360923,0.04488931,0.0562442,0.1681120399999999,0.07847705,0.02239935,0.100854,0.1568972799999999,0.16808355,0.2243727,0.03369082,0.11207763,0.1909317899999999,0.2578872599999999,0.02247854,0.1795435499999999,0.3812361300000001,0.03359634,0.0673539,0.1120533,0.02250409,0.03366409,0.1009732,0.20183165,0.302551,0.0560363,0.04487684,0.1456045,0.04490772,0.04486009,0.16812009,0.03365073,0.07844066,0.06741178,0.0785136,0.05613573,0.03345709,0.05606224,0.0449268,0.0446753,0.12310917,0.0673307,0.20187025,0.0448895999999999,0.022424,0.1569596099999999,0.04485172,0.01123673,0.02241309,0.0562624599999999,0.06710447,0.2689430300000001,0.19049821,0.13447338,0.07845275,0.04483318,0.2906147699999999,0.04486509,0.0112125099999999,0.02241262,0.03361209,0.11252465,0.11238805,0.11229375,0.11252465,0.11237365,0.21340251,0.1344029199999999,0.02248219,0.2465244,0.08974998,0.02245399,0.0673112999999999,0.0112598,0.0448897,0.1345786,0.0336839,0.0673816,0.1346336,0.0673139,0.0784660599999999,0.06722788,0.04489817,0.04489817,0.02247169,0.2018684399999999,0.07856959,0.1456883299999999,0.16811452,0.22427613,0.10095498,0.27922272,0.06736692,0.1122402999999999,0.112085,0.12329805,0.04488574,0.10119733,0.03367828,0.04483901,0.1232727899999999,0.1344458899999999,0.24649604,0.03370372,0.03370322,0.02241555,0.4482816,0.5266192900000001,0.05606404,0.0784966999999999,0.0560204,0.1795868699999999,0.30264241,0.08963766,0.05615868,0.1681564699999999,0.13444662,0.12328393,0.05604662,0.1567351999999999,0.44803736,0.25773768,0.02244189,0.01121,0.022406,0.02239909,0.0336737899999999,0.04480749,0.06731908,0.05609589,0.0110559,0.0673057,0.0673057,0.19073586,0.04484978,0.19073586,0.13453566,0.03362039,0.0672647,0.11212425,0.1233297,0.1232808,0.07848868,0.26894,0.2128288399999999,0.08947651,0.0672123,0.0224517,0.03380178,0.1570889999999999,0.056036,0.056036,0.089652,0.056022,0.011196,0.022406,0.07842921,0.26918764,0.1792717499999999,0.06730459,0.21295972,0.31372517,0.0224608,0.0785075,0.2465544499999999,0.07854665,0.29148379,0.9074856999999998,0.1572084399999999,0.03347509,0.06723383,0.04482221,0.0336689,0.0337022,0.04488538,0.04486549,0.0561188,0.100906,0.0112177899999999,0.10083148,0.11193067,0.04486809,0.08976743,0.20178527,0.03364189,0.01122059,0.08977664,0.20180875,0.11204107,0.11224308,0.0337361999999999,0.03314279,0.03368145,0.06725367,0.0784494999999999,0.0336389999999999,0.02241109,0.11244577,0.1569607799999999,0.12346233,0.03363267,0.03363335,0.06727941,0.0336709,0.2353835999999999,0.31362799,0.07852118,0.2128951,0.05602588,0.10104258,0.11224017,0.03375096,0.22413745,0.0336241999999999,0.04507306,0.07849573,0.08954598,0.25775314,0.03363901,0.2918771999999999,0.11189377,0.06726842,0.0336599,0.0112262,0.04483078,0.02209425,0.1683406799999999,0.08974497,0.06741855,0.01120434,0.03364324,0.06732372,0.10085754,0.0672189,0.40337932,0.42599228,0.1120988,0.02244189,0.10118188,0.08964504,0.03366565,0.3027465999999999,0.078434,0.3029922899999999,0.1120794499999999,0.04484261,0.22410238,0.11206307,0.0785016,0.44847799,0.30173918,0.1346668199999999,0.1345675199999999,0.0897226,0.1345477,0.20160997,0.08980009,0.26998203,0.06731622,0.03367519,0.03364709,0.08968148,0.1346706199999999,0.1344692,0.04484829,0.033717,0.20181475,0.10098559,0.17927876,0.06722813,0.1346199699999999,0.05607241,0.1795089499999999,0.1795421499999999,0.13415644,0.0448812,0.2577424,0.22405719,0.22400904,0.13455938,0.1008969,0.0224687,0.1009236999999999,0.02242439,0.0225184,0.02243591,0.02243571,0.07841947,0.4595673899999999,0.0673936999999999,0.0896675899999999,0.1568912999999999,0.1792898,0.03367329,0.22414625,0.29146377,0.02249069,0.02235,0.04485853,0.21290806,0.078362,0.1345446599999999,0.07849473,0.14569556,0.03366596,0.12330262,0.14572779,0.0784818,0.1570640999999999,0.20212843,0.16808604,0.03364598,0.04488629,0.1796133399999999,0.0334499,0.10089515,0.0784227699999999,0.0897932,0.12349875,0.0897932,0.5940187399999999,0.03364479,0.3599923199999999,0.08961347,0.22427267,0.2242497,0.08961547,0.08961547,0.07866833,0.0785152,0.04485144,0.23544464,0.04492675,0.11205959,0.12338427,0.05610782,0.06723438,0.15682195,0.2690483,0.08964712,0.4929835,0.16817136,0.02247019,0.08962453,0.0669229,0.0785198,0.07847298,0.0672532999999999,0.10097853,0.16811746,0.19070502,0.01103709,0.1680932,0.10086901,0.201727,0.02243349,0.04481936,0.1682306599999999,0.0898041999999999,0.1459181399999999,0.03346282,0.11216405,0.04483399,0.13467574,0.0672985,0.04502727,0.06732587,0.07850387,0.0112637899999999,0.08971588,0.10090199,0.12290055,0.03348474,0.2802932,0.05650368,0.05631428,0.04482698,0.1456815699999999,0.03364128,0.04489627,0.07864923,0.0112219,0.11216147,0.03360066,0.0785071399999999,0.0784576,0.29169778,0.1120834,0.20180336,0.17941352,0.06725029,0.2022816,0.11208499,0.1792899999999999,0.03363234,0.033631,0.08967725,0.0448188,0.29150696,0.11208499,0.0787458,0.4145709599999999,0.0672301,0.0672301,0.07847526,0.19076976,0.1457293999999999,0.03367796,0.14571233,0.06725951,0.21304936,0.1120759,0.1121387999999999,0.0222848,0.0336195,0.04486536,0.24648966,0.0112306,0.08971454,0.03367312,0.21289939,0.0336169,0.1569873199999999,0.078575,0.0336334899999999,0.1120962199999999,0.11219644,0.20170108,0.07871288,0.0899617,0.19051484,0.08985041,0.07874333,0.06752553,0.19076976,0.10090287,0.05607356,0.01122446,0.13462738,0.01121834,0.1345412499999999,0.11221157,0.0785633999999999,0.123336,0.12334,0.10091292,0.10121121,0.07858578,0.0896943799999999,0.08965484,0.06727218,0.08981443,0.1121718,0.19076976,0.03360218,0.0560337499999999,0.06729788,0.0336128,0.0224272,0.04473494,0.05582207,0.22426916,0.0897958,0.05603559,0.13452047,0.0336778,0.11208525,0.2914518599999999,0.29131338,0.2689424799999999,0.1681327999999999,0.1793078199999999,0.20169833,0.0784716,0.0786201299999999,0.07862332,0.10105898,0.12345444,0.1120668999999999,0.03368435,0.0674564,0.07863495,0.11209076,0.01121058,0.06739069,0.2469905499999999,0.08973895,0.1345073,0.2689424799999999,0.1010738,0.0560406999999999,0.03361705,0.05595586,1.3449155099999996,0.3365550999999999,0.11204571,0.08983896,0.0786106999999999,0.21314085,0.15690624,0.1008704,0.20187338,0.20195792,0.04484266,0.4150371399999999,0.0673026,0.1793132,0.03362125,0.1793495899999999,0.22434158,0.05603612,0.06744144,0.0786681499999999,0.1905108599999999,0.0896906,0.0896502,0.0447011,0.8294338099999999,0.05603249,0.03371648,0.06748148,0.0674156,0.04480652,0.03367149,0.22407214,0.11215076,1.031021,0.17949856,0.0224341,0.2465749,0.1793237999999999,0.05604288,0.02223309,0.11213516,0.07847887,0.077575,0.08965608,0.2473371999999999,0.05609394,0.05609394,0.1233221999999999,0.14572978,0.0898647,0.0337195,0.0896839,0.0336614,0.1233801,0.1233801,0.03360639,0.08966072,0.10088298,0.13455429,0.13455382,0.03362014,0.0448373,0.11209978,0.11207768,0.1010299999999999,0.06727569,0.17939158,0.1345581,0.1345581,0.08967009,0.04490808,0.04492318,0.2019257199999999,0.123268,0.13448862,0.1346667599999999,0.03369517,0.24610177,0.0785093099999999,0.04481458,0.03377797,0.0897579899999999,0.22408474,0.1345190299999999,0.15696295,0.1345820499999999,0.2580555,0.47076621,0.12344797,0.03330879,0.0896428899999999,0.0896395999999999,0.11188458,0.0224267,0.2242383199999999,0.01103709,0.0448219,0.0448236,0.0448216,0.0448214,0.1232838,0.07845498,0.011209,0.2130607999999999,0.03367379,0.0337696699999999,0.06738578,0.03372987,0.01122234,0.4706380700000001,0.24650964,0.02246788,0.0447093,0.28011899,0.14569569,0.1011215,0.1459490399999999,0.03363973,0.1122356,0.03371,0.05603534,0.11213716,0.05603161,0.0559509,0.04482757,0.10098489,0.07846414,0.40373651,0.07849296,0.05622545,0.29247018,0.07858469,0.0898078999999999,0.0561139,0.06727259,0.0897121,0.07832617,0.1122783,0.2019232,0.12333157,0.12317283,0.0448625999999999,0.0336418,0.20203183,0.03363125,0.06725932,0.02249872,0.06736897,0.06746046,0.01103709,0.4260138,0.02248763,0.1792755499999999,0.0669521,0.1681630999999999,0.03369935,0.0224385,0.02246871,0.04489389,0.1345137999999999,0.06725129,0.02245729,0.0786349,0.44818056,0.1905266,0.05611859,0.03372959,0.1233316,0.0560518,0.0336336,0.02242111,0.4148065999999999,0.08970277,0.11215676,0.05574109,0.5380636999999999,0.0560765,0.0224418,0.1682162999999999,0.0336554,0.02242,0.1344553099999999,0.0336483,0.1459139199999999,0.1568729999999999,0.05607137,0.05600535,0.41459154,0.0672724599999999,0.07826859,0.20169199,0.24650958,0.06730117,0.15583752,0.0224060999999999,0.20170497,0.02254927,0.04488644,0.15710148,0.2130978999999999,0.2017745,0.0448251,0.1343799,0.011197,0.044853,0.0560718899999999,0.12338758,0.06751563,0.01124249,0.28017947,0.1009129599999999,0.04486215,0.01125441,0.01126471,0.0673056,0.0673056,0.0673056,0.04466321,0.10109784,0.07862131,0.07846832,0.07862332,0.13465227,0.11216988,0.06742168,0.03373601,0.0785607,0.04486735,0.1459140799999999,0.03363039,0.11211337,0.08970606,0.03364134,0.07847834,0.08969449,0.29134297,0.179468,0.07842555,0.538397,0.10093428,0.0782788,1.1878595899999995,0.19073145,0.1002568,0.0336827,0.11209739,0.1793330299999999,0.06723529,0.1008504,0.0112076,0.01122999,0.03374392,0.0336266999999999,0.1344672199999999,0.08974189,0.03361231,0.07864459,0.1121411,0.11211198,0.07862388,0.11223263,0.10086053,0.022392,0.0562319,0.0224190999999999,0.0336225099999999,0.05611948,0.1457176099999999,0.10091359,0.05602109,0.04499928,0.05610629,0.01120485,0.0224724,0.0334531999999999,0.24676824,0.0672878899999999,0.05606328,0.08974425,0.06722142,0.25784644,0.1457277799999999,0.0558516699999999,0.04485532,0.0784578,0.06727197,0.03366893,0.02240034,0.0337107,0.24662775,0.03365645,0.2577242,0.04485406,0.02243728,0.03363229,0.01124429,0.0336884999999999,0.11176824,0.11176824,0.0112164,0.06724688,0.1797193,0.20169807,0.33638473,0.2022227999999999,0.3136942999999999,0.6838368200000001,0.08991569,0.0898712099999999,0.1345661999999999,0.0449125699999999,0.04480874,0.22470802,0.03365149,0.0560427999999999,0.0112306,0.1009298,0.19060411,0.05602979,0.06731279,0.0331446,0.07845415,0.14575832,0.3696526,0.2129083999999999,0.21289868,0.03364478,0.1682749399999999,0.156876,0.1232767,0.1793093999999999,0.06759108,0.12338562,0.40377781,0.12331482,0.2355161599999999,0.21288195,0.1344758599999999,0.20167078,0.1232095999999999,0.03363516,0.3362070999999999,0.5939093000000001,0.06726347,0.0224321,0.0896622,0.0672622,0.10092684,0.0672622,0.0784661999999999,0.0112541,0.0449126,0.0336738,0.0898698999999999,0.07854136,0.07854136,0.07858304,0.04488088,0.10110936,0.10101396,0.10110936,0.11226766,0.0783503599999999,0.04500881,0.06735577,0.1571806499999999,0.1680849999999999,0.0673374099999999,0.07846428,0.0447105999999999,0.11204009,0.06728953,0.3359714799999999,0.2576312999999999,0.10108322,0.1457080999999999,0.0446677,0.1233279,0.2131133199999999,0.08966927,0.06725901,0.1794994699999999,0.01124399,0.0561084199999999,0.08979,0.0560449599999999,0.0897181899999999,0.0897403499999999,0.0560404999999999,0.033641,0.03366431,0.04483258,0.03365731,0.0784638999999999,0.07872651,0.2581775399999999,0.07748158,0.05606659,0.1682140299999999,0.45967804,0.10099879,0.10099825,0.08972287,0.1011008,0.08990616,0.08996578,0.08982465,0.10123858,0.08994992,0.1120853799999999,0.1120504,0.0560878699999999,0.19045634,0.12218301,0.2129053,0.02253229,0.80638844,0.2689156500000001,0.12328924,0.11207393,0.1684212799999999,0.02248588,0.08965642,0.1568205999999999,0.0336281,0.06726791,0.0674746899999999,0.06729591,0.0672563,0.11214158,0.04490544,0.04480652,0.07853993,0.06725236,0.2017819,0.02242174,0.07860298,0.1681224199999999,0.0672778,0.47200582,0.0785399,0.24649289,0.0560524,0.05602799,0.0224287,0.0112231099999999,0.12310846,0.0559095,0.0336281,0.03362309,0.0112346,0.05609641,0.0225573,0.1345507199999999,0.01120139,0.18994396,0.40389368,0.0112081,0.1680842199999999,0.13461338,0.0560553,0.134481,0.0560563799999999,0.0673451,0.05602789,0.11208497,0.7173822399999998,0.02239935,0.03362125,0.11213929,0.0784738999999999,0.08966898,0.04487814,0.06732919,0.0898518999999999,0.0224808,0.08963249,0.06721427,0.0784988,0.12334088,0.03363887,0.12326299,0.157541,0.1682415899999999,0.10082253,0.0224479,0.0785778,0.03367796,0.01123456,0.22425234,0.0896422499999999,0.12322067,1.2110609899999998,0.1794570999999999,0.2243134,0.0560638,0.0111065899999999,0.0448577999999999,0.0560892699999999,0.02241609,0.10091805,0.03373558,0.24673878,0.07850497,0.03344309,0.04486528,0.0112122,0.24662183,0.04471298,0.10087088,0.06724573,0.13452581,0.0448185,0.0222579,0.1346475899999999,0.13459204,0.2018132999999999,0.134494,0.40367537,0.06729058,0.3025571,0.11218806,0.11201718,0.1680473999999999,0.2020994,0.11215847,0.04493512,0.07844609,0.42579724,0.0334403,0.0895039,0.1119778,0.20201822,0.06725981,0.11206859,0.06725121,0.1341611999999999,0.42586277,0.1681138999999999,0.0224595999999999,0.033437,0.04483079,0.0111068499999999,0.3586325399999999,0.0897008,0.03314279,0.05611958,0.0560735,0.05607288,0.05606988,0.08980138,0.0224177999999999,0.0448679299999999,0.2241485999999999,0.04480696,0.1791379999999999,0.04481518,0.06720673,0.08971968,0.08933079,0.0896777999999999,0.1121309,0.1235263999999999,0.0785996,0.01103735,0.1569747299999999,0.078522,0.16793529,0.20172921,0.02241729,0.3584732,0.1682026999999999,0.0672599,0.067332,0.32504553,0.1010020999999999,0.33634125,0.13453314,0.0448168999999999,0.1456489499999999,0.0336462,0.04485406,0.07858778,0.10096642,0.07841543,0.0560259999999999,0.2019328,0.0336334,0.14565995,0.0224267,0.04484229,0.0560556,0.1349521399999999,0.4485523,0.1459118999999999,0.07844363,0.04489298,0.06727593,0.2354882399999999,0.04482235,0.2356393,0.04482591,0.06747399,0.03359634,0.10090367,0.13442959,0.03375771,0.0560405799999999,0.04500727,0.06740095,0.100956,0.20171923,0.11217456,0.05607656,0.02244029,0.03363244,0.01120409,0.08972749,0.06725326,0.40331732,0.07857007,0.0672529,0.0336215,0.06729159,0.03364644,0.0336527899999999,0.05587832,0.03361638,0.0446719,0.0338503,0.0336464,0.1344772699999999,0.06738678,0.20193113,0.17934276,0.0672606,0.1797521099999999,0.42629548,0.10099157,0.15698901,0.06731499,0.05568272,0.0336728,0.1455029699999999,0.0673029799999999,0.05568272,0.20175776,0.08978924,0.12312257,0.04488248,0.04484674,0.0448054,0.23529118,0.05610274,0.04483215,0.03364518,0.2242491,0.03370153,0.03362808,0.0112206,0.05602588,0.2690195,0.1792783999999999,0.1456541699999999,0.8067224899999998,0.12331337,0.11223554,0.02247118,0.07844939,0.0896798999999999,0.0336856,0.011229,0.21302699,0.08981062,0.0336193,0.0448239,0.0448130999999999,0.03361454,0.07862806,0.1121860299999999,0.03362709,0.03362509,0.11201213,0.0560643,0.02249884,0.2692229099999999,0.0560484799999999,0.1345590999999999,0.04481335,0.07845218,0.0448995,0.08966928,0.26921349,0.12329642,0.0112353,0.52655666,0.08971006,0.12338355,0.0336895999999999,0.08976753,0.1569186999999999,0.05615415,0.1568687899999999,0.0334682,0.078438,0.07849256,0.1794344,0.40366786,0.1457228,0.1572263699999999,0.1456701,0.04489243,0.08966398,0.23544187,0.03363,0.0110757,0.1786713999999999,0.06734695,0.08963278,0.1008366,0.04482175,0.04482149,0.12324641,0.1456813599999999,0.0784833,0.0449018,0.01122629,0.26895924,0.03362389,0.0672281999999999,0.3698327,0.12334618,0.12342195,0.0448264,0.0448239,0.0448281,0.0448260999999999,0.0448267,0.0448248,0.03362414,0.0336283,0.0336273,0.0336276,0.0336358,0.02240999,0.10092319,0.20201327,0.30223948,0.7171635999999998,0.1569526099999999,0.06725427,0.03346419,0.03365149,0.0674621299999999,0.05602852,0.0784782,0.16892912,0.2017336,0.10084031,0.04489806,0.04489806,0.03369988,0.0896615499999999,0.04489469,0.123258,0.02244819,0.01120259,0.2906047799999999,0.04486809,0.03366089,0.1794333699999999,0.11224347,0.067214,0.1569559999999999,0.11190661,0.0336184,0.13458299,0.04488729,0.033647,0.1457123199999999,0.08972168,0.0897636999999999,0.1680972699999999,0.04498628,0.1568831399999999,0.06746674,0.0112066,0.12315358,0.04483894,0.07850487,0.23552498,0.01103709,0.08968522,0.03346418,0.04486368,0.04486629,0.08966199,0.0559265999999999,0.1681736999999999,0.1456831799999999,0.03368798,0.06704426,0.02246378,0.08968755,0.1346943699999999,0.06740061,0.13444354,0.1008738999999999,0.5379586799999999,0.02241219,0.11204198,0.04484722,0.19094541,0.0898650699999999,0.1797198,0.1795619899999999,0.10086808,0.02240133,0.10083828,0.0224608,0.03369401,0.0896837499999999,0.1344985199999999,0.10091364,0.078299,0.08962561,0.0337153,0.0446829,0.23535257,0.16819025,0.2017403,0.0897136,0.0897136,0.12331436,0.02245151,0.10093078,0.01122078,0.1570532599999999,0.26909732,0.10090979,0.22410136,0.13461832,0.1457518999999999,0.0560105,0.0561024999999999,0.1121188499999999,0.1121611,0.19037149,0.0448358999999999,0.1569807099999999,0.07850299,0.08976822,0.10086286,0.10094345,0.12343064,0.10107804,0.03364494,0.2916535999999999,0.1793765,0.0896862,0.08975835,0.1794072599999999,0.04483832,0.40382094,0.1791154799999999,0.0784353999999999,0.08884625,0.0561076299999999,0.03375807,0.05605562,0.04489634,0.1683276599999999,0.0448631,0.2354831399999999,0.06728004,0.01126229,0.0784306,0.01123109,0.11203349,0.1794338,0.22286373,0.13469498,0.05588629,0.06729011,0.04490458,0.5715798799999999,0.0785293599999999,0.5826437400000001,0.0560127499999999,0.06723799,0.1457533999999999,0.01121169,0.1572154,0.0898489,0.2577657799999999,0.03353086,0.0224638,0.0897308399999999,0.0224239,0.01122424,0.21290867,0.0784584,0.1008911999999999,0.2690333799999999,0.0449024,0.04491769,0.03367759,0.17933224,0.08976854,0.44840371,0.07845962,0.10098677,0.257713,0.1681533799999999,0.36999035,0.03364049,0.0784415099999999,0.08966319,0.11208519,0.10104567,0.08981127,0.08981127,0.04487653,0.12331787,0.1681353099999999,0.07843992,0.05619839,0.3249959900000001,0.06721935,0.22408983,0.1346435699999999,0.08996381,0.07853088,0.022423,0.11139628,0.16817379,0.2017583999999999,0.26894072,0.100878,0.100878,0.2916518,0.06735184,0.04467562,0.07849172,0.07855279,0.11228242,0.04497276,0.202199,0.02240116,0.1792737899999999,0.0223,0.0112329,0.179504,0.11185322,0.03365719,0.06727244,0.1568577199999999,0.02226953,0.02247019,0.4146475999999999,0.0784525,0.1345668099999999,0.07858514,0.0898049899999999,0.1345576399999999,0.0785304399999999,0.0224517,0.056044,0.04486838,0.40335648,0.35922074,0.1910972,0.06732438,0.04484344,0.0224194,0.19038595,0.06752508,0.1345119999999999,0.30275989,0.0222711,0.224108,0.1343982899999999,0.1682776699999999,0.0448839,0.1682776699999999,0.05604951,0.03361356,0.07856888,0.02249795,0.02249795,0.0784621599999999,0.11216212,0.03361356,0.13459132,0.0224404,0.0448836,0.06730822,0.2802054,0.1794715199999999,0.05601718,0.0336455],\"xaxis\":\"x\",\"yaxis\":\"y\",\"type\":\"histogram\"}],                        {\"template\":{\"data\":{\"bar\":[{\"error_x\":{\"color\":\"#2a3f5f\"},\"error_y\":{\"color\":\"#2a3f5f\"},\"marker\":{\"line\":{\"color\":\"#E5ECF6\",\"width\":0.5},\"pattern\":{\"fillmode\":\"overlay\",\"size\":10,\"solidity\":0.2}},\"type\":\"bar\"}],\"barpolar\":[{\"marker\":{\"line\":{\"color\":\"#E5ECF6\",\"width\":0.5},\"pattern\":{\"fillmode\":\"overlay\",\"size\":10,\"solidity\":0.2}},\"type\":\"barpolar\"}],\"carpet\":[{\"aaxis\":{\"endlinecolor\":\"#2a3f5f\",\"gridcolor\":\"white\",\"linecolor\":\"white\",\"minorgridcolor\":\"white\",\"startlinecolor\":\"#2a3f5f\"},\"baxis\":{\"endlinecolor\":\"#2a3f5f\",\"gridcolor\":\"white\",\"linecolor\":\"white\",\"minorgridcolor\":\"white\",\"startlinecolor\":\"#2a3f5f\"},\"type\":\"carpet\"}],\"choropleth\":[{\"colorbar\":{\"outlinewidth\":0,\"ticks\":\"\"},\"type\":\"choropleth\"}],\"contour\":[{\"colorbar\":{\"outlinewidth\":0,\"ticks\":\"\"},\"colorscale\":[[0.0,\"#0d0887\"],[0.1111111111111111,\"#46039f\"],[0.2222222222222222,\"#7201a8\"],[0.3333333333333333,\"#9c179e\"],[0.4444444444444444,\"#bd3786\"],[0.5555555555555556,\"#d8576b\"],[0.6666666666666666,\"#ed7953\"],[0.7777777777777778,\"#fb9f3a\"],[0.8888888888888888,\"#fdca26\"],[1.0,\"#f0f921\"]],\"type\":\"contour\"}],\"contourcarpet\":[{\"colorbar\":{\"outlinewidth\":0,\"ticks\":\"\"},\"type\":\"contourcarpet\"}],\"heatmap\":[{\"colorbar\":{\"outlinewidth\":0,\"ticks\":\"\"},\"colorscale\":[[0.0,\"#0d0887\"],[0.1111111111111111,\"#46039f\"],[0.2222222222222222,\"#7201a8\"],[0.3333333333333333,\"#9c179e\"],[0.4444444444444444,\"#bd3786\"],[0.5555555555555556,\"#d8576b\"],[0.6666666666666666,\"#ed7953\"],[0.7777777777777778,\"#fb9f3a\"],[0.8888888888888888,\"#fdca26\"],[1.0,\"#f0f921\"]],\"type\":\"heatmap\"}],\"heatmapgl\":[{\"colorbar\":{\"outlinewidth\":0,\"ticks\":\"\"},\"colorscale\":[[0.0,\"#0d0887\"],[0.1111111111111111,\"#46039f\"],[0.2222222222222222,\"#7201a8\"],[0.3333333333333333,\"#9c179e\"],[0.4444444444444444,\"#bd3786\"],[0.5555555555555556,\"#d8576b\"],[0.6666666666666666,\"#ed7953\"],[0.7777777777777778,\"#fb9f3a\"],[0.8888888888888888,\"#fdca26\"],[1.0,\"#f0f921\"]],\"type\":\"heatmapgl\"}],\"histogram\":[{\"marker\":{\"pattern\":{\"fillmode\":\"overlay\",\"size\":10,\"solidity\":0.2}},\"type\":\"histogram\"}],\"histogram2d\":[{\"colorbar\":{\"outlinewidth\":0,\"ticks\":\"\"},\"colorscale\":[[0.0,\"#0d0887\"],[0.1111111111111111,\"#46039f\"],[0.2222222222222222,\"#7201a8\"],[0.3333333333333333,\"#9c179e\"],[0.4444444444444444,\"#bd3786\"],[0.5555555555555556,\"#d8576b\"],[0.6666666666666666,\"#ed7953\"],[0.7777777777777778,\"#fb9f3a\"],[0.8888888888888888,\"#fdca26\"],[1.0,\"#f0f921\"]],\"type\":\"histogram2d\"}],\"histogram2dcontour\":[{\"colorbar\":{\"outlinewidth\":0,\"ticks\":\"\"},\"colorscale\":[[0.0,\"#0d0887\"],[0.1111111111111111,\"#46039f\"],[0.2222222222222222,\"#7201a8\"],[0.3333333333333333,\"#9c179e\"],[0.4444444444444444,\"#bd3786\"],[0.5555555555555556,\"#d8576b\"],[0.6666666666666666,\"#ed7953\"],[0.7777777777777778,\"#fb9f3a\"],[0.8888888888888888,\"#fdca26\"],[1.0,\"#f0f921\"]],\"type\":\"histogram2dcontour\"}],\"mesh3d\":[{\"colorbar\":{\"outlinewidth\":0,\"ticks\":\"\"},\"type\":\"mesh3d\"}],\"parcoords\":[{\"line\":{\"colorbar\":{\"outlinewidth\":0,\"ticks\":\"\"}},\"type\":\"parcoords\"}],\"pie\":[{\"automargin\":true,\"type\":\"pie\"}],\"scatter\":[{\"marker\":{\"colorbar\":{\"outlinewidth\":0,\"ticks\":\"\"}},\"type\":\"scatter\"}],\"scatter3d\":[{\"line\":{\"colorbar\":{\"outlinewidth\":0,\"ticks\":\"\"}},\"marker\":{\"colorbar\":{\"outlinewidth\":0,\"ticks\":\"\"}},\"type\":\"scatter3d\"}],\"scattercarpet\":[{\"marker\":{\"colorbar\":{\"outlinewidth\":0,\"ticks\":\"\"}},\"type\":\"scattercarpet\"}],\"scattergeo\":[{\"marker\":{\"colorbar\":{\"outlinewidth\":0,\"ticks\":\"\"}},\"type\":\"scattergeo\"}],\"scattergl\":[{\"marker\":{\"colorbar\":{\"outlinewidth\":0,\"ticks\":\"\"}},\"type\":\"scattergl\"}],\"scattermapbox\":[{\"marker\":{\"colorbar\":{\"outlinewidth\":0,\"ticks\":\"\"}},\"type\":\"scattermapbox\"}],\"scatterpolar\":[{\"marker\":{\"colorbar\":{\"outlinewidth\":0,\"ticks\":\"\"}},\"type\":\"scatterpolar\"}],\"scatterpolargl\":[{\"marker\":{\"colorbar\":{\"outlinewidth\":0,\"ticks\":\"\"}},\"type\":\"scatterpolargl\"}],\"scatterternary\":[{\"marker\":{\"colorbar\":{\"outlinewidth\":0,\"ticks\":\"\"}},\"type\":\"scatterternary\"}],\"surface\":[{\"colorbar\":{\"outlinewidth\":0,\"ticks\":\"\"},\"colorscale\":[[0.0,\"#0d0887\"],[0.1111111111111111,\"#46039f\"],[0.2222222222222222,\"#7201a8\"],[0.3333333333333333,\"#9c179e\"],[0.4444444444444444,\"#bd3786\"],[0.5555555555555556,\"#d8576b\"],[0.6666666666666666,\"#ed7953\"],[0.7777777777777778,\"#fb9f3a\"],[0.8888888888888888,\"#fdca26\"],[1.0,\"#f0f921\"]],\"type\":\"surface\"}],\"table\":[{\"cells\":{\"fill\":{\"color\":\"#EBF0F8\"},\"line\":{\"color\":\"white\"}},\"header\":{\"fill\":{\"color\":\"#C8D4E3\"},\"line\":{\"color\":\"white\"}},\"type\":\"table\"}]},\"layout\":{\"annotationdefaults\":{\"arrowcolor\":\"#2a3f5f\",\"arrowhead\":0,\"arrowwidth\":1},\"autotypenumbers\":\"strict\",\"coloraxis\":{\"colorbar\":{\"outlinewidth\":0,\"ticks\":\"\"}},\"colorscale\":{\"diverging\":[[0,\"#8e0152\"],[0.1,\"#c51b7d\"],[0.2,\"#de77ae\"],[0.3,\"#f1b6da\"],[0.4,\"#fde0ef\"],[0.5,\"#f7f7f7\"],[0.6,\"#e6f5d0\"],[0.7,\"#b8e186\"],[0.8,\"#7fbc41\"],[0.9,\"#4d9221\"],[1,\"#276419\"]],\"sequential\":[[0.0,\"#0d0887\"],[0.1111111111111111,\"#46039f\"],[0.2222222222222222,\"#7201a8\"],[0.3333333333333333,\"#9c179e\"],[0.4444444444444444,\"#bd3786\"],[0.5555555555555556,\"#d8576b\"],[0.6666666666666666,\"#ed7953\"],[0.7777777777777778,\"#fb9f3a\"],[0.8888888888888888,\"#fdca26\"],[1.0,\"#f0f921\"]],\"sequentialminus\":[[0.0,\"#0d0887\"],[0.1111111111111111,\"#46039f\"],[0.2222222222222222,\"#7201a8\"],[0.3333333333333333,\"#9c179e\"],[0.4444444444444444,\"#bd3786\"],[0.5555555555555556,\"#d8576b\"],[0.6666666666666666,\"#ed7953\"],[0.7777777777777778,\"#fb9f3a\"],[0.8888888888888888,\"#fdca26\"],[1.0,\"#f0f921\"]]},\"colorway\":[\"#636efa\",\"#EF553B\",\"#00cc96\",\"#ab63fa\",\"#FFA15A\",\"#19d3f3\",\"#FF6692\",\"#B6E880\",\"#FF97FF\",\"#FECB52\"],\"font\":{\"color\":\"#2a3f5f\"},\"geo\":{\"bgcolor\":\"white\",\"lakecolor\":\"white\",\"landcolor\":\"#E5ECF6\",\"showlakes\":true,\"showland\":true,\"subunitcolor\":\"white\"},\"hoverlabel\":{\"align\":\"left\"},\"hovermode\":\"closest\",\"mapbox\":{\"style\":\"light\"},\"paper_bgcolor\":\"white\",\"plot_bgcolor\":\"#E5ECF6\",\"polar\":{\"angularaxis\":{\"gridcolor\":\"white\",\"linecolor\":\"white\",\"ticks\":\"\"},\"bgcolor\":\"#E5ECF6\",\"radialaxis\":{\"gridcolor\":\"white\",\"linecolor\":\"white\",\"ticks\":\"\"}},\"scene\":{\"xaxis\":{\"backgroundcolor\":\"#E5ECF6\",\"gridcolor\":\"white\",\"gridwidth\":2,\"linecolor\":\"white\",\"showbackground\":true,\"ticks\":\"\",\"zerolinecolor\":\"white\"},\"yaxis\":{\"backgroundcolor\":\"#E5ECF6\",\"gridcolor\":\"white\",\"gridwidth\":2,\"linecolor\":\"white\",\"showbackground\":true,\"ticks\":\"\",\"zerolinecolor\":\"white\"},\"zaxis\":{\"backgroundcolor\":\"#E5ECF6\",\"gridcolor\":\"white\",\"gridwidth\":2,\"linecolor\":\"white\",\"showbackground\":true,\"ticks\":\"\",\"zerolinecolor\":\"white\"}},\"shapedefaults\":{\"line\":{\"color\":\"#2a3f5f\"}},\"ternary\":{\"aaxis\":{\"gridcolor\":\"white\",\"linecolor\":\"white\",\"ticks\":\"\"},\"baxis\":{\"gridcolor\":\"white\",\"linecolor\":\"white\",\"ticks\":\"\"},\"bgcolor\":\"#E5ECF6\",\"caxis\":{\"gridcolor\":\"white\",\"linecolor\":\"white\",\"ticks\":\"\"}},\"title\":{\"x\":0.05},\"xaxis\":{\"automargin\":true,\"gridcolor\":\"white\",\"linecolor\":\"white\",\"ticks\":\"\",\"title\":{\"standoff\":15},\"zerolinecolor\":\"white\",\"zerolinewidth\":2},\"yaxis\":{\"automargin\":true,\"gridcolor\":\"white\",\"linecolor\":\"white\",\"ticks\":\"\",\"title\":{\"standoff\":15},\"zerolinecolor\":\"white\",\"zerolinewidth\":2}}},\"xaxis\":{\"anchor\":\"y\",\"domain\":[0.0,1.0],\"title\":{\"text\":\"Molar Volume\"}},\"yaxis\":{\"anchor\":\"x\",\"domain\":[0.0,1.0],\"title\":{\"text\":\"count\"}},\"legend\":{\"tracegroupgap\":0},\"margin\":{\"t\":60},\"barmode\":\"relative\"},                        {\"responsive\": true}                    ).then(function(){\n                            \nvar gd = document.getElementById('0e15dbb2-3633-4f30-8287-d836a2fc83af');\nvar x = new MutationObserver(function (mutations, observer) {{\n        var display = window.getComputedStyle(gd).display;\n        if (!display || display === 'none') {{\n            console.log([gd, 'removed!']);\n            Plotly.purge(gd);\n            observer.disconnect();\n        }}\n}});\n\n// Listen for the removal of the full notebook cells\nvar notebookContainer = gd.closest('#notebook-container');\nif (notebookContainer) {{\n    x.observe(notebookContainer, {childList: true});\n}}\n\n// Listen for the clearing of the current output cell\nvar outputEl = gd.closest('.output');\nif (outputEl) {{\n    x.observe(outputEl, {childList: true});\n}}\n\n                        })                };                            </script>        </div>\n</body>\n</html>"
     },
     "execution_count": 30,
     "metadata": {
     },
     "output_type": "execute_result"
    }
   ],
   "source": [
    "fig = px.histogram(minerals_database, x=\"Molar Volume\")\n",
    "fig.show()"
   ]
  },
  {
   "cell_type": "code",
   "execution_count": 31,
   "metadata": {
    "collapsed": false,
    "scrolled": true
   },
   "outputs": [
    {
     "data": {
      "text/html": "<html>\n<head><meta charset=\"utf-8\" /></head>\n<body>\n    <div>            <script src=\"https://cdnjs.cloudflare.com/ajax/libs/mathjax/2.7.5/MathJax.js?config=TeX-AMS-MML_SVG\"></script><script type=\"text/javascript\">if (window.MathJax) {MathJax.Hub.Config({SVG: {font: \"STIX-Web\"}});}</script>                <script type=\"text/javascript\">window.PlotlyConfig = {MathJaxConfig: 'local'};</script>\n        <script src=\"https://cdn.plot.ly/plotly-2.9.0.min.js\"></script>                <div id=\"de3fb5b9-a86e-4291-9117-d6da6f5e0ea3\" class=\"plotly-graph-div\" style=\"height:525px; width:100%;\"></div>            <script type=\"text/javascript\">                                    window.PLOTLYENV=window.PLOTLYENV || {};                                    if (document.getElementById(\"de3fb5b9-a86e-4291-9117-d6da6f5e0ea3\")) {                    Plotly.newPlot(                        \"de3fb5b9-a86e-4291-9117-d6da6f5e0ea3\",                        [{\"hovertemplate\":\"Mohs Hardness=%{x}<br>Crystal Structure=%{y}<extra></extra>\",\"legendgroup\":\"\",\"marker\":{\"color\":\"#636efa\",\"symbol\":\"circle\"},\"mode\":\"markers\",\"name\":\"\",\"showlegend\":false,\"x\":[4.5,2.75,2.0,0.0,5.5,3.5,3.5,0.0,2.5,6.0,5.5,3.0,4.0,3.5,3.5,5.5,0.0,0.0,2.0,0.0,0.0,0.0,5.5,0.0,0.0,2.0,2.5,4.5,0.0,6.25,0.0,5.0,4.5,3.0,5.5,5.5,5.25,0.0,0.0,0.0,0.0,0.0,2.25,1.5,3.75,1.75,1.67,5.75,0.0,2.75,0.0,3.5,3.5,5.75,7.0,2.5,6.25,6.75,3.0,3.5,2.0,2.75,6.0,6.0,2.5,5.75,0.0,3.25,3.0,4.75,3.75,2.0,0.0,0.0,5.5,6.5,5.0,5.5,1.5,3.5,2.5,0.0,0.0,3.5,3.25,0.0,4.25,5.75,2.0,4.25,2.25,0.0,3.75,3.5,5.75,6.5,2.33,6.5,6.0,2.5,3.5,3.0,4.0,0.0,2.33,2.25,6.75,2.5,6.25,3.5,3.0,2.5,6.5,6.5,7.75,5.75,4.0,2.5,0.0,5.0,2.75,1.5,1.75,0.0,3.0,3.0,3.75,2.75,0.0,4.0,3.75,0.0,7.25,0.0,0.0,0.0,2.0,0.0,3.75,5.5,4.5,0.0,3.75,9.0,3.5,0.0,2.75,2.5,0.0,0.0,4.5,5.5,6.0,5.0,5.0,3.5,3.5,4.5,3.5,3.0,7.0,2.75,0.0,5.5,2.75,2.75,7.0,2.0,2.5,2.0,0.0,1.5,5.75,6.5,3.5,0.0,6.25,3.25,4.5,2.5,2.5,1.5,2.0,0.0,7.0,3.0,5.5,2.5,5.5,2.25,2.0,6.5,0.0,6.25,5.5,8.5,2.75,0.0,2.15,0.0,5.5,6.0,6.5,2.88,7.5,4.5,3.25,0.0,4.5,3.0,7.25,4.0,4.0,4.5,9.0,2.5,3.75,6.5,2.75,0.0,2.75,6.25,5.5,3.75,4.0,4.5,5.5,2.5,4.0,5.75,7.25,5.25,3.0,5.5,0.0,0.0,3.25,2.5,2.5,6.75,1.75,6.0,5.0,0.0,6.75,4.5,7.75,2.0,4.5,3.33,5.0,5.5,5.0,3.75,6.5,2.0,4.5,2.0,8.0,5.25,2.25,0.0,7.5,6.5,5.5,6.0,0.0,0.0,0.0,4.25,0.0,0.0,0.0,0.0,1.0,3.75,3.0,3.5,7.0,3.33,7.5,4.75,2.33,4.0,2.5,3.5,3.0,5.5,2.5,0.0,3.5,4.75,4.0,2.5,5.75,5.5,3.0,5.5,2.75,2.75,0.0,2.75,0.0,2.0,6.25,5.25,4.5,2.5,4.5,2.25,0.0,7.5,2.5,4.5,0.0,3.75,5.5,5.0,0.0,2.5,0.0,0.0,1.83,3.5,5.0,0.0,0.0,0.0,2.25,1.75,7.5,3.25,3.5,0.0,5.5,5.5,2.25,6.0,6.0,3.0,4.75,3.25,7.5,5.25,4.5,5.0,3.0,0.0,5.0,0.0,0.0,3.25,3.5,6.5,5.5,2.75,2.75,6.25,1.5,3.5,4.5,2.0,0.0,3.5,2.0,5.0,1.75,1.0,0.0,3.0,1.5,5.5,5.75,2.0,3.0,4.5,6.75,0.0,3.0,3.5,7.0,5.5,2.25,2.25,3.5,4.5,2.5,0.0,5.5,2.75,5.5,0.0,0.0,4.5,3.0,6.0,2.25,2.67,5.0,2.75,3.75,3.5,1.67,5.0,3.5,0.0,6.5,6.0,2.0,4.0,0.0,2.83,2.75,6.5,0.0,2.0,5.75,6.25,0.0,3.75,2.75,0.0,6.0,4.0,3.25,1.86,7.5,5.75,5.25,2.0,4.75,6.0,3.0,5.0,2.75,0.0,5.75,0.0,5.75,4.0,2.0,2.5,4.5,0.0,1.75,4.5,1.75,1.67,6.0,7.5,3.5,5.5,5.75,0.0,3.75,2.0,5.0,6.25,2.5,4.0,6.0,7.25,3.75,3.75,4.0,5.5,6.5,0.0,4.0,3.5,4.25,6.0,1.75,0.0,2.0,2.75,3.75,5.5,6.75,2.0,5.25,1.75,3.0,0.0,0.0,5.0,3.5,2.5,2.25,0.0,0.0,0.0,1.5,3.75,3.5,1.75,3.5,6.0,0.0,3.5,5.25,0.0,5.5,0.0,2.25,1.25,0.0,2.1,3.0,0.0,0.0,2.5,6.5,6.25,5.5,0.0,3.0,5.0,6.0,5.5,3.75,4.0,0.0,2.0,1.75,0.0,1.75,6.25,0.0,2.5,0.0,0.0,3.0,3.0,5.5,5.5,6.5,6.0,3.5,5.5,0.0,6.0,8.0,0.0,5.25,2.75,3.0,4.5,5.5,2.33,0.0,4.0,2.5,4.75,0.0,3.5,5.0,6.0,6.25,8.0,2.25,7.75,2.25,1.67,2.5,3.5,0.0,1.5,1.5,6.25,6.0,0.0,3.5,2.5,5.75,3.5,2.0,2.5,5.0,0.0,3.75,6.25,6.0,4.75,0.0,4.5,1.75,4.83,7.25,5.5,1.75,5.0,3.5,2.0,5.0,0.0,0.0,5.25,3.75,6.0,0.0,5.5,0.0,6.0,2.0,2.5,6.25,5.75,4.0,3.5,0.0,2.5,0.0,5.0,3.5,0.0,0.0,0.0,0.0,4.0,5.0,5.0,0.0,0.0,7.5,4.0,4.5,1.0,4.75,0.0,0.0,2.5,7.0,0.0,0.0,3.25,3.75,6.0,4.0,1.5,0.0,0.0,0.0,7.25,5.25,0.0,2.0,5.25,6.75,0.0,3.5,3.5,2.0,0.0,4.0,2.5,2.5,7.0,0.0,7.25,1.5,4.0,0.0,4.5,5.75,0.0,5.5,7.0,4.0,7.75,6.75,5.0,7.25,4.5,2.0,1.75,6.5,3.5,9.5,2.5,2.0,1.75,5.75,1.5,2.5,5.5,0.0,3.0,2.75,0.0,5.0,2.0,2.0,4.5,2.5,0.0,1.0,5.0,0.0,3.5,7.0,1.5,0.0,3.5,6.25,2.0,3.75,6.0,0.0,3.5,2.5,1.25,2.0,5.5,3.75,0.0,6.0,0.0,5.25,2.5,1.33,8.0,2.25,5.5,7.0,4.5,5.25,3.0,2.5,5.5,1.5,2.33,2.0,4.0,2.5,0.0,5.5,0.0,0.0,2.5,0.0,5.75,0.0,0.0,0.0,0.0,1.5,4.0,6.5,7.0,2.75,3.5,0.0,4.5,3.0,2.75,3.5,2.0,1.75,6.5,2.25,0.0,5.5,1.75,3.5,6.0,2.0,0.0,0.0,0.0,5.0,2.0,3.5,3.75,4.0,1.5,0.0,2.0,0.0,5.0,5.5,6.0,3.25,4.75,0.0,4.0,0.0,4.5,2.75,0.0,3.0,0.0,5.0,6.0,2.5,0.0,0.0,4.0,0.0,5.8,3.5,3.75,2.0,7.5,0.0,6.5,3.5,7.0,0.0,0.0,0.0,0.0,0.0,0.0,0.0,0.0,0.0,0.0,0.0,0.0,0.0,0.0,0.0,0.0,0.0,0.0,0.0,0.0,0.0,0.0,0.0,0.0,0.0,0.0,0.0,0.0,0.0,0.0,0.0,0.0,0.0,0.0,0.0,0.0,0.0,0.0,0.0,0.0,0.0,0.0,0.0,0.0,0.0,0.0,0.0,0.0,0.0,0.0,0.0,0.0,0.0,0.0,0.0,0.0,0.0,0.0,0.0,0.0,0.0,0.0,0.0,0.0,0.0,0.0,0.0,0.0,0.0,0.0,0.0,0.0,0.0,0.0,0.0,0.0,0.0,0.0,0.0,0.0,0.0,0.0,0.0,0.0,0.0,0.0,0.0,0.0,0.0,0.0,0.0,0.0,0.0,0.0,0.0,0.0,0.0,0.0,0.0,0.0,0.0,0.0,0.0,0.0,0.0,0.0,0.0,0.0,0.0,0.0,0.0,0.0,0.0,0.0,0.0,0.0,0.0,0.0,0.0,0.0,0.0,0.0,0.0,0.0,0.0,0.0,0.0,0.0,0.0,0.0,0.0,0.0,0.0,0.0,0.0,0.0,0.0,0.0,0.0,0.0,0.0,0.0,0.0,0.0,0.0,0.0,0.0,0.0,0.0,0.0,0.0,0.0,0.0,0.0,0.0,0.0,0.0,0.0,0.0,0.0,0.0,0.0,0.0,0.0,0.0,0.0,0.0,0.0,0.0,0.0,0.0,0.0,0.0,0.0,0.0,0.0,0.0,0.0,0.0,0.0,0.0,0.0,0.0,0.0,0.0,0.0,0.0,0.0,0.0,0.0,0.0,0.0,0.0,0.0,0.0,0.0,0.0,0.0,0.0,0.0,0.0,0.0,0.0,0.0,0.0,0.0,0.0,0.0,0.0,0.0,0.0,0.0,0.0,0.0,0.0,0.0,0.0,0.0,0.0,0.0,0.0,0.0,0.0,0.0,0.0,0.0,0.0,0.0,0.0,0.0,0.0,0.0,0.0,0.0,0.0,0.0,0.0,0.0,0.0,0.0,0.0,0.0,0.0,0.0,0.0,0.0,0.0,0.0,0.0,0.0,0.0,0.0,0.0,0.0,0.0,0.0,0.0,0.0,0.0,0.0,0.0,0.0,0.0,0.0,0.0,0.0,0.0,0.0,0.0,0.0,0.0,0.0,0.0,0.0,0.0,0.0,0.0,0.0,0.0,0.0,0.0,0.0,0.0,0.0,0.0,0.0,0.0,0.0,0.0,0.0,0.0,0.0,0.0,0.0,0.0,0.0,0.0,0.0,0.0,0.0,0.0,0.0,0.0,0.0,0.0,0.0,0.0,0.0,0.0,0.0,0.0,0.0,0.0,0.0,0.0,0.0,0.0,0.0,0.0,0.0,0.0,0.0,0.0,0.0,0.0,0.0,0.0,0.0,0.0,0.0,0.0,0.0,0.0,0.0,0.0,0.0,0.0,0.0,0.0,0.0,0.0,0.0,0.0,0.0,0.0,0.0,0.0,0.0,0.0,0.0,0.0,0.0,0.0,0.0,0.0,0.0,0.0,0.0,0.0,0.0,0.0,0.0,0.0,0.0,0.0,0.0,0.0,0.0,0.0,0.0,0.0,0.0,0.0,0.0,0.0,0.0,0.0,0.0,0.0,0.0,0.0,0.0,0.0,0.0,0.0,0.0,0.0,0.0,0.0,0.0,0.0,0.0,0.0,0.0,0.0,0.0,0.0,0.0,0.0,0.0,0.0,0.0,0.0,0.0,0.0,0.0,0.0,0.0,0.0,0.0,0.0,0.0,0.0,0.0,0.0,0.0,0.0,0.0,0.0,0.0,0.0,0.0,0.0,0.0,0.0,0.0,0.0,0.0,0.0,0.0,0.0,0.0,0.0,0.0,0.0,0.0,0.0,0.0,0.0,0.0,0.0,0.0,0.0,0.0,0.0,0.0,0.0,0.0,0.0,0.0,0.0,0.0,0.0,0.0,0.0,0.0,0.0,0.0,0.0,0.0,0.0,0.0,0.0,0.0,0.0,0.0,0.0,0.0,0.0,0.0,0.0,0.0,0.0,0.0,0.0,0.0,0.0,0.0,0.0,0.0,0.0,0.0,0.0,0.0,0.0,0.0,0.0,0.0,0.0,0.0,0.0,0.0,0.0,0.0,0.0,0.0,0.0,0.0,0.0,0.0,0.0,0.0,0.0,0.0,0.0,0.0,0.0,0.0,0.0,0.0,0.0,0.0,0.0,0.0,0.0,0.0,0.0,0.0,0.0,0.0,0.0,0.0,0.0,0.0,0.0,0.0,0.0,0.0,0.0,0.0,0.0,0.0,0.0,0.0,0.0,0.0,0.0,0.0,0.0,0.0,0.0,0.0,0.0,0.0,0.0,0.0,0.0,0.0,0.0,0.0,0.0,0.0,0.0,0.0,0.0,0.0,0.0,0.0,0.0,0.0,0.0,0.0,0.0,0.0,0.0,0.0,0.0,0.0,0.0,0.0,0.0,0.0,0.0,0.0,0.0,0.0,0.0,0.0,0.0,0.0,0.0,0.0,0.0,0.0,0.0,0.0,0.0,0.0,0.0,0.0,0.0,0.0,0.0,0.0,0.0,0.0,0.0,0.0,0.0,0.0,0.0,0.0,0.0,0.0,0.0,0.0,0.0,0.0,0.0,0.0,0.0,0.0,0.0,0.0,0.0,0.0,0.0,0.0,0.0,0.0,0.0,0.0,0.0,0.0,0.0,0.0,0.0,0.0,0.0,0.0,0.0,0.0,0.0,0.0,0.0,0.0,0.0,0.0,0.0,0.0,0.0,0.0,0.0,0.0,0.0,0.0,0.0,0.0,0.0,0.0,0.0,0.0,0.0,0.0,0.0,0.0,0.0,0.0,0.0,0.0,0.0,0.0,0.0,0.0,0.0,0.0,0.0,0.0,0.0,0.0,0.0,0.0,0.0,0.0,0.0,0.0,0.0,0.0,0.0,0.0,0.0,0.0,0.0,0.0,0.0,0.0,0.0,0.0,0.0,0.0,0.0,0.0,0.0,0.0,0.0,0.0,0.0,0.0,0.0,0.0,0.0,0.0,0.0,0.0,0.0,0.0,0.0,0.0,0.0,0.0,0.0,0.0,0.0,0.0,0.0,0.0,0.0,0.0,0.0,0.0,0.0,0.0,0.0,0.0,0.0,0.0,0.0,0.0,0.0,0.0,0.0,0.0,0.0,0.0,0.0,0.0,0.0,0.0,0.0,0.0,0.0,0.0,0.0,0.0,0.0,0.0,0.0,0.0,0.0,0.0,0.0,0.0,0.0,0.0,0.0,0.0,0.0,0.0,0.0,0.0,0.0,0.0,0.0,0.0,0.0,0.0,0.0,0.0,0.0,0.0,0.0,0.0,0.0,0.0,0.0,0.0,0.0,0.0,0.0,0.0,0.0,0.0,0.0,0.0,0.0,0.0,0.0,0.0,0.0,0.0,0.0,0.0,0.0,0.0,0.0,0.0,0.0,0.0,0.0,0.0,0.0,0.0,0.0,0.0,0.0,0.0,0.0,0.0,0.0,0.0,0.0,0.0,0.0,0.0,0.0,0.0,0.0,0.0,0.0,0.0,0.0,0.0,0.0,0.0,0.0,0.0,0.0,0.0,0.0,0.0,0.0,0.0,0.0,0.0,0.0,0.0,0.0,0.0,0.0,0.0,0.0,0.0,0.0,0.0,0.0,0.0,0.0,0.0,0.0,0.0,0.0,0.0,0.0,0.0,0.0,0.0,0.0,0.0,0.0,0.0,0.0,0.0,0.0,0.0,0.0,0.0,0.0,0.0,0.0,0.0,0.0,0.0,0.0,0.0,0.0,0.0,0.0,0.0,0.0,0.0,0.0,0.0,0.0,0.0,0.0,0.0,0.0,0.0,0.0,0.0,0.0,0.0,0.0,0.0,0.0,0.0,0.0,0.0,0.0,0.0,0.0,0.0,0.0,0.0,0.0,0.0,0.0,0.0,0.0,0.0,0.0,0.0,0.0,0.0,0.0,0.0,0.0,0.0,0.0,0.0,0.0,0.0,0.0,0.0,0.0,0.0,0.0,0.0,0.0,0.0,0.0,0.0,0.0,0.0,0.0,0.0,0.0,0.0,0.0,0.0,0.0,0.0,0.0,0.0,0.0,0.0,0.0,0.0,0.0,0.0,0.0,0.0,0.0,0.0,0.0,0.0,0.0,0.0,0.0,0.0,0.0,0.0,0.0,0.0,0.0,0.0,0.0,0.0,0.0,0.0,0.0,0.0,0.0,0.0,0.0,0.0,0.0,0.0,0.0,0.0,0.0,0.0,0.0,0.0,0.0,0.0,0.0,0.0,0.0,0.0,0.0,0.0,0.0,0.0,0.0,0.0,0.0,0.0,0.0,0.0,0.0,0.0,0.0,0.0,0.0,0.0,0.0,0.0,0.0,0.0,0.0,0.0,0.0,0.0,0.0,0.0,0.0,0.0,0.0,0.0,0.0,0.0,0.0,0.0,0.0,0.0,0.0,0.0,0.0,0.0,0.0,0.0,0.0,0.0,0.0,0.0,0.0,0.0,0.0,0.0,0.0,0.0,0.0,0.0,0.0,0.0,0.0,0.0,0.0,0.0,0.0,0.0,0.0,0.0,0.0,0.0,0.0,0.0,0.0,0.0,0.0,0.0,0.0,0.0,0.0,0.0,0.0,0.0,0.0,0.0,0.0,0.0,0.0,0.0,0.0,0.0,0.0,0.0,0.0,0.0,0.0,0.0,0.0,0.0,0.0,0.0,0.0,0.0,0.0,0.0,0.0,0.0,0.0,0.0,0.0,0.0,0.0,0.0,0.0,0.0,0.0,0.0,0.0,0.0,0.0,0.0,0.0,0.0,0.0,0.0,0.0,0.0,0.0,0.0,0.0,0.0,0.0,0.0,0.0,0.0,0.0,0.0,0.0,0.0,0.0,0.0,0.0,0.0,0.0,0.0,0.0,0.0,0.0,0.0,0.0,0.0,0.0,0.0,0.0,0.0,0.0,0.0,0.0,0.0,0.0,0.0,0.0,0.0,0.0,0.0,0.0,0.0,0.0,0.0,0.0,0.0,0.0,0.0,0.0,0.0,0.0,0.0,0.0,0.0,0.0,0.0,0.0,0.0,0.0,0.0,0.0,0.0,0.0,0.0,0.0,0.0,0.0,0.0,0.0,0.0,0.0,0.0,0.0,0.0,0.0,0.0,0.0,0.0,0.0,0.0,0.0,0.0,0.0,0.0,0.0,0.0,0.0,0.0,0.0,0.0,0.0,0.0,0.0,0.0,0.0,0.0,0.0,0.0,0.0,0.0,0.0,0.0,0.0,0.0,0.0,0.0,0.0,0.0,0.0,0.0,0.0,0.0,0.0,0.0,0.0,0.0,0.0,0.0,0.0,0.0,0.0,0.0,0.0,0.0,0.0,0.0,0.0,0.0,0.0,0.0,0.0,0.0,0.0,0.0,0.0,0.0,0.0,0.0,0.0,0.0,0.0,0.0,0.0,0.0,0.0,0.0,0.0,0.0,0.0,0.0,0.0,0.0,0.0,0.0,0.0,0.0,0.0,0.0,0.0,0.0,0.0,0.0,0.0,0.0,0.0,0.0,0.0,0.0,0.0,0.0,0.0,0.0,0.0,0.0,0.0,0.0,0.0,0.0,0.0,0.0,0.0,0.0,0.0,0.0,0.0,0.0,0.0,0.0,0.0,0.0,0.0,0.0,0.0,0.0,0.0,0.0,0.0,0.0,0.0,0.0,0.0,0.0,0.0,0.0,0.0,0.0,0.0,0.0,0.0,0.0,0.0,0.0,0.0,0.0,0.0,0.0,0.0,0.0,0.0,0.0,0.0,0.0,0.0,0.0,0.0,0.0,0.0,0.0,0.0,0.0,0.0,0.0,0.0,0.0,0.0,0.0,0.0,0.0,0.0,0.0,0.0,0.0,0.0,0.0,0.0,0.0,0.0,0.0,0.0,0.0,0.0,0.0,0.0,0.0,0.0,0.0,0.0,0.0,0.0,0.0,0.0,0.0,0.0,0.0,0.0,0.0,0.0,0.0,0.0,0.0,0.0,0.0,0.0,0.0,0.0,0.0,0.0,0.0,0.0,0.0,0.0,0.0,0.0,0.0,0.0,0.0,0.0,0.0,0.0,0.0,0.0,0.0,0.0,0.0,0.0,0.0,0.0,0.0,0.0,0.0,0.0,0.0,0.0,0.0,0.0,0.0,0.0,0.0,0.0,0.0,0.0,0.0,0.0,0.0,0.0,0.0,0.0,0.0,0.0,0.0,0.0,0.0,0.0,0.0,0.0,0.0,0.0,0.0,0.0,0.0,0.0,0.0,0.0,0.0,0.0,0.0,0.0,0.0,0.0,0.0,0.0,0.0,0.0,0.0,0.0,0.0,0.0,0.0,0.0,0.0,0.0,0.0,0.0,0.0,0.0,0.0,0.0,0.0,0.0,0.0,0.0,0.0,0.0,0.0,0.0,0.0,0.0,0.0,0.0,0.0,0.0,0.0,0.0,0.0,0.0,0.0,0.0,0.0,0.0,0.0,0.0,0.0,0.0,0.0,0.0,0.0,0.0,0.0,0.0,0.0,0.0,0.0,0.0,0.0,0.0,0.0,0.0,0.0,0.0,0.0,0.0,0.0,0.0,0.0,0.0,0.0,0.0,0.0,0.0,0.0,0.0,0.0,0.0,0.0,0.0,0.0,0.0,0.0,0.0,0.0,0.0,0.0,0.0,0.0,0.0,0.0,0.0,0.0,0.0,0.0,0.0,0.0,0.0,0.0,0.0,0.0,0.0,0.0,0.0,0.0,0.0,0.0,0.0,0.0,0.0,0.0,0.0,0.0,0.0,0.0,0.0,0.0,0.0,0.0,0.0,0.0,0.0,0.0,0.0,0.0,0.0,0.0,0.0,0.0,0.0,0.0,0.0,0.0,0.0,0.0,0.0,0.0,0.0,0.0,0.0,0.0,0.0,0.0,0.0,0.0,0.0,0.0,0.0,0.0,0.0,0.0,0.0,0.0,0.0,0.0,0.0,0.0,0.0,0.0,0.0,0.0,0.0,0.0,0.0,0.0,0.0,0.0,0.0,0.0,0.0,0.0,0.0,0.0,0.0,0.0,0.0,0.0,0.0,0.0,0.0,0.0,0.0,0.0,0.0,0.0,0.0,0.0,0.0,0.0,0.0,0.0,0.0,0.0,0.0,0.0,0.0,0.0,0.0,0.0,0.0,0.0,0.0,0.0,0.0,0.0,0.0,0.0,0.0,0.0,0.0,0.0,0.0,0.0,0.0,0.0,0.0,0.0,0.0,0.0,0.0,0.0,0.0,0.0,0.0,0.0,0.0,0.0,0.0,0.0,0.0,0.0,0.0,0.0,0.0,0.0,0.0,0.0,0.0,0.0,0.0,0.0,0.0,0.0,0.0,0.0,0.0,0.0,0.0,0.0,0.0,0.0,0.0,0.0,0.0,0.0,0.0,0.0,0.0,0.0,0.0,0.0,0.0,0.0,0.0,0.0,0.0,0.0,0.0,0.0,0.0,0.0,0.0,0.0,0.0,0.0,0.0,0.0,0.0,0.0,0.0,0.0,0.0,0.0,0.0,0.0,0.0,0.0,0.0,0.0,0.0,0.0,0.0,0.0,0.0,0.0,0.0,0.0,0.0,0.0,0.0,0.0,0.0,0.0,0.0,0.0,0.0,0.0,0.0,0.0,0.0,0.0,0.0,0.0,0.0,0.0,0.0,0.0,0.0,0.0,0.0,0.0,0.0,0.0,0.0,0.0,0.0,0.0,0.0,0.0,0.0,0.0,0.0,0.0,0.0,0.0,0.0,0.0,0.0,0.0,0.0,0.0,0.0,0.0,0.0,0.0,0.0,0.0,0.0,0.0,0.0,0.0,0.0,0.0,0.0,0.0,0.0,0.0,0.0,0.0,0.0,0.0,0.0,0.0,0.0,0.0,0.0,0.0,0.0,0.0,0.0,0.0,0.0,0.0,0.0,0.0,0.0,0.0,0.0,0.0,0.0,0.0,0.0,0.0,0.0,0.0,0.0,0.0,0.0,0.0,0.0,0.0,0.0,0.0,0.0,0.0,0.0,0.0,0.0,0.0,0.0,0.0,0.0,0.0,0.0,0.0,0.0,0.0,0.0,0.0,0.0,0.0,0.0,0.0,0.0,0.0,0.0,0.0,0.0,0.0,0.0,0.0,0.0,0.0,0.0,0.0,0.0,0.0,0.0,0.0,0.0,0.0,0.0,0.0,0.0,0.0,0.0,0.0,0.0,0.0,0.0,0.0,0.0,0.0,0.0,0.0,0.0,0.0,0.0,0.0,0.0,0.0,0.0,0.0,0.0,0.0,0.0,0.0,0.0,0.0,0.0,0.0,0.0,0.0,0.0,0.0,0.0,0.0,0.0,0.0,0.0,0.0,0.0,0.0,0.0,0.0,0.0,0.0,0.0,0.0,0.0,0.0,0.0,0.0,0.0,0.0,0.0,0.0,0.0,0.0,0.0,0.0,0.0,0.0,0.0,0.0,0.0,0.0,0.0,0.0,0.0,0.0,0.0,0.0,0.0,0.0,0.0,0.0,0.0,0.0,0.0,0.0,0.0,0.0,0.0,0.0,0.0,0.0,0.0,0.0,0.0,0.0,0.0,0.0,0.0,0.0,0.0,0.0,0.0,0.0,0.0,0.0,0.0,0.0,0.0,0.0,0.0,0.0,0.0,0.0,0.0,0.0,0.0,0.0,0.0,0.0,0.0,0.0,0.0,0.0,0.0,0.0,0.0,0.0,0.0,0.0,0.0,0.0,0.0,0.0,0.0,0.0,0.0,0.0,0.0,0.0,0.0,0.0,0.0,0.0,0.0,0.0,0.0,0.0,0.0,0.0,0.0,0.0,0.0,0.0,0.0,0.0,0.0,0.0,0.0,0.0,0.0,0.0,0.0,0.0,0.0,0.0,0.0,0.0,0.0,0.0,0.0,0.0,0.0,0.0,0.0,0.0,0.0,0.0,0.0,0.0,0.0,0.0,0.0,0.0,0.0,0.0,0.0,0.0,0.0,0.0,0.0,0.0,0.0,0.0,0.0,0.0,0.0,0.0,0.0,0.0,0.0,0.0,0.0,0.0,0.0,0.0,0.0,0.0,0.0,0.0,0.0,0.0,0.0,0.0,0.0,0.0,0.0,0.0,0.0,0.0,0.0,0.0,0.0,0.0,0.0,0.0,0.0,0.0,0.0,0.0,0.0,0.0,0.0,0.0,0.0,0.0,0.0,0.0,0.0,0.0,0.0,0.0,0.0,0.0,0.0,0.0,0.0,0.0,0.0,0.0,0.0,0.0,0.0,0.0,0.0,0.0,0.0,0.0,0.0,0.0,0.0,0.0,0.0,0.0,0.0,0.0,0.0,0.0,0.0,0.0,0.0,0.0,0.0,0.0,0.0,0.0,0.0,0.0,0.0,0.0,0.0,0.0,0.0,0.0,0.0,0.0,0.0,0.0,0.0,0.0,0.0,0.0,0.0,0.0,0.0,0.0,0.0,0.0,0.0,0.0,0.0,0.0,0.0,0.0,0.0,0.0,0.0,0.0,0.0,0.0,0.0,0.0,0.0,0.0,0.0,0.0,0.0,0.0,0.0,0.0,0.0,0.0,0.0,0.0,0.0,0.0,0.0,0.0,0.0,0.0,0.0,0.0,0.0,0.0,0.0,0.0,0.0,0.0,0.0,0.0,0.0,0.0,0.0,0.0,0.0,0.0,0.0,0.0,0.0,0.0,0.0,0.0,0.0,0.0,0.0,0.0,0.0,0.0,0.0,0.0,0.0,0.0,0.0,0.0,0.0,0.0,0.0,0.0,0.0,0.0,0.0,0.0,0.0,0.0,0.0,0.0,0.0,0.0,0.0,0.0,0.0,0.0,0.0,0.0,0.0,0.0,0.0,0.0,0.0,0.0,0.0,0.0,0.0,0.0,0.0,0.0,0.0,0.0,0.0,0.0,0.0,0.0,0.0,0.0,0.0,0.0,0.0,0.0,0.0,0.0,0.0,0.0,0.0,0.0,0.0,0.0,0.0,0.0,0.0,0.0,0.0,0.0,0.0,0.0,0.0,0.0,0.0,0.0,0.0,0.0,0.0,0.0,0.0,0.0],\"xaxis\":\"x\",\"y\":[5.0,4.0,5.0,0.0,2.0,2.0,3.0,0.0,2.0,2.0,1.0,2.0,5.0,5.0,2.0,1.0,0.0,2.0,1.0,2.0,0.0,0.0,4.0,5.0,5.0,2.0,3.0,2.0,0.0,1.0,0.0,5.0,2.0,2.0,2.0,5.0,2.0,0.0,0.0,3.0,0.0,0.0,6.0,2.0,5.0,1.0,1.0,1.0,2.0,1.0,2.0,2.0,1.0,4.0,3.0,5.0,1.0,6.0,2.0,3.0,2.0,2.0,1.0,1.0,5.0,3.0,0.0,3.0,5.0,3.0,3.0,3.0,0.0,0.0,2.0,4.0,3.0,3.0,6.0,2.0,2.0,1.0,4.0,1.0,3.0,0.0,2.0,2.0,2.0,3.0,3.0,3.0,2.0,1.0,1.0,2.0,2.0,3.0,4.0,5.0,3.0,2.0,2.0,2.0,2.0,2.0,5.0,3.0,5.0,5.0,5.0,2.0,5.0,3.0,5.0,2.0,5.0,6.0,2.0,2.0,2.0,2.0,2.0,2.0,3.0,2.0,0.0,2.0,3.0,2.0,2.0,3.0,3.0,0.0,2.0,2.0,2.0,3.0,4.0,2.0,2.0,0.0,2.0,5.0,3.0,3.0,5.0,2.0,2.0,1.0,1.0,6.0,1.0,5.0,2.0,5.0,0.0,2.0,3.0,5.0,6.0,3.0,2.0,5.0,4.0,5.0,6.0,3.0,3.0,2.0,0.0,2.0,3.0,4.0,3.0,2.0,2.0,3.0,3.0,5.0,1.0,2.0,5.0,0.0,3.0,2.0,5.0,2.0,2.0,3.0,0.0,1.0,6.0,2.0,0.0,3.0,2.0,0.0,2.0,2.0,2.0,2.0,2.0,2.0,2.0,2.0,1.0,5.0,3.0,5.0,3.0,5.0,1.0,2.0,5.0,3.0,2.0,4.0,2.0,5.0,2.0,4.0,2.0,6.0,1.0,3.0,2.0,2.0,4.0,0.0,3.0,2.0,3.0,5.0,1.0,3.0,3.0,2.0,4.0,3.0,2.0,2.0,5.0,2.0,2.0,3.0,3.0,3.0,3.0,5.0,1.0,3.0,3.0,2.0,2.0,3.0,2.0,2.0,5.0,2.0,5.0,3.0,2.0,5.0,5.0,3.0,2.0,5.0,0.0,2.0,5.0,5.0,0.0,5.0,2.0,1.0,3.0,5.0,5.0,5.0,5.0,4.0,5.0,0.0,2.0,3.0,3.0,1.0,0.0,0.0,6.0,5.0,3.0,2.0,3.0,4.0,1.0,5.0,0.0,2.0,2.0,2.0,0.0,2.0,2.0,3.0,4.0,5.0,1.0,3.0,2.0,3.0,2.0,2.0,2.0,3.0,2.0,4.0,3.0,2.0,3.0,0.0,2.0,2.0,5.0,0.0,3.0,0.0,6.0,2.0,3.0,5.0,4.0,2.0,4.0,0.0,3.0,2.0,5.0,1.0,3.0,5.0,0.0,2.0,5.0,1.0,2.0,2.0,2.0,3.0,0.0,3.0,2.0,0.0,1.0,2.0,1.0,3.0,5.0,2.0,2.0,2.0,2.0,2.0,5.0,5.0,2.0,2.0,2.0,2.0,2.0,5.0,2.0,2.0,1.0,2.0,2.0,0.0,5.0,1.0,5.0,3.0,3.0,1.0,2.0,3.0,2.0,2.0,2.0,2.0,3.0,0.0,5.0,5.0,2.0,2.0,1.0,3.0,2.0,2.0,2.0,2.0,2.0,1.0,2.0,2.0,3.0,2.0,2.0,2.0,0.0,3.0,2.0,2.0,2.0,1.0,1.0,1.0,2.0,6.0,2.0,0.0,2.0,2.0,3.0,2.0,3.0,2.0,0.0,2.0,2.0,5.0,2.0,3.0,2.0,0.0,4.0,3.0,2.0,3.0,3.0,2.0,2.0,4.0,2.0,3.0,3.0,1.0,3.0,5.0,2.0,3.0,1.0,3.0,3.0,2.0,4.0,6.0,2.0,5.0,0.0,6.0,2.0,2.0,2.0,6.0,4.0,0.0,2.0,4.0,3.0,3.0,3.0,2.0,4.0,4.0,1.0,4.0,4.0,2.0,4.0,4.0,2.0,1.0,5.0,3.0,1.0,4.0,4.0,1.0,0.0,0.0,5.0,5.0,3.0,2.0,5.0,2.0,0.0,3.0,2.0,5.0,3.0,3.0,3.0,5.0,3.0,2.0,2.0,0.0,2.0,2.0,1.0,4.0,3.0,0.0,3.0,3.0,5.0,2.0,0.0,0.0,2.0,3.0,5.0,2.0,2.0,3.0,0.0,0.0,6.0,3.0,1.0,2.0,2.0,5.0,4.0,2.0,5.0,5.0,5.0,5.0,5.0,3.0,2.0,2.0,2.0,4.0,2.0,2.0,1.0,2.0,2.0,1.0,1.0,3.0,5.0,0.0,2.0,5.0,2.0,5.0,2.0,2.0,4.0,2.0,3.0,2.0,1.0,2.0,2.0,3.0,4.0,4.0,3.0,1.0,5.0,2.0,5.0,0.0,4.0,3.0,3.0,2.0,2.0,3.0,3.0,4.0,6.0,5.0,1.0,1.0,1.0,3.0,5.0,2.0,5.0,3.0,5.0,1.0,3.0,2.0,6.0,6.0,2.0,1.0,2.0,0.0,2.0,2.0,0.0,2.0,1.0,2.0,3.0,3.0,0.0,2.0,2.0,2.0,2.0,3.0,0.0,3.0,1.0,2.0,2.0,1.0,5.0,2.0,2.0,3.0,2.0,1.0,4.0,2.0,3.0,2.0,3.0,2.0,3.0,0.0,3.0,3.0,4.0,0.0,3.0,1.0,1.0,2.0,3.0,3.0,5.0,3.0,5.0,2.0,1.0,3.0,0.0,5.0,4.0,1.0,3.0,5.0,6.0,3.0,2.0,0.0,5.0,6.0,2.0,2.0,2.0,3.0,1.0,5.0,5.0,1.0,4.0,3.0,3.0,3.0,2.0,2.0,4.0,2.0,0.0,2.0,5.0,2.0,5.0,2.0,0.0,2.0,2.0,5.0,1.0,1.0,0.0,3.0,1.0,5.0,3.0,1.0,6.0,3.0,2.0,3.0,2.0,5.0,3.0,3.0,2.0,2.0,5.0,0.0,1.0,5.0,2.0,3.0,2.0,3.0,4.0,2.0,3.0,3.0,2.0,2.0,2.0,2.0,0.0,2.0,2.0,4.0,3.0,2.0,1.0,2.0,2.0,1.0,2.0,6.0,3.0,2.0,1.0,0.0,2.0,2.0,1.0,6.0,3.0,5.0,3.0,3.0,5.0,2.0,1.0,2.0,2.0,4.0,6.0,0.0,5.0,2.0,2.0,2.0,2.0,3.0,0.0,2.0,4.0,1.0,3.0,3.0,4.0,3.0,1.0,1.0,2.0,5.0,5.0,4.0,3.0,1.0,3.0,2.0,3.0,5.0,2.0,2.0,2.0,0.0,2.0,3.0,4.0,2.0,3.0,5.0,0.0,6.0,3.0,2.0,2.0,4.0,2.0,3.0,3.0,0.0,5.0,0.0,0.0,0.0,0.0,0.0,0.0,0.0,0.0,0.0,0.0,0.0,0.0,0.0,0.0,0.0,0.0,0.0,0.0,0.0,0.0,0.0,0.0,0.0,0.0,0.0,0.0,0.0,0.0,0.0,0.0,0.0,0.0,0.0,0.0,0.0,0.0,0.0,0.0,0.0,0.0,0.0,0.0,0.0,0.0,0.0,0.0,0.0,0.0,0.0,0.0,0.0,0.0,0.0,0.0,0.0,0.0,0.0,0.0,0.0,0.0,0.0,0.0,0.0,0.0,0.0,0.0,0.0,0.0,0.0,0.0,0.0,0.0,0.0,0.0,0.0,0.0,0.0,0.0,0.0,0.0,0.0,0.0,0.0,0.0,0.0,0.0,0.0,0.0,0.0,0.0,0.0,0.0,0.0,0.0,0.0,0.0,0.0,0.0,0.0,0.0,0.0,0.0,0.0,0.0,0.0,0.0,0.0,0.0,0.0,0.0,0.0,0.0,0.0,0.0,0.0,0.0,0.0,0.0,0.0,0.0,0.0,0.0,0.0,0.0,0.0,0.0,0.0,0.0,0.0,0.0,0.0,0.0,0.0,0.0,0.0,0.0,0.0,0.0,0.0,0.0,0.0,0.0,0.0,0.0,0.0,0.0,0.0,0.0,0.0,0.0,0.0,0.0,0.0,0.0,0.0,0.0,0.0,0.0,0.0,0.0,0.0,0.0,0.0,0.0,0.0,0.0,0.0,0.0,0.0,0.0,0.0,0.0,0.0,0.0,0.0,0.0,0.0,0.0,0.0,0.0,0.0,0.0,0.0,0.0,0.0,0.0,0.0,0.0,0.0,0.0,0.0,0.0,0.0,0.0,0.0,0.0,0.0,0.0,0.0,0.0,0.0,0.0,0.0,0.0,0.0,0.0,0.0,0.0,0.0,0.0,0.0,0.0,0.0,0.0,0.0,0.0,0.0,0.0,0.0,0.0,0.0,0.0,0.0,0.0,0.0,0.0,0.0,0.0,0.0,0.0,0.0,0.0,0.0,0.0,0.0,0.0,0.0,0.0,0.0,0.0,0.0,0.0,0.0,0.0,0.0,0.0,0.0,0.0,0.0,0.0,0.0,0.0,0.0,0.0,0.0,0.0,0.0,0.0,0.0,0.0,0.0,0.0,0.0,0.0,0.0,0.0,0.0,0.0,0.0,0.0,0.0,0.0,0.0,0.0,0.0,0.0,0.0,0.0,0.0,0.0,0.0,0.0,0.0,0.0,0.0,0.0,0.0,0.0,0.0,0.0,0.0,0.0,0.0,0.0,0.0,0.0,0.0,0.0,0.0,0.0,0.0,0.0,0.0,0.0,0.0,0.0,0.0,0.0,0.0,0.0,0.0,0.0,0.0,0.0,0.0,0.0,0.0,0.0,0.0,0.0,0.0,0.0,0.0,0.0,0.0,0.0,0.0,0.0,0.0,0.0,0.0,0.0,0.0,0.0,0.0,0.0,0.0,0.0,0.0,0.0,0.0,0.0,0.0,0.0,0.0,0.0,0.0,0.0,0.0,0.0,0.0,0.0,0.0,0.0,0.0,0.0,0.0,0.0,0.0,0.0,0.0,0.0,0.0,0.0,0.0,0.0,0.0,0.0,0.0,0.0,0.0,0.0,0.0,0.0,0.0,0.0,0.0,0.0,0.0,0.0,0.0,0.0,0.0,0.0,0.0,0.0,0.0,0.0,0.0,0.0,0.0,0.0,0.0,0.0,0.0,0.0,0.0,0.0,0.0,0.0,0.0,0.0,0.0,0.0,0.0,0.0,0.0,0.0,0.0,0.0,0.0,0.0,0.0,0.0,0.0,0.0,0.0,0.0,0.0,0.0,0.0,0.0,0.0,0.0,0.0,0.0,0.0,0.0,0.0,0.0,0.0,0.0,0.0,0.0,0.0,0.0,0.0,0.0,0.0,0.0,0.0,0.0,0.0,0.0,0.0,0.0,0.0,0.0,0.0,0.0,0.0,0.0,0.0,0.0,0.0,0.0,0.0,0.0,0.0,0.0,0.0,0.0,0.0,0.0,0.0,0.0,0.0,0.0,0.0,0.0,0.0,0.0,0.0,0.0,0.0,0.0,0.0,0.0,0.0,0.0,0.0,0.0,0.0,0.0,0.0,0.0,0.0,0.0,0.0,0.0,0.0,0.0,0.0,0.0,0.0,0.0,0.0,0.0,0.0,0.0,0.0,0.0,0.0,0.0,0.0,0.0,0.0,0.0,0.0,0.0,0.0,0.0,0.0,0.0,0.0,0.0,0.0,0.0,0.0,0.0,0.0,0.0,0.0,0.0,0.0,0.0,0.0,0.0,0.0,0.0,0.0,0.0,0.0,0.0,0.0,0.0,0.0,0.0,0.0,0.0,0.0,0.0,0.0,0.0,0.0,0.0,0.0,0.0,0.0,0.0,0.0,0.0,0.0,0.0,0.0,0.0,0.0,0.0,0.0,0.0,0.0,0.0,0.0,0.0,0.0,0.0,0.0,0.0,0.0,0.0,0.0,0.0,0.0,0.0,0.0,0.0,0.0,0.0,0.0,0.0,0.0,0.0,0.0,0.0,0.0,0.0,0.0,0.0,0.0,0.0,0.0,0.0,0.0,0.0,0.0,0.0,0.0,0.0,0.0,0.0,0.0,0.0,0.0,0.0,0.0,0.0,0.0,0.0,0.0,0.0,0.0,0.0,0.0,0.0,0.0,0.0,0.0,0.0,0.0,0.0,0.0,0.0,0.0,0.0,0.0,0.0,0.0,0.0,0.0,0.0,0.0,0.0,0.0,0.0,0.0,0.0,0.0,0.0,0.0,0.0,0.0,0.0,0.0,0.0,0.0,0.0,0.0,0.0,0.0,0.0,0.0,0.0,0.0,0.0,0.0,0.0,0.0,0.0,0.0,0.0,0.0,0.0,0.0,0.0,0.0,0.0,0.0,0.0,0.0,0.0,0.0,0.0,0.0,0.0,0.0,0.0,0.0,0.0,0.0,0.0,0.0,0.0,0.0,0.0,0.0,0.0,0.0,0.0,0.0,0.0,0.0,0.0,0.0,0.0,0.0,0.0,0.0,0.0,0.0,0.0,0.0,0.0,0.0,0.0,0.0,0.0,0.0,0.0,0.0,0.0,0.0,0.0,0.0,0.0,0.0,0.0,0.0,0.0,0.0,0.0,0.0,0.0,0.0,0.0,0.0,0.0,0.0,0.0,0.0,0.0,0.0,0.0,0.0,0.0,0.0,0.0,0.0,0.0,0.0,0.0,0.0,0.0,0.0,0.0,0.0,0.0,0.0,0.0,0.0,0.0,0.0,0.0,0.0,0.0,0.0,0.0,0.0,0.0,0.0,0.0,0.0,0.0,0.0,0.0,0.0,0.0,0.0,0.0,0.0,0.0,0.0,0.0,0.0,0.0,0.0,0.0,0.0,0.0,0.0,0.0,0.0,0.0,0.0,0.0,0.0,0.0,0.0,0.0,0.0,0.0,0.0,0.0,0.0,0.0,0.0,0.0,0.0,0.0,0.0,0.0,0.0,0.0,0.0,0.0,0.0,0.0,0.0,0.0,0.0,0.0,0.0,0.0,0.0,0.0,0.0,0.0,0.0,0.0,0.0,0.0,0.0,0.0,0.0,0.0,0.0,0.0,0.0,0.0,0.0,0.0,0.0,0.0,0.0,0.0,0.0,0.0,0.0,0.0,0.0,0.0,0.0,0.0,0.0,0.0,0.0,0.0,0.0,0.0,0.0,0.0,0.0,0.0,0.0,0.0,0.0,0.0,0.0,0.0,0.0,0.0,0.0,0.0,0.0,0.0,0.0,0.0,0.0,0.0,0.0,0.0,0.0,0.0,0.0,0.0,0.0,0.0,0.0,0.0,0.0,0.0,0.0,0.0,0.0,0.0,0.0,0.0,0.0,0.0,0.0,0.0,0.0,0.0,0.0,0.0,0.0,0.0,0.0,0.0,0.0,0.0,0.0,0.0,0.0,0.0,0.0,0.0,0.0,0.0,0.0,0.0,0.0,0.0,0.0,0.0,0.0,0.0,0.0,0.0,0.0,0.0,0.0,0.0,0.0,0.0,0.0,0.0,0.0,0.0,0.0,0.0,0.0,0.0,0.0,0.0,0.0,0.0,0.0,0.0,0.0,0.0,0.0,0.0,0.0,0.0,0.0,0.0,0.0,0.0,0.0,0.0,0.0,0.0,0.0,0.0,0.0,0.0,0.0,0.0,0.0,0.0,0.0,0.0,0.0,0.0,0.0,0.0,0.0,0.0,0.0,0.0,0.0,0.0,0.0,0.0,0.0,0.0,0.0,0.0,0.0,0.0,0.0,0.0,0.0,0.0,0.0,0.0,0.0,0.0,0.0,0.0,0.0,0.0,0.0,0.0,0.0,0.0,0.0,0.0,0.0,0.0,0.0,0.0,0.0,0.0,0.0,0.0,0.0,0.0,0.0,0.0,0.0,0.0,0.0,0.0,0.0,0.0,0.0,0.0,0.0,0.0,0.0,0.0,0.0,0.0,0.0,0.0,0.0,0.0,0.0,0.0,0.0,0.0,0.0,0.0,0.0,0.0,0.0,0.0,0.0,0.0,0.0,0.0,0.0,0.0,0.0,0.0,0.0,0.0,0.0,0.0,0.0,0.0,0.0,0.0,0.0,0.0,0.0,0.0,0.0,0.0,0.0,0.0,0.0,0.0,0.0,0.0,0.0,0.0,0.0,0.0,0.0,0.0,0.0,0.0,0.0,0.0,0.0,0.0,0.0,0.0,0.0,0.0,0.0,0.0,0.0,0.0,0.0,0.0,0.0,0.0,0.0,0.0,0.0,0.0,0.0,0.0,0.0,0.0,0.0,0.0,0.0,0.0,0.0,0.0,0.0,0.0,0.0,0.0,0.0,0.0,0.0,0.0,0.0,0.0,0.0,0.0,0.0,0.0,0.0,0.0,0.0,0.0,0.0,0.0,0.0,0.0,0.0,0.0,0.0,0.0,0.0,0.0,0.0,0.0,0.0,0.0,0.0,0.0,0.0,0.0,0.0,0.0,0.0,0.0,0.0,0.0,0.0,0.0,0.0,0.0,0.0,0.0,0.0,0.0,0.0,0.0,0.0,0.0,0.0,0.0,0.0,0.0,0.0,0.0,0.0,0.0,0.0,0.0,0.0,0.0,0.0,0.0,0.0,0.0,0.0,0.0,0.0,0.0,0.0,0.0,0.0,0.0,0.0,0.0,0.0,0.0,0.0,0.0,0.0,0.0,0.0,0.0,0.0,0.0,0.0,0.0,0.0,0.0,0.0,0.0,0.0,0.0,0.0,0.0,0.0,0.0,0.0,0.0,0.0,0.0,0.0,0.0,0.0,0.0,0.0,0.0,0.0,0.0,0.0,0.0,0.0,0.0,0.0,0.0,0.0,0.0,0.0,0.0,0.0,0.0,0.0,0.0,0.0,0.0,0.0,0.0,0.0,0.0,0.0,0.0,0.0,0.0,0.0,0.0,0.0,0.0,0.0,0.0,0.0,0.0,0.0,0.0,0.0,0.0,0.0,0.0,0.0,0.0,0.0,0.0,0.0,0.0,0.0,0.0,0.0,0.0,0.0,0.0,0.0,0.0,0.0,0.0,0.0,0.0,0.0,0.0,0.0,0.0,0.0,0.0,0.0,0.0,0.0,0.0,0.0,0.0,0.0,0.0,0.0,0.0,0.0,0.0,0.0,0.0,0.0,0.0,0.0,0.0,0.0,0.0,0.0,0.0,0.0,0.0,0.0,0.0,0.0,0.0,0.0,0.0,0.0,0.0,0.0,0.0,0.0,0.0,0.0,0.0,0.0,0.0,0.0,0.0,0.0,0.0,0.0,0.0,0.0,0.0,0.0,0.0,0.0,0.0,0.0,0.0,0.0,0.0,0.0,0.0,0.0,0.0,0.0,0.0,0.0,0.0,0.0,0.0,0.0,0.0,0.0,0.0,0.0,0.0,0.0,0.0,0.0,0.0,0.0,0.0,0.0,0.0,0.0,0.0,0.0,0.0,0.0,0.0,0.0,0.0,0.0,0.0,0.0,0.0,0.0,0.0,0.0,0.0,0.0,0.0,0.0,0.0,0.0,0.0,0.0,0.0,0.0,0.0,0.0,0.0,0.0,0.0,0.0,0.0,0.0,0.0,0.0,0.0,0.0,0.0,0.0,0.0,0.0,0.0,0.0,0.0,0.0,0.0,0.0,0.0,0.0,0.0,0.0,0.0,0.0,0.0,0.0,0.0,0.0,0.0,0.0,0.0,0.0,0.0,0.0,0.0,0.0,0.0,0.0,0.0,0.0,0.0,0.0,0.0,0.0,0.0,0.0,0.0,0.0,0.0,0.0,0.0,0.0,0.0,0.0,0.0,0.0,0.0,0.0,0.0,0.0,0.0,0.0,0.0,0.0,0.0,0.0,0.0,0.0,0.0,0.0,0.0,0.0,0.0,0.0,0.0,0.0,0.0,0.0,0.0,0.0,0.0,0.0,0.0,0.0,0.0,0.0,0.0,0.0,0.0,0.0,0.0,0.0,0.0,0.0,0.0,0.0,0.0,0.0,0.0,0.0,0.0,0.0,0.0,0.0,0.0,0.0,0.0,0.0,0.0,0.0,0.0,0.0,0.0,0.0,0.0,0.0,0.0,0.0,0.0,0.0,0.0,0.0,0.0,0.0,0.0,0.0,0.0,0.0,0.0,0.0,0.0,0.0,0.0,0.0,0.0,0.0,0.0,0.0,0.0,0.0,0.0,0.0,0.0,0.0,0.0,0.0,0.0,0.0,0.0,0.0,0.0,0.0,0.0,0.0,0.0,0.0,0.0,0.0,0.0,0.0,0.0,0.0,0.0,0.0,0.0,0.0,0.0,0.0,0.0,0.0,0.0,0.0,0.0,0.0,0.0,0.0,0.0,0.0,0.0,0.0,0.0,0.0,0.0,0.0,0.0,0.0,0.0,0.0,0.0,0.0,0.0,0.0,0.0,0.0,0.0,0.0,0.0,0.0,0.0,0.0,0.0,0.0,0.0,0.0,0.0,0.0,0.0,0.0,0.0,0.0,0.0,0.0,0.0,0.0,0.0,0.0,0.0,0.0,0.0,0.0,0.0,0.0,0.0,0.0,0.0,0.0,0.0,0.0,0.0,0.0,0.0,0.0,0.0,0.0,0.0,0.0,0.0,0.0,0.0,0.0,0.0,0.0,0.0,0.0,0.0,0.0,0.0,0.0,0.0,0.0,0.0,0.0,0.0,0.0,0.0,0.0,0.0,0.0,0.0,0.0,0.0,0.0,0.0,0.0,0.0,0.0,0.0,0.0,0.0,0.0,0.0,0.0,0.0,0.0,0.0,0.0,0.0,0.0,0.0,0.0,0.0,0.0,0.0,0.0,0.0,0.0,0.0,0.0,0.0,0.0,0.0,0.0,0.0,0.0,0.0,0.0,0.0,0.0,0.0,0.0,0.0,0.0,0.0,0.0,0.0,0.0,0.0,0.0,0.0,0.0,0.0,0.0,0.0,0.0,0.0,0.0,0.0,0.0,0.0,0.0,0.0,0.0,0.0,0.0,0.0,0.0,0.0,0.0,0.0,0.0,0.0,0.0,0.0,0.0,0.0,0.0,0.0,0.0,0.0,0.0,0.0,0.0,0.0,0.0,0.0,0.0,0.0,0.0,0.0,0.0,0.0,0.0,0.0,0.0,0.0,0.0,0.0,0.0,0.0,0.0,0.0,0.0,0.0,0.0,0.0,0.0,0.0,0.0,0.0,0.0,0.0,0.0,0.0,0.0,0.0,0.0,0.0,0.0,0.0,0.0,0.0,0.0,0.0,0.0,0.0,0.0,0.0,0.0,0.0,0.0,0.0,0.0,0.0,0.0,0.0,0.0,0.0,0.0,0.0,0.0,0.0,0.0,0.0,0.0,0.0,0.0,0.0,0.0,0.0,0.0,0.0,0.0,0.0,0.0,0.0,0.0,0.0,0.0,0.0,0.0,0.0,0.0,0.0,0.0,0.0,0.0,0.0,0.0,0.0,0.0,0.0,0.0,0.0,0.0,0.0,0.0,0.0,0.0,0.0,0.0,0.0,0.0,0.0,0.0,0.0,0.0,0.0,0.0,0.0,0.0,0.0,0.0,0.0,0.0,0.0,0.0,0.0,0.0,0.0,0.0,0.0,0.0,0.0,0.0,0.0,0.0,0.0,0.0,0.0,0.0,0.0,0.0,0.0,0.0,0.0,0.0,0.0,0.0,0.0,0.0,0.0,0.0,0.0,0.0,0.0,0.0,0.0,0.0,0.0,0.0,0.0,0.0,0.0,0.0,0.0,0.0,0.0,0.0,0.0,0.0,0.0,0.0,0.0,0.0,0.0,0.0,0.0,0.0,0.0,0.0,0.0,0.0,0.0,0.0,0.0,0.0,0.0,0.0,0.0,0.0,0.0,0.0,0.0,0.0,0.0,0.0,0.0,0.0,0.0,0.0,0.0,0.0,0.0,0.0,0.0,0.0,0.0,0.0,0.0,0.0,0.0,0.0,0.0,0.0,0.0,0.0,0.0,0.0,0.0,0.0,0.0,0.0,0.0,0.0,0.0,0.0,0.0,0.0,0.0,0.0,0.0,0.0,0.0,0.0,0.0,0.0,0.0,0.0,0.0,0.0,0.0,0.0,0.0,0.0,0.0,0.0,0.0,0.0,0.0,0.0,0.0,0.0,0.0,0.0,0.0,0.0,0.0,0.0,0.0,0.0,0.0,0.0,0.0,0.0,0.0,0.0,0.0,0.0,0.0,0.0,0.0,0.0,0.0,0.0,0.0,0.0,0.0,0.0,0.0,0.0,0.0,0.0,0.0,0.0,0.0,0.0,0.0,0.0,0.0,0.0,0.0,0.0,0.0,0.0,0.0,0.0,0.0,0.0,0.0,0.0,0.0,0.0,0.0,0.0,0.0,0.0,0.0,0.0,0.0,0.0,0.0,0.0,0.0,0.0,0.0,0.0,0.0,0.0,0.0,0.0,0.0,0.0,0.0,0.0,0.0,0.0,0.0,0.0,0.0,0.0,0.0,0.0,0.0,0.0,0.0,0.0,0.0,0.0,0.0,0.0,0.0,0.0,0.0,0.0,0.0,0.0,0.0,0.0,0.0,0.0,0.0,0.0,0.0,0.0,0.0,0.0,0.0,0.0,0.0,0.0,0.0,0.0,0.0,0.0,0.0,0.0,0.0,0.0,0.0,0.0,0.0,0.0,0.0,0.0,0.0,0.0,0.0,0.0,0.0,0.0,0.0,0.0,0.0,0.0,0.0,0.0,0.0,0.0,0.0,0.0,0.0,0.0,0.0,0.0,0.0,0.0,0.0,0.0,0.0,0.0,0.0,0.0,0.0,0.0,0.0,0.0,0.0,0.0,0.0,0.0,0.0,0.0,0.0,0.0,0.0,0.0,0.0,0.0,0.0,0.0,0.0,0.0,0.0,0.0,0.0,0.0,0.0,0.0,0.0,0.0,0.0,0.0,0.0,0.0,0.0,0.0,0.0,0.0,0.0,0.0,0.0,0.0,0.0,0.0,0.0,0.0,0.0,0.0,0.0,0.0,0.0,0.0,0.0,0.0,0.0,0.0,0.0,0.0,0.0,0.0,0.0,0.0,0.0,0.0,0.0,0.0,0.0,0.0,0.0,0.0,0.0,0.0,0.0,0.0,0.0,0.0,0.0,0.0,0.0,0.0,0.0,0.0,0.0,0.0,0.0,0.0,0.0,0.0,0.0,0.0,0.0,0.0,0.0,0.0,0.0,0.0,0.0,0.0,0.0,0.0,0.0,0.0,0.0,0.0,0.0,0.0,0.0,0.0,0.0,0.0,0.0,0.0,0.0,0.0,0.0,0.0,0.0,0.0,0.0,0.0,0.0,0.0,0.0,0.0,0.0,0.0,0.0,0.0,0.0,0.0,0.0,0.0,0.0,0.0,0.0,0.0,0.0,0.0,0.0,0.0,0.0,0.0,0.0,0.0,0.0,0.0,0.0,0.0,0.0,0.0,0.0,0.0,0.0,0.0,0.0,0.0,0.0,0.0,0.0,0.0,0.0,0.0,0.0,0.0,0.0,0.0,0.0,0.0,0.0,0.0,0.0,0.0,0.0,0.0,0.0,0.0,0.0,0.0,0.0,0.0,0.0,0.0,0.0,0.0],\"yaxis\":\"y\",\"type\":\"scattergl\"}],                        {\"template\":{\"data\":{\"bar\":[{\"error_x\":{\"color\":\"#2a3f5f\"},\"error_y\":{\"color\":\"#2a3f5f\"},\"marker\":{\"line\":{\"color\":\"#E5ECF6\",\"width\":0.5},\"pattern\":{\"fillmode\":\"overlay\",\"size\":10,\"solidity\":0.2}},\"type\":\"bar\"}],\"barpolar\":[{\"marker\":{\"line\":{\"color\":\"#E5ECF6\",\"width\":0.5},\"pattern\":{\"fillmode\":\"overlay\",\"size\":10,\"solidity\":0.2}},\"type\":\"barpolar\"}],\"carpet\":[{\"aaxis\":{\"endlinecolor\":\"#2a3f5f\",\"gridcolor\":\"white\",\"linecolor\":\"white\",\"minorgridcolor\":\"white\",\"startlinecolor\":\"#2a3f5f\"},\"baxis\":{\"endlinecolor\":\"#2a3f5f\",\"gridcolor\":\"white\",\"linecolor\":\"white\",\"minorgridcolor\":\"white\",\"startlinecolor\":\"#2a3f5f\"},\"type\":\"carpet\"}],\"choropleth\":[{\"colorbar\":{\"outlinewidth\":0,\"ticks\":\"\"},\"type\":\"choropleth\"}],\"contour\":[{\"colorbar\":{\"outlinewidth\":0,\"ticks\":\"\"},\"colorscale\":[[0.0,\"#0d0887\"],[0.1111111111111111,\"#46039f\"],[0.2222222222222222,\"#7201a8\"],[0.3333333333333333,\"#9c179e\"],[0.4444444444444444,\"#bd3786\"],[0.5555555555555556,\"#d8576b\"],[0.6666666666666666,\"#ed7953\"],[0.7777777777777778,\"#fb9f3a\"],[0.8888888888888888,\"#fdca26\"],[1.0,\"#f0f921\"]],\"type\":\"contour\"}],\"contourcarpet\":[{\"colorbar\":{\"outlinewidth\":0,\"ticks\":\"\"},\"type\":\"contourcarpet\"}],\"heatmap\":[{\"colorbar\":{\"outlinewidth\":0,\"ticks\":\"\"},\"colorscale\":[[0.0,\"#0d0887\"],[0.1111111111111111,\"#46039f\"],[0.2222222222222222,\"#7201a8\"],[0.3333333333333333,\"#9c179e\"],[0.4444444444444444,\"#bd3786\"],[0.5555555555555556,\"#d8576b\"],[0.6666666666666666,\"#ed7953\"],[0.7777777777777778,\"#fb9f3a\"],[0.8888888888888888,\"#fdca26\"],[1.0,\"#f0f921\"]],\"type\":\"heatmap\"}],\"heatmapgl\":[{\"colorbar\":{\"outlinewidth\":0,\"ticks\":\"\"},\"colorscale\":[[0.0,\"#0d0887\"],[0.1111111111111111,\"#46039f\"],[0.2222222222222222,\"#7201a8\"],[0.3333333333333333,\"#9c179e\"],[0.4444444444444444,\"#bd3786\"],[0.5555555555555556,\"#d8576b\"],[0.6666666666666666,\"#ed7953\"],[0.7777777777777778,\"#fb9f3a\"],[0.8888888888888888,\"#fdca26\"],[1.0,\"#f0f921\"]],\"type\":\"heatmapgl\"}],\"histogram\":[{\"marker\":{\"pattern\":{\"fillmode\":\"overlay\",\"size\":10,\"solidity\":0.2}},\"type\":\"histogram\"}],\"histogram2d\":[{\"colorbar\":{\"outlinewidth\":0,\"ticks\":\"\"},\"colorscale\":[[0.0,\"#0d0887\"],[0.1111111111111111,\"#46039f\"],[0.2222222222222222,\"#7201a8\"],[0.3333333333333333,\"#9c179e\"],[0.4444444444444444,\"#bd3786\"],[0.5555555555555556,\"#d8576b\"],[0.6666666666666666,\"#ed7953\"],[0.7777777777777778,\"#fb9f3a\"],[0.8888888888888888,\"#fdca26\"],[1.0,\"#f0f921\"]],\"type\":\"histogram2d\"}],\"histogram2dcontour\":[{\"colorbar\":{\"outlinewidth\":0,\"ticks\":\"\"},\"colorscale\":[[0.0,\"#0d0887\"],[0.1111111111111111,\"#46039f\"],[0.2222222222222222,\"#7201a8\"],[0.3333333333333333,\"#9c179e\"],[0.4444444444444444,\"#bd3786\"],[0.5555555555555556,\"#d8576b\"],[0.6666666666666666,\"#ed7953\"],[0.7777777777777778,\"#fb9f3a\"],[0.8888888888888888,\"#fdca26\"],[1.0,\"#f0f921\"]],\"type\":\"histogram2dcontour\"}],\"mesh3d\":[{\"colorbar\":{\"outlinewidth\":0,\"ticks\":\"\"},\"type\":\"mesh3d\"}],\"parcoords\":[{\"line\":{\"colorbar\":{\"outlinewidth\":0,\"ticks\":\"\"}},\"type\":\"parcoords\"}],\"pie\":[{\"automargin\":true,\"type\":\"pie\"}],\"scatter\":[{\"marker\":{\"colorbar\":{\"outlinewidth\":0,\"ticks\":\"\"}},\"type\":\"scatter\"}],\"scatter3d\":[{\"line\":{\"colorbar\":{\"outlinewidth\":0,\"ticks\":\"\"}},\"marker\":{\"colorbar\":{\"outlinewidth\":0,\"ticks\":\"\"}},\"type\":\"scatter3d\"}],\"scattercarpet\":[{\"marker\":{\"colorbar\":{\"outlinewidth\":0,\"ticks\":\"\"}},\"type\":\"scattercarpet\"}],\"scattergeo\":[{\"marker\":{\"colorbar\":{\"outlinewidth\":0,\"ticks\":\"\"}},\"type\":\"scattergeo\"}],\"scattergl\":[{\"marker\":{\"colorbar\":{\"outlinewidth\":0,\"ticks\":\"\"}},\"type\":\"scattergl\"}],\"scattermapbox\":[{\"marker\":{\"colorbar\":{\"outlinewidth\":0,\"ticks\":\"\"}},\"type\":\"scattermapbox\"}],\"scatterpolar\":[{\"marker\":{\"colorbar\":{\"outlinewidth\":0,\"ticks\":\"\"}},\"type\":\"scatterpolar\"}],\"scatterpolargl\":[{\"marker\":{\"colorbar\":{\"outlinewidth\":0,\"ticks\":\"\"}},\"type\":\"scatterpolargl\"}],\"scatterternary\":[{\"marker\":{\"colorbar\":{\"outlinewidth\":0,\"ticks\":\"\"}},\"type\":\"scatterternary\"}],\"surface\":[{\"colorbar\":{\"outlinewidth\":0,\"ticks\":\"\"},\"colorscale\":[[0.0,\"#0d0887\"],[0.1111111111111111,\"#46039f\"],[0.2222222222222222,\"#7201a8\"],[0.3333333333333333,\"#9c179e\"],[0.4444444444444444,\"#bd3786\"],[0.5555555555555556,\"#d8576b\"],[0.6666666666666666,\"#ed7953\"],[0.7777777777777778,\"#fb9f3a\"],[0.8888888888888888,\"#fdca26\"],[1.0,\"#f0f921\"]],\"type\":\"surface\"}],\"table\":[{\"cells\":{\"fill\":{\"color\":\"#EBF0F8\"},\"line\":{\"color\":\"white\"}},\"header\":{\"fill\":{\"color\":\"#C8D4E3\"},\"line\":{\"color\":\"white\"}},\"type\":\"table\"}]},\"layout\":{\"annotationdefaults\":{\"arrowcolor\":\"#2a3f5f\",\"arrowhead\":0,\"arrowwidth\":1},\"autotypenumbers\":\"strict\",\"coloraxis\":{\"colorbar\":{\"outlinewidth\":0,\"ticks\":\"\"}},\"colorscale\":{\"diverging\":[[0,\"#8e0152\"],[0.1,\"#c51b7d\"],[0.2,\"#de77ae\"],[0.3,\"#f1b6da\"],[0.4,\"#fde0ef\"],[0.5,\"#f7f7f7\"],[0.6,\"#e6f5d0\"],[0.7,\"#b8e186\"],[0.8,\"#7fbc41\"],[0.9,\"#4d9221\"],[1,\"#276419\"]],\"sequential\":[[0.0,\"#0d0887\"],[0.1111111111111111,\"#46039f\"],[0.2222222222222222,\"#7201a8\"],[0.3333333333333333,\"#9c179e\"],[0.4444444444444444,\"#bd3786\"],[0.5555555555555556,\"#d8576b\"],[0.6666666666666666,\"#ed7953\"],[0.7777777777777778,\"#fb9f3a\"],[0.8888888888888888,\"#fdca26\"],[1.0,\"#f0f921\"]],\"sequentialminus\":[[0.0,\"#0d0887\"],[0.1111111111111111,\"#46039f\"],[0.2222222222222222,\"#7201a8\"],[0.3333333333333333,\"#9c179e\"],[0.4444444444444444,\"#bd3786\"],[0.5555555555555556,\"#d8576b\"],[0.6666666666666666,\"#ed7953\"],[0.7777777777777778,\"#fb9f3a\"],[0.8888888888888888,\"#fdca26\"],[1.0,\"#f0f921\"]]},\"colorway\":[\"#636efa\",\"#EF553B\",\"#00cc96\",\"#ab63fa\",\"#FFA15A\",\"#19d3f3\",\"#FF6692\",\"#B6E880\",\"#FF97FF\",\"#FECB52\"],\"font\":{\"color\":\"#2a3f5f\"},\"geo\":{\"bgcolor\":\"white\",\"lakecolor\":\"white\",\"landcolor\":\"#E5ECF6\",\"showlakes\":true,\"showland\":true,\"subunitcolor\":\"white\"},\"hoverlabel\":{\"align\":\"left\"},\"hovermode\":\"closest\",\"mapbox\":{\"style\":\"light\"},\"paper_bgcolor\":\"white\",\"plot_bgcolor\":\"#E5ECF6\",\"polar\":{\"angularaxis\":{\"gridcolor\":\"white\",\"linecolor\":\"white\",\"ticks\":\"\"},\"bgcolor\":\"#E5ECF6\",\"radialaxis\":{\"gridcolor\":\"white\",\"linecolor\":\"white\",\"ticks\":\"\"}},\"scene\":{\"xaxis\":{\"backgroundcolor\":\"#E5ECF6\",\"gridcolor\":\"white\",\"gridwidth\":2,\"linecolor\":\"white\",\"showbackground\":true,\"ticks\":\"\",\"zerolinecolor\":\"white\"},\"yaxis\":{\"backgroundcolor\":\"#E5ECF6\",\"gridcolor\":\"white\",\"gridwidth\":2,\"linecolor\":\"white\",\"showbackground\":true,\"ticks\":\"\",\"zerolinecolor\":\"white\"},\"zaxis\":{\"backgroundcolor\":\"#E5ECF6\",\"gridcolor\":\"white\",\"gridwidth\":2,\"linecolor\":\"white\",\"showbackground\":true,\"ticks\":\"\",\"zerolinecolor\":\"white\"}},\"shapedefaults\":{\"line\":{\"color\":\"#2a3f5f\"}},\"ternary\":{\"aaxis\":{\"gridcolor\":\"white\",\"linecolor\":\"white\",\"ticks\":\"\"},\"baxis\":{\"gridcolor\":\"white\",\"linecolor\":\"white\",\"ticks\":\"\"},\"bgcolor\":\"#E5ECF6\",\"caxis\":{\"gridcolor\":\"white\",\"linecolor\":\"white\",\"ticks\":\"\"}},\"title\":{\"x\":0.05},\"xaxis\":{\"automargin\":true,\"gridcolor\":\"white\",\"linecolor\":\"white\",\"ticks\":\"\",\"title\":{\"standoff\":15},\"zerolinecolor\":\"white\",\"zerolinewidth\":2},\"yaxis\":{\"automargin\":true,\"gridcolor\":\"white\",\"linecolor\":\"white\",\"ticks\":\"\",\"title\":{\"standoff\":15},\"zerolinecolor\":\"white\",\"zerolinewidth\":2}}},\"xaxis\":{\"anchor\":\"y\",\"domain\":[0.0,1.0],\"title\":{\"text\":\"Mohs Hardness\"}},\"yaxis\":{\"anchor\":\"x\",\"domain\":[0.0,1.0],\"title\":{\"text\":\"Crystal Structure\"}},\"legend\":{\"tracegroupgap\":0},\"margin\":{\"t\":60}},                        {\"responsive\": true}                    ).then(function(){\n                            \nvar gd = document.getElementById('de3fb5b9-a86e-4291-9117-d6da6f5e0ea3');\nvar x = new MutationObserver(function (mutations, observer) {{\n        var display = window.getComputedStyle(gd).display;\n        if (!display || display === 'none') {{\n            console.log([gd, 'removed!']);\n            Plotly.purge(gd);\n            observer.disconnect();\n        }}\n}});\n\n// Listen for the removal of the full notebook cells\nvar notebookContainer = gd.closest('#notebook-container');\nif (notebookContainer) {{\n    x.observe(notebookContainer, {childList: true});\n}}\n\n// Listen for the clearing of the current output cell\nvar outputEl = gd.closest('.output');\nif (outputEl) {{\n    x.observe(outputEl, {childList: true});\n}}\n\n                        })                };                            </script>        </div>\n</body>\n</html>"
     },
     "execution_count": 31,
     "metadata": {
     },
     "output_type": "execute_result"
    }
   ],
   "source": [
    "fig = px.scatter(minerals_database, x='Mohs Hardness', y='Crystal Structure')\n",
    "fig.show()"
   ]
  },
  {
   "cell_type": "code",
   "execution_count": 33,
   "metadata": {
    "collapsed": false
   },
   "outputs": [
    {
     "data": {
      "text/html": "<html>\n<head><meta charset=\"utf-8\" /></head>\n<body>\n    <div>            <script src=\"https://cdnjs.cloudflare.com/ajax/libs/mathjax/2.7.5/MathJax.js?config=TeX-AMS-MML_SVG\"></script><script type=\"text/javascript\">if (window.MathJax) {MathJax.Hub.Config({SVG: {font: \"STIX-Web\"}});}</script>                <script type=\"text/javascript\">window.PlotlyConfig = {MathJaxConfig: 'local'};</script>\n        <script src=\"https://cdn.plot.ly/plotly-2.9.0.min.js\"></script>                <div id=\"ea562bdb-e001-48d3-9649-a08b1f160102\" class=\"plotly-graph-div\" style=\"height:525px; width:100%;\"></div>            <script type=\"text/javascript\">                                    window.PLOTLYENV=window.PLOTLYENV || {};                                    if (document.getElementById(\"ea562bdb-e001-48d3-9649-a08b1f160102\")) {                    Plotly.newPlot(                        \"ea562bdb-e001-48d3-9649-a08b1f160102\",                        [{\"coloraxis\":\"coloraxis\",\"hovertemplate\":\"Optical=%{x}<br>Refractive Index=%{y}<br>count=%{z}<extra></extra>\",\"name\":\"\",\"nbinsx\":10,\"nbinsy\":10,\"x\":[3.0,3.0,3.0,0.0,4.0,4.0,4.0,0.0,4.0,4.0,4.0,4.0,0.0,3.0,4.0,4.0,0.0,0.0,4.0,0.0,0.0,0.0,3.0,3.0,0.0,0.0,4.0,4.0,0.0,4.0,0.0,3.0,4.0,4.0,4.0,3.0,4.0,0.0,0.0,0.0,0.0,0.0,2.0,4.0,3.0,4.0,4.0,4.0,0.0,4.0,4.0,4.0,4.0,3.0,4.0,3.0,4.0,1.0,4.0,4.0,4.0,4.0,4.0,4.0,3.0,4.0,0.0,4.0,3.0,0.0,4.0,4.0,0.0,0.0,4.0,3.0,4.0,4.0,1.0,4.0,4.0,0.0,3.0,4.0,4.0,0.0,4.0,4.0,4.0,4.0,4.0,4.0,4.0,3.0,0.0,4.0,4.0,4.0,3.0,3.0,4.0,0.0,4.0,4.0,0.0,4.0,3.0,4.0,3.0,3.0,3.0,4.0,3.0,4.0,3.0,4.0,3.0,0.0,0.0,0.0,4.0,3.0,4.0,0.0,3.0,4.0,2.0,4.0,4.0,4.0,4.0,0.0,4.0,0.0,4.0,0.0,4.0,4.0,0.0,4.0,4.0,0.0,4.0,0.0,4.0,4.0,3.0,4.0,4.0,0.0,4.0,2.0,4.0,3.0,4.0,3.0,2.0,4.0,4.0,3.0,2.0,4.0,4.0,3.0,3.0,3.0,0.0,4.0,4.0,4.0,0.0,4.0,4.0,3.0,4.0,0.0,4.0,4.0,4.0,3.0,4.0,0.0,3.0,0.0,4.0,0.0,3.0,0.0,4.0,4.0,2.0,4.0,2.0,4.0,2.0,4.0,4.0,0.0,4.0,0.0,4.0,4.0,4.0,4.0,4.0,4.0,4.0,3.0,4.0,3.0,0.0,3.0,4.0,4.0,3.0,4.0,4.0,3.0,4.0,4.0,4.0,0.0,4.0,2.0,4.0,4.0,4.0,4.0,3.0,2.0,4.0,4.0,0.0,3.0,0.0,0.0,4.0,4.0,3.0,4.0,4.0,4.0,3.0,0.0,4.0,4.0,4.0,4.0,4.0,3.0,4.0,4.0,4.0,4.0,4.0,4.0,0.0,4.0,3.0,4.0,3.0,0.0,4.0,3.0,3.0,2.0,0.0,3.0,0.0,4.0,3.0,0.0,0.0,0.0,4.0,4.0,4.0,3.0,3.0,3.0,3.0,3.0,3.0,2.0,4.0,0.0,4.0,4.0,2.0,0.0,2.0,3.0,4.0,4.0,4.0,0.0,4.0,3.0,0.0,0.0,0.0,4.0,0.0,4.0,4.0,0.0,4.0,3.0,4.0,4.0,0.0,4.0,4.0,4.0,4.0,4.0,0.0,3.0,0.0,4.0,0.0,0.0,4.0,4.0,0.0,0.0,0.0,0.0,2.0,4.0,4.0,3.0,3.0,0.0,3.0,2.0,4.0,4.0,3.0,4.0,4.0,3.0,2.0,4.0,3.0,4.0,4.0,4.0,0.0,0.0,0.0,4.0,4.0,0.0,4.0,4.0,4.0,4.0,3.0,4.0,4.0,4.0,0.0,4.0,3.0,3.0,4.0,4.0,0.0,4.0,4.0,3.0,0.0,4.0,4.0,4.0,4.0,0.0,3.0,4.0,3.0,4.0,4.0,4.0,4.0,4.0,4.0,0.0,4.0,4.0,4.0,0.0,0.0,1.0,3.0,4.0,4.0,4.0,4.0,4.0,4.0,4.0,4.0,4.0,4.0,0.0,4.0,4.0,4.0,4.0,0.0,4.0,4.0,0.0,0.0,4.0,4.0,4.0,0.0,2.0,4.0,0.0,4.0,0.0,4.0,3.0,4.0,4.0,1.0,4.0,4.0,3.0,4.0,4.0,4.0,0.0,3.0,0.0,4.0,4.0,4.0,4.0,4.0,0.0,4.0,4.0,4.0,0.0,4.0,3.0,4.0,4.0,4.0,0.0,4.0,4.0,2.0,2.0,4.0,3.0,0.0,2.0,4.0,4.0,4.0,2.0,3.0,0.0,0.0,3.0,4.0,4.0,0.0,4.0,0.0,3.0,4.0,0.0,2.0,4.0,3.0,3.0,0.0,0.0,3.0,4.0,4.0,0.0,3.0,0.0,0.0,0.0,3.0,3.0,4.0,4.0,3.0,4.0,0.0,4.0,4.0,0.0,0.0,0.0,4.0,3.0,4.0,4.0,4.0,0.0,0.0,4.0,4.0,3.0,0.0,0.0,0.0,0.0,3.0,4.0,2.0,0.0,4.0,0.0,3.0,0.0,4.0,4.0,0.0,2.0,0.0,4.0,4.0,4.0,4.0,3.0,3.0,4.0,3.0,3.0,0.0,3.0,3.0,0.0,4.0,4.0,4.0,3.0,4.0,0.0,0.0,4.0,4.0,4.0,0.0,4.0,0.0,2.0,4.0,0.0,4.0,3.0,4.0,4.0,3.0,0.0,0.0,4.0,4.0,4.0,4.0,4.0,3.0,3.0,4.0,4.0,3.0,0.0,3.0,0.0,3.0,4.0,4.0,4.0,0.0,4.0,4.0,0.0,0.0,3.0,4.0,4.0,0.0,4.0,3.0,0.0,0.0,4.0,3.0,4.0,0.0,4.0,2.0,2.0,4.0,4.0,0.0,0.0,4.0,4.0,0.0,4.0,4.0,4.0,4.0,4.0,0.0,0.0,3.0,4.0,4.0,4.0,0.0,0.0,4.0,4.0,4.0,4.0,3.0,0.0,4.0,4.0,4.0,0.0,0.0,4.0,4.0,4.0,0.0,4.0,0.0,0.0,0.0,4.0,3.0,0.0,4.0,4.0,4.0,4.0,0.0,4.0,3.0,0.0,3.0,4.0,4.0,4.0,0.0,3.0,0.0,0.0,4.0,3.0,2.0,0.0,4.0,2.0,3.0,2.0,4.0,4.0,4.0,4.0,0.0,3.0,3.0,4.0,3.0,4.0,4.0,4.0,4.0,4.0,3.0,4.0,0.0,4.0,3.0,0.0,3.0,4.0,2.0,0.0,4.0,0.0,4.0,4.0,0.0,4.0,4.0,3.0,0.0,4.0,2.0,4.0,4.0,4.0,0.0,3.0,4.0,4.0,0.0,0.0,0.0,0.0,4.0,0.0,4.0,4.0,4.0,4.0,3.0,4.0,4.0,4.0,4.0,4.0,4.0,4.0,2.0,4.0,4.0,0.0,4.0,4.0,4.0,0.0,0.0,4.0,0.0,0.0,0.0,0.0,0.0,0.0,4.0,4.0,0.0,2.0,4.0,3.0,4.0,4.0,3.0,4.0,4.0,4.0,4.0,3.0,2.0,0.0,3.0,4.0,4.0,4.0,4.0,4.0,0.0,0.0,3.0,4.0,0.0,4.0,3.0,4.0,4.0,4.0,0.0,3.0,3.0,3.0,4.0,4.0,0.0,0.0,0.0,0.0,4.0,0.0,4.0,0.0,4.0,4.0,3.0,4.0,0.0,3.0,0.0,2.0,4.0,4.0,0.0,3.0,0.0,4.0,1.0,2.0,3.0,0.0,0.0,0.0,0.0,0.0,0.0,0.0,0.0,0.0,0.0,0.0,0.0,0.0,0.0,0.0,0.0,0.0,0.0,0.0,0.0,0.0,0.0,0.0,0.0,0.0,0.0,0.0,0.0,0.0,0.0,0.0,0.0,0.0,0.0,0.0,0.0,0.0,0.0,0.0,0.0,0.0,0.0,0.0,0.0,0.0,0.0,0.0,0.0,0.0,0.0,0.0,0.0,0.0,0.0,0.0,0.0,0.0,0.0,0.0,0.0,0.0,0.0,0.0,0.0,0.0,0.0,0.0,0.0,0.0,0.0,0.0,0.0,0.0,0.0,0.0,0.0,0.0,0.0,0.0,0.0,0.0,0.0,0.0,0.0,0.0,0.0,0.0,0.0,0.0,0.0,0.0,0.0,0.0,0.0,0.0,0.0,0.0,0.0,0.0,0.0,0.0,0.0,0.0,0.0,0.0,0.0,0.0,0.0,0.0,0.0,0.0,0.0,0.0,0.0,0.0,0.0,0.0,0.0,0.0,0.0,0.0,0.0,0.0,0.0,0.0,0.0,0.0,0.0,0.0,0.0,0.0,0.0,0.0,0.0,0.0,0.0,0.0,0.0,0.0,0.0,0.0,0.0,0.0,0.0,0.0,0.0,0.0,0.0,0.0,0.0,0.0,0.0,0.0,0.0,0.0,0.0,0.0,0.0,0.0,0.0,0.0,0.0,0.0,0.0,0.0,0.0,0.0,0.0,0.0,0.0,0.0,0.0,0.0,0.0,0.0,0.0,0.0,0.0,0.0,0.0,0.0,0.0,0.0,0.0,0.0,0.0,0.0,0.0,0.0,0.0,0.0,0.0,0.0,0.0,0.0,0.0,0.0,0.0,0.0,0.0,0.0,0.0,0.0,0.0,0.0,0.0,0.0,0.0,0.0,0.0,0.0,0.0,0.0,0.0,0.0,0.0,0.0,0.0,0.0,0.0,0.0,0.0,0.0,0.0,0.0,0.0,0.0,0.0,0.0,0.0,0.0,0.0,0.0,0.0,0.0,0.0,0.0,0.0,0.0,0.0,0.0,0.0,0.0,0.0,0.0,0.0,0.0,0.0,0.0,0.0,0.0,0.0,0.0,0.0,0.0,0.0,0.0,0.0,0.0,0.0,0.0,0.0,0.0,0.0,0.0,0.0,0.0,0.0,0.0,0.0,0.0,0.0,0.0,0.0,0.0,0.0,0.0,0.0,0.0,0.0,0.0,0.0,0.0,0.0,0.0,0.0,0.0,0.0,0.0,0.0,0.0,0.0,0.0,0.0,0.0,0.0,0.0,0.0,0.0,0.0,0.0,0.0,0.0,0.0,0.0,0.0,0.0,0.0,0.0,0.0,0.0,0.0,0.0,0.0,0.0,0.0,0.0,0.0,0.0,0.0,0.0,0.0,0.0,0.0,0.0,0.0,0.0,0.0,0.0,0.0,0.0,0.0,0.0,0.0,0.0,0.0,0.0,0.0,0.0,0.0,0.0,0.0,0.0,0.0,0.0,0.0,0.0,0.0,0.0,0.0,0.0,0.0,0.0,0.0,0.0,0.0,0.0,0.0,0.0,0.0,0.0,0.0,0.0,0.0,0.0,0.0,0.0,0.0,0.0,0.0,0.0,0.0,0.0,0.0,0.0,0.0,0.0,0.0,0.0,0.0,0.0,0.0,0.0,0.0,0.0,0.0,0.0,0.0,0.0,0.0,0.0,0.0,0.0,0.0,0.0,0.0,0.0,0.0,0.0,0.0,0.0,0.0,0.0,0.0,0.0,0.0,0.0,0.0,0.0,0.0,0.0,0.0,0.0,0.0,0.0,0.0,0.0,0.0,0.0,0.0,0.0,0.0,0.0,0.0,0.0,0.0,0.0,0.0,0.0,0.0,0.0,0.0,0.0,0.0,0.0,0.0,0.0,0.0,0.0,0.0,0.0,0.0,0.0,0.0,0.0,0.0,0.0,0.0,0.0,0.0,0.0,0.0,0.0,0.0,0.0,0.0,0.0,0.0,0.0,0.0,0.0,0.0,0.0,0.0,0.0,0.0,0.0,0.0,0.0,0.0,0.0,0.0,0.0,0.0,0.0,0.0,0.0,0.0,0.0,0.0,0.0,0.0,0.0,0.0,0.0,0.0,0.0,0.0,0.0,0.0,0.0,0.0,0.0,0.0,0.0,0.0,0.0,0.0,0.0,0.0,0.0,0.0,0.0,0.0,0.0,0.0,0.0,0.0,0.0,0.0,0.0,0.0,0.0,0.0,0.0,0.0,0.0,0.0,0.0,0.0,0.0,0.0,0.0,0.0,0.0,0.0,0.0,0.0,0.0,0.0,0.0,0.0,0.0,0.0,0.0,0.0,0.0,0.0,0.0,0.0,0.0,0.0,0.0,0.0,0.0,0.0,0.0,0.0,0.0,0.0,0.0,0.0,0.0,0.0,0.0,0.0,0.0,0.0,0.0,0.0,0.0,0.0,0.0,0.0,0.0,0.0,0.0,0.0,0.0,0.0,0.0,0.0,0.0,0.0,0.0,0.0,0.0,0.0,0.0,0.0,0.0,0.0,0.0,0.0,0.0,0.0,0.0,0.0,0.0,0.0,0.0,0.0,0.0,0.0,0.0,0.0,0.0,0.0,0.0,0.0,0.0,0.0,0.0,0.0,0.0,0.0,0.0,0.0,0.0,0.0,0.0,0.0,0.0,0.0,0.0,0.0,0.0,0.0,0.0,0.0,0.0,0.0,0.0,0.0,0.0,0.0,0.0,0.0,0.0,0.0,0.0,0.0,0.0,0.0,0.0,0.0,0.0,0.0,0.0,0.0,0.0,0.0,0.0,0.0,0.0,0.0,0.0,0.0,0.0,0.0,0.0,0.0,0.0,0.0,0.0,0.0,0.0,0.0,0.0,0.0,0.0,0.0,0.0,0.0,0.0,0.0,0.0,0.0,0.0,0.0,0.0,0.0,0.0,0.0,0.0,0.0,0.0,0.0,0.0,0.0,0.0,0.0,0.0,0.0,0.0,0.0,0.0,0.0,0.0,0.0,0.0,0.0,0.0,0.0,0.0,0.0,0.0,0.0,0.0,0.0,0.0,0.0,0.0,0.0,0.0,0.0,0.0,0.0,0.0,0.0,0.0,0.0,0.0,0.0,0.0,0.0,0.0,0.0,0.0,0.0,0.0,0.0,0.0,0.0,0.0,0.0,0.0,0.0,0.0,0.0,0.0,0.0,0.0,0.0,0.0,0.0,0.0,0.0,0.0,0.0,0.0,0.0,0.0,0.0,0.0,0.0,0.0,0.0,0.0,0.0,0.0,0.0,0.0,0.0,0.0,0.0,0.0,0.0,0.0,0.0,0.0,0.0,0.0,0.0,0.0,0.0,0.0,0.0,0.0,0.0,0.0,0.0,0.0,0.0,0.0,0.0,0.0,0.0,0.0,0.0,0.0,0.0,0.0,0.0,0.0,0.0,0.0,0.0,0.0,0.0,0.0,0.0,0.0,0.0,0.0,0.0,0.0,0.0,0.0,0.0,0.0,0.0,0.0,0.0,0.0,0.0,0.0,0.0,0.0,0.0,0.0,0.0,0.0,0.0,0.0,0.0,0.0,0.0,0.0,0.0,0.0,0.0,0.0,0.0,0.0,0.0,0.0,0.0,0.0,0.0,0.0,0.0,0.0,0.0,0.0,0.0,0.0,0.0,0.0,0.0,0.0,0.0,0.0,0.0,0.0,0.0,0.0,0.0,0.0,0.0,0.0,0.0,0.0,0.0,0.0,0.0,0.0,0.0,0.0,0.0,0.0,0.0,0.0,0.0,0.0,0.0,0.0,0.0,0.0,0.0,0.0,0.0,0.0,0.0,0.0,0.0,0.0,0.0,0.0,0.0,0.0,0.0,0.0,0.0,0.0,0.0,0.0,0.0,0.0,0.0,0.0,0.0,0.0,0.0,0.0,0.0,0.0,0.0,0.0,0.0,0.0,0.0,0.0,0.0,0.0,0.0,0.0,0.0,0.0,0.0,0.0,0.0,0.0,0.0,0.0,0.0,0.0,0.0,0.0,0.0,0.0,0.0,0.0,0.0,0.0,0.0,0.0,0.0,0.0,0.0,0.0,0.0,0.0,0.0,0.0,0.0,0.0,0.0,0.0,0.0,0.0,0.0,0.0,0.0,0.0,0.0,0.0,0.0,0.0,0.0,0.0,0.0,0.0,0.0,0.0,0.0,0.0,0.0,0.0,0.0,0.0,0.0,0.0,0.0,0.0,0.0,0.0,0.0,0.0,0.0,0.0,0.0,0.0,0.0,0.0,0.0,0.0,0.0,0.0,0.0,0.0,0.0,0.0,0.0,0.0,0.0,0.0,0.0,0.0,0.0,0.0,0.0,0.0,0.0,0.0,0.0,0.0,0.0,0.0,0.0,0.0,0.0,0.0,0.0,0.0,0.0,0.0,0.0,0.0,0.0,0.0,0.0,0.0,0.0,0.0,0.0,0.0,0.0,0.0,0.0,0.0,0.0,0.0,0.0,0.0,0.0,0.0,0.0,0.0,0.0,0.0,0.0,0.0,0.0,0.0,0.0,0.0,0.0,0.0,0.0,0.0,0.0,0.0,0.0,0.0,0.0,0.0,0.0,0.0,0.0,0.0,0.0,0.0,0.0,0.0,0.0,0.0,0.0,0.0,0.0,0.0,0.0,0.0,0.0,0.0,0.0,0.0,0.0,0.0,0.0,0.0,0.0,0.0,0.0,0.0,0.0,0.0,0.0,0.0,0.0,0.0,0.0,0.0,0.0,0.0,0.0,0.0,0.0,0.0,0.0,0.0,0.0,0.0,0.0,0.0,0.0,0.0,0.0,0.0,0.0,0.0,0.0,0.0,0.0,0.0,0.0,0.0,0.0,0.0,0.0,0.0,0.0,0.0,0.0,0.0,0.0,0.0,0.0,0.0,0.0,0.0,0.0,0.0,0.0,0.0,0.0,0.0,0.0,0.0,0.0,0.0,0.0,0.0,0.0,0.0,0.0,0.0,0.0,0.0,0.0,0.0,0.0,0.0,0.0,0.0,0.0,0.0,0.0,0.0,0.0,0.0,0.0,0.0,0.0,0.0,0.0,0.0,0.0,0.0,0.0,0.0,0.0,0.0,0.0,0.0,0.0,0.0,0.0,0.0,0.0,0.0,0.0,0.0,0.0,0.0,0.0,0.0,0.0,0.0,0.0,0.0,0.0,0.0,0.0,0.0,0.0,0.0,0.0,0.0,0.0,0.0,0.0,0.0,0.0,0.0,0.0,0.0,0.0,0.0,0.0,0.0,0.0,0.0,0.0,0.0,0.0,0.0,0.0,0.0,0.0,0.0,0.0,0.0,0.0,0.0,0.0,0.0,0.0,0.0,0.0,0.0,0.0,0.0,0.0,0.0,0.0,0.0,0.0,0.0,0.0,0.0,0.0,0.0,0.0,0.0,0.0,0.0,0.0,0.0,0.0,0.0,0.0,0.0,0.0,0.0,0.0,0.0,0.0,0.0,0.0,0.0,0.0,0.0,0.0,0.0,0.0,0.0,0.0,0.0,0.0,0.0,0.0,0.0,0.0,0.0,0.0,0.0,0.0,0.0,0.0,0.0,0.0,0.0,0.0,0.0,0.0,0.0,0.0,0.0,0.0,0.0,0.0,0.0,0.0,0.0,0.0,0.0,0.0,0.0,0.0,0.0,0.0,0.0,0.0,0.0,0.0,0.0,0.0,0.0,0.0,0.0,0.0,0.0,0.0,0.0,0.0,0.0,0.0,0.0,0.0,0.0,0.0,0.0,0.0,0.0,0.0,0.0,0.0,0.0,0.0,0.0,0.0,0.0,0.0,0.0,0.0,0.0,0.0,0.0,0.0,0.0,0.0,0.0,0.0,0.0,0.0,0.0,0.0,0.0,0.0,0.0,0.0,0.0,0.0,0.0,0.0,0.0,0.0,0.0,0.0,0.0,0.0,0.0,0.0,0.0,0.0,0.0,0.0,0.0,0.0,0.0,0.0,0.0,0.0,0.0,0.0,0.0,0.0,0.0,0.0,0.0,0.0,0.0,0.0,0.0,0.0,0.0,0.0,0.0,0.0,0.0,0.0,0.0,0.0,0.0,0.0,0.0,0.0,0.0,0.0,0.0,0.0,0.0,0.0,0.0,0.0,0.0,0.0,0.0,0.0,0.0,0.0,0.0,0.0,0.0,0.0,0.0,0.0,0.0,0.0,0.0,0.0,0.0,0.0,0.0,0.0,0.0,0.0,0.0,0.0,0.0,0.0,0.0,0.0,0.0,0.0,0.0,0.0,0.0,0.0,0.0,0.0,0.0,0.0,0.0,0.0,0.0,0.0,0.0,0.0,0.0,0.0,0.0,0.0,0.0,0.0,0.0,0.0,0.0,0.0,0.0,0.0,0.0,0.0,0.0,0.0,0.0,0.0,0.0,0.0,0.0,0.0,0.0,0.0,0.0,0.0,0.0,0.0,0.0,0.0,0.0,0.0,0.0,0.0,0.0,0.0,0.0,0.0,0.0,0.0,0.0,0.0,0.0,0.0,0.0,0.0,0.0,0.0,0.0,0.0,0.0,0.0,0.0,0.0,0.0,0.0,0.0,0.0,0.0,0.0,0.0,0.0,0.0,0.0,0.0,0.0,0.0,0.0,0.0,0.0,0.0,0.0,0.0,0.0,0.0,0.0,0.0,0.0,0.0,0.0,0.0,0.0,0.0,0.0,0.0,0.0,0.0,0.0,0.0,0.0,0.0,0.0,0.0,0.0,0.0,0.0,0.0,0.0,0.0,0.0,0.0,0.0,0.0,0.0,0.0,0.0,0.0,0.0,0.0,0.0,0.0,0.0,0.0,0.0,0.0,0.0,0.0,0.0,0.0,0.0,0.0,0.0,0.0,0.0,0.0,0.0,0.0,0.0,0.0,0.0,0.0,0.0,0.0,0.0,0.0,0.0,0.0,0.0,0.0,0.0,0.0,0.0,0.0,0.0,0.0,0.0,0.0,0.0,0.0,0.0,0.0,0.0,0.0,0.0,0.0,0.0,0.0,0.0,0.0,0.0,0.0,0.0,0.0,0.0,0.0,0.0,0.0,0.0,0.0,0.0,0.0,0.0,0.0,0.0,0.0,0.0,0.0,0.0,0.0,0.0,0.0,0.0,0.0,0.0,0.0,0.0,0.0,0.0,0.0,0.0,0.0,0.0,0.0,0.0,0.0,0.0,0.0,0.0,0.0,0.0,0.0,0.0,0.0,0.0,0.0,0.0,0.0,0.0,0.0,0.0,0.0,0.0,0.0,0.0,0.0,0.0,0.0,0.0,0.0,0.0,0.0,0.0,0.0,0.0,0.0,0.0,0.0,0.0,0.0,0.0,0.0,0.0,0.0,0.0,0.0,0.0,0.0,0.0,0.0,0.0,0.0,0.0,0.0,0.0,0.0,0.0,0.0,0.0,0.0,0.0,0.0,0.0,0.0,0.0,0.0,0.0,0.0,0.0,0.0,0.0,0.0,0.0,0.0,0.0,0.0,0.0,0.0,0.0,0.0,0.0,0.0,0.0,0.0,0.0,0.0,0.0,0.0,0.0,0.0,0.0,0.0,0.0,0.0,0.0,0.0,0.0,0.0,0.0,0.0,0.0,0.0,0.0,0.0,0.0,0.0,0.0,0.0,0.0,0.0,0.0,0.0,0.0,0.0,0.0,0.0,0.0,0.0,0.0,0.0,0.0,0.0,0.0,0.0,0.0,0.0,0.0,0.0,0.0,0.0,0.0,0.0,0.0,0.0,0.0,0.0,0.0,0.0,0.0,0.0,0.0,0.0,0.0,0.0,0.0,0.0,0.0,0.0,0.0,0.0,0.0,0.0,0.0,0.0,0.0,0.0,0.0,0.0,0.0,0.0,0.0,0.0,0.0,0.0,0.0,0.0,0.0,0.0,0.0,0.0,0.0,0.0,0.0,0.0,0.0,0.0,0.0,0.0,0.0,0.0,0.0,0.0,0.0,0.0,0.0,0.0,0.0,0.0,0.0,0.0,0.0,0.0,0.0,0.0,0.0,0.0,0.0,0.0,0.0,0.0,0.0,0.0,0.0,0.0,0.0,0.0,0.0,0.0,0.0,0.0,0.0,0.0,0.0,0.0,0.0,0.0,0.0,0.0,0.0,0.0,0.0,0.0,0.0,0.0,0.0,0.0,0.0,0.0,0.0,0.0,0.0,0.0,0.0,0.0,0.0,0.0,0.0,0.0,0.0,0.0,0.0,0.0,0.0,0.0,0.0,0.0,0.0,0.0,0.0,0.0,0.0,0.0,0.0,0.0,0.0,0.0,0.0,0.0,0.0,0.0,0.0,0.0,0.0,0.0,0.0,0.0,0.0,0.0,0.0,0.0,0.0,0.0,0.0,0.0,0.0,0.0,0.0,0.0,0.0,0.0,0.0,0.0,0.0,0.0,0.0,0.0,0.0,0.0,0.0,0.0,0.0,0.0,0.0,0.0,0.0,0.0,0.0,0.0,0.0,0.0,0.0,0.0,0.0,0.0,0.0,0.0,0.0,0.0,0.0,0.0,0.0,0.0,0.0,0.0,0.0,0.0,0.0,0.0,0.0,0.0,0.0,0.0,0.0,0.0,0.0,0.0,0.0,0.0,0.0,0.0,0.0,0.0,0.0,0.0,0.0,0.0,0.0,0.0,0.0,0.0,0.0,0.0,0.0,0.0,0.0,0.0,0.0,0.0,0.0,0.0,0.0,0.0,0.0,0.0,0.0,0.0,0.0,0.0,0.0,0.0,0.0,0.0,0.0,0.0,0.0,0.0,0.0,0.0,0.0,0.0,0.0,0.0,0.0,0.0,0.0,0.0,0.0,0.0,0.0,0.0,0.0,0.0,0.0,0.0,0.0,0.0,0.0,0.0,0.0,0.0,0.0,0.0,0.0,0.0,0.0,0.0,0.0,0.0,0.0,0.0,0.0,0.0,0.0,0.0,0.0,0.0,0.0,0.0,0.0,0.0,0.0,0.0,0.0,0.0,0.0,0.0,0.0,0.0,0.0,0.0,0.0,0.0,0.0,0.0,0.0,0.0,0.0,0.0,0.0,0.0,0.0,0.0,0.0,0.0,0.0,0.0,0.0,0.0,0.0,0.0,0.0,0.0,0.0,0.0,0.0,0.0,0.0,0.0,0.0,0.0,0.0,0.0,0.0,0.0,0.0,0.0,0.0,0.0,0.0,0.0,0.0,0.0,0.0,0.0,0.0,0.0,0.0,0.0,0.0,0.0,0.0,0.0,0.0,0.0,0.0,0.0,0.0,0.0,0.0,0.0,0.0,0.0,0.0,0.0,0.0,0.0,0.0,0.0,0.0,0.0,0.0,0.0,0.0,0.0,0.0,0.0,0.0,0.0,0.0,0.0,0.0,0.0,0.0,0.0,0.0,0.0,0.0,0.0,0.0,0.0,0.0,0.0,0.0,0.0,0.0,0.0,0.0,0.0,0.0,0.0,0.0,0.0,0.0,0.0,0.0,0.0,0.0,0.0,0.0,0.0,0.0,0.0,0.0,0.0,0.0,0.0,0.0,0.0,0.0,0.0,0.0,0.0,0.0,0.0,0.0,0.0,0.0,0.0,0.0,0.0,0.0,0.0,0.0,0.0,0.0,0.0,0.0,0.0,0.0,0.0,0.0,0.0,0.0,0.0,0.0,0.0,0.0,0.0,0.0,0.0,0.0,0.0,0.0,0.0,0.0,0.0,0.0,0.0,0.0,0.0,0.0,0.0,0.0,0.0,0.0,0.0,0.0,0.0,0.0,0.0,0.0,0.0,0.0,0.0,0.0,0.0,0.0,0.0,0.0,0.0,0.0,0.0,0.0,0.0,0.0,0.0,0.0,0.0,0.0,0.0,0.0,0.0,0.0,0.0,0.0,0.0,0.0,0.0,0.0,0.0,0.0,0.0,0.0,0.0,0.0,0.0,0.0,0.0,0.0,0.0,0.0,0.0,0.0,0.0,0.0,0.0,0.0,0.0,0.0,0.0,0.0,0.0,0.0,0.0,0.0,0.0,0.0,0.0,0.0,0.0,0.0,0.0,0.0,0.0,0.0,0.0,0.0,0.0,0.0,0.0,0.0,0.0,0.0,0.0,0.0,0.0,0.0,0.0,0.0,0.0,0.0,0.0,0.0,0.0],\"xaxis\":\"x\",\"xbingroup\":\"x\",\"y\":[1.58,1.592,2.085,0.0,1.634,1.457,1.742,0.0,1.473,1.776,1.829,3.383,0.0,1.526,1.624,1.5759999999999998,0.0,0.0,1.591,0.0,0.0,0.0,1.636,0.0,0.0,0.0,0.0,1.959,0.0,1.535,0.0,1.7,1.773,1.695,1.776,1.625,1.806,0.0,0.0,0.0,0.0,0.0,1.453,1.464,1.582,1.476,1.578,1.596,0.0,1.604,1.49,1.868,1.621,2.525,1.639,1.53,1.5530000000000002,1.887,1.742,1.587,1.656,1.6669999999999998,1.582,1.528,1.513,1.646,0.0,1.751,1.492,1.536,1.634,1.495,0.0,0.0,1.682,2.01,0.0,1.804,1.755,0.0,1.526,0.0,1.793,1.703,1.857,0.0,1.579,1.72,1.713,1.768,1.568,1.324,1.775,1.631,1.712,2.173,1.638,1.5730000000000002,1.97,0.989,1.484,0.0,1.632,1.5659999999999998,0.0,1.482,1.621,1.793,1.78,1.611,1.533,1.6980000000000002,1.528,1.6030000000000002,1.582,1.557,1.95,0.0,0.0,0.0,1.625,1.71,1.51,0.0,2.165,1.6569999999999998,0.0,1.485,2.05,1.565,1.6880000000000002,0.0,1.665,0.0,1.807,0.0,0.0,1.546,0.0,1.614,1.604,0.0,1.766,1.726,2.622,2.003,1.5830000000000002,1.545,1.5319999999999998,0.0,1.591,2.37,1.676,1.622,1.73,1.6130000000000002,2.2,2.047,1.64,1.595,1.872,2.498,1.631,1.508,1.519,1.649,0.0,2.073,1.479,1.919,0.0,1.923,1.6230000000000002,2.049,1.787,0.0,1.588,1.984,2.051,1.567,1.531,0.0,1.595,0.0,1.7380000000000002,0.0,0.0,1.92,1.554,1.63,2.071,1.727,1.629,1.631,2.12,1.749,1.57,0.0,1.933,0.0,1.666,1.675,1.719,1.654,1.596,1.597,1.644,1.598,1.809,1.742,1.5519999999999998,1.938,1.885,1.839,1.765,2.225,1.475,1.486,2.232,1.773,1.339,0.0,1.67,2.849,1.662,2.107,1.595,1.617,1.788,1.759,1.633,1.651,1.535,0.0,0.0,0.0,2.267,1.631,1.916,1.717,1.565,1.693,1.681,0.0,1.722,2.065,1.682,1.69,1.547,1.633,2.069,1.664,1.651,1.615,1.751,1.45,1.847,1.664,0.0,1.769,1.481,0.0,1.659,1.578,1.61,2.152,0.0,1.501,0.0,2.325,0.0,0.0,0.0,0.0,0.0,1.629,1.494,1.5519999999999998,1.695,1.629,0.0,1.534,1.77,1.4409999999999998,2.193,0.0,1.893,1.539,1.475,0.0,0.0,1.724,1.425,1.494,1.681,0.0,1.63,2.155,0.0,0.0,0.0,1.525,0.0,1.618,1.632,0.0,1.516,1.55,1.644,1.47,0.0,1.611,1.88,1.632,1.629,2.133,0.0,1.668,0.0,1.592,0.0,0.0,1.524,1.741,0.0,0.0,0.0,0.0,1.544,1.485,1.592,1.471,1.6669999999999998,0.0,2.31,1.5019999999999998,1.274,1.729,3.048,2.358,1.622,1.821,1.8,1.591,1.693,1.643,1.736,1.833,0.0,0.0,0.0,0.0,1.5930000000000002,1.6130000000000002,1.679,2.2430000000000003,2.268,1.639,1.619,1.653,1.907,1.5419999999999998,0.0,1.5319999999999998,1.517,1.648,1.6740000000000002,1.641,0.0,1.513,1.5719999999999998,0.0,0.0,1.508,2.364,0.0,1.671,0.0,1.767,1.561,1.6469999999999998,1.781,1.621,1.594,1.66,1.664,1.472,0.0,1.711,1.505,1.68,0.0,0.0,0.0,1.618,1.719,1.564,1.618,2.097,1.471,1.835,1.546,1.66,1.699,1.44,0.0,1.6740000000000002,1.774,1.644,1.539,0.0,1.81,1.574,0.0,0.0,1.506,1.723,1.5630000000000002,0.0,1.534,1.755,0.0,1.717,0.0,2.117,1.7,1.6769999999999998,1.635,1.5119999999999998,1.96,1.709,1.518,1.587,2.217,1.557,0.0,1.509,0.0,1.768,1.746,1.513,1.835,1.984,0.0,1.646,1.675,1.629,0.0,2.001,0.0,1.672,1.888,1.671,0.0,1.524,1.47,0.0,2.38,2.471,1.5730000000000002,0.0,1.895,1.813,1.783,2.18,2.165,1.73,0.0,0.0,1.541,1.69,1.79,0.0,1.865,0.0,2.096,1.587,0.0,0.0,1.477,1.646,1.525,1.4580000000000002,0.0,1.622,1.505,1.659,1.625,1.638,0.0,0.0,0.0,1.508,2.138,1.534,1.408,1.783,1.528,0.0,0.0,1.804,0.0,1.654,0.0,2.129,1.51,1.655,1.588,1.775,0.0,0.0,1.4880000000000002,1.716,1.62,0.0,0.0,0.0,0.0,1.536,1.705,0.0,0.0,1.63,1.4469999999999998,1.464,0.0,1.5759999999999998,1.5730000000000002,0.0,1.5319999999999998,0.0,1.526,1.525,1.805,1.692,1.645,2.03,1.5219999999999998,1.815,1.548,0.0,1.68,1.802,0.0,1.64,1.5930000000000002,2.133,0.0,1.64,0.0,0.0,1.554,1.805,1.616,0.0,1.541,0.0,1.74,1.51,1.611,1.588,1.661,1.5759999999999998,2.49,2.132,1.605,0.0,1.48,1.594,1.764,1.711,2.497,1.57,1.64,1.696,1.556,1.561,1.67,1.5219999999999998,0.0,1.979,1.633,2.387,1.838,0.0,1.939,1.578,0.0,1.732,2.349,1.577,1.758,0.0,1.5219999999999998,1.61,0.0,0.0,1.783,1.709,1.73,0.0,1.6269999999999998,1.8,0.0,1.805,2.151,0.0,0.0,1.773,1.729,0.0,1.536,1.524,1.704,2.346,1.737,0.0,0.0,1.57,1.662,1.653,1.612,0.0,0.0,1.717,0.0,1.803,1.418,1.72,0.0,1.943,1.713,2.7,0.0,0.0,1.516,0.0,1.6569999999999998,1.656,1.527,0.0,0.0,0.0,1.57,1.384,0.0,1.523,1.681,1.704,1.6230000000000002,1.94,1.783,1.546,0.0,1.758,1.611,1.525,1.665,0.0,2.035,0.0,0.0,1.817,1.737,1.485,0.0,1.777,1.8,1.7480000000000002,1.719,1.663,1.665,1.747,0.0,0.0,1.529,1.773,1.639,1.818,0.0,1.617,1.4980000000000002,1.545,1.5930000000000002,0.0,1.635,0.0,1.745,1.96,0.0,1.64,0.0,1.49,0.0,1.5119999999999998,0.0,1.577,1.685,0.0,2.05,0.0,1.505,0.0,1.693,2.4,2.177,0.0,1.805,0.0,1.483,1.477,1.483,0.0,0.0,0.0,0.0,1.6269999999999998,0.0,1.96,1.5719999999999998,1.74,1.622,1.586,1.619,1.477,1.689,1.673,1.727,1.481,1.653,1.4580000000000002,1.914,1.921,0.0,2.197,1.565,1.625,0.0,0.0,1.506,0.0,0.0,0.0,0.0,0.0,0.0,0.0,1.704,0.0,1.865,2.293,2.383,1.692,1.582,1.601,2.1830000000000003,1.556,1.575,1.556,1.725,1.328,0.0,1.495,1.626,1.655,1.619,1.803,1.76,0.0,0.0,1.595,1.756,0.0,1.538,1.534,1.602,1.666,1.615,0.0,1.628,1.707,1.723,1.6269999999999998,1.636,0.0,0.0,0.0,0.0,1.578,0.0,1.523,0.0,1.717,1.5830000000000002,1.598,2.055,0.0,2.021,0.0,0.0,1.888,1.625,0.0,1.928,0.0,1.702,1.59,1.596,1.633,0.0,0.0,0.0,0.0,0.0,0.0,0.0,0.0,0.0,0.0,0.0,0.0,0.0,0.0,0.0,0.0,0.0,0.0,0.0,0.0,0.0,0.0,0.0,0.0,0.0,0.0,0.0,0.0,0.0,0.0,0.0,0.0,0.0,0.0,0.0,0.0,0.0,0.0,0.0,0.0,0.0,0.0,0.0,0.0,0.0,0.0,0.0,0.0,0.0,0.0,0.0,0.0,0.0,0.0,0.0,0.0,0.0,0.0,0.0,0.0,0.0,0.0,0.0,0.0,0.0,0.0,0.0,0.0,0.0,0.0,0.0,0.0,0.0,0.0,0.0,0.0,0.0,0.0,0.0,0.0,0.0,0.0,0.0,0.0,0.0,0.0,0.0,0.0,0.0,0.0,0.0,0.0,0.0,0.0,0.0,0.0,0.0,0.0,0.0,0.0,0.0,0.0,0.0,0.0,0.0,0.0,0.0,0.0,0.0,0.0,0.0,0.0,0.0,0.0,0.0,0.0,0.0,0.0,0.0,0.0,0.0,0.0,0.0,0.0,0.0,0.0,0.0,0.0,0.0,0.0,0.0,0.0,0.0,0.0,0.0,0.0,0.0,0.0,0.0,0.0,0.0,0.0,0.0,0.0,0.0,0.0,0.0,0.0,0.0,0.0,0.0,0.0,0.0,0.0,0.0,0.0,0.0,0.0,0.0,0.0,0.0,0.0,0.0,0.0,0.0,0.0,0.0,0.0,0.0,0.0,0.0,0.0,0.0,0.0,0.0,0.0,0.0,0.0,0.0,0.0,0.0,0.0,0.0,0.0,0.0,0.0,0.0,0.0,0.0,0.0,0.0,0.0,0.0,0.0,0.0,0.0,0.0,0.0,0.0,0.0,0.0,0.0,0.0,0.0,0.0,0.0,0.0,0.0,0.0,0.0,0.0,0.0,0.0,0.0,0.0,0.0,0.0,0.0,0.0,0.0,0.0,0.0,0.0,0.0,0.0,0.0,0.0,0.0,0.0,0.0,0.0,0.0,0.0,0.0,0.0,0.0,0.0,0.0,0.0,0.0,0.0,0.0,0.0,0.0,0.0,0.0,0.0,0.0,0.0,0.0,0.0,0.0,0.0,0.0,0.0,0.0,0.0,0.0,0.0,0.0,0.0,0.0,0.0,0.0,0.0,0.0,0.0,0.0,0.0,0.0,0.0,0.0,0.0,0.0,0.0,0.0,0.0,0.0,0.0,0.0,0.0,0.0,0.0,0.0,0.0,0.0,0.0,0.0,0.0,0.0,0.0,0.0,0.0,0.0,0.0,0.0,0.0,0.0,0.0,0.0,0.0,0.0,0.0,0.0,0.0,0.0,0.0,0.0,0.0,0.0,0.0,0.0,0.0,0.0,0.0,0.0,0.0,0.0,0.0,0.0,0.0,0.0,0.0,0.0,0.0,0.0,0.0,0.0,0.0,0.0,0.0,0.0,0.0,0.0,0.0,0.0,0.0,0.0,0.0,0.0,0.0,0.0,0.0,0.0,0.0,0.0,0.0,0.0,0.0,0.0,0.0,0.0,0.0,0.0,0.0,0.0,0.0,0.0,0.0,0.0,0.0,0.0,0.0,0.0,0.0,0.0,0.0,0.0,0.0,0.0,0.0,0.0,0.0,0.0,0.0,0.0,0.0,0.0,0.0,0.0,0.0,0.0,0.0,0.0,0.0,0.0,0.0,0.0,0.0,0.0,0.0,0.0,0.0,0.0,0.0,0.0,0.0,0.0,0.0,0.0,0.0,0.0,0.0,0.0,0.0,0.0,0.0,0.0,0.0,0.0,0.0,0.0,0.0,0.0,0.0,0.0,0.0,0.0,0.0,0.0,0.0,0.0,0.0,0.0,0.0,0.0,0.0,0.0,0.0,0.0,0.0,0.0,0.0,0.0,0.0,0.0,0.0,0.0,0.0,0.0,0.0,0.0,0.0,0.0,0.0,0.0,0.0,0.0,0.0,0.0,0.0,0.0,0.0,0.0,0.0,0.0,0.0,0.0,0.0,0.0,0.0,0.0,0.0,0.0,0.0,0.0,0.0,0.0,0.0,0.0,0.0,0.0,0.0,0.0,0.0,0.0,0.0,0.0,0.0,0.0,0.0,0.0,0.0,0.0,0.0,0.0,0.0,0.0,0.0,0.0,0.0,0.0,0.0,0.0,0.0,0.0,0.0,0.0,0.0,0.0,0.0,0.0,0.0,0.0,0.0,0.0,0.0,0.0,0.0,0.0,0.0,0.0,0.0,0.0,0.0,0.0,0.0,0.0,0.0,0.0,0.0,0.0,0.0,0.0,0.0,0.0,0.0,0.0,0.0,0.0,0.0,0.0,0.0,0.0,0.0,0.0,0.0,0.0,0.0,0.0,0.0,0.0,0.0,0.0,0.0,0.0,0.0,0.0,0.0,0.0,0.0,0.0,0.0,0.0,0.0,0.0,0.0,0.0,0.0,0.0,0.0,0.0,0.0,0.0,0.0,0.0,0.0,0.0,0.0,0.0,0.0,0.0,0.0,0.0,0.0,0.0,0.0,0.0,0.0,0.0,0.0,0.0,0.0,0.0,0.0,0.0,0.0,0.0,0.0,0.0,0.0,0.0,0.0,0.0,0.0,0.0,0.0,0.0,0.0,0.0,0.0,0.0,0.0,0.0,0.0,0.0,0.0,0.0,0.0,0.0,0.0,0.0,0.0,0.0,0.0,0.0,0.0,0.0,0.0,0.0,0.0,0.0,0.0,0.0,0.0,0.0,0.0,0.0,0.0,0.0,0.0,0.0,0.0,0.0,0.0,0.0,0.0,0.0,0.0,0.0,0.0,0.0,0.0,0.0,0.0,0.0,0.0,0.0,0.0,0.0,0.0,0.0,0.0,0.0,0.0,0.0,0.0,0.0,0.0,0.0,0.0,0.0,0.0,0.0,0.0,0.0,0.0,0.0,0.0,0.0,0.0,0.0,0.0,0.0,0.0,0.0,0.0,0.0,0.0,0.0,0.0,0.0,0.0,0.0,0.0,0.0,0.0,0.0,0.0,0.0,0.0,0.0,0.0,0.0,0.0,0.0,0.0,0.0,0.0,0.0,0.0,0.0,0.0,0.0,0.0,0.0,0.0,0.0,0.0,0.0,0.0,0.0,0.0,0.0,0.0,0.0,0.0,0.0,0.0,0.0,0.0,0.0,0.0,0.0,0.0,0.0,0.0,0.0,0.0,0.0,0.0,0.0,0.0,0.0,0.0,0.0,0.0,0.0,0.0,0.0,0.0,0.0,0.0,0.0,0.0,0.0,0.0,0.0,0.0,0.0,0.0,0.0,0.0,0.0,0.0,0.0,0.0,0.0,0.0,0.0,0.0,0.0,0.0,0.0,0.0,0.0,0.0,0.0,0.0,0.0,0.0,0.0,0.0,0.0,0.0,0.0,0.0,0.0,0.0,0.0,0.0,0.0,0.0,0.0,0.0,0.0,0.0,0.0,0.0,0.0,0.0,0.0,0.0,0.0,0.0,0.0,0.0,0.0,0.0,0.0,0.0,0.0,0.0,0.0,0.0,0.0,0.0,0.0,0.0,0.0,0.0,0.0,0.0,0.0,0.0,0.0,0.0,0.0,0.0,0.0,0.0,0.0,0.0,0.0,0.0,0.0,0.0,0.0,0.0,0.0,0.0,0.0,0.0,0.0,0.0,0.0,0.0,0.0,0.0,0.0,0.0,0.0,0.0,0.0,0.0,0.0,0.0,0.0,0.0,0.0,0.0,0.0,0.0,0.0,0.0,0.0,0.0,0.0,0.0,0.0,0.0,0.0,0.0,0.0,0.0,0.0,0.0,0.0,0.0,0.0,0.0,0.0,0.0,0.0,0.0,0.0,0.0,0.0,0.0,0.0,0.0,0.0,0.0,0.0,0.0,0.0,0.0,0.0,0.0,0.0,0.0,0.0,0.0,0.0,0.0,0.0,0.0,0.0,0.0,0.0,0.0,0.0,0.0,0.0,0.0,0.0,0.0,0.0,0.0,0.0,0.0,0.0,0.0,0.0,0.0,0.0,0.0,0.0,0.0,0.0,0.0,0.0,0.0,0.0,0.0,0.0,0.0,0.0,0.0,0.0,0.0,0.0,0.0,0.0,0.0,0.0,0.0,0.0,0.0,0.0,0.0,0.0,0.0,0.0,0.0,0.0,0.0,0.0,0.0,0.0,0.0,0.0,0.0,0.0,0.0,0.0,0.0,0.0,0.0,0.0,0.0,0.0,0.0,0.0,0.0,0.0,0.0,0.0,0.0,0.0,0.0,0.0,0.0,0.0,0.0,0.0,0.0,0.0,0.0,0.0,0.0,0.0,0.0,0.0,0.0,0.0,0.0,0.0,0.0,0.0,0.0,0.0,0.0,0.0,0.0,0.0,0.0,0.0,0.0,0.0,0.0,0.0,0.0,0.0,0.0,0.0,0.0,0.0,0.0,0.0,0.0,0.0,0.0,0.0,0.0,0.0,0.0,0.0,0.0,0.0,0.0,0.0,0.0,0.0,0.0,0.0,0.0,0.0,0.0,0.0,0.0,0.0,0.0,0.0,0.0,0.0,0.0,0.0,0.0,0.0,0.0,0.0,0.0,0.0,0.0,0.0,0.0,0.0,0.0,0.0,0.0,0.0,0.0,0.0,0.0,0.0,0.0,0.0,0.0,0.0,0.0,0.0,0.0,0.0,0.0,0.0,0.0,0.0,0.0,0.0,0.0,0.0,0.0,0.0,0.0,0.0,0.0,0.0,0.0,0.0,0.0,0.0,0.0,0.0,0.0,0.0,0.0,0.0,0.0,0.0,0.0,0.0,0.0,0.0,0.0,0.0,0.0,0.0,0.0,0.0,0.0,0.0,0.0,0.0,0.0,0.0,0.0,0.0,0.0,0.0,0.0,0.0,0.0,0.0,0.0,0.0,0.0,0.0,0.0,0.0,0.0,0.0,0.0,0.0,0.0,0.0,0.0,0.0,0.0,0.0,0.0,0.0,0.0,0.0,0.0,0.0,0.0,0.0,0.0,0.0,0.0,0.0,0.0,0.0,0.0,0.0,0.0,0.0,0.0,0.0,0.0,0.0,0.0,0.0,0.0,0.0,0.0,0.0,0.0,0.0,0.0,0.0,0.0,0.0,0.0,0.0,0.0,0.0,0.0,0.0,0.0,0.0,0.0,0.0,0.0,0.0,0.0,0.0,0.0,0.0,0.0,0.0,0.0,0.0,0.0,0.0,0.0,0.0,0.0,0.0,0.0,0.0,0.0,0.0,0.0,0.0,0.0,0.0,0.0,0.0,0.0,0.0,0.0,0.0,0.0,0.0,0.0,0.0,0.0,0.0,0.0,0.0,0.0,0.0,0.0,0.0,0.0,0.0,0.0,0.0,0.0,0.0,0.0,0.0,0.0,0.0,0.0,0.0,0.0,0.0,0.0,0.0,0.0,0.0,0.0,0.0,0.0,0.0,0.0,0.0,0.0,0.0,0.0,0.0,0.0,0.0,0.0,0.0,0.0,0.0,0.0,0.0,0.0,0.0,0.0,0.0,0.0,0.0,0.0,0.0,0.0,0.0,0.0,0.0,0.0,0.0,0.0,0.0,0.0,0.0,0.0,0.0,0.0,0.0,0.0,0.0,0.0,0.0,0.0,0.0,0.0,0.0,0.0,0.0,0.0,0.0,0.0,0.0,0.0,0.0,0.0,0.0,0.0,0.0,0.0,0.0,0.0,0.0,0.0,0.0,0.0,0.0,0.0,0.0,0.0,0.0,0.0,0.0,0.0,0.0,0.0,0.0,0.0,0.0,0.0,0.0,0.0,0.0,0.0,0.0,0.0,0.0,0.0,0.0,0.0,0.0,0.0,0.0,0.0,0.0,0.0,0.0,0.0,0.0,0.0,0.0,0.0,0.0,0.0,0.0,0.0,0.0,0.0,0.0,0.0,0.0,0.0,0.0,0.0,0.0,0.0,0.0,0.0,0.0,0.0,0.0,0.0,0.0,0.0,0.0,0.0,0.0,0.0,0.0,0.0,0.0,0.0,0.0,0.0,0.0,0.0,0.0,0.0,0.0,0.0,0.0,0.0,0.0,0.0,0.0,0.0,0.0,0.0,0.0,0.0,0.0,0.0,0.0,0.0,0.0,0.0,0.0,0.0,0.0,0.0,0.0,0.0,0.0,0.0,0.0,0.0,0.0,0.0,0.0,0.0,0.0,0.0,0.0,0.0,0.0,0.0,0.0,0.0,0.0,0.0,0.0,0.0,0.0,0.0,0.0,0.0,0.0,0.0,0.0,0.0,0.0,0.0,0.0,0.0,0.0,0.0,0.0,0.0,0.0,0.0,0.0,0.0,0.0,0.0,0.0,0.0,0.0,0.0,0.0,0.0,0.0,0.0,0.0,0.0,0.0,0.0,0.0,0.0,0.0,0.0,0.0,0.0,0.0,0.0,0.0,0.0,0.0,0.0,0.0,0.0,0.0,0.0,0.0,0.0,0.0,0.0,0.0,0.0,0.0,0.0,0.0,0.0,0.0,0.0,0.0,0.0,0.0,0.0,0.0,0.0,0.0,0.0,0.0,0.0,0.0,0.0,0.0,0.0,0.0,0.0,0.0,0.0,0.0,0.0,0.0,0.0,0.0,0.0,0.0,0.0,0.0,0.0,0.0,0.0,0.0,0.0,0.0,0.0,0.0,0.0,0.0,0.0,0.0,0.0,0.0,0.0,0.0,0.0,0.0,0.0,0.0,0.0,0.0,0.0,0.0,0.0,0.0,0.0,0.0,0.0,0.0,0.0,0.0,0.0,0.0,0.0,0.0,0.0,0.0,0.0,0.0,0.0,0.0,0.0,0.0,0.0,0.0,0.0,0.0,0.0,0.0,0.0,0.0,0.0,0.0,0.0,0.0,0.0,0.0,0.0,0.0,0.0,0.0,0.0,0.0,0.0,0.0,0.0,0.0,0.0,0.0,0.0,0.0,0.0,0.0,0.0,0.0,0.0,0.0,0.0,0.0,0.0,0.0,0.0,0.0,0.0,0.0,0.0,0.0,0.0,0.0,0.0,0.0,0.0,0.0,0.0,0.0,0.0,0.0,0.0,0.0,0.0,0.0,0.0,0.0,0.0,0.0,0.0,0.0,0.0,0.0,0.0,0.0,0.0,0.0,0.0,0.0,0.0,0.0,0.0,0.0,0.0,0.0,0.0,0.0,0.0,0.0,0.0,0.0,0.0,0.0,0.0,0.0,0.0,0.0,0.0,0.0,0.0,0.0,0.0,0.0,0.0,0.0,0.0,0.0,0.0,0.0,0.0,0.0,0.0,0.0,0.0,0.0,0.0,0.0,0.0,0.0,0.0,0.0,0.0,0.0,0.0,0.0,0.0,0.0,0.0,0.0,0.0,0.0,0.0,0.0,0.0,0.0,0.0,0.0,0.0,0.0,0.0,0.0,0.0,0.0,0.0,0.0,0.0,0.0,0.0,0.0,0.0,0.0,0.0,0.0,0.0,0.0,0.0,0.0,0.0,0.0,0.0,0.0,0.0,0.0,0.0,0.0,0.0,0.0,0.0,0.0,0.0,0.0,0.0,0.0,0.0,0.0,0.0,0.0,0.0,0.0,0.0,0.0,0.0,0.0,0.0,0.0,0.0,0.0,0.0,0.0,0.0,0.0,0.0,0.0,0.0,0.0,0.0,0.0,0.0,0.0,0.0,0.0,0.0,0.0,0.0,0.0,0.0,0.0,0.0,0.0,0.0,0.0,0.0,0.0,0.0,0.0,0.0,0.0,0.0,0.0,0.0,0.0,0.0,0.0,0.0,0.0,0.0,0.0,0.0,0.0,0.0,0.0,0.0,0.0,0.0,0.0,0.0,0.0,0.0,0.0,0.0,0.0,0.0,0.0,0.0,0.0,0.0,0.0,0.0,0.0,0.0,0.0,0.0,0.0,0.0,0.0,0.0,0.0,0.0,0.0,0.0,0.0,0.0,0.0,0.0,0.0,0.0,0.0,0.0,0.0,0.0,0.0,0.0,0.0,0.0,0.0,0.0,0.0,0.0,0.0,0.0,0.0,0.0,0.0,0.0,0.0,0.0,0.0,0.0,0.0,0.0,0.0,0.0,0.0,0.0,0.0,0.0,0.0,0.0,0.0,0.0,0.0,0.0,0.0,0.0,0.0,0.0,0.0,0.0,0.0,0.0,0.0,0.0,0.0,0.0,0.0,0.0,0.0,0.0,0.0,0.0,0.0,0.0,0.0,0.0,0.0,0.0,0.0,0.0,0.0,0.0,0.0,0.0,0.0,0.0,0.0,0.0,0.0,0.0,0.0,0.0,0.0,0.0,0.0,0.0,0.0,0.0,0.0,0.0,0.0,0.0,0.0,0.0,0.0,0.0,0.0,0.0,0.0,0.0,0.0,0.0,0.0,0.0,0.0,0.0,0.0,0.0,0.0,0.0,0.0,0.0,0.0,0.0,0.0,0.0,0.0,0.0,0.0,0.0,0.0,0.0,0.0,0.0,0.0,0.0,0.0,0.0,0.0,0.0,0.0,0.0,0.0,0.0,0.0,0.0,0.0,0.0,0.0,0.0,0.0,0.0,0.0,0.0,0.0,0.0,0.0,0.0,0.0,0.0,0.0,0.0,0.0,0.0,0.0,0.0,0.0,0.0,0.0,0.0,0.0,0.0,0.0,0.0,0.0,0.0,0.0,0.0,0.0,0.0,0.0,0.0,0.0,0.0,0.0,0.0,0.0,0.0,0.0,0.0,0.0,0.0,0.0,0.0,0.0,0.0,0.0,0.0,0.0,0.0,0.0,0.0,0.0,0.0,0.0,0.0,0.0,0.0,0.0,0.0,0.0,0.0,0.0,0.0,0.0,0.0,0.0,0.0,0.0,0.0,0.0,0.0,0.0,0.0,0.0,0.0,0.0,0.0,0.0,0.0,0.0,0.0,0.0,0.0,0.0,0.0,0.0,0.0,0.0,0.0,0.0,0.0,0.0,0.0,0.0,0.0,0.0,0.0,0.0,0.0,0.0,0.0,0.0,0.0,0.0,0.0,0.0,0.0,0.0,0.0,0.0,0.0,0.0,0.0,0.0,0.0,0.0,0.0,0.0,0.0,0.0,0.0,0.0,0.0,0.0,0.0,0.0,0.0,0.0,0.0,0.0,0.0,0.0,0.0,0.0,0.0,0.0,0.0,0.0,0.0,0.0,0.0,0.0,0.0,0.0,0.0,0.0,0.0,0.0,0.0,0.0,0.0,0.0,0.0,0.0,0.0,0.0,0.0,0.0,0.0,0.0,0.0,0.0,0.0,0.0,0.0,0.0,0.0,0.0,0.0,0.0,0.0,0.0,0.0,0.0,0.0,0.0,0.0,0.0,0.0,0.0,0.0,0.0,0.0,0.0,0.0,0.0,0.0,0.0,0.0,0.0,0.0,0.0,0.0,0.0,0.0,0.0,0.0,0.0,0.0,0.0,0.0,0.0,0.0,0.0,0.0,0.0,0.0,0.0,0.0,0.0,0.0,0.0,0.0,0.0,0.0,0.0,0.0,0.0,0.0,0.0,0.0,0.0,0.0,0.0,0.0,0.0,0.0,0.0,0.0,0.0,0.0,0.0,0.0,0.0,0.0,0.0,0.0,0.0,0.0,0.0,0.0,0.0,0.0,0.0,0.0,0.0,0.0,0.0,0.0,0.0,0.0,0.0,0.0,0.0,0.0,0.0,0.0,0.0,0.0,0.0,0.0,0.0,0.0,0.0,0.0,0.0,0.0,0.0,0.0,0.0,0.0,0.0,0.0,0.0,0.0,0.0,0.0,0.0,0.0,0.0,0.0,0.0,0.0,0.0,0.0,0.0,0.0,0.0,0.0,0.0,0.0,0.0,0.0,0.0,0.0,0.0,0.0,0.0,0.0,0.0,0.0,0.0,0.0,0.0,0.0,0.0,0.0,0.0,0.0,0.0,0.0,0.0,0.0,0.0,0.0,0.0,0.0,0.0,0.0,0.0,0.0,0.0,0.0,0.0,0.0,0.0,0.0,0.0,0.0,0.0,0.0,0.0,0.0,0.0,0.0,0.0,0.0,0.0,0.0,0.0,0.0,0.0,0.0,0.0,0.0,0.0,0.0,0.0,0.0,0.0,0.0,0.0,0.0,0.0,0.0,0.0,0.0,0.0,0.0,0.0,0.0],\"yaxis\":\"y\",\"ybingroup\":\"y\",\"type\":\"histogram2d\"}],                        {\"template\":{\"data\":{\"bar\":[{\"error_x\":{\"color\":\"#2a3f5f\"},\"error_y\":{\"color\":\"#2a3f5f\"},\"marker\":{\"line\":{\"color\":\"#E5ECF6\",\"width\":0.5},\"pattern\":{\"fillmode\":\"overlay\",\"size\":10,\"solidity\":0.2}},\"type\":\"bar\"}],\"barpolar\":[{\"marker\":{\"line\":{\"color\":\"#E5ECF6\",\"width\":0.5},\"pattern\":{\"fillmode\":\"overlay\",\"size\":10,\"solidity\":0.2}},\"type\":\"barpolar\"}],\"carpet\":[{\"aaxis\":{\"endlinecolor\":\"#2a3f5f\",\"gridcolor\":\"white\",\"linecolor\":\"white\",\"minorgridcolor\":\"white\",\"startlinecolor\":\"#2a3f5f\"},\"baxis\":{\"endlinecolor\":\"#2a3f5f\",\"gridcolor\":\"white\",\"linecolor\":\"white\",\"minorgridcolor\":\"white\",\"startlinecolor\":\"#2a3f5f\"},\"type\":\"carpet\"}],\"choropleth\":[{\"colorbar\":{\"outlinewidth\":0,\"ticks\":\"\"},\"type\":\"choropleth\"}],\"contour\":[{\"colorbar\":{\"outlinewidth\":0,\"ticks\":\"\"},\"colorscale\":[[0.0,\"#0d0887\"],[0.1111111111111111,\"#46039f\"],[0.2222222222222222,\"#7201a8\"],[0.3333333333333333,\"#9c179e\"],[0.4444444444444444,\"#bd3786\"],[0.5555555555555556,\"#d8576b\"],[0.6666666666666666,\"#ed7953\"],[0.7777777777777778,\"#fb9f3a\"],[0.8888888888888888,\"#fdca26\"],[1.0,\"#f0f921\"]],\"type\":\"contour\"}],\"contourcarpet\":[{\"colorbar\":{\"outlinewidth\":0,\"ticks\":\"\"},\"type\":\"contourcarpet\"}],\"heatmap\":[{\"colorbar\":{\"outlinewidth\":0,\"ticks\":\"\"},\"colorscale\":[[0.0,\"#0d0887\"],[0.1111111111111111,\"#46039f\"],[0.2222222222222222,\"#7201a8\"],[0.3333333333333333,\"#9c179e\"],[0.4444444444444444,\"#bd3786\"],[0.5555555555555556,\"#d8576b\"],[0.6666666666666666,\"#ed7953\"],[0.7777777777777778,\"#fb9f3a\"],[0.8888888888888888,\"#fdca26\"],[1.0,\"#f0f921\"]],\"type\":\"heatmap\"}],\"heatmapgl\":[{\"colorbar\":{\"outlinewidth\":0,\"ticks\":\"\"},\"colorscale\":[[0.0,\"#0d0887\"],[0.1111111111111111,\"#46039f\"],[0.2222222222222222,\"#7201a8\"],[0.3333333333333333,\"#9c179e\"],[0.4444444444444444,\"#bd3786\"],[0.5555555555555556,\"#d8576b\"],[0.6666666666666666,\"#ed7953\"],[0.7777777777777778,\"#fb9f3a\"],[0.8888888888888888,\"#fdca26\"],[1.0,\"#f0f921\"]],\"type\":\"heatmapgl\"}],\"histogram\":[{\"marker\":{\"pattern\":{\"fillmode\":\"overlay\",\"size\":10,\"solidity\":0.2}},\"type\":\"histogram\"}],\"histogram2d\":[{\"colorbar\":{\"outlinewidth\":0,\"ticks\":\"\"},\"colorscale\":[[0.0,\"#0d0887\"],[0.1111111111111111,\"#46039f\"],[0.2222222222222222,\"#7201a8\"],[0.3333333333333333,\"#9c179e\"],[0.4444444444444444,\"#bd3786\"],[0.5555555555555556,\"#d8576b\"],[0.6666666666666666,\"#ed7953\"],[0.7777777777777778,\"#fb9f3a\"],[0.8888888888888888,\"#fdca26\"],[1.0,\"#f0f921\"]],\"type\":\"histogram2d\"}],\"histogram2dcontour\":[{\"colorbar\":{\"outlinewidth\":0,\"ticks\":\"\"},\"colorscale\":[[0.0,\"#0d0887\"],[0.1111111111111111,\"#46039f\"],[0.2222222222222222,\"#7201a8\"],[0.3333333333333333,\"#9c179e\"],[0.4444444444444444,\"#bd3786\"],[0.5555555555555556,\"#d8576b\"],[0.6666666666666666,\"#ed7953\"],[0.7777777777777778,\"#fb9f3a\"],[0.8888888888888888,\"#fdca26\"],[1.0,\"#f0f921\"]],\"type\":\"histogram2dcontour\"}],\"mesh3d\":[{\"colorbar\":{\"outlinewidth\":0,\"ticks\":\"\"},\"type\":\"mesh3d\"}],\"parcoords\":[{\"line\":{\"colorbar\":{\"outlinewidth\":0,\"ticks\":\"\"}},\"type\":\"parcoords\"}],\"pie\":[{\"automargin\":true,\"type\":\"pie\"}],\"scatter\":[{\"marker\":{\"colorbar\":{\"outlinewidth\":0,\"ticks\":\"\"}},\"type\":\"scatter\"}],\"scatter3d\":[{\"line\":{\"colorbar\":{\"outlinewidth\":0,\"ticks\":\"\"}},\"marker\":{\"colorbar\":{\"outlinewidth\":0,\"ticks\":\"\"}},\"type\":\"scatter3d\"}],\"scattercarpet\":[{\"marker\":{\"colorbar\":{\"outlinewidth\":0,\"ticks\":\"\"}},\"type\":\"scattercarpet\"}],\"scattergeo\":[{\"marker\":{\"colorbar\":{\"outlinewidth\":0,\"ticks\":\"\"}},\"type\":\"scattergeo\"}],\"scattergl\":[{\"marker\":{\"colorbar\":{\"outlinewidth\":0,\"ticks\":\"\"}},\"type\":\"scattergl\"}],\"scattermapbox\":[{\"marker\":{\"colorbar\":{\"outlinewidth\":0,\"ticks\":\"\"}},\"type\":\"scattermapbox\"}],\"scatterpolar\":[{\"marker\":{\"colorbar\":{\"outlinewidth\":0,\"ticks\":\"\"}},\"type\":\"scatterpolar\"}],\"scatterpolargl\":[{\"marker\":{\"colorbar\":{\"outlinewidth\":0,\"ticks\":\"\"}},\"type\":\"scatterpolargl\"}],\"scatterternary\":[{\"marker\":{\"colorbar\":{\"outlinewidth\":0,\"ticks\":\"\"}},\"type\":\"scatterternary\"}],\"surface\":[{\"colorbar\":{\"outlinewidth\":0,\"ticks\":\"\"},\"colorscale\":[[0.0,\"#0d0887\"],[0.1111111111111111,\"#46039f\"],[0.2222222222222222,\"#7201a8\"],[0.3333333333333333,\"#9c179e\"],[0.4444444444444444,\"#bd3786\"],[0.5555555555555556,\"#d8576b\"],[0.6666666666666666,\"#ed7953\"],[0.7777777777777778,\"#fb9f3a\"],[0.8888888888888888,\"#fdca26\"],[1.0,\"#f0f921\"]],\"type\":\"surface\"}],\"table\":[{\"cells\":{\"fill\":{\"color\":\"#EBF0F8\"},\"line\":{\"color\":\"white\"}},\"header\":{\"fill\":{\"color\":\"#C8D4E3\"},\"line\":{\"color\":\"white\"}},\"type\":\"table\"}]},\"layout\":{\"annotationdefaults\":{\"arrowcolor\":\"#2a3f5f\",\"arrowhead\":0,\"arrowwidth\":1},\"autotypenumbers\":\"strict\",\"coloraxis\":{\"colorbar\":{\"outlinewidth\":0,\"ticks\":\"\"}},\"colorscale\":{\"diverging\":[[0,\"#8e0152\"],[0.1,\"#c51b7d\"],[0.2,\"#de77ae\"],[0.3,\"#f1b6da\"],[0.4,\"#fde0ef\"],[0.5,\"#f7f7f7\"],[0.6,\"#e6f5d0\"],[0.7,\"#b8e186\"],[0.8,\"#7fbc41\"],[0.9,\"#4d9221\"],[1,\"#276419\"]],\"sequential\":[[0.0,\"#0d0887\"],[0.1111111111111111,\"#46039f\"],[0.2222222222222222,\"#7201a8\"],[0.3333333333333333,\"#9c179e\"],[0.4444444444444444,\"#bd3786\"],[0.5555555555555556,\"#d8576b\"],[0.6666666666666666,\"#ed7953\"],[0.7777777777777778,\"#fb9f3a\"],[0.8888888888888888,\"#fdca26\"],[1.0,\"#f0f921\"]],\"sequentialminus\":[[0.0,\"#0d0887\"],[0.1111111111111111,\"#46039f\"],[0.2222222222222222,\"#7201a8\"],[0.3333333333333333,\"#9c179e\"],[0.4444444444444444,\"#bd3786\"],[0.5555555555555556,\"#d8576b\"],[0.6666666666666666,\"#ed7953\"],[0.7777777777777778,\"#fb9f3a\"],[0.8888888888888888,\"#fdca26\"],[1.0,\"#f0f921\"]]},\"colorway\":[\"#636efa\",\"#EF553B\",\"#00cc96\",\"#ab63fa\",\"#FFA15A\",\"#19d3f3\",\"#FF6692\",\"#B6E880\",\"#FF97FF\",\"#FECB52\"],\"font\":{\"color\":\"#2a3f5f\"},\"geo\":{\"bgcolor\":\"white\",\"lakecolor\":\"white\",\"landcolor\":\"#E5ECF6\",\"showlakes\":true,\"showland\":true,\"subunitcolor\":\"white\"},\"hoverlabel\":{\"align\":\"left\"},\"hovermode\":\"closest\",\"mapbox\":{\"style\":\"light\"},\"paper_bgcolor\":\"white\",\"plot_bgcolor\":\"#E5ECF6\",\"polar\":{\"angularaxis\":{\"gridcolor\":\"white\",\"linecolor\":\"white\",\"ticks\":\"\"},\"bgcolor\":\"#E5ECF6\",\"radialaxis\":{\"gridcolor\":\"white\",\"linecolor\":\"white\",\"ticks\":\"\"}},\"scene\":{\"xaxis\":{\"backgroundcolor\":\"#E5ECF6\",\"gridcolor\":\"white\",\"gridwidth\":2,\"linecolor\":\"white\",\"showbackground\":true,\"ticks\":\"\",\"zerolinecolor\":\"white\"},\"yaxis\":{\"backgroundcolor\":\"#E5ECF6\",\"gridcolor\":\"white\",\"gridwidth\":2,\"linecolor\":\"white\",\"showbackground\":true,\"ticks\":\"\",\"zerolinecolor\":\"white\"},\"zaxis\":{\"backgroundcolor\":\"#E5ECF6\",\"gridcolor\":\"white\",\"gridwidth\":2,\"linecolor\":\"white\",\"showbackground\":true,\"ticks\":\"\",\"zerolinecolor\":\"white\"}},\"shapedefaults\":{\"line\":{\"color\":\"#2a3f5f\"}},\"ternary\":{\"aaxis\":{\"gridcolor\":\"white\",\"linecolor\":\"white\",\"ticks\":\"\"},\"baxis\":{\"gridcolor\":\"white\",\"linecolor\":\"white\",\"ticks\":\"\"},\"bgcolor\":\"#E5ECF6\",\"caxis\":{\"gridcolor\":\"white\",\"linecolor\":\"white\",\"ticks\":\"\"}},\"title\":{\"x\":0.05},\"xaxis\":{\"automargin\":true,\"gridcolor\":\"white\",\"linecolor\":\"white\",\"ticks\":\"\",\"title\":{\"standoff\":15},\"zerolinecolor\":\"white\",\"zerolinewidth\":2},\"yaxis\":{\"automargin\":true,\"gridcolor\":\"white\",\"linecolor\":\"white\",\"ticks\":\"\",\"title\":{\"standoff\":15},\"zerolinecolor\":\"white\",\"zerolinewidth\":2}}},\"xaxis\":{\"anchor\":\"y\",\"domain\":[0.0,1.0],\"title\":{\"text\":\"Optical\"}},\"yaxis\":{\"anchor\":\"x\",\"domain\":[0.0,1.0],\"title\":{\"text\":\"Refractive Index\"}},\"coloraxis\":{\"colorbar\":{\"title\":{\"text\":\"count\"}},\"colorscale\":[[0.0,\"#440154\"],[0.1111111111111111,\"#482878\"],[0.2222222222222222,\"#3e4989\"],[0.3333333333333333,\"#31688e\"],[0.4444444444444444,\"#26828e\"],[0.5555555555555556,\"#1f9e89\"],[0.6666666666666666,\"#35b779\"],[0.7777777777777778,\"#6ece58\"],[0.8888888888888888,\"#b5de2b\"],[1.0,\"#fde725\"]]},\"legend\":{\"tracegroupgap\":0},\"margin\":{\"t\":60}},                        {\"responsive\": true}                    ).then(function(){\n                            \nvar gd = document.getElementById('ea562bdb-e001-48d3-9649-a08b1f160102');\nvar x = new MutationObserver(function (mutations, observer) {{\n        var display = window.getComputedStyle(gd).display;\n        if (!display || display === 'none') {{\n            console.log([gd, 'removed!']);\n            Plotly.purge(gd);\n            observer.disconnect();\n        }}\n}});\n\n// Listen for the removal of the full notebook cells\nvar notebookContainer = gd.closest('#notebook-container');\nif (notebookContainer) {{\n    x.observe(notebookContainer, {childList: true});\n}}\n\n// Listen for the clearing of the current output cell\nvar outputEl = gd.closest('.output');\nif (outputEl) {{\n    x.observe(outputEl, {childList: true});\n}}\n\n                        })                };                            </script>        </div>\n</body>\n</html>"
     },
     "execution_count": 33,
     "metadata": {
     },
     "output_type": "execute_result"
    }
   ],
   "source": [
    "fig = px.density_heatmap(minerals_database, x='Optical', y='Refractive Index', nbinsx=10, nbinsy=10, color_continuous_scale=\"Viridis\")\n",
    "fig.show()"
   ]
  },
  {
   "cell_type": "code",
   "execution_count": 9,
   "metadata": {
    "collapsed": false,
    "scrolled": true
   },
   "outputs": [
    {
     "data": {
      "text/html": [
       "<div>\n",
       "<style scoped>\n",
       "    .dataframe tbody tr th:only-of-type {\n",
       "        vertical-align: middle;\n",
       "    }\n",
       "\n",
       "    .dataframe tbody tr th {\n",
       "        vertical-align: top;\n",
       "    }\n",
       "\n",
       "    .dataframe thead th {\n",
       "        text-align: right;\n",
       "    }\n",
       "</style>\n",
       "<table border=\"1\" class=\"dataframe\">\n",
       "  <thead>\n",
       "    <tr style=\"text-align: right;\">\n",
       "      <th></th>\n",
       "      <th>name</th>\n",
       "      <th>state</th>\n",
       "      <th>state_code</th>\n",
       "      <th>type</th>\n",
       "      <th>degree_length</th>\n",
       "      <th>room_and_board</th>\n",
       "      <th>in_state_tuition</th>\n",
       "      <th>in_state_total</th>\n",
       "      <th>out_of_state_tuition</th>\n",
       "      <th>out_of_state_total</th>\n",
       "    </tr>\n",
       "  </thead>\n",
       "  <tbody>\n",
       "    <tr>\n",
       "      <th>61</th>\n",
       "      <td>American Samoa Community College</td>\n",
       "      <td>NaN</td>\n",
       "      <td>AS</td>\n",
       "      <td>Public</td>\n",
       "      <td>2 Year</td>\n",
       "      <td>NaN</td>\n",
       "      <td>3700</td>\n",
       "      <td>3700</td>\n",
       "      <td>3700</td>\n",
       "      <td>3700</td>\n",
       "    </tr>\n",
       "    <tr>\n",
       "      <th>62</th>\n",
       "      <td>American University</td>\n",
       "      <td>NaN</td>\n",
       "      <td>DC</td>\n",
       "      <td>Private</td>\n",
       "      <td>4 Year</td>\n",
       "      <td>14880.0</td>\n",
       "      <td>48459</td>\n",
       "      <td>63339</td>\n",
       "      <td>48459</td>\n",
       "      <td>63339</td>\n",
       "    </tr>\n",
       "    <tr>\n",
       "      <th>63</th>\n",
       "      <td>American University of Puerto Rico</td>\n",
       "      <td>NaN</td>\n",
       "      <td>PR</td>\n",
       "      <td>Private</td>\n",
       "      <td>4 Year</td>\n",
       "      <td>NaN</td>\n",
       "      <td>6946</td>\n",
       "      <td>6946</td>\n",
       "      <td>6946</td>\n",
       "      <td>6946</td>\n",
       "    </tr>\n",
       "    <tr>\n",
       "      <th>124</th>\n",
       "      <td>Atlantic University College</td>\n",
       "      <td>NaN</td>\n",
       "      <td>PR</td>\n",
       "      <td>Private</td>\n",
       "      <td>4 Year</td>\n",
       "      <td>NaN</td>\n",
       "      <td>4525</td>\n",
       "      <td>4525</td>\n",
       "      <td>4525</td>\n",
       "      <td>4525</td>\n",
       "    </tr>\n",
       "    <tr>\n",
       "      <th>169</th>\n",
       "      <td>Bayamon Central University</td>\n",
       "      <td>NaN</td>\n",
       "      <td>PR</td>\n",
       "      <td>Private</td>\n",
       "      <td>4 Year</td>\n",
       "      <td>NaN</td>\n",
       "      <td>5775</td>\n",
       "      <td>5775</td>\n",
       "      <td>5775</td>\n",
       "      <td>5775</td>\n",
       "    </tr>\n",
       "    <tr>\n",
       "      <th>349</th>\n",
       "      <td>Caribbean University</td>\n",
       "      <td>NaN</td>\n",
       "      <td>PR</td>\n",
       "      <td>Private</td>\n",
       "      <td>4 Year</td>\n",
       "      <td>NaN</td>\n",
       "      <td>6570</td>\n",
       "      <td>6570</td>\n",
       "      <td>6570</td>\n",
       "      <td>6570</td>\n",
       "    </tr>\n",
       "    <tr>\n",
       "      <th>354</th>\n",
       "      <td>Carlos Albizu University: San Juan</td>\n",
       "      <td>NaN</td>\n",
       "      <td>PR</td>\n",
       "      <td>Private</td>\n",
       "      <td>4 Year</td>\n",
       "      <td>NaN</td>\n",
       "      <td>5912</td>\n",
       "      <td>5912</td>\n",
       "      <td>5912</td>\n",
       "      <td>5912</td>\n",
       "    </tr>\n",
       "    <tr>\n",
       "      <th>372</th>\n",
       "      <td>Catholic University of America</td>\n",
       "      <td>NaN</td>\n",
       "      <td>DC</td>\n",
       "      <td>Private</td>\n",
       "      <td>4 Year</td>\n",
       "      <td>14650.0</td>\n",
       "      <td>45804</td>\n",
       "      <td>60454</td>\n",
       "      <td>45804</td>\n",
       "      <td>60454</td>\n",
       "    </tr>\n",
       "    <tr>\n",
       "      <th>576</th>\n",
       "      <td>Columbia Central University: Yauco</td>\n",
       "      <td>NaN</td>\n",
       "      <td>PR</td>\n",
       "      <td>For Profit</td>\n",
       "      <td>2 Year</td>\n",
       "      <td>NaN</td>\n",
       "      <td>6420</td>\n",
       "      <td>6420</td>\n",
       "      <td>6420</td>\n",
       "      <td>6420</td>\n",
       "    </tr>\n",
       "    <tr>\n",
       "      <th>618</th>\n",
       "      <td>Conservatory of Music of Puerto Rico</td>\n",
       "      <td>NaN</td>\n",
       "      <td>PR</td>\n",
       "      <td>Public</td>\n",
       "      <td>4 Year</td>\n",
       "      <td>NaN</td>\n",
       "      <td>4000</td>\n",
       "      <td>4000</td>\n",
       "      <td>4000</td>\n",
       "      <td>4000</td>\n",
       "    </tr>\n",
       "    <tr>\n",
       "      <th>764</th>\n",
       "      <td>EDIC College</td>\n",
       "      <td>NaN</td>\n",
       "      <td>PR</td>\n",
       "      <td>For Profit</td>\n",
       "      <td>2 Year</td>\n",
       "      <td>NaN</td>\n",
       "      <td>7065</td>\n",
       "      <td>7065</td>\n",
       "      <td>7065</td>\n",
       "      <td>7065</td>\n",
       "    </tr>\n",
       "    <tr>\n",
       "      <th>768</th>\n",
       "      <td>EDP University of Puerto Rico: San Sebastian</td>\n",
       "      <td>NaN</td>\n",
       "      <td>PR</td>\n",
       "      <td>For Profit</td>\n",
       "      <td>4 Year</td>\n",
       "      <td>NaN</td>\n",
       "      <td>5940</td>\n",
       "      <td>5940</td>\n",
       "      <td>5940</td>\n",
       "      <td>5940</td>\n",
       "    </tr>\n",
       "    <tr>\n",
       "      <th>799</th>\n",
       "      <td>Escuela de Artes Plasticas de Puerto Rico</td>\n",
       "      <td>NaN</td>\n",
       "      <td>PR</td>\n",
       "      <td>Public</td>\n",
       "      <td>4 Year</td>\n",
       "      <td>NaN</td>\n",
       "      <td>4002</td>\n",
       "      <td>4002</td>\n",
       "      <td>6702</td>\n",
       "      <td>6702</td>\n",
       "    </tr>\n",
       "    <tr>\n",
       "      <th>882</th>\n",
       "      <td>Gallaudet University</td>\n",
       "      <td>NaN</td>\n",
       "      <td>DC</td>\n",
       "      <td>Private</td>\n",
       "      <td>4 Year</td>\n",
       "      <td>14100.0</td>\n",
       "      <td>17038</td>\n",
       "      <td>31138</td>\n",
       "      <td>17038</td>\n",
       "      <td>31138</td>\n",
       "    </tr>\n",
       "    <tr>\n",
       "      <th>900</th>\n",
       "      <td>George Washington University</td>\n",
       "      <td>NaN</td>\n",
       "      <td>DC</td>\n",
       "      <td>Private</td>\n",
       "      <td>4 Year</td>\n",
       "      <td>13850.0</td>\n",
       "      <td>55230</td>\n",
       "      <td>69080</td>\n",
       "      <td>55230</td>\n",
       "      <td>69080</td>\n",
       "    </tr>\n",
       "    <tr>\n",
       "      <th>902</th>\n",
       "      <td>Georgetown University</td>\n",
       "      <td>NaN</td>\n",
       "      <td>DC</td>\n",
       "      <td>Private</td>\n",
       "      <td>4 Year</td>\n",
       "      <td>16509.0</td>\n",
       "      <td>54104</td>\n",
       "      <td>70613</td>\n",
       "      <td>54104</td>\n",
       "      <td>70613</td>\n",
       "    </tr>\n",
       "    <tr>\n",
       "      <th>964</th>\n",
       "      <td>Guam Community College</td>\n",
       "      <td>NaN</td>\n",
       "      <td>GU</td>\n",
       "      <td>Public</td>\n",
       "      <td>2 Year</td>\n",
       "      <td>NaN</td>\n",
       "      <td>4194</td>\n",
       "      <td>4194</td>\n",
       "      <td>4944</td>\n",
       "      <td>4944</td>\n",
       "    </tr>\n",
       "    <tr>\n",
       "      <th>1056</th>\n",
       "      <td>Howard University</td>\n",
       "      <td>NaN</td>\n",
       "      <td>DC</td>\n",
       "      <td>Private</td>\n",
       "      <td>4 Year</td>\n",
       "      <td>13895.0</td>\n",
       "      <td>27056</td>\n",
       "      <td>40951</td>\n",
       "      <td>27056</td>\n",
       "      <td>40951</td>\n",
       "    </tr>\n",
       "    <tr>\n",
       "      <th>1059</th>\n",
       "      <td>Huertas College</td>\n",
       "      <td>NaN</td>\n",
       "      <td>PR</td>\n",
       "      <td>For Profit</td>\n",
       "      <td>2 Year</td>\n",
       "      <td>NaN</td>\n",
       "      <td>6635</td>\n",
       "      <td>6635</td>\n",
       "      <td>6635</td>\n",
       "      <td>6635</td>\n",
       "    </tr>\n",
       "    <tr>\n",
       "      <th>1061</th>\n",
       "      <td>Humacao Community College</td>\n",
       "      <td>NaN</td>\n",
       "      <td>PR</td>\n",
       "      <td>Private</td>\n",
       "      <td>2 Year</td>\n",
       "      <td>3000.0</td>\n",
       "      <td>5382</td>\n",
       "      <td>8382</td>\n",
       "      <td>5382</td>\n",
       "      <td>8382</td>\n",
       "    </tr>\n",
       "    <tr>\n",
       "      <th>1073</th>\n",
       "      <td>ICPR Junior College</td>\n",
       "      <td>NaN</td>\n",
       "      <td>PR</td>\n",
       "      <td>For Profit</td>\n",
       "      <td>2 Year</td>\n",
       "      <td>4000.0</td>\n",
       "      <td>7010</td>\n",
       "      <td>11010</td>\n",
       "      <td>7010</td>\n",
       "      <td>11010</td>\n",
       "    </tr>\n",
       "    <tr>\n",
       "      <th>1103</th>\n",
       "      <td>Inter American University of Puerto Rico: Agua...</td>\n",
       "      <td>NaN</td>\n",
       "      <td>PR</td>\n",
       "      <td>Private</td>\n",
       "      <td>4 Year</td>\n",
       "      <td>NaN</td>\n",
       "      <td>6262</td>\n",
       "      <td>6262</td>\n",
       "      <td>6262</td>\n",
       "      <td>6262</td>\n",
       "    </tr>\n",
       "    <tr>\n",
       "      <th>1104</th>\n",
       "      <td>Inter American University of Puerto Rico: Arec...</td>\n",
       "      <td>NaN</td>\n",
       "      <td>PR</td>\n",
       "      <td>Private</td>\n",
       "      <td>4 Year</td>\n",
       "      <td>NaN</td>\n",
       "      <td>6452</td>\n",
       "      <td>6452</td>\n",
       "      <td>6452</td>\n",
       "      <td>6452</td>\n",
       "    </tr>\n",
       "    <tr>\n",
       "      <th>1105</th>\n",
       "      <td>Inter American University of Puerto Rico: Barr...</td>\n",
       "      <td>NaN</td>\n",
       "      <td>PR</td>\n",
       "      <td>Private</td>\n",
       "      <td>4 Year</td>\n",
       "      <td>NaN</td>\n",
       "      <td>6262</td>\n",
       "      <td>6262</td>\n",
       "      <td>6262</td>\n",
       "      <td>6262</td>\n",
       "    </tr>\n",
       "    <tr>\n",
       "      <th>1106</th>\n",
       "      <td>Inter American University of Puerto Rico: Baya...</td>\n",
       "      <td>NaN</td>\n",
       "      <td>PR</td>\n",
       "      <td>Private</td>\n",
       "      <td>4 Year</td>\n",
       "      <td>7993.0</td>\n",
       "      <td>5898</td>\n",
       "      <td>13891</td>\n",
       "      <td>5898</td>\n",
       "      <td>13891</td>\n",
       "    </tr>\n",
       "    <tr>\n",
       "      <th>1107</th>\n",
       "      <td>Inter American University of Puerto Rico: Faja...</td>\n",
       "      <td>NaN</td>\n",
       "      <td>PR</td>\n",
       "      <td>Private</td>\n",
       "      <td>4 Year</td>\n",
       "      <td>NaN</td>\n",
       "      <td>5898</td>\n",
       "      <td>5898</td>\n",
       "      <td>5898</td>\n",
       "      <td>5898</td>\n",
       "    </tr>\n",
       "    <tr>\n",
       "      <th>1108</th>\n",
       "      <td>Inter American University of Puerto Rico: Guay...</td>\n",
       "      <td>NaN</td>\n",
       "      <td>PR</td>\n",
       "      <td>Private</td>\n",
       "      <td>4 Year</td>\n",
       "      <td>NaN</td>\n",
       "      <td>6452</td>\n",
       "      <td>6452</td>\n",
       "      <td>6452</td>\n",
       "      <td>6452</td>\n",
       "    </tr>\n",
       "    <tr>\n",
       "      <th>1109</th>\n",
       "      <td>Inter American University of Puerto Rico: Metr...</td>\n",
       "      <td>NaN</td>\n",
       "      <td>PR</td>\n",
       "      <td>Private</td>\n",
       "      <td>4 Year</td>\n",
       "      <td>NaN</td>\n",
       "      <td>7476</td>\n",
       "      <td>7476</td>\n",
       "      <td>7476</td>\n",
       "      <td>7476</td>\n",
       "    </tr>\n",
       "    <tr>\n",
       "      <th>1110</th>\n",
       "      <td>Inter American University of Puerto Rico: Ponc...</td>\n",
       "      <td>NaN</td>\n",
       "      <td>PR</td>\n",
       "      <td>Private</td>\n",
       "      <td>4 Year</td>\n",
       "      <td>NaN</td>\n",
       "      <td>5220</td>\n",
       "      <td>5220</td>\n",
       "      <td>5220</td>\n",
       "      <td>5220</td>\n",
       "    </tr>\n",
       "    <tr>\n",
       "      <th>1111</th>\n",
       "      <td>Inter American University of Puerto Rico: San ...</td>\n",
       "      <td>NaN</td>\n",
       "      <td>PR</td>\n",
       "      <td>Private</td>\n",
       "      <td>4 Year</td>\n",
       "      <td>3900.0</td>\n",
       "      <td>5976</td>\n",
       "      <td>9876</td>\n",
       "      <td>5976</td>\n",
       "      <td>9876</td>\n",
       "    </tr>\n",
       "    <tr>\n",
       "      <th>1915</th>\n",
       "      <td>Pontifical Catholic University of Puerto Rico</td>\n",
       "      <td>NaN</td>\n",
       "      <td>PR</td>\n",
       "      <td>Private</td>\n",
       "      <td>4 Year</td>\n",
       "      <td>1374.0</td>\n",
       "      <td>5490</td>\n",
       "      <td>6864</td>\n",
       "      <td>5490</td>\n",
       "      <td>6864</td>\n",
       "    </tr>\n",
       "    <tr>\n",
       "      <th>2445</th>\n",
       "      <td>Trinity Washington University</td>\n",
       "      <td>NaN</td>\n",
       "      <td>DC</td>\n",
       "      <td>Private</td>\n",
       "      <td>4 Year</td>\n",
       "      <td>11160.0</td>\n",
       "      <td>24150</td>\n",
       "      <td>35310</td>\n",
       "      <td>24150</td>\n",
       "      <td>35310</td>\n",
       "    </tr>\n",
       "    <tr>\n",
       "      <th>2456</th>\n",
       "      <td>Turabo University</td>\n",
       "      <td>NaN</td>\n",
       "      <td>PR</td>\n",
       "      <td>Private</td>\n",
       "      <td>4 Year</td>\n",
       "      <td>NaN</td>\n",
       "      <td>7050</td>\n",
       "      <td>7050</td>\n",
       "      <td>7050</td>\n",
       "      <td>7050</td>\n",
       "    </tr>\n",
       "    <tr>\n",
       "      <th>2473</th>\n",
       "      <td>Universal Technology College of Puerto Rico</td>\n",
       "      <td>NaN</td>\n",
       "      <td>PR</td>\n",
       "      <td>Private</td>\n",
       "      <td>2 Year</td>\n",
       "      <td>NaN</td>\n",
       "      <td>18000</td>\n",
       "      <td>18000</td>\n",
       "      <td>18000</td>\n",
       "      <td>18000</td>\n",
       "    </tr>\n",
       "    <tr>\n",
       "      <th>2474</th>\n",
       "      <td>Universidad Adventista de las Antillas</td>\n",
       "      <td>NaN</td>\n",
       "      <td>PR</td>\n",
       "      <td>Private</td>\n",
       "      <td>4 Year</td>\n",
       "      <td>6400.0</td>\n",
       "      <td>6570</td>\n",
       "      <td>12970</td>\n",
       "      <td>6570</td>\n",
       "      <td>12970</td>\n",
       "    </tr>\n",
       "    <tr>\n",
       "      <th>2475</th>\n",
       "      <td>Universidad del Este</td>\n",
       "      <td>NaN</td>\n",
       "      <td>PR</td>\n",
       "      <td>Private</td>\n",
       "      <td>4 Year</td>\n",
       "      <td>NaN</td>\n",
       "      <td>6330</td>\n",
       "      <td>6330</td>\n",
       "      <td>6330</td>\n",
       "      <td>6330</td>\n",
       "    </tr>\n",
       "    <tr>\n",
       "      <th>2476</th>\n",
       "      <td>Universidad Metropolitana</td>\n",
       "      <td>NaN</td>\n",
       "      <td>PR</td>\n",
       "      <td>Private</td>\n",
       "      <td>4 Year</td>\n",
       "      <td>NaN</td>\n",
       "      <td>7050</td>\n",
       "      <td>7050</td>\n",
       "      <td>7050</td>\n",
       "      <td>7050</td>\n",
       "    </tr>\n",
       "    <tr>\n",
       "      <th>2477</th>\n",
       "      <td>Universidad Pentecostal Mizpa</td>\n",
       "      <td>NaN</td>\n",
       "      <td>PR</td>\n",
       "      <td>Private</td>\n",
       "      <td>4 Year</td>\n",
       "      <td>3760.0</td>\n",
       "      <td>4120</td>\n",
       "      <td>7880</td>\n",
       "      <td>4120</td>\n",
       "      <td>7880</td>\n",
       "    </tr>\n",
       "    <tr>\n",
       "      <th>2478</th>\n",
       "      <td>Universidad Politecnica de Puerto Rico</td>\n",
       "      <td>NaN</td>\n",
       "      <td>PR</td>\n",
       "      <td>Private</td>\n",
       "      <td>4 Year</td>\n",
       "      <td>4950.0</td>\n",
       "      <td>8610</td>\n",
       "      <td>13560</td>\n",
       "      <td>8610</td>\n",
       "      <td>13560</td>\n",
       "    </tr>\n",
       "    <tr>\n",
       "      <th>2479</th>\n",
       "      <td>University College of San Juan</td>\n",
       "      <td>NaN</td>\n",
       "      <td>PR</td>\n",
       "      <td>Public</td>\n",
       "      <td>4 Year</td>\n",
       "      <td>NaN</td>\n",
       "      <td>2370</td>\n",
       "      <td>2370</td>\n",
       "      <td>2370</td>\n",
       "      <td>2370</td>\n",
       "    </tr>\n",
       "    <tr>\n",
       "      <th>2647</th>\n",
       "      <td>University of Puerto Rico: Aguadilla</td>\n",
       "      <td>NaN</td>\n",
       "      <td>PR</td>\n",
       "      <td>Public</td>\n",
       "      <td>4 Year</td>\n",
       "      <td>NaN</td>\n",
       "      <td>3594</td>\n",
       "      <td>3594</td>\n",
       "      <td>3594</td>\n",
       "      <td>3594</td>\n",
       "    </tr>\n",
       "    <tr>\n",
       "      <th>2648</th>\n",
       "      <td>University of Puerto Rico: Arecibo</td>\n",
       "      <td>NaN</td>\n",
       "      <td>PR</td>\n",
       "      <td>Public</td>\n",
       "      <td>4 Year</td>\n",
       "      <td>NaN</td>\n",
       "      <td>1769</td>\n",
       "      <td>1769</td>\n",
       "      <td>1987</td>\n",
       "      <td>1987</td>\n",
       "    </tr>\n",
       "    <tr>\n",
       "      <th>2649</th>\n",
       "      <td>University of Puerto Rico: Bayamon University ...</td>\n",
       "      <td>NaN</td>\n",
       "      <td>PR</td>\n",
       "      <td>Public</td>\n",
       "      <td>4 Year</td>\n",
       "      <td>NaN</td>\n",
       "      <td>2022</td>\n",
       "      <td>2022</td>\n",
       "      <td>2022</td>\n",
       "      <td>2022</td>\n",
       "    </tr>\n",
       "    <tr>\n",
       "      <th>2650</th>\n",
       "      <td>University of Puerto Rico: Carolina Regional C...</td>\n",
       "      <td>NaN</td>\n",
       "      <td>PR</td>\n",
       "      <td>Public</td>\n",
       "      <td>4 Year</td>\n",
       "      <td>NaN</td>\n",
       "      <td>6116</td>\n",
       "      <td>6116</td>\n",
       "      <td>6116</td>\n",
       "      <td>6116</td>\n",
       "    </tr>\n",
       "    <tr>\n",
       "      <th>2651</th>\n",
       "      <td>University of Puerto Rico: Humacao</td>\n",
       "      <td>NaN</td>\n",
       "      <td>PR</td>\n",
       "      <td>Public</td>\n",
       "      <td>4 Year</td>\n",
       "      <td>NaN</td>\n",
       "      <td>1794</td>\n",
       "      <td>1794</td>\n",
       "      <td>1794</td>\n",
       "      <td>1794</td>\n",
       "    </tr>\n",
       "    <tr>\n",
       "      <th>2652</th>\n",
       "      <td>University of Puerto Rico: Mayaguez</td>\n",
       "      <td>NaN</td>\n",
       "      <td>PR</td>\n",
       "      <td>Public</td>\n",
       "      <td>4 Year</td>\n",
       "      <td>NaN</td>\n",
       "      <td>2083</td>\n",
       "      <td>2083</td>\n",
       "      <td>4105</td>\n",
       "      <td>4105</td>\n",
       "    </tr>\n",
       "    <tr>\n",
       "      <th>2653</th>\n",
       "      <td>University of Puerto Rico: Medical Sciences</td>\n",
       "      <td>NaN</td>\n",
       "      <td>PR</td>\n",
       "      <td>Public</td>\n",
       "      <td>4 Year</td>\n",
       "      <td>NaN</td>\n",
       "      <td>2196</td>\n",
       "      <td>2196</td>\n",
       "      <td>2196</td>\n",
       "      <td>2196</td>\n",
       "    </tr>\n",
       "    <tr>\n",
       "      <th>2654</th>\n",
       "      <td>University of Puerto Rico: Ponce</td>\n",
       "      <td>NaN</td>\n",
       "      <td>PR</td>\n",
       "      <td>Public</td>\n",
       "      <td>4 Year</td>\n",
       "      <td>NaN</td>\n",
       "      <td>2261</td>\n",
       "      <td>2261</td>\n",
       "      <td>2261</td>\n",
       "      <td>2261</td>\n",
       "    </tr>\n",
       "    <tr>\n",
       "      <th>2655</th>\n",
       "      <td>University of Puerto Rico: Rio Piedras</td>\n",
       "      <td>NaN</td>\n",
       "      <td>PR</td>\n",
       "      <td>Public</td>\n",
       "      <td>4 Year</td>\n",
       "      <td>8751.0</td>\n",
       "      <td>3624</td>\n",
       "      <td>12375</td>\n",
       "      <td>5349</td>\n",
       "      <td>14100</td>\n",
       "    </tr>\n",
       "    <tr>\n",
       "      <th>2656</th>\n",
       "      <td>University of Puerto Rico: Utuado</td>\n",
       "      <td>NaN</td>\n",
       "      <td>PR</td>\n",
       "      <td>Public</td>\n",
       "      <td>4 Year</td>\n",
       "      <td>NaN</td>\n",
       "      <td>2266</td>\n",
       "      <td>2266</td>\n",
       "      <td>4287</td>\n",
       "      <td>4287</td>\n",
       "    </tr>\n",
       "    <tr>\n",
       "      <th>2707</th>\n",
       "      <td>University of the District of Columbia</td>\n",
       "      <td>NaN</td>\n",
       "      <td>DC</td>\n",
       "      <td>Public</td>\n",
       "      <td>4 Year</td>\n",
       "      <td>16425.0</td>\n",
       "      <td>8252</td>\n",
       "      <td>24677</td>\n",
       "      <td>16388</td>\n",
       "      <td>32813</td>\n",
       "    </tr>\n",
       "    <tr>\n",
       "      <th>2713</th>\n",
       "      <td>University of the Virgin Islands</td>\n",
       "      <td>NaN</td>\n",
       "      <td>VI</td>\n",
       "      <td>Public</td>\n",
       "      <td>4 Year</td>\n",
       "      <td>9900.0</td>\n",
       "      <td>5235</td>\n",
       "      <td>15135</td>\n",
       "      <td>14496</td>\n",
       "      <td>24396</td>\n",
       "    </tr>\n",
       "  </tbody>\n",
       "</table>\n",
       "</div>"
      ],
      "text/plain": [
       "                                                   name state state_code  \\\n",
       "61                     American Samoa Community College   NaN         AS   \n",
       "62                                  American University   NaN         DC   \n",
       "63                   American University of Puerto Rico   NaN         PR   \n",
       "124                         Atlantic University College   NaN         PR   \n",
       "169                          Bayamon Central University   NaN         PR   \n",
       "349                                Caribbean University   NaN         PR   \n",
       "354                  Carlos Albizu University: San Juan   NaN         PR   \n",
       "372                      Catholic University of America   NaN         DC   \n",
       "576                  Columbia Central University: Yauco   NaN         PR   \n",
       "618                Conservatory of Music of Puerto Rico   NaN         PR   \n",
       "764                                        EDIC College   NaN         PR   \n",
       "768        EDP University of Puerto Rico: San Sebastian   NaN         PR   \n",
       "799           Escuela de Artes Plasticas de Puerto Rico   NaN         PR   \n",
       "882                                Gallaudet University   NaN         DC   \n",
       "900                        George Washington University   NaN         DC   \n",
       "902                               Georgetown University   NaN         DC   \n",
       "964                              Guam Community College   NaN         GU   \n",
       "1056                                  Howard University   NaN         DC   \n",
       "1059                                    Huertas College   NaN         PR   \n",
       "1061                          Humacao Community College   NaN         PR   \n",
       "1073                                ICPR Junior College   NaN         PR   \n",
       "1103  Inter American University of Puerto Rico: Agua...   NaN         PR   \n",
       "1104  Inter American University of Puerto Rico: Arec...   NaN         PR   \n",
       "1105  Inter American University of Puerto Rico: Barr...   NaN         PR   \n",
       "1106  Inter American University of Puerto Rico: Baya...   NaN         PR   \n",
       "1107  Inter American University of Puerto Rico: Faja...   NaN         PR   \n",
       "1108  Inter American University of Puerto Rico: Guay...   NaN         PR   \n",
       "1109  Inter American University of Puerto Rico: Metr...   NaN         PR   \n",
       "1110  Inter American University of Puerto Rico: Ponc...   NaN         PR   \n",
       "1111  Inter American University of Puerto Rico: San ...   NaN         PR   \n",
       "1915      Pontifical Catholic University of Puerto Rico   NaN         PR   \n",
       "2445                      Trinity Washington University   NaN         DC   \n",
       "2456                                  Turabo University   NaN         PR   \n",
       "2473        Universal Technology College of Puerto Rico   NaN         PR   \n",
       "2474             Universidad Adventista de las Antillas   NaN         PR   \n",
       "2475                               Universidad del Este   NaN         PR   \n",
       "2476                          Universidad Metropolitana   NaN         PR   \n",
       "2477                      Universidad Pentecostal Mizpa   NaN         PR   \n",
       "2478             Universidad Politecnica de Puerto Rico   NaN         PR   \n",
       "2479                     University College of San Juan   NaN         PR   \n",
       "2647               University of Puerto Rico: Aguadilla   NaN         PR   \n",
       "2648                 University of Puerto Rico: Arecibo   NaN         PR   \n",
       "2649  University of Puerto Rico: Bayamon University ...   NaN         PR   \n",
       "2650  University of Puerto Rico: Carolina Regional C...   NaN         PR   \n",
       "2651                 University of Puerto Rico: Humacao   NaN         PR   \n",
       "2652                University of Puerto Rico: Mayaguez   NaN         PR   \n",
       "2653        University of Puerto Rico: Medical Sciences   NaN         PR   \n",
       "2654                   University of Puerto Rico: Ponce   NaN         PR   \n",
       "2655             University of Puerto Rico: Rio Piedras   NaN         PR   \n",
       "2656                  University of Puerto Rico: Utuado   NaN         PR   \n",
       "2707             University of the District of Columbia   NaN         DC   \n",
       "2713                   University of the Virgin Islands   NaN         VI   \n",
       "\n",
       "            type degree_length  room_and_board  in_state_tuition  \\\n",
       "61        Public        2 Year             NaN              3700   \n",
       "62       Private        4 Year         14880.0             48459   \n",
       "63       Private        4 Year             NaN              6946   \n",
       "124      Private        4 Year             NaN              4525   \n",
       "169      Private        4 Year             NaN              5775   \n",
       "349      Private        4 Year             NaN              6570   \n",
       "354      Private        4 Year             NaN              5912   \n",
       "372      Private        4 Year         14650.0             45804   \n",
       "576   For Profit        2 Year             NaN              6420   \n",
       "618       Public        4 Year             NaN              4000   \n",
       "764   For Profit        2 Year             NaN              7065   \n",
       "768   For Profit        4 Year             NaN              5940   \n",
       "799       Public        4 Year             NaN              4002   \n",
       "882      Private        4 Year         14100.0             17038   \n",
       "900      Private        4 Year         13850.0             55230   \n",
       "902      Private        4 Year         16509.0             54104   \n",
       "964       Public        2 Year             NaN              4194   \n",
       "1056     Private        4 Year         13895.0             27056   \n",
       "1059  For Profit        2 Year             NaN              6635   \n",
       "1061     Private        2 Year          3000.0              5382   \n",
       "1073  For Profit        2 Year          4000.0              7010   \n",
       "1103     Private        4 Year             NaN              6262   \n",
       "1104     Private        4 Year             NaN              6452   \n",
       "1105     Private        4 Year             NaN              6262   \n",
       "1106     Private        4 Year          7993.0              5898   \n",
       "1107     Private        4 Year             NaN              5898   \n",
       "1108     Private        4 Year             NaN              6452   \n",
       "1109     Private        4 Year             NaN              7476   \n",
       "1110     Private        4 Year             NaN              5220   \n",
       "1111     Private        4 Year          3900.0              5976   \n",
       "1915     Private        4 Year          1374.0              5490   \n",
       "2445     Private        4 Year         11160.0             24150   \n",
       "2456     Private        4 Year             NaN              7050   \n",
       "2473     Private        2 Year             NaN             18000   \n",
       "2474     Private        4 Year          6400.0              6570   \n",
       "2475     Private        4 Year             NaN              6330   \n",
       "2476     Private        4 Year             NaN              7050   \n",
       "2477     Private        4 Year          3760.0              4120   \n",
       "2478     Private        4 Year          4950.0              8610   \n",
       "2479      Public        4 Year             NaN              2370   \n",
       "2647      Public        4 Year             NaN              3594   \n",
       "2648      Public        4 Year             NaN              1769   \n",
       "2649      Public        4 Year             NaN              2022   \n",
       "2650      Public        4 Year             NaN              6116   \n",
       "2651      Public        4 Year             NaN              1794   \n",
       "2652      Public        4 Year             NaN              2083   \n",
       "2653      Public        4 Year             NaN              2196   \n",
       "2654      Public        4 Year             NaN              2261   \n",
       "2655      Public        4 Year          8751.0              3624   \n",
       "2656      Public        4 Year             NaN              2266   \n",
       "2707      Public        4 Year         16425.0              8252   \n",
       "2713      Public        4 Year          9900.0              5235   \n",
       "\n",
       "      in_state_total  out_of_state_tuition  out_of_state_total  \n",
       "61              3700                  3700                3700  \n",
       "62             63339                 48459               63339  \n",
       "63              6946                  6946                6946  \n",
       "124             4525                  4525                4525  \n",
       "169             5775                  5775                5775  \n",
       "349             6570                  6570                6570  \n",
       "354             5912                  5912                5912  \n",
       "372            60454                 45804               60454  \n",
       "576             6420                  6420                6420  \n",
       "618             4000                  4000                4000  \n",
       "764             7065                  7065                7065  \n",
       "768             5940                  5940                5940  \n",
       "799             4002                  6702                6702  \n",
       "882            31138                 17038               31138  \n",
       "900            69080                 55230               69080  \n",
       "902            70613                 54104               70613  \n",
       "964             4194                  4944                4944  \n",
       "1056           40951                 27056               40951  \n",
       "1059            6635                  6635                6635  \n",
       "1061            8382                  5382                8382  \n",
       "1073           11010                  7010               11010  \n",
       "1103            6262                  6262                6262  \n",
       "1104            6452                  6452                6452  \n",
       "1105            6262                  6262                6262  \n",
       "1106           13891                  5898               13891  \n",
       "1107            5898                  5898                5898  \n",
       "1108            6452                  6452                6452  \n",
       "1109            7476                  7476                7476  \n",
       "1110            5220                  5220                5220  \n",
       "1111            9876                  5976                9876  \n",
       "1915            6864                  5490                6864  \n",
       "2445           35310                 24150               35310  \n",
       "2456            7050                  7050                7050  \n",
       "2473           18000                 18000               18000  \n",
       "2474           12970                  6570               12970  \n",
       "2475            6330                  6330                6330  \n",
       "2476            7050                  7050                7050  \n",
       "2477            7880                  4120                7880  \n",
       "2478           13560                  8610               13560  \n",
       "2479            2370                  2370                2370  \n",
       "2647            3594                  3594                3594  \n",
       "2648            1769                  1987                1987  \n",
       "2649            2022                  2022                2022  \n",
       "2650            6116                  6116                6116  \n",
       "2651            1794                  1794                1794  \n",
       "2652            2083                  4105                4105  \n",
       "2653            2196                  2196                2196  \n",
       "2654            2261                  2261                2261  \n",
       "2655           12375                  5349               14100  \n",
       "2656            2266                  4287                4287  \n",
       "2707           24677                 16388               32813  \n",
       "2713           15135                 14496               24396  "
      ]
     },
     "execution_count": 9,
     "metadata": {
     },
     "output_type": "execute_result"
    }
   ],
   "source": [
    "tuition[tuition['state'].isnull()] # null is the value for an empty variable"
   ]
  },
  {
   "cell_type": "code",
   "execution_count": 10,
   "metadata": {
    "collapsed": false
   },
   "outputs": [
    {
     "data": {
      "text/plain": [
       "array(['AS', 'DC', 'PR', 'GU', 'VI'], dtype=object)"
      ]
     },
     "execution_count": 10,
     "metadata": {
     },
     "output_type": "execute_result"
    }
   ],
   "source": [
    "tuition[tuition['state'].isnull()].state_code.unique()"
   ]
  },
  {
   "cell_type": "markdown",
   "metadata": {
    "collapsed": false
   },
   "source": [
    "We can see that there are a few state_codes that don't have state names, we can manually add those.\n",
    "<br>We'll make a function for this and add it to the top."
   ]
  },
  {
   "cell_type": "code",
   "execution_count": 11,
   "metadata": {
    "collapsed": false
   },
   "outputs": [
   ],
   "source": [
    "def fill_state(row):\n",
    "    if row['state_code'] == 'AS':\n",
    "        return 'American Samoa'\n",
    "    elif row['state_code'] == 'DC':\n",
    "        return 'District of Columbia'\n",
    "    elif row['state_code'] == 'PR':\n",
    "        return 'Puerto Rico'\n",
    "    elif row['state_code'] == 'GU':\n",
    "        return 'Guam'\n",
    "    elif row['state_code'] == 'VI':\n",
    "        return 'Virgin Islands'\n",
    "    else:\n",
    "        return row['state']\n",
    "\n",
    "# axis = 1 means do it to the columns (0 is the rows)\n",
    "tuition['state'] = tuition.apply(lambda row : fill_state(row), axis=1) "
   ]
  },
  {
   "cell_type": "markdown",
   "metadata": {
    "collapsed": false
   },
   "source": [
    "Now we check and see there are no more null values!"
   ]
  },
  {
   "cell_type": "code",
   "execution_count": 12,
   "metadata": {
    "collapsed": false,
    "scrolled": true
   },
   "outputs": [
    {
     "data": {
      "text/html": [
       "<div>\n",
       "<style scoped>\n",
       "    .dataframe tbody tr th:only-of-type {\n",
       "        vertical-align: middle;\n",
       "    }\n",
       "\n",
       "    .dataframe tbody tr th {\n",
       "        vertical-align: top;\n",
       "    }\n",
       "\n",
       "    .dataframe thead th {\n",
       "        text-align: right;\n",
       "    }\n",
       "</style>\n",
       "<table border=\"1\" class=\"dataframe\">\n",
       "  <thead>\n",
       "    <tr style=\"text-align: right;\">\n",
       "      <th></th>\n",
       "      <th>name</th>\n",
       "      <th>state</th>\n",
       "      <th>state_code</th>\n",
       "      <th>type</th>\n",
       "      <th>degree_length</th>\n",
       "      <th>room_and_board</th>\n",
       "      <th>in_state_tuition</th>\n",
       "      <th>in_state_total</th>\n",
       "      <th>out_of_state_tuition</th>\n",
       "      <th>out_of_state_total</th>\n",
       "    </tr>\n",
       "  </thead>\n",
       "  <tbody>\n",
       "  </tbody>\n",
       "</table>\n",
       "</div>"
      ],
      "text/plain": [
       "Empty DataFrame\n",
       "Columns: [name, state, state_code, type, degree_length, room_and_board, in_state_tuition, in_state_total, out_of_state_tuition, out_of_state_total]\n",
       "Index: []"
      ]
     },
     "execution_count": 12,
     "metadata": {
     },
     "output_type": "execute_result"
    }
   ],
   "source": [
    "tuition[tuition['state'].isnull()]"
   ]
  },
  {
   "cell_type": "markdown",
   "metadata": {
    "collapsed": false
   },
   "source": [
    "We still have a lot of missing data in the column 'room_and_board' and some in the 'make_world_better_place'\n",
    "<br><br>\n",
    "Since we don't care too much about room_and_board, we'll just drop that column as a whole, but for the other, we will just drop the rows that are missing that data since it is only ~3% of our dataset."
   ]
  },
  {
   "cell_type": "code",
   "execution_count": 13,
   "metadata": {
    "collapsed": false
   },
   "outputs": [
   ],
   "source": [
    "# drop room and board (axis = 1 --> column)\n",
    "tuition = tuition.drop('room_and_board', axis=1)\n",
    "# drop rows with empty make world better place (axis = 0 --> row)\n",
    "salary_potential = salary_potential.dropna(subset=['make_world_better_percent'])"
   ]
  },
  {
   "cell_type": "code",
   "execution_count": 14,
   "metadata": {
    "collapsed": false
   },
   "outputs": [
    {
     "name": "stdout",
     "output_type": "stream",
     "text": [
      "0 0\n"
     ]
    }
   ],
   "source": [
    "# confirm there are no null values in either dataframe, rows or columns (.sum().sum() condences it into 1 value)\n",
    "print(tuition.isnull().sum().sum(), salary_potential.isnull().sum().sum())"
   ]
  },
  {
   "cell_type": "markdown",
   "metadata": {
    "collapsed": false
   },
   "source": [
    "##### Merging our Dataframe\n",
    "To merge our dataframes we need to identify which columns we want to merge on. There's many ways to combine data, you can dive deeper here: <br>https://realpython.com/pandas-merge-join-and-concat/<br> We will be focusing on a simple merge. <br><br> For a simple merge, we want to have two dataframes that have a column by the same name we want to merge on. <br>In our case we want to merge using the 'name' column. We will only have the data of schools that appear identically in both dataframes.<br> One thing to keep in mind, you must merge on a column with the same name so often will need to rename a column from one dataframe."
   ]
  },
  {
   "cell_type": "code",
   "execution_count": 15,
   "metadata": {
    "collapsed": false
   },
   "outputs": [
   ],
   "source": [
    "# check here to find how to rename - https://pandas.pydata.org/docs/reference/api/pandas.DataFrame.rename.html\n",
    "# we create a new dataframe called merged_df that is the combined one\n",
    "merged_df = pd.merge(tuition, salary_potential, on='name')"
   ]
  },
  {
   "cell_type": "code",
   "execution_count": 16,
   "metadata": {
    "collapsed": false
   },
   "outputs": [
    {
     "data": {
      "text/html": [
       "<div>\n",
       "<style scoped>\n",
       "    .dataframe tbody tr th:only-of-type {\n",
       "        vertical-align: middle;\n",
       "    }\n",
       "\n",
       "    .dataframe tbody tr th {\n",
       "        vertical-align: top;\n",
       "    }\n",
       "\n",
       "    .dataframe thead th {\n",
       "        text-align: right;\n",
       "    }\n",
       "</style>\n",
       "<table border=\"1\" class=\"dataframe\">\n",
       "  <thead>\n",
       "    <tr style=\"text-align: right;\">\n",
       "      <th></th>\n",
       "      <th>name</th>\n",
       "      <th>state</th>\n",
       "      <th>state_code</th>\n",
       "      <th>type</th>\n",
       "      <th>degree_length</th>\n",
       "      <th>in_state_tuition</th>\n",
       "      <th>in_state_total</th>\n",
       "      <th>out_of_state_tuition</th>\n",
       "      <th>out_of_state_total</th>\n",
       "      <th>rank</th>\n",
       "      <th>state_name</th>\n",
       "      <th>early_career_pay</th>\n",
       "      <th>mid_career_pay</th>\n",
       "      <th>make_world_better_percent</th>\n",
       "      <th>stem_percent</th>\n",
       "    </tr>\n",
       "  </thead>\n",
       "  <tbody>\n",
       "    <tr>\n",
       "      <th>0</th>\n",
       "      <td>Adams State University</td>\n",
       "      <td>Colorado</td>\n",
       "      <td>CO</td>\n",
       "      <td>Public</td>\n",
       "      <td>4 Year</td>\n",
       "      <td>9440</td>\n",
       "      <td>18222</td>\n",
       "      <td>20456</td>\n",
       "      <td>29238</td>\n",
       "      <td>16</td>\n",
       "      <td>Colorado</td>\n",
       "      <td>44400</td>\n",
       "      <td>81400</td>\n",
       "      <td>56.0</td>\n",
       "      <td>3</td>\n",
       "    </tr>\n",
       "    <tr>\n",
       "      <th>1</th>\n",
       "      <td>Adventist University of Health Sciences</td>\n",
       "      <td>Florida</td>\n",
       "      <td>FL</td>\n",
       "      <td>Private</td>\n",
       "      <td>4 Year</td>\n",
       "      <td>15150</td>\n",
       "      <td>19350</td>\n",
       "      <td>15150</td>\n",
       "      <td>19350</td>\n",
       "      <td>14</td>\n",
       "      <td>Florida</td>\n",
       "      <td>51600</td>\n",
       "      <td>89800</td>\n",
       "      <td>88.0</td>\n",
       "      <td>5</td>\n",
       "    </tr>\n",
       "    <tr>\n",
       "      <th>2</th>\n",
       "      <td>Agnes Scott College</td>\n",
       "      <td>Georgia</td>\n",
       "      <td>GA</td>\n",
       "      <td>Private</td>\n",
       "      <td>4 Year</td>\n",
       "      <td>41160</td>\n",
       "      <td>53490</td>\n",
       "      <td>41160</td>\n",
       "      <td>53490</td>\n",
       "      <td>14</td>\n",
       "      <td>Georgia</td>\n",
       "      <td>46000</td>\n",
       "      <td>83600</td>\n",
       "      <td>57.0</td>\n",
       "      <td>26</td>\n",
       "    </tr>\n",
       "    <tr>\n",
       "      <th>3</th>\n",
       "      <td>Alabama State University</td>\n",
       "      <td>Alabama</td>\n",
       "      <td>AL</td>\n",
       "      <td>Public</td>\n",
       "      <td>4 Year</td>\n",
       "      <td>11068</td>\n",
       "      <td>16490</td>\n",
       "      <td>19396</td>\n",
       "      <td>24818</td>\n",
       "      <td>20</td>\n",
       "      <td>Alabama</td>\n",
       "      <td>39800</td>\n",
       "      <td>71500</td>\n",
       "      <td>61.0</td>\n",
       "      <td>16</td>\n",
       "    </tr>\n",
       "    <tr>\n",
       "      <th>4</th>\n",
       "      <td>Alaska Pacific University</td>\n",
       "      <td>Alaska</td>\n",
       "      <td>AK</td>\n",
       "      <td>Private</td>\n",
       "      <td>4 Year</td>\n",
       "      <td>20830</td>\n",
       "      <td>28130</td>\n",
       "      <td>20830</td>\n",
       "      <td>28130</td>\n",
       "      <td>3</td>\n",
       "      <td>Alaska</td>\n",
       "      <td>50300</td>\n",
       "      <td>90000</td>\n",
       "      <td>67.0</td>\n",
       "      <td>6</td>\n",
       "    </tr>\n",
       "  </tbody>\n",
       "</table>\n",
       "</div>"
      ],
      "text/plain": [
       "                                      name     state state_code     type  \\\n",
       "0                   Adams State University  Colorado         CO   Public   \n",
       "1  Adventist University of Health Sciences   Florida         FL  Private   \n",
       "2                      Agnes Scott College   Georgia         GA  Private   \n",
       "3                 Alabama State University   Alabama         AL   Public   \n",
       "4                Alaska Pacific University    Alaska         AK  Private   \n",
       "\n",
       "  degree_length  in_state_tuition  in_state_total  out_of_state_tuition  \\\n",
       "0        4 Year              9440           18222                 20456   \n",
       "1        4 Year             15150           19350                 15150   \n",
       "2        4 Year             41160           53490                 41160   \n",
       "3        4 Year             11068           16490                 19396   \n",
       "4        4 Year             20830           28130                 20830   \n",
       "\n",
       "   out_of_state_total  rank state_name  early_career_pay  mid_career_pay  \\\n",
       "0               29238    16   Colorado             44400           81400   \n",
       "1               19350    14    Florida             51600           89800   \n",
       "2               53490    14    Georgia             46000           83600   \n",
       "3               24818    20    Alabama             39800           71500   \n",
       "4               28130     3     Alaska             50300           90000   \n",
       "\n",
       "   make_world_better_percent  stem_percent  \n",
       "0                       56.0             3  \n",
       "1                       88.0             5  \n",
       "2                       57.0            26  \n",
       "3                       61.0            16  \n",
       "4                       67.0             6  "
      ]
     },
     "execution_count": 16,
     "metadata": {
     },
     "output_type": "execute_result"
    }
   ],
   "source": [
    "merged_df.head()"
   ]
  },
  {
   "cell_type": "markdown",
   "metadata": {
    "collapsed": false
   },
   "source": [
    "Now we have a 'state' and 'state_name' column that look duplicative, lets check."
   ]
  },
  {
   "cell_type": "code",
   "execution_count": 17,
   "metadata": {
    "collapsed": false
   },
   "outputs": [
    {
     "data": {
      "text/plain": [
       "False"
      ]
     },
     "execution_count": 17,
     "metadata": {
     },
     "output_type": "execute_result"
    }
   ],
   "source": [
    "merged_df['state'].equals(merged_df['state_name'])"
   ]
  },
  {
   "cell_type": "markdown",
   "metadata": {
    "collapsed": false
   },
   "source": [
    "Lets look at the differences, get all the unique 'state' and 'state_names' from all rows where they are not identical"
   ]
  },
  {
   "cell_type": "code",
   "execution_count": 18,
   "metadata": {
    "collapsed": false,
    "scrolled": true
   },
   "outputs": [
    {
     "data": {
      "text/plain": [
       "array(['New York', 'North Carolina', 'South Dakota', 'South Carolina',\n",
       "       'New Jersey', 'West Virginia', 'Rhode Island', 'New Hampshire',\n",
       "       'North Dakota', 'New Mexico', 'Illinois', 'Vermont'], dtype=object)"
      ]
     },
     "execution_count": 18,
     "metadata": {
     },
     "output_type": "execute_result"
    }
   ],
   "source": [
    "merged_df.loc[~(merged_df['state'] == merged_df['state_name'])]['state'].unique()"
   ]
  },
  {
   "cell_type": "code",
   "execution_count": 19,
   "metadata": {
    "collapsed": false
   },
   "outputs": [
    {
     "data": {
      "text/plain": [
       "array(['New-York', 'North-Carolina', 'South-Dakota', 'South-Carolina',\n",
       "       'New-Jersey', 'West-Virginia', 'Rhode-Island', 'New-Hampshire',\n",
       "       'North-Dakota', 'New-Mexico', 'Iowa', 'Kansas'], dtype=object)"
      ]
     },
     "execution_count": 19,
     "metadata": {
     },
     "output_type": "execute_result"
    }
   ],
   "source": [
    "merged_df.loc[~(merged_df['state'] == merged_df['state_name'])]['state_name'].unique()"
   ]
  },
  {
   "cell_type": "markdown",
   "metadata": {
    "collapsed": false
   },
   "source": [
    "Many are issues with hyphens, some are not, let's fix the hyphen problem and look at the rest."
   ]
  },
  {
   "cell_type": "code",
   "execution_count": 20,
   "metadata": {
    "collapsed": false
   },
   "outputs": [
    {
     "data": {
      "text/html": [
       "<div>\n",
       "<style scoped>\n",
       "    .dataframe tbody tr th:only-of-type {\n",
       "        vertical-align: middle;\n",
       "    }\n",
       "\n",
       "    .dataframe tbody tr th {\n",
       "        vertical-align: top;\n",
       "    }\n",
       "\n",
       "    .dataframe thead th {\n",
       "        text-align: right;\n",
       "    }\n",
       "</style>\n",
       "<table border=\"1\" class=\"dataframe\">\n",
       "  <thead>\n",
       "    <tr style=\"text-align: right;\">\n",
       "      <th></th>\n",
       "      <th>name</th>\n",
       "      <th>state</th>\n",
       "      <th>state_code</th>\n",
       "      <th>type</th>\n",
       "      <th>degree_length</th>\n",
       "      <th>in_state_tuition</th>\n",
       "      <th>in_state_total</th>\n",
       "      <th>out_of_state_tuition</th>\n",
       "      <th>out_of_state_total</th>\n",
       "      <th>rank</th>\n",
       "      <th>state_name</th>\n",
       "      <th>early_career_pay</th>\n",
       "      <th>mid_career_pay</th>\n",
       "      <th>make_world_better_percent</th>\n",
       "      <th>stem_percent</th>\n",
       "    </tr>\n",
       "  </thead>\n",
       "  <tbody>\n",
       "    <tr>\n",
       "      <th>365</th>\n",
       "      <td>Northwestern College</td>\n",
       "      <td>Illinois</td>\n",
       "      <td>IL</td>\n",
       "      <td>For Profit</td>\n",
       "      <td>2 Year</td>\n",
       "      <td>18485</td>\n",
       "      <td>30887</td>\n",
       "      <td>18485</td>\n",
       "      <td>30887</td>\n",
       "      <td>18</td>\n",
       "      <td>Iowa</td>\n",
       "      <td>44800</td>\n",
       "      <td>82400</td>\n",
       "      <td>42.0</td>\n",
       "      <td>11</td>\n",
       "    </tr>\n",
       "    <tr>\n",
       "      <th>481</th>\n",
       "      <td>Sterling College</td>\n",
       "      <td>Vermont</td>\n",
       "      <td>VT</td>\n",
       "      <td>Private</td>\n",
       "      <td>4 Year</td>\n",
       "      <td>38800</td>\n",
       "      <td>48700</td>\n",
       "      <td>38800</td>\n",
       "      <td>48700</td>\n",
       "      <td>17</td>\n",
       "      <td>Kansas</td>\n",
       "      <td>42700</td>\n",
       "      <td>79100</td>\n",
       "      <td>73.0</td>\n",
       "      <td>7</td>\n",
       "    </tr>\n",
       "  </tbody>\n",
       "</table>\n",
       "</div>"
      ],
      "text/plain": [
       "                     name     state state_code        type degree_length  \\\n",
       "365  Northwestern College  Illinois         IL  For Profit        2 Year   \n",
       "481      Sterling College   Vermont         VT     Private        4 Year   \n",
       "\n",
       "     in_state_tuition  in_state_total  out_of_state_tuition  \\\n",
       "365             18485           30887                 18485   \n",
       "481             38800           48700                 38800   \n",
       "\n",
       "     out_of_state_total  rank state_name  early_career_pay  mid_career_pay  \\\n",
       "365               30887    18       Iowa             44800           82400   \n",
       "481               48700    17     Kansas             42700           79100   \n",
       "\n",
       "     make_world_better_percent  stem_percent  \n",
       "365                       42.0            11  \n",
       "481                       73.0             7  "
      ]
     },
     "execution_count": 20,
     "metadata": {
     },
     "output_type": "execute_result"
    }
   ],
   "source": [
    "to_replace = ['New-York', 'North-Carolina', 'South-Dakota', 'South-Carolina',\n",
    "       'New-Jersey', 'West-Virginia', 'Rhode-Island', 'New-Hampshire',\n",
    "       'North-Dakota', 'New-Mexico']\n",
    "replace_with = ['New York', 'North Carolina', 'South Dakota', 'South Carolina',\n",
    "       'New Jersey', 'West Virginia', 'Rhode Island', 'New Hampshire',\n",
    "       'North Dakota', 'New Mexico']\n",
    "for i in range(len(to_replace)):\n",
    "    merged_df[\"state_name\"].replace({to_replace[i]: replace_with[i]}, inplace=True)\n",
    "merged_df.loc[~(merged_df['state'] == merged_df['state_name'])]"
   ]
  },
  {
   "cell_type": "markdown",
   "metadata": {
    "collapsed": false
   },
   "source": [
    "After searching Manually, Northwestern College is in Iowa & Sterling College is in Kansas. <br> This shows the importance of double checking your data. <br> I will drop the 'state column' as the 'state_name' column is the accurate one and state_code is unnecessary."
   ]
  },
  {
   "cell_type": "code",
   "execution_count": 21,
   "metadata": {
    "collapsed": false
   },
   "outputs": [
    {
     "data": {
      "text/html": [
       "<div>\n",
       "<style scoped>\n",
       "    .dataframe tbody tr th:only-of-type {\n",
       "        vertical-align: middle;\n",
       "    }\n",
       "\n",
       "    .dataframe tbody tr th {\n",
       "        vertical-align: top;\n",
       "    }\n",
       "\n",
       "    .dataframe thead th {\n",
       "        text-align: right;\n",
       "    }\n",
       "</style>\n",
       "<table border=\"1\" class=\"dataframe\">\n",
       "  <thead>\n",
       "    <tr style=\"text-align: right;\">\n",
       "      <th></th>\n",
       "      <th>name</th>\n",
       "      <th>type</th>\n",
       "      <th>degree_length</th>\n",
       "      <th>in_state_tuition</th>\n",
       "      <th>in_state_total</th>\n",
       "      <th>out_of_state_tuition</th>\n",
       "      <th>out_of_state_total</th>\n",
       "      <th>rank</th>\n",
       "      <th>state_name</th>\n",
       "      <th>early_career_pay</th>\n",
       "      <th>mid_career_pay</th>\n",
       "      <th>make_world_better_percent</th>\n",
       "      <th>stem_percent</th>\n",
       "    </tr>\n",
       "  </thead>\n",
       "  <tbody>\n",
       "    <tr>\n",
       "      <th>0</th>\n",
       "      <td>Adams State University</td>\n",
       "      <td>Public</td>\n",
       "      <td>4 Year</td>\n",
       "      <td>9440</td>\n",
       "      <td>18222</td>\n",
       "      <td>20456</td>\n",
       "      <td>29238</td>\n",
       "      <td>16</td>\n",
       "      <td>Colorado</td>\n",
       "      <td>44400</td>\n",
       "      <td>81400</td>\n",
       "      <td>56.0</td>\n",
       "      <td>3</td>\n",
       "    </tr>\n",
       "    <tr>\n",
       "      <th>1</th>\n",
       "      <td>Adventist University of Health Sciences</td>\n",
       "      <td>Private</td>\n",
       "      <td>4 Year</td>\n",
       "      <td>15150</td>\n",
       "      <td>19350</td>\n",
       "      <td>15150</td>\n",
       "      <td>19350</td>\n",
       "      <td>14</td>\n",
       "      <td>Florida</td>\n",
       "      <td>51600</td>\n",
       "      <td>89800</td>\n",
       "      <td>88.0</td>\n",
       "      <td>5</td>\n",
       "    </tr>\n",
       "    <tr>\n",
       "      <th>2</th>\n",
       "      <td>Agnes Scott College</td>\n",
       "      <td>Private</td>\n",
       "      <td>4 Year</td>\n",
       "      <td>41160</td>\n",
       "      <td>53490</td>\n",
       "      <td>41160</td>\n",
       "      <td>53490</td>\n",
       "      <td>14</td>\n",
       "      <td>Georgia</td>\n",
       "      <td>46000</td>\n",
       "      <td>83600</td>\n",
       "      <td>57.0</td>\n",
       "      <td>26</td>\n",
       "    </tr>\n",
       "    <tr>\n",
       "      <th>3</th>\n",
       "      <td>Alabama State University</td>\n",
       "      <td>Public</td>\n",
       "      <td>4 Year</td>\n",
       "      <td>11068</td>\n",
       "      <td>16490</td>\n",
       "      <td>19396</td>\n",
       "      <td>24818</td>\n",
       "      <td>20</td>\n",
       "      <td>Alabama</td>\n",
       "      <td>39800</td>\n",
       "      <td>71500</td>\n",
       "      <td>61.0</td>\n",
       "      <td>16</td>\n",
       "    </tr>\n",
       "    <tr>\n",
       "      <th>4</th>\n",
       "      <td>Alaska Pacific University</td>\n",
       "      <td>Private</td>\n",
       "      <td>4 Year</td>\n",
       "      <td>20830</td>\n",
       "      <td>28130</td>\n",
       "      <td>20830</td>\n",
       "      <td>28130</td>\n",
       "      <td>3</td>\n",
       "      <td>Alaska</td>\n",
       "      <td>50300</td>\n",
       "      <td>90000</td>\n",
       "      <td>67.0</td>\n",
       "      <td>6</td>\n",
       "    </tr>\n",
       "  </tbody>\n",
       "</table>\n",
       "</div>"
      ],
      "text/plain": [
       "                                      name     type degree_length  \\\n",
       "0                   Adams State University   Public        4 Year   \n",
       "1  Adventist University of Health Sciences  Private        4 Year   \n",
       "2                      Agnes Scott College  Private        4 Year   \n",
       "3                 Alabama State University   Public        4 Year   \n",
       "4                Alaska Pacific University  Private        4 Year   \n",
       "\n",
       "   in_state_tuition  in_state_total  out_of_state_tuition  out_of_state_total  \\\n",
       "0              9440           18222                 20456               29238   \n",
       "1             15150           19350                 15150               19350   \n",
       "2             41160           53490                 41160               53490   \n",
       "3             11068           16490                 19396               24818   \n",
       "4             20830           28130                 20830               28130   \n",
       "\n",
       "   rank state_name  early_career_pay  mid_career_pay  \\\n",
       "0    16   Colorado             44400           81400   \n",
       "1    14    Florida             51600           89800   \n",
       "2    14    Georgia             46000           83600   \n",
       "3    20    Alabama             39800           71500   \n",
       "4     3     Alaska             50300           90000   \n",
       "\n",
       "   make_world_better_percent  stem_percent  \n",
       "0                       56.0             3  \n",
       "1                       88.0             5  \n",
       "2                       57.0            26  \n",
       "3                       61.0            16  \n",
       "4                       67.0             6  "
      ]
     },
     "execution_count": 21,
     "metadata": {
     },
     "output_type": "execute_result"
    }
   ],
   "source": [
    "# inplace = True means that we want the rename to occur in existing dataframe, not return a new one\n",
    "merged_df.drop(['state','state_code'], axis=1, inplace=True)\n",
    "merged_df.head()"
   ]
  },
  {
   "cell_type": "code",
   "execution_count": 22,
   "metadata": {
    "collapsed": false
   },
   "outputs": [
    {
     "data": {
      "text/plain": [
       "(702, 13)"
      ]
     },
     "execution_count": 22,
     "metadata": {
     },
     "output_type": "execute_result"
    }
   ],
   "source": [
    "merged_df.shape"
   ]
  },
  {
   "cell_type": "markdown",
   "metadata": {
    "collapsed": false
   },
   "source": [
    "Now that we're done cleaning and merging our data, let's turn that into a function, and add it to the top as well to keep our notebook organized."
   ]
  },
  {
   "cell_type": "code",
   "execution_count": 23,
   "metadata": {
    "collapsed": false
   },
   "outputs": [
   ],
   "source": [
    "# this function cleans and merges our two dataframes, returns one merged_df\n",
    "def clean_and_merge_dfs(tuition, salary_potential):\n",
    "    # drop room and board (axis = 1 --> column)\n",
    "    tuition = tuition.drop('room_and_board', axis=1)\n",
    "    # drop rows with empty make world better place (axis = 0 --> row)\n",
    "    salary_potential = salary_potential.dropna(subset=['make_world_better_percent'])\n",
    "    # we create a new dataframe called merged_df that is the combined one\n",
    "    merged_df = pd.merge(tuition, salary_potential, on='name')\n",
    "    # replace mismatched rows\n",
    "    to_replace = ['New-York', 'North-Carolina', 'South-Dakota', 'South-Carolina',\n",
    "       'New-Jersey', 'West-Virginia', 'Rhode-Island', 'New-Hampshire',\n",
    "       'North-Dakota', 'New-Mexico']\n",
    "    replace_with = ['New York', 'North Carolina', 'South Dakota', 'South Carolina',\n",
    "           'New Jersey', 'West Virginia', 'Rhode Island', 'New Hampshire',\n",
    "           'North Dakota', 'New Mexico']\n",
    "    for i in range(len(to_replace)):\n",
    "        merged_df[\"state_name\"].replace({to_replace[i]: replace_with[i]}, inplace=True)\n",
    "    # drop the duplicative (and slightly incorrect) column 'state'\n",
    "    merged_df.drop(['state','state_code'], axis=1, inplace=True)\n",
    "    # return the merged dataframe\n",
    "    return merged_df"
   ]
  },
  {
   "cell_type": "markdown",
   "metadata": {
    "collapsed": false
   },
   "source": [
    "## Analyzing Our Data <a class=\"anchor\" id=\"Analyze\"></a>\n",
    "Here we want to start looking at our data in the context of our original goal. <br> \"Are There Associations With University Tuition & Professional Pay on a State-by-State Basis?\"<br> To do this I'm going to manually create a dataset, getting first the number of schools in that state, and then the average of statistics I am investigating."
   ]
  },
  {
   "cell_type": "code",
   "execution_count": 24,
   "metadata": {
    "collapsed": false
   },
   "outputs": [
    {
     "data": {
      "text/html": [
       "<div>\n",
       "<style scoped>\n",
       "    .dataframe tbody tr th:only-of-type {\n",
       "        vertical-align: middle;\n",
       "    }\n",
       "\n",
       "    .dataframe tbody tr th {\n",
       "        vertical-align: top;\n",
       "    }\n",
       "\n",
       "    .dataframe thead th {\n",
       "        text-align: right;\n",
       "    }\n",
       "</style>\n",
       "<table border=\"1\" class=\"dataframe\">\n",
       "  <thead>\n",
       "    <tr style=\"text-align: right;\">\n",
       "      <th></th>\n",
       "      <th>number of schools</th>\n",
       "      <th>average early_career_pay</th>\n",
       "      <th>average mid_career_pay</th>\n",
       "      <th>average make_world_better_percent</th>\n",
       "      <th>average stem_percent</th>\n",
       "      <th>average in_state_tuition</th>\n",
       "      <th>average out_of_state_tuition</th>\n",
       "    </tr>\n",
       "  </thead>\n",
       "  <tbody>\n",
       "    <tr>\n",
       "      <th>Alabama</th>\n",
       "      <td>21</td>\n",
       "      <td>44714.285714</td>\n",
       "      <td>81176.190476</td>\n",
       "      <td>60.047619</td>\n",
       "      <td>14.047619</td>\n",
       "      <td>16134.238095</td>\n",
       "      <td>22360.380952</td>\n",
       "    </tr>\n",
       "    <tr>\n",
       "      <th>Alaska</th>\n",
       "      <td>3</td>\n",
       "      <td>55133.333333</td>\n",
       "      <td>97600.0</td>\n",
       "      <td>59.333333</td>\n",
       "      <td>12.0</td>\n",
       "      <td>12201.666667</td>\n",
       "      <td>22981.666667</td>\n",
       "    </tr>\n",
       "    <tr>\n",
       "      <th>Arizona</th>\n",
       "      <td>3</td>\n",
       "      <td>48966.666667</td>\n",
       "      <td>88166.666667</td>\n",
       "      <td>58.666667</td>\n",
       "      <td>11.666667</td>\n",
       "      <td>18512.0</td>\n",
       "      <td>31233.0</td>\n",
       "    </tr>\n",
       "    <tr>\n",
       "      <th>Arkansas</th>\n",
       "      <td>14</td>\n",
       "      <td>45607.142857</td>\n",
       "      <td>81700.0</td>\n",
       "      <td>57.571429</td>\n",
       "      <td>14.071429</td>\n",
       "      <td>17196.357143</td>\n",
       "      <td>21704.142857</td>\n",
       "    </tr>\n",
       "    <tr>\n",
       "      <th>California</th>\n",
       "      <td>13</td>\n",
       "      <td>67800.0</td>\n",
       "      <td>124876.923077</td>\n",
       "      <td>49.769231</td>\n",
       "      <td>30.615385</td>\n",
       "      <td>47656.538462</td>\n",
       "      <td>48387.615385</td>\n",
       "    </tr>\n",
       "  </tbody>\n",
       "</table>\n",
       "</div>"
      ],
      "text/plain": [
       "           number of schools average early_career_pay average mid_career_pay  \\\n",
       "Alabama                   21             44714.285714           81176.190476   \n",
       "Alaska                     3             55133.333333                97600.0   \n",
       "Arizona                    3             48966.666667           88166.666667   \n",
       "Arkansas                  14             45607.142857                81700.0   \n",
       "California                13                  67800.0          124876.923077   \n",
       "\n",
       "           average make_world_better_percent average stem_percent  \\\n",
       "Alabama                            60.047619            14.047619   \n",
       "Alaska                             59.333333                 12.0   \n",
       "Arizona                            58.666667            11.666667   \n",
       "Arkansas                           57.571429            14.071429   \n",
       "California                         49.769231            30.615385   \n",
       "\n",
       "           average in_state_tuition average out_of_state_tuition  \n",
       "Alabama                16134.238095                 22360.380952  \n",
       "Alaska                 12201.666667                 22981.666667  \n",
       "Arizona                     18512.0                      31233.0  \n",
       "Arkansas               17196.357143                 21704.142857  \n",
       "California             47656.538462                 48387.615385  "
      ]
     },
     "execution_count": 24,
     "metadata": {
     },
     "output_type": "execute_result"
    }
   ],
   "source": [
    "def state_stats_df(merged_df):\n",
    "    # get a list of all state_name's\n",
    "    states = merged_df.state_name.unique()\n",
    "\n",
    "    # Create a column in a new dataframe for each stat I want\n",
    "    state_stats = pd.DataFrame(index=states, columns=['number of schools','average early_career_pay',\n",
    "                                                      'average mid_career_pay','average make_world_better_percent',\n",
    "                                                      'average stem_percent','average in_state_tuition','average out_of_state_tuition'])\n",
    "    # Fill in the columns for each state\n",
    "    for state in states:\n",
    "        state_stats.loc[state, 'number of schools'] = len(merged_df[merged_df.state_name == state])\n",
    "        state_stats.loc[state, 'average early_career_pay'] = merged_df[merged_df.state_name == state]['early_career_pay'].mean()\n",
    "        state_stats.loc[state, 'average mid_career_pay'] = merged_df[merged_df.state_name == state]['mid_career_pay'].mean()\n",
    "        state_stats.loc[state, 'average make_world_better_percent'] = merged_df[merged_df.state_name == state]['make_world_better_percent'].mean()\n",
    "        state_stats.loc[state, 'average stem_percent'] = merged_df[merged_df.state_name == state]['stem_percent'].mean()\n",
    "        state_stats.loc[state, 'average in_state_tuition'] = merged_df[merged_df.state_name == state]['in_state_tuition'].mean()\n",
    "        state_stats.loc[state, 'average out_of_state_tuition'] = merged_df[merged_df.state_name == state]['out_of_state_tuition'].mean()\n",
    "    # sort alphabetically by state\n",
    "    state_stats.sort_index(inplace = True)\n",
    "    return state_stats\n",
    "\n",
    "state_stats = state_stats_df(merged_df)\n",
    "state_stats.head()"
   ]
  },
  {
   "cell_type": "markdown",
   "metadata": {
    "collapsed": false
   },
   "source": [
    "We don't need to stay with just the data we have been given, we can combine columns or do additional calculations on them. <br> One example is say we want to get the average 4 year cost of tuition, we can create those columns as well (and a few others)"
   ]
  },
  {
   "cell_type": "code",
   "execution_count": 25,
   "metadata": {
    "collapsed": false
   },
   "outputs": [
   ],
   "source": [
    "def add_details(state_stats):\n",
    "    # convert all columns to numeric\n",
    "    state_stats = state_stats.apply(pd.to_numeric)\n",
    "    # make columns for four year average out of state and in state total\n",
    "    state_stats['four year average out of state tuition'] = state_stats['average out_of_state_tuition'] * 4\n",
    "    state_stats['four year average in state tuition'] = state_stats['average in_state_tuition'] * 4\n",
    "    # make column calculating how many years on average to repay four year average in and our of state based on average early career pay in index 0\n",
    "    state_stats['years to repay in state 4 year uni based on early career pay'] =  state_stats['four year average in state tuition'] / state_stats['average early_career_pay']\n",
    "    state_stats['years to repay out of state 4 year uni based on early career pay'] = state_stats['four year average out of state tuition'] / state_stats['average early_career_pay'] \n",
    "    # make column calculating how many years on average to repay four year average in and our of state based on average mid career pay in index 0\n",
    "    state_stats['years to repay in state 4 year uni based on mid career pay'] =  state_stats['four year average in state tuition'] / state_stats['average mid_career_pay']\n",
    "    state_stats['years to repay out of state 4 year uni based on mid career pay'] = state_stats['four year average out of state tuition'] / state_stats['average mid_career_pay'] \n",
    "    # move 'years to repay out of state 4 year uni based on early career pay' to the front of the dataframe\n",
    "    state_stats = state_stats.reindex(columns=['four year average in state tuition', 'four year average out of state tuition', 'years to repay in state 4 year uni based on early career pay', 'years to repay out of state 4 year uni based on early career pay',\n",
    "    'years to repay in state 4 year uni based on mid career pay', 'years to repay out of state 4 year uni based on mid career pay',\n",
    "    'number of schools', 'average early_career_pay', 'average mid_career_pay', 'average make_world_better_percent', 'average stem_percent',\n",
    "    'average in_state_tuition','average out_of_state_tuition'])\n",
    "    return state_stats"
   ]
  },
  {
   "cell_type": "code",
   "execution_count": 26,
   "metadata": {
    "collapsed": false
   },
   "outputs": [
    {
     "data": {
      "text/html": [
       "<div>\n",
       "<style scoped>\n",
       "    .dataframe tbody tr th:only-of-type {\n",
       "        vertical-align: middle;\n",
       "    }\n",
       "\n",
       "    .dataframe tbody tr th {\n",
       "        vertical-align: top;\n",
       "    }\n",
       "\n",
       "    .dataframe thead th {\n",
       "        text-align: right;\n",
       "    }\n",
       "</style>\n",
       "<table border=\"1\" class=\"dataframe\">\n",
       "  <thead>\n",
       "    <tr style=\"text-align: right;\">\n",
       "      <th></th>\n",
       "      <th>four year average in state tuition</th>\n",
       "      <th>four year average out of state tuition</th>\n",
       "      <th>years to repay in state 4 year uni based on early career pay</th>\n",
       "      <th>years to repay out of state 4 year uni based on early career pay</th>\n",
       "      <th>years to repay in state 4 year uni based on mid career pay</th>\n",
       "      <th>years to repay out of state 4 year uni based on mid career pay</th>\n",
       "      <th>number of schools</th>\n",
       "      <th>average early_career_pay</th>\n",
       "      <th>average mid_career_pay</th>\n",
       "      <th>average make_world_better_percent</th>\n",
       "      <th>average stem_percent</th>\n",
       "      <th>average in_state_tuition</th>\n",
       "      <th>average out_of_state_tuition</th>\n",
       "    </tr>\n",
       "  </thead>\n",
       "  <tbody>\n",
       "    <tr>\n",
       "      <th>Alabama</th>\n",
       "      <td>64536.952381</td>\n",
       "      <td>89441.523810</td>\n",
       "      <td>1.443318</td>\n",
       "      <td>2.000290</td>\n",
       "      <td>0.795023</td>\n",
       "      <td>1.101820</td>\n",
       "      <td>21</td>\n",
       "      <td>44714.285714</td>\n",
       "      <td>81176.190476</td>\n",
       "      <td>60.047619</td>\n",
       "      <td>14.047619</td>\n",
       "      <td>16134.238095</td>\n",
       "      <td>22360.380952</td>\n",
       "    </tr>\n",
       "    <tr>\n",
       "      <th>Alaska</th>\n",
       "      <td>48806.666667</td>\n",
       "      <td>91926.666667</td>\n",
       "      <td>0.885248</td>\n",
       "      <td>1.667352</td>\n",
       "      <td>0.500068</td>\n",
       "      <td>0.941872</td>\n",
       "      <td>3</td>\n",
       "      <td>55133.333333</td>\n",
       "      <td>97600.000000</td>\n",
       "      <td>59.333333</td>\n",
       "      <td>12.000000</td>\n",
       "      <td>12201.666667</td>\n",
       "      <td>22981.666667</td>\n",
       "    </tr>\n",
       "    <tr>\n",
       "      <th>Arizona</th>\n",
       "      <td>74048.000000</td>\n",
       "      <td>124932.000000</td>\n",
       "      <td>1.512212</td>\n",
       "      <td>2.551368</td>\n",
       "      <td>0.839864</td>\n",
       "      <td>1.416998</td>\n",
       "      <td>3</td>\n",
       "      <td>48966.666667</td>\n",
       "      <td>88166.666667</td>\n",
       "      <td>58.666667</td>\n",
       "      <td>11.666667</td>\n",
       "      <td>18512.000000</td>\n",
       "      <td>31233.000000</td>\n",
       "    </tr>\n",
       "    <tr>\n",
       "      <th>Arkansas</th>\n",
       "      <td>68785.428571</td>\n",
       "      <td>86816.571429</td>\n",
       "      <td>1.508216</td>\n",
       "      <td>1.903574</td>\n",
       "      <td>0.841927</td>\n",
       "      <td>1.062626</td>\n",
       "      <td>14</td>\n",
       "      <td>45607.142857</td>\n",
       "      <td>81700.000000</td>\n",
       "      <td>57.571429</td>\n",
       "      <td>14.071429</td>\n",
       "      <td>17196.357143</td>\n",
       "      <td>21704.142857</td>\n",
       "    </tr>\n",
       "    <tr>\n",
       "      <th>California</th>\n",
       "      <td>190626.153846</td>\n",
       "      <td>193550.461538</td>\n",
       "      <td>2.811595</td>\n",
       "      <td>2.854727</td>\n",
       "      <td>1.526512</td>\n",
       "      <td>1.549930</td>\n",
       "      <td>13</td>\n",
       "      <td>67800.000000</td>\n",
       "      <td>124876.923077</td>\n",
       "      <td>49.769231</td>\n",
       "      <td>30.615385</td>\n",
       "      <td>47656.538462</td>\n",
       "      <td>48387.615385</td>\n",
       "    </tr>\n",
       "  </tbody>\n",
       "</table>\n",
       "</div>"
      ],
      "text/plain": [
       "            four year average in state tuition  \\\n",
       "Alabama                           64536.952381   \n",
       "Alaska                            48806.666667   \n",
       "Arizona                           74048.000000   \n",
       "Arkansas                          68785.428571   \n",
       "California                       190626.153846   \n",
       "\n",
       "            four year average out of state tuition  \\\n",
       "Alabama                               89441.523810   \n",
       "Alaska                                91926.666667   \n",
       "Arizona                              124932.000000   \n",
       "Arkansas                              86816.571429   \n",
       "California                           193550.461538   \n",
       "\n",
       "            years to repay in state 4 year uni based on early career pay  \\\n",
       "Alabama                                              1.443318              \n",
       "Alaska                                               0.885248              \n",
       "Arizona                                              1.512212              \n",
       "Arkansas                                             1.508216              \n",
       "California                                           2.811595              \n",
       "\n",
       "            years to repay out of state 4 year uni based on early career pay  \\\n",
       "Alabama                                              2.000290                  \n",
       "Alaska                                               1.667352                  \n",
       "Arizona                                              2.551368                  \n",
       "Arkansas                                             1.903574                  \n",
       "California                                           2.854727                  \n",
       "\n",
       "            years to repay in state 4 year uni based on mid career pay  \\\n",
       "Alabama                                              0.795023            \n",
       "Alaska                                               0.500068            \n",
       "Arizona                                              0.839864            \n",
       "Arkansas                                             0.841927            \n",
       "California                                           1.526512            \n",
       "\n",
       "            years to repay out of state 4 year uni based on mid career pay  \\\n",
       "Alabama                                              1.101820                \n",
       "Alaska                                               0.941872                \n",
       "Arizona                                              1.416998                \n",
       "Arkansas                                             1.062626                \n",
       "California                                           1.549930                \n",
       "\n",
       "            number of schools  average early_career_pay  \\\n",
       "Alabama                    21              44714.285714   \n",
       "Alaska                      3              55133.333333   \n",
       "Arizona                     3              48966.666667   \n",
       "Arkansas                   14              45607.142857   \n",
       "California                 13              67800.000000   \n",
       "\n",
       "            average mid_career_pay  average make_world_better_percent  \\\n",
       "Alabama               81176.190476                          60.047619   \n",
       "Alaska                97600.000000                          59.333333   \n",
       "Arizona               88166.666667                          58.666667   \n",
       "Arkansas              81700.000000                          57.571429   \n",
       "California           124876.923077                          49.769231   \n",
       "\n",
       "            average stem_percent  average in_state_tuition  \\\n",
       "Alabama                14.047619              16134.238095   \n",
       "Alaska                 12.000000              12201.666667   \n",
       "Arizona                11.666667              18512.000000   \n",
       "Arkansas               14.071429              17196.357143   \n",
       "California             30.615385              47656.538462   \n",
       "\n",
       "            average out_of_state_tuition  \n",
       "Alabama                     22360.380952  \n",
       "Alaska                      22981.666667  \n",
       "Arizona                     31233.000000  \n",
       "Arkansas                    21704.142857  \n",
       "California                  48387.615385  "
      ]
     },
     "execution_count": 26,
     "metadata": {
     },
     "output_type": "execute_result"
    }
   ],
   "source": [
    "state_stats = add_details(state_stats)\n",
    "state_stats.head()"
   ]
  },
  {
   "cell_type": "markdown",
   "metadata": {
    "collapsed": false
   },
   "source": [
    "Notice: This assumes you divert your entire paycheck to student loans and there is no interest. While this gives a guidline, that does hurt the usefullness, as different areas may allow to divert different amounts. Look out for this type of error in your own work"
   ]
  },
  {
   "cell_type": "markdown",
   "metadata": {
    "collapsed": false
   },
   "source": [
    "One of my favorite ways to investigate a dataframe is by using highlighting. <br> Here is a quick example of how to highlight based on how the value compares to the average. <br>\n",
    "These functions are a bit confusing because they are meant to be used by the pandas Apply function. <br> Read more here: https://www.datacamp.com/community/tutorials/pandas-apply <br> It is a way to check each row and do 'something' based on some values."
   ]
  },
  {
   "cell_type": "markdown",
   "metadata": {
    "collapsed": false
   },
   "source": [
    "This uses python's \"list comprehension\", which you can find more on here - https://www.w3schools.com/python/python_lists_comprehension.asp"
   ]
  },
  {
   "cell_type": "code",
   "execution_count": 27,
   "metadata": {
    "collapsed": false
   },
   "outputs": [
   ],
   "source": [
    "# Highlighting functions for our dataframe\n",
    "def highlight_above_avg(state):\n",
    "    # state_TF will check every row (state) and give a True/False value depending on the condition asked\n",
    "    # e.g. if the value is >.50 quantile (average value) for the column\n",
    "    state_TF = state >= state.quantile(.50)\n",
    "    return ['background: lightgreen' if state else '' for state in state_TF]\n",
    "def highlight_top(s):   \n",
    "    state_TF = s > s.quantile(0.90)\n",
    "    return ['color: blue' if state else '' for state in state_TF]\n",
    "\n",
    "def return_highlighted_df(state_stats):\n",
    "    return state_stats.style.apply(highlight_above_avg).apply(highlight_top)"
   ]
  },
  {
   "cell_type": "markdown",
   "metadata": {
    "collapsed": false
   },
   "source": [
    "Add any other filters you can think of to the filters"
   ]
  },
  {
   "cell_type": "markdown",
   "metadata": {
    "collapsed": false
   },
   "source": [
    "Something to note aboout the below table, some green / blue values could be 'good' while others could be 'bad'. <br>\n",
    "E.g. Having a top 10% in 'average_early_career_pay' could be good, but having a top 10% 'years to repay out of state 4 year uni based on early career pay' would be less awesome."
   ]
  },
  {
   "cell_type": "code",
   "execution_count": 28,
   "metadata": {
    "collapsed": false
   },
   "outputs": [
    {
     "data": {
      "text/html": [
       "<style type=\"text/css\">\n",
       "#T_12b3d_row0_col6, #T_12b3d_row1_col7, #T_12b3d_row1_col8, #T_12b3d_row1_col9, #T_12b3d_row2_col1, #T_12b3d_row2_col3, #T_12b3d_row2_col5, #T_12b3d_row2_col9, #T_12b3d_row2_col12, #T_12b3d_row3_col9, #T_12b3d_row4_col5, #T_12b3d_row5_col1, #T_12b3d_row5_col7, #T_12b3d_row5_col8, #T_12b3d_row5_col9, #T_12b3d_row5_col10, #T_12b3d_row5_col12, #T_12b3d_row6_col0, #T_12b3d_row6_col1, #T_12b3d_row6_col2, #T_12b3d_row6_col3, #T_12b3d_row6_col4, #T_12b3d_row6_col5, #T_12b3d_row6_col6, #T_12b3d_row6_col7, #T_12b3d_row6_col8, #T_12b3d_row6_col10, #T_12b3d_row6_col11, #T_12b3d_row6_col12, #T_12b3d_row8_col0, #T_12b3d_row8_col1, #T_12b3d_row8_col2, #T_12b3d_row8_col3, #T_12b3d_row8_col4, #T_12b3d_row8_col5, #T_12b3d_row8_col6, #T_12b3d_row8_col8, #T_12b3d_row8_col9, #T_12b3d_row8_col11, #T_12b3d_row8_col12, #T_12b3d_row10_col9, #T_12b3d_row12_col0, #T_12b3d_row12_col1, #T_12b3d_row12_col2, #T_12b3d_row12_col3, #T_12b3d_row12_col4, #T_12b3d_row12_col5, #T_12b3d_row12_col6, #T_12b3d_row12_col7, #T_12b3d_row12_col8, #T_12b3d_row12_col10, #T_12b3d_row12_col11, #T_12b3d_row12_col12, #T_12b3d_row13_col0, #T_12b3d_row13_col1, #T_12b3d_row13_col3, #T_12b3d_row13_col5, #T_12b3d_row13_col6, #T_12b3d_row13_col7, #T_12b3d_row13_col8, #T_12b3d_row13_col10, #T_12b3d_row13_col11, #T_12b3d_row13_col12, #T_12b3d_row14_col0, #T_12b3d_row14_col1, #T_12b3d_row14_col2, #T_12b3d_row14_col3, #T_12b3d_row14_col4, #T_12b3d_row14_col6, #T_12b3d_row14_col10, #T_12b3d_row14_col11, #T_12b3d_row14_col12, #T_12b3d_row15_col6, #T_12b3d_row16_col2, #T_12b3d_row16_col3, #T_12b3d_row16_col4, #T_12b3d_row16_col5, #T_12b3d_row16_col9, #T_12b3d_row17_col9, #T_12b3d_row18_col0, #T_12b3d_row18_col1, #T_12b3d_row18_col2, #T_12b3d_row18_col3, #T_12b3d_row18_col4, #T_12b3d_row18_col5, #T_12b3d_row18_col6, #T_12b3d_row18_col9, #T_12b3d_row18_col11, #T_12b3d_row18_col12, #T_12b3d_row19_col0, #T_12b3d_row19_col1, #T_12b3d_row19_col2, #T_12b3d_row19_col3, #T_12b3d_row19_col4, #T_12b3d_row19_col5, #T_12b3d_row19_col6, #T_12b3d_row19_col7, #T_12b3d_row19_col8, #T_12b3d_row19_col10, #T_12b3d_row19_col11, #T_12b3d_row19_col12, #T_12b3d_row20_col6, #T_12b3d_row20_col10, #T_12b3d_row21_col0, #T_12b3d_row21_col2, #T_12b3d_row21_col4, #T_12b3d_row21_col7, #T_12b3d_row21_col8, #T_12b3d_row21_col10, #T_12b3d_row21_col11, #T_12b3d_row22_col0, #T_12b3d_row22_col1, #T_12b3d_row22_col2, #T_12b3d_row22_col3, #T_12b3d_row22_col4, #T_12b3d_row22_col5, #T_12b3d_row22_col7, #T_12b3d_row22_col8, #T_12b3d_row22_col10, #T_12b3d_row22_col11, #T_12b3d_row22_col12, #T_12b3d_row24_col6, #T_12b3d_row24_col10, #T_12b3d_row25_col7, #T_12b3d_row25_col8, #T_12b3d_row25_col9, #T_12b3d_row26_col9, #T_12b3d_row27_col0, #T_12b3d_row27_col1, #T_12b3d_row27_col2, #T_12b3d_row27_col3, #T_12b3d_row27_col4, #T_12b3d_row27_col5, #T_12b3d_row27_col7, #T_12b3d_row27_col8, #T_12b3d_row27_col11, #T_12b3d_row27_col12, #T_12b3d_row28_col0, #T_12b3d_row28_col1, #T_12b3d_row28_col2, #T_12b3d_row28_col3, #T_12b3d_row28_col4, #T_12b3d_row28_col5, #T_12b3d_row28_col7, #T_12b3d_row28_col10, #T_12b3d_row28_col11, #T_12b3d_row28_col12, #T_12b3d_row29_col0, #T_12b3d_row29_col1, #T_12b3d_row29_col2, #T_12b3d_row29_col6, #T_12b3d_row29_col7, #T_12b3d_row29_col8, #T_12b3d_row29_col10, #T_12b3d_row29_col11, #T_12b3d_row29_col12, #T_12b3d_row31_col2, #T_12b3d_row31_col3, #T_12b3d_row31_col4, #T_12b3d_row31_col5, #T_12b3d_row31_col6, #T_12b3d_row32_col0, #T_12b3d_row32_col1, #T_12b3d_row32_col2, #T_12b3d_row32_col3, #T_12b3d_row32_col4, #T_12b3d_row32_col5, #T_12b3d_row32_col6, #T_12b3d_row32_col11, #T_12b3d_row32_col12, #T_12b3d_row33_col9, #T_12b3d_row34_col1, #T_12b3d_row34_col3, #T_12b3d_row34_col5, #T_12b3d_row34_col7, #T_12b3d_row34_col8, #T_12b3d_row34_col10, #T_12b3d_row34_col12, #T_12b3d_row35_col6, #T_12b3d_row35_col9, #T_12b3d_row36_col0, #T_12b3d_row36_col1, #T_12b3d_row36_col2, #T_12b3d_row36_col3, #T_12b3d_row36_col4, #T_12b3d_row36_col5, #T_12b3d_row36_col6, #T_12b3d_row36_col7, #T_12b3d_row36_col8, #T_12b3d_row36_col9, #T_12b3d_row36_col11, #T_12b3d_row36_col12, #T_12b3d_row37_col6, #T_12b3d_row38_col0, #T_12b3d_row38_col2, #T_12b3d_row38_col4, #T_12b3d_row38_col7, #T_12b3d_row38_col8, #T_12b3d_row38_col11, #T_12b3d_row39_col2, #T_12b3d_row39_col3, #T_12b3d_row39_col4, #T_12b3d_row39_col5, #T_12b3d_row39_col6, #T_12b3d_row39_col9, #T_12b3d_row39_col10, #T_12b3d_row40_col9, #T_12b3d_row40_col10, #T_12b3d_row41_col0, #T_12b3d_row41_col2, #T_12b3d_row41_col3, #T_12b3d_row41_col4, #T_12b3d_row41_col5, #T_12b3d_row41_col6, #T_12b3d_row41_col9, #T_12b3d_row41_col11, #T_12b3d_row42_col0, #T_12b3d_row42_col1, #T_12b3d_row42_col6, #T_12b3d_row42_col10, #T_12b3d_row42_col11, #T_12b3d_row42_col12, #T_12b3d_row43_col7, #T_12b3d_row43_col8, #T_12b3d_row43_col9, #T_12b3d_row44_col0, #T_12b3d_row44_col1, #T_12b3d_row44_col2, #T_12b3d_row44_col4, #T_12b3d_row44_col11, #T_12b3d_row44_col12, #T_12b3d_row45_col0, #T_12b3d_row45_col1, #T_12b3d_row45_col3, #T_12b3d_row45_col5, #T_12b3d_row45_col7, #T_12b3d_row45_col8, #T_12b3d_row45_col10, #T_12b3d_row45_col11, #T_12b3d_row45_col12, #T_12b3d_row46_col0, #T_12b3d_row46_col1, #T_12b3d_row46_col2, #T_12b3d_row46_col3, #T_12b3d_row46_col4, #T_12b3d_row46_col5, #T_12b3d_row46_col6, #T_12b3d_row46_col7, #T_12b3d_row46_col8, #T_12b3d_row46_col10, #T_12b3d_row46_col11, #T_12b3d_row46_col12, #T_12b3d_row47_col9, #T_12b3d_row48_col4, #T_12b3d_row48_col7, #T_12b3d_row48_col8, #T_12b3d_row48_col10, #T_12b3d_row49_col7, #T_12b3d_row49_col8, #T_12b3d_row49_col9, #T_12b3d_row49_col10 {\n",
       "  background: lightgreen;\n",
       "}\n",
       "#T_12b3d_row0_col7, #T_12b3d_row1_col2, #T_12b3d_row1_col4, #T_12b3d_row1_col6, #T_12b3d_row2_col6, #T_12b3d_row11_col0, #T_12b3d_row11_col2, #T_12b3d_row11_col4, #T_12b3d_row11_col11, #T_12b3d_row15_col10, #T_12b3d_row16_col7, #T_12b3d_row16_col8, #T_12b3d_row20_col9, #T_12b3d_row23_col1, #T_12b3d_row23_col3, #T_12b3d_row23_col5, #T_12b3d_row23_col7, #T_12b3d_row23_col8, #T_12b3d_row23_col12, #T_12b3d_row26_col10, #T_12b3d_row27_col6, #T_12b3d_row27_col9, #T_12b3d_row27_col10, #T_12b3d_row29_col9, #T_12b3d_row30_col0, #T_12b3d_row30_col1, #T_12b3d_row30_col2, #T_12b3d_row30_col3, #T_12b3d_row30_col4, #T_12b3d_row30_col5, #T_12b3d_row30_col6, #T_12b3d_row30_col11, #T_12b3d_row30_col12, #T_12b3d_row33_col0, #T_12b3d_row33_col1, #T_12b3d_row33_col3, #T_12b3d_row33_col5, #T_12b3d_row33_col8, #T_12b3d_row33_col10, #T_12b3d_row33_col11, #T_12b3d_row33_col12, #T_12b3d_row37_col9, #T_12b3d_row38_col9, #T_12b3d_row39_col7, #T_12b3d_row39_col8, #T_12b3d_row40_col1, #T_12b3d_row40_col12, #T_12b3d_row43_col0, #T_12b3d_row43_col2, #T_12b3d_row43_col3, #T_12b3d_row43_col4, #T_12b3d_row43_col5, #T_12b3d_row43_col11, #T_12b3d_row47_col7, #T_12b3d_row47_col8, #T_12b3d_row47_col10, #T_12b3d_row49_col0, #T_12b3d_row49_col1, #T_12b3d_row49_col2, #T_12b3d_row49_col3, #T_12b3d_row49_col4, #T_12b3d_row49_col5, #T_12b3d_row49_col6, #T_12b3d_row49_col11, #T_12b3d_row49_col12 {\n",
       "  background: red;\n",
       "}\n",
       "#T_12b3d_row0_col9, #T_12b3d_row4_col0, #T_12b3d_row4_col1, #T_12b3d_row4_col2, #T_12b3d_row4_col3, #T_12b3d_row4_col4, #T_12b3d_row4_col7, #T_12b3d_row4_col8, #T_12b3d_row4_col10, #T_12b3d_row4_col11, #T_12b3d_row4_col12, #T_12b3d_row9_col6, #T_12b3d_row11_col9, #T_12b3d_row13_col2, #T_12b3d_row13_col4, #T_12b3d_row14_col5, #T_12b3d_row15_col9, #T_12b3d_row16_col6, #T_12b3d_row20_col0, #T_12b3d_row20_col1, #T_12b3d_row20_col2, #T_12b3d_row20_col3, #T_12b3d_row20_col4, #T_12b3d_row20_col5, #T_12b3d_row20_col7, #T_12b3d_row20_col8, #T_12b3d_row20_col11, #T_12b3d_row20_col12, #T_12b3d_row21_col6, #T_12b3d_row23_col9, #T_12b3d_row25_col10, #T_12b3d_row30_col9, #T_12b3d_row30_col10, #T_12b3d_row31_col0, #T_12b3d_row31_col1, #T_12b3d_row31_col7, #T_12b3d_row31_col8, #T_12b3d_row31_col10, #T_12b3d_row31_col11, #T_12b3d_row31_col12, #T_12b3d_row34_col0, #T_12b3d_row34_col2, #T_12b3d_row34_col4, #T_12b3d_row34_col11, #T_12b3d_row37_col0, #T_12b3d_row37_col1, #T_12b3d_row37_col2, #T_12b3d_row37_col3, #T_12b3d_row37_col4, #T_12b3d_row37_col5, #T_12b3d_row37_col7, #T_12b3d_row37_col8, #T_12b3d_row37_col10, #T_12b3d_row37_col11, #T_12b3d_row37_col12, #T_12b3d_row38_col1, #T_12b3d_row38_col3, #T_12b3d_row38_col5, #T_12b3d_row38_col12, #T_12b3d_row42_col7, #T_12b3d_row42_col8, #T_12b3d_row44_col3, #T_12b3d_row44_col5, #T_12b3d_row45_col6, #T_12b3d_row48_col6 {\n",
       "  background: lightgreen;\n",
       "  color: blue;\n",
       "}\n",
       "</style>\n",
       "<table id=\"T_12b3d_\">\n",
       "  <thead>\n",
       "    <tr>\n",
       "      <th class=\"blank level0\" >&nbsp;</th>\n",
       "      <th class=\"col_heading level0 col0\" >four year average in state tuition</th>\n",
       "      <th class=\"col_heading level0 col1\" >four year average out of state tuition</th>\n",
       "      <th class=\"col_heading level0 col2\" >years to repay in state 4 year uni based on early career pay</th>\n",
       "      <th class=\"col_heading level0 col3\" >years to repay out of state 4 year uni based on early career pay</th>\n",
       "      <th class=\"col_heading level0 col4\" >years to repay in state 4 year uni based on mid career pay</th>\n",
       "      <th class=\"col_heading level0 col5\" >years to repay out of state 4 year uni based on mid career pay</th>\n",
       "      <th class=\"col_heading level0 col6\" >number of schools</th>\n",
       "      <th class=\"col_heading level0 col7\" >average early_career_pay</th>\n",
       "      <th class=\"col_heading level0 col8\" >average mid_career_pay</th>\n",
       "      <th class=\"col_heading level0 col9\" >average make_world_better_percent</th>\n",
       "      <th class=\"col_heading level0 col10\" >average stem_percent</th>\n",
       "      <th class=\"col_heading level0 col11\" >average in_state_tuition</th>\n",
       "      <th class=\"col_heading level0 col12\" >average out_of_state_tuition</th>\n",
       "    </tr>\n",
       "  </thead>\n",
       "  <tbody>\n",
       "    <tr>\n",
       "      <th id=\"T_12b3d_level0_row0\" class=\"row_heading level0 row0\" >Alabama</th>\n",
       "      <td id=\"T_12b3d_row0_col0\" class=\"data row0 col0\" >64536.952381</td>\n",
       "      <td id=\"T_12b3d_row0_col1\" class=\"data row0 col1\" >89441.523810</td>\n",
       "      <td id=\"T_12b3d_row0_col2\" class=\"data row0 col2\" >1.443318</td>\n",
       "      <td id=\"T_12b3d_row0_col3\" class=\"data row0 col3\" >2.000290</td>\n",
       "      <td id=\"T_12b3d_row0_col4\" class=\"data row0 col4\" >0.795023</td>\n",
       "      <td id=\"T_12b3d_row0_col5\" class=\"data row0 col5\" >1.101820</td>\n",
       "      <td id=\"T_12b3d_row0_col6\" class=\"data row0 col6\" >21</td>\n",
       "      <td id=\"T_12b3d_row0_col7\" class=\"data row0 col7\" >44714.285714</td>\n",
       "      <td id=\"T_12b3d_row0_col8\" class=\"data row0 col8\" >81176.190476</td>\n",
       "      <td id=\"T_12b3d_row0_col9\" class=\"data row0 col9\" >60.047619</td>\n",
       "      <td id=\"T_12b3d_row0_col10\" class=\"data row0 col10\" >14.047619</td>\n",
       "      <td id=\"T_12b3d_row0_col11\" class=\"data row0 col11\" >16134.238095</td>\n",
       "      <td id=\"T_12b3d_row0_col12\" class=\"data row0 col12\" >22360.380952</td>\n",
       "    </tr>\n",
       "    <tr>\n",
       "      <th id=\"T_12b3d_level0_row1\" class=\"row_heading level0 row1\" >Alaska</th>\n",
       "      <td id=\"T_12b3d_row1_col0\" class=\"data row1 col0\" >48806.666667</td>\n",
       "      <td id=\"T_12b3d_row1_col1\" class=\"data row1 col1\" >91926.666667</td>\n",
       "      <td id=\"T_12b3d_row1_col2\" class=\"data row1 col2\" >0.885248</td>\n",
       "      <td id=\"T_12b3d_row1_col3\" class=\"data row1 col3\" >1.667352</td>\n",
       "      <td id=\"T_12b3d_row1_col4\" class=\"data row1 col4\" >0.500068</td>\n",
       "      <td id=\"T_12b3d_row1_col5\" class=\"data row1 col5\" >0.941872</td>\n",
       "      <td id=\"T_12b3d_row1_col6\" class=\"data row1 col6\" >3</td>\n",
       "      <td id=\"T_12b3d_row1_col7\" class=\"data row1 col7\" >55133.333333</td>\n",
       "      <td id=\"T_12b3d_row1_col8\" class=\"data row1 col8\" >97600.000000</td>\n",
       "      <td id=\"T_12b3d_row1_col9\" class=\"data row1 col9\" >59.333333</td>\n",
       "      <td id=\"T_12b3d_row1_col10\" class=\"data row1 col10\" >12.000000</td>\n",
       "      <td id=\"T_12b3d_row1_col11\" class=\"data row1 col11\" >12201.666667</td>\n",
       "      <td id=\"T_12b3d_row1_col12\" class=\"data row1 col12\" >22981.666667</td>\n",
       "    </tr>\n",
       "    <tr>\n",
       "      <th id=\"T_12b3d_level0_row2\" class=\"row_heading level0 row2\" >Arizona</th>\n",
       "      <td id=\"T_12b3d_row2_col0\" class=\"data row2 col0\" >74048.000000</td>\n",
       "      <td id=\"T_12b3d_row2_col1\" class=\"data row2 col1\" >124932.000000</td>\n",
       "      <td id=\"T_12b3d_row2_col2\" class=\"data row2 col2\" >1.512212</td>\n",
       "      <td id=\"T_12b3d_row2_col3\" class=\"data row2 col3\" >2.551368</td>\n",
       "      <td id=\"T_12b3d_row2_col4\" class=\"data row2 col4\" >0.839864</td>\n",
       "      <td id=\"T_12b3d_row2_col5\" class=\"data row2 col5\" >1.416998</td>\n",
       "      <td id=\"T_12b3d_row2_col6\" class=\"data row2 col6\" >3</td>\n",
       "      <td id=\"T_12b3d_row2_col7\" class=\"data row2 col7\" >48966.666667</td>\n",
       "      <td id=\"T_12b3d_row2_col8\" class=\"data row2 col8\" >88166.666667</td>\n",
       "      <td id=\"T_12b3d_row2_col9\" class=\"data row2 col9\" >58.666667</td>\n",
       "      <td id=\"T_12b3d_row2_col10\" class=\"data row2 col10\" >11.666667</td>\n",
       "      <td id=\"T_12b3d_row2_col11\" class=\"data row2 col11\" >18512.000000</td>\n",
       "      <td id=\"T_12b3d_row2_col12\" class=\"data row2 col12\" >31233.000000</td>\n",
       "    </tr>\n",
       "    <tr>\n",
       "      <th id=\"T_12b3d_level0_row3\" class=\"row_heading level0 row3\" >Arkansas</th>\n",
       "      <td id=\"T_12b3d_row3_col0\" class=\"data row3 col0\" >68785.428571</td>\n",
       "      <td id=\"T_12b3d_row3_col1\" class=\"data row3 col1\" >86816.571429</td>\n",
       "      <td id=\"T_12b3d_row3_col2\" class=\"data row3 col2\" >1.508216</td>\n",
       "      <td id=\"T_12b3d_row3_col3\" class=\"data row3 col3\" >1.903574</td>\n",
       "      <td id=\"T_12b3d_row3_col4\" class=\"data row3 col4\" >0.841927</td>\n",
       "      <td id=\"T_12b3d_row3_col5\" class=\"data row3 col5\" >1.062626</td>\n",
       "      <td id=\"T_12b3d_row3_col6\" class=\"data row3 col6\" >14</td>\n",
       "      <td id=\"T_12b3d_row3_col7\" class=\"data row3 col7\" >45607.142857</td>\n",
       "      <td id=\"T_12b3d_row3_col8\" class=\"data row3 col8\" >81700.000000</td>\n",
       "      <td id=\"T_12b3d_row3_col9\" class=\"data row3 col9\" >57.571429</td>\n",
       "      <td id=\"T_12b3d_row3_col10\" class=\"data row3 col10\" >14.071429</td>\n",
       "      <td id=\"T_12b3d_row3_col11\" class=\"data row3 col11\" >17196.357143</td>\n",
       "      <td id=\"T_12b3d_row3_col12\" class=\"data row3 col12\" >21704.142857</td>\n",
       "    </tr>\n",
       "    <tr>\n",
       "      <th id=\"T_12b3d_level0_row4\" class=\"row_heading level0 row4\" >California</th>\n",
       "      <td id=\"T_12b3d_row4_col0\" class=\"data row4 col0\" >190626.153846</td>\n",
       "      <td id=\"T_12b3d_row4_col1\" class=\"data row4 col1\" >193550.461538</td>\n",
       "      <td id=\"T_12b3d_row4_col2\" class=\"data row4 col2\" >2.811595</td>\n",
       "      <td id=\"T_12b3d_row4_col3\" class=\"data row4 col3\" >2.854727</td>\n",
       "      <td id=\"T_12b3d_row4_col4\" class=\"data row4 col4\" >1.526512</td>\n",
       "      <td id=\"T_12b3d_row4_col5\" class=\"data row4 col5\" >1.549930</td>\n",
       "      <td id=\"T_12b3d_row4_col6\" class=\"data row4 col6\" >13</td>\n",
       "      <td id=\"T_12b3d_row4_col7\" class=\"data row4 col7\" >67800.000000</td>\n",
       "      <td id=\"T_12b3d_row4_col8\" class=\"data row4 col8\" >124876.923077</td>\n",
       "      <td id=\"T_12b3d_row4_col9\" class=\"data row4 col9\" >49.769231</td>\n",
       "      <td id=\"T_12b3d_row4_col10\" class=\"data row4 col10\" >30.615385</td>\n",
       "      <td id=\"T_12b3d_row4_col11\" class=\"data row4 col11\" >47656.538462</td>\n",
       "      <td id=\"T_12b3d_row4_col12\" class=\"data row4 col12\" >48387.615385</td>\n",
       "    </tr>\n",
       "    <tr>\n",
       "      <th id=\"T_12b3d_level0_row5\" class=\"row_heading level0 row5\" >Colorado</th>\n",
       "      <td id=\"T_12b3d_row5_col0\" class=\"data row5 col0\" >83676.615385</td>\n",
       "      <td id=\"T_12b3d_row5_col1\" class=\"data row5 col1\" >123681.230769</td>\n",
       "      <td id=\"T_12b3d_row5_col2\" class=\"data row5 col2\" >1.601820</td>\n",
       "      <td id=\"T_12b3d_row5_col3\" class=\"data row5 col3\" >2.367628</td>\n",
       "      <td id=\"T_12b3d_row5_col4\" class=\"data row5 col4\" >0.891929</td>\n",
       "      <td id=\"T_12b3d_row5_col5\" class=\"data row5 col5\" >1.318347</td>\n",
       "      <td id=\"T_12b3d_row5_col6\" class=\"data row5 col6\" >13</td>\n",
       "      <td id=\"T_12b3d_row5_col7\" class=\"data row5 col7\" >52238.461538</td>\n",
       "      <td id=\"T_12b3d_row5_col8\" class=\"data row5 col8\" >93815.384615</td>\n",
       "      <td id=\"T_12b3d_row5_col9\" class=\"data row5 col9\" >53.923077</td>\n",
       "      <td id=\"T_12b3d_row5_col10\" class=\"data row5 col10\" >20.692308</td>\n",
       "      <td id=\"T_12b3d_row5_col11\" class=\"data row5 col11\" >20919.153846</td>\n",
       "      <td id=\"T_12b3d_row5_col12\" class=\"data row5 col12\" >30920.307692</td>\n",
       "    </tr>\n",
       "    <tr>\n",
       "      <th id=\"T_12b3d_level0_row6\" class=\"row_heading level0 row6\" >Connecticut</th>\n",
       "      <td id=\"T_12b3d_row6_col0\" class=\"data row6 col0\" >135868.444444</td>\n",
       "      <td id=\"T_12b3d_row6_col1\" class=\"data row6 col1\" >151483.555556</td>\n",
       "      <td id=\"T_12b3d_row6_col2\" class=\"data row6 col2\" >2.469587</td>\n",
       "      <td id=\"T_12b3d_row6_col3\" class=\"data row6 col3\" >2.753412</td>\n",
       "      <td id=\"T_12b3d_row6_col4\" class=\"data row6 col4\" >1.365436</td>\n",
       "      <td id=\"T_12b3d_row6_col5\" class=\"data row6 col5\" >1.522363</td>\n",
       "      <td id=\"T_12b3d_row6_col6\" class=\"data row6 col6\" >18</td>\n",
       "      <td id=\"T_12b3d_row6_col7\" class=\"data row6 col7\" >55016.666667</td>\n",
       "      <td id=\"T_12b3d_row6_col8\" class=\"data row6 col8\" >99505.555556</td>\n",
       "      <td id=\"T_12b3d_row6_col9\" class=\"data row6 col9\" >51.000000</td>\n",
       "      <td id=\"T_12b3d_row6_col10\" class=\"data row6 col10\" >15.888889</td>\n",
       "      <td id=\"T_12b3d_row6_col11\" class=\"data row6 col11\" >33967.111111</td>\n",
       "      <td id=\"T_12b3d_row6_col12\" class=\"data row6 col12\" >37870.888889</td>\n",
       "    </tr>\n",
       "    <tr>\n",
       "      <th id=\"T_12b3d_level0_row7\" class=\"row_heading level0 row7\" >Delaware</th>\n",
       "      <td id=\"T_12b3d_row7_col0\" class=\"data row7 col0\" >66771.200000</td>\n",
       "      <td id=\"T_12b3d_row7_col1\" class=\"data row7 col1\" >90504.000000</td>\n",
       "      <td id=\"T_12b3d_row7_col2\" class=\"data row7 col2\" >1.361566</td>\n",
       "      <td id=\"T_12b3d_row7_col3\" class=\"data row7 col3\" >1.845514</td>\n",
       "      <td id=\"T_12b3d_row7_col4\" class=\"data row7 col4\" >0.779855</td>\n",
       "      <td id=\"T_12b3d_row7_col5\" class=\"data row7 col5\" >1.057043</td>\n",
       "      <td id=\"T_12b3d_row7_col6\" class=\"data row7 col6\" >5</td>\n",
       "      <td id=\"T_12b3d_row7_col7\" class=\"data row7 col7\" >49040.000000</td>\n",
       "      <td id=\"T_12b3d_row7_col8\" class=\"data row7 col8\" >85620.000000</td>\n",
       "      <td id=\"T_12b3d_row7_col9\" class=\"data row7 col9\" >49.400000</td>\n",
       "      <td id=\"T_12b3d_row7_col10\" class=\"data row7 col10\" >12.600000</td>\n",
       "      <td id=\"T_12b3d_row7_col11\" class=\"data row7 col11\" >16692.800000</td>\n",
       "      <td id=\"T_12b3d_row7_col12\" class=\"data row7 col12\" >22626.000000</td>\n",
       "    </tr>\n",
       "    <tr>\n",
       "      <th id=\"T_12b3d_level0_row8\" class=\"row_heading level0 row8\" >Florida</th>\n",
       "      <td id=\"T_12b3d_row8_col0\" class=\"data row8 col0\" >96486.222222</td>\n",
       "      <td id=\"T_12b3d_row8_col1\" class=\"data row8 col1\" >125415.333333</td>\n",
       "      <td id=\"T_12b3d_row8_col2\" class=\"data row8 col2\" >1.920124</td>\n",
       "      <td id=\"T_12b3d_row8_col3\" class=\"data row8 col3\" >2.495828</td>\n",
       "      <td id=\"T_12b3d_row8_col4\" class=\"data row8 col4\" >1.066670</td>\n",
       "      <td id=\"T_12b3d_row8_col5\" class=\"data row8 col5\" >1.386486</td>\n",
       "      <td id=\"T_12b3d_row8_col6\" class=\"data row8 col6\" >18</td>\n",
       "      <td id=\"T_12b3d_row8_col7\" class=\"data row8 col7\" >50250.000000</td>\n",
       "      <td id=\"T_12b3d_row8_col8\" class=\"data row8 col8\" >90455.555556</td>\n",
       "      <td id=\"T_12b3d_row8_col9\" class=\"data row8 col9\" >54.500000</td>\n",
       "      <td id=\"T_12b3d_row8_col10\" class=\"data row8 col10\" >14.388889</td>\n",
       "      <td id=\"T_12b3d_row8_col11\" class=\"data row8 col11\" >24121.555556</td>\n",
       "      <td id=\"T_12b3d_row8_col12\" class=\"data row8 col12\" >31353.833333</td>\n",
       "    </tr>\n",
       "    <tr>\n",
       "      <th id=\"T_12b3d_level0_row9\" class=\"row_heading level0 row9\" >Georgia</th>\n",
       "      <td id=\"T_12b3d_row9_col0\" class=\"data row9 col0\" >84775.636364</td>\n",
       "      <td id=\"T_12b3d_row9_col1\" class=\"data row9 col1\" >113883.636364</td>\n",
       "      <td id=\"T_12b3d_row9_col2\" class=\"data row9 col2\" >1.746969</td>\n",
       "      <td id=\"T_12b3d_row9_col3\" class=\"data row9 col3\" >2.346797</td>\n",
       "      <td id=\"T_12b3d_row9_col4\" class=\"data row9 col4\" >0.977804</td>\n",
       "      <td id=\"T_12b3d_row9_col5\" class=\"data row9 col5\" >1.313537</td>\n",
       "      <td id=\"T_12b3d_row9_col6\" class=\"data row9 col6\" >22</td>\n",
       "      <td id=\"T_12b3d_row9_col7\" class=\"data row9 col7\" >48527.272727</td>\n",
       "      <td id=\"T_12b3d_row9_col8\" class=\"data row9 col8\" >86700.000000</td>\n",
       "      <td id=\"T_12b3d_row9_col9\" class=\"data row9 col9\" >52.863636</td>\n",
       "      <td id=\"T_12b3d_row9_col10\" class=\"data row9 col10\" >14.636364</td>\n",
       "      <td id=\"T_12b3d_row9_col11\" class=\"data row9 col11\" >21193.909091</td>\n",
       "      <td id=\"T_12b3d_row9_col12\" class=\"data row9 col12\" >28470.909091</td>\n",
       "    </tr>\n",
       "    <tr>\n",
       "      <th id=\"T_12b3d_level0_row10\" class=\"row_heading level0 row10\" >Hawaii</th>\n",
       "      <td id=\"T_12b3d_row10_col0\" class=\"data row10 col0\" >61283.200000</td>\n",
       "      <td id=\"T_12b3d_row10_col1\" class=\"data row10 col1\" >89276.800000</td>\n",
       "      <td id=\"T_12b3d_row10_col2\" class=\"data row10 col2\" >1.251188</td>\n",
       "      <td id=\"T_12b3d_row10_col3\" class=\"data row10 col3\" >1.822719</td>\n",
       "      <td id=\"T_12b3d_row10_col4\" class=\"data row10 col4\" >0.696084</td>\n",
       "      <td id=\"T_12b3d_row10_col5\" class=\"data row10 col5\" >1.014048</td>\n",
       "      <td id=\"T_12b3d_row10_col6\" class=\"data row10 col6\" >5</td>\n",
       "      <td id=\"T_12b3d_row10_col7\" class=\"data row10 col7\" >48980.000000</td>\n",
       "      <td id=\"T_12b3d_row10_col8\" class=\"data row10 col8\" >88040.000000</td>\n",
       "      <td id=\"T_12b3d_row10_col9\" class=\"data row10 col9\" >56.600000</td>\n",
       "      <td id=\"T_12b3d_row10_col10\" class=\"data row10 col10\" >12.400000</td>\n",
       "      <td id=\"T_12b3d_row10_col11\" class=\"data row10 col11\" >15320.800000</td>\n",
       "      <td id=\"T_12b3d_row10_col12\" class=\"data row10 col12\" >22319.200000</td>\n",
       "    </tr>\n",
       "    <tr>\n",
       "      <th id=\"T_12b3d_level0_row11\" class=\"row_heading level0 row11\" >Idaho</th>\n",
       "      <td id=\"T_12b3d_row11_col0\" class=\"data row11 col0\" >42009.333333</td>\n",
       "      <td id=\"T_12b3d_row11_col1\" class=\"data row11 col1\" >83246.666667</td>\n",
       "      <td id=\"T_12b3d_row11_col2\" class=\"data row11 col2\" >0.845826</td>\n",
       "      <td id=\"T_12b3d_row11_col3\" class=\"data row11 col3\" >1.676107</td>\n",
       "      <td id=\"T_12b3d_row11_col4\" class=\"data row11 col4\" >0.477741</td>\n",
       "      <td id=\"T_12b3d_row11_col5\" class=\"data row11 col5\" >0.946702</td>\n",
       "      <td id=\"T_12b3d_row11_col6\" class=\"data row11 col6\" >6</td>\n",
       "      <td id=\"T_12b3d_row11_col7\" class=\"data row11 col7\" >49666.666667</td>\n",
       "      <td id=\"T_12b3d_row11_col8\" class=\"data row11 col8\" >87933.333333</td>\n",
       "      <td id=\"T_12b3d_row11_col9\" class=\"data row11 col9\" >60.000000</td>\n",
       "      <td id=\"T_12b3d_row11_col10\" class=\"data row11 col10\" >12.333333</td>\n",
       "      <td id=\"T_12b3d_row11_col11\" class=\"data row11 col11\" >10502.333333</td>\n",
       "      <td id=\"T_12b3d_row11_col12\" class=\"data row11 col12\" >20811.666667</td>\n",
       "    </tr>\n",
       "    <tr>\n",
       "      <th id=\"T_12b3d_level0_row12\" class=\"row_heading level0 row12\" >Illinois</th>\n",
       "      <td id=\"T_12b3d_row12_col0\" class=\"data row12 col0\" >136982.315789</td>\n",
       "      <td id=\"T_12b3d_row12_col1\" class=\"data row12 col1\" >145679.157895</td>\n",
       "      <td id=\"T_12b3d_row12_col2\" class=\"data row12 col2\" >2.456502</td>\n",
       "      <td id=\"T_12b3d_row12_col3\" class=\"data row12 col3\" >2.612462</td>\n",
       "      <td id=\"T_12b3d_row12_col4\" class=\"data row12 col4\" >1.351331</td>\n",
       "      <td id=\"T_12b3d_row12_col5\" class=\"data row12 col5\" >1.437126</td>\n",
       "      <td id=\"T_12b3d_row12_col6\" class=\"data row12 col6\" >19</td>\n",
       "      <td id=\"T_12b3d_row12_col7\" class=\"data row12 col7\" >55763.157895</td>\n",
       "      <td id=\"T_12b3d_row12_col8\" class=\"data row12 col8\" >101368.421053</td>\n",
       "      <td id=\"T_12b3d_row12_col9\" class=\"data row12 col9\" >51.263158</td>\n",
       "      <td id=\"T_12b3d_row12_col10\" class=\"data row12 col10\" >20.631579</td>\n",
       "      <td id=\"T_12b3d_row12_col11\" class=\"data row12 col11\" >34245.578947</td>\n",
       "      <td id=\"T_12b3d_row12_col12\" class=\"data row12 col12\" >36419.789474</td>\n",
       "    </tr>\n",
       "    <tr>\n",
       "      <th id=\"T_12b3d_level0_row13\" class=\"row_heading level0 row13\" >Indiana</th>\n",
       "      <td id=\"T_12b3d_row13_col0\" class=\"data row13 col0\" >143818.444444</td>\n",
       "      <td id=\"T_12b3d_row13_col1\" class=\"data row13 col1\" >149889.111111</td>\n",
       "      <td id=\"T_12b3d_row13_col2\" class=\"data row13 col2\" >2.716688</td>\n",
       "      <td id=\"T_12b3d_row13_col3\" class=\"data row13 col3\" >2.831361</td>\n",
       "      <td id=\"T_12b3d_row13_col4\" class=\"data row13 col4\" >1.494476</td>\n",
       "      <td id=\"T_12b3d_row13_col5\" class=\"data row13 col5\" >1.557559</td>\n",
       "      <td id=\"T_12b3d_row13_col6\" class=\"data row13 col6\" >18</td>\n",
       "      <td id=\"T_12b3d_row13_col7\" class=\"data row13 col7\" >52938.888889</td>\n",
       "      <td id=\"T_12b3d_row13_col8\" class=\"data row13 col8\" >96233.333333</td>\n",
       "      <td id=\"T_12b3d_row13_col9\" class=\"data row13 col9\" >51.444444</td>\n",
       "      <td id=\"T_12b3d_row13_col10\" class=\"data row13 col10\" >22.944444</td>\n",
       "      <td id=\"T_12b3d_row13_col11\" class=\"data row13 col11\" >35954.611111</td>\n",
       "      <td id=\"T_12b3d_row13_col12\" class=\"data row13 col12\" >37472.277778</td>\n",
       "    </tr>\n",
       "    <tr>\n",
       "      <th id=\"T_12b3d_level0_row14\" class=\"row_heading level0 row14\" >Iowa</th>\n",
       "      <td id=\"T_12b3d_row14_col0\" class=\"data row14 col0\" >127574.476190</td>\n",
       "      <td id=\"T_12b3d_row14_col1\" class=\"data row14 col1\" >136510.095238</td>\n",
       "      <td id=\"T_12b3d_row14_col2\" class=\"data row14 col2\" >2.640513</td>\n",
       "      <td id=\"T_12b3d_row14_col3\" class=\"data row14 col3\" >2.825460</td>\n",
       "      <td id=\"T_12b3d_row14_col4\" class=\"data row14 col4\" >1.461573</td>\n",
       "      <td id=\"T_12b3d_row14_col5\" class=\"data row14 col5\" >1.563945</td>\n",
       "      <td id=\"T_12b3d_row14_col6\" class=\"data row14 col6\" >21</td>\n",
       "      <td id=\"T_12b3d_row14_col7\" class=\"data row14 col7\" >48314.285714</td>\n",
       "      <td id=\"T_12b3d_row14_col8\" class=\"data row14 col8\" >87285.714286</td>\n",
       "      <td id=\"T_12b3d_row14_col9\" class=\"data row14 col9\" >50.047619</td>\n",
       "      <td id=\"T_12b3d_row14_col10\" class=\"data row14 col10\" >16.333333</td>\n",
       "      <td id=\"T_12b3d_row14_col11\" class=\"data row14 col11\" >31893.619048</td>\n",
       "      <td id=\"T_12b3d_row14_col12\" class=\"data row14 col12\" >34127.523810</td>\n",
       "    </tr>\n",
       "    <tr>\n",
       "      <th id=\"T_12b3d_level0_row15\" class=\"row_heading level0 row15\" >Kansas</th>\n",
       "      <td id=\"T_12b3d_row15_col0\" class=\"data row15 col0\" >84346.352941</td>\n",
       "      <td id=\"T_12b3d_row15_col1\" class=\"data row15 col1\" >104886.117647</td>\n",
       "      <td id=\"T_12b3d_row15_col2\" class=\"data row15 col2\" >1.814589</td>\n",
       "      <td id=\"T_12b3d_row15_col3\" class=\"data row15 col3\" >2.256472</td>\n",
       "      <td id=\"T_12b3d_row15_col4\" class=\"data row15 col4\" >1.007085</td>\n",
       "      <td id=\"T_12b3d_row15_col5\" class=\"data row15 col5\" >1.252328</td>\n",
       "      <td id=\"T_12b3d_row15_col6\" class=\"data row15 col6\" >17</td>\n",
       "      <td id=\"T_12b3d_row15_col7\" class=\"data row15 col7\" >46482.352941</td>\n",
       "      <td id=\"T_12b3d_row15_col8\" class=\"data row15 col8\" >83752.941176</td>\n",
       "      <td id=\"T_12b3d_row15_col9\" class=\"data row15 col9\" >60.352941</td>\n",
       "      <td id=\"T_12b3d_row15_col10\" class=\"data row15 col10\" >9.764706</td>\n",
       "      <td id=\"T_12b3d_row15_col11\" class=\"data row15 col11\" >21086.588235</td>\n",
       "      <td id=\"T_12b3d_row15_col12\" class=\"data row15 col12\" >26221.529412</td>\n",
       "    </tr>\n",
       "    <tr>\n",
       "      <th id=\"T_12b3d_level0_row16\" class=\"row_heading level0 row16\" >Kentucky</th>\n",
       "      <td id=\"T_12b3d_row16_col0\" class=\"data row16 col0\" >92465.500000</td>\n",
       "      <td id=\"T_12b3d_row16_col1\" class=\"data row16 col1\" >108970.166667</td>\n",
       "      <td id=\"T_12b3d_row16_col2\" class=\"data row16 col2\" >2.113296</td>\n",
       "      <td id=\"T_12b3d_row16_col3\" class=\"data row16 col3\" >2.490509</td>\n",
       "      <td id=\"T_12b3d_row16_col4\" class=\"data row16 col4\" >1.170264</td>\n",
       "      <td id=\"T_12b3d_row16_col5\" class=\"data row16 col5\" >1.379151</td>\n",
       "      <td id=\"T_12b3d_row16_col6\" class=\"data row16 col6\" >24</td>\n",
       "      <td id=\"T_12b3d_row16_col7\" class=\"data row16 col7\" >43754.166667</td>\n",
       "      <td id=\"T_12b3d_row16_col8\" class=\"data row16 col8\" >79012.500000</td>\n",
       "      <td id=\"T_12b3d_row16_col9\" class=\"data row16 col9\" >56.083333</td>\n",
       "      <td id=\"T_12b3d_row16_col10\" class=\"data row16 col10\" >10.708333</td>\n",
       "      <td id=\"T_12b3d_row16_col11\" class=\"data row16 col11\" >23116.375000</td>\n",
       "      <td id=\"T_12b3d_row16_col12\" class=\"data row16 col12\" >27242.541667</td>\n",
       "    </tr>\n",
       "    <tr>\n",
       "      <th id=\"T_12b3d_level0_row17\" class=\"row_heading level0 row17\" >Louisiana</th>\n",
       "      <td id=\"T_12b3d_row17_col0\" class=\"data row17 col0\" >61872.000000</td>\n",
       "      <td id=\"T_12b3d_row17_col1\" class=\"data row17 col1\" >81881.333333</td>\n",
       "      <td id=\"T_12b3d_row17_col2\" class=\"data row17 col2\" >1.318670</td>\n",
       "      <td id=\"T_12b3d_row17_col3\" class=\"data row17 col3\" >1.745126</td>\n",
       "      <td id=\"T_12b3d_row17_col4\" class=\"data row17 col4\" >0.720056</td>\n",
       "      <td id=\"T_12b3d_row17_col5\" class=\"data row17 col5\" >0.952921</td>\n",
       "      <td id=\"T_12b3d_row17_col6\" class=\"data row17 col6\" >15</td>\n",
       "      <td id=\"T_12b3d_row17_col7\" class=\"data row17 col7\" >46920.000000</td>\n",
       "      <td id=\"T_12b3d_row17_col8\" class=\"data row17 col8\" >85926.666667</td>\n",
       "      <td id=\"T_12b3d_row17_col9\" class=\"data row17 col9\" >58.666667</td>\n",
       "      <td id=\"T_12b3d_row17_col10\" class=\"data row17 col10\" >14.266667</td>\n",
       "      <td id=\"T_12b3d_row17_col11\" class=\"data row17 col11\" >15468.000000</td>\n",
       "      <td id=\"T_12b3d_row17_col12\" class=\"data row17 col12\" >20470.333333</td>\n",
       "    </tr>\n",
       "    <tr>\n",
       "      <th id=\"T_12b3d_level0_row18\" class=\"row_heading level0 row18\" >Maine</th>\n",
       "      <td id=\"T_12b3d_row18_col0\" class=\"data row18 col0\" >98022.000000</td>\n",
       "      <td id=\"T_12b3d_row18_col1\" class=\"data row18 col1\" >118617.500000</td>\n",
       "      <td id=\"T_12b3d_row18_col2\" class=\"data row18 col2\" >2.034443</td>\n",
       "      <td id=\"T_12b3d_row18_col3\" class=\"data row18 col3\" >2.461902</td>\n",
       "      <td id=\"T_12b3d_row18_col4\" class=\"data row18 col4\" >1.134186</td>\n",
       "      <td id=\"T_12b3d_row18_col5\" class=\"data row18 col5\" >1.372491</td>\n",
       "      <td id=\"T_12b3d_row18_col6\" class=\"data row18 col6\" >16</td>\n",
       "      <td id=\"T_12b3d_row18_col7\" class=\"data row18 col7\" >48181.250000</td>\n",
       "      <td id=\"T_12b3d_row18_col8\" class=\"data row18 col8\" >86425.000000</td>\n",
       "      <td id=\"T_12b3d_row18_col9\" class=\"data row18 col9\" >55.875000</td>\n",
       "      <td id=\"T_12b3d_row18_col10\" class=\"data row18 col10\" >13.375000</td>\n",
       "      <td id=\"T_12b3d_row18_col11\" class=\"data row18 col11\" >24505.500000</td>\n",
       "      <td id=\"T_12b3d_row18_col12\" class=\"data row18 col12\" >29654.375000</td>\n",
       "    </tr>\n",
       "    <tr>\n",
       "      <th id=\"T_12b3d_level0_row19\" class=\"row_heading level0 row19\" >Maryland</th>\n",
       "      <td id=\"T_12b3d_row19_col0\" class=\"data row19 col0\" >126087.529412</td>\n",
       "      <td id=\"T_12b3d_row19_col1\" class=\"data row19 col1\" >140075.294118</td>\n",
       "      <td id=\"T_12b3d_row19_col2\" class=\"data row19 col2\" >2.377163</td>\n",
       "      <td id=\"T_12b3d_row19_col3\" class=\"data row19 col3\" >2.640878</td>\n",
       "      <td id=\"T_12b3d_row19_col4\" class=\"data row19 col4\" >1.331607</td>\n",
       "      <td id=\"T_12b3d_row19_col5\" class=\"data row19 col5\" >1.479332</td>\n",
       "      <td id=\"T_12b3d_row19_col6\" class=\"data row19 col6\" >17</td>\n",
       "      <td id=\"T_12b3d_row19_col7\" class=\"data row19 col7\" >53041.176471</td>\n",
       "      <td id=\"T_12b3d_row19_col8\" class=\"data row19 col8\" >94688.235294</td>\n",
       "      <td id=\"T_12b3d_row19_col9\" class=\"data row19 col9\" >52.294118</td>\n",
       "      <td id=\"T_12b3d_row19_col10\" class=\"data row19 col10\" >17.294118</td>\n",
       "      <td id=\"T_12b3d_row19_col11\" class=\"data row19 col11\" >31521.882353</td>\n",
       "      <td id=\"T_12b3d_row19_col12\" class=\"data row19 col12\" >35018.823529</td>\n",
       "    </tr>\n",
       "    <tr>\n",
       "      <th id=\"T_12b3d_level0_row20\" class=\"row_heading level0 row20\" >Massachusetts</th>\n",
       "      <td id=\"T_12b3d_row20_col0\" class=\"data row20 col0\" >188594.857143</td>\n",
       "      <td id=\"T_12b3d_row20_col1\" class=\"data row20 col1\" >191714.476190</td>\n",
       "      <td id=\"T_12b3d_row20_col2\" class=\"data row20 col2\" >2.969107</td>\n",
       "      <td id=\"T_12b3d_row20_col3\" class=\"data row20 col3\" >3.018220</td>\n",
       "      <td id=\"T_12b3d_row20_col4\" class=\"data row20 col4\" >1.625684</td>\n",
       "      <td id=\"T_12b3d_row20_col5\" class=\"data row20 col5\" >1.652575</td>\n",
       "      <td id=\"T_12b3d_row20_col6\" class=\"data row20 col6\" >21</td>\n",
       "      <td id=\"T_12b3d_row20_col7\" class=\"data row20 col7\" >63519.047619</td>\n",
       "      <td id=\"T_12b3d_row20_col8\" class=\"data row20 col8\" >116009.523810</td>\n",
       "      <td id=\"T_12b3d_row20_col9\" class=\"data row20 col9\" >47.523810</td>\n",
       "      <td id=\"T_12b3d_row20_col10\" class=\"data row20 col10\" >28.380952</td>\n",
       "      <td id=\"T_12b3d_row20_col11\" class=\"data row20 col11\" >47148.714286</td>\n",
       "      <td id=\"T_12b3d_row20_col12\" class=\"data row20 col12\" >47928.619048</td>\n",
       "    </tr>\n",
       "    <tr>\n",
       "      <th id=\"T_12b3d_level0_row21\" class=\"row_heading level0 row21\" >Michigan</th>\n",
       "      <td id=\"T_12b3d_row21_col0\" class=\"data row21 col0\" >99996.545455</td>\n",
       "      <td id=\"T_12b3d_row21_col1\" class=\"data row21 col1\" >115760.181818</td>\n",
       "      <td id=\"T_12b3d_row21_col2\" class=\"data row21 col2\" >1.934339</td>\n",
       "      <td id=\"T_12b3d_row21_col3\" class=\"data row21 col3\" >2.239272</td>\n",
       "      <td id=\"T_12b3d_row21_col4\" class=\"data row21 col4\" >1.069898</td>\n",
       "      <td id=\"T_12b3d_row21_col5\" class=\"data row21 col5\" >1.238559</td>\n",
       "      <td id=\"T_12b3d_row21_col6\" class=\"data row21 col6\" >22</td>\n",
       "      <td id=\"T_12b3d_row21_col7\" class=\"data row21 col7\" >51695.454545</td>\n",
       "      <td id=\"T_12b3d_row21_col8\" class=\"data row21 col8\" >93463.636364</td>\n",
       "      <td id=\"T_12b3d_row21_col9\" class=\"data row21 col9\" >48.909091</td>\n",
       "      <td id=\"T_12b3d_row21_col10\" class=\"data row21 col10\" >21.772727</td>\n",
       "      <td id=\"T_12b3d_row21_col11\" class=\"data row21 col11\" >24999.136364</td>\n",
       "      <td id=\"T_12b3d_row21_col12\" class=\"data row21 col12\" >28940.045455</td>\n",
       "    </tr>\n",
       "    <tr>\n",
       "      <th id=\"T_12b3d_level0_row22\" class=\"row_heading level0 row22\" >Minnesota</th>\n",
       "      <td id=\"T_12b3d_row22_col0\" class=\"data row22 col0\" >133345.333333</td>\n",
       "      <td id=\"T_12b3d_row22_col1\" class=\"data row22 col1\" >142793.333333</td>\n",
       "      <td id=\"T_12b3d_row22_col2\" class=\"data row22 col2\" >2.602707</td>\n",
       "      <td id=\"T_12b3d_row22_col3\" class=\"data row22 col3\" >2.787118</td>\n",
       "      <td id=\"T_12b3d_row22_col4\" class=\"data row22 col4\" >1.432965</td>\n",
       "      <td id=\"T_12b3d_row22_col5\" class=\"data row22 col5\" >1.534496</td>\n",
       "      <td id=\"T_12b3d_row22_col6\" class=\"data row22 col6\" >9</td>\n",
       "      <td id=\"T_12b3d_row22_col7\" class=\"data row22 col7\" >51233.333333</td>\n",
       "      <td id=\"T_12b3d_row22_col8\" class=\"data row22 col8\" >93055.555556</td>\n",
       "      <td id=\"T_12b3d_row22_col9\" class=\"data row22 col9\" >49.111111</td>\n",
       "      <td id=\"T_12b3d_row22_col10\" class=\"data row22 col10\" >16.666667</td>\n",
       "      <td id=\"T_12b3d_row22_col11\" class=\"data row22 col11\" >33336.333333</td>\n",
       "      <td id=\"T_12b3d_row22_col12\" class=\"data row22 col12\" >35698.333333</td>\n",
       "    </tr>\n",
       "    <tr>\n",
       "      <th id=\"T_12b3d_level0_row23\" class=\"row_heading level0 row23\" >Mississippi</th>\n",
       "      <td id=\"T_12b3d_row23_col0\" class=\"data row23 col0\" >51116.000000</td>\n",
       "      <td id=\"T_12b3d_row23_col1\" class=\"data row23 col1\" >63625.142857</td>\n",
       "      <td id=\"T_12b3d_row23_col2\" class=\"data row23 col2\" >1.215807</td>\n",
       "      <td id=\"T_12b3d_row23_col3\" class=\"data row23 col3\" >1.513340</td>\n",
       "      <td id=\"T_12b3d_row23_col4\" class=\"data row23 col4\" >0.675181</td>\n",
       "      <td id=\"T_12b3d_row23_col5\" class=\"data row23 col5\" >0.840411</td>\n",
       "      <td id=\"T_12b3d_row23_col6\" class=\"data row23 col6\" >14</td>\n",
       "      <td id=\"T_12b3d_row23_col7\" class=\"data row23 col7\" >42042.857143</td>\n",
       "      <td id=\"T_12b3d_row23_col8\" class=\"data row23 col8\" >75707.142857</td>\n",
       "      <td id=\"T_12b3d_row23_col9\" class=\"data row23 col9\" >62.642857</td>\n",
       "      <td id=\"T_12b3d_row23_col10\" class=\"data row23 col10\" >14.642857</td>\n",
       "      <td id=\"T_12b3d_row23_col11\" class=\"data row23 col11\" >12779.000000</td>\n",
       "      <td id=\"T_12b3d_row23_col12\" class=\"data row23 col12\" >15906.285714</td>\n",
       "    </tr>\n",
       "    <tr>\n",
       "      <th id=\"T_12b3d_level0_row24\" class=\"row_heading level0 row24\" >Missouri</th>\n",
       "      <td id=\"T_12b3d_row24_col0\" class=\"data row24 col0\" >86910.352941</td>\n",
       "      <td id=\"T_12b3d_row24_col1\" class=\"data row24 col1\" >99148.235294</td>\n",
       "      <td id=\"T_12b3d_row24_col2\" class=\"data row24 col2\" >1.809745</td>\n",
       "      <td id=\"T_12b3d_row24_col3\" class=\"data row24 col3\" >2.064576</td>\n",
       "      <td id=\"T_12b3d_row24_col4\" class=\"data row24 col4\" >1.013011</td>\n",
       "      <td id=\"T_12b3d_row24_col5\" class=\"data row24 col5\" >1.155653</td>\n",
       "      <td id=\"T_12b3d_row24_col6\" class=\"data row24 col6\" >17</td>\n",
       "      <td id=\"T_12b3d_row24_col7\" class=\"data row24 col7\" >48023.529412</td>\n",
       "      <td id=\"T_12b3d_row24_col8\" class=\"data row24 col8\" >85794.117647</td>\n",
       "      <td id=\"T_12b3d_row24_col9\" class=\"data row24 col9\" >53.000000</td>\n",
       "      <td id=\"T_12b3d_row24_col10\" class=\"data row24 col10\" >15.705882</td>\n",
       "      <td id=\"T_12b3d_row24_col11\" class=\"data row24 col11\" >21727.588235</td>\n",
       "      <td id=\"T_12b3d_row24_col12\" class=\"data row24 col12\" >24787.058824</td>\n",
       "    </tr>\n",
       "    <tr>\n",
       "      <th id=\"T_12b3d_level0_row25\" class=\"row_heading level0 row25\" >Montana</th>\n",
       "      <td id=\"T_12b3d_row25_col0\" class=\"data row25 col0\" >78830.000000</td>\n",
       "      <td id=\"T_12b3d_row25_col1\" class=\"data row25 col1\" >111421.000000</td>\n",
       "      <td id=\"T_12b3d_row25_col2\" class=\"data row25 col2\" >1.507987</td>\n",
       "      <td id=\"T_12b3d_row25_col3\" class=\"data row25 col3\" >2.131440</td>\n",
       "      <td id=\"T_12b3d_row25_col4\" class=\"data row25 col4\" >0.823075</td>\n",
       "      <td id=\"T_12b3d_row25_col5\" class=\"data row25 col5\" >1.163362</td>\n",
       "      <td id=\"T_12b3d_row25_col6\" class=\"data row25 col6\" >4</td>\n",
       "      <td id=\"T_12b3d_row25_col7\" class=\"data row25 col7\" >52275.000000</td>\n",
       "      <td id=\"T_12b3d_row25_col8\" class=\"data row25 col8\" >95775.000000</td>\n",
       "      <td id=\"T_12b3d_row25_col9\" class=\"data row25 col9\" >58.000000</td>\n",
       "      <td id=\"T_12b3d_row25_col10\" class=\"data row25 col10\" >32.250000</td>\n",
       "      <td id=\"T_12b3d_row25_col11\" class=\"data row25 col11\" >19707.500000</td>\n",
       "      <td id=\"T_12b3d_row25_col12\" class=\"data row25 col12\" >27855.250000</td>\n",
       "    </tr>\n",
       "    <tr>\n",
       "      <th id=\"T_12b3d_level0_row26\" class=\"row_heading level0 row26\" >Nebraska</th>\n",
       "      <td id=\"T_12b3d_row26_col0\" class=\"data row26 col0\" >78756.727273</td>\n",
       "      <td id=\"T_12b3d_row26_col1\" class=\"data row26 col1\" >87004.000000</td>\n",
       "      <td id=\"T_12b3d_row26_col2\" class=\"data row26 col2\" >1.683163</td>\n",
       "      <td id=\"T_12b3d_row26_col3\" class=\"data row26 col3\" >1.859421</td>\n",
       "      <td id=\"T_12b3d_row26_col4\" class=\"data row26 col4\" >0.948461</td>\n",
       "      <td id=\"T_12b3d_row26_col5\" class=\"data row26 col5\" >1.047782</td>\n",
       "      <td id=\"T_12b3d_row26_col6\" class=\"data row26 col6\" >11</td>\n",
       "      <td id=\"T_12b3d_row26_col7\" class=\"data row26 col7\" >46790.909091</td>\n",
       "      <td id=\"T_12b3d_row26_col8\" class=\"data row26 col8\" >83036.363636</td>\n",
       "      <td id=\"T_12b3d_row26_col9\" class=\"data row26 col9\" >59.636364</td>\n",
       "      <td id=\"T_12b3d_row26_col10\" class=\"data row26 col10\" >8.727273</td>\n",
       "      <td id=\"T_12b3d_row26_col11\" class=\"data row26 col11\" >19689.181818</td>\n",
       "      <td id=\"T_12b3d_row26_col12\" class=\"data row26 col12\" >21751.000000</td>\n",
       "    </tr>\n",
       "    <tr>\n",
       "      <th id=\"T_12b3d_level0_row27\" class=\"row_heading level0 row27\" >Nevada</th>\n",
       "      <td id=\"T_12b3d_row27_col0\" class=\"data row27 col0\" >136964.000000</td>\n",
       "      <td id=\"T_12b3d_row27_col1\" class=\"data row27 col1\" >136964.000000</td>\n",
       "      <td id=\"T_12b3d_row27_col2\" class=\"data row27 col2\" >2.536370</td>\n",
       "      <td id=\"T_12b3d_row27_col3\" class=\"data row27 col3\" >2.536370</td>\n",
       "      <td id=\"T_12b3d_row27_col4\" class=\"data row27 col4\" >1.434178</td>\n",
       "      <td id=\"T_12b3d_row27_col5\" class=\"data row27 col5\" >1.434178</td>\n",
       "      <td id=\"T_12b3d_row27_col6\" class=\"data row27 col6\" >1</td>\n",
       "      <td id=\"T_12b3d_row27_col7\" class=\"data row27 col7\" >54000.000000</td>\n",
       "      <td id=\"T_12b3d_row27_col8\" class=\"data row27 col8\" >95500.000000</td>\n",
       "      <td id=\"T_12b3d_row27_col9\" class=\"data row27 col9\" >39.000000</td>\n",
       "      <td id=\"T_12b3d_row27_col10\" class=\"data row27 col10\" >2.000000</td>\n",
       "      <td id=\"T_12b3d_row27_col11\" class=\"data row27 col11\" >34241.000000</td>\n",
       "      <td id=\"T_12b3d_row27_col12\" class=\"data row27 col12\" >34241.000000</td>\n",
       "    </tr>\n",
       "    <tr>\n",
       "      <th id=\"T_12b3d_level0_row28\" class=\"row_heading level0 row28\" >New Hampshire</th>\n",
       "      <td id=\"T_12b3d_row28_col0\" class=\"data row28 col0\" >120004.363636</td>\n",
       "      <td id=\"T_12b3d_row28_col1\" class=\"data row28 col1\" >132453.090909</td>\n",
       "      <td id=\"T_12b3d_row28_col2\" class=\"data row28 col2\" >2.374187</td>\n",
       "      <td id=\"T_12b3d_row28_col3\" class=\"data row28 col3\" >2.620475</td>\n",
       "      <td id=\"T_12b3d_row28_col4\" class=\"data row28 col4\" >1.334730</td>\n",
       "      <td id=\"T_12b3d_row28_col5\" class=\"data row28 col5\" >1.473189</td>\n",
       "      <td id=\"T_12b3d_row28_col6\" class=\"data row28 col6\" >11</td>\n",
       "      <td id=\"T_12b3d_row28_col7\" class=\"data row28 col7\" >50545.454545</td>\n",
       "      <td id=\"T_12b3d_row28_col8\" class=\"data row28 col8\" >89909.090909</td>\n",
       "      <td id=\"T_12b3d_row28_col9\" class=\"data row28 col9\" >51.272727</td>\n",
       "      <td id=\"T_12b3d_row28_col10\" class=\"data row28 col10\" >16.181818</td>\n",
       "      <td id=\"T_12b3d_row28_col11\" class=\"data row28 col11\" >30001.090909</td>\n",
       "      <td id=\"T_12b3d_row28_col12\" class=\"data row28 col12\" >33113.272727</td>\n",
       "    </tr>\n",
       "    <tr>\n",
       "      <th id=\"T_12b3d_level0_row29\" class=\"row_heading level0 row29\" >New Jersey</th>\n",
       "      <td id=\"T_12b3d_row29_col0\" class=\"data row29 col0\" >104793.263158</td>\n",
       "      <td id=\"T_12b3d_row29_col1\" class=\"data row29 col1\" >123157.473684</td>\n",
       "      <td id=\"T_12b3d_row29_col2\" class=\"data row29 col2\" >1.910634</td>\n",
       "      <td id=\"T_12b3d_row29_col3\" class=\"data row29 col3\" >2.245458</td>\n",
       "      <td id=\"T_12b3d_row29_col4\" class=\"data row29 col4\" >1.043758</td>\n",
       "      <td id=\"T_12b3d_row29_col5\" class=\"data row29 col5\" >1.226668</td>\n",
       "      <td id=\"T_12b3d_row29_col6\" class=\"data row29 col6\" >19</td>\n",
       "      <td id=\"T_12b3d_row29_col7\" class=\"data row29 col7\" >54847.368421</td>\n",
       "      <td id=\"T_12b3d_row29_col8\" class=\"data row29 col8\" >100400.000000</td>\n",
       "      <td id=\"T_12b3d_row29_col9\" class=\"data row29 col9\" >46.473684</td>\n",
       "      <td id=\"T_12b3d_row29_col10\" class=\"data row29 col10\" >20.263158</td>\n",
       "      <td id=\"T_12b3d_row29_col11\" class=\"data row29 col11\" >26198.315789</td>\n",
       "      <td id=\"T_12b3d_row29_col12\" class=\"data row29 col12\" >30789.368421</td>\n",
       "    </tr>\n",
       "    <tr>\n",
       "      <th id=\"T_12b3d_level0_row30\" class=\"row_heading level0 row30\" >New Mexico</th>\n",
       "      <td id=\"T_12b3d_row30_col0\" class=\"data row30 col0\" >27658.666667</td>\n",
       "      <td id=\"T_12b3d_row30_col1\" class=\"data row30 col1\" >63734.666667</td>\n",
       "      <td id=\"T_12b3d_row30_col2\" class=\"data row30 col2\" >0.565232</td>\n",
       "      <td id=\"T_12b3d_row30_col3\" class=\"data row30 col3\" >1.302480</td>\n",
       "      <td id=\"T_12b3d_row30_col4\" class=\"data row30 col4\" >0.306298</td>\n",
       "      <td id=\"T_12b3d_row30_col5\" class=\"data row30 col5\" >0.705810</td>\n",
       "      <td id=\"T_12b3d_row30_col6\" class=\"data row30 col6\" >3</td>\n",
       "      <td id=\"T_12b3d_row30_col7\" class=\"data row30 col7\" >48933.333333</td>\n",
       "      <td id=\"T_12b3d_row30_col8\" class=\"data row30 col8\" >90300.000000</td>\n",
       "      <td id=\"T_12b3d_row30_col9\" class=\"data row30 col9\" >66.333333</td>\n",
       "      <td id=\"T_12b3d_row30_col10\" class=\"data row30 col10\" >33.000000</td>\n",
       "      <td id=\"T_12b3d_row30_col11\" class=\"data row30 col11\" >6914.666667</td>\n",
       "      <td id=\"T_12b3d_row30_col12\" class=\"data row30 col12\" >15933.666667</td>\n",
       "    </tr>\n",
       "    <tr>\n",
       "      <th id=\"T_12b3d_level0_row31\" class=\"row_heading level0 row31\" >New York</th>\n",
       "      <td id=\"T_12b3d_row31_col0\" class=\"data row31 col0\" >178446.000000</td>\n",
       "      <td id=\"T_12b3d_row31_col1\" class=\"data row31 col1\" >183253.500000</td>\n",
       "      <td id=\"T_12b3d_row31_col2\" class=\"data row31 col2\" >2.708601</td>\n",
       "      <td id=\"T_12b3d_row31_col3\" class=\"data row31 col3\" >2.781573</td>\n",
       "      <td id=\"T_12b3d_row31_col4\" class=\"data row31 col4\" >1.461399</td>\n",
       "      <td id=\"T_12b3d_row31_col5\" class=\"data row31 col5\" >1.500771</td>\n",
       "      <td id=\"T_12b3d_row31_col6\" class=\"data row31 col6\" >16</td>\n",
       "      <td id=\"T_12b3d_row31_col7\" class=\"data row31 col7\" >65881.250000</td>\n",
       "      <td id=\"T_12b3d_row31_col8\" class=\"data row31 col8\" >122106.250000</td>\n",
       "      <td id=\"T_12b3d_row31_col9\" class=\"data row31 col9\" >50.812500</td>\n",
       "      <td id=\"T_12b3d_row31_col10\" class=\"data row31 col10\" >28.562500</td>\n",
       "      <td id=\"T_12b3d_row31_col11\" class=\"data row31 col11\" >44611.500000</td>\n",
       "      <td id=\"T_12b3d_row31_col12\" class=\"data row31 col12\" >45813.375000</td>\n",
       "    </tr>\n",
       "    <tr>\n",
       "      <th id=\"T_12b3d_level0_row32\" class=\"row_heading level0 row32\" >North Carolina</th>\n",
       "      <td id=\"T_12b3d_row32_col0\" class=\"data row32 col0\" >110695.200000</td>\n",
       "      <td id=\"T_12b3d_row32_col1\" class=\"data row32 col1\" >128864.000000</td>\n",
       "      <td id=\"T_12b3d_row32_col2\" class=\"data row32 col2\" >2.227492</td>\n",
       "      <td id=\"T_12b3d_row32_col3\" class=\"data row32 col3\" >2.593098</td>\n",
       "      <td id=\"T_12b3d_row32_col4\" class=\"data row32 col4\" >1.240352</td>\n",
       "      <td id=\"T_12b3d_row32_col5\" class=\"data row32 col5\" >1.443935</td>\n",
       "      <td id=\"T_12b3d_row32_col6\" class=\"data row32 col6\" >20</td>\n",
       "      <td id=\"T_12b3d_row32_col7\" class=\"data row32 col7\" >49695.000000</td>\n",
       "      <td id=\"T_12b3d_row32_col8\" class=\"data row32 col8\" >89245.000000</td>\n",
       "      <td id=\"T_12b3d_row32_col9\" class=\"data row32 col9\" >51.850000</td>\n",
       "      <td id=\"T_12b3d_row32_col10\" class=\"data row32 col10\" >11.150000</td>\n",
       "      <td id=\"T_12b3d_row32_col11\" class=\"data row32 col11\" >27673.800000</td>\n",
       "      <td id=\"T_12b3d_row32_col12\" class=\"data row32 col12\" >32216.000000</td>\n",
       "    </tr>\n",
       "    <tr>\n",
       "      <th id=\"T_12b3d_level0_row33\" class=\"row_heading level0 row33\" >North Dakota</th>\n",
       "      <td id=\"T_12b3d_row33_col0\" class=\"data row33 col0\" >44292.571429</td>\n",
       "      <td id=\"T_12b3d_row33_col1\" class=\"data row33 col1\" >59787.428571</td>\n",
       "      <td id=\"T_12b3d_row33_col2\" class=\"data row33 col2\" >0.961986</td>\n",
       "      <td id=\"T_12b3d_row33_col3\" class=\"data row33 col3\" >1.298517</td>\n",
       "      <td id=\"T_12b3d_row33_col4\" class=\"data row33 col4\" >0.548078</td>\n",
       "      <td id=\"T_12b3d_row33_col5\" class=\"data row33 col5\" >0.739813</td>\n",
       "      <td id=\"T_12b3d_row33_col6\" class=\"data row33 col6\" >7</td>\n",
       "      <td id=\"T_12b3d_row33_col7\" class=\"data row33 col7\" >46042.857143</td>\n",
       "      <td id=\"T_12b3d_row33_col8\" class=\"data row33 col8\" >80814.285714</td>\n",
       "      <td id=\"T_12b3d_row33_col9\" class=\"data row33 col9\" >56.000000</td>\n",
       "      <td id=\"T_12b3d_row33_col10\" class=\"data row33 col10\" >8.285714</td>\n",
       "      <td id=\"T_12b3d_row33_col11\" class=\"data row33 col11\" >11073.142857</td>\n",
       "      <td id=\"T_12b3d_row33_col12\" class=\"data row33 col12\" >14946.857143</td>\n",
       "    </tr>\n",
       "    <tr>\n",
       "      <th id=\"T_12b3d_level0_row34\" class=\"row_heading level0 row34\" >Ohio</th>\n",
       "      <td id=\"T_12b3d_row34_col0\" class=\"data row34 col0\" >147707.466667</td>\n",
       "      <td id=\"T_12b3d_row34_col1\" class=\"data row34 col1\" >151362.133333</td>\n",
       "      <td id=\"T_12b3d_row34_col2\" class=\"data row34 col2\" >2.755051</td>\n",
       "      <td id=\"T_12b3d_row34_col3\" class=\"data row34 col3\" >2.823218</td>\n",
       "      <td id=\"T_12b3d_row34_col4\" class=\"data row34 col4\" >1.485393</td>\n",
       "      <td id=\"T_12b3d_row34_col5\" class=\"data row34 col5\" >1.522145</td>\n",
       "      <td id=\"T_12b3d_row34_col6\" class=\"data row34 col6\" >15</td>\n",
       "      <td id=\"T_12b3d_row34_col7\" class=\"data row34 col7\" >53613.333333</td>\n",
       "      <td id=\"T_12b3d_row34_col8\" class=\"data row34 col8\" >99440.000000</td>\n",
       "      <td id=\"T_12b3d_row34_col9\" class=\"data row34 col9\" >50.000000</td>\n",
       "      <td id=\"T_12b3d_row34_col10\" class=\"data row34 col10\" >21.533333</td>\n",
       "      <td id=\"T_12b3d_row34_col11\" class=\"data row34 col11\" >36926.866667</td>\n",
       "      <td id=\"T_12b3d_row34_col12\" class=\"data row34 col12\" >37840.533333</td>\n",
       "    </tr>\n",
       "    <tr>\n",
       "      <th id=\"T_12b3d_level0_row35\" class=\"row_heading level0 row35\" >Oklahoma</th>\n",
       "      <td id=\"T_12b3d_row35_col0\" class=\"data row35 col0\" >62780.421053</td>\n",
       "      <td id=\"T_12b3d_row35_col1\" class=\"data row35 col1\" >81497.052632</td>\n",
       "      <td id=\"T_12b3d_row35_col2\" class=\"data row35 col2\" >1.391865</td>\n",
       "      <td id=\"T_12b3d_row35_col3\" class=\"data row35 col3\" >1.806819</td>\n",
       "      <td id=\"T_12b3d_row35_col4\" class=\"data row35 col4\" >0.772957</td>\n",
       "      <td id=\"T_12b3d_row35_col5\" class=\"data row35 col5\" >1.003398</td>\n",
       "      <td id=\"T_12b3d_row35_col6\" class=\"data row35 col6\" >19</td>\n",
       "      <td id=\"T_12b3d_row35_col7\" class=\"data row35 col7\" >45105.263158</td>\n",
       "      <td id=\"T_12b3d_row35_col8\" class=\"data row35 col8\" >81221.052632</td>\n",
       "      <td id=\"T_12b3d_row35_col9\" class=\"data row35 col9\" >57.631579</td>\n",
       "      <td id=\"T_12b3d_row35_col10\" class=\"data row35 col10\" >11.421053</td>\n",
       "      <td id=\"T_12b3d_row35_col11\" class=\"data row35 col11\" >15695.105263</td>\n",
       "      <td id=\"T_12b3d_row35_col12\" class=\"data row35 col12\" >20374.263158</td>\n",
       "    </tr>\n",
       "    <tr>\n",
       "      <th id=\"T_12b3d_level0_row36\" class=\"row_heading level0 row36\" >Oregon</th>\n",
       "      <td id=\"T_12b3d_row36_col0\" class=\"data row36 col0\" >107244.444444</td>\n",
       "      <td id=\"T_12b3d_row36_col1\" class=\"data row36 col1\" >137896.444444</td>\n",
       "      <td id=\"T_12b3d_row36_col2\" class=\"data row36 col2\" >2.115507</td>\n",
       "      <td id=\"T_12b3d_row36_col3\" class=\"data row36 col3\" >2.720149</td>\n",
       "      <td id=\"T_12b3d_row36_col4\" class=\"data row36 col4\" >1.177432</td>\n",
       "      <td id=\"T_12b3d_row36_col5\" class=\"data row36 col5\" >1.513959</td>\n",
       "      <td id=\"T_12b3d_row36_col6\" class=\"data row36 col6\" >18</td>\n",
       "      <td id=\"T_12b3d_row36_col7\" class=\"data row36 col7\" >50694.444444</td>\n",
       "      <td id=\"T_12b3d_row36_col8\" class=\"data row36 col8\" >91083.333333</td>\n",
       "      <td id=\"T_12b3d_row36_col9\" class=\"data row36 col9\" >57.222222</td>\n",
       "      <td id=\"T_12b3d_row36_col10\" class=\"data row36 col10\" >12.111111</td>\n",
       "      <td id=\"T_12b3d_row36_col11\" class=\"data row36 col11\" >26811.111111</td>\n",
       "      <td id=\"T_12b3d_row36_col12\" class=\"data row36 col12\" >34474.111111</td>\n",
       "    </tr>\n",
       "    <tr>\n",
       "      <th id=\"T_12b3d_level0_row37\" class=\"row_heading level0 row37\" >Pennsylvania</th>\n",
       "      <td id=\"T_12b3d_row37_col0\" class=\"data row37 col0\" >191462.526316</td>\n",
       "      <td id=\"T_12b3d_row37_col1\" class=\"data row37 col1\" >191462.526316</td>\n",
       "      <td id=\"T_12b3d_row37_col2\" class=\"data row37 col2\" >3.116412</td>\n",
       "      <td id=\"T_12b3d_row37_col3\" class=\"data row37 col3\" >3.116412</td>\n",
       "      <td id=\"T_12b3d_row37_col4\" class=\"data row37 col4\" >1.687521</td>\n",
       "      <td id=\"T_12b3d_row37_col5\" class=\"data row37 col5\" >1.687521</td>\n",
       "      <td id=\"T_12b3d_row37_col6\" class=\"data row37 col6\" >19</td>\n",
       "      <td id=\"T_12b3d_row37_col7\" class=\"data row37 col7\" >61436.842105</td>\n",
       "      <td id=\"T_12b3d_row37_col8\" class=\"data row37 col8\" >113457.894737</td>\n",
       "      <td id=\"T_12b3d_row37_col9\" class=\"data row37 col9\" >45.368421</td>\n",
       "      <td id=\"T_12b3d_row37_col10\" class=\"data row37 col10\" >28.631579</td>\n",
       "      <td id=\"T_12b3d_row37_col11\" class=\"data row37 col11\" >47865.631579</td>\n",
       "      <td id=\"T_12b3d_row37_col12\" class=\"data row37 col12\" >47865.631579</td>\n",
       "    </tr>\n",
       "    <tr>\n",
       "      <th id=\"T_12b3d_level0_row38\" class=\"row_heading level0 row38\" >Rhode Island</th>\n",
       "      <td id=\"T_12b3d_row38_col0\" class=\"data row38 col0\" >146248.000000</td>\n",
       "      <td id=\"T_12b3d_row38_col1\" class=\"data row38 col1\" >159353.333333</td>\n",
       "      <td id=\"T_12b3d_row38_col2\" class=\"data row38 col2\" >2.619889</td>\n",
       "      <td id=\"T_12b3d_row38_col3\" class=\"data row38 col3\" >2.854658</td>\n",
       "      <td id=\"T_12b3d_row38_col4\" class=\"data row38 col4\" >1.451673</td>\n",
       "      <td id=\"T_12b3d_row38_col5\" class=\"data row38 col5\" >1.581758</td>\n",
       "      <td id=\"T_12b3d_row38_col6\" class=\"data row38 col6\" >9</td>\n",
       "      <td id=\"T_12b3d_row38_col7\" class=\"data row38 col7\" >55822.222222</td>\n",
       "      <td id=\"T_12b3d_row38_col8\" class=\"data row38 col8\" >100744.444444</td>\n",
       "      <td id=\"T_12b3d_row38_col9\" class=\"data row38 col9\" >45.444444</td>\n",
       "      <td id=\"T_12b3d_row38_col10\" class=\"data row38 col10\" >13.000000</td>\n",
       "      <td id=\"T_12b3d_row38_col11\" class=\"data row38 col11\" >36562.000000</td>\n",
       "      <td id=\"T_12b3d_row38_col12\" class=\"data row38 col12\" >39838.333333</td>\n",
       "    </tr>\n",
       "    <tr>\n",
       "      <th id=\"T_12b3d_level0_row39\" class=\"row_heading level0 row39\" >South Carolina</th>\n",
       "      <td id=\"T_12b3d_row39_col0\" class=\"data row39 col0\" >87783.333333</td>\n",
       "      <td id=\"T_12b3d_row39_col1\" class=\"data row39 col1\" >110222.888889</td>\n",
       "      <td id=\"T_12b3d_row39_col2\" class=\"data row39 col2\" >1.963101</td>\n",
       "      <td id=\"T_12b3d_row39_col3\" class=\"data row39 col3\" >2.464917</td>\n",
       "      <td id=\"T_12b3d_row39_col4\" class=\"data row39 col4\" >1.090777</td>\n",
       "      <td id=\"T_12b3d_row39_col5\" class=\"data row39 col5\" >1.369607</td>\n",
       "      <td id=\"T_12b3d_row39_col6\" class=\"data row39 col6\" >18</td>\n",
       "      <td id=\"T_12b3d_row39_col7\" class=\"data row39 col7\" >44716.666667</td>\n",
       "      <td id=\"T_12b3d_row39_col8\" class=\"data row39 col8\" >80477.777778</td>\n",
       "      <td id=\"T_12b3d_row39_col9\" class=\"data row39 col9\" >57.666667</td>\n",
       "      <td id=\"T_12b3d_row39_col10\" class=\"data row39 col10\" >14.777778</td>\n",
       "      <td id=\"T_12b3d_row39_col11\" class=\"data row39 col11\" >21945.833333</td>\n",
       "      <td id=\"T_12b3d_row39_col12\" class=\"data row39 col12\" >27555.722222</td>\n",
       "    </tr>\n",
       "    <tr>\n",
       "      <th id=\"T_12b3d_level0_row40\" class=\"row_heading level0 row40\" >South Dakota</th>\n",
       "      <td id=\"T_12b3d_row40_col0\" class=\"data row40 col0\" >63994.000000</td>\n",
       "      <td id=\"T_12b3d_row40_col1\" class=\"data row40 col1\" >71978.400000</td>\n",
       "      <td id=\"T_12b3d_row40_col2\" class=\"data row40 col2\" >1.358395</td>\n",
       "      <td id=\"T_12b3d_row40_col3\" class=\"data row40 col3\" >1.527879</td>\n",
       "      <td id=\"T_12b3d_row40_col4\" class=\"data row40 col4\" >0.751368</td>\n",
       "      <td id=\"T_12b3d_row40_col5\" class=\"data row40 col5\" >0.845114</td>\n",
       "      <td id=\"T_12b3d_row40_col6\" class=\"data row40 col6\" >10</td>\n",
       "      <td id=\"T_12b3d_row40_col7\" class=\"data row40 col7\" >47110.000000</td>\n",
       "      <td id=\"T_12b3d_row40_col8\" class=\"data row40 col8\" >85170.000000</td>\n",
       "      <td id=\"T_12b3d_row40_col9\" class=\"data row40 col9\" >56.500000</td>\n",
       "      <td id=\"T_12b3d_row40_col10\" class=\"data row40 col10\" >22.800000</td>\n",
       "      <td id=\"T_12b3d_row40_col11\" class=\"data row40 col11\" >15998.500000</td>\n",
       "      <td id=\"T_12b3d_row40_col12\" class=\"data row40 col12\" >17994.600000</td>\n",
       "    </tr>\n",
       "    <tr>\n",
       "      <th id=\"T_12b3d_level0_row41\" class=\"row_heading level0 row41\" >Tennessee</th>\n",
       "      <td id=\"T_12b3d_row41_col0\" class=\"data row41 col0\" >98784.800000</td>\n",
       "      <td id=\"T_12b3d_row41_col1\" class=\"data row41 col1\" >118008.800000</td>\n",
       "      <td id=\"T_12b3d_row41_col2\" class=\"data row41 col2\" >2.085387</td>\n",
       "      <td id=\"T_12b3d_row41_col3\" class=\"data row41 col3\" >2.491214</td>\n",
       "      <td id=\"T_12b3d_row41_col4\" class=\"data row41 col4\" >1.166841</td>\n",
       "      <td id=\"T_12b3d_row41_col5\" class=\"data row41 col5\" >1.393914</td>\n",
       "      <td id=\"T_12b3d_row41_col6\" class=\"data row41 col6\" >20</td>\n",
       "      <td id=\"T_12b3d_row41_col7\" class=\"data row41 col7\" >47370.000000</td>\n",
       "      <td id=\"T_12b3d_row41_col8\" class=\"data row41 col8\" >84660.000000</td>\n",
       "      <td id=\"T_12b3d_row41_col9\" class=\"data row41 col9\" >57.700000</td>\n",
       "      <td id=\"T_12b3d_row41_col10\" class=\"data row41 col10\" >12.750000</td>\n",
       "      <td id=\"T_12b3d_row41_col11\" class=\"data row41 col11\" >24696.200000</td>\n",
       "      <td id=\"T_12b3d_row41_col12\" class=\"data row41 col12\" >29502.200000</td>\n",
       "    </tr>\n",
       "    <tr>\n",
       "      <th id=\"T_12b3d_level0_row42\" class=\"row_heading level0 row42\" >Texas</th>\n",
       "      <td id=\"T_12b3d_row42_col0\" class=\"data row42 col0\" >106221.555556</td>\n",
       "      <td id=\"T_12b3d_row42_col1\" class=\"data row42 col1\" >127508.444444</td>\n",
       "      <td id=\"T_12b3d_row42_col2\" class=\"data row42 col2\" >1.880028</td>\n",
       "      <td id=\"T_12b3d_row42_col3\" class=\"data row42 col3\" >2.256787</td>\n",
       "      <td id=\"T_12b3d_row42_col4\" class=\"data row42 col4\" >1.036139</td>\n",
       "      <td id=\"T_12b3d_row42_col5\" class=\"data row42 col5\" >1.243783</td>\n",
       "      <td id=\"T_12b3d_row42_col6\" class=\"data row42 col6\" >18</td>\n",
       "      <td id=\"T_12b3d_row42_col7\" class=\"data row42 col7\" >56500.000000</td>\n",
       "      <td id=\"T_12b3d_row42_col8\" class=\"data row42 col8\" >102516.666667</td>\n",
       "      <td id=\"T_12b3d_row42_col9\" class=\"data row42 col9\" >53.833333</td>\n",
       "      <td id=\"T_12b3d_row42_col10\" class=\"data row42 col10\" >20.055556</td>\n",
       "      <td id=\"T_12b3d_row42_col11\" class=\"data row42 col11\" >26555.388889</td>\n",
       "      <td id=\"T_12b3d_row42_col12\" class=\"data row42 col12\" >31877.111111</td>\n",
       "    </tr>\n",
       "    <tr>\n",
       "      <th id=\"T_12b3d_level0_row43\" class=\"row_heading level0 row43\" >Utah</th>\n",
       "      <td id=\"T_12b3d_row43_col0\" class=\"data row43 col0\" >27761.333333</td>\n",
       "      <td id=\"T_12b3d_row43_col1\" class=\"data row43 col1\" >73904.000000</td>\n",
       "      <td id=\"T_12b3d_row43_col2\" class=\"data row43 col2\" >0.531996</td>\n",
       "      <td id=\"T_12b3d_row43_col3\" class=\"data row43 col3\" >1.416238</td>\n",
       "      <td id=\"T_12b3d_row43_col4\" class=\"data row43 col4\" >0.299045</td>\n",
       "      <td id=\"T_12b3d_row43_col5\" class=\"data row43 col5\" >0.796093</td>\n",
       "      <td id=\"T_12b3d_row43_col6\" class=\"data row43 col6\" >6</td>\n",
       "      <td id=\"T_12b3d_row43_col7\" class=\"data row43 col7\" >52183.333333</td>\n",
       "      <td id=\"T_12b3d_row43_col8\" class=\"data row43 col8\" >92833.333333</td>\n",
       "      <td id=\"T_12b3d_row43_col9\" class=\"data row43 col9\" >59.500000</td>\n",
       "      <td id=\"T_12b3d_row43_col10\" class=\"data row43 col10\" >12.000000</td>\n",
       "      <td id=\"T_12b3d_row43_col11\" class=\"data row43 col11\" >6940.333333</td>\n",
       "      <td id=\"T_12b3d_row43_col12\" class=\"data row43 col12\" >18476.000000</td>\n",
       "    </tr>\n",
       "    <tr>\n",
       "      <th id=\"T_12b3d_level0_row44\" class=\"row_heading level0 row44\" >Vermont</th>\n",
       "      <td id=\"T_12b3d_row44_col0\" class=\"data row44 col0\" >129271.272727</td>\n",
       "      <td id=\"T_12b3d_row44_col1\" class=\"data row44 col1\" >153358.545455</td>\n",
       "      <td id=\"T_12b3d_row44_col2\" class=\"data row44 col2\" >2.614422</td>\n",
       "      <td id=\"T_12b3d_row44_col3\" class=\"data row44 col3\" >3.101570</td>\n",
       "      <td id=\"T_12b3d_row44_col4\" class=\"data row44 col4\" >1.444665</td>\n",
       "      <td id=\"T_12b3d_row44_col5\" class=\"data row44 col5\" >1.713851</td>\n",
       "      <td id=\"T_12b3d_row44_col6\" class=\"data row44 col6\" >11</td>\n",
       "      <td id=\"T_12b3d_row44_col7\" class=\"data row44 col7\" >49445.454545</td>\n",
       "      <td id=\"T_12b3d_row44_col8\" class=\"data row44 col8\" >89481.818182</td>\n",
       "      <td id=\"T_12b3d_row44_col9\" class=\"data row44 col9\" >49.636364</td>\n",
       "      <td id=\"T_12b3d_row44_col10\" class=\"data row44 col10\" >12.272727</td>\n",
       "      <td id=\"T_12b3d_row44_col11\" class=\"data row44 col11\" >32317.818182</td>\n",
       "      <td id=\"T_12b3d_row44_col12\" class=\"data row44 col12\" >38339.636364</td>\n",
       "    </tr>\n",
       "    <tr>\n",
       "      <th id=\"T_12b3d_level0_row45\" class=\"row_heading level0 row45\" >Virginia</th>\n",
       "      <td id=\"T_12b3d_row45_col0\" class=\"data row45 col0\" >100446.363636</td>\n",
       "      <td id=\"T_12b3d_row45_col1\" class=\"data row45 col1\" >138821.636364</td>\n",
       "      <td id=\"T_12b3d_row45_col2\" class=\"data row45 col2\" >1.869876</td>\n",
       "      <td id=\"T_12b3d_row45_col3\" class=\"data row45 col3\" >2.584258</td>\n",
       "      <td id=\"T_12b3d_row45_col4\" class=\"data row45 col4\" >1.040258</td>\n",
       "      <td id=\"T_12b3d_row45_col5\" class=\"data row45 col5\" >1.437686</td>\n",
       "      <td id=\"T_12b3d_row45_col6\" class=\"data row45 col6\" >22</td>\n",
       "      <td id=\"T_12b3d_row45_col7\" class=\"data row45 col7\" >53718.181818</td>\n",
       "      <td id=\"T_12b3d_row45_col8\" class=\"data row45 col8\" >96559.090909</td>\n",
       "      <td id=\"T_12b3d_row45_col9\" class=\"data row45 col9\" >53.136364</td>\n",
       "      <td id=\"T_12b3d_row45_col10\" class=\"data row45 col10\" >17.727273</td>\n",
       "      <td id=\"T_12b3d_row45_col11\" class=\"data row45 col11\" >25111.590909</td>\n",
       "      <td id=\"T_12b3d_row45_col12\" class=\"data row45 col12\" >34705.409091</td>\n",
       "    </tr>\n",
       "    <tr>\n",
       "      <th id=\"T_12b3d_level0_row46\" class=\"row_heading level0 row46\" >Washington</th>\n",
       "      <td id=\"T_12b3d_row46_col0\" class=\"data row46 col0\" >123986.000000</td>\n",
       "      <td id=\"T_12b3d_row46_col1\" class=\"data row46 col1\" >140918.250000</td>\n",
       "      <td id=\"T_12b3d_row46_col2\" class=\"data row46 col2\" >2.319663</td>\n",
       "      <td id=\"T_12b3d_row46_col3\" class=\"data row46 col3\" >2.636450</td>\n",
       "      <td id=\"T_12b3d_row46_col4\" class=\"data row46 col4\" >1.277630</td>\n",
       "      <td id=\"T_12b3d_row46_col5\" class=\"data row46 col5\" >1.452111</td>\n",
       "      <td id=\"T_12b3d_row46_col6\" class=\"data row46 col6\" >16</td>\n",
       "      <td id=\"T_12b3d_row46_col7\" class=\"data row46 col7\" >53450.000000</td>\n",
       "      <td id=\"T_12b3d_row46_col8\" class=\"data row46 col8\" >97043.750000</td>\n",
       "      <td id=\"T_12b3d_row46_col9\" class=\"data row46 col9\" >51.187500</td>\n",
       "      <td id=\"T_12b3d_row46_col10\" class=\"data row46 col10\" >16.625000</td>\n",
       "      <td id=\"T_12b3d_row46_col11\" class=\"data row46 col11\" >30996.500000</td>\n",
       "      <td id=\"T_12b3d_row46_col12\" class=\"data row46 col12\" >35229.562500</td>\n",
       "    </tr>\n",
       "    <tr>\n",
       "      <th id=\"T_12b3d_level0_row47\" class=\"row_heading level0 row47\" >West Virginia</th>\n",
       "      <td id=\"T_12b3d_row47_col0\" class=\"data row47 col0\" >53202.666667</td>\n",
       "      <td id=\"T_12b3d_row47_col1\" class=\"data row47 col1\" >81008.266667</td>\n",
       "      <td id=\"T_12b3d_row47_col2\" class=\"data row47 col2\" >1.200060</td>\n",
       "      <td id=\"T_12b3d_row47_col3\" class=\"data row47 col3\" >1.827254</td>\n",
       "      <td id=\"T_12b3d_row47_col4\" class=\"data row47 col4\" >0.664701</td>\n",
       "      <td id=\"T_12b3d_row47_col5\" class=\"data row47 col5\" >1.012097</td>\n",
       "      <td id=\"T_12b3d_row47_col6\" class=\"data row47 col6\" >15</td>\n",
       "      <td id=\"T_12b3d_row47_col7\" class=\"data row47 col7\" >44333.333333</td>\n",
       "      <td id=\"T_12b3d_row47_col8\" class=\"data row47 col8\" >80040.000000</td>\n",
       "      <td id=\"T_12b3d_row47_col9\" class=\"data row47 col9\" >55.866667</td>\n",
       "      <td id=\"T_12b3d_row47_col10\" class=\"data row47 col10\" >10.400000</td>\n",
       "      <td id=\"T_12b3d_row47_col11\" class=\"data row47 col11\" >13300.666667</td>\n",
       "      <td id=\"T_12b3d_row47_col12\" class=\"data row47 col12\" >20252.066667</td>\n",
       "    </tr>\n",
       "    <tr>\n",
       "      <th id=\"T_12b3d_level0_row48\" class=\"row_heading level0 row48\" >Wisconsin</th>\n",
       "      <td id=\"T_12b3d_row48_col0\" class=\"data row48 col0\" >95868.545455</td>\n",
       "      <td id=\"T_12b3d_row48_col1\" class=\"data row48 col1\" >114440.909091</td>\n",
       "      <td id=\"T_12b3d_row48_col2\" class=\"data row48 col2\" >1.891577</td>\n",
       "      <td id=\"T_12b3d_row48_col3\" class=\"data row48 col3\" >2.258027</td>\n",
       "      <td id=\"T_12b3d_row48_col4\" class=\"data row48 col4\" >1.052344</td>\n",
       "      <td id=\"T_12b3d_row48_col5\" class=\"data row48 col5\" >1.256212</td>\n",
       "      <td id=\"T_12b3d_row48_col6\" class=\"data row48 col6\" >22</td>\n",
       "      <td id=\"T_12b3d_row48_col7\" class=\"data row48 col7\" >50681.818182</td>\n",
       "      <td id=\"T_12b3d_row48_col8\" class=\"data row48 col8\" >91100.000000</td>\n",
       "      <td id=\"T_12b3d_row48_col9\" class=\"data row48 col9\" >53.227273</td>\n",
       "      <td id=\"T_12b3d_row48_col10\" class=\"data row48 col10\" >18.363636</td>\n",
       "      <td id=\"T_12b3d_row48_col11\" class=\"data row48 col11\" >23967.136364</td>\n",
       "      <td id=\"T_12b3d_row48_col12\" class=\"data row48 col12\" >28610.227273</td>\n",
       "    </tr>\n",
       "    <tr>\n",
       "      <th id=\"T_12b3d_level0_row49\" class=\"row_heading level0 row49\" >Wyoming</th>\n",
       "      <td id=\"T_12b3d_row49_col0\" class=\"data row49 col0\" >21600.000000</td>\n",
       "      <td id=\"T_12b3d_row49_col1\" class=\"data row49 col1\" >69960.000000</td>\n",
       "      <td id=\"T_12b3d_row49_col2\" class=\"data row49 col2\" >0.412214</td>\n",
       "      <td id=\"T_12b3d_row49_col3\" class=\"data row49 col3\" >1.335115</td>\n",
       "      <td id=\"T_12b3d_row49_col4\" class=\"data row49 col4\" >0.218623</td>\n",
       "      <td id=\"T_12b3d_row49_col5\" class=\"data row49 col5\" >0.708097</td>\n",
       "      <td id=\"T_12b3d_row49_col6\" class=\"data row49 col6\" >1</td>\n",
       "      <td id=\"T_12b3d_row49_col7\" class=\"data row49 col7\" >52400.000000</td>\n",
       "      <td id=\"T_12b3d_row49_col8\" class=\"data row49 col8\" >98800.000000</td>\n",
       "      <td id=\"T_12b3d_row49_col9\" class=\"data row49 col9\" >58.000000</td>\n",
       "      <td id=\"T_12b3d_row49_col10\" class=\"data row49 col10\" >25.000000</td>\n",
       "      <td id=\"T_12b3d_row49_col11\" class=\"data row49 col11\" >5400.000000</td>\n",
       "      <td id=\"T_12b3d_row49_col12\" class=\"data row49 col12\" >17490.000000</td>\n",
       "    </tr>\n",
       "  </tbody>\n",
       "</table>\n"
      ],
      "text/plain": [
       "<pandas.io.formats.style.Styler at 0x2905bb7d190>"
      ]
     },
     "execution_count": 28,
     "metadata": {
     },
     "output_type": "execute_result"
    }
   ],
   "source": [
    "return_highlighted_df(state_stats)"
   ]
  },
  {
   "cell_type": "markdown",
   "metadata": {
    "collapsed": false
   },
   "source": [
    "## Visualizing Our Data <a class=\"anchor\" id=\"Visual\"></a>\n",
    "Last but not least we want to visualize our data, you can see different Python visualization libraries compared here:https://towardsdatascience.com/top-6-python-libraries-for-visualization-which-one-to-use-fe43381cd658 <br> We are using Plotly, as it is the most powerful and simple out of the box. <br> You can see some of the capabilities of Plotly in their documentation here: https://plotly.com/python/ <br> Note: if while running this you get an error 'PX IS NOT DEFINED' you did not import plotly.express (replace plotly with plotly.express in the import)."
   ]
  },
  {
   "cell_type": "markdown",
   "metadata": {
    "collapsed": false
   },
   "source": [
    "First things first, now that we have completed our calculations we will turn the index into a named column for ease of graphing and we need to include state code if we want to graph on a map.\n"
   ]
  },
  {
   "cell_type": "code",
   "execution_count": 29,
   "metadata": {
    "collapsed": false
   },
   "outputs": [
    {
     "data": {
      "text/html": [
       "<div>\n",
       "<style scoped>\n",
       "    .dataframe tbody tr th:only-of-type {\n",
       "        vertical-align: middle;\n",
       "    }\n",
       "\n",
       "    .dataframe tbody tr th {\n",
       "        vertical-align: top;\n",
       "    }\n",
       "\n",
       "    .dataframe thead th {\n",
       "        text-align: right;\n",
       "    }\n",
       "</style>\n",
       "<table border=\"1\" class=\"dataframe\">\n",
       "  <thead>\n",
       "    <tr style=\"text-align: right;\">\n",
       "      <th></th>\n",
       "      <th>state</th>\n",
       "      <th>four year average in state tuition</th>\n",
       "      <th>four year average out of state tuition</th>\n",
       "      <th>years to repay in state 4 year uni based on early career pay</th>\n",
       "      <th>years to repay out of state 4 year uni based on early career pay</th>\n",
       "      <th>years to repay in state 4 year uni based on mid career pay</th>\n",
       "      <th>years to repay out of state 4 year uni based on mid career pay</th>\n",
       "      <th>number of schools</th>\n",
       "      <th>average early_career_pay</th>\n",
       "      <th>average mid_career_pay</th>\n",
       "      <th>average make_world_better_percent</th>\n",
       "      <th>average stem_percent</th>\n",
       "      <th>average in_state_tuition</th>\n",
       "      <th>average out_of_state_tuition</th>\n",
       "      <th>state_code</th>\n",
       "    </tr>\n",
       "  </thead>\n",
       "  <tbody>\n",
       "    <tr>\n",
       "      <th>0</th>\n",
       "      <td>Alabama</td>\n",
       "      <td>64536.952381</td>\n",
       "      <td>89441.523810</td>\n",
       "      <td>1.443318</td>\n",
       "      <td>2.000290</td>\n",
       "      <td>0.795023</td>\n",
       "      <td>1.101820</td>\n",
       "      <td>21</td>\n",
       "      <td>44714.285714</td>\n",
       "      <td>81176.190476</td>\n",
       "      <td>60.047619</td>\n",
       "      <td>14.047619</td>\n",
       "      <td>16134.238095</td>\n",
       "      <td>22360.380952</td>\n",
       "      <td>AL</td>\n",
       "    </tr>\n",
       "    <tr>\n",
       "      <th>1</th>\n",
       "      <td>Alaska</td>\n",
       "      <td>48806.666667</td>\n",
       "      <td>91926.666667</td>\n",
       "      <td>0.885248</td>\n",
       "      <td>1.667352</td>\n",
       "      <td>0.500068</td>\n",
       "      <td>0.941872</td>\n",
       "      <td>3</td>\n",
       "      <td>55133.333333</td>\n",
       "      <td>97600.000000</td>\n",
       "      <td>59.333333</td>\n",
       "      <td>12.000000</td>\n",
       "      <td>12201.666667</td>\n",
       "      <td>22981.666667</td>\n",
       "      <td>AK</td>\n",
       "    </tr>\n",
       "    <tr>\n",
       "      <th>2</th>\n",
       "      <td>Arizona</td>\n",
       "      <td>74048.000000</td>\n",
       "      <td>124932.000000</td>\n",
       "      <td>1.512212</td>\n",
       "      <td>2.551368</td>\n",
       "      <td>0.839864</td>\n",
       "      <td>1.416998</td>\n",
       "      <td>3</td>\n",
       "      <td>48966.666667</td>\n",
       "      <td>88166.666667</td>\n",
       "      <td>58.666667</td>\n",
       "      <td>11.666667</td>\n",
       "      <td>18512.000000</td>\n",
       "      <td>31233.000000</td>\n",
       "      <td>AZ</td>\n",
       "    </tr>\n",
       "    <tr>\n",
       "      <th>3</th>\n",
       "      <td>Arkansas</td>\n",
       "      <td>68785.428571</td>\n",
       "      <td>86816.571429</td>\n",
       "      <td>1.508216</td>\n",
       "      <td>1.903574</td>\n",
       "      <td>0.841927</td>\n",
       "      <td>1.062626</td>\n",
       "      <td>14</td>\n",
       "      <td>45607.142857</td>\n",
       "      <td>81700.000000</td>\n",
       "      <td>57.571429</td>\n",
       "      <td>14.071429</td>\n",
       "      <td>17196.357143</td>\n",
       "      <td>21704.142857</td>\n",
       "      <td>AR</td>\n",
       "    </tr>\n",
       "    <tr>\n",
       "      <th>4</th>\n",
       "      <td>California</td>\n",
       "      <td>190626.153846</td>\n",
       "      <td>193550.461538</td>\n",
       "      <td>2.811595</td>\n",
       "      <td>2.854727</td>\n",
       "      <td>1.526512</td>\n",
       "      <td>1.549930</td>\n",
       "      <td>13</td>\n",
       "      <td>67800.000000</td>\n",
       "      <td>124876.923077</td>\n",
       "      <td>49.769231</td>\n",
       "      <td>30.615385</td>\n",
       "      <td>47656.538462</td>\n",
       "      <td>48387.615385</td>\n",
       "      <td>CA</td>\n",
       "    </tr>\n",
       "  </tbody>\n",
       "</table>\n",
       "</div>"
      ],
      "text/plain": [
       "        state  four year average in state tuition  \\\n",
       "0     Alabama                        64536.952381   \n",
       "1      Alaska                        48806.666667   \n",
       "2     Arizona                        74048.000000   \n",
       "3    Arkansas                        68785.428571   \n",
       "4  California                       190626.153846   \n",
       "\n",
       "   four year average out of state tuition  \\\n",
       "0                            89441.523810   \n",
       "1                            91926.666667   \n",
       "2                           124932.000000   \n",
       "3                            86816.571429   \n",
       "4                           193550.461538   \n",
       "\n",
       "   years to repay in state 4 year uni based on early career pay  \\\n",
       "0                                           1.443318              \n",
       "1                                           0.885248              \n",
       "2                                           1.512212              \n",
       "3                                           1.508216              \n",
       "4                                           2.811595              \n",
       "\n",
       "   years to repay out of state 4 year uni based on early career pay  \\\n",
       "0                                           2.000290                  \n",
       "1                                           1.667352                  \n",
       "2                                           2.551368                  \n",
       "3                                           1.903574                  \n",
       "4                                           2.854727                  \n",
       "\n",
       "   years to repay in state 4 year uni based on mid career pay  \\\n",
       "0                                           0.795023            \n",
       "1                                           0.500068            \n",
       "2                                           0.839864            \n",
       "3                                           0.841927            \n",
       "4                                           1.526512            \n",
       "\n",
       "   years to repay out of state 4 year uni based on mid career pay  \\\n",
       "0                                           1.101820                \n",
       "1                                           0.941872                \n",
       "2                                           1.416998                \n",
       "3                                           1.062626                \n",
       "4                                           1.549930                \n",
       "\n",
       "   number of schools  average early_career_pay  average mid_career_pay  \\\n",
       "0                 21              44714.285714            81176.190476   \n",
       "1                  3              55133.333333            97600.000000   \n",
       "2                  3              48966.666667            88166.666667   \n",
       "3                 14              45607.142857            81700.000000   \n",
       "4                 13              67800.000000           124876.923077   \n",
       "\n",
       "   average make_world_better_percent  average stem_percent  \\\n",
       "0                          60.047619             14.047619   \n",
       "1                          59.333333             12.000000   \n",
       "2                          58.666667             11.666667   \n",
       "3                          57.571429             14.071429   \n",
       "4                          49.769231             30.615385   \n",
       "\n",
       "   average in_state_tuition  average out_of_state_tuition state_code  \n",
       "0              16134.238095                  22360.380952         AL  \n",
       "1              12201.666667                  22981.666667         AK  \n",
       "2              18512.000000                  31233.000000         AZ  \n",
       "3              17196.357143                  21704.142857         AR  \n",
       "4              47656.538462                  48387.615385         CA  "
      ]
     },
     "execution_count": 29,
     "metadata": {
     },
     "output_type": "execute_result"
    }
   ],
   "source": [
    "# turn the index into a column\n",
    "state_stats_extras = state_stats.reset_index(level=0)\n",
    "# rename index to state\n",
    "state_stats_extras.rename({'index': 'state'}, axis=1, inplace=True)\n",
    "# finds each state and adds the code\n",
    "state_stats_extras = state_stats_extras.merge(tuition[['state','state_code']], on='state').drop_duplicates().reset_index(drop=True)\n",
    "state_stats_extras.head()"
   ]
  },
  {
   "cell_type": "code",
   "execution_count": 30,
   "metadata": {
    "collapsed": false
   },
   "outputs": [
   ],
   "source": [
    "# Define a function to add these last extras that need to be applied after our numerical calculations (highlighting for example)\n",
    "# Don't forget to pass in tuition as a parameter because you merge with it\n",
    "def add_extras(state_stats,tuition):\n",
    "    # turn the index into a column\n",
    "    state_stats_extras = state_stats.reset_index(level=0)\n",
    "    # rename index to state\n",
    "    state_stats_extras.rename({'index': 'state'}, axis=1, inplace=True)\n",
    "    # add the state_code column\n",
    "    state_stats_extras = state_stats_extras.merge(tuition[['state','state_code']], on='state').drop_duplicates().reset_index(drop=True)\n",
    "    return state_stats_extras"
   ]
  },
  {
   "cell_type": "code",
   "execution_count": 31,
   "metadata": {
    "collapsed": false
   },
   "outputs": [
    {
     "name": "stderr",
     "output_type": "stream",
     "text": [
      "WARNING: 1 intermediate output message was discarded.\n"
     ]
    },
    {
     "data": {
      "application/vnd.plotly.v1+json": {
       "config": {
        "plotlyServerURL": "https://plot.ly"
       },
       "data": [
        {
         "hovertemplate": "state=Alabama<br>four year average in state tuition=%{x}<br>average mid_career_pay=%{y}<br>average make_world_better_percent=%{marker.size}<extra></extra>",
         "legendgroup": "Alabama",
         "marker": {
          "color": "#636efa",
          "size": [
           60.04761904761905
          ],
          "sizemode": "area",
          "sizeref": 0.16583333333333333,
          "symbol": "circle"
         },
         "mode": "markers",
         "name": "Alabama",
         "orientation": "v",
         "showlegend": true,
         "type": "scatter",
         "x": [
          64536.95238095238
         ],
         "xaxis": "x",
         "y": [
          81176.19047619047
         ],
         "yaxis": "y"
        },
        {
         "hovertemplate": "state=Alaska<br>four year average in state tuition=%{x}<br>average mid_career_pay=%{y}<br>average make_world_better_percent=%{marker.size}<extra></extra>",
         "legendgroup": "Alaska",
         "marker": {
          "color": "#EF553B",
          "size": [
           59.333333333333336
          ],
          "sizemode": "area",
          "sizeref": 0.16583333333333333,
          "symbol": "circle"
         },
         "mode": "markers",
         "name": "Alaska",
         "orientation": "v",
         "showlegend": true,
         "type": "scatter",
         "x": [
          48806.666666666664
         ],
         "xaxis": "x",
         "y": [
          97600
         ],
         "yaxis": "y"
        },
        {
         "hovertemplate": "state=Arizona<br>four year average in state tuition=%{x}<br>average mid_career_pay=%{y}<br>average make_world_better_percent=%{marker.size}<extra></extra>",
         "legendgroup": "Arizona",
         "marker": {
          "color": "#00cc96",
          "size": [
           58.666666666666664
          ],
          "sizemode": "area",
          "sizeref": 0.16583333333333333,
          "symbol": "circle"
         },
         "mode": "markers",
         "name": "Arizona",
         "orientation": "v",
         "showlegend": true,
         "type": "scatter",
         "x": [
          74048
         ],
         "xaxis": "x",
         "y": [
          88166.66666666667
         ],
         "yaxis": "y"
        },
        {
         "hovertemplate": "state=Arkansas<br>four year average in state tuition=%{x}<br>average mid_career_pay=%{y}<br>average make_world_better_percent=%{marker.size}<extra></extra>",
         "legendgroup": "Arkansas",
         "marker": {
          "color": "#ab63fa",
          "size": [
           57.57142857142857
          ],
          "sizemode": "area",
          "sizeref": 0.16583333333333333,
          "symbol": "circle"
         },
         "mode": "markers",
         "name": "Arkansas",
         "orientation": "v",
         "showlegend": true,
         "type": "scatter",
         "x": [
          68785.42857142857
         ],
         "xaxis": "x",
         "y": [
          81700
         ],
         "yaxis": "y"
        },
        {
         "hovertemplate": "state=California<br>four year average in state tuition=%{x}<br>average mid_career_pay=%{y}<br>average make_world_better_percent=%{marker.size}<extra></extra>",
         "legendgroup": "California",
         "marker": {
          "color": "#FFA15A",
          "size": [
           49.76923076923077
          ],
          "sizemode": "area",
          "sizeref": 0.16583333333333333,
          "symbol": "circle"
         },
         "mode": "markers",
         "name": "California",
         "orientation": "v",
         "showlegend": true,
         "type": "scatter",
         "x": [
          190626.15384615384
         ],
         "xaxis": "x",
         "y": [
          124876.92307692308
         ],
         "yaxis": "y"
        },
        {
         "hovertemplate": "state=Colorado<br>four year average in state tuition=%{x}<br>average mid_career_pay=%{y}<br>average make_world_better_percent=%{marker.size}<extra></extra>",
         "legendgroup": "Colorado",
         "marker": {
          "color": "#19d3f3",
          "size": [
           53.92307692307692
          ],
          "sizemode": "area",
          "sizeref": 0.16583333333333333,
          "symbol": "circle"
         },
         "mode": "markers",
         "name": "Colorado",
         "orientation": "v",
         "showlegend": true,
         "type": "scatter",
         "x": [
          83676.61538461539
         ],
         "xaxis": "x",
         "y": [
          93815.38461538461
         ],
         "yaxis": "y"
        },
        {
         "hovertemplate": "state=Connecticut<br>four year average in state tuition=%{x}<br>average mid_career_pay=%{y}<br>average make_world_better_percent=%{marker.size}<extra></extra>",
         "legendgroup": "Connecticut",
         "marker": {
          "color": "#FF6692",
          "size": [
           51
          ],
          "sizemode": "area",
          "sizeref": 0.16583333333333333,
          "symbol": "circle"
         },
         "mode": "markers",
         "name": "Connecticut",
         "orientation": "v",
         "showlegend": true,
         "type": "scatter",
         "x": [
          135868.44444444444
         ],
         "xaxis": "x",
         "y": [
          99505.55555555556
         ],
         "yaxis": "y"
        },
        {
         "hovertemplate": "state=Delaware<br>four year average in state tuition=%{x}<br>average mid_career_pay=%{y}<br>average make_world_better_percent=%{marker.size}<extra></extra>",
         "legendgroup": "Delaware",
         "marker": {
          "color": "#B6E880",
          "size": [
           49.4
          ],
          "sizemode": "area",
          "sizeref": 0.16583333333333333,
          "symbol": "circle"
         },
         "mode": "markers",
         "name": "Delaware",
         "orientation": "v",
         "showlegend": true,
         "type": "scatter",
         "x": [
          66771.2
         ],
         "xaxis": "x",
         "y": [
          85620
         ],
         "yaxis": "y"
        },
        {
         "hovertemplate": "state=Florida<br>four year average in state tuition=%{x}<br>average mid_career_pay=%{y}<br>average make_world_better_percent=%{marker.size}<extra></extra>",
         "legendgroup": "Florida",
         "marker": {
          "color": "#FF97FF",
          "size": [
           54.5
          ],
          "sizemode": "area",
          "sizeref": 0.16583333333333333,
          "symbol": "circle"
         },
         "mode": "markers",
         "name": "Florida",
         "orientation": "v",
         "showlegend": true,
         "type": "scatter",
         "x": [
          96486.22222222222
         ],
         "xaxis": "x",
         "y": [
          90455.55555555556
         ],
         "yaxis": "y"
        },
        {
         "hovertemplate": "state=Georgia<br>four year average in state tuition=%{x}<br>average mid_career_pay=%{y}<br>average make_world_better_percent=%{marker.size}<extra></extra>",
         "legendgroup": "Georgia",
         "marker": {
          "color": "#FECB52",
          "size": [
           52.86363636363637
          ],
          "sizemode": "area",
          "sizeref": 0.16583333333333333,
          "symbol": "circle"
         },
         "mode": "markers",
         "name": "Georgia",
         "orientation": "v",
         "showlegend": true,
         "type": "scatter",
         "x": [
          84775.63636363637
         ],
         "xaxis": "x",
         "y": [
          86700
         ],
         "yaxis": "y"
        },
        {
         "hovertemplate": "state=Hawaii<br>four year average in state tuition=%{x}<br>average mid_career_pay=%{y}<br>average make_world_better_percent=%{marker.size}<extra></extra>",
         "legendgroup": "Hawaii",
         "marker": {
          "color": "#636efa",
          "size": [
           56.6
          ],
          "sizemode": "area",
          "sizeref": 0.16583333333333333,
          "symbol": "circle"
         },
         "mode": "markers",
         "name": "Hawaii",
         "orientation": "v",
         "showlegend": true,
         "type": "scatter",
         "x": [
          61283.2
         ],
         "xaxis": "x",
         "y": [
          88040
         ],
         "yaxis": "y"
        },
        {
         "hovertemplate": "state=Idaho<br>four year average in state tuition=%{x}<br>average mid_career_pay=%{y}<br>average make_world_better_percent=%{marker.size}<extra></extra>",
         "legendgroup": "Idaho",
         "marker": {
          "color": "#EF553B",
          "size": [
           60
          ],
          "sizemode": "area",
          "sizeref": 0.16583333333333333,
          "symbol": "circle"
         },
         "mode": "markers",
         "name": "Idaho",
         "orientation": "v",
         "showlegend": true,
         "type": "scatter",
         "x": [
          42009.333333333336
         ],
         "xaxis": "x",
         "y": [
          87933.33333333333
         ],
         "yaxis": "y"
        },
        {
         "hovertemplate": "state=Illinois<br>four year average in state tuition=%{x}<br>average mid_career_pay=%{y}<br>average make_world_better_percent=%{marker.size}<extra></extra>",
         "legendgroup": "Illinois",
         "marker": {
          "color": "#00cc96",
          "size": [
           51.26315789473684
          ],
          "sizemode": "area",
          "sizeref": 0.16583333333333333,
          "symbol": "circle"
         },
         "mode": "markers",
         "name": "Illinois",
         "orientation": "v",
         "showlegend": true,
         "type": "scatter",
         "x": [
          136982.31578947368
         ],
         "xaxis": "x",
         "y": [
          101368.42105263157
         ],
         "yaxis": "y"
        },
        {
         "hovertemplate": "state=Indiana<br>four year average in state tuition=%{x}<br>average mid_career_pay=%{y}<br>average make_world_better_percent=%{marker.size}<extra></extra>",
         "legendgroup": "Indiana",
         "marker": {
          "color": "#ab63fa",
          "size": [
           51.44444444444444
          ],
          "sizemode": "area",
          "sizeref": 0.16583333333333333,
          "symbol": "circle"
         },
         "mode": "markers",
         "name": "Indiana",
         "orientation": "v",
         "showlegend": true,
         "type": "scatter",
         "x": [
          143818.44444444444
         ],
         "xaxis": "x",
         "y": [
          96233.33333333333
         ],
         "yaxis": "y"
        },
        {
         "hovertemplate": "state=Iowa<br>four year average in state tuition=%{x}<br>average mid_career_pay=%{y}<br>average make_world_better_percent=%{marker.size}<extra></extra>",
         "legendgroup": "Iowa",
         "marker": {
          "color": "#FFA15A",
          "size": [
           50.04761904761905
          ],
          "sizemode": "area",
          "sizeref": 0.16583333333333333,
          "symbol": "circle"
         },
         "mode": "markers",
         "name": "Iowa",
         "orientation": "v",
         "showlegend": true,
         "type": "scatter",
         "x": [
          127574.47619047618
         ],
         "xaxis": "x",
         "y": [
          87285.71428571429
         ],
         "yaxis": "y"
        },
        {
         "hovertemplate": "state=Kansas<br>four year average in state tuition=%{x}<br>average mid_career_pay=%{y}<br>average make_world_better_percent=%{marker.size}<extra></extra>",
         "legendgroup": "Kansas",
         "marker": {
          "color": "#19d3f3",
          "size": [
           60.35294117647059
          ],
          "sizemode": "area",
          "sizeref": 0.16583333333333333,
          "symbol": "circle"
         },
         "mode": "markers",
         "name": "Kansas",
         "orientation": "v",
         "showlegend": true,
         "type": "scatter",
         "x": [
          84346.35294117648
         ],
         "xaxis": "x",
         "y": [
          83752.94117647059
         ],
         "yaxis": "y"
        },
        {
         "hovertemplate": "state=Kentucky<br>four year average in state tuition=%{x}<br>average mid_career_pay=%{y}<br>average make_world_better_percent=%{marker.size}<extra></extra>",
         "legendgroup": "Kentucky",
         "marker": {
          "color": "#FF6692",
          "size": [
           56.083333333333336
          ],
          "sizemode": "area",
          "sizeref": 0.16583333333333333,
          "symbol": "circle"
         },
         "mode": "markers",
         "name": "Kentucky",
         "orientation": "v",
         "showlegend": true,
         "type": "scatter",
         "x": [
          92465.5
         ],
         "xaxis": "x",
         "y": [
          79012.5
         ],
         "yaxis": "y"
        },
        {
         "hovertemplate": "state=Louisiana<br>four year average in state tuition=%{x}<br>average mid_career_pay=%{y}<br>average make_world_better_percent=%{marker.size}<extra></extra>",
         "legendgroup": "Louisiana",
         "marker": {
          "color": "#B6E880",
          "size": [
           58.666666666666664
          ],
          "sizemode": "area",
          "sizeref": 0.16583333333333333,
          "symbol": "circle"
         },
         "mode": "markers",
         "name": "Louisiana",
         "orientation": "v",
         "showlegend": true,
         "type": "scatter",
         "x": [
          61872
         ],
         "xaxis": "x",
         "y": [
          85926.66666666667
         ],
         "yaxis": "y"
        },
        {
         "hovertemplate": "state=Maine<br>four year average in state tuition=%{x}<br>average mid_career_pay=%{y}<br>average make_world_better_percent=%{marker.size}<extra></extra>",
         "legendgroup": "Maine",
         "marker": {
          "color": "#FF97FF",
          "size": [
           55.875
          ],
          "sizemode": "area",
          "sizeref": 0.16583333333333333,
          "symbol": "circle"
         },
         "mode": "markers",
         "name": "Maine",
         "orientation": "v",
         "showlegend": true,
         "type": "scatter",
         "x": [
          98022
         ],
         "xaxis": "x",
         "y": [
          86425
         ],
         "yaxis": "y"
        },
        {
         "hovertemplate": "state=Maryland<br>four year average in state tuition=%{x}<br>average mid_career_pay=%{y}<br>average make_world_better_percent=%{marker.size}<extra></extra>",
         "legendgroup": "Maryland",
         "marker": {
          "color": "#FECB52",
          "size": [
           52.294117647058826
          ],
          "sizemode": "area",
          "sizeref": 0.16583333333333333,
          "symbol": "circle"
         },
         "mode": "markers",
         "name": "Maryland",
         "orientation": "v",
         "showlegend": true,
         "type": "scatter",
         "x": [
          126087.5294117647
         ],
         "xaxis": "x",
         "y": [
          94688.23529411765
         ],
         "yaxis": "y"
        },
        {
         "hovertemplate": "state=Massachusetts<br>four year average in state tuition=%{x}<br>average mid_career_pay=%{y}<br>average make_world_better_percent=%{marker.size}<extra></extra>",
         "legendgroup": "Massachusetts",
         "marker": {
          "color": "#636efa",
          "size": [
           47.523809523809526
          ],
          "sizemode": "area",
          "sizeref": 0.16583333333333333,
          "symbol": "circle"
         },
         "mode": "markers",
         "name": "Massachusetts",
         "orientation": "v",
         "showlegend": true,
         "type": "scatter",
         "x": [
          188594.85714285713
         ],
         "xaxis": "x",
         "y": [
          116009.52380952382
         ],
         "yaxis": "y"
        },
        {
         "hovertemplate": "state=Michigan<br>four year average in state tuition=%{x}<br>average mid_career_pay=%{y}<br>average make_world_better_percent=%{marker.size}<extra></extra>",
         "legendgroup": "Michigan",
         "marker": {
          "color": "#EF553B",
          "size": [
           48.90909090909091
          ],
          "sizemode": "area",
          "sizeref": 0.16583333333333333,
          "symbol": "circle"
         },
         "mode": "markers",
         "name": "Michigan",
         "orientation": "v",
         "showlegend": true,
         "type": "scatter",
         "x": [
          99996.54545454546
         ],
         "xaxis": "x",
         "y": [
          93463.63636363637
         ],
         "yaxis": "y"
        },
        {
         "hovertemplate": "state=Minnesota<br>four year average in state tuition=%{x}<br>average mid_career_pay=%{y}<br>average make_world_better_percent=%{marker.size}<extra></extra>",
         "legendgroup": "Minnesota",
         "marker": {
          "color": "#00cc96",
          "size": [
           49.111111111111114
          ],
          "sizemode": "area",
          "sizeref": 0.16583333333333333,
          "symbol": "circle"
         },
         "mode": "markers",
         "name": "Minnesota",
         "orientation": "v",
         "showlegend": true,
         "type": "scatter",
         "x": [
          133345.33333333334
         ],
         "xaxis": "x",
         "y": [
          93055.55555555556
         ],
         "yaxis": "y"
        },
        {
         "hovertemplate": "state=Mississippi<br>four year average in state tuition=%{x}<br>average mid_career_pay=%{y}<br>average make_world_better_percent=%{marker.size}<extra></extra>",
         "legendgroup": "Mississippi",
         "marker": {
          "color": "#ab63fa",
          "size": [
           62.642857142857146
          ],
          "sizemode": "area",
          "sizeref": 0.16583333333333333,
          "symbol": "circle"
         },
         "mode": "markers",
         "name": "Mississippi",
         "orientation": "v",
         "showlegend": true,
         "type": "scatter",
         "x": [
          51116
         ],
         "xaxis": "x",
         "y": [
          75707.14285714286
         ],
         "yaxis": "y"
        },
        {
         "hovertemplate": "state=Missouri<br>four year average in state tuition=%{x}<br>average mid_career_pay=%{y}<br>average make_world_better_percent=%{marker.size}<extra></extra>",
         "legendgroup": "Missouri",
         "marker": {
          "color": "#FFA15A",
          "size": [
           53
          ],
          "sizemode": "area",
          "sizeref": 0.16583333333333333,
          "symbol": "circle"
         },
         "mode": "markers",
         "name": "Missouri",
         "orientation": "v",
         "showlegend": true,
         "type": "scatter",
         "x": [
          86910.35294117648
         ],
         "xaxis": "x",
         "y": [
          85794.11764705883
         ],
         "yaxis": "y"
        },
        {
         "hovertemplate": "state=Montana<br>four year average in state tuition=%{x}<br>average mid_career_pay=%{y}<br>average make_world_better_percent=%{marker.size}<extra></extra>",
         "legendgroup": "Montana",
         "marker": {
          "color": "#19d3f3",
          "size": [
           58
          ],
          "sizemode": "area",
          "sizeref": 0.16583333333333333,
          "symbol": "circle"
         },
         "mode": "markers",
         "name": "Montana",
         "orientation": "v",
         "showlegend": true,
         "type": "scatter",
         "x": [
          78830
         ],
         "xaxis": "x",
         "y": [
          95775
         ],
         "yaxis": "y"
        },
        {
         "hovertemplate": "state=Nebraska<br>four year average in state tuition=%{x}<br>average mid_career_pay=%{y}<br>average make_world_better_percent=%{marker.size}<extra></extra>",
         "legendgroup": "Nebraska",
         "marker": {
          "color": "#FF6692",
          "size": [
           59.63636363636363
          ],
          "sizemode": "area",
          "sizeref": 0.16583333333333333,
          "symbol": "circle"
         },
         "mode": "markers",
         "name": "Nebraska",
         "orientation": "v",
         "showlegend": true,
         "type": "scatter",
         "x": [
          78756.72727272728
         ],
         "xaxis": "x",
         "y": [
          83036.36363636363
         ],
         "yaxis": "y"
        },
        {
         "hovertemplate": "state=Nevada<br>four year average in state tuition=%{x}<br>average mid_career_pay=%{y}<br>average make_world_better_percent=%{marker.size}<extra></extra>",
         "legendgroup": "Nevada",
         "marker": {
          "color": "#B6E880",
          "size": [
           39
          ],
          "sizemode": "area",
          "sizeref": 0.16583333333333333,
          "symbol": "circle"
         },
         "mode": "markers",
         "name": "Nevada",
         "orientation": "v",
         "showlegend": true,
         "type": "scatter",
         "x": [
          136964
         ],
         "xaxis": "x",
         "y": [
          95500
         ],
         "yaxis": "y"
        },
        {
         "hovertemplate": "state=New Hampshire<br>four year average in state tuition=%{x}<br>average mid_career_pay=%{y}<br>average make_world_better_percent=%{marker.size}<extra></extra>",
         "legendgroup": "New Hampshire",
         "marker": {
          "color": "#FF97FF",
          "size": [
           51.27272727272727
          ],
          "sizemode": "area",
          "sizeref": 0.16583333333333333,
          "symbol": "circle"
         },
         "mode": "markers",
         "name": "New Hampshire",
         "orientation": "v",
         "showlegend": true,
         "type": "scatter",
         "x": [
          120004.36363636363
         ],
         "xaxis": "x",
         "y": [
          89909.09090909091
         ],
         "yaxis": "y"
        },
        {
         "hovertemplate": "state=New Jersey<br>four year average in state tuition=%{x}<br>average mid_career_pay=%{y}<br>average make_world_better_percent=%{marker.size}<extra></extra>",
         "legendgroup": "New Jersey",
         "marker": {
          "color": "#FECB52",
          "size": [
           46.473684210526315
          ],
          "sizemode": "area",
          "sizeref": 0.16583333333333333,
          "symbol": "circle"
         },
         "mode": "markers",
         "name": "New Jersey",
         "orientation": "v",
         "showlegend": true,
         "type": "scatter",
         "x": [
          104793.26315789473
         ],
         "xaxis": "x",
         "y": [
          100400
         ],
         "yaxis": "y"
        },
        {
         "hovertemplate": "state=New Mexico<br>four year average in state tuition=%{x}<br>average mid_career_pay=%{y}<br>average make_world_better_percent=%{marker.size}<extra></extra>",
         "legendgroup": "New Mexico",
         "marker": {
          "color": "#636efa",
          "size": [
           66.33333333333333
          ],
          "sizemode": "area",
          "sizeref": 0.16583333333333333,
          "symbol": "circle"
         },
         "mode": "markers",
         "name": "New Mexico",
         "orientation": "v",
         "showlegend": true,
         "type": "scatter",
         "x": [
          27658.666666666668
         ],
         "xaxis": "x",
         "y": [
          90300
         ],
         "yaxis": "y"
        },
        {
         "hovertemplate": "state=New York<br>four year average in state tuition=%{x}<br>average mid_career_pay=%{y}<br>average make_world_better_percent=%{marker.size}<extra></extra>",
         "legendgroup": "New York",
         "marker": {
          "color": "#EF553B",
          "size": [
           50.8125
          ],
          "sizemode": "area",
          "sizeref": 0.16583333333333333,
          "symbol": "circle"
         },
         "mode": "markers",
         "name": "New York",
         "orientation": "v",
         "showlegend": true,
         "type": "scatter",
         "x": [
          178446
         ],
         "xaxis": "x",
         "y": [
          122106.25
         ],
         "yaxis": "y"
        },
        {
         "hovertemplate": "state=North Carolina<br>four year average in state tuition=%{x}<br>average mid_career_pay=%{y}<br>average make_world_better_percent=%{marker.size}<extra></extra>",
         "legendgroup": "North Carolina",
         "marker": {
          "color": "#00cc96",
          "size": [
           51.85
          ],
          "sizemode": "area",
          "sizeref": 0.16583333333333333,
          "symbol": "circle"
         },
         "mode": "markers",
         "name": "North Carolina",
         "orientation": "v",
         "showlegend": true,
         "type": "scatter",
         "x": [
          110695.2
         ],
         "xaxis": "x",
         "y": [
          89245
         ],
         "yaxis": "y"
        },
        {
         "hovertemplate": "state=North Dakota<br>four year average in state tuition=%{x}<br>average mid_career_pay=%{y}<br>average make_world_better_percent=%{marker.size}<extra></extra>",
         "legendgroup": "North Dakota",
         "marker": {
          "color": "#ab63fa",
          "size": [
           56
          ],
          "sizemode": "area",
          "sizeref": 0.16583333333333333,
          "symbol": "circle"
         },
         "mode": "markers",
         "name": "North Dakota",
         "orientation": "v",
         "showlegend": true,
         "type": "scatter",
         "x": [
          44292.57142857143
         ],
         "xaxis": "x",
         "y": [
          80814.28571428571
         ],
         "yaxis": "y"
        },
        {
         "hovertemplate": "state=Ohio<br>four year average in state tuition=%{x}<br>average mid_career_pay=%{y}<br>average make_world_better_percent=%{marker.size}<extra></extra>",
         "legendgroup": "Ohio",
         "marker": {
          "color": "#FFA15A",
          "size": [
           50
          ],
          "sizemode": "area",
          "sizeref": 0.16583333333333333,
          "symbol": "circle"
         },
         "mode": "markers",
         "name": "Ohio",
         "orientation": "v",
         "showlegend": true,
         "type": "scatter",
         "x": [
          147707.46666666667
         ],
         "xaxis": "x",
         "y": [
          99440
         ],
         "yaxis": "y"
        },
        {
         "hovertemplate": "state=Oklahoma<br>four year average in state tuition=%{x}<br>average mid_career_pay=%{y}<br>average make_world_better_percent=%{marker.size}<extra></extra>",
         "legendgroup": "Oklahoma",
         "marker": {
          "color": "#19d3f3",
          "size": [
           57.63157894736842
          ],
          "sizemode": "area",
          "sizeref": 0.16583333333333333,
          "symbol": "circle"
         },
         "mode": "markers",
         "name": "Oklahoma",
         "orientation": "v",
         "showlegend": true,
         "type": "scatter",
         "x": [
          62780.42105263158
         ],
         "xaxis": "x",
         "y": [
          81221.05263157895
         ],
         "yaxis": "y"
        },
        {
         "hovertemplate": "state=Oregon<br>four year average in state tuition=%{x}<br>average mid_career_pay=%{y}<br>average make_world_better_percent=%{marker.size}<extra></extra>",
         "legendgroup": "Oregon",
         "marker": {
          "color": "#FF6692",
          "size": [
           57.22222222222222
          ],
          "sizemode": "area",
          "sizeref": 0.16583333333333333,
          "symbol": "circle"
         },
         "mode": "markers",
         "name": "Oregon",
         "orientation": "v",
         "showlegend": true,
         "type": "scatter",
         "x": [
          107244.44444444444
         ],
         "xaxis": "x",
         "y": [
          91083.33333333333
         ],
         "yaxis": "y"
        },
        {
         "hovertemplate": "state=Pennsylvania<br>four year average in state tuition=%{x}<br>average mid_career_pay=%{y}<br>average make_world_better_percent=%{marker.size}<extra></extra>",
         "legendgroup": "Pennsylvania",
         "marker": {
          "color": "#B6E880",
          "size": [
           45.36842105263158
          ],
          "sizemode": "area",
          "sizeref": 0.16583333333333333,
          "symbol": "circle"
         },
         "mode": "markers",
         "name": "Pennsylvania",
         "orientation": "v",
         "showlegend": true,
         "type": "scatter",
         "x": [
          191462.52631578947
         ],
         "xaxis": "x",
         "y": [
          113457.8947368421
         ],
         "yaxis": "y"
        },
        {
         "hovertemplate": "state=Rhode Island<br>four year average in state tuition=%{x}<br>average mid_career_pay=%{y}<br>average make_world_better_percent=%{marker.size}<extra></extra>",
         "legendgroup": "Rhode Island",
         "marker": {
          "color": "#FF97FF",
          "size": [
           45.44444444444444
          ],
          "sizemode": "area",
          "sizeref": 0.16583333333333333,
          "symbol": "circle"
         },
         "mode": "markers",
         "name": "Rhode Island",
         "orientation": "v",
         "showlegend": true,
         "type": "scatter",
         "x": [
          146248
         ],
         "xaxis": "x",
         "y": [
          100744.44444444444
         ],
         "yaxis": "y"
        },
        {
         "hovertemplate": "state=South Carolina<br>four year average in state tuition=%{x}<br>average mid_career_pay=%{y}<br>average make_world_better_percent=%{marker.size}<extra></extra>",
         "legendgroup": "South Carolina",
         "marker": {
          "color": "#FECB52",
          "size": [
           57.666666666666664
          ],
          "sizemode": "area",
          "sizeref": 0.16583333333333333,
          "symbol": "circle"
         },
         "mode": "markers",
         "name": "South Carolina",
         "orientation": "v",
         "showlegend": true,
         "type": "scatter",
         "x": [
          87783.33333333333
         ],
         "xaxis": "x",
         "y": [
          80477.77777777778
         ],
         "yaxis": "y"
        },
        {
         "hovertemplate": "state=South Dakota<br>four year average in state tuition=%{x}<br>average mid_career_pay=%{y}<br>average make_world_better_percent=%{marker.size}<extra></extra>",
         "legendgroup": "South Dakota",
         "marker": {
          "color": "#636efa",
          "size": [
           56.5
          ],
          "sizemode": "area",
          "sizeref": 0.16583333333333333,
          "symbol": "circle"
         },
         "mode": "markers",
         "name": "South Dakota",
         "orientation": "v",
         "showlegend": true,
         "type": "scatter",
         "x": [
          63994
         ],
         "xaxis": "x",
         "y": [
          85170
         ],
         "yaxis": "y"
        },
        {
         "hovertemplate": "state=Tennessee<br>four year average in state tuition=%{x}<br>average mid_career_pay=%{y}<br>average make_world_better_percent=%{marker.size}<extra></extra>",
         "legendgroup": "Tennessee",
         "marker": {
          "color": "#EF553B",
          "size": [
           57.7
          ],
          "sizemode": "area",
          "sizeref": 0.16583333333333333,
          "symbol": "circle"
         },
         "mode": "markers",
         "name": "Tennessee",
         "orientation": "v",
         "showlegend": true,
         "type": "scatter",
         "x": [
          98784.8
         ],
         "xaxis": "x",
         "y": [
          84660
         ],
         "yaxis": "y"
        },
        {
         "hovertemplate": "state=Texas<br>four year average in state tuition=%{x}<br>average mid_career_pay=%{y}<br>average make_world_better_percent=%{marker.size}<extra></extra>",
         "legendgroup": "Texas",
         "marker": {
          "color": "#00cc96",
          "size": [
           53.833333333333336
          ],
          "sizemode": "area",
          "sizeref": 0.16583333333333333,
          "symbol": "circle"
         },
         "mode": "markers",
         "name": "Texas",
         "orientation": "v",
         "showlegend": true,
         "type": "scatter",
         "x": [
          106221.55555555556
         ],
         "xaxis": "x",
         "y": [
          102516.66666666667
         ],
         "yaxis": "y"
        },
        {
         "hovertemplate": "state=Utah<br>four year average in state tuition=%{x}<br>average mid_career_pay=%{y}<br>average make_world_better_percent=%{marker.size}<extra></extra>",
         "legendgroup": "Utah",
         "marker": {
          "color": "#ab63fa",
          "size": [
           59.5
          ],
          "sizemode": "area",
          "sizeref": 0.16583333333333333,
          "symbol": "circle"
         },
         "mode": "markers",
         "name": "Utah",
         "orientation": "v",
         "showlegend": true,
         "type": "scatter",
         "x": [
          27761.333333333332
         ],
         "xaxis": "x",
         "y": [
          92833.33333333333
         ],
         "yaxis": "y"
        },
        {
         "hovertemplate": "state=Vermont<br>four year average in state tuition=%{x}<br>average mid_career_pay=%{y}<br>average make_world_better_percent=%{marker.size}<extra></extra>",
         "legendgroup": "Vermont",
         "marker": {
          "color": "#FFA15A",
          "size": [
           49.63636363636363
          ],
          "sizemode": "area",
          "sizeref": 0.16583333333333333,
          "symbol": "circle"
         },
         "mode": "markers",
         "name": "Vermont",
         "orientation": "v",
         "showlegend": true,
         "type": "scatter",
         "x": [
          129271.27272727272
         ],
         "xaxis": "x",
         "y": [
          89481.81818181818
         ],
         "yaxis": "y"
        },
        {
         "hovertemplate": "state=Virginia<br>four year average in state tuition=%{x}<br>average mid_career_pay=%{y}<br>average make_world_better_percent=%{marker.size}<extra></extra>",
         "legendgroup": "Virginia",
         "marker": {
          "color": "#19d3f3",
          "size": [
           53.13636363636363
          ],
          "sizemode": "area",
          "sizeref": 0.16583333333333333,
          "symbol": "circle"
         },
         "mode": "markers",
         "name": "Virginia",
         "orientation": "v",
         "showlegend": true,
         "type": "scatter",
         "x": [
          100446.36363636363
         ],
         "xaxis": "x",
         "y": [
          96559.09090909091
         ],
         "yaxis": "y"
        },
        {
         "hovertemplate": "state=Washington<br>four year average in state tuition=%{x}<br>average mid_career_pay=%{y}<br>average make_world_better_percent=%{marker.size}<extra></extra>",
         "legendgroup": "Washington",
         "marker": {
          "color": "#FF6692",
          "size": [
           51.1875
          ],
          "sizemode": "area",
          "sizeref": 0.16583333333333333,
          "symbol": "circle"
         },
         "mode": "markers",
         "name": "Washington",
         "orientation": "v",
         "showlegend": true,
         "type": "scatter",
         "x": [
          123986
         ],
         "xaxis": "x",
         "y": [
          97043.75
         ],
         "yaxis": "y"
        },
        {
         "hovertemplate": "state=West Virginia<br>four year average in state tuition=%{x}<br>average mid_career_pay=%{y}<br>average make_world_better_percent=%{marker.size}<extra></extra>",
         "legendgroup": "West Virginia",
         "marker": {
          "color": "#B6E880",
          "size": [
           55.86666666666667
          ],
          "sizemode": "area",
          "sizeref": 0.16583333333333333,
          "symbol": "circle"
         },
         "mode": "markers",
         "name": "West Virginia",
         "orientation": "v",
         "showlegend": true,
         "type": "scatter",
         "x": [
          53202.666666666664
         ],
         "xaxis": "x",
         "y": [
          80040
         ],
         "yaxis": "y"
        },
        {
         "hovertemplate": "state=Wisconsin<br>four year average in state tuition=%{x}<br>average mid_career_pay=%{y}<br>average make_world_better_percent=%{marker.size}<extra></extra>",
         "legendgroup": "Wisconsin",
         "marker": {
          "color": "#FF97FF",
          "size": [
           53.22727272727273
          ],
          "sizemode": "area",
          "sizeref": 0.16583333333333333,
          "symbol": "circle"
         },
         "mode": "markers",
         "name": "Wisconsin",
         "orientation": "v",
         "showlegend": true,
         "type": "scatter",
         "x": [
          95868.54545454546
         ],
         "xaxis": "x",
         "y": [
          91100
         ],
         "yaxis": "y"
        },
        {
         "hovertemplate": "state=Wyoming<br>four year average in state tuition=%{x}<br>average mid_career_pay=%{y}<br>average make_world_better_percent=%{marker.size}<extra></extra>",
         "legendgroup": "Wyoming",
         "marker": {
          "color": "#FECB52",
          "size": [
           58
          ],
          "sizemode": "area",
          "sizeref": 0.16583333333333333,
          "symbol": "circle"
         },
         "mode": "markers",
         "name": "Wyoming",
         "orientation": "v",
         "showlegend": true,
         "type": "scatter",
         "x": [
          21600
         ],
         "xaxis": "x",
         "y": [
          98800
         ],
         "yaxis": "y"
        },
        {
         "hovertemplate": "<b>OLS trendline</b><br>average mid_career_pay = 0.175898 * four year average in state tuition + 75105<br>R<sup>2</sup>=0.504633<br><br>four year average in state tuition=%{x}<br>average mid_career_pay=%{y} <b>(trend)</b><extra></extra>",
         "legendgroup": "Overall Trendline",
         "line": {
          "color": "#636efa"
         },
         "mode": "lines",
         "name": "Overall Trendline",
         "showlegend": true,
         "type": "scatter",
         "x": [
          21600,
          27658.666666666668,
          27761.333333333332,
          42009.333333333336,
          44292.57142857143,
          48806.666666666664,
          51116,
          53202.666666666664,
          61283.2,
          61872,
          62780.42105263158,
          63994,
          64536.95238095238,
          66771.2,
          68785.42857142857,
          74048,
          78756.72727272728,
          78830,
          83676.61538461539,
          84346.35294117648,
          84775.63636363637,
          86910.35294117648,
          87783.33333333333,
          92465.5,
          95868.54545454546,
          96486.22222222222,
          98022,
          98784.8,
          99996.54545454546,
          100446.36363636363,
          104793.26315789473,
          106221.55555555556,
          107244.44444444444,
          110695.2,
          120004.36363636363,
          123986,
          126087.5294117647,
          127574.47619047618,
          129271.27272727272,
          133345.33333333334,
          135868.44444444444,
          136964,
          136982.31578947368,
          143818.44444444444,
          146248,
          147707.46666666667,
          178446,
          188594.85714285713,
          190626.15384615384,
          191462.52631578947
         ],
         "xaxis": "x",
         "y": [
          78904.39341150041,
          79970.10341185667,
          79988.1623181127,
          82494.36325645054,
          82895.98126997765,
          83690.00356935023,
          84096.21169448603,
          84463.25310085874,
          85884.6062888339,
          85988.17528886852,
          86147.96513267193,
          86361.4317733683,
          86456.93624884666,
          86849.9369141566,
          87204.23657275719,
          88129.9146645845,
          88958.17243474776,
          88971.0609929907,
          89823.573066593,
          89941.37885636654,
          90016.88913964713,
          90392.38245026732,
          90545.93833726717,
          91369.52413832376,
          91968.11451671988,
          92076.7628950706,
          92346.90380661924,
          92481.07913478909,
          92694.22326696262,
          92773.34558232999,
          93537.95841639242,
          93789.19281751807,
          93969.11737486988,
          94576.09988548947,
          96213.56722410505,
          96913.93083939601,
          97283.58657940928,
          97545.13819451773,
          97843.60205419542,
          98560.22294932137,
          99004.03425155306,
          99196.74076203414,
          99199.96248078522,
          100402.42683014554,
          100829.78185633008,
          101086.4997626659,
          106493.35974884841,
          108278.52786328449,
          108635.82977961272,
          108782.94639023882
         ],
         "yaxis": "y"
        }
       ],
       "layout": {
        "legend": {
         "itemsizing": "constant",
         "title": {
          "text": "state"
         },
         "tracegroupgap": 0
        },
        "template": {
         "data": {
          "bar": [
           {
            "error_x": {
             "color": "#2a3f5f"
            },
            "error_y": {
             "color": "#2a3f5f"
            },
            "marker": {
             "line": {
              "color": "#E5ECF6",
              "width": 0.5
             },
             "pattern": {
              "fillmode": "overlay",
              "size": 10,
              "solidity": 0.2
             }
            },
            "type": "bar"
           }
          ],
          "barpolar": [
           {
            "marker": {
             "line": {
              "color": "#E5ECF6",
              "width": 0.5
             },
             "pattern": {
              "fillmode": "overlay",
              "size": 10,
              "solidity": 0.2
             }
            },
            "type": "barpolar"
           }
          ],
          "carpet": [
           {
            "aaxis": {
             "endlinecolor": "#2a3f5f",
             "gridcolor": "white",
             "linecolor": "white",
             "minorgridcolor": "white",
             "startlinecolor": "#2a3f5f"
            },
            "baxis": {
             "endlinecolor": "#2a3f5f",
             "gridcolor": "white",
             "linecolor": "white",
             "minorgridcolor": "white",
             "startlinecolor": "#2a3f5f"
            },
            "type": "carpet"
           }
          ],
          "choropleth": [
           {
            "colorbar": {
             "outlinewidth": 0,
             "ticks": ""
            },
            "type": "choropleth"
           }
          ],
          "contour": [
           {
            "colorbar": {
             "outlinewidth": 0,
             "ticks": ""
            },
            "colorscale": [
             [
              0,
              "#0d0887"
             ],
             [
              0.1111111111111111,
              "#46039f"
             ],
             [
              0.2222222222222222,
              "#7201a8"
             ],
             [
              0.3333333333333333,
              "#9c179e"
             ],
             [
              0.4444444444444444,
              "#bd3786"
             ],
             [
              0.5555555555555556,
              "#d8576b"
             ],
             [
              0.6666666666666666,
              "#ed7953"
             ],
             [
              0.7777777777777778,
              "#fb9f3a"
             ],
             [
              0.8888888888888888,
              "#fdca26"
             ],
             [
              1,
              "#f0f921"
             ]
            ],
            "type": "contour"
           }
          ],
          "contourcarpet": [
           {
            "colorbar": {
             "outlinewidth": 0,
             "ticks": ""
            },
            "type": "contourcarpet"
           }
          ],
          "heatmap": [
           {
            "colorbar": {
             "outlinewidth": 0,
             "ticks": ""
            },
            "colorscale": [
             [
              0,
              "#0d0887"
             ],
             [
              0.1111111111111111,
              "#46039f"
             ],
             [
              0.2222222222222222,
              "#7201a8"
             ],
             [
              0.3333333333333333,
              "#9c179e"
             ],
             [
              0.4444444444444444,
              "#bd3786"
             ],
             [
              0.5555555555555556,
              "#d8576b"
             ],
             [
              0.6666666666666666,
              "#ed7953"
             ],
             [
              0.7777777777777778,
              "#fb9f3a"
             ],
             [
              0.8888888888888888,
              "#fdca26"
             ],
             [
              1,
              "#f0f921"
             ]
            ],
            "type": "heatmap"
           }
          ],
          "heatmapgl": [
           {
            "colorbar": {
             "outlinewidth": 0,
             "ticks": ""
            },
            "colorscale": [
             [
              0,
              "#0d0887"
             ],
             [
              0.1111111111111111,
              "#46039f"
             ],
             [
              0.2222222222222222,
              "#7201a8"
             ],
             [
              0.3333333333333333,
              "#9c179e"
             ],
             [
              0.4444444444444444,
              "#bd3786"
             ],
             [
              0.5555555555555556,
              "#d8576b"
             ],
             [
              0.6666666666666666,
              "#ed7953"
             ],
             [
              0.7777777777777778,
              "#fb9f3a"
             ],
             [
              0.8888888888888888,
              "#fdca26"
             ],
             [
              1,
              "#f0f921"
             ]
            ],
            "type": "heatmapgl"
           }
          ],
          "histogram": [
           {
            "marker": {
             "pattern": {
              "fillmode": "overlay",
              "size": 10,
              "solidity": 0.2
             }
            },
            "type": "histogram"
           }
          ],
          "histogram2d": [
           {
            "colorbar": {
             "outlinewidth": 0,
             "ticks": ""
            },
            "colorscale": [
             [
              0,
              "#0d0887"
             ],
             [
              0.1111111111111111,
              "#46039f"
             ],
             [
              0.2222222222222222,
              "#7201a8"
             ],
             [
              0.3333333333333333,
              "#9c179e"
             ],
             [
              0.4444444444444444,
              "#bd3786"
             ],
             [
              0.5555555555555556,
              "#d8576b"
             ],
             [
              0.6666666666666666,
              "#ed7953"
             ],
             [
              0.7777777777777778,
              "#fb9f3a"
             ],
             [
              0.8888888888888888,
              "#fdca26"
             ],
             [
              1,
              "#f0f921"
             ]
            ],
            "type": "histogram2d"
           }
          ],
          "histogram2dcontour": [
           {
            "colorbar": {
             "outlinewidth": 0,
             "ticks": ""
            },
            "colorscale": [
             [
              0,
              "#0d0887"
             ],
             [
              0.1111111111111111,
              "#46039f"
             ],
             [
              0.2222222222222222,
              "#7201a8"
             ],
             [
              0.3333333333333333,
              "#9c179e"
             ],
             [
              0.4444444444444444,
              "#bd3786"
             ],
             [
              0.5555555555555556,
              "#d8576b"
             ],
             [
              0.6666666666666666,
              "#ed7953"
             ],
             [
              0.7777777777777778,
              "#fb9f3a"
             ],
             [
              0.8888888888888888,
              "#fdca26"
             ],
             [
              1,
              "#f0f921"
             ]
            ],
            "type": "histogram2dcontour"
           }
          ],
          "mesh3d": [
           {
            "colorbar": {
             "outlinewidth": 0,
             "ticks": ""
            },
            "type": "mesh3d"
           }
          ],
          "parcoords": [
           {
            "line": {
             "colorbar": {
              "outlinewidth": 0,
              "ticks": ""
             }
            },
            "type": "parcoords"
           }
          ],
          "pie": [
           {
            "automargin": true,
            "type": "pie"
           }
          ],
          "scatter": [
           {
            "marker": {
             "colorbar": {
              "outlinewidth": 0,
              "ticks": ""
             }
            },
            "type": "scatter"
           }
          ],
          "scatter3d": [
           {
            "line": {
             "colorbar": {
              "outlinewidth": 0,
              "ticks": ""
             }
            },
            "marker": {
             "colorbar": {
              "outlinewidth": 0,
              "ticks": ""
             }
            },
            "type": "scatter3d"
           }
          ],
          "scattercarpet": [
           {
            "marker": {
             "colorbar": {
              "outlinewidth": 0,
              "ticks": ""
             }
            },
            "type": "scattercarpet"
           }
          ],
          "scattergeo": [
           {
            "marker": {
             "colorbar": {
              "outlinewidth": 0,
              "ticks": ""
             }
            },
            "type": "scattergeo"
           }
          ],
          "scattergl": [
           {
            "marker": {
             "colorbar": {
              "outlinewidth": 0,
              "ticks": ""
             }
            },
            "type": "scattergl"
           }
          ],
          "scattermapbox": [
           {
            "marker": {
             "colorbar": {
              "outlinewidth": 0,
              "ticks": ""
             }
            },
            "type": "scattermapbox"
           }
          ],
          "scatterpolar": [
           {
            "marker": {
             "colorbar": {
              "outlinewidth": 0,
              "ticks": ""
             }
            },
            "type": "scatterpolar"
           }
          ],
          "scatterpolargl": [
           {
            "marker": {
             "colorbar": {
              "outlinewidth": 0,
              "ticks": ""
             }
            },
            "type": "scatterpolargl"
           }
          ],
          "scatterternary": [
           {
            "marker": {
             "colorbar": {
              "outlinewidth": 0,
              "ticks": ""
             }
            },
            "type": "scatterternary"
           }
          ],
          "surface": [
           {
            "colorbar": {
             "outlinewidth": 0,
             "ticks": ""
            },
            "colorscale": [
             [
              0,
              "#0d0887"
             ],
             [
              0.1111111111111111,
              "#46039f"
             ],
             [
              0.2222222222222222,
              "#7201a8"
             ],
             [
              0.3333333333333333,
              "#9c179e"
             ],
             [
              0.4444444444444444,
              "#bd3786"
             ],
             [
              0.5555555555555556,
              "#d8576b"
             ],
             [
              0.6666666666666666,
              "#ed7953"
             ],
             [
              0.7777777777777778,
              "#fb9f3a"
             ],
             [
              0.8888888888888888,
              "#fdca26"
             ],
             [
              1,
              "#f0f921"
             ]
            ],
            "type": "surface"
           }
          ],
          "table": [
           {
            "cells": {
             "fill": {
              "color": "#EBF0F8"
             },
             "line": {
              "color": "white"
             }
            },
            "header": {
             "fill": {
              "color": "#C8D4E3"
             },
             "line": {
              "color": "white"
             }
            },
            "type": "table"
           }
          ]
         },
         "layout": {
          "annotationdefaults": {
           "arrowcolor": "#2a3f5f",
           "arrowhead": 0,
           "arrowwidth": 1
          },
          "autotypenumbers": "strict",
          "coloraxis": {
           "colorbar": {
            "outlinewidth": 0,
            "ticks": ""
           }
          },
          "colorscale": {
           "diverging": [
            [
             0,
             "#8e0152"
            ],
            [
             0.1,
             "#c51b7d"
            ],
            [
             0.2,
             "#de77ae"
            ],
            [
             0.3,
             "#f1b6da"
            ],
            [
             0.4,
             "#fde0ef"
            ],
            [
             0.5,
             "#f7f7f7"
            ],
            [
             0.6,
             "#e6f5d0"
            ],
            [
             0.7,
             "#b8e186"
            ],
            [
             0.8,
             "#7fbc41"
            ],
            [
             0.9,
             "#4d9221"
            ],
            [
             1,
             "#276419"
            ]
           ],
           "sequential": [
            [
             0,
             "#0d0887"
            ],
            [
             0.1111111111111111,
             "#46039f"
            ],
            [
             0.2222222222222222,
             "#7201a8"
            ],
            [
             0.3333333333333333,
             "#9c179e"
            ],
            [
             0.4444444444444444,
             "#bd3786"
            ],
            [
             0.5555555555555556,
             "#d8576b"
            ],
            [
             0.6666666666666666,
             "#ed7953"
            ],
            [
             0.7777777777777778,
             "#fb9f3a"
            ],
            [
             0.8888888888888888,
             "#fdca26"
            ],
            [
             1,
             "#f0f921"
            ]
           ],
           "sequentialminus": [
            [
             0,
             "#0d0887"
            ],
            [
             0.1111111111111111,
             "#46039f"
            ],
            [
             0.2222222222222222,
             "#7201a8"
            ],
            [
             0.3333333333333333,
             "#9c179e"
            ],
            [
             0.4444444444444444,
             "#bd3786"
            ],
            [
             0.5555555555555556,
             "#d8576b"
            ],
            [
             0.6666666666666666,
             "#ed7953"
            ],
            [
             0.7777777777777778,
             "#fb9f3a"
            ],
            [
             0.8888888888888888,
             "#fdca26"
            ],
            [
             1,
             "#f0f921"
            ]
           ]
          },
          "colorway": [
           "#636efa",
           "#EF553B",
           "#00cc96",
           "#ab63fa",
           "#FFA15A",
           "#19d3f3",
           "#FF6692",
           "#B6E880",
           "#FF97FF",
           "#FECB52"
          ],
          "font": {
           "color": "#2a3f5f"
          },
          "geo": {
           "bgcolor": "white",
           "lakecolor": "white",
           "landcolor": "#E5ECF6",
           "showlakes": true,
           "showland": true,
           "subunitcolor": "white"
          },
          "hoverlabel": {
           "align": "left"
          },
          "hovermode": "closest",
          "mapbox": {
           "style": "light"
          },
          "paper_bgcolor": "white",
          "plot_bgcolor": "#E5ECF6",
          "polar": {
           "angularaxis": {
            "gridcolor": "white",
            "linecolor": "white",
            "ticks": ""
           },
           "bgcolor": "#E5ECF6",
           "radialaxis": {
            "gridcolor": "white",
            "linecolor": "white",
            "ticks": ""
           }
          },
          "scene": {
           "xaxis": {
            "backgroundcolor": "#E5ECF6",
            "gridcolor": "white",
            "gridwidth": 2,
            "linecolor": "white",
            "showbackground": true,
            "ticks": "",
            "zerolinecolor": "white"
           },
           "yaxis": {
            "backgroundcolor": "#E5ECF6",
            "gridcolor": "white",
            "gridwidth": 2,
            "linecolor": "white",
            "showbackground": true,
            "ticks": "",
            "zerolinecolor": "white"
           },
           "zaxis": {
            "backgroundcolor": "#E5ECF6",
            "gridcolor": "white",
            "gridwidth": 2,
            "linecolor": "white",
            "showbackground": true,
            "ticks": "",
            "zerolinecolor": "white"
           }
          },
          "shapedefaults": {
           "line": {
            "color": "#2a3f5f"
           }
          },
          "ternary": {
           "aaxis": {
            "gridcolor": "white",
            "linecolor": "white",
            "ticks": ""
           },
           "baxis": {
            "gridcolor": "white",
            "linecolor": "white",
            "ticks": ""
           },
           "bgcolor": "#E5ECF6",
           "caxis": {
            "gridcolor": "white",
            "linecolor": "white",
            "ticks": ""
           }
          },
          "title": {
           "x": 0.05
          },
          "xaxis": {
           "automargin": true,
           "gridcolor": "white",
           "linecolor": "white",
           "ticks": "",
           "title": {
            "standoff": 15
           },
           "zerolinecolor": "white",
           "zerolinewidth": 2
          },
          "yaxis": {
           "automargin": true,
           "gridcolor": "white",
           "linecolor": "white",
           "ticks": "",
           "title": {
            "standoff": 15
           },
           "zerolinecolor": "white",
           "zerolinewidth": 2
          }
         }
        },
        "title": {
         "text": "Average In State Tuition vs Average % of Students Graduating with STEM Degrees"
        },
        "xaxis": {
         "anchor": "y",
         "domain": [
          0,
          1
         ],
         "title": {
          "text": "four year average in state tuition"
         }
        },
        "yaxis": {
         "anchor": "x",
         "domain": [
          0,
          1
         ],
         "title": {
          "text": "average mid_career_pay"
         }
        }
       }
      },
      "text/html": [
       "<div>                            <div id=\"c26159d1-21a9-4225-b7ce-be869c125be5\" class=\"plotly-graph-div\" style=\"height:525px; width:100%;\"></div>            <script type=\"text/javascript\">                require([\"plotly\"], function(Plotly) {                    window.PLOTLYENV=window.PLOTLYENV || {};                                    if (document.getElementById(\"c26159d1-21a9-4225-b7ce-be869c125be5\")) {                    Plotly.newPlot(                        \"c26159d1-21a9-4225-b7ce-be869c125be5\",                        [{\"hovertemplate\":\"state=Alabama<br>four year average in state tuition=%{x}<br>average mid_career_pay=%{y}<br>average make_world_better_percent=%{marker.size}<extra></extra>\",\"legendgroup\":\"Alabama\",\"marker\":{\"color\":\"#636efa\",\"size\":[60.04761904761905],\"sizemode\":\"area\",\"sizeref\":0.16583333333333333,\"symbol\":\"circle\"},\"mode\":\"markers\",\"name\":\"Alabama\",\"orientation\":\"v\",\"showlegend\":true,\"x\":[64536.95238095238],\"xaxis\":\"x\",\"y\":[81176.19047619047],\"yaxis\":\"y\",\"type\":\"scatter\"},{\"hovertemplate\":\"state=Alaska<br>four year average in state tuition=%{x}<br>average mid_career_pay=%{y}<br>average make_world_better_percent=%{marker.size}<extra></extra>\",\"legendgroup\":\"Alaska\",\"marker\":{\"color\":\"#EF553B\",\"size\":[59.333333333333336],\"sizemode\":\"area\",\"sizeref\":0.16583333333333333,\"symbol\":\"circle\"},\"mode\":\"markers\",\"name\":\"Alaska\",\"orientation\":\"v\",\"showlegend\":true,\"x\":[48806.666666666664],\"xaxis\":\"x\",\"y\":[97600.0],\"yaxis\":\"y\",\"type\":\"scatter\"},{\"hovertemplate\":\"state=Arizona<br>four year average in state tuition=%{x}<br>average mid_career_pay=%{y}<br>average make_world_better_percent=%{marker.size}<extra></extra>\",\"legendgroup\":\"Arizona\",\"marker\":{\"color\":\"#00cc96\",\"size\":[58.666666666666664],\"sizemode\":\"area\",\"sizeref\":0.16583333333333333,\"symbol\":\"circle\"},\"mode\":\"markers\",\"name\":\"Arizona\",\"orientation\":\"v\",\"showlegend\":true,\"x\":[74048.0],\"xaxis\":\"x\",\"y\":[88166.66666666667],\"yaxis\":\"y\",\"type\":\"scatter\"},{\"hovertemplate\":\"state=Arkansas<br>four year average in state tuition=%{x}<br>average mid_career_pay=%{y}<br>average make_world_better_percent=%{marker.size}<extra></extra>\",\"legendgroup\":\"Arkansas\",\"marker\":{\"color\":\"#ab63fa\",\"size\":[57.57142857142857],\"sizemode\":\"area\",\"sizeref\":0.16583333333333333,\"symbol\":\"circle\"},\"mode\":\"markers\",\"name\":\"Arkansas\",\"orientation\":\"v\",\"showlegend\":true,\"x\":[68785.42857142857],\"xaxis\":\"x\",\"y\":[81700.0],\"yaxis\":\"y\",\"type\":\"scatter\"},{\"hovertemplate\":\"state=California<br>four year average in state tuition=%{x}<br>average mid_career_pay=%{y}<br>average make_world_better_percent=%{marker.size}<extra></extra>\",\"legendgroup\":\"California\",\"marker\":{\"color\":\"#FFA15A\",\"size\":[49.76923076923077],\"sizemode\":\"area\",\"sizeref\":0.16583333333333333,\"symbol\":\"circle\"},\"mode\":\"markers\",\"name\":\"California\",\"orientation\":\"v\",\"showlegend\":true,\"x\":[190626.15384615384],\"xaxis\":\"x\",\"y\":[124876.92307692308],\"yaxis\":\"y\",\"type\":\"scatter\"},{\"hovertemplate\":\"state=Colorado<br>four year average in state tuition=%{x}<br>average mid_career_pay=%{y}<br>average make_world_better_percent=%{marker.size}<extra></extra>\",\"legendgroup\":\"Colorado\",\"marker\":{\"color\":\"#19d3f3\",\"size\":[53.92307692307692],\"sizemode\":\"area\",\"sizeref\":0.16583333333333333,\"symbol\":\"circle\"},\"mode\":\"markers\",\"name\":\"Colorado\",\"orientation\":\"v\",\"showlegend\":true,\"x\":[83676.61538461539],\"xaxis\":\"x\",\"y\":[93815.38461538461],\"yaxis\":\"y\",\"type\":\"scatter\"},{\"hovertemplate\":\"state=Connecticut<br>four year average in state tuition=%{x}<br>average mid_career_pay=%{y}<br>average make_world_better_percent=%{marker.size}<extra></extra>\",\"legendgroup\":\"Connecticut\",\"marker\":{\"color\":\"#FF6692\",\"size\":[51.0],\"sizemode\":\"area\",\"sizeref\":0.16583333333333333,\"symbol\":\"circle\"},\"mode\":\"markers\",\"name\":\"Connecticut\",\"orientation\":\"v\",\"showlegend\":true,\"x\":[135868.44444444444],\"xaxis\":\"x\",\"y\":[99505.55555555556],\"yaxis\":\"y\",\"type\":\"scatter\"},{\"hovertemplate\":\"state=Delaware<br>four year average in state tuition=%{x}<br>average mid_career_pay=%{y}<br>average make_world_better_percent=%{marker.size}<extra></extra>\",\"legendgroup\":\"Delaware\",\"marker\":{\"color\":\"#B6E880\",\"size\":[49.4],\"sizemode\":\"area\",\"sizeref\":0.16583333333333333,\"symbol\":\"circle\"},\"mode\":\"markers\",\"name\":\"Delaware\",\"orientation\":\"v\",\"showlegend\":true,\"x\":[66771.2],\"xaxis\":\"x\",\"y\":[85620.0],\"yaxis\":\"y\",\"type\":\"scatter\"},{\"hovertemplate\":\"state=Florida<br>four year average in state tuition=%{x}<br>average mid_career_pay=%{y}<br>average make_world_better_percent=%{marker.size}<extra></extra>\",\"legendgroup\":\"Florida\",\"marker\":{\"color\":\"#FF97FF\",\"size\":[54.5],\"sizemode\":\"area\",\"sizeref\":0.16583333333333333,\"symbol\":\"circle\"},\"mode\":\"markers\",\"name\":\"Florida\",\"orientation\":\"v\",\"showlegend\":true,\"x\":[96486.22222222222],\"xaxis\":\"x\",\"y\":[90455.55555555556],\"yaxis\":\"y\",\"type\":\"scatter\"},{\"hovertemplate\":\"state=Georgia<br>four year average in state tuition=%{x}<br>average mid_career_pay=%{y}<br>average make_world_better_percent=%{marker.size}<extra></extra>\",\"legendgroup\":\"Georgia\",\"marker\":{\"color\":\"#FECB52\",\"size\":[52.86363636363637],\"sizemode\":\"area\",\"sizeref\":0.16583333333333333,\"symbol\":\"circle\"},\"mode\":\"markers\",\"name\":\"Georgia\",\"orientation\":\"v\",\"showlegend\":true,\"x\":[84775.63636363637],\"xaxis\":\"x\",\"y\":[86700.0],\"yaxis\":\"y\",\"type\":\"scatter\"},{\"hovertemplate\":\"state=Hawaii<br>four year average in state tuition=%{x}<br>average mid_career_pay=%{y}<br>average make_world_better_percent=%{marker.size}<extra></extra>\",\"legendgroup\":\"Hawaii\",\"marker\":{\"color\":\"#636efa\",\"size\":[56.6],\"sizemode\":\"area\",\"sizeref\":0.16583333333333333,\"symbol\":\"circle\"},\"mode\":\"markers\",\"name\":\"Hawaii\",\"orientation\":\"v\",\"showlegend\":true,\"x\":[61283.2],\"xaxis\":\"x\",\"y\":[88040.0],\"yaxis\":\"y\",\"type\":\"scatter\"},{\"hovertemplate\":\"state=Idaho<br>four year average in state tuition=%{x}<br>average mid_career_pay=%{y}<br>average make_world_better_percent=%{marker.size}<extra></extra>\",\"legendgroup\":\"Idaho\",\"marker\":{\"color\":\"#EF553B\",\"size\":[60.0],\"sizemode\":\"area\",\"sizeref\":0.16583333333333333,\"symbol\":\"circle\"},\"mode\":\"markers\",\"name\":\"Idaho\",\"orientation\":\"v\",\"showlegend\":true,\"x\":[42009.333333333336],\"xaxis\":\"x\",\"y\":[87933.33333333333],\"yaxis\":\"y\",\"type\":\"scatter\"},{\"hovertemplate\":\"state=Illinois<br>four year average in state tuition=%{x}<br>average mid_career_pay=%{y}<br>average make_world_better_percent=%{marker.size}<extra></extra>\",\"legendgroup\":\"Illinois\",\"marker\":{\"color\":\"#00cc96\",\"size\":[51.26315789473684],\"sizemode\":\"area\",\"sizeref\":0.16583333333333333,\"symbol\":\"circle\"},\"mode\":\"markers\",\"name\":\"Illinois\",\"orientation\":\"v\",\"showlegend\":true,\"x\":[136982.31578947368],\"xaxis\":\"x\",\"y\":[101368.42105263157],\"yaxis\":\"y\",\"type\":\"scatter\"},{\"hovertemplate\":\"state=Indiana<br>four year average in state tuition=%{x}<br>average mid_career_pay=%{y}<br>average make_world_better_percent=%{marker.size}<extra></extra>\",\"legendgroup\":\"Indiana\",\"marker\":{\"color\":\"#ab63fa\",\"size\":[51.44444444444444],\"sizemode\":\"area\",\"sizeref\":0.16583333333333333,\"symbol\":\"circle\"},\"mode\":\"markers\",\"name\":\"Indiana\",\"orientation\":\"v\",\"showlegend\":true,\"x\":[143818.44444444444],\"xaxis\":\"x\",\"y\":[96233.33333333333],\"yaxis\":\"y\",\"type\":\"scatter\"},{\"hovertemplate\":\"state=Iowa<br>four year average in state tuition=%{x}<br>average mid_career_pay=%{y}<br>average make_world_better_percent=%{marker.size}<extra></extra>\",\"legendgroup\":\"Iowa\",\"marker\":{\"color\":\"#FFA15A\",\"size\":[50.04761904761905],\"sizemode\":\"area\",\"sizeref\":0.16583333333333333,\"symbol\":\"circle\"},\"mode\":\"markers\",\"name\":\"Iowa\",\"orientation\":\"v\",\"showlegend\":true,\"x\":[127574.47619047618],\"xaxis\":\"x\",\"y\":[87285.71428571429],\"yaxis\":\"y\",\"type\":\"scatter\"},{\"hovertemplate\":\"state=Kansas<br>four year average in state tuition=%{x}<br>average mid_career_pay=%{y}<br>average make_world_better_percent=%{marker.size}<extra></extra>\",\"legendgroup\":\"Kansas\",\"marker\":{\"color\":\"#19d3f3\",\"size\":[60.35294117647059],\"sizemode\":\"area\",\"sizeref\":0.16583333333333333,\"symbol\":\"circle\"},\"mode\":\"markers\",\"name\":\"Kansas\",\"orientation\":\"v\",\"showlegend\":true,\"x\":[84346.35294117648],\"xaxis\":\"x\",\"y\":[83752.94117647059],\"yaxis\":\"y\",\"type\":\"scatter\"},{\"hovertemplate\":\"state=Kentucky<br>four year average in state tuition=%{x}<br>average mid_career_pay=%{y}<br>average make_world_better_percent=%{marker.size}<extra></extra>\",\"legendgroup\":\"Kentucky\",\"marker\":{\"color\":\"#FF6692\",\"size\":[56.083333333333336],\"sizemode\":\"area\",\"sizeref\":0.16583333333333333,\"symbol\":\"circle\"},\"mode\":\"markers\",\"name\":\"Kentucky\",\"orientation\":\"v\",\"showlegend\":true,\"x\":[92465.5],\"xaxis\":\"x\",\"y\":[79012.5],\"yaxis\":\"y\",\"type\":\"scatter\"},{\"hovertemplate\":\"state=Louisiana<br>four year average in state tuition=%{x}<br>average mid_career_pay=%{y}<br>average make_world_better_percent=%{marker.size}<extra></extra>\",\"legendgroup\":\"Louisiana\",\"marker\":{\"color\":\"#B6E880\",\"size\":[58.666666666666664],\"sizemode\":\"area\",\"sizeref\":0.16583333333333333,\"symbol\":\"circle\"},\"mode\":\"markers\",\"name\":\"Louisiana\",\"orientation\":\"v\",\"showlegend\":true,\"x\":[61872.0],\"xaxis\":\"x\",\"y\":[85926.66666666667],\"yaxis\":\"y\",\"type\":\"scatter\"},{\"hovertemplate\":\"state=Maine<br>four year average in state tuition=%{x}<br>average mid_career_pay=%{y}<br>average make_world_better_percent=%{marker.size}<extra></extra>\",\"legendgroup\":\"Maine\",\"marker\":{\"color\":\"#FF97FF\",\"size\":[55.875],\"sizemode\":\"area\",\"sizeref\":0.16583333333333333,\"symbol\":\"circle\"},\"mode\":\"markers\",\"name\":\"Maine\",\"orientation\":\"v\",\"showlegend\":true,\"x\":[98022.0],\"xaxis\":\"x\",\"y\":[86425.0],\"yaxis\":\"y\",\"type\":\"scatter\"},{\"hovertemplate\":\"state=Maryland<br>four year average in state tuition=%{x}<br>average mid_career_pay=%{y}<br>average make_world_better_percent=%{marker.size}<extra></extra>\",\"legendgroup\":\"Maryland\",\"marker\":{\"color\":\"#FECB52\",\"size\":[52.294117647058826],\"sizemode\":\"area\",\"sizeref\":0.16583333333333333,\"symbol\":\"circle\"},\"mode\":\"markers\",\"name\":\"Maryland\",\"orientation\":\"v\",\"showlegend\":true,\"x\":[126087.5294117647],\"xaxis\":\"x\",\"y\":[94688.23529411765],\"yaxis\":\"y\",\"type\":\"scatter\"},{\"hovertemplate\":\"state=Massachusetts<br>four year average in state tuition=%{x}<br>average mid_career_pay=%{y}<br>average make_world_better_percent=%{marker.size}<extra></extra>\",\"legendgroup\":\"Massachusetts\",\"marker\":{\"color\":\"#636efa\",\"size\":[47.523809523809526],\"sizemode\":\"area\",\"sizeref\":0.16583333333333333,\"symbol\":\"circle\"},\"mode\":\"markers\",\"name\":\"Massachusetts\",\"orientation\":\"v\",\"showlegend\":true,\"x\":[188594.85714285713],\"xaxis\":\"x\",\"y\":[116009.52380952382],\"yaxis\":\"y\",\"type\":\"scatter\"},{\"hovertemplate\":\"state=Michigan<br>four year average in state tuition=%{x}<br>average mid_career_pay=%{y}<br>average make_world_better_percent=%{marker.size}<extra></extra>\",\"legendgroup\":\"Michigan\",\"marker\":{\"color\":\"#EF553B\",\"size\":[48.90909090909091],\"sizemode\":\"area\",\"sizeref\":0.16583333333333333,\"symbol\":\"circle\"},\"mode\":\"markers\",\"name\":\"Michigan\",\"orientation\":\"v\",\"showlegend\":true,\"x\":[99996.54545454546],\"xaxis\":\"x\",\"y\":[93463.63636363637],\"yaxis\":\"y\",\"type\":\"scatter\"},{\"hovertemplate\":\"state=Minnesota<br>four year average in state tuition=%{x}<br>average mid_career_pay=%{y}<br>average make_world_better_percent=%{marker.size}<extra></extra>\",\"legendgroup\":\"Minnesota\",\"marker\":{\"color\":\"#00cc96\",\"size\":[49.111111111111114],\"sizemode\":\"area\",\"sizeref\":0.16583333333333333,\"symbol\":\"circle\"},\"mode\":\"markers\",\"name\":\"Minnesota\",\"orientation\":\"v\",\"showlegend\":true,\"x\":[133345.33333333334],\"xaxis\":\"x\",\"y\":[93055.55555555556],\"yaxis\":\"y\",\"type\":\"scatter\"},{\"hovertemplate\":\"state=Mississippi<br>four year average in state tuition=%{x}<br>average mid_career_pay=%{y}<br>average make_world_better_percent=%{marker.size}<extra></extra>\",\"legendgroup\":\"Mississippi\",\"marker\":{\"color\":\"#ab63fa\",\"size\":[62.642857142857146],\"sizemode\":\"area\",\"sizeref\":0.16583333333333333,\"symbol\":\"circle\"},\"mode\":\"markers\",\"name\":\"Mississippi\",\"orientation\":\"v\",\"showlegend\":true,\"x\":[51116.0],\"xaxis\":\"x\",\"y\":[75707.14285714286],\"yaxis\":\"y\",\"type\":\"scatter\"},{\"hovertemplate\":\"state=Missouri<br>four year average in state tuition=%{x}<br>average mid_career_pay=%{y}<br>average make_world_better_percent=%{marker.size}<extra></extra>\",\"legendgroup\":\"Missouri\",\"marker\":{\"color\":\"#FFA15A\",\"size\":[53.0],\"sizemode\":\"area\",\"sizeref\":0.16583333333333333,\"symbol\":\"circle\"},\"mode\":\"markers\",\"name\":\"Missouri\",\"orientation\":\"v\",\"showlegend\":true,\"x\":[86910.35294117648],\"xaxis\":\"x\",\"y\":[85794.11764705883],\"yaxis\":\"y\",\"type\":\"scatter\"},{\"hovertemplate\":\"state=Montana<br>four year average in state tuition=%{x}<br>average mid_career_pay=%{y}<br>average make_world_better_percent=%{marker.size}<extra></extra>\",\"legendgroup\":\"Montana\",\"marker\":{\"color\":\"#19d3f3\",\"size\":[58.0],\"sizemode\":\"area\",\"sizeref\":0.16583333333333333,\"symbol\":\"circle\"},\"mode\":\"markers\",\"name\":\"Montana\",\"orientation\":\"v\",\"showlegend\":true,\"x\":[78830.0],\"xaxis\":\"x\",\"y\":[95775.0],\"yaxis\":\"y\",\"type\":\"scatter\"},{\"hovertemplate\":\"state=Nebraska<br>four year average in state tuition=%{x}<br>average mid_career_pay=%{y}<br>average make_world_better_percent=%{marker.size}<extra></extra>\",\"legendgroup\":\"Nebraska\",\"marker\":{\"color\":\"#FF6692\",\"size\":[59.63636363636363],\"sizemode\":\"area\",\"sizeref\":0.16583333333333333,\"symbol\":\"circle\"},\"mode\":\"markers\",\"name\":\"Nebraska\",\"orientation\":\"v\",\"showlegend\":true,\"x\":[78756.72727272728],\"xaxis\":\"x\",\"y\":[83036.36363636363],\"yaxis\":\"y\",\"type\":\"scatter\"},{\"hovertemplate\":\"state=Nevada<br>four year average in state tuition=%{x}<br>average mid_career_pay=%{y}<br>average make_world_better_percent=%{marker.size}<extra></extra>\",\"legendgroup\":\"Nevada\",\"marker\":{\"color\":\"#B6E880\",\"size\":[39.0],\"sizemode\":\"area\",\"sizeref\":0.16583333333333333,\"symbol\":\"circle\"},\"mode\":\"markers\",\"name\":\"Nevada\",\"orientation\":\"v\",\"showlegend\":true,\"x\":[136964.0],\"xaxis\":\"x\",\"y\":[95500.0],\"yaxis\":\"y\",\"type\":\"scatter\"},{\"hovertemplate\":\"state=New Hampshire<br>four year average in state tuition=%{x}<br>average mid_career_pay=%{y}<br>average make_world_better_percent=%{marker.size}<extra></extra>\",\"legendgroup\":\"New Hampshire\",\"marker\":{\"color\":\"#FF97FF\",\"size\":[51.27272727272727],\"sizemode\":\"area\",\"sizeref\":0.16583333333333333,\"symbol\":\"circle\"},\"mode\":\"markers\",\"name\":\"New Hampshire\",\"orientation\":\"v\",\"showlegend\":true,\"x\":[120004.36363636363],\"xaxis\":\"x\",\"y\":[89909.09090909091],\"yaxis\":\"y\",\"type\":\"scatter\"},{\"hovertemplate\":\"state=New Jersey<br>four year average in state tuition=%{x}<br>average mid_career_pay=%{y}<br>average make_world_better_percent=%{marker.size}<extra></extra>\",\"legendgroup\":\"New Jersey\",\"marker\":{\"color\":\"#FECB52\",\"size\":[46.473684210526315],\"sizemode\":\"area\",\"sizeref\":0.16583333333333333,\"symbol\":\"circle\"},\"mode\":\"markers\",\"name\":\"New Jersey\",\"orientation\":\"v\",\"showlegend\":true,\"x\":[104793.26315789473],\"xaxis\":\"x\",\"y\":[100400.0],\"yaxis\":\"y\",\"type\":\"scatter\"},{\"hovertemplate\":\"state=New Mexico<br>four year average in state tuition=%{x}<br>average mid_career_pay=%{y}<br>average make_world_better_percent=%{marker.size}<extra></extra>\",\"legendgroup\":\"New Mexico\",\"marker\":{\"color\":\"#636efa\",\"size\":[66.33333333333333],\"sizemode\":\"area\",\"sizeref\":0.16583333333333333,\"symbol\":\"circle\"},\"mode\":\"markers\",\"name\":\"New Mexico\",\"orientation\":\"v\",\"showlegend\":true,\"x\":[27658.666666666668],\"xaxis\":\"x\",\"y\":[90300.0],\"yaxis\":\"y\",\"type\":\"scatter\"},{\"hovertemplate\":\"state=New York<br>four year average in state tuition=%{x}<br>average mid_career_pay=%{y}<br>average make_world_better_percent=%{marker.size}<extra></extra>\",\"legendgroup\":\"New York\",\"marker\":{\"color\":\"#EF553B\",\"size\":[50.8125],\"sizemode\":\"area\",\"sizeref\":0.16583333333333333,\"symbol\":\"circle\"},\"mode\":\"markers\",\"name\":\"New York\",\"orientation\":\"v\",\"showlegend\":true,\"x\":[178446.0],\"xaxis\":\"x\",\"y\":[122106.25],\"yaxis\":\"y\",\"type\":\"scatter\"},{\"hovertemplate\":\"state=North Carolina<br>four year average in state tuition=%{x}<br>average mid_career_pay=%{y}<br>average make_world_better_percent=%{marker.size}<extra></extra>\",\"legendgroup\":\"North Carolina\",\"marker\":{\"color\":\"#00cc96\",\"size\":[51.85],\"sizemode\":\"area\",\"sizeref\":0.16583333333333333,\"symbol\":\"circle\"},\"mode\":\"markers\",\"name\":\"North Carolina\",\"orientation\":\"v\",\"showlegend\":true,\"x\":[110695.2],\"xaxis\":\"x\",\"y\":[89245.0],\"yaxis\":\"y\",\"type\":\"scatter\"},{\"hovertemplate\":\"state=North Dakota<br>four year average in state tuition=%{x}<br>average mid_career_pay=%{y}<br>average make_world_better_percent=%{marker.size}<extra></extra>\",\"legendgroup\":\"North Dakota\",\"marker\":{\"color\":\"#ab63fa\",\"size\":[56.0],\"sizemode\":\"area\",\"sizeref\":0.16583333333333333,\"symbol\":\"circle\"},\"mode\":\"markers\",\"name\":\"North Dakota\",\"orientation\":\"v\",\"showlegend\":true,\"x\":[44292.57142857143],\"xaxis\":\"x\",\"y\":[80814.28571428571],\"yaxis\":\"y\",\"type\":\"scatter\"},{\"hovertemplate\":\"state=Ohio<br>four year average in state tuition=%{x}<br>average mid_career_pay=%{y}<br>average make_world_better_percent=%{marker.size}<extra></extra>\",\"legendgroup\":\"Ohio\",\"marker\":{\"color\":\"#FFA15A\",\"size\":[50.0],\"sizemode\":\"area\",\"sizeref\":0.16583333333333333,\"symbol\":\"circle\"},\"mode\":\"markers\",\"name\":\"Ohio\",\"orientation\":\"v\",\"showlegend\":true,\"x\":[147707.46666666667],\"xaxis\":\"x\",\"y\":[99440.0],\"yaxis\":\"y\",\"type\":\"scatter\"},{\"hovertemplate\":\"state=Oklahoma<br>four year average in state tuition=%{x}<br>average mid_career_pay=%{y}<br>average make_world_better_percent=%{marker.size}<extra></extra>\",\"legendgroup\":\"Oklahoma\",\"marker\":{\"color\":\"#19d3f3\",\"size\":[57.63157894736842],\"sizemode\":\"area\",\"sizeref\":0.16583333333333333,\"symbol\":\"circle\"},\"mode\":\"markers\",\"name\":\"Oklahoma\",\"orientation\":\"v\",\"showlegend\":true,\"x\":[62780.42105263158],\"xaxis\":\"x\",\"y\":[81221.05263157895],\"yaxis\":\"y\",\"type\":\"scatter\"},{\"hovertemplate\":\"state=Oregon<br>four year average in state tuition=%{x}<br>average mid_career_pay=%{y}<br>average make_world_better_percent=%{marker.size}<extra></extra>\",\"legendgroup\":\"Oregon\",\"marker\":{\"color\":\"#FF6692\",\"size\":[57.22222222222222],\"sizemode\":\"area\",\"sizeref\":0.16583333333333333,\"symbol\":\"circle\"},\"mode\":\"markers\",\"name\":\"Oregon\",\"orientation\":\"v\",\"showlegend\":true,\"x\":[107244.44444444444],\"xaxis\":\"x\",\"y\":[91083.33333333333],\"yaxis\":\"y\",\"type\":\"scatter\"},{\"hovertemplate\":\"state=Pennsylvania<br>four year average in state tuition=%{x}<br>average mid_career_pay=%{y}<br>average make_world_better_percent=%{marker.size}<extra></extra>\",\"legendgroup\":\"Pennsylvania\",\"marker\":{\"color\":\"#B6E880\",\"size\":[45.36842105263158],\"sizemode\":\"area\",\"sizeref\":0.16583333333333333,\"symbol\":\"circle\"},\"mode\":\"markers\",\"name\":\"Pennsylvania\",\"orientation\":\"v\",\"showlegend\":true,\"x\":[191462.52631578947],\"xaxis\":\"x\",\"y\":[113457.8947368421],\"yaxis\":\"y\",\"type\":\"scatter\"},{\"hovertemplate\":\"state=Rhode Island<br>four year average in state tuition=%{x}<br>average mid_career_pay=%{y}<br>average make_world_better_percent=%{marker.size}<extra></extra>\",\"legendgroup\":\"Rhode Island\",\"marker\":{\"color\":\"#FF97FF\",\"size\":[45.44444444444444],\"sizemode\":\"area\",\"sizeref\":0.16583333333333333,\"symbol\":\"circle\"},\"mode\":\"markers\",\"name\":\"Rhode Island\",\"orientation\":\"v\",\"showlegend\":true,\"x\":[146248.0],\"xaxis\":\"x\",\"y\":[100744.44444444444],\"yaxis\":\"y\",\"type\":\"scatter\"},{\"hovertemplate\":\"state=South Carolina<br>four year average in state tuition=%{x}<br>average mid_career_pay=%{y}<br>average make_world_better_percent=%{marker.size}<extra></extra>\",\"legendgroup\":\"South Carolina\",\"marker\":{\"color\":\"#FECB52\",\"size\":[57.666666666666664],\"sizemode\":\"area\",\"sizeref\":0.16583333333333333,\"symbol\":\"circle\"},\"mode\":\"markers\",\"name\":\"South Carolina\",\"orientation\":\"v\",\"showlegend\":true,\"x\":[87783.33333333333],\"xaxis\":\"x\",\"y\":[80477.77777777778],\"yaxis\":\"y\",\"type\":\"scatter\"},{\"hovertemplate\":\"state=South Dakota<br>four year average in state tuition=%{x}<br>average mid_career_pay=%{y}<br>average make_world_better_percent=%{marker.size}<extra></extra>\",\"legendgroup\":\"South Dakota\",\"marker\":{\"color\":\"#636efa\",\"size\":[56.5],\"sizemode\":\"area\",\"sizeref\":0.16583333333333333,\"symbol\":\"circle\"},\"mode\":\"markers\",\"name\":\"South Dakota\",\"orientation\":\"v\",\"showlegend\":true,\"x\":[63994.0],\"xaxis\":\"x\",\"y\":[85170.0],\"yaxis\":\"y\",\"type\":\"scatter\"},{\"hovertemplate\":\"state=Tennessee<br>four year average in state tuition=%{x}<br>average mid_career_pay=%{y}<br>average make_world_better_percent=%{marker.size}<extra></extra>\",\"legendgroup\":\"Tennessee\",\"marker\":{\"color\":\"#EF553B\",\"size\":[57.7],\"sizemode\":\"area\",\"sizeref\":0.16583333333333333,\"symbol\":\"circle\"},\"mode\":\"markers\",\"name\":\"Tennessee\",\"orientation\":\"v\",\"showlegend\":true,\"x\":[98784.8],\"xaxis\":\"x\",\"y\":[84660.0],\"yaxis\":\"y\",\"type\":\"scatter\"},{\"hovertemplate\":\"state=Texas<br>four year average in state tuition=%{x}<br>average mid_career_pay=%{y}<br>average make_world_better_percent=%{marker.size}<extra></extra>\",\"legendgroup\":\"Texas\",\"marker\":{\"color\":\"#00cc96\",\"size\":[53.833333333333336],\"sizemode\":\"area\",\"sizeref\":0.16583333333333333,\"symbol\":\"circle\"},\"mode\":\"markers\",\"name\":\"Texas\",\"orientation\":\"v\",\"showlegend\":true,\"x\":[106221.55555555556],\"xaxis\":\"x\",\"y\":[102516.66666666667],\"yaxis\":\"y\",\"type\":\"scatter\"},{\"hovertemplate\":\"state=Utah<br>four year average in state tuition=%{x}<br>average mid_career_pay=%{y}<br>average make_world_better_percent=%{marker.size}<extra></extra>\",\"legendgroup\":\"Utah\",\"marker\":{\"color\":\"#ab63fa\",\"size\":[59.5],\"sizemode\":\"area\",\"sizeref\":0.16583333333333333,\"symbol\":\"circle\"},\"mode\":\"markers\",\"name\":\"Utah\",\"orientation\":\"v\",\"showlegend\":true,\"x\":[27761.333333333332],\"xaxis\":\"x\",\"y\":[92833.33333333333],\"yaxis\":\"y\",\"type\":\"scatter\"},{\"hovertemplate\":\"state=Vermont<br>four year average in state tuition=%{x}<br>average mid_career_pay=%{y}<br>average make_world_better_percent=%{marker.size}<extra></extra>\",\"legendgroup\":\"Vermont\",\"marker\":{\"color\":\"#FFA15A\",\"size\":[49.63636363636363],\"sizemode\":\"area\",\"sizeref\":0.16583333333333333,\"symbol\":\"circle\"},\"mode\":\"markers\",\"name\":\"Vermont\",\"orientation\":\"v\",\"showlegend\":true,\"x\":[129271.27272727272],\"xaxis\":\"x\",\"y\":[89481.81818181818],\"yaxis\":\"y\",\"type\":\"scatter\"},{\"hovertemplate\":\"state=Virginia<br>four year average in state tuition=%{x}<br>average mid_career_pay=%{y}<br>average make_world_better_percent=%{marker.size}<extra></extra>\",\"legendgroup\":\"Virginia\",\"marker\":{\"color\":\"#19d3f3\",\"size\":[53.13636363636363],\"sizemode\":\"area\",\"sizeref\":0.16583333333333333,\"symbol\":\"circle\"},\"mode\":\"markers\",\"name\":\"Virginia\",\"orientation\":\"v\",\"showlegend\":true,\"x\":[100446.36363636363],\"xaxis\":\"x\",\"y\":[96559.09090909091],\"yaxis\":\"y\",\"type\":\"scatter\"},{\"hovertemplate\":\"state=Washington<br>four year average in state tuition=%{x}<br>average mid_career_pay=%{y}<br>average make_world_better_percent=%{marker.size}<extra></extra>\",\"legendgroup\":\"Washington\",\"marker\":{\"color\":\"#FF6692\",\"size\":[51.1875],\"sizemode\":\"area\",\"sizeref\":0.16583333333333333,\"symbol\":\"circle\"},\"mode\":\"markers\",\"name\":\"Washington\",\"orientation\":\"v\",\"showlegend\":true,\"x\":[123986.0],\"xaxis\":\"x\",\"y\":[97043.75],\"yaxis\":\"y\",\"type\":\"scatter\"},{\"hovertemplate\":\"state=West Virginia<br>four year average in state tuition=%{x}<br>average mid_career_pay=%{y}<br>average make_world_better_percent=%{marker.size}<extra></extra>\",\"legendgroup\":\"West Virginia\",\"marker\":{\"color\":\"#B6E880\",\"size\":[55.86666666666667],\"sizemode\":\"area\",\"sizeref\":0.16583333333333333,\"symbol\":\"circle\"},\"mode\":\"markers\",\"name\":\"West Virginia\",\"orientation\":\"v\",\"showlegend\":true,\"x\":[53202.666666666664],\"xaxis\":\"x\",\"y\":[80040.0],\"yaxis\":\"y\",\"type\":\"scatter\"},{\"hovertemplate\":\"state=Wisconsin<br>four year average in state tuition=%{x}<br>average mid_career_pay=%{y}<br>average make_world_better_percent=%{marker.size}<extra></extra>\",\"legendgroup\":\"Wisconsin\",\"marker\":{\"color\":\"#FF97FF\",\"size\":[53.22727272727273],\"sizemode\":\"area\",\"sizeref\":0.16583333333333333,\"symbol\":\"circle\"},\"mode\":\"markers\",\"name\":\"Wisconsin\",\"orientation\":\"v\",\"showlegend\":true,\"x\":[95868.54545454546],\"xaxis\":\"x\",\"y\":[91100.0],\"yaxis\":\"y\",\"type\":\"scatter\"},{\"hovertemplate\":\"state=Wyoming<br>four year average in state tuition=%{x}<br>average mid_career_pay=%{y}<br>average make_world_better_percent=%{marker.size}<extra></extra>\",\"legendgroup\":\"Wyoming\",\"marker\":{\"color\":\"#FECB52\",\"size\":[58.0],\"sizemode\":\"area\",\"sizeref\":0.16583333333333333,\"symbol\":\"circle\"},\"mode\":\"markers\",\"name\":\"Wyoming\",\"orientation\":\"v\",\"showlegend\":true,\"x\":[21600.0],\"xaxis\":\"x\",\"y\":[98800.0],\"yaxis\":\"y\",\"type\":\"scatter\"},{\"hovertemplate\":\"<b>OLS trendline</b><br>average mid_career_pay = 0.175898 * four year average in state tuition + 75105<br>R<sup>2</sup>=0.504633<br><br>four year average in state tuition=%{x}<br>average mid_career_pay=%{y} <b>(trend)</b><extra></extra>\",\"legendgroup\":\"Overall Trendline\",\"line\":{\"color\":\"#636efa\"},\"mode\":\"lines\",\"name\":\"Overall Trendline\",\"showlegend\":true,\"x\":[21600.0,27658.666666666668,27761.333333333332,42009.333333333336,44292.57142857143,48806.666666666664,51116.0,53202.666666666664,61283.2,61872.0,62780.42105263158,63994.0,64536.95238095238,66771.2,68785.42857142857,74048.0,78756.72727272728,78830.0,83676.61538461539,84346.35294117648,84775.63636363637,86910.35294117648,87783.33333333333,92465.5,95868.54545454546,96486.22222222222,98022.0,98784.8,99996.54545454546,100446.36363636363,104793.26315789473,106221.55555555556,107244.44444444444,110695.2,120004.36363636363,123986.0,126087.5294117647,127574.47619047618,129271.27272727272,133345.33333333334,135868.44444444444,136964.0,136982.31578947368,143818.44444444444,146248.0,147707.46666666667,178446.0,188594.85714285713,190626.15384615384,191462.52631578947],\"y\":[78904.39341150041,79970.10341185667,79988.1623181127,82494.36325645054,82895.98126997765,83690.00356935023,84096.21169448603,84463.25310085874,85884.6062888339,85988.17528886852,86147.96513267193,86361.4317733683,86456.93624884666,86849.9369141566,87204.23657275719,88129.9146645845,88958.17243474776,88971.0609929907,89823.573066593,89941.37885636654,90016.88913964713,90392.38245026732,90545.93833726717,91369.52413832376,91968.11451671988,92076.7628950706,92346.90380661924,92481.07913478909,92694.22326696262,92773.34558232999,93537.95841639242,93789.19281751807,93969.11737486988,94576.09988548947,96213.56722410505,96913.93083939601,97283.58657940928,97545.13819451773,97843.60205419542,98560.22294932137,99004.03425155306,99196.74076203414,99199.96248078522,100402.42683014554,100829.78185633008,101086.4997626659,106493.35974884841,108278.52786328449,108635.82977961272,108782.94639023882],\"type\":\"scatter\",\"xaxis\":\"x\",\"yaxis\":\"y\"}],                        {\"template\":{\"data\":{\"bar\":[{\"error_x\":{\"color\":\"#2a3f5f\"},\"error_y\":{\"color\":\"#2a3f5f\"},\"marker\":{\"line\":{\"color\":\"#E5ECF6\",\"width\":0.5},\"pattern\":{\"fillmode\":\"overlay\",\"size\":10,\"solidity\":0.2}},\"type\":\"bar\"}],\"barpolar\":[{\"marker\":{\"line\":{\"color\":\"#E5ECF6\",\"width\":0.5},\"pattern\":{\"fillmode\":\"overlay\",\"size\":10,\"solidity\":0.2}},\"type\":\"barpolar\"}],\"carpet\":[{\"aaxis\":{\"endlinecolor\":\"#2a3f5f\",\"gridcolor\":\"white\",\"linecolor\":\"white\",\"minorgridcolor\":\"white\",\"startlinecolor\":\"#2a3f5f\"},\"baxis\":{\"endlinecolor\":\"#2a3f5f\",\"gridcolor\":\"white\",\"linecolor\":\"white\",\"minorgridcolor\":\"white\",\"startlinecolor\":\"#2a3f5f\"},\"type\":\"carpet\"}],\"choropleth\":[{\"colorbar\":{\"outlinewidth\":0,\"ticks\":\"\"},\"type\":\"choropleth\"}],\"contour\":[{\"colorbar\":{\"outlinewidth\":0,\"ticks\":\"\"},\"colorscale\":[[0.0,\"#0d0887\"],[0.1111111111111111,\"#46039f\"],[0.2222222222222222,\"#7201a8\"],[0.3333333333333333,\"#9c179e\"],[0.4444444444444444,\"#bd3786\"],[0.5555555555555556,\"#d8576b\"],[0.6666666666666666,\"#ed7953\"],[0.7777777777777778,\"#fb9f3a\"],[0.8888888888888888,\"#fdca26\"],[1.0,\"#f0f921\"]],\"type\":\"contour\"}],\"contourcarpet\":[{\"colorbar\":{\"outlinewidth\":0,\"ticks\":\"\"},\"type\":\"contourcarpet\"}],\"heatmap\":[{\"colorbar\":{\"outlinewidth\":0,\"ticks\":\"\"},\"colorscale\":[[0.0,\"#0d0887\"],[0.1111111111111111,\"#46039f\"],[0.2222222222222222,\"#7201a8\"],[0.3333333333333333,\"#9c179e\"],[0.4444444444444444,\"#bd3786\"],[0.5555555555555556,\"#d8576b\"],[0.6666666666666666,\"#ed7953\"],[0.7777777777777778,\"#fb9f3a\"],[0.8888888888888888,\"#fdca26\"],[1.0,\"#f0f921\"]],\"type\":\"heatmap\"}],\"heatmapgl\":[{\"colorbar\":{\"outlinewidth\":0,\"ticks\":\"\"},\"colorscale\":[[0.0,\"#0d0887\"],[0.1111111111111111,\"#46039f\"],[0.2222222222222222,\"#7201a8\"],[0.3333333333333333,\"#9c179e\"],[0.4444444444444444,\"#bd3786\"],[0.5555555555555556,\"#d8576b\"],[0.6666666666666666,\"#ed7953\"],[0.7777777777777778,\"#fb9f3a\"],[0.8888888888888888,\"#fdca26\"],[1.0,\"#f0f921\"]],\"type\":\"heatmapgl\"}],\"histogram\":[{\"marker\":{\"pattern\":{\"fillmode\":\"overlay\",\"size\":10,\"solidity\":0.2}},\"type\":\"histogram\"}],\"histogram2d\":[{\"colorbar\":{\"outlinewidth\":0,\"ticks\":\"\"},\"colorscale\":[[0.0,\"#0d0887\"],[0.1111111111111111,\"#46039f\"],[0.2222222222222222,\"#7201a8\"],[0.3333333333333333,\"#9c179e\"],[0.4444444444444444,\"#bd3786\"],[0.5555555555555556,\"#d8576b\"],[0.6666666666666666,\"#ed7953\"],[0.7777777777777778,\"#fb9f3a\"],[0.8888888888888888,\"#fdca26\"],[1.0,\"#f0f921\"]],\"type\":\"histogram2d\"}],\"histogram2dcontour\":[{\"colorbar\":{\"outlinewidth\":0,\"ticks\":\"\"},\"colorscale\":[[0.0,\"#0d0887\"],[0.1111111111111111,\"#46039f\"],[0.2222222222222222,\"#7201a8\"],[0.3333333333333333,\"#9c179e\"],[0.4444444444444444,\"#bd3786\"],[0.5555555555555556,\"#d8576b\"],[0.6666666666666666,\"#ed7953\"],[0.7777777777777778,\"#fb9f3a\"],[0.8888888888888888,\"#fdca26\"],[1.0,\"#f0f921\"]],\"type\":\"histogram2dcontour\"}],\"mesh3d\":[{\"colorbar\":{\"outlinewidth\":0,\"ticks\":\"\"},\"type\":\"mesh3d\"}],\"parcoords\":[{\"line\":{\"colorbar\":{\"outlinewidth\":0,\"ticks\":\"\"}},\"type\":\"parcoords\"}],\"pie\":[{\"automargin\":true,\"type\":\"pie\"}],\"scatter\":[{\"marker\":{\"colorbar\":{\"outlinewidth\":0,\"ticks\":\"\"}},\"type\":\"scatter\"}],\"scatter3d\":[{\"line\":{\"colorbar\":{\"outlinewidth\":0,\"ticks\":\"\"}},\"marker\":{\"colorbar\":{\"outlinewidth\":0,\"ticks\":\"\"}},\"type\":\"scatter3d\"}],\"scattercarpet\":[{\"marker\":{\"colorbar\":{\"outlinewidth\":0,\"ticks\":\"\"}},\"type\":\"scattercarpet\"}],\"scattergeo\":[{\"marker\":{\"colorbar\":{\"outlinewidth\":0,\"ticks\":\"\"}},\"type\":\"scattergeo\"}],\"scattergl\":[{\"marker\":{\"colorbar\":{\"outlinewidth\":0,\"ticks\":\"\"}},\"type\":\"scattergl\"}],\"scattermapbox\":[{\"marker\":{\"colorbar\":{\"outlinewidth\":0,\"ticks\":\"\"}},\"type\":\"scattermapbox\"}],\"scatterpolar\":[{\"marker\":{\"colorbar\":{\"outlinewidth\":0,\"ticks\":\"\"}},\"type\":\"scatterpolar\"}],\"scatterpolargl\":[{\"marker\":{\"colorbar\":{\"outlinewidth\":0,\"ticks\":\"\"}},\"type\":\"scatterpolargl\"}],\"scatterternary\":[{\"marker\":{\"colorbar\":{\"outlinewidth\":0,\"ticks\":\"\"}},\"type\":\"scatterternary\"}],\"surface\":[{\"colorbar\":{\"outlinewidth\":0,\"ticks\":\"\"},\"colorscale\":[[0.0,\"#0d0887\"],[0.1111111111111111,\"#46039f\"],[0.2222222222222222,\"#7201a8\"],[0.3333333333333333,\"#9c179e\"],[0.4444444444444444,\"#bd3786\"],[0.5555555555555556,\"#d8576b\"],[0.6666666666666666,\"#ed7953\"],[0.7777777777777778,\"#fb9f3a\"],[0.8888888888888888,\"#fdca26\"],[1.0,\"#f0f921\"]],\"type\":\"surface\"}],\"table\":[{\"cells\":{\"fill\":{\"color\":\"#EBF0F8\"},\"line\":{\"color\":\"white\"}},\"header\":{\"fill\":{\"color\":\"#C8D4E3\"},\"line\":{\"color\":\"white\"}},\"type\":\"table\"}]},\"layout\":{\"annotationdefaults\":{\"arrowcolor\":\"#2a3f5f\",\"arrowhead\":0,\"arrowwidth\":1},\"autotypenumbers\":\"strict\",\"coloraxis\":{\"colorbar\":{\"outlinewidth\":0,\"ticks\":\"\"}},\"colorscale\":{\"diverging\":[[0,\"#8e0152\"],[0.1,\"#c51b7d\"],[0.2,\"#de77ae\"],[0.3,\"#f1b6da\"],[0.4,\"#fde0ef\"],[0.5,\"#f7f7f7\"],[0.6,\"#e6f5d0\"],[0.7,\"#b8e186\"],[0.8,\"#7fbc41\"],[0.9,\"#4d9221\"],[1,\"#276419\"]],\"sequential\":[[0.0,\"#0d0887\"],[0.1111111111111111,\"#46039f\"],[0.2222222222222222,\"#7201a8\"],[0.3333333333333333,\"#9c179e\"],[0.4444444444444444,\"#bd3786\"],[0.5555555555555556,\"#d8576b\"],[0.6666666666666666,\"#ed7953\"],[0.7777777777777778,\"#fb9f3a\"],[0.8888888888888888,\"#fdca26\"],[1.0,\"#f0f921\"]],\"sequentialminus\":[[0.0,\"#0d0887\"],[0.1111111111111111,\"#46039f\"],[0.2222222222222222,\"#7201a8\"],[0.3333333333333333,\"#9c179e\"],[0.4444444444444444,\"#bd3786\"],[0.5555555555555556,\"#d8576b\"],[0.6666666666666666,\"#ed7953\"],[0.7777777777777778,\"#fb9f3a\"],[0.8888888888888888,\"#fdca26\"],[1.0,\"#f0f921\"]]},\"colorway\":[\"#636efa\",\"#EF553B\",\"#00cc96\",\"#ab63fa\",\"#FFA15A\",\"#19d3f3\",\"#FF6692\",\"#B6E880\",\"#FF97FF\",\"#FECB52\"],\"font\":{\"color\":\"#2a3f5f\"},\"geo\":{\"bgcolor\":\"white\",\"lakecolor\":\"white\",\"landcolor\":\"#E5ECF6\",\"showlakes\":true,\"showland\":true,\"subunitcolor\":\"white\"},\"hoverlabel\":{\"align\":\"left\"},\"hovermode\":\"closest\",\"mapbox\":{\"style\":\"light\"},\"paper_bgcolor\":\"white\",\"plot_bgcolor\":\"#E5ECF6\",\"polar\":{\"angularaxis\":{\"gridcolor\":\"white\",\"linecolor\":\"white\",\"ticks\":\"\"},\"bgcolor\":\"#E5ECF6\",\"radialaxis\":{\"gridcolor\":\"white\",\"linecolor\":\"white\",\"ticks\":\"\"}},\"scene\":{\"xaxis\":{\"backgroundcolor\":\"#E5ECF6\",\"gridcolor\":\"white\",\"gridwidth\":2,\"linecolor\":\"white\",\"showbackground\":true,\"ticks\":\"\",\"zerolinecolor\":\"white\"},\"yaxis\":{\"backgroundcolor\":\"#E5ECF6\",\"gridcolor\":\"white\",\"gridwidth\":2,\"linecolor\":\"white\",\"showbackground\":true,\"ticks\":\"\",\"zerolinecolor\":\"white\"},\"zaxis\":{\"backgroundcolor\":\"#E5ECF6\",\"gridcolor\":\"white\",\"gridwidth\":2,\"linecolor\":\"white\",\"showbackground\":true,\"ticks\":\"\",\"zerolinecolor\":\"white\"}},\"shapedefaults\":{\"line\":{\"color\":\"#2a3f5f\"}},\"ternary\":{\"aaxis\":{\"gridcolor\":\"white\",\"linecolor\":\"white\",\"ticks\":\"\"},\"baxis\":{\"gridcolor\":\"white\",\"linecolor\":\"white\",\"ticks\":\"\"},\"bgcolor\":\"#E5ECF6\",\"caxis\":{\"gridcolor\":\"white\",\"linecolor\":\"white\",\"ticks\":\"\"}},\"title\":{\"x\":0.05},\"xaxis\":{\"automargin\":true,\"gridcolor\":\"white\",\"linecolor\":\"white\",\"ticks\":\"\",\"title\":{\"standoff\":15},\"zerolinecolor\":\"white\",\"zerolinewidth\":2},\"yaxis\":{\"automargin\":true,\"gridcolor\":\"white\",\"linecolor\":\"white\",\"ticks\":\"\",\"title\":{\"standoff\":15},\"zerolinecolor\":\"white\",\"zerolinewidth\":2}}},\"xaxis\":{\"anchor\":\"y\",\"domain\":[0.0,1.0],\"title\":{\"text\":\"four year average in state tuition\"}},\"yaxis\":{\"anchor\":\"x\",\"domain\":[0.0,1.0],\"title\":{\"text\":\"average mid_career_pay\"}},\"legend\":{\"title\":{\"text\":\"state\"},\"tracegroupgap\":0,\"itemsizing\":\"constant\"},\"title\":{\"text\":\"Average In State Tuition vs Average % of Students Graduating with STEM Degrees\"}},                        {\"responsive\": true}                    ).then(function(){\n",
       "                            \n",
       "var gd = document.getElementById('c26159d1-21a9-4225-b7ce-be869c125be5');\n",
       "var x = new MutationObserver(function (mutations, observer) {{\n",
       "        var display = window.getComputedStyle(gd).display;\n",
       "        if (!display || display === 'none') {{\n",
       "            console.log([gd, 'removed!']);\n",
       "            Plotly.purge(gd);\n",
       "            observer.disconnect();\n",
       "        }}\n",
       "}});\n",
       "\n",
       "// Listen for the removal of the full notebook cells\n",
       "var notebookContainer = gd.closest('#notebook-container');\n",
       "if (notebookContainer) {{\n",
       "    x.observe(notebookContainer, {childList: true});\n",
       "}}\n",
       "\n",
       "// Listen for the clearing of the current output cell\n",
       "var outputEl = gd.closest('.output');\n",
       "if (outputEl) {{\n",
       "    x.observe(outputEl, {childList: true});\n",
       "}}\n",
       "\n",
       "                        })                };                });            </script>        </div>"
      ]
     },
     "execution_count": 31,
     "metadata": {
     },
     "output_type": "execute_result"
    },
    {
     "name": "stderr",
     "output_type": "stream",
     "text": [
      "WARNING: 1 intermediate output message was discarded.\n"
     ]
    }
   ],
   "source": [
    "fig = px.scatter(state_stats_extras, x='four year average in state tuition', y='average mid_career_pay',\n",
    "                 color='state',size='average make_world_better_percent',\n",
    "                 trendline=\"ols\", trendline_scope = 'overall',\n",
    "                 title= 'Average In State Tuition vs Average % of Students Graduating with STEM Degrees')\n",
    "\n",
    "fig.show()"
   ]
  },
  {
   "cell_type": "code",
   "execution_count": 32,
   "metadata": {
    "collapsed": false
   },
   "outputs": [
    {
     "data": {
      "application/vnd.plotly.v1+json": {
       "config": {
        "plotlyServerURL": "https://plot.ly"
       },
       "data": [
        {
         "hovertemplate": "state=Alabama<br>average stem_percent=%{x}<br>average early_career_pay=%{y}<extra></extra>",
         "legendgroup": "Alabama",
         "marker": {
          "color": "#636efa",
          "symbol": "circle"
         },
         "mode": "markers",
         "name": "Alabama",
         "orientation": "v",
         "showlegend": true,
         "type": "scatter",
         "x": [
          14.047619047619047
         ],
         "xaxis": "x",
         "y": [
          44714.28571428572
         ],
         "yaxis": "y"
        },
        {
         "hovertemplate": "state=Alaska<br>average stem_percent=%{x}<br>average early_career_pay=%{y}<extra></extra>",
         "legendgroup": "Alaska",
         "marker": {
          "color": "#EF553B",
          "symbol": "circle"
         },
         "mode": "markers",
         "name": "Alaska",
         "orientation": "v",
         "showlegend": true,
         "type": "scatter",
         "x": [
          12
         ],
         "xaxis": "x",
         "y": [
          55133.333333333336
         ],
         "yaxis": "y"
        },
        {
         "hovertemplate": "state=Arizona<br>average stem_percent=%{x}<br>average early_career_pay=%{y}<extra></extra>",
         "legendgroup": "Arizona",
         "marker": {
          "color": "#00cc96",
          "symbol": "circle"
         },
         "mode": "markers",
         "name": "Arizona",
         "orientation": "v",
         "showlegend": true,
         "type": "scatter",
         "x": [
          11.666666666666666
         ],
         "xaxis": "x",
         "y": [
          48966.666666666664
         ],
         "yaxis": "y"
        },
        {
         "hovertemplate": "state=Arkansas<br>average stem_percent=%{x}<br>average early_career_pay=%{y}<extra></extra>",
         "legendgroup": "Arkansas",
         "marker": {
          "color": "#ab63fa",
          "symbol": "circle"
         },
         "mode": "markers",
         "name": "Arkansas",
         "orientation": "v",
         "showlegend": true,
         "type": "scatter",
         "x": [
          14.071428571428571
         ],
         "xaxis": "x",
         "y": [
          45607.142857142855
         ],
         "yaxis": "y"
        },
        {
         "hovertemplate": "state=California<br>average stem_percent=%{x}<br>average early_career_pay=%{y}<extra></extra>",
         "legendgroup": "California",
         "marker": {
          "color": "#FFA15A",
          "symbol": "circle"
         },
         "mode": "markers",
         "name": "California",
         "orientation": "v",
         "showlegend": true,
         "type": "scatter",
         "x": [
          30.615384615384617
         ],
         "xaxis": "x",
         "y": [
          67800
         ],
         "yaxis": "y"
        },
        {
         "hovertemplate": "state=Colorado<br>average stem_percent=%{x}<br>average early_career_pay=%{y}<extra></extra>",
         "legendgroup": "Colorado",
         "marker": {
          "color": "#19d3f3",
          "symbol": "circle"
         },
         "mode": "markers",
         "name": "Colorado",
         "orientation": "v",
         "showlegend": true,
         "type": "scatter",
         "x": [
          20.692307692307693
         ],
         "xaxis": "x",
         "y": [
          52238.46153846154
         ],
         "yaxis": "y"
        },
        {
         "hovertemplate": "state=Connecticut<br>average stem_percent=%{x}<br>average early_career_pay=%{y}<extra></extra>",
         "legendgroup": "Connecticut",
         "marker": {
          "color": "#FF6692",
          "symbol": "circle"
         },
         "mode": "markers",
         "name": "Connecticut",
         "orientation": "v",
         "showlegend": true,
         "type": "scatter",
         "x": [
          15.88888888888889
         ],
         "xaxis": "x",
         "y": [
          55016.666666666664
         ],
         "yaxis": "y"
        },
        {
         "hovertemplate": "state=Delaware<br>average stem_percent=%{x}<br>average early_career_pay=%{y}<extra></extra>",
         "legendgroup": "Delaware",
         "marker": {
          "color": "#B6E880",
          "symbol": "circle"
         },
         "mode": "markers",
         "name": "Delaware",
         "orientation": "v",
         "showlegend": true,
         "type": "scatter",
         "x": [
          12.6
         ],
         "xaxis": "x",
         "y": [
          49040
         ],
         "yaxis": "y"
        },
        {
         "hovertemplate": "state=Florida<br>average stem_percent=%{x}<br>average early_career_pay=%{y}<extra></extra>",
         "legendgroup": "Florida",
         "marker": {
          "color": "#FF97FF",
          "symbol": "circle"
         },
         "mode": "markers",
         "name": "Florida",
         "orientation": "v",
         "showlegend": true,
         "type": "scatter",
         "x": [
          14.38888888888889
         ],
         "xaxis": "x",
         "y": [
          50250
         ],
         "yaxis": "y"
        },
        {
         "hovertemplate": "state=Georgia<br>average stem_percent=%{x}<br>average early_career_pay=%{y}<extra></extra>",
         "legendgroup": "Georgia",
         "marker": {
          "color": "#FECB52",
          "symbol": "circle"
         },
         "mode": "markers",
         "name": "Georgia",
         "orientation": "v",
         "showlegend": true,
         "type": "scatter",
         "x": [
          14.636363636363637
         ],
         "xaxis": "x",
         "y": [
          48527.27272727273
         ],
         "yaxis": "y"
        },
        {
         "hovertemplate": "state=Hawaii<br>average stem_percent=%{x}<br>average early_career_pay=%{y}<extra></extra>",
         "legendgroup": "Hawaii",
         "marker": {
          "color": "#636efa",
          "symbol": "circle"
         },
         "mode": "markers",
         "name": "Hawaii",
         "orientation": "v",
         "showlegend": true,
         "type": "scatter",
         "x": [
          12.4
         ],
         "xaxis": "x",
         "y": [
          48980
         ],
         "yaxis": "y"
        },
        {
         "hovertemplate": "state=Idaho<br>average stem_percent=%{x}<br>average early_career_pay=%{y}<extra></extra>",
         "legendgroup": "Idaho",
         "marker": {
          "color": "#EF553B",
          "symbol": "circle"
         },
         "mode": "markers",
         "name": "Idaho",
         "orientation": "v",
         "showlegend": true,
         "type": "scatter",
         "x": [
          12.333333333333334
         ],
         "xaxis": "x",
         "y": [
          49666.666666666664
         ],
         "yaxis": "y"
        },
        {
         "hovertemplate": "state=Illinois<br>average stem_percent=%{x}<br>average early_career_pay=%{y}<extra></extra>",
         "legendgroup": "Illinois",
         "marker": {
          "color": "#00cc96",
          "symbol": "circle"
         },
         "mode": "markers",
         "name": "Illinois",
         "orientation": "v",
         "showlegend": true,
         "type": "scatter",
         "x": [
          20.63157894736842
         ],
         "xaxis": "x",
         "y": [
          55763.15789473684
         ],
         "yaxis": "y"
        },
        {
         "hovertemplate": "state=Indiana<br>average stem_percent=%{x}<br>average early_career_pay=%{y}<extra></extra>",
         "legendgroup": "Indiana",
         "marker": {
          "color": "#ab63fa",
          "symbol": "circle"
         },
         "mode": "markers",
         "name": "Indiana",
         "orientation": "v",
         "showlegend": true,
         "type": "scatter",
         "x": [
          22.944444444444443
         ],
         "xaxis": "x",
         "y": [
          52938.88888888889
         ],
         "yaxis": "y"
        },
        {
         "hovertemplate": "state=Iowa<br>average stem_percent=%{x}<br>average early_career_pay=%{y}<extra></extra>",
         "legendgroup": "Iowa",
         "marker": {
          "color": "#FFA15A",
          "symbol": "circle"
         },
         "mode": "markers",
         "name": "Iowa",
         "orientation": "v",
         "showlegend": true,
         "type": "scatter",
         "x": [
          16.333333333333332
         ],
         "xaxis": "x",
         "y": [
          48314.28571428572
         ],
         "yaxis": "y"
        },
        {
         "hovertemplate": "state=Kansas<br>average stem_percent=%{x}<br>average early_career_pay=%{y}<extra></extra>",
         "legendgroup": "Kansas",
         "marker": {
          "color": "#19d3f3",
          "symbol": "circle"
         },
         "mode": "markers",
         "name": "Kansas",
         "orientation": "v",
         "showlegend": true,
         "type": "scatter",
         "x": [
          9.764705882352942
         ],
         "xaxis": "x",
         "y": [
          46482.35294117647
         ],
         "yaxis": "y"
        },
        {
         "hovertemplate": "state=Kentucky<br>average stem_percent=%{x}<br>average early_career_pay=%{y}<extra></extra>",
         "legendgroup": "Kentucky",
         "marker": {
          "color": "#FF6692",
          "symbol": "circle"
         },
         "mode": "markers",
         "name": "Kentucky",
         "orientation": "v",
         "showlegend": true,
         "type": "scatter",
         "x": [
          10.708333333333334
         ],
         "xaxis": "x",
         "y": [
          43754.166666666664
         ],
         "yaxis": "y"
        },
        {
         "hovertemplate": "state=Louisiana<br>average stem_percent=%{x}<br>average early_career_pay=%{y}<extra></extra>",
         "legendgroup": "Louisiana",
         "marker": {
          "color": "#B6E880",
          "symbol": "circle"
         },
         "mode": "markers",
         "name": "Louisiana",
         "orientation": "v",
         "showlegend": true,
         "type": "scatter",
         "x": [
          14.266666666666667
         ],
         "xaxis": "x",
         "y": [
          46920
         ],
         "yaxis": "y"
        },
        {
         "hovertemplate": "state=Maine<br>average stem_percent=%{x}<br>average early_career_pay=%{y}<extra></extra>",
         "legendgroup": "Maine",
         "marker": {
          "color": "#FF97FF",
          "symbol": "circle"
         },
         "mode": "markers",
         "name": "Maine",
         "orientation": "v",
         "showlegend": true,
         "type": "scatter",
         "x": [
          13.375
         ],
         "xaxis": "x",
         "y": [
          48181.25
         ],
         "yaxis": "y"
        },
        {
         "hovertemplate": "state=Maryland<br>average stem_percent=%{x}<br>average early_career_pay=%{y}<extra></extra>",
         "legendgroup": "Maryland",
         "marker": {
          "color": "#FECB52",
          "symbol": "circle"
         },
         "mode": "markers",
         "name": "Maryland",
         "orientation": "v",
         "showlegend": true,
         "type": "scatter",
         "x": [
          17.294117647058822
         ],
         "xaxis": "x",
         "y": [
          53041.17647058824
         ],
         "yaxis": "y"
        },
        {
         "hovertemplate": "state=Massachusetts<br>average stem_percent=%{x}<br>average early_career_pay=%{y}<extra></extra>",
         "legendgroup": "Massachusetts",
         "marker": {
          "color": "#636efa",
          "symbol": "circle"
         },
         "mode": "markers",
         "name": "Massachusetts",
         "orientation": "v",
         "showlegend": true,
         "type": "scatter",
         "x": [
          28.38095238095238
         ],
         "xaxis": "x",
         "y": [
          63519.04761904762
         ],
         "yaxis": "y"
        },
        {
         "hovertemplate": "state=Michigan<br>average stem_percent=%{x}<br>average early_career_pay=%{y}<extra></extra>",
         "legendgroup": "Michigan",
         "marker": {
          "color": "#EF553B",
          "symbol": "circle"
         },
         "mode": "markers",
         "name": "Michigan",
         "orientation": "v",
         "showlegend": true,
         "type": "scatter",
         "x": [
          21.772727272727273
         ],
         "xaxis": "x",
         "y": [
          51695.454545454544
         ],
         "yaxis": "y"
        },
        {
         "hovertemplate": "state=Minnesota<br>average stem_percent=%{x}<br>average early_career_pay=%{y}<extra></extra>",
         "legendgroup": "Minnesota",
         "marker": {
          "color": "#00cc96",
          "symbol": "circle"
         },
         "mode": "markers",
         "name": "Minnesota",
         "orientation": "v",
         "showlegend": true,
         "type": "scatter",
         "x": [
          16.666666666666668
         ],
         "xaxis": "x",
         "y": [
          51233.333333333336
         ],
         "yaxis": "y"
        },
        {
         "hovertemplate": "state=Mississippi<br>average stem_percent=%{x}<br>average early_career_pay=%{y}<extra></extra>",
         "legendgroup": "Mississippi",
         "marker": {
          "color": "#ab63fa",
          "symbol": "circle"
         },
         "mode": "markers",
         "name": "Mississippi",
         "orientation": "v",
         "showlegend": true,
         "type": "scatter",
         "x": [
          14.642857142857142
         ],
         "xaxis": "x",
         "y": [
          42042.857142857145
         ],
         "yaxis": "y"
        },
        {
         "hovertemplate": "state=Missouri<br>average stem_percent=%{x}<br>average early_career_pay=%{y}<extra></extra>",
         "legendgroup": "Missouri",
         "marker": {
          "color": "#FFA15A",
          "symbol": "circle"
         },
         "mode": "markers",
         "name": "Missouri",
         "orientation": "v",
         "showlegend": true,
         "type": "scatter",
         "x": [
          15.705882352941176
         ],
         "xaxis": "x",
         "y": [
          48023.529411764706
         ],
         "yaxis": "y"
        },
        {
         "hovertemplate": "state=Montana<br>average stem_percent=%{x}<br>average early_career_pay=%{y}<extra></extra>",
         "legendgroup": "Montana",
         "marker": {
          "color": "#19d3f3",
          "symbol": "circle"
         },
         "mode": "markers",
         "name": "Montana",
         "orientation": "v",
         "showlegend": true,
         "type": "scatter",
         "x": [
          32.25
         ],
         "xaxis": "x",
         "y": [
          52275
         ],
         "yaxis": "y"
        },
        {
         "hovertemplate": "state=Nebraska<br>average stem_percent=%{x}<br>average early_career_pay=%{y}<extra></extra>",
         "legendgroup": "Nebraska",
         "marker": {
          "color": "#FF6692",
          "symbol": "circle"
         },
         "mode": "markers",
         "name": "Nebraska",
         "orientation": "v",
         "showlegend": true,
         "type": "scatter",
         "x": [
          8.727272727272727
         ],
         "xaxis": "x",
         "y": [
          46790.90909090909
         ],
         "yaxis": "y"
        },
        {
         "hovertemplate": "state=Nevada<br>average stem_percent=%{x}<br>average early_career_pay=%{y}<extra></extra>",
         "legendgroup": "Nevada",
         "marker": {
          "color": "#B6E880",
          "symbol": "circle"
         },
         "mode": "markers",
         "name": "Nevada",
         "orientation": "v",
         "showlegend": true,
         "type": "scatter",
         "x": [
          2
         ],
         "xaxis": "x",
         "y": [
          54000
         ],
         "yaxis": "y"
        },
        {
         "hovertemplate": "state=New Hampshire<br>average stem_percent=%{x}<br>average early_career_pay=%{y}<extra></extra>",
         "legendgroup": "New Hampshire",
         "marker": {
          "color": "#FF97FF",
          "symbol": "circle"
         },
         "mode": "markers",
         "name": "New Hampshire",
         "orientation": "v",
         "showlegend": true,
         "type": "scatter",
         "x": [
          16.181818181818183
         ],
         "xaxis": "x",
         "y": [
          50545.454545454544
         ],
         "yaxis": "y"
        },
        {
         "hovertemplate": "state=New Jersey<br>average stem_percent=%{x}<br>average early_career_pay=%{y}<extra></extra>",
         "legendgroup": "New Jersey",
         "marker": {
          "color": "#FECB52",
          "symbol": "circle"
         },
         "mode": "markers",
         "name": "New Jersey",
         "orientation": "v",
         "showlegend": true,
         "type": "scatter",
         "x": [
          20.263157894736842
         ],
         "xaxis": "x",
         "y": [
          54847.36842105263
         ],
         "yaxis": "y"
        },
        {
         "hovertemplate": "state=New Mexico<br>average stem_percent=%{x}<br>average early_career_pay=%{y}<extra></extra>",
         "legendgroup": "New Mexico",
         "marker": {
          "color": "#636efa",
          "symbol": "circle"
         },
         "mode": "markers",
         "name": "New Mexico",
         "orientation": "v",
         "showlegend": true,
         "type": "scatter",
         "x": [
          33
         ],
         "xaxis": "x",
         "y": [
          48933.333333333336
         ],
         "yaxis": "y"
        },
        {
         "hovertemplate": "state=New York<br>average stem_percent=%{x}<br>average early_career_pay=%{y}<extra></extra>",
         "legendgroup": "New York",
         "marker": {
          "color": "#EF553B",
          "symbol": "circle"
         },
         "mode": "markers",
         "name": "New York",
         "orientation": "v",
         "showlegend": true,
         "type": "scatter",
         "x": [
          28.5625
         ],
         "xaxis": "x",
         "y": [
          65881.25
         ],
         "yaxis": "y"
        },
        {
         "hovertemplate": "state=North Carolina<br>average stem_percent=%{x}<br>average early_career_pay=%{y}<extra></extra>",
         "legendgroup": "North Carolina",
         "marker": {
          "color": "#00cc96",
          "symbol": "circle"
         },
         "mode": "markers",
         "name": "North Carolina",
         "orientation": "v",
         "showlegend": true,
         "type": "scatter",
         "x": [
          11.15
         ],
         "xaxis": "x",
         "y": [
          49695
         ],
         "yaxis": "y"
        },
        {
         "hovertemplate": "state=North Dakota<br>average stem_percent=%{x}<br>average early_career_pay=%{y}<extra></extra>",
         "legendgroup": "North Dakota",
         "marker": {
          "color": "#ab63fa",
          "symbol": "circle"
         },
         "mode": "markers",
         "name": "North Dakota",
         "orientation": "v",
         "showlegend": true,
         "type": "scatter",
         "x": [
          8.285714285714286
         ],
         "xaxis": "x",
         "y": [
          46042.857142857145
         ],
         "yaxis": "y"
        },
        {
         "hovertemplate": "state=Ohio<br>average stem_percent=%{x}<br>average early_career_pay=%{y}<extra></extra>",
         "legendgroup": "Ohio",
         "marker": {
          "color": "#FFA15A",
          "symbol": "circle"
         },
         "mode": "markers",
         "name": "Ohio",
         "orientation": "v",
         "showlegend": true,
         "type": "scatter",
         "x": [
          21.533333333333335
         ],
         "xaxis": "x",
         "y": [
          53613.333333333336
         ],
         "yaxis": "y"
        },
        {
         "hovertemplate": "state=Oklahoma<br>average stem_percent=%{x}<br>average early_career_pay=%{y}<extra></extra>",
         "legendgroup": "Oklahoma",
         "marker": {
          "color": "#19d3f3",
          "symbol": "circle"
         },
         "mode": "markers",
         "name": "Oklahoma",
         "orientation": "v",
         "showlegend": true,
         "type": "scatter",
         "x": [
          11.421052631578947
         ],
         "xaxis": "x",
         "y": [
          45105.26315789474
         ],
         "yaxis": "y"
        },
        {
         "hovertemplate": "state=Oregon<br>average stem_percent=%{x}<br>average early_career_pay=%{y}<extra></extra>",
         "legendgroup": "Oregon",
         "marker": {
          "color": "#FF6692",
          "symbol": "circle"
         },
         "mode": "markers",
         "name": "Oregon",
         "orientation": "v",
         "showlegend": true,
         "type": "scatter",
         "x": [
          12.11111111111111
         ],
         "xaxis": "x",
         "y": [
          50694.444444444445
         ],
         "yaxis": "y"
        },
        {
         "hovertemplate": "state=Pennsylvania<br>average stem_percent=%{x}<br>average early_career_pay=%{y}<extra></extra>",
         "legendgroup": "Pennsylvania",
         "marker": {
          "color": "#B6E880",
          "symbol": "circle"
         },
         "mode": "markers",
         "name": "Pennsylvania",
         "orientation": "v",
         "showlegend": true,
         "type": "scatter",
         "x": [
          28.63157894736842
         ],
         "xaxis": "x",
         "y": [
          61436.84210526316
         ],
         "yaxis": "y"
        },
        {
         "hovertemplate": "state=Rhode Island<br>average stem_percent=%{x}<br>average early_career_pay=%{y}<extra></extra>",
         "legendgroup": "Rhode Island",
         "marker": {
          "color": "#FF97FF",
          "symbol": "circle"
         },
         "mode": "markers",
         "name": "Rhode Island",
         "orientation": "v",
         "showlegend": true,
         "type": "scatter",
         "x": [
          13
         ],
         "xaxis": "x",
         "y": [
          55822.22222222222
         ],
         "yaxis": "y"
        },
        {
         "hovertemplate": "state=South Carolina<br>average stem_percent=%{x}<br>average early_career_pay=%{y}<extra></extra>",
         "legendgroup": "South Carolina",
         "marker": {
          "color": "#FECB52",
          "symbol": "circle"
         },
         "mode": "markers",
         "name": "South Carolina",
         "orientation": "v",
         "showlegend": true,
         "type": "scatter",
         "x": [
          14.777777777777779
         ],
         "xaxis": "x",
         "y": [
          44716.666666666664
         ],
         "yaxis": "y"
        },
        {
         "hovertemplate": "state=South Dakota<br>average stem_percent=%{x}<br>average early_career_pay=%{y}<extra></extra>",
         "legendgroup": "South Dakota",
         "marker": {
          "color": "#636efa",
          "symbol": "circle"
         },
         "mode": "markers",
         "name": "South Dakota",
         "orientation": "v",
         "showlegend": true,
         "type": "scatter",
         "x": [
          22.8
         ],
         "xaxis": "x",
         "y": [
          47110
         ],
         "yaxis": "y"
        },
        {
         "hovertemplate": "state=Tennessee<br>average stem_percent=%{x}<br>average early_career_pay=%{y}<extra></extra>",
         "legendgroup": "Tennessee",
         "marker": {
          "color": "#EF553B",
          "symbol": "circle"
         },
         "mode": "markers",
         "name": "Tennessee",
         "orientation": "v",
         "showlegend": true,
         "type": "scatter",
         "x": [
          12.75
         ],
         "xaxis": "x",
         "y": [
          47370
         ],
         "yaxis": "y"
        },
        {
         "hovertemplate": "state=Texas<br>average stem_percent=%{x}<br>average early_career_pay=%{y}<extra></extra>",
         "legendgroup": "Texas",
         "marker": {
          "color": "#00cc96",
          "symbol": "circle"
         },
         "mode": "markers",
         "name": "Texas",
         "orientation": "v",
         "showlegend": true,
         "type": "scatter",
         "x": [
          20.055555555555557
         ],
         "xaxis": "x",
         "y": [
          56500
         ],
         "yaxis": "y"
        },
        {
         "hovertemplate": "state=Utah<br>average stem_percent=%{x}<br>average early_career_pay=%{y}<extra></extra>",
         "legendgroup": "Utah",
         "marker": {
          "color": "#ab63fa",
          "symbol": "circle"
         },
         "mode": "markers",
         "name": "Utah",
         "orientation": "v",
         "showlegend": true,
         "type": "scatter",
         "x": [
          12
         ],
         "xaxis": "x",
         "y": [
          52183.333333333336
         ],
         "yaxis": "y"
        },
        {
         "hovertemplate": "state=Vermont<br>average stem_percent=%{x}<br>average early_career_pay=%{y}<extra></extra>",
         "legendgroup": "Vermont",
         "marker": {
          "color": "#FFA15A",
          "symbol": "circle"
         },
         "mode": "markers",
         "name": "Vermont",
         "orientation": "v",
         "showlegend": true,
         "type": "scatter",
         "x": [
          12.272727272727273
         ],
         "xaxis": "x",
         "y": [
          49445.454545454544
         ],
         "yaxis": "y"
        },
        {
         "hovertemplate": "state=Virginia<br>average stem_percent=%{x}<br>average early_career_pay=%{y}<extra></extra>",
         "legendgroup": "Virginia",
         "marker": {
          "color": "#19d3f3",
          "symbol": "circle"
         },
         "mode": "markers",
         "name": "Virginia",
         "orientation": "v",
         "showlegend": true,
         "type": "scatter",
         "x": [
          17.727272727272727
         ],
         "xaxis": "x",
         "y": [
          53718.181818181816
         ],
         "yaxis": "y"
        },
        {
         "hovertemplate": "state=Washington<br>average stem_percent=%{x}<br>average early_career_pay=%{y}<extra></extra>",
         "legendgroup": "Washington",
         "marker": {
          "color": "#FF6692",
          "symbol": "circle"
         },
         "mode": "markers",
         "name": "Washington",
         "orientation": "v",
         "showlegend": true,
         "type": "scatter",
         "x": [
          16.625
         ],
         "xaxis": "x",
         "y": [
          53450
         ],
         "yaxis": "y"
        },
        {
         "hovertemplate": "state=West Virginia<br>average stem_percent=%{x}<br>average early_career_pay=%{y}<extra></extra>",
         "legendgroup": "West Virginia",
         "marker": {
          "color": "#B6E880",
          "symbol": "circle"
         },
         "mode": "markers",
         "name": "West Virginia",
         "orientation": "v",
         "showlegend": true,
         "type": "scatter",
         "x": [
          10.4
         ],
         "xaxis": "x",
         "y": [
          44333.333333333336
         ],
         "yaxis": "y"
        },
        {
         "hovertemplate": "state=Wisconsin<br>average stem_percent=%{x}<br>average early_career_pay=%{y}<extra></extra>",
         "legendgroup": "Wisconsin",
         "marker": {
          "color": "#FF97FF",
          "symbol": "circle"
         },
         "mode": "markers",
         "name": "Wisconsin",
         "orientation": "v",
         "showlegend": true,
         "type": "scatter",
         "x": [
          18.363636363636363
         ],
         "xaxis": "x",
         "y": [
          50681.818181818184
         ],
         "yaxis": "y"
        },
        {
         "hovertemplate": "state=Wyoming<br>average stem_percent=%{x}<br>average early_career_pay=%{y}<extra></extra>",
         "legendgroup": "Wyoming",
         "marker": {
          "color": "#FECB52",
          "symbol": "circle"
         },
         "mode": "markers",
         "name": "Wyoming",
         "orientation": "v",
         "showlegend": true,
         "type": "scatter",
         "x": [
          25
         ],
         "xaxis": "x",
         "y": [
          52400
         ],
         "yaxis": "y"
        },
        {
         "hovertemplate": "<b>OLS trendline</b><br>average early_career_pay = 478.507 * average stem_percent + 43091.8<br>R<sup>2</sup>=0.347354<br><br>average stem_percent=%{x}<br>average early_career_pay=%{y} <b>(trend)</b><extra></extra>",
         "legendgroup": "Overall Trendline",
         "line": {
          "color": "#636efa"
         },
         "mode": "lines",
         "name": "Overall Trendline",
         "showlegend": true,
         "type": "scatter",
         "x": [
          2,
          8.285714285714286,
          8.727272727272727,
          9.764705882352942,
          10.4,
          10.708333333333334,
          11.15,
          11.421052631578947,
          11.666666666666666,
          12,
          12,
          12.11111111111111,
          12.272727272727273,
          12.333333333333334,
          12.4,
          12.6,
          12.75,
          13,
          13.375,
          14.047619047619047,
          14.071428571428571,
          14.266666666666667,
          14.38888888888889,
          14.636363636363637,
          14.642857142857142,
          14.777777777777779,
          15.705882352941176,
          15.88888888888889,
          16.181818181818183,
          16.333333333333332,
          16.625,
          16.666666666666668,
          17.294117647058822,
          17.727272727272727,
          18.363636363636363,
          20.055555555555557,
          20.263157894736842,
          20.63157894736842,
          20.692307692307693,
          21.533333333333335,
          21.772727272727273,
          22.8,
          22.944444444444443,
          25,
          28.38095238095238,
          28.5625,
          28.63157894736842,
          30.615384615384617,
          32.25,
          33
         ],
         "xaxis": "x",
         "y": [
          44048.785584220146,
          47056.541490488235,
          47267.83012853186,
          47764.24876255132,
          48068.24120441477,
          48215.780746029064,
          48427.12117050358,
          48556.82164947603,
          48674.34959158698,
          48833.85179873756,
          48833.85179873756,
          48887.01920112108,
          48964.35360458803,
          48993.35400588814,
          49025.25444731826,
          49120.955771608606,
          49192.73176482636,
          49312.358420189295,
          49491.798403233704,
          49813.65107123398,
          49825.04408603045,
          49918.4668073615,
          49976.95094998338,
          50095.36925529215,
          50098.47644114573,
          50163.03685832573,
          50607.14104294107,
          50694.710882160995,
          50834.87948844484,
          50907.380491695105,
          51046.94492295186,
          51066.882698845686,
          51367.122147599715,
          51574.38972159753,
          51878.893935248634,
          52688.48847154325,
          52787.82756547036,
          52964.1194786368,
          52993.178585202695,
          53395.61492324415,
          53510.166508379574,
          54001.72331041636,
          54070.84093351495,
          55054.43787761019,
          56672.24597870893,
          56759.11771653202,
          56792.17245025072,
          57741.436598069966,
          58523.61088313531,
          58882.490849224116
         ],
         "yaxis": "y"
        }
       ],
       "layout": {
        "legend": {
         "title": {
          "text": "state"
         },
         "tracegroupgap": 0
        },
        "template": {
         "data": {
          "bar": [
           {
            "error_x": {
             "color": "#2a3f5f"
            },
            "error_y": {
             "color": "#2a3f5f"
            },
            "marker": {
             "line": {
              "color": "#E5ECF6",
              "width": 0.5
             },
             "pattern": {
              "fillmode": "overlay",
              "size": 10,
              "solidity": 0.2
             }
            },
            "type": "bar"
           }
          ],
          "barpolar": [
           {
            "marker": {
             "line": {
              "color": "#E5ECF6",
              "width": 0.5
             },
             "pattern": {
              "fillmode": "overlay",
              "size": 10,
              "solidity": 0.2
             }
            },
            "type": "barpolar"
           }
          ],
          "carpet": [
           {
            "aaxis": {
             "endlinecolor": "#2a3f5f",
             "gridcolor": "white",
             "linecolor": "white",
             "minorgridcolor": "white",
             "startlinecolor": "#2a3f5f"
            },
            "baxis": {
             "endlinecolor": "#2a3f5f",
             "gridcolor": "white",
             "linecolor": "white",
             "minorgridcolor": "white",
             "startlinecolor": "#2a3f5f"
            },
            "type": "carpet"
           }
          ],
          "choropleth": [
           {
            "colorbar": {
             "outlinewidth": 0,
             "ticks": ""
            },
            "type": "choropleth"
           }
          ],
          "contour": [
           {
            "colorbar": {
             "outlinewidth": 0,
             "ticks": ""
            },
            "colorscale": [
             [
              0,
              "#0d0887"
             ],
             [
              0.1111111111111111,
              "#46039f"
             ],
             [
              0.2222222222222222,
              "#7201a8"
             ],
             [
              0.3333333333333333,
              "#9c179e"
             ],
             [
              0.4444444444444444,
              "#bd3786"
             ],
             [
              0.5555555555555556,
              "#d8576b"
             ],
             [
              0.6666666666666666,
              "#ed7953"
             ],
             [
              0.7777777777777778,
              "#fb9f3a"
             ],
             [
              0.8888888888888888,
              "#fdca26"
             ],
             [
              1,
              "#f0f921"
             ]
            ],
            "type": "contour"
           }
          ],
          "contourcarpet": [
           {
            "colorbar": {
             "outlinewidth": 0,
             "ticks": ""
            },
            "type": "contourcarpet"
           }
          ],
          "heatmap": [
           {
            "colorbar": {
             "outlinewidth": 0,
             "ticks": ""
            },
            "colorscale": [
             [
              0,
              "#0d0887"
             ],
             [
              0.1111111111111111,
              "#46039f"
             ],
             [
              0.2222222222222222,
              "#7201a8"
             ],
             [
              0.3333333333333333,
              "#9c179e"
             ],
             [
              0.4444444444444444,
              "#bd3786"
             ],
             [
              0.5555555555555556,
              "#d8576b"
             ],
             [
              0.6666666666666666,
              "#ed7953"
             ],
             [
              0.7777777777777778,
              "#fb9f3a"
             ],
             [
              0.8888888888888888,
              "#fdca26"
             ],
             [
              1,
              "#f0f921"
             ]
            ],
            "type": "heatmap"
           }
          ],
          "heatmapgl": [
           {
            "colorbar": {
             "outlinewidth": 0,
             "ticks": ""
            },
            "colorscale": [
             [
              0,
              "#0d0887"
             ],
             [
              0.1111111111111111,
              "#46039f"
             ],
             [
              0.2222222222222222,
              "#7201a8"
             ],
             [
              0.3333333333333333,
              "#9c179e"
             ],
             [
              0.4444444444444444,
              "#bd3786"
             ],
             [
              0.5555555555555556,
              "#d8576b"
             ],
             [
              0.6666666666666666,
              "#ed7953"
             ],
             [
              0.7777777777777778,
              "#fb9f3a"
             ],
             [
              0.8888888888888888,
              "#fdca26"
             ],
             [
              1,
              "#f0f921"
             ]
            ],
            "type": "heatmapgl"
           }
          ],
          "histogram": [
           {
            "marker": {
             "pattern": {
              "fillmode": "overlay",
              "size": 10,
              "solidity": 0.2
             }
            },
            "type": "histogram"
           }
          ],
          "histogram2d": [
           {
            "colorbar": {
             "outlinewidth": 0,
             "ticks": ""
            },
            "colorscale": [
             [
              0,
              "#0d0887"
             ],
             [
              0.1111111111111111,
              "#46039f"
             ],
             [
              0.2222222222222222,
              "#7201a8"
             ],
             [
              0.3333333333333333,
              "#9c179e"
             ],
             [
              0.4444444444444444,
              "#bd3786"
             ],
             [
              0.5555555555555556,
              "#d8576b"
             ],
             [
              0.6666666666666666,
              "#ed7953"
             ],
             [
              0.7777777777777778,
              "#fb9f3a"
             ],
             [
              0.8888888888888888,
              "#fdca26"
             ],
             [
              1,
              "#f0f921"
             ]
            ],
            "type": "histogram2d"
           }
          ],
          "histogram2dcontour": [
           {
            "colorbar": {
             "outlinewidth": 0,
             "ticks": ""
            },
            "colorscale": [
             [
              0,
              "#0d0887"
             ],
             [
              0.1111111111111111,
              "#46039f"
             ],
             [
              0.2222222222222222,
              "#7201a8"
             ],
             [
              0.3333333333333333,
              "#9c179e"
             ],
             [
              0.4444444444444444,
              "#bd3786"
             ],
             [
              0.5555555555555556,
              "#d8576b"
             ],
             [
              0.6666666666666666,
              "#ed7953"
             ],
             [
              0.7777777777777778,
              "#fb9f3a"
             ],
             [
              0.8888888888888888,
              "#fdca26"
             ],
             [
              1,
              "#f0f921"
             ]
            ],
            "type": "histogram2dcontour"
           }
          ],
          "mesh3d": [
           {
            "colorbar": {
             "outlinewidth": 0,
             "ticks": ""
            },
            "type": "mesh3d"
           }
          ],
          "parcoords": [
           {
            "line": {
             "colorbar": {
              "outlinewidth": 0,
              "ticks": ""
             }
            },
            "type": "parcoords"
           }
          ],
          "pie": [
           {
            "automargin": true,
            "type": "pie"
           }
          ],
          "scatter": [
           {
            "marker": {
             "colorbar": {
              "outlinewidth": 0,
              "ticks": ""
             }
            },
            "type": "scatter"
           }
          ],
          "scatter3d": [
           {
            "line": {
             "colorbar": {
              "outlinewidth": 0,
              "ticks": ""
             }
            },
            "marker": {
             "colorbar": {
              "outlinewidth": 0,
              "ticks": ""
             }
            },
            "type": "scatter3d"
           }
          ],
          "scattercarpet": [
           {
            "marker": {
             "colorbar": {
              "outlinewidth": 0,
              "ticks": ""
             }
            },
            "type": "scattercarpet"
           }
          ],
          "scattergeo": [
           {
            "marker": {
             "colorbar": {
              "outlinewidth": 0,
              "ticks": ""
             }
            },
            "type": "scattergeo"
           }
          ],
          "scattergl": [
           {
            "marker": {
             "colorbar": {
              "outlinewidth": 0,
              "ticks": ""
             }
            },
            "type": "scattergl"
           }
          ],
          "scattermapbox": [
           {
            "marker": {
             "colorbar": {
              "outlinewidth": 0,
              "ticks": ""
             }
            },
            "type": "scattermapbox"
           }
          ],
          "scatterpolar": [
           {
            "marker": {
             "colorbar": {
              "outlinewidth": 0,
              "ticks": ""
             }
            },
            "type": "scatterpolar"
           }
          ],
          "scatterpolargl": [
           {
            "marker": {
             "colorbar": {
              "outlinewidth": 0,
              "ticks": ""
             }
            },
            "type": "scatterpolargl"
           }
          ],
          "scatterternary": [
           {
            "marker": {
             "colorbar": {
              "outlinewidth": 0,
              "ticks": ""
             }
            },
            "type": "scatterternary"
           }
          ],
          "surface": [
           {
            "colorbar": {
             "outlinewidth": 0,
             "ticks": ""
            },
            "colorscale": [
             [
              0,
              "#0d0887"
             ],
             [
              0.1111111111111111,
              "#46039f"
             ],
             [
              0.2222222222222222,
              "#7201a8"
             ],
             [
              0.3333333333333333,
              "#9c179e"
             ],
             [
              0.4444444444444444,
              "#bd3786"
             ],
             [
              0.5555555555555556,
              "#d8576b"
             ],
             [
              0.6666666666666666,
              "#ed7953"
             ],
             [
              0.7777777777777778,
              "#fb9f3a"
             ],
             [
              0.8888888888888888,
              "#fdca26"
             ],
             [
              1,
              "#f0f921"
             ]
            ],
            "type": "surface"
           }
          ],
          "table": [
           {
            "cells": {
             "fill": {
              "color": "#EBF0F8"
             },
             "line": {
              "color": "white"
             }
            },
            "header": {
             "fill": {
              "color": "#C8D4E3"
             },
             "line": {
              "color": "white"
             }
            },
            "type": "table"
           }
          ]
         },
         "layout": {
          "annotationdefaults": {
           "arrowcolor": "#2a3f5f",
           "arrowhead": 0,
           "arrowwidth": 1
          },
          "autotypenumbers": "strict",
          "coloraxis": {
           "colorbar": {
            "outlinewidth": 0,
            "ticks": ""
           }
          },
          "colorscale": {
           "diverging": [
            [
             0,
             "#8e0152"
            ],
            [
             0.1,
             "#c51b7d"
            ],
            [
             0.2,
             "#de77ae"
            ],
            [
             0.3,
             "#f1b6da"
            ],
            [
             0.4,
             "#fde0ef"
            ],
            [
             0.5,
             "#f7f7f7"
            ],
            [
             0.6,
             "#e6f5d0"
            ],
            [
             0.7,
             "#b8e186"
            ],
            [
             0.8,
             "#7fbc41"
            ],
            [
             0.9,
             "#4d9221"
            ],
            [
             1,
             "#276419"
            ]
           ],
           "sequential": [
            [
             0,
             "#0d0887"
            ],
            [
             0.1111111111111111,
             "#46039f"
            ],
            [
             0.2222222222222222,
             "#7201a8"
            ],
            [
             0.3333333333333333,
             "#9c179e"
            ],
            [
             0.4444444444444444,
             "#bd3786"
            ],
            [
             0.5555555555555556,
             "#d8576b"
            ],
            [
             0.6666666666666666,
             "#ed7953"
            ],
            [
             0.7777777777777778,
             "#fb9f3a"
            ],
            [
             0.8888888888888888,
             "#fdca26"
            ],
            [
             1,
             "#f0f921"
            ]
           ],
           "sequentialminus": [
            [
             0,
             "#0d0887"
            ],
            [
             0.1111111111111111,
             "#46039f"
            ],
            [
             0.2222222222222222,
             "#7201a8"
            ],
            [
             0.3333333333333333,
             "#9c179e"
            ],
            [
             0.4444444444444444,
             "#bd3786"
            ],
            [
             0.5555555555555556,
             "#d8576b"
            ],
            [
             0.6666666666666666,
             "#ed7953"
            ],
            [
             0.7777777777777778,
             "#fb9f3a"
            ],
            [
             0.8888888888888888,
             "#fdca26"
            ],
            [
             1,
             "#f0f921"
            ]
           ]
          },
          "colorway": [
           "#636efa",
           "#EF553B",
           "#00cc96",
           "#ab63fa",
           "#FFA15A",
           "#19d3f3",
           "#FF6692",
           "#B6E880",
           "#FF97FF",
           "#FECB52"
          ],
          "font": {
           "color": "#2a3f5f"
          },
          "geo": {
           "bgcolor": "white",
           "lakecolor": "white",
           "landcolor": "#E5ECF6",
           "showlakes": true,
           "showland": true,
           "subunitcolor": "white"
          },
          "hoverlabel": {
           "align": "left"
          },
          "hovermode": "closest",
          "mapbox": {
           "style": "light"
          },
          "paper_bgcolor": "white",
          "plot_bgcolor": "#E5ECF6",
          "polar": {
           "angularaxis": {
            "gridcolor": "white",
            "linecolor": "white",
            "ticks": ""
           },
           "bgcolor": "#E5ECF6",
           "radialaxis": {
            "gridcolor": "white",
            "linecolor": "white",
            "ticks": ""
           }
          },
          "scene": {
           "xaxis": {
            "backgroundcolor": "#E5ECF6",
            "gridcolor": "white",
            "gridwidth": 2,
            "linecolor": "white",
            "showbackground": true,
            "ticks": "",
            "zerolinecolor": "white"
           },
           "yaxis": {
            "backgroundcolor": "#E5ECF6",
            "gridcolor": "white",
            "gridwidth": 2,
            "linecolor": "white",
            "showbackground": true,
            "ticks": "",
            "zerolinecolor": "white"
           },
           "zaxis": {
            "backgroundcolor": "#E5ECF6",
            "gridcolor": "white",
            "gridwidth": 2,
            "linecolor": "white",
            "showbackground": true,
            "ticks": "",
            "zerolinecolor": "white"
           }
          },
          "shapedefaults": {
           "line": {
            "color": "#2a3f5f"
           }
          },
          "ternary": {
           "aaxis": {
            "gridcolor": "white",
            "linecolor": "white",
            "ticks": ""
           },
           "baxis": {
            "gridcolor": "white",
            "linecolor": "white",
            "ticks": ""
           },
           "bgcolor": "#E5ECF6",
           "caxis": {
            "gridcolor": "white",
            "linecolor": "white",
            "ticks": ""
           }
          },
          "title": {
           "x": 0.05
          },
          "xaxis": {
           "automargin": true,
           "gridcolor": "white",
           "linecolor": "white",
           "ticks": "",
           "title": {
            "standoff": 15
           },
           "zerolinecolor": "white",
           "zerolinewidth": 2
          },
          "yaxis": {
           "automargin": true,
           "gridcolor": "white",
           "linecolor": "white",
           "ticks": "",
           "title": {
            "standoff": 15
           },
           "zerolinecolor": "white",
           "zerolinewidth": 2
          }
         }
        },
        "title": {
         "text": "Average In State Tuition vs Average % of Students Graduating with STEM Degrees"
        },
        "xaxis": {
         "anchor": "y",
         "domain": [
          0,
          1
         ],
         "title": {
          "text": "average stem_percent"
         }
        },
        "yaxis": {
         "anchor": "x",
         "domain": [
          0,
          1
         ],
         "title": {
          "text": "average early_career_pay"
         }
        }
       }
      },
      "text/html": [
       "<div>                            <div id=\"cf250939-581c-4579-bc9e-bbd126521b1c\" class=\"plotly-graph-div\" style=\"height:525px; width:100%;\"></div>            <script type=\"text/javascript\">                require([\"plotly\"], function(Plotly) {                    window.PLOTLYENV=window.PLOTLYENV || {};                                    if (document.getElementById(\"cf250939-581c-4579-bc9e-bbd126521b1c\")) {                    Plotly.newPlot(                        \"cf250939-581c-4579-bc9e-bbd126521b1c\",                        [{\"hovertemplate\":\"state=Alabama<br>average stem_percent=%{x}<br>average early_career_pay=%{y}<extra></extra>\",\"legendgroup\":\"Alabama\",\"marker\":{\"color\":\"#636efa\",\"symbol\":\"circle\"},\"mode\":\"markers\",\"name\":\"Alabama\",\"orientation\":\"v\",\"showlegend\":true,\"x\":[14.047619047619047],\"xaxis\":\"x\",\"y\":[44714.28571428572],\"yaxis\":\"y\",\"type\":\"scatter\"},{\"hovertemplate\":\"state=Alaska<br>average stem_percent=%{x}<br>average early_career_pay=%{y}<extra></extra>\",\"legendgroup\":\"Alaska\",\"marker\":{\"color\":\"#EF553B\",\"symbol\":\"circle\"},\"mode\":\"markers\",\"name\":\"Alaska\",\"orientation\":\"v\",\"showlegend\":true,\"x\":[12.0],\"xaxis\":\"x\",\"y\":[55133.333333333336],\"yaxis\":\"y\",\"type\":\"scatter\"},{\"hovertemplate\":\"state=Arizona<br>average stem_percent=%{x}<br>average early_career_pay=%{y}<extra></extra>\",\"legendgroup\":\"Arizona\",\"marker\":{\"color\":\"#00cc96\",\"symbol\":\"circle\"},\"mode\":\"markers\",\"name\":\"Arizona\",\"orientation\":\"v\",\"showlegend\":true,\"x\":[11.666666666666666],\"xaxis\":\"x\",\"y\":[48966.666666666664],\"yaxis\":\"y\",\"type\":\"scatter\"},{\"hovertemplate\":\"state=Arkansas<br>average stem_percent=%{x}<br>average early_career_pay=%{y}<extra></extra>\",\"legendgroup\":\"Arkansas\",\"marker\":{\"color\":\"#ab63fa\",\"symbol\":\"circle\"},\"mode\":\"markers\",\"name\":\"Arkansas\",\"orientation\":\"v\",\"showlegend\":true,\"x\":[14.071428571428571],\"xaxis\":\"x\",\"y\":[45607.142857142855],\"yaxis\":\"y\",\"type\":\"scatter\"},{\"hovertemplate\":\"state=California<br>average stem_percent=%{x}<br>average early_career_pay=%{y}<extra></extra>\",\"legendgroup\":\"California\",\"marker\":{\"color\":\"#FFA15A\",\"symbol\":\"circle\"},\"mode\":\"markers\",\"name\":\"California\",\"orientation\":\"v\",\"showlegend\":true,\"x\":[30.615384615384617],\"xaxis\":\"x\",\"y\":[67800.0],\"yaxis\":\"y\",\"type\":\"scatter\"},{\"hovertemplate\":\"state=Colorado<br>average stem_percent=%{x}<br>average early_career_pay=%{y}<extra></extra>\",\"legendgroup\":\"Colorado\",\"marker\":{\"color\":\"#19d3f3\",\"symbol\":\"circle\"},\"mode\":\"markers\",\"name\":\"Colorado\",\"orientation\":\"v\",\"showlegend\":true,\"x\":[20.692307692307693],\"xaxis\":\"x\",\"y\":[52238.46153846154],\"yaxis\":\"y\",\"type\":\"scatter\"},{\"hovertemplate\":\"state=Connecticut<br>average stem_percent=%{x}<br>average early_career_pay=%{y}<extra></extra>\",\"legendgroup\":\"Connecticut\",\"marker\":{\"color\":\"#FF6692\",\"symbol\":\"circle\"},\"mode\":\"markers\",\"name\":\"Connecticut\",\"orientation\":\"v\",\"showlegend\":true,\"x\":[15.88888888888889],\"xaxis\":\"x\",\"y\":[55016.666666666664],\"yaxis\":\"y\",\"type\":\"scatter\"},{\"hovertemplate\":\"state=Delaware<br>average stem_percent=%{x}<br>average early_career_pay=%{y}<extra></extra>\",\"legendgroup\":\"Delaware\",\"marker\":{\"color\":\"#B6E880\",\"symbol\":\"circle\"},\"mode\":\"markers\",\"name\":\"Delaware\",\"orientation\":\"v\",\"showlegend\":true,\"x\":[12.6],\"xaxis\":\"x\",\"y\":[49040.0],\"yaxis\":\"y\",\"type\":\"scatter\"},{\"hovertemplate\":\"state=Florida<br>average stem_percent=%{x}<br>average early_career_pay=%{y}<extra></extra>\",\"legendgroup\":\"Florida\",\"marker\":{\"color\":\"#FF97FF\",\"symbol\":\"circle\"},\"mode\":\"markers\",\"name\":\"Florida\",\"orientation\":\"v\",\"showlegend\":true,\"x\":[14.38888888888889],\"xaxis\":\"x\",\"y\":[50250.0],\"yaxis\":\"y\",\"type\":\"scatter\"},{\"hovertemplate\":\"state=Georgia<br>average stem_percent=%{x}<br>average early_career_pay=%{y}<extra></extra>\",\"legendgroup\":\"Georgia\",\"marker\":{\"color\":\"#FECB52\",\"symbol\":\"circle\"},\"mode\":\"markers\",\"name\":\"Georgia\",\"orientation\":\"v\",\"showlegend\":true,\"x\":[14.636363636363637],\"xaxis\":\"x\",\"y\":[48527.27272727273],\"yaxis\":\"y\",\"type\":\"scatter\"},{\"hovertemplate\":\"state=Hawaii<br>average stem_percent=%{x}<br>average early_career_pay=%{y}<extra></extra>\",\"legendgroup\":\"Hawaii\",\"marker\":{\"color\":\"#636efa\",\"symbol\":\"circle\"},\"mode\":\"markers\",\"name\":\"Hawaii\",\"orientation\":\"v\",\"showlegend\":true,\"x\":[12.4],\"xaxis\":\"x\",\"y\":[48980.0],\"yaxis\":\"y\",\"type\":\"scatter\"},{\"hovertemplate\":\"state=Idaho<br>average stem_percent=%{x}<br>average early_career_pay=%{y}<extra></extra>\",\"legendgroup\":\"Idaho\",\"marker\":{\"color\":\"#EF553B\",\"symbol\":\"circle\"},\"mode\":\"markers\",\"name\":\"Idaho\",\"orientation\":\"v\",\"showlegend\":true,\"x\":[12.333333333333334],\"xaxis\":\"x\",\"y\":[49666.666666666664],\"yaxis\":\"y\",\"type\":\"scatter\"},{\"hovertemplate\":\"state=Illinois<br>average stem_percent=%{x}<br>average early_career_pay=%{y}<extra></extra>\",\"legendgroup\":\"Illinois\",\"marker\":{\"color\":\"#00cc96\",\"symbol\":\"circle\"},\"mode\":\"markers\",\"name\":\"Illinois\",\"orientation\":\"v\",\"showlegend\":true,\"x\":[20.63157894736842],\"xaxis\":\"x\",\"y\":[55763.15789473684],\"yaxis\":\"y\",\"type\":\"scatter\"},{\"hovertemplate\":\"state=Indiana<br>average stem_percent=%{x}<br>average early_career_pay=%{y}<extra></extra>\",\"legendgroup\":\"Indiana\",\"marker\":{\"color\":\"#ab63fa\",\"symbol\":\"circle\"},\"mode\":\"markers\",\"name\":\"Indiana\",\"orientation\":\"v\",\"showlegend\":true,\"x\":[22.944444444444443],\"xaxis\":\"x\",\"y\":[52938.88888888889],\"yaxis\":\"y\",\"type\":\"scatter\"},{\"hovertemplate\":\"state=Iowa<br>average stem_percent=%{x}<br>average early_career_pay=%{y}<extra></extra>\",\"legendgroup\":\"Iowa\",\"marker\":{\"color\":\"#FFA15A\",\"symbol\":\"circle\"},\"mode\":\"markers\",\"name\":\"Iowa\",\"orientation\":\"v\",\"showlegend\":true,\"x\":[16.333333333333332],\"xaxis\":\"x\",\"y\":[48314.28571428572],\"yaxis\":\"y\",\"type\":\"scatter\"},{\"hovertemplate\":\"state=Kansas<br>average stem_percent=%{x}<br>average early_career_pay=%{y}<extra></extra>\",\"legendgroup\":\"Kansas\",\"marker\":{\"color\":\"#19d3f3\",\"symbol\":\"circle\"},\"mode\":\"markers\",\"name\":\"Kansas\",\"orientation\":\"v\",\"showlegend\":true,\"x\":[9.764705882352942],\"xaxis\":\"x\",\"y\":[46482.35294117647],\"yaxis\":\"y\",\"type\":\"scatter\"},{\"hovertemplate\":\"state=Kentucky<br>average stem_percent=%{x}<br>average early_career_pay=%{y}<extra></extra>\",\"legendgroup\":\"Kentucky\",\"marker\":{\"color\":\"#FF6692\",\"symbol\":\"circle\"},\"mode\":\"markers\",\"name\":\"Kentucky\",\"orientation\":\"v\",\"showlegend\":true,\"x\":[10.708333333333334],\"xaxis\":\"x\",\"y\":[43754.166666666664],\"yaxis\":\"y\",\"type\":\"scatter\"},{\"hovertemplate\":\"state=Louisiana<br>average stem_percent=%{x}<br>average early_career_pay=%{y}<extra></extra>\",\"legendgroup\":\"Louisiana\",\"marker\":{\"color\":\"#B6E880\",\"symbol\":\"circle\"},\"mode\":\"markers\",\"name\":\"Louisiana\",\"orientation\":\"v\",\"showlegend\":true,\"x\":[14.266666666666667],\"xaxis\":\"x\",\"y\":[46920.0],\"yaxis\":\"y\",\"type\":\"scatter\"},{\"hovertemplate\":\"state=Maine<br>average stem_percent=%{x}<br>average early_career_pay=%{y}<extra></extra>\",\"legendgroup\":\"Maine\",\"marker\":{\"color\":\"#FF97FF\",\"symbol\":\"circle\"},\"mode\":\"markers\",\"name\":\"Maine\",\"orientation\":\"v\",\"showlegend\":true,\"x\":[13.375],\"xaxis\":\"x\",\"y\":[48181.25],\"yaxis\":\"y\",\"type\":\"scatter\"},{\"hovertemplate\":\"state=Maryland<br>average stem_percent=%{x}<br>average early_career_pay=%{y}<extra></extra>\",\"legendgroup\":\"Maryland\",\"marker\":{\"color\":\"#FECB52\",\"symbol\":\"circle\"},\"mode\":\"markers\",\"name\":\"Maryland\",\"orientation\":\"v\",\"showlegend\":true,\"x\":[17.294117647058822],\"xaxis\":\"x\",\"y\":[53041.17647058824],\"yaxis\":\"y\",\"type\":\"scatter\"},{\"hovertemplate\":\"state=Massachusetts<br>average stem_percent=%{x}<br>average early_career_pay=%{y}<extra></extra>\",\"legendgroup\":\"Massachusetts\",\"marker\":{\"color\":\"#636efa\",\"symbol\":\"circle\"},\"mode\":\"markers\",\"name\":\"Massachusetts\",\"orientation\":\"v\",\"showlegend\":true,\"x\":[28.38095238095238],\"xaxis\":\"x\",\"y\":[63519.04761904762],\"yaxis\":\"y\",\"type\":\"scatter\"},{\"hovertemplate\":\"state=Michigan<br>average stem_percent=%{x}<br>average early_career_pay=%{y}<extra></extra>\",\"legendgroup\":\"Michigan\",\"marker\":{\"color\":\"#EF553B\",\"symbol\":\"circle\"},\"mode\":\"markers\",\"name\":\"Michigan\",\"orientation\":\"v\",\"showlegend\":true,\"x\":[21.772727272727273],\"xaxis\":\"x\",\"y\":[51695.454545454544],\"yaxis\":\"y\",\"type\":\"scatter\"},{\"hovertemplate\":\"state=Minnesota<br>average stem_percent=%{x}<br>average early_career_pay=%{y}<extra></extra>\",\"legendgroup\":\"Minnesota\",\"marker\":{\"color\":\"#00cc96\",\"symbol\":\"circle\"},\"mode\":\"markers\",\"name\":\"Minnesota\",\"orientation\":\"v\",\"showlegend\":true,\"x\":[16.666666666666668],\"xaxis\":\"x\",\"y\":[51233.333333333336],\"yaxis\":\"y\",\"type\":\"scatter\"},{\"hovertemplate\":\"state=Mississippi<br>average stem_percent=%{x}<br>average early_career_pay=%{y}<extra></extra>\",\"legendgroup\":\"Mississippi\",\"marker\":{\"color\":\"#ab63fa\",\"symbol\":\"circle\"},\"mode\":\"markers\",\"name\":\"Mississippi\",\"orientation\":\"v\",\"showlegend\":true,\"x\":[14.642857142857142],\"xaxis\":\"x\",\"y\":[42042.857142857145],\"yaxis\":\"y\",\"type\":\"scatter\"},{\"hovertemplate\":\"state=Missouri<br>average stem_percent=%{x}<br>average early_career_pay=%{y}<extra></extra>\",\"legendgroup\":\"Missouri\",\"marker\":{\"color\":\"#FFA15A\",\"symbol\":\"circle\"},\"mode\":\"markers\",\"name\":\"Missouri\",\"orientation\":\"v\",\"showlegend\":true,\"x\":[15.705882352941176],\"xaxis\":\"x\",\"y\":[48023.529411764706],\"yaxis\":\"y\",\"type\":\"scatter\"},{\"hovertemplate\":\"state=Montana<br>average stem_percent=%{x}<br>average early_career_pay=%{y}<extra></extra>\",\"legendgroup\":\"Montana\",\"marker\":{\"color\":\"#19d3f3\",\"symbol\":\"circle\"},\"mode\":\"markers\",\"name\":\"Montana\",\"orientation\":\"v\",\"showlegend\":true,\"x\":[32.25],\"xaxis\":\"x\",\"y\":[52275.0],\"yaxis\":\"y\",\"type\":\"scatter\"},{\"hovertemplate\":\"state=Nebraska<br>average stem_percent=%{x}<br>average early_career_pay=%{y}<extra></extra>\",\"legendgroup\":\"Nebraska\",\"marker\":{\"color\":\"#FF6692\",\"symbol\":\"circle\"},\"mode\":\"markers\",\"name\":\"Nebraska\",\"orientation\":\"v\",\"showlegend\":true,\"x\":[8.727272727272727],\"xaxis\":\"x\",\"y\":[46790.90909090909],\"yaxis\":\"y\",\"type\":\"scatter\"},{\"hovertemplate\":\"state=Nevada<br>average stem_percent=%{x}<br>average early_career_pay=%{y}<extra></extra>\",\"legendgroup\":\"Nevada\",\"marker\":{\"color\":\"#B6E880\",\"symbol\":\"circle\"},\"mode\":\"markers\",\"name\":\"Nevada\",\"orientation\":\"v\",\"showlegend\":true,\"x\":[2.0],\"xaxis\":\"x\",\"y\":[54000.0],\"yaxis\":\"y\",\"type\":\"scatter\"},{\"hovertemplate\":\"state=New Hampshire<br>average stem_percent=%{x}<br>average early_career_pay=%{y}<extra></extra>\",\"legendgroup\":\"New Hampshire\",\"marker\":{\"color\":\"#FF97FF\",\"symbol\":\"circle\"},\"mode\":\"markers\",\"name\":\"New Hampshire\",\"orientation\":\"v\",\"showlegend\":true,\"x\":[16.181818181818183],\"xaxis\":\"x\",\"y\":[50545.454545454544],\"yaxis\":\"y\",\"type\":\"scatter\"},{\"hovertemplate\":\"state=New Jersey<br>average stem_percent=%{x}<br>average early_career_pay=%{y}<extra></extra>\",\"legendgroup\":\"New Jersey\",\"marker\":{\"color\":\"#FECB52\",\"symbol\":\"circle\"},\"mode\":\"markers\",\"name\":\"New Jersey\",\"orientation\":\"v\",\"showlegend\":true,\"x\":[20.263157894736842],\"xaxis\":\"x\",\"y\":[54847.36842105263],\"yaxis\":\"y\",\"type\":\"scatter\"},{\"hovertemplate\":\"state=New Mexico<br>average stem_percent=%{x}<br>average early_career_pay=%{y}<extra></extra>\",\"legendgroup\":\"New Mexico\",\"marker\":{\"color\":\"#636efa\",\"symbol\":\"circle\"},\"mode\":\"markers\",\"name\":\"New Mexico\",\"orientation\":\"v\",\"showlegend\":true,\"x\":[33.0],\"xaxis\":\"x\",\"y\":[48933.333333333336],\"yaxis\":\"y\",\"type\":\"scatter\"},{\"hovertemplate\":\"state=New York<br>average stem_percent=%{x}<br>average early_career_pay=%{y}<extra></extra>\",\"legendgroup\":\"New York\",\"marker\":{\"color\":\"#EF553B\",\"symbol\":\"circle\"},\"mode\":\"markers\",\"name\":\"New York\",\"orientation\":\"v\",\"showlegend\":true,\"x\":[28.5625],\"xaxis\":\"x\",\"y\":[65881.25],\"yaxis\":\"y\",\"type\":\"scatter\"},{\"hovertemplate\":\"state=North Carolina<br>average stem_percent=%{x}<br>average early_career_pay=%{y}<extra></extra>\",\"legendgroup\":\"North Carolina\",\"marker\":{\"color\":\"#00cc96\",\"symbol\":\"circle\"},\"mode\":\"markers\",\"name\":\"North Carolina\",\"orientation\":\"v\",\"showlegend\":true,\"x\":[11.15],\"xaxis\":\"x\",\"y\":[49695.0],\"yaxis\":\"y\",\"type\":\"scatter\"},{\"hovertemplate\":\"state=North Dakota<br>average stem_percent=%{x}<br>average early_career_pay=%{y}<extra></extra>\",\"legendgroup\":\"North Dakota\",\"marker\":{\"color\":\"#ab63fa\",\"symbol\":\"circle\"},\"mode\":\"markers\",\"name\":\"North Dakota\",\"orientation\":\"v\",\"showlegend\":true,\"x\":[8.285714285714286],\"xaxis\":\"x\",\"y\":[46042.857142857145],\"yaxis\":\"y\",\"type\":\"scatter\"},{\"hovertemplate\":\"state=Ohio<br>average stem_percent=%{x}<br>average early_career_pay=%{y}<extra></extra>\",\"legendgroup\":\"Ohio\",\"marker\":{\"color\":\"#FFA15A\",\"symbol\":\"circle\"},\"mode\":\"markers\",\"name\":\"Ohio\",\"orientation\":\"v\",\"showlegend\":true,\"x\":[21.533333333333335],\"xaxis\":\"x\",\"y\":[53613.333333333336],\"yaxis\":\"y\",\"type\":\"scatter\"},{\"hovertemplate\":\"state=Oklahoma<br>average stem_percent=%{x}<br>average early_career_pay=%{y}<extra></extra>\",\"legendgroup\":\"Oklahoma\",\"marker\":{\"color\":\"#19d3f3\",\"symbol\":\"circle\"},\"mode\":\"markers\",\"name\":\"Oklahoma\",\"orientation\":\"v\",\"showlegend\":true,\"x\":[11.421052631578947],\"xaxis\":\"x\",\"y\":[45105.26315789474],\"yaxis\":\"y\",\"type\":\"scatter\"},{\"hovertemplate\":\"state=Oregon<br>average stem_percent=%{x}<br>average early_career_pay=%{y}<extra></extra>\",\"legendgroup\":\"Oregon\",\"marker\":{\"color\":\"#FF6692\",\"symbol\":\"circle\"},\"mode\":\"markers\",\"name\":\"Oregon\",\"orientation\":\"v\",\"showlegend\":true,\"x\":[12.11111111111111],\"xaxis\":\"x\",\"y\":[50694.444444444445],\"yaxis\":\"y\",\"type\":\"scatter\"},{\"hovertemplate\":\"state=Pennsylvania<br>average stem_percent=%{x}<br>average early_career_pay=%{y}<extra></extra>\",\"legendgroup\":\"Pennsylvania\",\"marker\":{\"color\":\"#B6E880\",\"symbol\":\"circle\"},\"mode\":\"markers\",\"name\":\"Pennsylvania\",\"orientation\":\"v\",\"showlegend\":true,\"x\":[28.63157894736842],\"xaxis\":\"x\",\"y\":[61436.84210526316],\"yaxis\":\"y\",\"type\":\"scatter\"},{\"hovertemplate\":\"state=Rhode Island<br>average stem_percent=%{x}<br>average early_career_pay=%{y}<extra></extra>\",\"legendgroup\":\"Rhode Island\",\"marker\":{\"color\":\"#FF97FF\",\"symbol\":\"circle\"},\"mode\":\"markers\",\"name\":\"Rhode Island\",\"orientation\":\"v\",\"showlegend\":true,\"x\":[13.0],\"xaxis\":\"x\",\"y\":[55822.22222222222],\"yaxis\":\"y\",\"type\":\"scatter\"},{\"hovertemplate\":\"state=South Carolina<br>average stem_percent=%{x}<br>average early_career_pay=%{y}<extra></extra>\",\"legendgroup\":\"South Carolina\",\"marker\":{\"color\":\"#FECB52\",\"symbol\":\"circle\"},\"mode\":\"markers\",\"name\":\"South Carolina\",\"orientation\":\"v\",\"showlegend\":true,\"x\":[14.777777777777779],\"xaxis\":\"x\",\"y\":[44716.666666666664],\"yaxis\":\"y\",\"type\":\"scatter\"},{\"hovertemplate\":\"state=South Dakota<br>average stem_percent=%{x}<br>average early_career_pay=%{y}<extra></extra>\",\"legendgroup\":\"South Dakota\",\"marker\":{\"color\":\"#636efa\",\"symbol\":\"circle\"},\"mode\":\"markers\",\"name\":\"South Dakota\",\"orientation\":\"v\",\"showlegend\":true,\"x\":[22.8],\"xaxis\":\"x\",\"y\":[47110.0],\"yaxis\":\"y\",\"type\":\"scatter\"},{\"hovertemplate\":\"state=Tennessee<br>average stem_percent=%{x}<br>average early_career_pay=%{y}<extra></extra>\",\"legendgroup\":\"Tennessee\",\"marker\":{\"color\":\"#EF553B\",\"symbol\":\"circle\"},\"mode\":\"markers\",\"name\":\"Tennessee\",\"orientation\":\"v\",\"showlegend\":true,\"x\":[12.75],\"xaxis\":\"x\",\"y\":[47370.0],\"yaxis\":\"y\",\"type\":\"scatter\"},{\"hovertemplate\":\"state=Texas<br>average stem_percent=%{x}<br>average early_career_pay=%{y}<extra></extra>\",\"legendgroup\":\"Texas\",\"marker\":{\"color\":\"#00cc96\",\"symbol\":\"circle\"},\"mode\":\"markers\",\"name\":\"Texas\",\"orientation\":\"v\",\"showlegend\":true,\"x\":[20.055555555555557],\"xaxis\":\"x\",\"y\":[56500.0],\"yaxis\":\"y\",\"type\":\"scatter\"},{\"hovertemplate\":\"state=Utah<br>average stem_percent=%{x}<br>average early_career_pay=%{y}<extra></extra>\",\"legendgroup\":\"Utah\",\"marker\":{\"color\":\"#ab63fa\",\"symbol\":\"circle\"},\"mode\":\"markers\",\"name\":\"Utah\",\"orientation\":\"v\",\"showlegend\":true,\"x\":[12.0],\"xaxis\":\"x\",\"y\":[52183.333333333336],\"yaxis\":\"y\",\"type\":\"scatter\"},{\"hovertemplate\":\"state=Vermont<br>average stem_percent=%{x}<br>average early_career_pay=%{y}<extra></extra>\",\"legendgroup\":\"Vermont\",\"marker\":{\"color\":\"#FFA15A\",\"symbol\":\"circle\"},\"mode\":\"markers\",\"name\":\"Vermont\",\"orientation\":\"v\",\"showlegend\":true,\"x\":[12.272727272727273],\"xaxis\":\"x\",\"y\":[49445.454545454544],\"yaxis\":\"y\",\"type\":\"scatter\"},{\"hovertemplate\":\"state=Virginia<br>average stem_percent=%{x}<br>average early_career_pay=%{y}<extra></extra>\",\"legendgroup\":\"Virginia\",\"marker\":{\"color\":\"#19d3f3\",\"symbol\":\"circle\"},\"mode\":\"markers\",\"name\":\"Virginia\",\"orientation\":\"v\",\"showlegend\":true,\"x\":[17.727272727272727],\"xaxis\":\"x\",\"y\":[53718.181818181816],\"yaxis\":\"y\",\"type\":\"scatter\"},{\"hovertemplate\":\"state=Washington<br>average stem_percent=%{x}<br>average early_career_pay=%{y}<extra></extra>\",\"legendgroup\":\"Washington\",\"marker\":{\"color\":\"#FF6692\",\"symbol\":\"circle\"},\"mode\":\"markers\",\"name\":\"Washington\",\"orientation\":\"v\",\"showlegend\":true,\"x\":[16.625],\"xaxis\":\"x\",\"y\":[53450.0],\"yaxis\":\"y\",\"type\":\"scatter\"},{\"hovertemplate\":\"state=West Virginia<br>average stem_percent=%{x}<br>average early_career_pay=%{y}<extra></extra>\",\"legendgroup\":\"West Virginia\",\"marker\":{\"color\":\"#B6E880\",\"symbol\":\"circle\"},\"mode\":\"markers\",\"name\":\"West Virginia\",\"orientation\":\"v\",\"showlegend\":true,\"x\":[10.4],\"xaxis\":\"x\",\"y\":[44333.333333333336],\"yaxis\":\"y\",\"type\":\"scatter\"},{\"hovertemplate\":\"state=Wisconsin<br>average stem_percent=%{x}<br>average early_career_pay=%{y}<extra></extra>\",\"legendgroup\":\"Wisconsin\",\"marker\":{\"color\":\"#FF97FF\",\"symbol\":\"circle\"},\"mode\":\"markers\",\"name\":\"Wisconsin\",\"orientation\":\"v\",\"showlegend\":true,\"x\":[18.363636363636363],\"xaxis\":\"x\",\"y\":[50681.818181818184],\"yaxis\":\"y\",\"type\":\"scatter\"},{\"hovertemplate\":\"state=Wyoming<br>average stem_percent=%{x}<br>average early_career_pay=%{y}<extra></extra>\",\"legendgroup\":\"Wyoming\",\"marker\":{\"color\":\"#FECB52\",\"symbol\":\"circle\"},\"mode\":\"markers\",\"name\":\"Wyoming\",\"orientation\":\"v\",\"showlegend\":true,\"x\":[25.0],\"xaxis\":\"x\",\"y\":[52400.0],\"yaxis\":\"y\",\"type\":\"scatter\"},{\"hovertemplate\":\"<b>OLS trendline</b><br>average early_career_pay = 478.507 * average stem_percent + 43091.8<br>R<sup>2</sup>=0.347354<br><br>average stem_percent=%{x}<br>average early_career_pay=%{y} <b>(trend)</b><extra></extra>\",\"legendgroup\":\"Overall Trendline\",\"line\":{\"color\":\"#636efa\"},\"mode\":\"lines\",\"name\":\"Overall Trendline\",\"showlegend\":true,\"x\":[2.0,8.285714285714286,8.727272727272727,9.764705882352942,10.4,10.708333333333334,11.15,11.421052631578947,11.666666666666666,12.0,12.0,12.11111111111111,12.272727272727273,12.333333333333334,12.4,12.6,12.75,13.0,13.375,14.047619047619047,14.071428571428571,14.266666666666667,14.38888888888889,14.636363636363637,14.642857142857142,14.777777777777779,15.705882352941176,15.88888888888889,16.181818181818183,16.333333333333332,16.625,16.666666666666668,17.294117647058822,17.727272727272727,18.363636363636363,20.055555555555557,20.263157894736842,20.63157894736842,20.692307692307693,21.533333333333335,21.772727272727273,22.8,22.944444444444443,25.0,28.38095238095238,28.5625,28.63157894736842,30.615384615384617,32.25,33.0],\"y\":[44048.785584220146,47056.541490488235,47267.83012853186,47764.24876255132,48068.24120441477,48215.780746029064,48427.12117050358,48556.82164947603,48674.34959158698,48833.85179873756,48833.85179873756,48887.01920112108,48964.35360458803,48993.35400588814,49025.25444731826,49120.955771608606,49192.73176482636,49312.358420189295,49491.798403233704,49813.65107123398,49825.04408603045,49918.4668073615,49976.95094998338,50095.36925529215,50098.47644114573,50163.03685832573,50607.14104294107,50694.710882160995,50834.87948844484,50907.380491695105,51046.94492295186,51066.882698845686,51367.122147599715,51574.38972159753,51878.893935248634,52688.48847154325,52787.82756547036,52964.1194786368,52993.178585202695,53395.61492324415,53510.166508379574,54001.72331041636,54070.84093351495,55054.43787761019,56672.24597870893,56759.11771653202,56792.17245025072,57741.436598069966,58523.61088313531,58882.490849224116],\"type\":\"scatter\",\"xaxis\":\"x\",\"yaxis\":\"y\"}],                        {\"template\":{\"data\":{\"bar\":[{\"error_x\":{\"color\":\"#2a3f5f\"},\"error_y\":{\"color\":\"#2a3f5f\"},\"marker\":{\"line\":{\"color\":\"#E5ECF6\",\"width\":0.5},\"pattern\":{\"fillmode\":\"overlay\",\"size\":10,\"solidity\":0.2}},\"type\":\"bar\"}],\"barpolar\":[{\"marker\":{\"line\":{\"color\":\"#E5ECF6\",\"width\":0.5},\"pattern\":{\"fillmode\":\"overlay\",\"size\":10,\"solidity\":0.2}},\"type\":\"barpolar\"}],\"carpet\":[{\"aaxis\":{\"endlinecolor\":\"#2a3f5f\",\"gridcolor\":\"white\",\"linecolor\":\"white\",\"minorgridcolor\":\"white\",\"startlinecolor\":\"#2a3f5f\"},\"baxis\":{\"endlinecolor\":\"#2a3f5f\",\"gridcolor\":\"white\",\"linecolor\":\"white\",\"minorgridcolor\":\"white\",\"startlinecolor\":\"#2a3f5f\"},\"type\":\"carpet\"}],\"choropleth\":[{\"colorbar\":{\"outlinewidth\":0,\"ticks\":\"\"},\"type\":\"choropleth\"}],\"contour\":[{\"colorbar\":{\"outlinewidth\":0,\"ticks\":\"\"},\"colorscale\":[[0.0,\"#0d0887\"],[0.1111111111111111,\"#46039f\"],[0.2222222222222222,\"#7201a8\"],[0.3333333333333333,\"#9c179e\"],[0.4444444444444444,\"#bd3786\"],[0.5555555555555556,\"#d8576b\"],[0.6666666666666666,\"#ed7953\"],[0.7777777777777778,\"#fb9f3a\"],[0.8888888888888888,\"#fdca26\"],[1.0,\"#f0f921\"]],\"type\":\"contour\"}],\"contourcarpet\":[{\"colorbar\":{\"outlinewidth\":0,\"ticks\":\"\"},\"type\":\"contourcarpet\"}],\"heatmap\":[{\"colorbar\":{\"outlinewidth\":0,\"ticks\":\"\"},\"colorscale\":[[0.0,\"#0d0887\"],[0.1111111111111111,\"#46039f\"],[0.2222222222222222,\"#7201a8\"],[0.3333333333333333,\"#9c179e\"],[0.4444444444444444,\"#bd3786\"],[0.5555555555555556,\"#d8576b\"],[0.6666666666666666,\"#ed7953\"],[0.7777777777777778,\"#fb9f3a\"],[0.8888888888888888,\"#fdca26\"],[1.0,\"#f0f921\"]],\"type\":\"heatmap\"}],\"heatmapgl\":[{\"colorbar\":{\"outlinewidth\":0,\"ticks\":\"\"},\"colorscale\":[[0.0,\"#0d0887\"],[0.1111111111111111,\"#46039f\"],[0.2222222222222222,\"#7201a8\"],[0.3333333333333333,\"#9c179e\"],[0.4444444444444444,\"#bd3786\"],[0.5555555555555556,\"#d8576b\"],[0.6666666666666666,\"#ed7953\"],[0.7777777777777778,\"#fb9f3a\"],[0.8888888888888888,\"#fdca26\"],[1.0,\"#f0f921\"]],\"type\":\"heatmapgl\"}],\"histogram\":[{\"marker\":{\"pattern\":{\"fillmode\":\"overlay\",\"size\":10,\"solidity\":0.2}},\"type\":\"histogram\"}],\"histogram2d\":[{\"colorbar\":{\"outlinewidth\":0,\"ticks\":\"\"},\"colorscale\":[[0.0,\"#0d0887\"],[0.1111111111111111,\"#46039f\"],[0.2222222222222222,\"#7201a8\"],[0.3333333333333333,\"#9c179e\"],[0.4444444444444444,\"#bd3786\"],[0.5555555555555556,\"#d8576b\"],[0.6666666666666666,\"#ed7953\"],[0.7777777777777778,\"#fb9f3a\"],[0.8888888888888888,\"#fdca26\"],[1.0,\"#f0f921\"]],\"type\":\"histogram2d\"}],\"histogram2dcontour\":[{\"colorbar\":{\"outlinewidth\":0,\"ticks\":\"\"},\"colorscale\":[[0.0,\"#0d0887\"],[0.1111111111111111,\"#46039f\"],[0.2222222222222222,\"#7201a8\"],[0.3333333333333333,\"#9c179e\"],[0.4444444444444444,\"#bd3786\"],[0.5555555555555556,\"#d8576b\"],[0.6666666666666666,\"#ed7953\"],[0.7777777777777778,\"#fb9f3a\"],[0.8888888888888888,\"#fdca26\"],[1.0,\"#f0f921\"]],\"type\":\"histogram2dcontour\"}],\"mesh3d\":[{\"colorbar\":{\"outlinewidth\":0,\"ticks\":\"\"},\"type\":\"mesh3d\"}],\"parcoords\":[{\"line\":{\"colorbar\":{\"outlinewidth\":0,\"ticks\":\"\"}},\"type\":\"parcoords\"}],\"pie\":[{\"automargin\":true,\"type\":\"pie\"}],\"scatter\":[{\"marker\":{\"colorbar\":{\"outlinewidth\":0,\"ticks\":\"\"}},\"type\":\"scatter\"}],\"scatter3d\":[{\"line\":{\"colorbar\":{\"outlinewidth\":0,\"ticks\":\"\"}},\"marker\":{\"colorbar\":{\"outlinewidth\":0,\"ticks\":\"\"}},\"type\":\"scatter3d\"}],\"scattercarpet\":[{\"marker\":{\"colorbar\":{\"outlinewidth\":0,\"ticks\":\"\"}},\"type\":\"scattercarpet\"}],\"scattergeo\":[{\"marker\":{\"colorbar\":{\"outlinewidth\":0,\"ticks\":\"\"}},\"type\":\"scattergeo\"}],\"scattergl\":[{\"marker\":{\"colorbar\":{\"outlinewidth\":0,\"ticks\":\"\"}},\"type\":\"scattergl\"}],\"scattermapbox\":[{\"marker\":{\"colorbar\":{\"outlinewidth\":0,\"ticks\":\"\"}},\"type\":\"scattermapbox\"}],\"scatterpolar\":[{\"marker\":{\"colorbar\":{\"outlinewidth\":0,\"ticks\":\"\"}},\"type\":\"scatterpolar\"}],\"scatterpolargl\":[{\"marker\":{\"colorbar\":{\"outlinewidth\":0,\"ticks\":\"\"}},\"type\":\"scatterpolargl\"}],\"scatterternary\":[{\"marker\":{\"colorbar\":{\"outlinewidth\":0,\"ticks\":\"\"}},\"type\":\"scatterternary\"}],\"surface\":[{\"colorbar\":{\"outlinewidth\":0,\"ticks\":\"\"},\"colorscale\":[[0.0,\"#0d0887\"],[0.1111111111111111,\"#46039f\"],[0.2222222222222222,\"#7201a8\"],[0.3333333333333333,\"#9c179e\"],[0.4444444444444444,\"#bd3786\"],[0.5555555555555556,\"#d8576b\"],[0.6666666666666666,\"#ed7953\"],[0.7777777777777778,\"#fb9f3a\"],[0.8888888888888888,\"#fdca26\"],[1.0,\"#f0f921\"]],\"type\":\"surface\"}],\"table\":[{\"cells\":{\"fill\":{\"color\":\"#EBF0F8\"},\"line\":{\"color\":\"white\"}},\"header\":{\"fill\":{\"color\":\"#C8D4E3\"},\"line\":{\"color\":\"white\"}},\"type\":\"table\"}]},\"layout\":{\"annotationdefaults\":{\"arrowcolor\":\"#2a3f5f\",\"arrowhead\":0,\"arrowwidth\":1},\"autotypenumbers\":\"strict\",\"coloraxis\":{\"colorbar\":{\"outlinewidth\":0,\"ticks\":\"\"}},\"colorscale\":{\"diverging\":[[0,\"#8e0152\"],[0.1,\"#c51b7d\"],[0.2,\"#de77ae\"],[0.3,\"#f1b6da\"],[0.4,\"#fde0ef\"],[0.5,\"#f7f7f7\"],[0.6,\"#e6f5d0\"],[0.7,\"#b8e186\"],[0.8,\"#7fbc41\"],[0.9,\"#4d9221\"],[1,\"#276419\"]],\"sequential\":[[0.0,\"#0d0887\"],[0.1111111111111111,\"#46039f\"],[0.2222222222222222,\"#7201a8\"],[0.3333333333333333,\"#9c179e\"],[0.4444444444444444,\"#bd3786\"],[0.5555555555555556,\"#d8576b\"],[0.6666666666666666,\"#ed7953\"],[0.7777777777777778,\"#fb9f3a\"],[0.8888888888888888,\"#fdca26\"],[1.0,\"#f0f921\"]],\"sequentialminus\":[[0.0,\"#0d0887\"],[0.1111111111111111,\"#46039f\"],[0.2222222222222222,\"#7201a8\"],[0.3333333333333333,\"#9c179e\"],[0.4444444444444444,\"#bd3786\"],[0.5555555555555556,\"#d8576b\"],[0.6666666666666666,\"#ed7953\"],[0.7777777777777778,\"#fb9f3a\"],[0.8888888888888888,\"#fdca26\"],[1.0,\"#f0f921\"]]},\"colorway\":[\"#636efa\",\"#EF553B\",\"#00cc96\",\"#ab63fa\",\"#FFA15A\",\"#19d3f3\",\"#FF6692\",\"#B6E880\",\"#FF97FF\",\"#FECB52\"],\"font\":{\"color\":\"#2a3f5f\"},\"geo\":{\"bgcolor\":\"white\",\"lakecolor\":\"white\",\"landcolor\":\"#E5ECF6\",\"showlakes\":true,\"showland\":true,\"subunitcolor\":\"white\"},\"hoverlabel\":{\"align\":\"left\"},\"hovermode\":\"closest\",\"mapbox\":{\"style\":\"light\"},\"paper_bgcolor\":\"white\",\"plot_bgcolor\":\"#E5ECF6\",\"polar\":{\"angularaxis\":{\"gridcolor\":\"white\",\"linecolor\":\"white\",\"ticks\":\"\"},\"bgcolor\":\"#E5ECF6\",\"radialaxis\":{\"gridcolor\":\"white\",\"linecolor\":\"white\",\"ticks\":\"\"}},\"scene\":{\"xaxis\":{\"backgroundcolor\":\"#E5ECF6\",\"gridcolor\":\"white\",\"gridwidth\":2,\"linecolor\":\"white\",\"showbackground\":true,\"ticks\":\"\",\"zerolinecolor\":\"white\"},\"yaxis\":{\"backgroundcolor\":\"#E5ECF6\",\"gridcolor\":\"white\",\"gridwidth\":2,\"linecolor\":\"white\",\"showbackground\":true,\"ticks\":\"\",\"zerolinecolor\":\"white\"},\"zaxis\":{\"backgroundcolor\":\"#E5ECF6\",\"gridcolor\":\"white\",\"gridwidth\":2,\"linecolor\":\"white\",\"showbackground\":true,\"ticks\":\"\",\"zerolinecolor\":\"white\"}},\"shapedefaults\":{\"line\":{\"color\":\"#2a3f5f\"}},\"ternary\":{\"aaxis\":{\"gridcolor\":\"white\",\"linecolor\":\"white\",\"ticks\":\"\"},\"baxis\":{\"gridcolor\":\"white\",\"linecolor\":\"white\",\"ticks\":\"\"},\"bgcolor\":\"#E5ECF6\",\"caxis\":{\"gridcolor\":\"white\",\"linecolor\":\"white\",\"ticks\":\"\"}},\"title\":{\"x\":0.05},\"xaxis\":{\"automargin\":true,\"gridcolor\":\"white\",\"linecolor\":\"white\",\"ticks\":\"\",\"title\":{\"standoff\":15},\"zerolinecolor\":\"white\",\"zerolinewidth\":2},\"yaxis\":{\"automargin\":true,\"gridcolor\":\"white\",\"linecolor\":\"white\",\"ticks\":\"\",\"title\":{\"standoff\":15},\"zerolinecolor\":\"white\",\"zerolinewidth\":2}}},\"xaxis\":{\"anchor\":\"y\",\"domain\":[0.0,1.0],\"title\":{\"text\":\"average stem_percent\"}},\"yaxis\":{\"anchor\":\"x\",\"domain\":[0.0,1.0],\"title\":{\"text\":\"average early_career_pay\"}},\"legend\":{\"title\":{\"text\":\"state\"},\"tracegroupgap\":0},\"title\":{\"text\":\"Average In State Tuition vs Average % of Students Graduating with STEM Degrees\"}},                        {\"responsive\": true}                    ).then(function(){\n",
       "                            \n",
       "var gd = document.getElementById('cf250939-581c-4579-bc9e-bbd126521b1c');\n",
       "var x = new MutationObserver(function (mutations, observer) {{\n",
       "        var display = window.getComputedStyle(gd).display;\n",
       "        if (!display || display === 'none') {{\n",
       "            console.log([gd, 'removed!']);\n",
       "            Plotly.purge(gd);\n",
       "            observer.disconnect();\n",
       "        }}\n",
       "}});\n",
       "\n",
       "// Listen for the removal of the full notebook cells\n",
       "var notebookContainer = gd.closest('#notebook-container');\n",
       "if (notebookContainer) {{\n",
       "    x.observe(notebookContainer, {childList: true});\n",
       "}}\n",
       "\n",
       "// Listen for the clearing of the current output cell\n",
       "var outputEl = gd.closest('.output');\n",
       "if (outputEl) {{\n",
       "    x.observe(outputEl, {childList: true});\n",
       "}}\n",
       "\n",
       "                        })                };                });            </script>        </div>"
      ]
     },
     "execution_count": 32,
     "metadata": {
     },
     "output_type": "execute_result"
    }
   ],
   "source": [
    "fig = px.scatter(state_stats_extras, x='average stem_percent', y='average early_career_pay',color='state',\n",
    "                 trendline=\"ols\", trendline_scope = 'overall',\n",
    "                 title= 'Average In State Tuition vs Average % of Students Graduating with STEM Degrees')\n",
    "\n",
    "fig.show()"
   ]
  },
  {
   "cell_type": "code",
   "execution_count": 33,
   "metadata": {
    "collapsed": false
   },
   "outputs": [
    {
     "data": {
      "application/vnd.plotly.v1+json": {
       "config": {
        "plotlyServerURL": "https://plot.ly"
       },
       "data": [
        {
         "coloraxis": "coloraxis",
         "geo": "geo",
         "hovertemplate": "state_code=%{location}<br>four year average in state tuition=%{z}<extra></extra>",
         "locationmode": "USA-states",
         "locations": [
          "AL",
          "AK",
          "AZ",
          "AR",
          "CA",
          "CO",
          "CT",
          "DE",
          "FL",
          "GA",
          "HI",
          "ID",
          "IL",
          "IN",
          "IA",
          "KS",
          "KY",
          "LA",
          "ME",
          "MD",
          "MA",
          "MI",
          "MN",
          "MS",
          "MO",
          "MT",
          "NE",
          "NV",
          "NH",
          "NJ",
          "NM",
          "NY",
          "NC",
          "ND",
          "OH",
          "OK",
          "OR",
          "PA",
          "RI",
          "SC",
          "SD",
          "TN",
          "TX",
          "UT",
          "VT",
          "VA",
          "WA",
          "WV",
          "WI",
          "WY"
         ],
         "name": "",
         "type": "choropleth",
         "z": [
          64536.95238095238,
          48806.666666666664,
          74048,
          68785.42857142857,
          190626.15384615384,
          83676.61538461539,
          135868.44444444444,
          66771.2,
          96486.22222222222,
          84775.63636363637,
          61283.2,
          42009.333333333336,
          136982.31578947368,
          143818.44444444444,
          127574.47619047618,
          84346.35294117648,
          92465.5,
          61872,
          98022,
          126087.5294117647,
          188594.85714285713,
          99996.54545454546,
          133345.33333333334,
          51116,
          86910.35294117648,
          78830,
          78756.72727272728,
          136964,
          120004.36363636363,
          104793.26315789473,
          27658.666666666668,
          178446,
          110695.2,
          44292.57142857143,
          147707.46666666667,
          62780.42105263158,
          107244.44444444444,
          191462.52631578947,
          146248,
          87783.33333333333,
          63994,
          98784.8,
          106221.55555555556,
          27761.333333333332,
          129271.27272727272,
          100446.36363636363,
          123986,
          53202.666666666664,
          95868.54545454546,
          21600
         ]
        }
       ],
       "layout": {
        "coloraxis": {
         "colorbar": {
          "title": {
           "text": "four year average in state tuition"
          }
         },
         "colorscale": [
          [
           0,
           "#0d0887"
          ],
          [
           0.1111111111111111,
           "#46039f"
          ],
          [
           0.2222222222222222,
           "#7201a8"
          ],
          [
           0.3333333333333333,
           "#9c179e"
          ],
          [
           0.4444444444444444,
           "#bd3786"
          ],
          [
           0.5555555555555556,
           "#d8576b"
          ],
          [
           0.6666666666666666,
           "#ed7953"
          ],
          [
           0.7777777777777778,
           "#fb9f3a"
          ],
          [
           0.8888888888888888,
           "#fdca26"
          ],
          [
           1,
           "#f0f921"
          ]
         ]
        },
        "geo": {
         "center": {
         },
         "domain": {
          "x": [
           0,
           1
          ],
          "y": [
           0,
           1
          ]
         },
         "scope": "usa"
        },
        "legend": {
         "tracegroupgap": 0
        },
        "margin": {
         "t": 60
        },
        "template": {
         "data": {
          "bar": [
           {
            "error_x": {
             "color": "#2a3f5f"
            },
            "error_y": {
             "color": "#2a3f5f"
            },
            "marker": {
             "line": {
              "color": "#E5ECF6",
              "width": 0.5
             },
             "pattern": {
              "fillmode": "overlay",
              "size": 10,
              "solidity": 0.2
             }
            },
            "type": "bar"
           }
          ],
          "barpolar": [
           {
            "marker": {
             "line": {
              "color": "#E5ECF6",
              "width": 0.5
             },
             "pattern": {
              "fillmode": "overlay",
              "size": 10,
              "solidity": 0.2
             }
            },
            "type": "barpolar"
           }
          ],
          "carpet": [
           {
            "aaxis": {
             "endlinecolor": "#2a3f5f",
             "gridcolor": "white",
             "linecolor": "white",
             "minorgridcolor": "white",
             "startlinecolor": "#2a3f5f"
            },
            "baxis": {
             "endlinecolor": "#2a3f5f",
             "gridcolor": "white",
             "linecolor": "white",
             "minorgridcolor": "white",
             "startlinecolor": "#2a3f5f"
            },
            "type": "carpet"
           }
          ],
          "choropleth": [
           {
            "colorbar": {
             "outlinewidth": 0,
             "ticks": ""
            },
            "type": "choropleth"
           }
          ],
          "contour": [
           {
            "colorbar": {
             "outlinewidth": 0,
             "ticks": ""
            },
            "colorscale": [
             [
              0,
              "#0d0887"
             ],
             [
              0.1111111111111111,
              "#46039f"
             ],
             [
              0.2222222222222222,
              "#7201a8"
             ],
             [
              0.3333333333333333,
              "#9c179e"
             ],
             [
              0.4444444444444444,
              "#bd3786"
             ],
             [
              0.5555555555555556,
              "#d8576b"
             ],
             [
              0.6666666666666666,
              "#ed7953"
             ],
             [
              0.7777777777777778,
              "#fb9f3a"
             ],
             [
              0.8888888888888888,
              "#fdca26"
             ],
             [
              1,
              "#f0f921"
             ]
            ],
            "type": "contour"
           }
          ],
          "contourcarpet": [
           {
            "colorbar": {
             "outlinewidth": 0,
             "ticks": ""
            },
            "type": "contourcarpet"
           }
          ],
          "heatmap": [
           {
            "colorbar": {
             "outlinewidth": 0,
             "ticks": ""
            },
            "colorscale": [
             [
              0,
              "#0d0887"
             ],
             [
              0.1111111111111111,
              "#46039f"
             ],
             [
              0.2222222222222222,
              "#7201a8"
             ],
             [
              0.3333333333333333,
              "#9c179e"
             ],
             [
              0.4444444444444444,
              "#bd3786"
             ],
             [
              0.5555555555555556,
              "#d8576b"
             ],
             [
              0.6666666666666666,
              "#ed7953"
             ],
             [
              0.7777777777777778,
              "#fb9f3a"
             ],
             [
              0.8888888888888888,
              "#fdca26"
             ],
             [
              1,
              "#f0f921"
             ]
            ],
            "type": "heatmap"
           }
          ],
          "heatmapgl": [
           {
            "colorbar": {
             "outlinewidth": 0,
             "ticks": ""
            },
            "colorscale": [
             [
              0,
              "#0d0887"
             ],
             [
              0.1111111111111111,
              "#46039f"
             ],
             [
              0.2222222222222222,
              "#7201a8"
             ],
             [
              0.3333333333333333,
              "#9c179e"
             ],
             [
              0.4444444444444444,
              "#bd3786"
             ],
             [
              0.5555555555555556,
              "#d8576b"
             ],
             [
              0.6666666666666666,
              "#ed7953"
             ],
             [
              0.7777777777777778,
              "#fb9f3a"
             ],
             [
              0.8888888888888888,
              "#fdca26"
             ],
             [
              1,
              "#f0f921"
             ]
            ],
            "type": "heatmapgl"
           }
          ],
          "histogram": [
           {
            "marker": {
             "pattern": {
              "fillmode": "overlay",
              "size": 10,
              "solidity": 0.2
             }
            },
            "type": "histogram"
           }
          ],
          "histogram2d": [
           {
            "colorbar": {
             "outlinewidth": 0,
             "ticks": ""
            },
            "colorscale": [
             [
              0,
              "#0d0887"
             ],
             [
              0.1111111111111111,
              "#46039f"
             ],
             [
              0.2222222222222222,
              "#7201a8"
             ],
             [
              0.3333333333333333,
              "#9c179e"
             ],
             [
              0.4444444444444444,
              "#bd3786"
             ],
             [
              0.5555555555555556,
              "#d8576b"
             ],
             [
              0.6666666666666666,
              "#ed7953"
             ],
             [
              0.7777777777777778,
              "#fb9f3a"
             ],
             [
              0.8888888888888888,
              "#fdca26"
             ],
             [
              1,
              "#f0f921"
             ]
            ],
            "type": "histogram2d"
           }
          ],
          "histogram2dcontour": [
           {
            "colorbar": {
             "outlinewidth": 0,
             "ticks": ""
            },
            "colorscale": [
             [
              0,
              "#0d0887"
             ],
             [
              0.1111111111111111,
              "#46039f"
             ],
             [
              0.2222222222222222,
              "#7201a8"
             ],
             [
              0.3333333333333333,
              "#9c179e"
             ],
             [
              0.4444444444444444,
              "#bd3786"
             ],
             [
              0.5555555555555556,
              "#d8576b"
             ],
             [
              0.6666666666666666,
              "#ed7953"
             ],
             [
              0.7777777777777778,
              "#fb9f3a"
             ],
             [
              0.8888888888888888,
              "#fdca26"
             ],
             [
              1,
              "#f0f921"
             ]
            ],
            "type": "histogram2dcontour"
           }
          ],
          "mesh3d": [
           {
            "colorbar": {
             "outlinewidth": 0,
             "ticks": ""
            },
            "type": "mesh3d"
           }
          ],
          "parcoords": [
           {
            "line": {
             "colorbar": {
              "outlinewidth": 0,
              "ticks": ""
             }
            },
            "type": "parcoords"
           }
          ],
          "pie": [
           {
            "automargin": true,
            "type": "pie"
           }
          ],
          "scatter": [
           {
            "marker": {
             "colorbar": {
              "outlinewidth": 0,
              "ticks": ""
             }
            },
            "type": "scatter"
           }
          ],
          "scatter3d": [
           {
            "line": {
             "colorbar": {
              "outlinewidth": 0,
              "ticks": ""
             }
            },
            "marker": {
             "colorbar": {
              "outlinewidth": 0,
              "ticks": ""
             }
            },
            "type": "scatter3d"
           }
          ],
          "scattercarpet": [
           {
            "marker": {
             "colorbar": {
              "outlinewidth": 0,
              "ticks": ""
             }
            },
            "type": "scattercarpet"
           }
          ],
          "scattergeo": [
           {
            "marker": {
             "colorbar": {
              "outlinewidth": 0,
              "ticks": ""
             }
            },
            "type": "scattergeo"
           }
          ],
          "scattergl": [
           {
            "marker": {
             "colorbar": {
              "outlinewidth": 0,
              "ticks": ""
             }
            },
            "type": "scattergl"
           }
          ],
          "scattermapbox": [
           {
            "marker": {
             "colorbar": {
              "outlinewidth": 0,
              "ticks": ""
             }
            },
            "type": "scattermapbox"
           }
          ],
          "scatterpolar": [
           {
            "marker": {
             "colorbar": {
              "outlinewidth": 0,
              "ticks": ""
             }
            },
            "type": "scatterpolar"
           }
          ],
          "scatterpolargl": [
           {
            "marker": {
             "colorbar": {
              "outlinewidth": 0,
              "ticks": ""
             }
            },
            "type": "scatterpolargl"
           }
          ],
          "scatterternary": [
           {
            "marker": {
             "colorbar": {
              "outlinewidth": 0,
              "ticks": ""
             }
            },
            "type": "scatterternary"
           }
          ],
          "surface": [
           {
            "colorbar": {
             "outlinewidth": 0,
             "ticks": ""
            },
            "colorscale": [
             [
              0,
              "#0d0887"
             ],
             [
              0.1111111111111111,
              "#46039f"
             ],
             [
              0.2222222222222222,
              "#7201a8"
             ],
             [
              0.3333333333333333,
              "#9c179e"
             ],
             [
              0.4444444444444444,
              "#bd3786"
             ],
             [
              0.5555555555555556,
              "#d8576b"
             ],
             [
              0.6666666666666666,
              "#ed7953"
             ],
             [
              0.7777777777777778,
              "#fb9f3a"
             ],
             [
              0.8888888888888888,
              "#fdca26"
             ],
             [
              1,
              "#f0f921"
             ]
            ],
            "type": "surface"
           }
          ],
          "table": [
           {
            "cells": {
             "fill": {
              "color": "#EBF0F8"
             },
             "line": {
              "color": "white"
             }
            },
            "header": {
             "fill": {
              "color": "#C8D4E3"
             },
             "line": {
              "color": "white"
             }
            },
            "type": "table"
           }
          ]
         },
         "layout": {
          "annotationdefaults": {
           "arrowcolor": "#2a3f5f",
           "arrowhead": 0,
           "arrowwidth": 1
          },
          "autotypenumbers": "strict",
          "coloraxis": {
           "colorbar": {
            "outlinewidth": 0,
            "ticks": ""
           }
          },
          "colorscale": {
           "diverging": [
            [
             0,
             "#8e0152"
            ],
            [
             0.1,
             "#c51b7d"
            ],
            [
             0.2,
             "#de77ae"
            ],
            [
             0.3,
             "#f1b6da"
            ],
            [
             0.4,
             "#fde0ef"
            ],
            [
             0.5,
             "#f7f7f7"
            ],
            [
             0.6,
             "#e6f5d0"
            ],
            [
             0.7,
             "#b8e186"
            ],
            [
             0.8,
             "#7fbc41"
            ],
            [
             0.9,
             "#4d9221"
            ],
            [
             1,
             "#276419"
            ]
           ],
           "sequential": [
            [
             0,
             "#0d0887"
            ],
            [
             0.1111111111111111,
             "#46039f"
            ],
            [
             0.2222222222222222,
             "#7201a8"
            ],
            [
             0.3333333333333333,
             "#9c179e"
            ],
            [
             0.4444444444444444,
             "#bd3786"
            ],
            [
             0.5555555555555556,
             "#d8576b"
            ],
            [
             0.6666666666666666,
             "#ed7953"
            ],
            [
             0.7777777777777778,
             "#fb9f3a"
            ],
            [
             0.8888888888888888,
             "#fdca26"
            ],
            [
             1,
             "#f0f921"
            ]
           ],
           "sequentialminus": [
            [
             0,
             "#0d0887"
            ],
            [
             0.1111111111111111,
             "#46039f"
            ],
            [
             0.2222222222222222,
             "#7201a8"
            ],
            [
             0.3333333333333333,
             "#9c179e"
            ],
            [
             0.4444444444444444,
             "#bd3786"
            ],
            [
             0.5555555555555556,
             "#d8576b"
            ],
            [
             0.6666666666666666,
             "#ed7953"
            ],
            [
             0.7777777777777778,
             "#fb9f3a"
            ],
            [
             0.8888888888888888,
             "#fdca26"
            ],
            [
             1,
             "#f0f921"
            ]
           ]
          },
          "colorway": [
           "#636efa",
           "#EF553B",
           "#00cc96",
           "#ab63fa",
           "#FFA15A",
           "#19d3f3",
           "#FF6692",
           "#B6E880",
           "#FF97FF",
           "#FECB52"
          ],
          "font": {
           "color": "#2a3f5f"
          },
          "geo": {
           "bgcolor": "white",
           "lakecolor": "white",
           "landcolor": "#E5ECF6",
           "showlakes": true,
           "showland": true,
           "subunitcolor": "white"
          },
          "hoverlabel": {
           "align": "left"
          },
          "hovermode": "closest",
          "mapbox": {
           "style": "light"
          },
          "paper_bgcolor": "white",
          "plot_bgcolor": "#E5ECF6",
          "polar": {
           "angularaxis": {
            "gridcolor": "white",
            "linecolor": "white",
            "ticks": ""
           },
           "bgcolor": "#E5ECF6",
           "radialaxis": {
            "gridcolor": "white",
            "linecolor": "white",
            "ticks": ""
           }
          },
          "scene": {
           "xaxis": {
            "backgroundcolor": "#E5ECF6",
            "gridcolor": "white",
            "gridwidth": 2,
            "linecolor": "white",
            "showbackground": true,
            "ticks": "",
            "zerolinecolor": "white"
           },
           "yaxis": {
            "backgroundcolor": "#E5ECF6",
            "gridcolor": "white",
            "gridwidth": 2,
            "linecolor": "white",
            "showbackground": true,
            "ticks": "",
            "zerolinecolor": "white"
           },
           "zaxis": {
            "backgroundcolor": "#E5ECF6",
            "gridcolor": "white",
            "gridwidth": 2,
            "linecolor": "white",
            "showbackground": true,
            "ticks": "",
            "zerolinecolor": "white"
           }
          },
          "shapedefaults": {
           "line": {
            "color": "#2a3f5f"
           }
          },
          "ternary": {
           "aaxis": {
            "gridcolor": "white",
            "linecolor": "white",
            "ticks": ""
           },
           "baxis": {
            "gridcolor": "white",
            "linecolor": "white",
            "ticks": ""
           },
           "bgcolor": "#E5ECF6",
           "caxis": {
            "gridcolor": "white",
            "linecolor": "white",
            "ticks": ""
           }
          },
          "title": {
           "x": 0.05
          },
          "xaxis": {
           "automargin": true,
           "gridcolor": "white",
           "linecolor": "white",
           "ticks": "",
           "title": {
            "standoff": 15
           },
           "zerolinecolor": "white",
           "zerolinewidth": 2
          },
          "yaxis": {
           "automargin": true,
           "gridcolor": "white",
           "linecolor": "white",
           "ticks": "",
           "title": {
            "standoff": 15
           },
           "zerolinecolor": "white",
           "zerolinewidth": 2
          }
         }
        }
       }
      },
      "text/html": [
       "<div>                            <div id=\"002a9196-2732-4069-891f-895fd04f939e\" class=\"plotly-graph-div\" style=\"height:525px; width:100%;\"></div>            <script type=\"text/javascript\">                require([\"plotly\"], function(Plotly) {                    window.PLOTLYENV=window.PLOTLYENV || {};                                    if (document.getElementById(\"002a9196-2732-4069-891f-895fd04f939e\")) {                    Plotly.newPlot(                        \"002a9196-2732-4069-891f-895fd04f939e\",                        [{\"coloraxis\":\"coloraxis\",\"geo\":\"geo\",\"hovertemplate\":\"state_code=%{location}<br>four year average in state tuition=%{z}<extra></extra>\",\"locationmode\":\"USA-states\",\"locations\":[\"AL\",\"AK\",\"AZ\",\"AR\",\"CA\",\"CO\",\"CT\",\"DE\",\"FL\",\"GA\",\"HI\",\"ID\",\"IL\",\"IN\",\"IA\",\"KS\",\"KY\",\"LA\",\"ME\",\"MD\",\"MA\",\"MI\",\"MN\",\"MS\",\"MO\",\"MT\",\"NE\",\"NV\",\"NH\",\"NJ\",\"NM\",\"NY\",\"NC\",\"ND\",\"OH\",\"OK\",\"OR\",\"PA\",\"RI\",\"SC\",\"SD\",\"TN\",\"TX\",\"UT\",\"VT\",\"VA\",\"WA\",\"WV\",\"WI\",\"WY\"],\"name\":\"\",\"z\":[64536.95238095238,48806.666666666664,74048.0,68785.42857142857,190626.15384615384,83676.61538461539,135868.44444444444,66771.2,96486.22222222222,84775.63636363637,61283.2,42009.333333333336,136982.31578947368,143818.44444444444,127574.47619047618,84346.35294117648,92465.5,61872.0,98022.0,126087.5294117647,188594.85714285713,99996.54545454546,133345.33333333334,51116.0,86910.35294117648,78830.0,78756.72727272728,136964.0,120004.36363636363,104793.26315789473,27658.666666666668,178446.0,110695.2,44292.57142857143,147707.46666666667,62780.42105263158,107244.44444444444,191462.52631578947,146248.0,87783.33333333333,63994.0,98784.8,106221.55555555556,27761.333333333332,129271.27272727272,100446.36363636363,123986.0,53202.666666666664,95868.54545454546,21600.0],\"type\":\"choropleth\"}],                        {\"template\":{\"data\":{\"bar\":[{\"error_x\":{\"color\":\"#2a3f5f\"},\"error_y\":{\"color\":\"#2a3f5f\"},\"marker\":{\"line\":{\"color\":\"#E5ECF6\",\"width\":0.5},\"pattern\":{\"fillmode\":\"overlay\",\"size\":10,\"solidity\":0.2}},\"type\":\"bar\"}],\"barpolar\":[{\"marker\":{\"line\":{\"color\":\"#E5ECF6\",\"width\":0.5},\"pattern\":{\"fillmode\":\"overlay\",\"size\":10,\"solidity\":0.2}},\"type\":\"barpolar\"}],\"carpet\":[{\"aaxis\":{\"endlinecolor\":\"#2a3f5f\",\"gridcolor\":\"white\",\"linecolor\":\"white\",\"minorgridcolor\":\"white\",\"startlinecolor\":\"#2a3f5f\"},\"baxis\":{\"endlinecolor\":\"#2a3f5f\",\"gridcolor\":\"white\",\"linecolor\":\"white\",\"minorgridcolor\":\"white\",\"startlinecolor\":\"#2a3f5f\"},\"type\":\"carpet\"}],\"choropleth\":[{\"colorbar\":{\"outlinewidth\":0,\"ticks\":\"\"},\"type\":\"choropleth\"}],\"contour\":[{\"colorbar\":{\"outlinewidth\":0,\"ticks\":\"\"},\"colorscale\":[[0.0,\"#0d0887\"],[0.1111111111111111,\"#46039f\"],[0.2222222222222222,\"#7201a8\"],[0.3333333333333333,\"#9c179e\"],[0.4444444444444444,\"#bd3786\"],[0.5555555555555556,\"#d8576b\"],[0.6666666666666666,\"#ed7953\"],[0.7777777777777778,\"#fb9f3a\"],[0.8888888888888888,\"#fdca26\"],[1.0,\"#f0f921\"]],\"type\":\"contour\"}],\"contourcarpet\":[{\"colorbar\":{\"outlinewidth\":0,\"ticks\":\"\"},\"type\":\"contourcarpet\"}],\"heatmap\":[{\"colorbar\":{\"outlinewidth\":0,\"ticks\":\"\"},\"colorscale\":[[0.0,\"#0d0887\"],[0.1111111111111111,\"#46039f\"],[0.2222222222222222,\"#7201a8\"],[0.3333333333333333,\"#9c179e\"],[0.4444444444444444,\"#bd3786\"],[0.5555555555555556,\"#d8576b\"],[0.6666666666666666,\"#ed7953\"],[0.7777777777777778,\"#fb9f3a\"],[0.8888888888888888,\"#fdca26\"],[1.0,\"#f0f921\"]],\"type\":\"heatmap\"}],\"heatmapgl\":[{\"colorbar\":{\"outlinewidth\":0,\"ticks\":\"\"},\"colorscale\":[[0.0,\"#0d0887\"],[0.1111111111111111,\"#46039f\"],[0.2222222222222222,\"#7201a8\"],[0.3333333333333333,\"#9c179e\"],[0.4444444444444444,\"#bd3786\"],[0.5555555555555556,\"#d8576b\"],[0.6666666666666666,\"#ed7953\"],[0.7777777777777778,\"#fb9f3a\"],[0.8888888888888888,\"#fdca26\"],[1.0,\"#f0f921\"]],\"type\":\"heatmapgl\"}],\"histogram\":[{\"marker\":{\"pattern\":{\"fillmode\":\"overlay\",\"size\":10,\"solidity\":0.2}},\"type\":\"histogram\"}],\"histogram2d\":[{\"colorbar\":{\"outlinewidth\":0,\"ticks\":\"\"},\"colorscale\":[[0.0,\"#0d0887\"],[0.1111111111111111,\"#46039f\"],[0.2222222222222222,\"#7201a8\"],[0.3333333333333333,\"#9c179e\"],[0.4444444444444444,\"#bd3786\"],[0.5555555555555556,\"#d8576b\"],[0.6666666666666666,\"#ed7953\"],[0.7777777777777778,\"#fb9f3a\"],[0.8888888888888888,\"#fdca26\"],[1.0,\"#f0f921\"]],\"type\":\"histogram2d\"}],\"histogram2dcontour\":[{\"colorbar\":{\"outlinewidth\":0,\"ticks\":\"\"},\"colorscale\":[[0.0,\"#0d0887\"],[0.1111111111111111,\"#46039f\"],[0.2222222222222222,\"#7201a8\"],[0.3333333333333333,\"#9c179e\"],[0.4444444444444444,\"#bd3786\"],[0.5555555555555556,\"#d8576b\"],[0.6666666666666666,\"#ed7953\"],[0.7777777777777778,\"#fb9f3a\"],[0.8888888888888888,\"#fdca26\"],[1.0,\"#f0f921\"]],\"type\":\"histogram2dcontour\"}],\"mesh3d\":[{\"colorbar\":{\"outlinewidth\":0,\"ticks\":\"\"},\"type\":\"mesh3d\"}],\"parcoords\":[{\"line\":{\"colorbar\":{\"outlinewidth\":0,\"ticks\":\"\"}},\"type\":\"parcoords\"}],\"pie\":[{\"automargin\":true,\"type\":\"pie\"}],\"scatter\":[{\"marker\":{\"colorbar\":{\"outlinewidth\":0,\"ticks\":\"\"}},\"type\":\"scatter\"}],\"scatter3d\":[{\"line\":{\"colorbar\":{\"outlinewidth\":0,\"ticks\":\"\"}},\"marker\":{\"colorbar\":{\"outlinewidth\":0,\"ticks\":\"\"}},\"type\":\"scatter3d\"}],\"scattercarpet\":[{\"marker\":{\"colorbar\":{\"outlinewidth\":0,\"ticks\":\"\"}},\"type\":\"scattercarpet\"}],\"scattergeo\":[{\"marker\":{\"colorbar\":{\"outlinewidth\":0,\"ticks\":\"\"}},\"type\":\"scattergeo\"}],\"scattergl\":[{\"marker\":{\"colorbar\":{\"outlinewidth\":0,\"ticks\":\"\"}},\"type\":\"scattergl\"}],\"scattermapbox\":[{\"marker\":{\"colorbar\":{\"outlinewidth\":0,\"ticks\":\"\"}},\"type\":\"scattermapbox\"}],\"scatterpolar\":[{\"marker\":{\"colorbar\":{\"outlinewidth\":0,\"ticks\":\"\"}},\"type\":\"scatterpolar\"}],\"scatterpolargl\":[{\"marker\":{\"colorbar\":{\"outlinewidth\":0,\"ticks\":\"\"}},\"type\":\"scatterpolargl\"}],\"scatterternary\":[{\"marker\":{\"colorbar\":{\"outlinewidth\":0,\"ticks\":\"\"}},\"type\":\"scatterternary\"}],\"surface\":[{\"colorbar\":{\"outlinewidth\":0,\"ticks\":\"\"},\"colorscale\":[[0.0,\"#0d0887\"],[0.1111111111111111,\"#46039f\"],[0.2222222222222222,\"#7201a8\"],[0.3333333333333333,\"#9c179e\"],[0.4444444444444444,\"#bd3786\"],[0.5555555555555556,\"#d8576b\"],[0.6666666666666666,\"#ed7953\"],[0.7777777777777778,\"#fb9f3a\"],[0.8888888888888888,\"#fdca26\"],[1.0,\"#f0f921\"]],\"type\":\"surface\"}],\"table\":[{\"cells\":{\"fill\":{\"color\":\"#EBF0F8\"},\"line\":{\"color\":\"white\"}},\"header\":{\"fill\":{\"color\":\"#C8D4E3\"},\"line\":{\"color\":\"white\"}},\"type\":\"table\"}]},\"layout\":{\"annotationdefaults\":{\"arrowcolor\":\"#2a3f5f\",\"arrowhead\":0,\"arrowwidth\":1},\"autotypenumbers\":\"strict\",\"coloraxis\":{\"colorbar\":{\"outlinewidth\":0,\"ticks\":\"\"}},\"colorscale\":{\"diverging\":[[0,\"#8e0152\"],[0.1,\"#c51b7d\"],[0.2,\"#de77ae\"],[0.3,\"#f1b6da\"],[0.4,\"#fde0ef\"],[0.5,\"#f7f7f7\"],[0.6,\"#e6f5d0\"],[0.7,\"#b8e186\"],[0.8,\"#7fbc41\"],[0.9,\"#4d9221\"],[1,\"#276419\"]],\"sequential\":[[0.0,\"#0d0887\"],[0.1111111111111111,\"#46039f\"],[0.2222222222222222,\"#7201a8\"],[0.3333333333333333,\"#9c179e\"],[0.4444444444444444,\"#bd3786\"],[0.5555555555555556,\"#d8576b\"],[0.6666666666666666,\"#ed7953\"],[0.7777777777777778,\"#fb9f3a\"],[0.8888888888888888,\"#fdca26\"],[1.0,\"#f0f921\"]],\"sequentialminus\":[[0.0,\"#0d0887\"],[0.1111111111111111,\"#46039f\"],[0.2222222222222222,\"#7201a8\"],[0.3333333333333333,\"#9c179e\"],[0.4444444444444444,\"#bd3786\"],[0.5555555555555556,\"#d8576b\"],[0.6666666666666666,\"#ed7953\"],[0.7777777777777778,\"#fb9f3a\"],[0.8888888888888888,\"#fdca26\"],[1.0,\"#f0f921\"]]},\"colorway\":[\"#636efa\",\"#EF553B\",\"#00cc96\",\"#ab63fa\",\"#FFA15A\",\"#19d3f3\",\"#FF6692\",\"#B6E880\",\"#FF97FF\",\"#FECB52\"],\"font\":{\"color\":\"#2a3f5f\"},\"geo\":{\"bgcolor\":\"white\",\"lakecolor\":\"white\",\"landcolor\":\"#E5ECF6\",\"showlakes\":true,\"showland\":true,\"subunitcolor\":\"white\"},\"hoverlabel\":{\"align\":\"left\"},\"hovermode\":\"closest\",\"mapbox\":{\"style\":\"light\"},\"paper_bgcolor\":\"white\",\"plot_bgcolor\":\"#E5ECF6\",\"polar\":{\"angularaxis\":{\"gridcolor\":\"white\",\"linecolor\":\"white\",\"ticks\":\"\"},\"bgcolor\":\"#E5ECF6\",\"radialaxis\":{\"gridcolor\":\"white\",\"linecolor\":\"white\",\"ticks\":\"\"}},\"scene\":{\"xaxis\":{\"backgroundcolor\":\"#E5ECF6\",\"gridcolor\":\"white\",\"gridwidth\":2,\"linecolor\":\"white\",\"showbackground\":true,\"ticks\":\"\",\"zerolinecolor\":\"white\"},\"yaxis\":{\"backgroundcolor\":\"#E5ECF6\",\"gridcolor\":\"white\",\"gridwidth\":2,\"linecolor\":\"white\",\"showbackground\":true,\"ticks\":\"\",\"zerolinecolor\":\"white\"},\"zaxis\":{\"backgroundcolor\":\"#E5ECF6\",\"gridcolor\":\"white\",\"gridwidth\":2,\"linecolor\":\"white\",\"showbackground\":true,\"ticks\":\"\",\"zerolinecolor\":\"white\"}},\"shapedefaults\":{\"line\":{\"color\":\"#2a3f5f\"}},\"ternary\":{\"aaxis\":{\"gridcolor\":\"white\",\"linecolor\":\"white\",\"ticks\":\"\"},\"baxis\":{\"gridcolor\":\"white\",\"linecolor\":\"white\",\"ticks\":\"\"},\"bgcolor\":\"#E5ECF6\",\"caxis\":{\"gridcolor\":\"white\",\"linecolor\":\"white\",\"ticks\":\"\"}},\"title\":{\"x\":0.05},\"xaxis\":{\"automargin\":true,\"gridcolor\":\"white\",\"linecolor\":\"white\",\"ticks\":\"\",\"title\":{\"standoff\":15},\"zerolinecolor\":\"white\",\"zerolinewidth\":2},\"yaxis\":{\"automargin\":true,\"gridcolor\":\"white\",\"linecolor\":\"white\",\"ticks\":\"\",\"title\":{\"standoff\":15},\"zerolinecolor\":\"white\",\"zerolinewidth\":2}}},\"geo\":{\"domain\":{\"x\":[0.0,1.0],\"y\":[0.0,1.0]},\"center\":{},\"scope\":\"usa\"},\"coloraxis\":{\"colorbar\":{\"title\":{\"text\":\"four year average in state tuition\"}},\"colorscale\":[[0.0,\"#0d0887\"],[0.1111111111111111,\"#46039f\"],[0.2222222222222222,\"#7201a8\"],[0.3333333333333333,\"#9c179e\"],[0.4444444444444444,\"#bd3786\"],[0.5555555555555556,\"#d8576b\"],[0.6666666666666666,\"#ed7953\"],[0.7777777777777778,\"#fb9f3a\"],[0.8888888888888888,\"#fdca26\"],[1.0,\"#f0f921\"]]},\"legend\":{\"tracegroupgap\":0},\"margin\":{\"t\":60}},                        {\"responsive\": true}                    ).then(function(){\n",
       "                            \n",
       "var gd = document.getElementById('002a9196-2732-4069-891f-895fd04f939e');\n",
       "var x = new MutationObserver(function (mutations, observer) {{\n",
       "        var display = window.getComputedStyle(gd).display;\n",
       "        if (!display || display === 'none') {{\n",
       "            console.log([gd, 'removed!']);\n",
       "            Plotly.purge(gd);\n",
       "            observer.disconnect();\n",
       "        }}\n",
       "}});\n",
       "\n",
       "// Listen for the removal of the full notebook cells\n",
       "var notebookContainer = gd.closest('#notebook-container');\n",
       "if (notebookContainer) {{\n",
       "    x.observe(notebookContainer, {childList: true});\n",
       "}}\n",
       "\n",
       "// Listen for the clearing of the current output cell\n",
       "var outputEl = gd.closest('.output');\n",
       "if (outputEl) {{\n",
       "    x.observe(outputEl, {childList: true});\n",
       "}}\n",
       "\n",
       "                        })                };                });            </script>        </div>"
      ]
     },
     "execution_count": 33,
     "metadata": {
     },
     "output_type": "execute_result"
    }
   ],
   "source": [
    "fig = px.choropleth(state_stats_extras, locations='state_code', locationmode=\"USA-states\", color=\"four year average in state tuition\", scope=\"usa\")\n",
    "fig.show()"
   ]
  },
  {
   "cell_type": "code",
   "execution_count": 34,
   "metadata": {
    "collapsed": false
   },
   "outputs": [
    {
     "data": {
      "application/vnd.plotly.v1+json": {
       "config": {
        "plotlyServerURL": "https://plot.ly"
       },
       "data": [
        {
         "coloraxis": "coloraxis",
         "geo": "geo",
         "hovertemplate": "state_code=%{location}<br>average early_career_pay=%{z}<extra></extra>",
         "locationmode": "USA-states",
         "locations": [
          "AL",
          "AK",
          "AZ",
          "AR",
          "CA",
          "CO",
          "CT",
          "DE",
          "FL",
          "GA",
          "HI",
          "ID",
          "IL",
          "IN",
          "IA",
          "KS",
          "KY",
          "LA",
          "ME",
          "MD",
          "MA",
          "MI",
          "MN",
          "MS",
          "MO",
          "MT",
          "NE",
          "NV",
          "NH",
          "NJ",
          "NM",
          "NY",
          "NC",
          "ND",
          "OH",
          "OK",
          "OR",
          "PA",
          "RI",
          "SC",
          "SD",
          "TN",
          "TX",
          "UT",
          "VT",
          "VA",
          "WA",
          "WV",
          "WI",
          "WY"
         ],
         "name": "",
         "type": "choropleth",
         "z": [
          44714.28571428572,
          55133.333333333336,
          48966.666666666664,
          45607.142857142855,
          67800,
          52238.46153846154,
          55016.666666666664,
          49040,
          50250,
          48527.27272727273,
          48980,
          49666.666666666664,
          55763.15789473684,
          52938.88888888889,
          48314.28571428572,
          46482.35294117647,
          43754.166666666664,
          46920,
          48181.25,
          53041.17647058824,
          63519.04761904762,
          51695.454545454544,
          51233.333333333336,
          42042.857142857145,
          48023.529411764706,
          52275,
          46790.90909090909,
          54000,
          50545.454545454544,
          54847.36842105263,
          48933.333333333336,
          65881.25,
          49695,
          46042.857142857145,
          53613.333333333336,
          45105.26315789474,
          50694.444444444445,
          61436.84210526316,
          55822.22222222222,
          44716.666666666664,
          47110,
          47370,
          56500,
          52183.333333333336,
          49445.454545454544,
          53718.181818181816,
          53450,
          44333.333333333336,
          50681.818181818184,
          52400
         ]
        }
       ],
       "layout": {
        "coloraxis": {
         "colorbar": {
          "title": {
           "text": "average early_career_pay"
          }
         },
         "colorscale": [
          [
           0,
           "#0d0887"
          ],
          [
           0.1111111111111111,
           "#46039f"
          ],
          [
           0.2222222222222222,
           "#7201a8"
          ],
          [
           0.3333333333333333,
           "#9c179e"
          ],
          [
           0.4444444444444444,
           "#bd3786"
          ],
          [
           0.5555555555555556,
           "#d8576b"
          ],
          [
           0.6666666666666666,
           "#ed7953"
          ],
          [
           0.7777777777777778,
           "#fb9f3a"
          ],
          [
           0.8888888888888888,
           "#fdca26"
          ],
          [
           1,
           "#f0f921"
          ]
         ]
        },
        "geo": {
         "center": {
         },
         "domain": {
          "x": [
           0,
           1
          ],
          "y": [
           0,
           1
          ]
         },
         "scope": "usa"
        },
        "legend": {
         "tracegroupgap": 0
        },
        "margin": {
         "t": 60
        },
        "template": {
         "data": {
          "bar": [
           {
            "error_x": {
             "color": "#2a3f5f"
            },
            "error_y": {
             "color": "#2a3f5f"
            },
            "marker": {
             "line": {
              "color": "#E5ECF6",
              "width": 0.5
             },
             "pattern": {
              "fillmode": "overlay",
              "size": 10,
              "solidity": 0.2
             }
            },
            "type": "bar"
           }
          ],
          "barpolar": [
           {
            "marker": {
             "line": {
              "color": "#E5ECF6",
              "width": 0.5
             },
             "pattern": {
              "fillmode": "overlay",
              "size": 10,
              "solidity": 0.2
             }
            },
            "type": "barpolar"
           }
          ],
          "carpet": [
           {
            "aaxis": {
             "endlinecolor": "#2a3f5f",
             "gridcolor": "white",
             "linecolor": "white",
             "minorgridcolor": "white",
             "startlinecolor": "#2a3f5f"
            },
            "baxis": {
             "endlinecolor": "#2a3f5f",
             "gridcolor": "white",
             "linecolor": "white",
             "minorgridcolor": "white",
             "startlinecolor": "#2a3f5f"
            },
            "type": "carpet"
           }
          ],
          "choropleth": [
           {
            "colorbar": {
             "outlinewidth": 0,
             "ticks": ""
            },
            "type": "choropleth"
           }
          ],
          "contour": [
           {
            "colorbar": {
             "outlinewidth": 0,
             "ticks": ""
            },
            "colorscale": [
             [
              0,
              "#0d0887"
             ],
             [
              0.1111111111111111,
              "#46039f"
             ],
             [
              0.2222222222222222,
              "#7201a8"
             ],
             [
              0.3333333333333333,
              "#9c179e"
             ],
             [
              0.4444444444444444,
              "#bd3786"
             ],
             [
              0.5555555555555556,
              "#d8576b"
             ],
             [
              0.6666666666666666,
              "#ed7953"
             ],
             [
              0.7777777777777778,
              "#fb9f3a"
             ],
             [
              0.8888888888888888,
              "#fdca26"
             ],
             [
              1,
              "#f0f921"
             ]
            ],
            "type": "contour"
           }
          ],
          "contourcarpet": [
           {
            "colorbar": {
             "outlinewidth": 0,
             "ticks": ""
            },
            "type": "contourcarpet"
           }
          ],
          "heatmap": [
           {
            "colorbar": {
             "outlinewidth": 0,
             "ticks": ""
            },
            "colorscale": [
             [
              0,
              "#0d0887"
             ],
             [
              0.1111111111111111,
              "#46039f"
             ],
             [
              0.2222222222222222,
              "#7201a8"
             ],
             [
              0.3333333333333333,
              "#9c179e"
             ],
             [
              0.4444444444444444,
              "#bd3786"
             ],
             [
              0.5555555555555556,
              "#d8576b"
             ],
             [
              0.6666666666666666,
              "#ed7953"
             ],
             [
              0.7777777777777778,
              "#fb9f3a"
             ],
             [
              0.8888888888888888,
              "#fdca26"
             ],
             [
              1,
              "#f0f921"
             ]
            ],
            "type": "heatmap"
           }
          ],
          "heatmapgl": [
           {
            "colorbar": {
             "outlinewidth": 0,
             "ticks": ""
            },
            "colorscale": [
             [
              0,
              "#0d0887"
             ],
             [
              0.1111111111111111,
              "#46039f"
             ],
             [
              0.2222222222222222,
              "#7201a8"
             ],
             [
              0.3333333333333333,
              "#9c179e"
             ],
             [
              0.4444444444444444,
              "#bd3786"
             ],
             [
              0.5555555555555556,
              "#d8576b"
             ],
             [
              0.6666666666666666,
              "#ed7953"
             ],
             [
              0.7777777777777778,
              "#fb9f3a"
             ],
             [
              0.8888888888888888,
              "#fdca26"
             ],
             [
              1,
              "#f0f921"
             ]
            ],
            "type": "heatmapgl"
           }
          ],
          "histogram": [
           {
            "marker": {
             "pattern": {
              "fillmode": "overlay",
              "size": 10,
              "solidity": 0.2
             }
            },
            "type": "histogram"
           }
          ],
          "histogram2d": [
           {
            "colorbar": {
             "outlinewidth": 0,
             "ticks": ""
            },
            "colorscale": [
             [
              0,
              "#0d0887"
             ],
             [
              0.1111111111111111,
              "#46039f"
             ],
             [
              0.2222222222222222,
              "#7201a8"
             ],
             [
              0.3333333333333333,
              "#9c179e"
             ],
             [
              0.4444444444444444,
              "#bd3786"
             ],
             [
              0.5555555555555556,
              "#d8576b"
             ],
             [
              0.6666666666666666,
              "#ed7953"
             ],
             [
              0.7777777777777778,
              "#fb9f3a"
             ],
             [
              0.8888888888888888,
              "#fdca26"
             ],
             [
              1,
              "#f0f921"
             ]
            ],
            "type": "histogram2d"
           }
          ],
          "histogram2dcontour": [
           {
            "colorbar": {
             "outlinewidth": 0,
             "ticks": ""
            },
            "colorscale": [
             [
              0,
              "#0d0887"
             ],
             [
              0.1111111111111111,
              "#46039f"
             ],
             [
              0.2222222222222222,
              "#7201a8"
             ],
             [
              0.3333333333333333,
              "#9c179e"
             ],
             [
              0.4444444444444444,
              "#bd3786"
             ],
             [
              0.5555555555555556,
              "#d8576b"
             ],
             [
              0.6666666666666666,
              "#ed7953"
             ],
             [
              0.7777777777777778,
              "#fb9f3a"
             ],
             [
              0.8888888888888888,
              "#fdca26"
             ],
             [
              1,
              "#f0f921"
             ]
            ],
            "type": "histogram2dcontour"
           }
          ],
          "mesh3d": [
           {
            "colorbar": {
             "outlinewidth": 0,
             "ticks": ""
            },
            "type": "mesh3d"
           }
          ],
          "parcoords": [
           {
            "line": {
             "colorbar": {
              "outlinewidth": 0,
              "ticks": ""
             }
            },
            "type": "parcoords"
           }
          ],
          "pie": [
           {
            "automargin": true,
            "type": "pie"
           }
          ],
          "scatter": [
           {
            "marker": {
             "colorbar": {
              "outlinewidth": 0,
              "ticks": ""
             }
            },
            "type": "scatter"
           }
          ],
          "scatter3d": [
           {
            "line": {
             "colorbar": {
              "outlinewidth": 0,
              "ticks": ""
             }
            },
            "marker": {
             "colorbar": {
              "outlinewidth": 0,
              "ticks": ""
             }
            },
            "type": "scatter3d"
           }
          ],
          "scattercarpet": [
           {
            "marker": {
             "colorbar": {
              "outlinewidth": 0,
              "ticks": ""
             }
            },
            "type": "scattercarpet"
           }
          ],
          "scattergeo": [
           {
            "marker": {
             "colorbar": {
              "outlinewidth": 0,
              "ticks": ""
             }
            },
            "type": "scattergeo"
           }
          ],
          "scattergl": [
           {
            "marker": {
             "colorbar": {
              "outlinewidth": 0,
              "ticks": ""
             }
            },
            "type": "scattergl"
           }
          ],
          "scattermapbox": [
           {
            "marker": {
             "colorbar": {
              "outlinewidth": 0,
              "ticks": ""
             }
            },
            "type": "scattermapbox"
           }
          ],
          "scatterpolar": [
           {
            "marker": {
             "colorbar": {
              "outlinewidth": 0,
              "ticks": ""
             }
            },
            "type": "scatterpolar"
           }
          ],
          "scatterpolargl": [
           {
            "marker": {
             "colorbar": {
              "outlinewidth": 0,
              "ticks": ""
             }
            },
            "type": "scatterpolargl"
           }
          ],
          "scatterternary": [
           {
            "marker": {
             "colorbar": {
              "outlinewidth": 0,
              "ticks": ""
             }
            },
            "type": "scatterternary"
           }
          ],
          "surface": [
           {
            "colorbar": {
             "outlinewidth": 0,
             "ticks": ""
            },
            "colorscale": [
             [
              0,
              "#0d0887"
             ],
             [
              0.1111111111111111,
              "#46039f"
             ],
             [
              0.2222222222222222,
              "#7201a8"
             ],
             [
              0.3333333333333333,
              "#9c179e"
             ],
             [
              0.4444444444444444,
              "#bd3786"
             ],
             [
              0.5555555555555556,
              "#d8576b"
             ],
             [
              0.6666666666666666,
              "#ed7953"
             ],
             [
              0.7777777777777778,
              "#fb9f3a"
             ],
             [
              0.8888888888888888,
              "#fdca26"
             ],
             [
              1,
              "#f0f921"
             ]
            ],
            "type": "surface"
           }
          ],
          "table": [
           {
            "cells": {
             "fill": {
              "color": "#EBF0F8"
             },
             "line": {
              "color": "white"
             }
            },
            "header": {
             "fill": {
              "color": "#C8D4E3"
             },
             "line": {
              "color": "white"
             }
            },
            "type": "table"
           }
          ]
         },
         "layout": {
          "annotationdefaults": {
           "arrowcolor": "#2a3f5f",
           "arrowhead": 0,
           "arrowwidth": 1
          },
          "autotypenumbers": "strict",
          "coloraxis": {
           "colorbar": {
            "outlinewidth": 0,
            "ticks": ""
           }
          },
          "colorscale": {
           "diverging": [
            [
             0,
             "#8e0152"
            ],
            [
             0.1,
             "#c51b7d"
            ],
            [
             0.2,
             "#de77ae"
            ],
            [
             0.3,
             "#f1b6da"
            ],
            [
             0.4,
             "#fde0ef"
            ],
            [
             0.5,
             "#f7f7f7"
            ],
            [
             0.6,
             "#e6f5d0"
            ],
            [
             0.7,
             "#b8e186"
            ],
            [
             0.8,
             "#7fbc41"
            ],
            [
             0.9,
             "#4d9221"
            ],
            [
             1,
             "#276419"
            ]
           ],
           "sequential": [
            [
             0,
             "#0d0887"
            ],
            [
             0.1111111111111111,
             "#46039f"
            ],
            [
             0.2222222222222222,
             "#7201a8"
            ],
            [
             0.3333333333333333,
             "#9c179e"
            ],
            [
             0.4444444444444444,
             "#bd3786"
            ],
            [
             0.5555555555555556,
             "#d8576b"
            ],
            [
             0.6666666666666666,
             "#ed7953"
            ],
            [
             0.7777777777777778,
             "#fb9f3a"
            ],
            [
             0.8888888888888888,
             "#fdca26"
            ],
            [
             1,
             "#f0f921"
            ]
           ],
           "sequentialminus": [
            [
             0,
             "#0d0887"
            ],
            [
             0.1111111111111111,
             "#46039f"
            ],
            [
             0.2222222222222222,
             "#7201a8"
            ],
            [
             0.3333333333333333,
             "#9c179e"
            ],
            [
             0.4444444444444444,
             "#bd3786"
            ],
            [
             0.5555555555555556,
             "#d8576b"
            ],
            [
             0.6666666666666666,
             "#ed7953"
            ],
            [
             0.7777777777777778,
             "#fb9f3a"
            ],
            [
             0.8888888888888888,
             "#fdca26"
            ],
            [
             1,
             "#f0f921"
            ]
           ]
          },
          "colorway": [
           "#636efa",
           "#EF553B",
           "#00cc96",
           "#ab63fa",
           "#FFA15A",
           "#19d3f3",
           "#FF6692",
           "#B6E880",
           "#FF97FF",
           "#FECB52"
          ],
          "font": {
           "color": "#2a3f5f"
          },
          "geo": {
           "bgcolor": "white",
           "lakecolor": "white",
           "landcolor": "#E5ECF6",
           "showlakes": true,
           "showland": true,
           "subunitcolor": "white"
          },
          "hoverlabel": {
           "align": "left"
          },
          "hovermode": "closest",
          "mapbox": {
           "style": "light"
          },
          "paper_bgcolor": "white",
          "plot_bgcolor": "#E5ECF6",
          "polar": {
           "angularaxis": {
            "gridcolor": "white",
            "linecolor": "white",
            "ticks": ""
           },
           "bgcolor": "#E5ECF6",
           "radialaxis": {
            "gridcolor": "white",
            "linecolor": "white",
            "ticks": ""
           }
          },
          "scene": {
           "xaxis": {
            "backgroundcolor": "#E5ECF6",
            "gridcolor": "white",
            "gridwidth": 2,
            "linecolor": "white",
            "showbackground": true,
            "ticks": "",
            "zerolinecolor": "white"
           },
           "yaxis": {
            "backgroundcolor": "#E5ECF6",
            "gridcolor": "white",
            "gridwidth": 2,
            "linecolor": "white",
            "showbackground": true,
            "ticks": "",
            "zerolinecolor": "white"
           },
           "zaxis": {
            "backgroundcolor": "#E5ECF6",
            "gridcolor": "white",
            "gridwidth": 2,
            "linecolor": "white",
            "showbackground": true,
            "ticks": "",
            "zerolinecolor": "white"
           }
          },
          "shapedefaults": {
           "line": {
            "color": "#2a3f5f"
           }
          },
          "ternary": {
           "aaxis": {
            "gridcolor": "white",
            "linecolor": "white",
            "ticks": ""
           },
           "baxis": {
            "gridcolor": "white",
            "linecolor": "white",
            "ticks": ""
           },
           "bgcolor": "#E5ECF6",
           "caxis": {
            "gridcolor": "white",
            "linecolor": "white",
            "ticks": ""
           }
          },
          "title": {
           "x": 0.05
          },
          "xaxis": {
           "automargin": true,
           "gridcolor": "white",
           "linecolor": "white",
           "ticks": "",
           "title": {
            "standoff": 15
           },
           "zerolinecolor": "white",
           "zerolinewidth": 2
          },
          "yaxis": {
           "automargin": true,
           "gridcolor": "white",
           "linecolor": "white",
           "ticks": "",
           "title": {
            "standoff": 15
           },
           "zerolinecolor": "white",
           "zerolinewidth": 2
          }
         }
        }
       }
      },
      "text/html": [
       "<div>                            <div id=\"0eff3a40-5ada-42b1-98e6-36fa75813f24\" class=\"plotly-graph-div\" style=\"height:525px; width:100%;\"></div>            <script type=\"text/javascript\">                require([\"plotly\"], function(Plotly) {                    window.PLOTLYENV=window.PLOTLYENV || {};                                    if (document.getElementById(\"0eff3a40-5ada-42b1-98e6-36fa75813f24\")) {                    Plotly.newPlot(                        \"0eff3a40-5ada-42b1-98e6-36fa75813f24\",                        [{\"coloraxis\":\"coloraxis\",\"geo\":\"geo\",\"hovertemplate\":\"state_code=%{location}<br>average early_career_pay=%{z}<extra></extra>\",\"locationmode\":\"USA-states\",\"locations\":[\"AL\",\"AK\",\"AZ\",\"AR\",\"CA\",\"CO\",\"CT\",\"DE\",\"FL\",\"GA\",\"HI\",\"ID\",\"IL\",\"IN\",\"IA\",\"KS\",\"KY\",\"LA\",\"ME\",\"MD\",\"MA\",\"MI\",\"MN\",\"MS\",\"MO\",\"MT\",\"NE\",\"NV\",\"NH\",\"NJ\",\"NM\",\"NY\",\"NC\",\"ND\",\"OH\",\"OK\",\"OR\",\"PA\",\"RI\",\"SC\",\"SD\",\"TN\",\"TX\",\"UT\",\"VT\",\"VA\",\"WA\",\"WV\",\"WI\",\"WY\"],\"name\":\"\",\"z\":[44714.28571428572,55133.333333333336,48966.666666666664,45607.142857142855,67800.0,52238.46153846154,55016.666666666664,49040.0,50250.0,48527.27272727273,48980.0,49666.666666666664,55763.15789473684,52938.88888888889,48314.28571428572,46482.35294117647,43754.166666666664,46920.0,48181.25,53041.17647058824,63519.04761904762,51695.454545454544,51233.333333333336,42042.857142857145,48023.529411764706,52275.0,46790.90909090909,54000.0,50545.454545454544,54847.36842105263,48933.333333333336,65881.25,49695.0,46042.857142857145,53613.333333333336,45105.26315789474,50694.444444444445,61436.84210526316,55822.22222222222,44716.666666666664,47110.0,47370.0,56500.0,52183.333333333336,49445.454545454544,53718.181818181816,53450.0,44333.333333333336,50681.818181818184,52400.0],\"type\":\"choropleth\"}],                        {\"template\":{\"data\":{\"bar\":[{\"error_x\":{\"color\":\"#2a3f5f\"},\"error_y\":{\"color\":\"#2a3f5f\"},\"marker\":{\"line\":{\"color\":\"#E5ECF6\",\"width\":0.5},\"pattern\":{\"fillmode\":\"overlay\",\"size\":10,\"solidity\":0.2}},\"type\":\"bar\"}],\"barpolar\":[{\"marker\":{\"line\":{\"color\":\"#E5ECF6\",\"width\":0.5},\"pattern\":{\"fillmode\":\"overlay\",\"size\":10,\"solidity\":0.2}},\"type\":\"barpolar\"}],\"carpet\":[{\"aaxis\":{\"endlinecolor\":\"#2a3f5f\",\"gridcolor\":\"white\",\"linecolor\":\"white\",\"minorgridcolor\":\"white\",\"startlinecolor\":\"#2a3f5f\"},\"baxis\":{\"endlinecolor\":\"#2a3f5f\",\"gridcolor\":\"white\",\"linecolor\":\"white\",\"minorgridcolor\":\"white\",\"startlinecolor\":\"#2a3f5f\"},\"type\":\"carpet\"}],\"choropleth\":[{\"colorbar\":{\"outlinewidth\":0,\"ticks\":\"\"},\"type\":\"choropleth\"}],\"contour\":[{\"colorbar\":{\"outlinewidth\":0,\"ticks\":\"\"},\"colorscale\":[[0.0,\"#0d0887\"],[0.1111111111111111,\"#46039f\"],[0.2222222222222222,\"#7201a8\"],[0.3333333333333333,\"#9c179e\"],[0.4444444444444444,\"#bd3786\"],[0.5555555555555556,\"#d8576b\"],[0.6666666666666666,\"#ed7953\"],[0.7777777777777778,\"#fb9f3a\"],[0.8888888888888888,\"#fdca26\"],[1.0,\"#f0f921\"]],\"type\":\"contour\"}],\"contourcarpet\":[{\"colorbar\":{\"outlinewidth\":0,\"ticks\":\"\"},\"type\":\"contourcarpet\"}],\"heatmap\":[{\"colorbar\":{\"outlinewidth\":0,\"ticks\":\"\"},\"colorscale\":[[0.0,\"#0d0887\"],[0.1111111111111111,\"#46039f\"],[0.2222222222222222,\"#7201a8\"],[0.3333333333333333,\"#9c179e\"],[0.4444444444444444,\"#bd3786\"],[0.5555555555555556,\"#d8576b\"],[0.6666666666666666,\"#ed7953\"],[0.7777777777777778,\"#fb9f3a\"],[0.8888888888888888,\"#fdca26\"],[1.0,\"#f0f921\"]],\"type\":\"heatmap\"}],\"heatmapgl\":[{\"colorbar\":{\"outlinewidth\":0,\"ticks\":\"\"},\"colorscale\":[[0.0,\"#0d0887\"],[0.1111111111111111,\"#46039f\"],[0.2222222222222222,\"#7201a8\"],[0.3333333333333333,\"#9c179e\"],[0.4444444444444444,\"#bd3786\"],[0.5555555555555556,\"#d8576b\"],[0.6666666666666666,\"#ed7953\"],[0.7777777777777778,\"#fb9f3a\"],[0.8888888888888888,\"#fdca26\"],[1.0,\"#f0f921\"]],\"type\":\"heatmapgl\"}],\"histogram\":[{\"marker\":{\"pattern\":{\"fillmode\":\"overlay\",\"size\":10,\"solidity\":0.2}},\"type\":\"histogram\"}],\"histogram2d\":[{\"colorbar\":{\"outlinewidth\":0,\"ticks\":\"\"},\"colorscale\":[[0.0,\"#0d0887\"],[0.1111111111111111,\"#46039f\"],[0.2222222222222222,\"#7201a8\"],[0.3333333333333333,\"#9c179e\"],[0.4444444444444444,\"#bd3786\"],[0.5555555555555556,\"#d8576b\"],[0.6666666666666666,\"#ed7953\"],[0.7777777777777778,\"#fb9f3a\"],[0.8888888888888888,\"#fdca26\"],[1.0,\"#f0f921\"]],\"type\":\"histogram2d\"}],\"histogram2dcontour\":[{\"colorbar\":{\"outlinewidth\":0,\"ticks\":\"\"},\"colorscale\":[[0.0,\"#0d0887\"],[0.1111111111111111,\"#46039f\"],[0.2222222222222222,\"#7201a8\"],[0.3333333333333333,\"#9c179e\"],[0.4444444444444444,\"#bd3786\"],[0.5555555555555556,\"#d8576b\"],[0.6666666666666666,\"#ed7953\"],[0.7777777777777778,\"#fb9f3a\"],[0.8888888888888888,\"#fdca26\"],[1.0,\"#f0f921\"]],\"type\":\"histogram2dcontour\"}],\"mesh3d\":[{\"colorbar\":{\"outlinewidth\":0,\"ticks\":\"\"},\"type\":\"mesh3d\"}],\"parcoords\":[{\"line\":{\"colorbar\":{\"outlinewidth\":0,\"ticks\":\"\"}},\"type\":\"parcoords\"}],\"pie\":[{\"automargin\":true,\"type\":\"pie\"}],\"scatter\":[{\"marker\":{\"colorbar\":{\"outlinewidth\":0,\"ticks\":\"\"}},\"type\":\"scatter\"}],\"scatter3d\":[{\"line\":{\"colorbar\":{\"outlinewidth\":0,\"ticks\":\"\"}},\"marker\":{\"colorbar\":{\"outlinewidth\":0,\"ticks\":\"\"}},\"type\":\"scatter3d\"}],\"scattercarpet\":[{\"marker\":{\"colorbar\":{\"outlinewidth\":0,\"ticks\":\"\"}},\"type\":\"scattercarpet\"}],\"scattergeo\":[{\"marker\":{\"colorbar\":{\"outlinewidth\":0,\"ticks\":\"\"}},\"type\":\"scattergeo\"}],\"scattergl\":[{\"marker\":{\"colorbar\":{\"outlinewidth\":0,\"ticks\":\"\"}},\"type\":\"scattergl\"}],\"scattermapbox\":[{\"marker\":{\"colorbar\":{\"outlinewidth\":0,\"ticks\":\"\"}},\"type\":\"scattermapbox\"}],\"scatterpolar\":[{\"marker\":{\"colorbar\":{\"outlinewidth\":0,\"ticks\":\"\"}},\"type\":\"scatterpolar\"}],\"scatterpolargl\":[{\"marker\":{\"colorbar\":{\"outlinewidth\":0,\"ticks\":\"\"}},\"type\":\"scatterpolargl\"}],\"scatterternary\":[{\"marker\":{\"colorbar\":{\"outlinewidth\":0,\"ticks\":\"\"}},\"type\":\"scatterternary\"}],\"surface\":[{\"colorbar\":{\"outlinewidth\":0,\"ticks\":\"\"},\"colorscale\":[[0.0,\"#0d0887\"],[0.1111111111111111,\"#46039f\"],[0.2222222222222222,\"#7201a8\"],[0.3333333333333333,\"#9c179e\"],[0.4444444444444444,\"#bd3786\"],[0.5555555555555556,\"#d8576b\"],[0.6666666666666666,\"#ed7953\"],[0.7777777777777778,\"#fb9f3a\"],[0.8888888888888888,\"#fdca26\"],[1.0,\"#f0f921\"]],\"type\":\"surface\"}],\"table\":[{\"cells\":{\"fill\":{\"color\":\"#EBF0F8\"},\"line\":{\"color\":\"white\"}},\"header\":{\"fill\":{\"color\":\"#C8D4E3\"},\"line\":{\"color\":\"white\"}},\"type\":\"table\"}]},\"layout\":{\"annotationdefaults\":{\"arrowcolor\":\"#2a3f5f\",\"arrowhead\":0,\"arrowwidth\":1},\"autotypenumbers\":\"strict\",\"coloraxis\":{\"colorbar\":{\"outlinewidth\":0,\"ticks\":\"\"}},\"colorscale\":{\"diverging\":[[0,\"#8e0152\"],[0.1,\"#c51b7d\"],[0.2,\"#de77ae\"],[0.3,\"#f1b6da\"],[0.4,\"#fde0ef\"],[0.5,\"#f7f7f7\"],[0.6,\"#e6f5d0\"],[0.7,\"#b8e186\"],[0.8,\"#7fbc41\"],[0.9,\"#4d9221\"],[1,\"#276419\"]],\"sequential\":[[0.0,\"#0d0887\"],[0.1111111111111111,\"#46039f\"],[0.2222222222222222,\"#7201a8\"],[0.3333333333333333,\"#9c179e\"],[0.4444444444444444,\"#bd3786\"],[0.5555555555555556,\"#d8576b\"],[0.6666666666666666,\"#ed7953\"],[0.7777777777777778,\"#fb9f3a\"],[0.8888888888888888,\"#fdca26\"],[1.0,\"#f0f921\"]],\"sequentialminus\":[[0.0,\"#0d0887\"],[0.1111111111111111,\"#46039f\"],[0.2222222222222222,\"#7201a8\"],[0.3333333333333333,\"#9c179e\"],[0.4444444444444444,\"#bd3786\"],[0.5555555555555556,\"#d8576b\"],[0.6666666666666666,\"#ed7953\"],[0.7777777777777778,\"#fb9f3a\"],[0.8888888888888888,\"#fdca26\"],[1.0,\"#f0f921\"]]},\"colorway\":[\"#636efa\",\"#EF553B\",\"#00cc96\",\"#ab63fa\",\"#FFA15A\",\"#19d3f3\",\"#FF6692\",\"#B6E880\",\"#FF97FF\",\"#FECB52\"],\"font\":{\"color\":\"#2a3f5f\"},\"geo\":{\"bgcolor\":\"white\",\"lakecolor\":\"white\",\"landcolor\":\"#E5ECF6\",\"showlakes\":true,\"showland\":true,\"subunitcolor\":\"white\"},\"hoverlabel\":{\"align\":\"left\"},\"hovermode\":\"closest\",\"mapbox\":{\"style\":\"light\"},\"paper_bgcolor\":\"white\",\"plot_bgcolor\":\"#E5ECF6\",\"polar\":{\"angularaxis\":{\"gridcolor\":\"white\",\"linecolor\":\"white\",\"ticks\":\"\"},\"bgcolor\":\"#E5ECF6\",\"radialaxis\":{\"gridcolor\":\"white\",\"linecolor\":\"white\",\"ticks\":\"\"}},\"scene\":{\"xaxis\":{\"backgroundcolor\":\"#E5ECF6\",\"gridcolor\":\"white\",\"gridwidth\":2,\"linecolor\":\"white\",\"showbackground\":true,\"ticks\":\"\",\"zerolinecolor\":\"white\"},\"yaxis\":{\"backgroundcolor\":\"#E5ECF6\",\"gridcolor\":\"white\",\"gridwidth\":2,\"linecolor\":\"white\",\"showbackground\":true,\"ticks\":\"\",\"zerolinecolor\":\"white\"},\"zaxis\":{\"backgroundcolor\":\"#E5ECF6\",\"gridcolor\":\"white\",\"gridwidth\":2,\"linecolor\":\"white\",\"showbackground\":true,\"ticks\":\"\",\"zerolinecolor\":\"white\"}},\"shapedefaults\":{\"line\":{\"color\":\"#2a3f5f\"}},\"ternary\":{\"aaxis\":{\"gridcolor\":\"white\",\"linecolor\":\"white\",\"ticks\":\"\"},\"baxis\":{\"gridcolor\":\"white\",\"linecolor\":\"white\",\"ticks\":\"\"},\"bgcolor\":\"#E5ECF6\",\"caxis\":{\"gridcolor\":\"white\",\"linecolor\":\"white\",\"ticks\":\"\"}},\"title\":{\"x\":0.05},\"xaxis\":{\"automargin\":true,\"gridcolor\":\"white\",\"linecolor\":\"white\",\"ticks\":\"\",\"title\":{\"standoff\":15},\"zerolinecolor\":\"white\",\"zerolinewidth\":2},\"yaxis\":{\"automargin\":true,\"gridcolor\":\"white\",\"linecolor\":\"white\",\"ticks\":\"\",\"title\":{\"standoff\":15},\"zerolinecolor\":\"white\",\"zerolinewidth\":2}}},\"geo\":{\"domain\":{\"x\":[0.0,1.0],\"y\":[0.0,1.0]},\"center\":{},\"scope\":\"usa\"},\"coloraxis\":{\"colorbar\":{\"title\":{\"text\":\"average early_career_pay\"}},\"colorscale\":[[0.0,\"#0d0887\"],[0.1111111111111111,\"#46039f\"],[0.2222222222222222,\"#7201a8\"],[0.3333333333333333,\"#9c179e\"],[0.4444444444444444,\"#bd3786\"],[0.5555555555555556,\"#d8576b\"],[0.6666666666666666,\"#ed7953\"],[0.7777777777777778,\"#fb9f3a\"],[0.8888888888888888,\"#fdca26\"],[1.0,\"#f0f921\"]]},\"legend\":{\"tracegroupgap\":0},\"margin\":{\"t\":60}},                        {\"responsive\": true}                    ).then(function(){\n",
       "                            \n",
       "var gd = document.getElementById('0eff3a40-5ada-42b1-98e6-36fa75813f24');\n",
       "var x = new MutationObserver(function (mutations, observer) {{\n",
       "        var display = window.getComputedStyle(gd).display;\n",
       "        if (!display || display === 'none') {{\n",
       "            console.log([gd, 'removed!']);\n",
       "            Plotly.purge(gd);\n",
       "            observer.disconnect();\n",
       "        }}\n",
       "}});\n",
       "\n",
       "// Listen for the removal of the full notebook cells\n",
       "var notebookContainer = gd.closest('#notebook-container');\n",
       "if (notebookContainer) {{\n",
       "    x.observe(notebookContainer, {childList: true});\n",
       "}}\n",
       "\n",
       "// Listen for the clearing of the current output cell\n",
       "var outputEl = gd.closest('.output');\n",
       "if (outputEl) {{\n",
       "    x.observe(outputEl, {childList: true});\n",
       "}}\n",
       "\n",
       "                        })                };                });            </script>        </div>"
      ]
     },
     "execution_count": 34,
     "metadata": {
     },
     "output_type": "execute_result"
    }
   ],
   "source": [
    "fig = px.choropleth(state_stats_extras, locations='state_code', locationmode=\"USA-states\", color=\"average early_career_pay\", scope=\"usa\")\n",
    "fig.show()"
   ]
  },
  {
   "cell_type": "markdown",
   "metadata": {
    "collapsed": false
   },
   "source": [
    "Add any more ideas you have here:"
   ]
  },
  {
   "cell_type": "code",
   "execution_count": 0,
   "metadata": {
    "collapsed": false
   },
   "outputs": [
   ],
   "source": [
   ]
  }
 ],
 "metadata": {
  "kernelspec": {
   "display_name": "Python (ds_env)",
   "language": "python",
   "metadata": {
    "debugger": true
   },
   "name": "ds_env",
   "resource_dir": "/projects/4ecc52f5-f80b-4322-9a0d-563e88b9d2a6/.local/share/jupyter/kernels/ds_env"
  },
  "language_info": {
   "codemirror_mode": {
    "name": "ipython",
    "version": 3
   },
   "file_extension": ".py",
   "mimetype": "text/x-python",
   "name": "python",
   "nbconvert_exporter": "python",
   "pygments_lexer": "ipython3",
   "version": "3.8.13"
  }
 },
 "nbformat": 4,
 "nbformat_minor": 4
}