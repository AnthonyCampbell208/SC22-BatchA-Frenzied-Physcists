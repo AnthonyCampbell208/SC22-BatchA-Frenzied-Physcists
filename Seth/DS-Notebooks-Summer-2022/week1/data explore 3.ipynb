{
 "cells": [
  {
   "cell_type": "code",
   "execution_count": 2,
   "metadata": {
    "collapsed": false
   },
   "outputs": [
   ],
   "source": [
    "import pandas as pd"
   ]
  },
  {
   "cell_type": "code",
   "execution_count": 3,
   "metadata": {
    "collapsed": false
   },
   "outputs": [
   ],
   "source": [
    "import plotly.express as px"
   ]
  },
  {
   "cell_type": "code",
   "execution_count": 4,
   "metadata": {
    "collapsed": false
   },
   "outputs": [
   ],
   "source": [
    "df = pd.read_csv(\"./Data/healthcare-dataset-stroke-data.csv\")"
   ]
  },
  {
   "cell_type": "code",
   "execution_count": 5,
   "metadata": {
    "collapsed": false
   },
   "outputs": [
    {
     "data": {
      "text/html": [
       "<div>\n",
       "<style scoped>\n",
       "    .dataframe tbody tr th:only-of-type {\n",
       "        vertical-align: middle;\n",
       "    }\n",
       "\n",
       "    .dataframe tbody tr th {\n",
       "        vertical-align: top;\n",
       "    }\n",
       "\n",
       "    .dataframe thead th {\n",
       "        text-align: right;\n",
       "    }\n",
       "</style>\n",
       "<table border=\"1\" class=\"dataframe\">\n",
       "  <thead>\n",
       "    <tr style=\"text-align: right;\">\n",
       "      <th></th>\n",
       "      <th>id</th>\n",
       "      <th>gender</th>\n",
       "      <th>age</th>\n",
       "      <th>hypertension</th>\n",
       "      <th>heart_disease</th>\n",
       "      <th>ever_married</th>\n",
       "      <th>work_type</th>\n",
       "      <th>Residence_type</th>\n",
       "      <th>avg_glucose_level</th>\n",
       "      <th>bmi</th>\n",
       "      <th>smoking_status</th>\n",
       "      <th>stroke</th>\n",
       "    </tr>\n",
       "  </thead>\n",
       "  <tbody>\n",
       "    <tr>\n",
       "      <th>0</th>\n",
       "      <td>9046</td>\n",
       "      <td>Male</td>\n",
       "      <td>67.0</td>\n",
       "      <td>0</td>\n",
       "      <td>1</td>\n",
       "      <td>Yes</td>\n",
       "      <td>Private</td>\n",
       "      <td>Urban</td>\n",
       "      <td>228.69</td>\n",
       "      <td>36.6</td>\n",
       "      <td>formerly smoked</td>\n",
       "      <td>1</td>\n",
       "    </tr>\n",
       "    <tr>\n",
       "      <th>1</th>\n",
       "      <td>51676</td>\n",
       "      <td>Female</td>\n",
       "      <td>61.0</td>\n",
       "      <td>0</td>\n",
       "      <td>0</td>\n",
       "      <td>Yes</td>\n",
       "      <td>Self-employed</td>\n",
       "      <td>Rural</td>\n",
       "      <td>202.21</td>\n",
       "      <td>NaN</td>\n",
       "      <td>never smoked</td>\n",
       "      <td>1</td>\n",
       "    </tr>\n",
       "    <tr>\n",
       "      <th>2</th>\n",
       "      <td>31112</td>\n",
       "      <td>Male</td>\n",
       "      <td>80.0</td>\n",
       "      <td>0</td>\n",
       "      <td>1</td>\n",
       "      <td>Yes</td>\n",
       "      <td>Private</td>\n",
       "      <td>Rural</td>\n",
       "      <td>105.92</td>\n",
       "      <td>32.5</td>\n",
       "      <td>never smoked</td>\n",
       "      <td>1</td>\n",
       "    </tr>\n",
       "    <tr>\n",
       "      <th>3</th>\n",
       "      <td>60182</td>\n",
       "      <td>Female</td>\n",
       "      <td>49.0</td>\n",
       "      <td>0</td>\n",
       "      <td>0</td>\n",
       "      <td>Yes</td>\n",
       "      <td>Private</td>\n",
       "      <td>Urban</td>\n",
       "      <td>171.23</td>\n",
       "      <td>34.4</td>\n",
       "      <td>smokes</td>\n",
       "      <td>1</td>\n",
       "    </tr>\n",
       "    <tr>\n",
       "      <th>4</th>\n",
       "      <td>1665</td>\n",
       "      <td>Female</td>\n",
       "      <td>79.0</td>\n",
       "      <td>1</td>\n",
       "      <td>0</td>\n",
       "      <td>Yes</td>\n",
       "      <td>Self-employed</td>\n",
       "      <td>Rural</td>\n",
       "      <td>174.12</td>\n",
       "      <td>24.0</td>\n",
       "      <td>never smoked</td>\n",
       "      <td>1</td>\n",
       "    </tr>\n",
       "  </tbody>\n",
       "</table>\n",
       "</div>"
      ],
      "text/plain": [
       "      id  gender   age  hypertension  heart_disease ever_married  \\\n",
       "0   9046    Male  67.0             0              1          Yes   \n",
       "1  51676  Female  61.0             0              0          Yes   \n",
       "2  31112    Male  80.0             0              1          Yes   \n",
       "3  60182  Female  49.0             0              0          Yes   \n",
       "4   1665  Female  79.0             1              0          Yes   \n",
       "\n",
       "       work_type Residence_type  avg_glucose_level   bmi   smoking_status  \\\n",
       "0        Private          Urban             228.69  36.6  formerly smoked   \n",
       "1  Self-employed          Rural             202.21   NaN     never smoked   \n",
       "2        Private          Rural             105.92  32.5     never smoked   \n",
       "3        Private          Urban             171.23  34.4           smokes   \n",
       "4  Self-employed          Rural             174.12  24.0     never smoked   \n",
       "\n",
       "   stroke  \n",
       "0       1  \n",
       "1       1  \n",
       "2       1  \n",
       "3       1  \n",
       "4       1  "
      ]
     },
     "execution_count": 5,
     "metadata": {
     },
     "output_type": "execute_result"
    }
   ],
   "source": [
    "df.head(5)"
   ]
  },
  {
   "cell_type": "code",
   "execution_count": 6,
   "metadata": {
    "collapsed": false
   },
   "outputs": [
    {
     "name": "stdout",
     "output_type": "stream",
     "text": [
      "Index(['id', 'gender', 'age', 'hypertension', 'heart_disease', 'ever_married',\n",
      "       'work_type', 'Residence_type', 'avg_glucose_level', 'bmi',\n",
      "       'smoking_status', 'stroke'],\n",
      "      dtype='object')\n"
     ]
    }
   ],
   "source": [
    "print(df.columns)"
   ]
  },
  {
   "cell_type": "code",
   "execution_count": 22,
   "metadata": {
    "collapsed": false
   },
   "outputs": [
    {
     "data": {
      "text/html": "<html>\n<head><meta charset=\"utf-8\" /></head>\n<body>\n    <div>            <script src=\"https://cdnjs.cloudflare.com/ajax/libs/mathjax/2.7.5/MathJax.js?config=TeX-AMS-MML_SVG\"></script><script type=\"text/javascript\">if (window.MathJax) {MathJax.Hub.Config({SVG: {font: \"STIX-Web\"}});}</script>                <script type=\"text/javascript\">window.PlotlyConfig = {MathJaxConfig: 'local'};</script>\n        <script src=\"https://cdn.plot.ly/plotly-2.9.0.min.js\"></script>                <div id=\"d4d9b37a-3311-439c-b35e-9002443f31db\" class=\"plotly-graph-div\" style=\"height:525px; width:100%;\"></div>            <script type=\"text/javascript\">                                    window.PLOTLYENV=window.PLOTLYENV || {};                                    if (document.getElementById(\"d4d9b37a-3311-439c-b35e-9002443f31db\")) {                    Plotly.newPlot(                        \"d4d9b37a-3311-439c-b35e-9002443f31db\",                        [{\"alignmentgroup\":\"True\",\"hovertemplate\":\"City=%{x}<br>Cost of Living Index=%{y}<extra></extra>\",\"legendgroup\":\"\",\"marker\":{\"color\":\"#636efa\",\"pattern\":{\"shape\":\"\"}},\"name\":\"\",\"offsetgroup\":\"\",\"orientation\":\"v\",\"showlegend\":false,\"textposition\":\"auto\",\"x\":[\"Hamilton, Bermuda\",\"Zurich, Switzerland\",\"Basel, Switzerland\",\"Zug, Switzerland\",\"Lugano, Switzerland\",\"Lausanne, Switzerland\",\"Beirut, Lebanon\",\"Bern, Switzerland\",\"Geneva, Switzerland\",\"Stavanger, Norway\",\"Honolulu, HI, United States\",\"Oslo, Norway\",\"Bergen, Norway\",\"New York, NY, United States\",\"Trondheim, Norway\",\"Tromso, Norway\",\"Reykjavik, Iceland\",\"Saint Helier, Jersey\",\"Santa Barbara, CA, United States\",\"Tel Aviv-Yafo, Israel\",\"Berkeley, CA, United States\",\"San Francisco, CA, United States\",\"Oakland, CA, United States\",\"Anchorage, AK, United States\",\"Santa Clara, CA, United States\",\"Petah Tikva, Israel\",\"Beersheba, Israel\",\"Seattle, WA, United States\",\"Copenhagen, Denmark\",\"Arhus, Denmark\",\"Haifa, Israel\",\"Jerusalem, Israel\",\"Nassau, Bahamas\",\"London, United Kingdom\",\"Tokyo, Japan\",\"Boston, MA, United States\",\"Nice, France\",\"Paris, France\",\"Queens, NY, United States\",\"Singapore, Singapore\",\"Washington, DC, United States\",\"Sydney, Australia\",\"Luxembourg, Luxembourg\",\"Espoo, Finland\",\"Aalborg, Denmark\",\"Pittsburgh, PA, United States\",\"Darwin, Australia\",\"Amsterdam, Netherlands\",\"Jersey City, NJ, United States\",\"Hong Kong, Hong Kong\",\"Breda, Netherlands\",\"Nanaimo, BC, Canada\",\"Auckland, New Zealand\",\"Haarlem, Netherlands\",\"Utrecht, Netherlands\",\"Brighton, United Kingdom\",\"Brisbane, Australia\",\"Philadelphia, PA, United States\",\"Los Angeles, CA, United States\",\"Minneapolis, MN, United States\",\"Turku, Finland\",\"Dublin, Ireland\",\"Stockholm, Sweden\",\"Birmingham, AL, United States\",\"Seoul, South Korea\",\"Eindhoven, Netherlands\",\"Odense, Denmark\",\"Miami, FL, United States\",\"Groningen, Netherlands\",\"Sacramento, CA, United States\",\"Nijmegen, Netherlands\",\"Munich, Germany\",\"Galway, Ireland\",\"St. John's, Newfoundland and Labrador, Canada\",\"Innsbruck, Austria\",\"Perth, Australia\",\"Charleston, SC, United States\",\"Asheville, NC, United States\",\"Lyon, France\",\"Leiden, Netherlands\",\"Helsinki, Finland\",\"Chicago, IL, United States\",\"Fort Lauderdale, FL, United States\",\"Portland, OR, United States\",\"Melbourne, Australia\",\"Osaka, Japan\",\"Wellington, New Zealand\",\"Victoria, Canada\",\"Vancouver, Canada\",\"Atlanta, GA, United States\",\"Adelaide, Australia\",\"Lund, Sweden\",\"Toulouse, France\",\"Guelph, Canada\",\"Rotterdam, Netherlands\",\"Saint Paul, MN, United States\",\"Cork, Ireland\",\"Guildford, United Kingdom\",\"Plano, TX, United States\",\"Canberra, Australia\",\"Tampa, FL, United States\",\"Gold Coast, Australia\",\"Oxford, United Kingdom\",\"Nagoya, Japan\",\"Lincoln, United Kingdom\",\"York, United Kingdom\",\"San Diego, CA, United States\",\"Cleveland, OH, United States\",\"Omaha, NE, United States\",\"Leuven, Belgium\",\"Reading, United Kingdom\",\"Hamilton, New Zealand\",\"Denver, CO, United States\",\"Uppsala, Sweden\",\"Newcastle, Australia\",\"Halifax, Canada\",\"Milan, Italy\",\"Sliema, Malta\",\"Graz, Austria\",\"Brussels, Belgium\",\"Buffalo, NY, United States\",\"Toronto, Canada\",\"Colorado Springs, CO, United States\",\"Fremont, CA, United States\",\"Limerick, Ireland\",\"Salem, OR, United States\",\"The Hague (Den Haag), Netherlands\",\"Hobart, Australia\",\"Christchurch, New Zealand\",\"Malmo, Sweden\",\"San Jose, CA, United States\",\"Nashville, TN, United States\",\"Enschede, Netherlands\",\"Olympia, WA, United States\",\"Maastricht, Netherlands\",\"Baltimore, MD, United States\",\"New Orleans, LA, United States\",\"Linz, Austria\",\"Calgary, Canada\",\"Edinburgh, United Kingdom\",\"Ottawa, Canada\",\"Milton Keynes, United Kingdom\",\"Manchester, United Kingdom\",\"Mississauga, Canada\",\"Cambridge, United Kingdom\",\"Gothenburg, Sweden\",\"Edmonton, Canada\",\"Parma, Italy\",\"Genoa, Italy\",\"Frankfurt, Germany\",\"Fort Collins, CO, United States\",\"Grenoble, France\",\"Bergamo, Italy\",\"Derby, United Kingdom\",\"Iowa City, IA, United States\",\"Delft, Netherlands\",\"Syracuse, NY, United States\",\"Everett, WA, United States\",\"Saskatoon, Canada\",\"Heidelberg, Germany\",\"Markham, Canada\",\"Hamburg, Germany\",\"Red Deer, Canada\",\"Surrey, Canada\",\"Trieste, Italy\",\"Rochester, NY, United States\",\"Milwaukee, WI, United States\",\"Albany, NY, United States\",\"Liverpool, United Kingdom\",\"Nottingham, United Kingdom\",\"Antwerp, Belgium\",\"Bristol, United Kingdom\",\"Tampere, Finland\",\"Portsmouth, United Kingdom\",\"Bonn, Germany\",\"Marseille, France\",\"Rome, Italy\",\"Tauranga, New Zealand\",\"Florence, Italy\",\"Plymouth, United Kingdom\",\"Detroit, MI, United States\",\"Reno, NV, United States\",\"Oulu, Finland\",\"Montreal, Canada\",\"Salzburg, Austria\",\"London, Canada\",\"Brampton, Canada\",\"Fort Worth, TX, United States\",\"Durham, NC, United States\",\"Winnipeg, Canada\",\"Ann Arbor, MI, United States\",\"Greensboro, NC, United States\",\"San Juan, Puerto Rico\",\"Charlotte, NC, United States\",\"Norwich, United Kingdom\",\"Gent, Belgium\",\"Exeter, United Kingdom\",\"Dortmund, Germany\",\"Long Beach, CA, United States\",\"Bologna, Italy\",\"North Vancouver, Canada\",\"Kelowna, Canada\",\"Columbus, OH, United States\",\"Brescia, Italy\",\"Eugene, OR, United States\",\"Macao, Macao\",\"Cologne, Germany\",\"Jacksonville, FL, United States\",\"Regina, Canada\",\"Phoenix, AZ, United States\",\"Des Moines, IA, United States\",\"Quebec City, Canada\",\"Fresno, CA, United States\",\"Berlin, Germany\",\"Cardiff, United Kingdom\",\"Windsor, Canada\",\"Glasgow, United Kingdom\",\"Kitchener, Canada\",\"Vancouver, WA, United States\",\"Kingston, Canada\",\"Augsburg, Germany\",\"Stuttgart, Germany\",\"Vienna, Austria\",\"Mannheim, Germany\",\"Las Vegas, NV, United States\",\"Boise, ID, United States\",\"Dusseldorf, Germany\",\"Raleigh, NC, United States\",\"Pisa, Italy\",\"Spokane, WA, United States\",\"Orlando, FL, United States\",\"Dayton, OH, United States\",\"Verona, Italy\",\"Dallas, TX, United States\",\"Richmond, VA, United States\",\"Louisville, KY, United States\",\"Southampton, United Kingdom\",\"Leeds, United Kingdom\",\"Treviso, Italy\",\"Madison, WI, United States\",\"Birmingham, United Kingdom\",\"Indianapolis, IN, United States\",\"Hanover, Germany\",\"Nuremberg, Germany\",\"Hamilton, Canada\",\"Coventry, United Kingdom\",\"Newcastle upon Tyne, United Kingdom\",\"Saint Louis, MO, United States\",\"Ulm, Germany\",\"Stoke-on-Trent, United Kingdom\",\"Austin, TX, United States\",\"Dundee, United Kingdom\",\"Saarbrucken, Germany\",\"Kansas City, MO, United States\",\"Cagliari, Italy\",\"Karlsruhe, Germany\",\"Sheffield, United Kingdom\",\"Taipei, Taiwan\",\"Belfast, United Kingdom\",\"Chattanooga, TN, United States\",\"Darmstadt, Germany\",\"Limassol, Cyprus\",\"Turin, Italy\",\"St.Catharines, Canada\",\"Best, Netherlands\",\"Toledo, OH, United States\",\"Salt Lake City, UT, United States\",\"Oklahoma City, OK, United States\",\"Padova, Italy\",\"Leicester, United Kingdom\",\"Freiburg im Breisgau, Germany\",\"Erlangen, Germany\",\"Nicosia, Cyprus\",\"Cincinnati, OH, United States\",\"Tucson, AZ, United States\",\"Dubai, United Arab Emirates\",\"Houston, TX, United States\",\"Bilbao, Spain\",\"Bournemouth, United Kingdom\",\"Mesa, AZ, United States\",\"Essen, Germany\",\"Albuquerque, NM, United States\",\"Aberdeen, United Kingdom\",\"Lexington, KY, United States\",\"Doha, Qatar\",\"Leipzig, Germany\",\"San Antonio, TX, United States\",\"Bari, Italy\",\"Dresden, Germany\",\"Tulsa, OK, United States\",\"Naples, Italy\",\"Memphis, TN, United States\",\"Bremen, Germany\",\"Akron, OH, United States\",\"Kingston upon Hull, United Kingdom\",\"Aachen, Germany\",\"Kaohsiung, Taiwan\",\"Regensburg, Germany\",\"Barcelona, Spain\",\"Little Rock, AR, United States\",\"Port of Spain, Trinidad And Tobago\",\"Madrid, Spain\",\"Palma de Mallorca, Spain\",\"Athens, Greece\",\"Wichita, KS, United States\",\"Patras, Greece\",\"Thessaloniki, Greece\",\"Palermo, Italy\",\"Abu Dhabi, United Arab Emirates\",\"Larnaca, Cyprus\",\"Catania, Italy\",\"Male, Maldives\",\"Ljubljana, Slovenia\",\"Heraklion, Greece\",\"El Paso, TX, United States\",\"Havana, Cuba\",\"Tallinn, Estonia\",\"Zaragoza (Saragossa), Spain\",\"Panama City, Panama\",\"Manama, Bahrain\",\"Shanghai, China\",\"Riyadh, Saudi Arabia\",\"Tartu, Estonia\",\"Vigo, Spain\",\"Seville (Sevilla), Spain\",\"Valencia, Spain\",\"Paphos, Cyprus\",\"Makati, Philippines\",\"Ajman, United Arab Emirates\",\"Jeddah (Jiddah), Saudi Arabia\",\"Malaga, Spain\",\"Amman, Jordan\",\"Granada, Spain\",\"Montevideo, Uruguay\",\"Prague, Czech Republic\",\"Murcia, Spain\",\"Lisbon, Portugal\",\"Maribor, Slovenia\",\"Split, Croatia\",\"Kingston, Jamaica\",\"Riga, Latvia\",\"Alicante, Spain\",\"Muscat, Oman\",\"Shenzhen, China\",\"Santa Cruz de Tenerife, Spain\",\"Dakar, Senegal\",\"Cascais, Portugal\",\"Las Palmas de Gran Canaria, Spain\",\"Addis Ababa, Ethiopia\",\"Bangkok, Thailand\",\"Rijeka, Croatia\",\"Phnom Penh, Cambodia\",\"Zagreb, Croatia\",\"Beijing, China\",\"Bratislava, Slovakia\",\"Porto, Portugal\",\"Brno, Czech Republic\",\"Hangzhou, China\",\"Paramaribo, Suriname\",\"Funchal, Portugal\",\"Sharjah, United Arab Emirates\",\"Ad Dammam, Saudi Arabia\",\"Olomouc, Czech Republic\",\"Kosice, Slovakia\",\"Kuwait City, Kuwait\",\"San Jose, Costa Rica\",\"Coimbra, Portugal\",\"Abidjan, Ivory Coast\",\"Braga, Portugal\",\"Vilnius, Lithuania\",\"Ostrava, Czech Republic\",\"Aveiro, Portugal\",\"Budapest, Hungary\",\"Suzhou, China\",\"Harare, Zimbabwe\",\"Leiria, Portugal\",\"Santiago, Chile\",\"San Salvador, El Salvador\",\"Caracas, Venezuela\",\"Johannesburg, South Africa\",\"Kaunas, Lithuania\",\"Santo Domingo, Dominican Republic\",\"Guatemala City, Guatemala\",\"Phuket, Thailand\",\"Warsaw, Poland\",\"Chengdu, China\",\"Osijek, Croatia\",\"Quezon City, Philippines\",\"Gdynia, Poland\",\"Bali, Indonesia\",\"Pretoria, South Africa\",\"Gaborone, Botswana\",\"Nanjing, China\",\"Sofia, Bulgaria\",\"Chiang Mai, Thailand\",\"Moscow, Russia\",\"Pattaya, Thailand\",\"Gdansk, Poland\",\"Krakow (Cracow), Poland\",\"Wroclaw, Poland\",\"Guangzhou, China\",\"Cape Town, South Africa\",\"Jakarta, Indonesia\",\"Pecs, Hungary\",\"Manila, Philippines\",\"Poznan, Poland\",\"Quito, Ecuador\",\"Durban, South Africa\",\"Katowice, Poland\",\"Cluj-Napoca, Romania\",\"Bucharest, Romania\",\"Szeged, Hungary\",\"Belgrade, Serbia\",\"Debrecen, Hungary\",\"Petaling Jaya, Malaysia\",\"Marrakech, Morocco\",\"Podgorica, Montenegro\",\"Szczecin, Poland\",\"Kota Kinabalu, Malaysia\",\"Kuala Lumpur, Malaysia\",\"Varna, Bulgaria\",\"Suva, Fiji\",\"Cebu, Philippines\",\"Ho Chi Minh City, Vietnam\",\"Cancun, Mexico\",\"Accra, Ghana\",\"Tirana, Albania\",\"Guayaquil, Ecuador\",\"Monterrey, Mexico\",\"Plovdiv, Bulgaria\",\"Sarajevo, Bosnia And Herzegovina\",\"Lublin, Poland\",\"Erbil (Irbil), Iraq\",\"Santa Cruz, Bolivia\",\"Isfahan (Esfahan), Iran\",\"Lodz, Poland\",\"Saint Petersburg, Russia\",\"Banja Luka, Bosnia And Herzegovina\",\"Penang, Malaysia\",\"La Paz, Bolivia\",\"Sao Paulo, Brazil\",\"Novi Sad, Serbia\",\"Mexico City, Mexico\",\"Lagos, Nigeria\",\"Constanta, Romania\",\"Iasi, Romania\",\"Hanoi, Vietnam\",\"Tangier, Morocco\",\"Brasilia, Brazil\",\"Burgas, Bulgaria\",\"Baguio, Philippines\",\"Rio de Janeiro, Brazil\",\"Brasov, Romania\",\"Casablanca, Morocco\",\"Damascus, Syria\",\"Sibiu, Romania\",\"Timisoara, Romania\",\"Kampala, Uganda\",\"Nairobi, Kenya\",\"Merida, Mexico\",\"Rabat, Morocco\",\"Qingdao, Shandong, China\",\"Queretaro, Mexico\",\"Bandung, Indonesia\",\"Oradea, Romania\",\"Buenos Aires, Argentina\",\"Dhaka, Bangladesh\",\"Skopje, North Macedonia\",\"Ulaanbaatar, Mongolia\",\"Craiova, Romania\",\"Agadir, Morocco\",\"Baghdad, Iraq\",\"Surabaya, Indonesia\",\"Lima, Peru\",\"Arad, Romania\",\"Florianopolis, Brazil\",\"Cuenca, Ecuador\",\"Kiev (Kyiv), Ukraine\",\"Gurgaon, India\",\"Guadalajara, Mexico\",\"Kazan, Russia\",\"Yerevan, Armenia\",\"Dar es Salaam, Tanzania\",\"Nizhny Novgorod, Russia\",\"Colombo, Sri Lanka\",\"Lusaka, Zambia\",\"Nis, Serbia\",\"Yekaterinburg, Russia\",\"Minsk, Belarus\",\"Krasnodar, Russia\",\"Mashhad, Iran\",\"Belo Horizonte, Brazil\",\"Cairo, Egypt\",\"Porto Alegre, Brazil\",\"Kigali, Rwanda\",\"Novosibirsk, Russia\",\"Rostov-na-donu, Russia\",\"Odessa (Odesa), Ukraine\",\"Chisinau, Moldova\",\"Curitiba, Brazil\",\"Baku, Azerbaijan\",\"Tehran, Iran\",\"Istanbul, Turkey\",\"Tbilisi, Georgia\",\"Yogyakarta, Indonesia\",\"Asuncion, Paraguay\",\"Kharkiv, Ukraine\",\"Astana (Nur-Sultan), Kazakhstan\",\"Chandigarh, India\",\"Almaty, Kazakhstan\",\"Tunis, Tunisia\",\"Kathmandu, Nepal\",\"Algiers, Algeria\",\"Lviv, Ukraine\",\"Tashkent, Uzbekistan\",\"Mumbai, India\",\"Dnipro, Ukraine\",\"Noida, India\",\"Medellin, Colombia\",\"Alexandria, Egypt\",\"Barranquilla, Colombia\",\"Navi Mumbai, India\",\"Izmir, Turkey\",\"Delhi, India\",\"Bangalore, India\",\"Bogota, Colombia\",\"Goa, India\",\"Pune, India\",\"Ghaziabad, India\",\"Thane, India\",\"Ranchi, India\",\"Ankara, Turkey\",\"Hyderabad, India\",\"Faridabad, India\",\"Bishkek, Kyrgyzstan\",\"Pristina, Kosovo (Disputed Territory)\",\"Chennai, India\",\"Ahmedabad, India\",\"Kolkata, India\",\"Cali, Colombia\",\"Guwahati, India\",\"Lucknow (Lakhnau), India\",\"Madurai, India\",\"Surat, India\",\"Vadodara, India\",\"Vijayawada, India\",\"Ludhiana, India\",\"Cyberjaya, Selangor, Malaysia\",\"Raipur, India\",\"Dehradun, India\",\"Nashik, India\",\"Indore, India\",\"Rajkot, India\",\"Nagpur, India\",\"Ernakulam, India\",\"Visakhapatnam, India\",\"Jaipur, India\",\"Patna, India\",\"Mangalore, India\",\"Bucaramanga, Colombia\",\"Coimbatore, India\",\"Bhopal, India\",\"Bhubaneswar, India\",\"Mysore, India\",\"Kochi, India\",\"Agra, India\",\"Jammu, India\",\"Thiruvananthapuram, India\",\"Kozhikode (Calicut), India\",\"Lahore, Pakistan\",\"Islamabad, Pakistan\",\"Kabul, Afghanistan\",\"Thrissur, India\",\"Kanpur, India\",\"Karachi, Pakistan\",\"Rawalpindi, Pakistan\",\"Multan, Pakistan\",\"Peshawar, Pakistan\"],\"xaxis\":\"x\",\"y\":[149.02,131.24,130.93,128.13,123.99,122.03,120.47,118.16,114.05,104.61,103.65,102.33,100.38,100.0,99.43,98.99,97.61,96.54,95.01,94.49,94.36,93.91,92.93,91.23,89.41,88.86,88.77,88.52,88.34,88.18,87.44,86.32,85.98,85.62,85.61,85.47,84.6,84.35,84.02,83.98,83.74,83.21,82.99,82.46,82.43,82.36,82.06,80.82,80.79,80.71,80.64,80.26,80.19,79.79,79.76,79.57,79.44,79.19,79.19,79.08,79.06,79.05,78.92,78.82,78.66,78.24,78.23,78.0,77.94,77.88,77.8,77.52,77.44,77.4,77.32,77.29,77.26,77.25,77.21,77.2,77.17,77.06,76.86,76.83,76.76,76.71,76.66,76.65,76.61,76.6,76.59,76.58,76.57,76.36,76.24,76.17,76.15,76.02,75.94,75.94,75.83,75.8,75.68,75.62,75.6,75.52,75.47,75.41,75.31,75.27,75.27,75.24,75.16,75.08,74.99,74.91,74.8,74.78,74.59,74.39,74.29,74.29,74.26,74.12,74.11,73.98,73.94,73.93,73.85,73.75,73.71,73.62,73.61,73.58,73.56,73.56,73.55,73.55,73.4,73.15,73.15,73.14,73.14,73.12,73.05,72.97,72.86,72.81,72.79,72.78,72.75,72.67,72.64,72.57,72.54,72.54,72.53,72.38,72.27,72.14,72.1,72.01,71.73,71.67,71.65,71.57,71.56,71.49,71.39,71.34,71.33,71.32,71.19,71.16,71.08,71.05,71.0,70.87,70.81,70.7,70.68,70.67,70.62,70.6,70.53,70.49,70.44,70.42,70.37,70.33,70.28,70.27,70.14,70.06,70.06,69.97,69.9,69.89,69.87,69.79,69.79,69.73,69.7,69.64,69.64,69.61,69.59,69.51,69.44,69.37,69.33,68.99,68.97,68.94,68.91,68.88,68.76,68.7,68.57,68.57,68.51,68.38,68.36,68.35,68.34,68.29,68.28,68.2,68.17,68.11,68.1,68.03,67.98,67.85,67.75,67.71,67.59,67.57,67.54,67.32,67.25,67.14,67.04,66.97,66.95,66.94,66.86,66.83,66.67,66.58,66.5,66.46,66.3,66.07,66.06,65.88,65.88,65.8,65.74,65.69,65.48,65.26,65.19,65.18,65.13,64.99,64.95,64.94,64.93,64.91,64.65,64.54,64.53,64.39,64.34,64.32,63.94,63.81,63.73,63.66,63.61,63.44,63.4,62.92,62.9,62.83,62.59,62.59,62.46,62.35,62.35,62.29,62.24,62.2,62.07,61.81,61.4,61.36,61.15,59.26,59.2,59.01,58.97,58.97,58.92,58.74,58.4,57.97,57.89,57.38,57.35,57.26,57.18,57.08,55.92,55.91,55.75,54.8,54.54,54.3,53.9,53.85,53.79,53.43,53.28,52.97,52.86,52.72,52.58,52.57,52.52,52.18,52.03,52.0,51.78,51.73,51.7,51.64,51.59,51.57,51.54,51.47,51.24,51.08,50.92,50.87,50.86,50.52,50.49,50.36,50.14,50.1,49.88,49.53,49.44,49.37,49.29,49.21,49.19,49.16,49.03,48.45,48.21,48.19,48.0,47.65,47.35,47.06,46.99,46.94,46.47,46.46,46.13,45.94,45.69,45.67,45.64,45.32,45.31,44.87,44.74,44.66,44.59,44.34,43.94,43.81,43.61,43.26,42.92,42.87,42.76,42.7,42.29,42.24,42.22,42.2,42.13,41.32,41.3,41.12,41.11,40.98,40.86,40.83,40.77,40.72,40.48,40.33,40.26,40.16,40.1,40.08,40.05,40.03,39.98,39.94,39.34,39.31,39.25,39.25,39.14,39.04,39.04,39.01,38.85,38.74,38.68,38.57,38.46,38.42,38.42,38.04,38.03,38.01,37.98,37.94,37.81,37.61,37.61,37.53,37.51,37.44,37.41,37.33,37.26,37.13,36.85,36.85,36.84,36.82,36.74,36.67,36.63,36.59,36.38,36.19,36.16,35.98,35.88,35.7,35.67,35.48,35.4,35.39,35.35,35.25,35.12,34.9,34.86,34.85,34.81,34.81,34.65,34.6,34.49,34.39,34.21,34.11,34.1,34.05,34.02,34.01,33.97,33.89,33.62,33.57,33.4,33.23,32.79,32.65,32.54,32.5,32.39,32.33,32.27,32.26,32.1,31.94,31.82,31.81,31.6,31.47,31.14,30.95,30.8,30.62,30.46,30.3,30.27,30.22,29.94,29.87,29.84,29.67,29.36,29.33,29.26,29.21,28.81,28.43,28.42,28.38,28.37,28.23,28.2,27.94,27.72,27.57,27.55,27.53,27.33,27.17,26.61,26.56,26.55,26.15,26.08,26.01,25.99,25.78,25.61,25.42,25.38,25.34,25.32,24.95,24.92,24.85,24.81,24.75,24.6,24.5,24.47,24.39,24.04,24.03,23.97,23.97,23.73,23.7,23.45,23.35,23.34,23.16,22.9,22.81,22.04,21.75,21.57,21.53,21.5,21.35,21.28,20.79,20.75,20.52,18.68,18.55],\"yaxis\":\"y\",\"type\":\"bar\"}],                        {\"template\":{\"data\":{\"bar\":[{\"error_x\":{\"color\":\"#2a3f5f\"},\"error_y\":{\"color\":\"#2a3f5f\"},\"marker\":{\"line\":{\"color\":\"#E5ECF6\",\"width\":0.5},\"pattern\":{\"fillmode\":\"overlay\",\"size\":10,\"solidity\":0.2}},\"type\":\"bar\"}],\"barpolar\":[{\"marker\":{\"line\":{\"color\":\"#E5ECF6\",\"width\":0.5},\"pattern\":{\"fillmode\":\"overlay\",\"size\":10,\"solidity\":0.2}},\"type\":\"barpolar\"}],\"carpet\":[{\"aaxis\":{\"endlinecolor\":\"#2a3f5f\",\"gridcolor\":\"white\",\"linecolor\":\"white\",\"minorgridcolor\":\"white\",\"startlinecolor\":\"#2a3f5f\"},\"baxis\":{\"endlinecolor\":\"#2a3f5f\",\"gridcolor\":\"white\",\"linecolor\":\"white\",\"minorgridcolor\":\"white\",\"startlinecolor\":\"#2a3f5f\"},\"type\":\"carpet\"}],\"choropleth\":[{\"colorbar\":{\"outlinewidth\":0,\"ticks\":\"\"},\"type\":\"choropleth\"}],\"contour\":[{\"colorbar\":{\"outlinewidth\":0,\"ticks\":\"\"},\"colorscale\":[[0.0,\"#0d0887\"],[0.1111111111111111,\"#46039f\"],[0.2222222222222222,\"#7201a8\"],[0.3333333333333333,\"#9c179e\"],[0.4444444444444444,\"#bd3786\"],[0.5555555555555556,\"#d8576b\"],[0.6666666666666666,\"#ed7953\"],[0.7777777777777778,\"#fb9f3a\"],[0.8888888888888888,\"#fdca26\"],[1.0,\"#f0f921\"]],\"type\":\"contour\"}],\"contourcarpet\":[{\"colorbar\":{\"outlinewidth\":0,\"ticks\":\"\"},\"type\":\"contourcarpet\"}],\"heatmap\":[{\"colorbar\":{\"outlinewidth\":0,\"ticks\":\"\"},\"colorscale\":[[0.0,\"#0d0887\"],[0.1111111111111111,\"#46039f\"],[0.2222222222222222,\"#7201a8\"],[0.3333333333333333,\"#9c179e\"],[0.4444444444444444,\"#bd3786\"],[0.5555555555555556,\"#d8576b\"],[0.6666666666666666,\"#ed7953\"],[0.7777777777777778,\"#fb9f3a\"],[0.8888888888888888,\"#fdca26\"],[1.0,\"#f0f921\"]],\"type\":\"heatmap\"}],\"heatmapgl\":[{\"colorbar\":{\"outlinewidth\":0,\"ticks\":\"\"},\"colorscale\":[[0.0,\"#0d0887\"],[0.1111111111111111,\"#46039f\"],[0.2222222222222222,\"#7201a8\"],[0.3333333333333333,\"#9c179e\"],[0.4444444444444444,\"#bd3786\"],[0.5555555555555556,\"#d8576b\"],[0.6666666666666666,\"#ed7953\"],[0.7777777777777778,\"#fb9f3a\"],[0.8888888888888888,\"#fdca26\"],[1.0,\"#f0f921\"]],\"type\":\"heatmapgl\"}],\"histogram\":[{\"marker\":{\"pattern\":{\"fillmode\":\"overlay\",\"size\":10,\"solidity\":0.2}},\"type\":\"histogram\"}],\"histogram2d\":[{\"colorbar\":{\"outlinewidth\":0,\"ticks\":\"\"},\"colorscale\":[[0.0,\"#0d0887\"],[0.1111111111111111,\"#46039f\"],[0.2222222222222222,\"#7201a8\"],[0.3333333333333333,\"#9c179e\"],[0.4444444444444444,\"#bd3786\"],[0.5555555555555556,\"#d8576b\"],[0.6666666666666666,\"#ed7953\"],[0.7777777777777778,\"#fb9f3a\"],[0.8888888888888888,\"#fdca26\"],[1.0,\"#f0f921\"]],\"type\":\"histogram2d\"}],\"histogram2dcontour\":[{\"colorbar\":{\"outlinewidth\":0,\"ticks\":\"\"},\"colorscale\":[[0.0,\"#0d0887\"],[0.1111111111111111,\"#46039f\"],[0.2222222222222222,\"#7201a8\"],[0.3333333333333333,\"#9c179e\"],[0.4444444444444444,\"#bd3786\"],[0.5555555555555556,\"#d8576b\"],[0.6666666666666666,\"#ed7953\"],[0.7777777777777778,\"#fb9f3a\"],[0.8888888888888888,\"#fdca26\"],[1.0,\"#f0f921\"]],\"type\":\"histogram2dcontour\"}],\"mesh3d\":[{\"colorbar\":{\"outlinewidth\":0,\"ticks\":\"\"},\"type\":\"mesh3d\"}],\"parcoords\":[{\"line\":{\"colorbar\":{\"outlinewidth\":0,\"ticks\":\"\"}},\"type\":\"parcoords\"}],\"pie\":[{\"automargin\":true,\"type\":\"pie\"}],\"scatter\":[{\"marker\":{\"colorbar\":{\"outlinewidth\":0,\"ticks\":\"\"}},\"type\":\"scatter\"}],\"scatter3d\":[{\"line\":{\"colorbar\":{\"outlinewidth\":0,\"ticks\":\"\"}},\"marker\":{\"colorbar\":{\"outlinewidth\":0,\"ticks\":\"\"}},\"type\":\"scatter3d\"}],\"scattercarpet\":[{\"marker\":{\"colorbar\":{\"outlinewidth\":0,\"ticks\":\"\"}},\"type\":\"scattercarpet\"}],\"scattergeo\":[{\"marker\":{\"colorbar\":{\"outlinewidth\":0,\"ticks\":\"\"}},\"type\":\"scattergeo\"}],\"scattergl\":[{\"marker\":{\"colorbar\":{\"outlinewidth\":0,\"ticks\":\"\"}},\"type\":\"scattergl\"}],\"scattermapbox\":[{\"marker\":{\"colorbar\":{\"outlinewidth\":0,\"ticks\":\"\"}},\"type\":\"scattermapbox\"}],\"scatterpolar\":[{\"marker\":{\"colorbar\":{\"outlinewidth\":0,\"ticks\":\"\"}},\"type\":\"scatterpolar\"}],\"scatterpolargl\":[{\"marker\":{\"colorbar\":{\"outlinewidth\":0,\"ticks\":\"\"}},\"type\":\"scatterpolargl\"}],\"scatterternary\":[{\"marker\":{\"colorbar\":{\"outlinewidth\":0,\"ticks\":\"\"}},\"type\":\"scatterternary\"}],\"surface\":[{\"colorbar\":{\"outlinewidth\":0,\"ticks\":\"\"},\"colorscale\":[[0.0,\"#0d0887\"],[0.1111111111111111,\"#46039f\"],[0.2222222222222222,\"#7201a8\"],[0.3333333333333333,\"#9c179e\"],[0.4444444444444444,\"#bd3786\"],[0.5555555555555556,\"#d8576b\"],[0.6666666666666666,\"#ed7953\"],[0.7777777777777778,\"#fb9f3a\"],[0.8888888888888888,\"#fdca26\"],[1.0,\"#f0f921\"]],\"type\":\"surface\"}],\"table\":[{\"cells\":{\"fill\":{\"color\":\"#EBF0F8\"},\"line\":{\"color\":\"white\"}},\"header\":{\"fill\":{\"color\":\"#C8D4E3\"},\"line\":{\"color\":\"white\"}},\"type\":\"table\"}]},\"layout\":{\"annotationdefaults\":{\"arrowcolor\":\"#2a3f5f\",\"arrowhead\":0,\"arrowwidth\":1},\"autotypenumbers\":\"strict\",\"coloraxis\":{\"colorbar\":{\"outlinewidth\":0,\"ticks\":\"\"}},\"colorscale\":{\"diverging\":[[0,\"#8e0152\"],[0.1,\"#c51b7d\"],[0.2,\"#de77ae\"],[0.3,\"#f1b6da\"],[0.4,\"#fde0ef\"],[0.5,\"#f7f7f7\"],[0.6,\"#e6f5d0\"],[0.7,\"#b8e186\"],[0.8,\"#7fbc41\"],[0.9,\"#4d9221\"],[1,\"#276419\"]],\"sequential\":[[0.0,\"#0d0887\"],[0.1111111111111111,\"#46039f\"],[0.2222222222222222,\"#7201a8\"],[0.3333333333333333,\"#9c179e\"],[0.4444444444444444,\"#bd3786\"],[0.5555555555555556,\"#d8576b\"],[0.6666666666666666,\"#ed7953\"],[0.7777777777777778,\"#fb9f3a\"],[0.8888888888888888,\"#fdca26\"],[1.0,\"#f0f921\"]],\"sequentialminus\":[[0.0,\"#0d0887\"],[0.1111111111111111,\"#46039f\"],[0.2222222222222222,\"#7201a8\"],[0.3333333333333333,\"#9c179e\"],[0.4444444444444444,\"#bd3786\"],[0.5555555555555556,\"#d8576b\"],[0.6666666666666666,\"#ed7953\"],[0.7777777777777778,\"#fb9f3a\"],[0.8888888888888888,\"#fdca26\"],[1.0,\"#f0f921\"]]},\"colorway\":[\"#636efa\",\"#EF553B\",\"#00cc96\",\"#ab63fa\",\"#FFA15A\",\"#19d3f3\",\"#FF6692\",\"#B6E880\",\"#FF97FF\",\"#FECB52\"],\"font\":{\"color\":\"#2a3f5f\"},\"geo\":{\"bgcolor\":\"white\",\"lakecolor\":\"white\",\"landcolor\":\"#E5ECF6\",\"showlakes\":true,\"showland\":true,\"subunitcolor\":\"white\"},\"hoverlabel\":{\"align\":\"left\"},\"hovermode\":\"closest\",\"mapbox\":{\"style\":\"light\"},\"paper_bgcolor\":\"white\",\"plot_bgcolor\":\"#E5ECF6\",\"polar\":{\"angularaxis\":{\"gridcolor\":\"white\",\"linecolor\":\"white\",\"ticks\":\"\"},\"bgcolor\":\"#E5ECF6\",\"radialaxis\":{\"gridcolor\":\"white\",\"linecolor\":\"white\",\"ticks\":\"\"}},\"scene\":{\"xaxis\":{\"backgroundcolor\":\"#E5ECF6\",\"gridcolor\":\"white\",\"gridwidth\":2,\"linecolor\":\"white\",\"showbackground\":true,\"ticks\":\"\",\"zerolinecolor\":\"white\"},\"yaxis\":{\"backgroundcolor\":\"#E5ECF6\",\"gridcolor\":\"white\",\"gridwidth\":2,\"linecolor\":\"white\",\"showbackground\":true,\"ticks\":\"\",\"zerolinecolor\":\"white\"},\"zaxis\":{\"backgroundcolor\":\"#E5ECF6\",\"gridcolor\":\"white\",\"gridwidth\":2,\"linecolor\":\"white\",\"showbackground\":true,\"ticks\":\"\",\"zerolinecolor\":\"white\"}},\"shapedefaults\":{\"line\":{\"color\":\"#2a3f5f\"}},\"ternary\":{\"aaxis\":{\"gridcolor\":\"white\",\"linecolor\":\"white\",\"ticks\":\"\"},\"baxis\":{\"gridcolor\":\"white\",\"linecolor\":\"white\",\"ticks\":\"\"},\"bgcolor\":\"#E5ECF6\",\"caxis\":{\"gridcolor\":\"white\",\"linecolor\":\"white\",\"ticks\":\"\"}},\"title\":{\"x\":0.05},\"xaxis\":{\"automargin\":true,\"gridcolor\":\"white\",\"linecolor\":\"white\",\"ticks\":\"\",\"title\":{\"standoff\":15},\"zerolinecolor\":\"white\",\"zerolinewidth\":2},\"yaxis\":{\"automargin\":true,\"gridcolor\":\"white\",\"linecolor\":\"white\",\"ticks\":\"\",\"title\":{\"standoff\":15},\"zerolinecolor\":\"white\",\"zerolinewidth\":2}}},\"xaxis\":{\"anchor\":\"y\",\"domain\":[0.0,1.0],\"title\":{\"text\":\"City\"}},\"yaxis\":{\"anchor\":\"x\",\"domain\":[0.0,1.0],\"title\":{\"text\":\"Cost of Living Index\"}},\"legend\":{\"tracegroupgap\":0},\"margin\":{\"t\":60},\"barmode\":\"relative\"},                        {\"responsive\": true}                    ).then(function(){\n                            \nvar gd = document.getElementById('d4d9b37a-3311-439c-b35e-9002443f31db');\nvar x = new MutationObserver(function (mutations, observer) {{\n        var display = window.getComputedStyle(gd).display;\n        if (!display || display === 'none') {{\n            console.log([gd, 'removed!']);\n            Plotly.purge(gd);\n            observer.disconnect();\n        }}\n}});\n\n// Listen for the removal of the full notebook cells\nvar notebookContainer = gd.closest('#notebook-container');\nif (notebookContainer) {{\n    x.observe(notebookContainer, {childList: true});\n}}\n\n// Listen for the clearing of the current output cell\nvar outputEl = gd.closest('.output');\nif (outputEl) {{\n    x.observe(outputEl, {childList: true});\n}}\n\n                        })                };                            </script>        </div>\n</body>\n</html>"
     },
     "execution_count": 22,
     "metadata": {
     },
     "output_type": "execute_result"
    }
   ],
   "source": [
    "fig = px.bar(df, x=\"City\", y=\"Cost of Living Index\")\n",
    "fig.show()"
   ]
  },
  {
   "cell_type": "code",
   "execution_count": 0,
   "metadata": {
    "collapsed": false
   },
   "outputs": [
   ],
   "source": [
    ">>> from sklearn import svm, datasets\n",
    ">>> from sklearn.model_selection import GridSearchCV\n",
    ">>> iris = datasets.load_iris()\n",
    ">>> parameters = {'kernel':('linear', 'rbf'), 'C':[1, 10]}\n",
    ">>> svc = svm.SVC()\n",
    ">>> clf = GridSearchCV(svc, parameters)\n",
    ">>> clf.fit(iris.data, iris.target)\n",
    "GridSearchCV(estimator=SVC(),\n",
    "             param_grid={'C': [1, 10], 'kernel': ('linear', 'rbf')})\n",
    ">>> sorted(clf.cv_results_.keys())\n",
    "['mean_fit_time', 'mean_score_time', 'mean_test_score',...\n",
    " 'param_C', 'param_kernel', 'params',...\n",
    " 'rank_test_score', 'split0_test_score',...\n",
    " 'split2_test_score', ...\n",
    " 'std_fit_time', 'std_score_time', 'std_test_score']"
   ]
  }
 ],
 "metadata": {
  "kernelspec": {
   "display_name": "Python (ds_env)",
   "language": "python",
   "metadata": {
    "debugger": true
   },
   "name": "ds_env",
   "resource_dir": "/projects/4ecc52f5-f80b-4322-9a0d-563e88b9d2a6/.local/share/jupyter/kernels/ds_env"
  },
  "language_info": {
   "codemirror_mode": {
    "name": "ipython",
    "version": 3
   },
   "file_extension": ".py",
   "mimetype": "text/x-python",
   "name": "python",
   "nbconvert_exporter": "python",
   "pygments_lexer": "ipython3",
   "version": "3.8.13"
  }
 },
 "nbformat": 4,
 "nbformat_minor": 4
}